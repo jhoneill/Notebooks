{
  "cells": [
    {
      "cell_type": "markdown",
      "source": [
        "# .NET Interactive ExtensionLab: SQL Connections\r\n",
        "\r\n",
        "This sample demonstrates how to use the `#!connect` extension\r\n",
        "\r\n",
        "The output won't display until extension lab package is loaded"
      ],
      "metadata": {}
    },
    {
      "cell_type": "code",
      "execution_count": null,
      "source": [
        "#r \"nuget:Microsoft.Data.Sqlite,3.1.7\""
      ],
      "outputs": [],
      "metadata": {
        "dotnet_interactive": {
          "language": "csharp"
        }
      }
    },
    {
      "cell_type": "markdown",
      "source": [
        "## Install our ExtensionLab NuGet package"
      ],
      "metadata": {}
    },
    {
      "cell_type": "code",
      "execution_count": null,
      "source": [
        "#r \"nuget:Microsoft.DotNet.Interactive.ExtensionLab, *-*\""
      ],
      "outputs": [],
      "metadata": {
        "dotnet_interactive": {
          "language": "csharp"
        }
      }
    },
    {
      "cell_type": "markdown",
      "source": [
        "Installing the `ExtensionLab` brings in some new magic commands including two additional verbs for the `#!connect` command, which you can see by running help for it."
      ],
      "metadata": {}
    },
    {
      "cell_type": "markdown",
      "source": [
        "# Now, we're ready to work with a SQL database\n",
        "\n",
        "SQLite allows us to create a database in memory using the `Mode=Memory` parameter in our connection string. This is a quick and convenient approach for the sake of demonstration."
      ],
      "metadata": {}
    },
    {
      "cell_type": "code",
      "execution_count": null,
      "source": [
        "#!connect sqlite --kernel-name collections \"Data Source=C:\\Users\\P10506111\\AppData\\Local\\Temp\\collectionsSQLite;\""
      ],
      "outputs": [],
      "metadata": {
        "dotnet_interactive": {
          "language": "csharp"
        }
      }
    },
    {
      "cell_type": "code",
      "execution_count": null,
      "source": [
        "#!sql-collections \r\n",
        "SELECT name FROM sqlite_master \r\n",
        "WHERE type IN ('table','view') \r\n",
        "AND name NOT LIKE 'sqlite_%'\r\n",
        "ORDER BY 1;"
      ],
      "outputs": [],
      "metadata": {
        "dotnet_interactive": {
          "language": "csharp"
        }
      }
    },
    {
      "cell_type": "code",
      "execution_count": null,
      "source": [
        "#!sql-collections\r\n",
        " select count(parent_id), collections.title as CollectionTitle from collections_items_relationship \r\n",
        " join items on collections_items_relationship.item_id = items.id  \r\n",
        " Join collections on  collections_items_relationship.parent_id = collections.id\r\n",
        " group by collections.id"
      ],
      "outputs": [],
      "metadata": {
        "dotnet_interactive": {
          "language": "csharp"
        }
      }
    }
  ],
  "metadata": {
    "kernelspec": {
      "display_name": ".NET (C#)",
      "language": "C#",
      "name": ".net-csharp"
    },
    "language_info": {
      "file_extension": ".cs",
      "mimetype": "text/x-csharp",
      "name": "C#",
      "pygments_lexer": "csharp",
      "version": "8.0"
    }
  },
  "nbformat": 4,
  "nbformat_minor": 4
}