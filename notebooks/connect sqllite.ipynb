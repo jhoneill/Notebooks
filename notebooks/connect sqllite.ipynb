{
  "cells": [
    {
      "cell_type": "markdown",
      "metadata": {},
      "source": [
        "# .NET Interactive ExtensionLab: SQL Connections\n",
        "\n",
        "This sample demonstrates how to use the `#!connect` extension"
      ]
    },
    {
      "cell_type": "code",
      "execution_count": 1,
      "metadata": {
        "dotnet_interactive": {
          "language": "csharp"
        }
      },
      "source": [
        "#r \"nuget:Microsoft.Data.Sqlite,3.1.7\""
      ],
      "outputs": [
        {
          "output_type": "execute_result",
          "data": {
            "text/plain": "Installed package Microsoft.Data.Sqlite version 3.1.7"
          },
          "execution_count": 1,
          "metadata": {}
        }
      ]
    },
    {
      "cell_type": "markdown",
      "metadata": {},
      "source": [
        "## Install our ExtensionLab NuGet package"
      ]
    },
    {
      "cell_type": "code",
      "execution_count": 1,
      "metadata": {
        "dotnet_interactive": {
          "language": "csharp"
        }
      },
      "source": [
        "#r \"nuget:Microsoft.DotNet.Interactive.ExtensionLab, *-*\""
      ],
      "outputs": [
        {
          "output_type": "execute_result",
          "data": {
            "text/plain": "Installed package Microsoft.DotNet.Interactive.ExtensionLab version 1.0.0-beta.21215.5"
          },
          "execution_count": 1,
          "metadata": {}
        },
        {
          "output_type": "execute_result",
          "data": {
            "text/markdown": "Loading extensions from `Microsoft.DotNet.Interactive.ExtensionLab.dll`"
          },
          "execution_count": 1,
          "metadata": {}
        },
        {
          "output_type": "execute_result",
          "data": {
            "text/html": "<details><summary>Create strongly-typed dataframes using<code>#!linqify</code>.</summary>\r\n    <p>The <code>#!linqify</code> magic command replaces a <a href=\"https://www.nuget.org/packages/Microsoft.Data.Analysis/\"><code>Microsoft.Data.Analysis.DataFrame</code></a> variable with a generated, strongly-typed data frame, allowing the use of LINQ operations over the contained data.</p>\r\n    </details>"
          },
          "execution_count": 1,
          "metadata": {}
        },
        {
          "output_type": "execute_result",
          "data": {
            "text/html": "<details><summary>Inspect code compilation details using the <code>#!inspect</code> magic command.</summary>\r\n    <p>The <code>#!inspect</code> magic command allows you to see the C# decompilation, IL, and JIT Asm for the code in a C# cell.</p>\r\n    <img src=\"https://user-images.githubusercontent.com/547415/109560515-d5749a00-7a90-11eb-9fa3-51b737345bb4.png\" width=\"75%\" />\r\n    </details>"
          },
          "execution_count": 1,
          "metadata": {}
        },
        {
          "output_type": "execute_result",
          "data": {
            "text/html": "<details><summary>Explain things visually using the <a href=\"https://mermaid-js.github.io/mermaid/\">Mermaid language</a>.</summary>\r\n    <p>This extension adds a new kernel that can render Mermaid markdown. This code will render a sequence diagram:</p>\r\n<pre>\r\n    <code>\r\n#!mermaid\r\nsequenceDiagram\r\n    participant Alice\r\n    participant Bob\r\n    Alice->>John: Hello John, how are you?\r\n    loop Healthcheck\r\n        John->>John: Fight against hypochondria\r\n    end\r\n    Note right of John: Rational thoughts <br/>prevail!\r\n    John-->>Alice: Great!\r\n    John->>Bob: How about you?\r\n    Bob-->>John: Jolly good!\r\n    </code>\r\n</pre>\r\n<p>This extension also adds gestures to render a class diagram from any type. Use the <code>ExploreWithUmlClassDiagram().Display();</code> extension method on <code>System.Type</code> to render its class diagram.</p>\r\n\r\n<pre>\r\n    <code>\r\ntypeof(List<string>).ExploreWithUmlClassDiagram().Display();\r\n    </code>\r\n</pre>\r\n    <img src=\"https://mermaid-js.github.io/mermaid/img/header.png\" width=\"30%\">\r\n    </details>"
          },
          "execution_count": 1,
          "metadata": {}
        },
        {
          "output_type": "execute_result",
          "data": {
            "text/html": "<details><summary>Explore data visually using the <a href=\"https://github.com/nteract/data-explorer\">nteract Data Explorer</a>.</summary>\r\n    <p>This extension adds the ability to sort, filter, and visualize data using the <a href=\"https://github.com/nteract/data-explorer\">nteract Data Explorer</a>. Use the <code>ExploreWithNteract()</code> extension method with variables of type <code>JsonElement</code>, <code>IEnumerable<T></code> or <code>IDataView</code> to render the data explorer.</p>\r\n<pre>\r\n    <code>\r\n    using Microsoft.Data.Analysis;\r\n    using System.Collections.Generic;\r\n    using Microsoft.ML;\r\n\r\n    var dataFrame = DataFrame.LoadCsv(\"./Data.csv\");\r\n\r\n    dataFrame.ExploreWithNteract().Display();\r\n    </code>\r\n</pre>\r\n    <img src=\"https://user-images.githubusercontent.com/547415/109559345-621e5880-7a8f-11eb-8b98-d4feeaac116f.png\" width=\"75%\">\r\n    </details>"
          },
          "execution_count": 1,
          "metadata": {}
        },
        {
          "output_type": "execute_result",
          "data": {
            "text/html": "<details><summary>Use the <code>#!record</code> magic command to keep a transcript of the code you run.</summary>\r\n    <p>Once you enable transcripts using <code>#!record</code>, each code submission (including re-running cells) is recorded in the specified file. The JSON format used is the same format recognized by the .NET Interactive <code>stdio</code> and <code>http</code> APIs and can be used to replay a notebook session via automation.</p>\r\n    <img src=\"https://user-images.githubusercontent.com/547415/109562409-343b1300-7a93-11eb-8ebf-79bb6af028cf.png\" width=\"75%\" />\r\n    </details>"
          },
          "execution_count": 1,
          "metadata": {}
        },
        {
          "output_type": "execute_result",
          "data": {
            "text/html": "<details><summary>Explore data visually using the <a href=\"https://github.com/microsoft/SandDance\">SandDance Explorer</a>.</summary>\r\n    <p>This extension adds the ability to sort, filter, and visualize data using the <a href=\"https://github.com/microsoft/SandDance\">SandDance Explorer</a>. Use the <code>ExploreWithSandDance()</code> extension method with variables of type <code>JsonElement</code>, <code>IEnumerable<T></code> or <code>IDataView</code> to render the data explorer.</p>\r\n<pre>\r\n    <code>\r\n    using Microsoft.Data.Analysis;\r\n    using System.Collections.Generic;\r\n    using Microsoft.ML;\r\n\r\n    var dataFrame = DataFrame.LoadCsv(\"./Data.csv\");\r\n\r\n    dataFrame.ExploreWithSandDance().Display();\r\n    </code>\r\n</pre>\r\n    <img src=\"https://user-images.githubusercontent.com/11507384/54236654-52d42800-44d1-11e9-859e-6c5d297a46d2.gif\" width=\"30%\">\r\n    </details>"
          },
          "execution_count": 1,
          "metadata": {}
        },
        {
          "output_type": "execute_result",
          "data": {
            "text/html": "<details><summary>Query SQLite databases.</summary>\r\n    <p>This extension adds support for connecting to SQLite databases using the <code>#!connect sqlite</code> magic command. For more information, run a cell using the <code>#!sql</code> magic command.</p>\r\n    </details>"
          },
          "execution_count": 1,
          "metadata": {}
        }
      ]
    },
    {
      "cell_type": "markdown",
      "metadata": {},
      "source": [
        "Installing the `ExtensionLab` brings in some new magic commands including two additional verbs for the `#!connect` command, which you can see by running help for it."
      ]
    },
    {
      "cell_type": "markdown",
      "metadata": {},
      "source": [
        "# Now, we're ready to work with a SQL database\n",
        "\n",
        "SQLite allows us to create a database in memory using the `Mode=Memory` parameter in our connection string. This is a quick and convenient approach for the sake of demonstration."
      ]
    },
    {
      "cell_type": "code",
      "execution_count": 1,
      "metadata": {
        "dotnet_interactive": {
          "language": "csharp"
        }
      },
      "source": [
        "#!connect sqlite --kernel-name collections \"Data Source=C:\\Users\\James\\AppData\\Local\\Temp\\collectionsSQLite;\""
      ],
      "outputs": [
        {
          "output_type": "execute_result",
          "data": {
            "text/plain": "Kernel added: #!sql-collections"
          },
          "execution_count": 1,
          "metadata": {}
        }
      ]
    },
    {
      "cell_type": "code",
      "execution_count": 1,
      "metadata": {
        "dotnet_interactive": {
          "language": "csharp"
        }
      },
      "source": [
        "#!sql-collections \n",
        "SELECT name FROM sqlite_master \n",
        "WHERE type IN ('table','view') \n",
        "AND name NOT LIKE 'sqlite_%'\n",
        "ORDER BY 1;"
      ],
      "outputs": [
        {
          "output_type": "execute_result",
          "data": {
            "text/html": "<div style=\"background-color:white;\">\r\n<div id=\"e87e299567bf429ea05bd733b1cd62dd\" style=\"height: 100ch ;margin: 2px;\">\r\n</div>\r\n<script type=\"text/javascript\">\r\n\r\nlet renderNteractDataExplorer_e87e299567bf429ea05bd733b1cd62dd = () => {\r\n\r\n    configureRequireFromExtension('nteract','1.0.0')(['nteract/nteractapi'], (nteract) => {\r\n\r\n        nteract.createDataExplorer({\r\n            data: {\r\n  \"profile\": \"tabular-data-resource\",\r\n  \"schema\": {\r\n    \"primaryKey\": [],\r\n    \"fields\": [\r\n      {\r\n        \"name\": \"name\",\r\n        \"type\": \"string\"\r\n      }\r\n    ]\r\n  },\r\n  \"data\": [\r\n    {\r\n      \"name\": \"collections\"\r\n    },\r\n    {\r\n      \"name\": \"collections_items_relationship\"\r\n    },\r\n    {\r\n      \"name\": \"collections_sync\"\r\n    },\r\n    {\r\n      \"name\": \"comments\"\r\n    },\r\n    {\r\n      \"name\": \"favicons\"\r\n    },\r\n    {\r\n      \"name\": \"items\"\r\n    },\r\n    {\r\n      \"name\": \"items_offline_data\"\r\n    },\r\n    {\r\n      \"name\": \"items_sync\"\r\n    },\r\n    {\r\n      \"name\": \"meta\"\r\n    }\r\n  ]\r\n},\r\n            container: document.getElementById(\"e87e299567bf429ea05bd733b1cd62dd\")\r\n        });\r\n    },\r\n    (error) => {\r\n        console.log(error);\r\n    });\r\n};\r\n// ensure `require` is available globally\r\nif ((typeof(require) !==  typeof(Function)) || (typeof(require.config) !== typeof(Function))) {\r\n    let require_script = document.createElement('script');\r\n    require_script.setAttribute('src', 'https://cdnjs.cloudflare.com/ajax/libs/require.js/2.3.6/require.min.js');\r\n    require_script.setAttribute('type', 'text/javascript');\r\n    \r\n    \r\n    require_script.onload = function() {\r\n        renderNteractDataExplorer_e87e299567bf429ea05bd733b1cd62dd();\r\n    };\r\n\r\n    document.getElementsByTagName('head')[0].appendChild(require_script);\r\n}\r\nelse {\r\n    renderNteractDataExplorer_e87e299567bf429ea05bd733b1cd62dd();\r\n}\r\n\r\n </script>\r\n</div>\r\n"
          },
          "execution_count": 1,
          "metadata": {}
        }
      ]
    },
    {
      "cell_type": "code",
      "execution_count": 1,
      "metadata": {
        "dotnet_interactive": {
          "language": "csharp"
        }
      },
      "source": [
        "#!sql-collections\n",
        " select count(parent_id), collections.title as CollectionTitle from collections_items_relationship \n",
        " join items on collections_items_relationship.item_id = items.id  \n",
        " Join collections on  collections_items_relationship.parent_id = collections.id\n",
        " group by collections.id"
      ],
      "outputs": [
        {
          "output_type": "execute_result",
          "data": {
            "text/html": "<div style=\"background-color:white;\">\r\n<div id=\"271cbd76f7cb41898d0fd7416bc61543\" style=\"height: 100ch ;margin: 2px;\">\r\n</div>\r\n<script type=\"text/javascript\">\r\n\r\nlet renderNteractDataExplorer_271cbd76f7cb41898d0fd7416bc61543 = () => {\r\n\r\n    configureRequireFromExtension('nteract','1.0.0')(['nteract/nteractapi'], (nteract) => {\r\n\r\n        nteract.createDataExplorer({\r\n            data: {\r\n  \"profile\": \"tabular-data-resource\",\r\n  \"schema\": {\r\n    \"primaryKey\": [],\r\n    \"fields\": [\r\n      {\r\n        \"name\": \"count(parent_id)\",\r\n        \"type\": \"integer\"\r\n      },\r\n      {\r\n        \"name\": \"CollectionTitle\",\r\n        \"type\": \"string\"\r\n      }\r\n    ]\r\n  },\r\n  \"data\": [\r\n    {\r\n      \"count(parent_id)\": 45,\r\n      \"CollectionTitle\": \"Azure notes\"\r\n    },\r\n    {\r\n      \"count(parent_id)\": 23,\r\n      \"CollectionTitle\": \"Training Pile\"\r\n    },\r\n    {\r\n      \"count(parent_id)\": 1,\r\n      \"CollectionTitle\": \"AzDo Site\"\r\n    },\r\n    {\r\n      \"count(parent_id)\": 30,\r\n      \"CollectionTitle\": \"Odds and ends\"\r\n    },\r\n    {\r\n      \"count(parent_id)\": 6,\r\n      \"CollectionTitle\": \"RDP Notes\"\r\n    },\r\n    {\r\n      \"count(parent_id)\": 42,\r\n      \"CollectionTitle\": \"Azure training\"\r\n    },\r\n    {\r\n      \"count(parent_id)\": 6,\r\n      \"CollectionTitle\": \"PowerApps\"\r\n    },\r\n    {\r\n      \"count(parent_id)\": 9,\r\n      \"CollectionTitle\": \"bacpac and sql\"\r\n    }\r\n  ]\r\n},\r\n            container: document.getElementById(\"271cbd76f7cb41898d0fd7416bc61543\")\r\n        });\r\n    },\r\n    (error) => {\r\n        console.log(error);\r\n    });\r\n};\r\n// ensure `require` is available globally\r\nif ((typeof(require) !==  typeof(Function)) || (typeof(require.config) !== typeof(Function))) {\r\n    let require_script = document.createElement('script');\r\n    require_script.setAttribute('src', 'https://cdnjs.cloudflare.com/ajax/libs/require.js/2.3.6/require.min.js');\r\n    require_script.setAttribute('type', 'text/javascript');\r\n    \r\n    \r\n    require_script.onload = function() {\r\n        renderNteractDataExplorer_271cbd76f7cb41898d0fd7416bc61543();\r\n    };\r\n\r\n    document.getElementsByTagName('head')[0].appendChild(require_script);\r\n}\r\nelse {\r\n    renderNteractDataExplorer_271cbd76f7cb41898d0fd7416bc61543();\r\n}\r\n\r\n </script>\r\n</div>\r\n"
          },
          "execution_count": 1,
          "metadata": {}
        }
      ]
    }
  ],
  "metadata": {
    "kernelspec": {
      "display_name": ".NET (C#)",
      "language": "C#",
      "name": ".net-csharp"
    },
    "language_info": {
      "file_extension": ".cs",
      "mimetype": "text/x-csharp",
      "name": "C#",
      "pygments_lexer": "csharp",
      "version": "8.0"
    }
  },
  "nbformat": 4,
  "nbformat_minor": 4
}