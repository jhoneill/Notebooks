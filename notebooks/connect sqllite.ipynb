{
 "cells": [
  {
   "cell_type": "markdown",
   "metadata": {},
   "source": [
    "# .NET Interactive ExtensionLab: SQL Connections\n",
    "\n",
    "This sample demonstrates how to use the `#!connect` extension"
   ]
  },
  {
   "cell_type": "code",
   "execution_count": 1,
   "metadata": {},
   "source": [
    "#r \"nuget:Microsoft.Data.Sqlite,3.1.7\""
   ],
   "outputs": [
    {
     "output_type": "execute_result",
     "data": {
      "text/plain": "Installed package Microsoft.Data.Sqlite version 3.1.7"
     },
     "execution_count": 1,
     "metadata": {}
    }
   ]
  },
  {
   "cell_type": "markdown",
   "metadata": {},
   "source": [
    "## Install our ExtensionLab NuGet package"
   ]
  },
  {
   "cell_type": "code",
   "execution_count": 1,
   "metadata": {},
   "source": [
    "#r \"nuget:Microsoft.DotNet.Interactive.ExtensionLab, *-*\""
   ],
   "outputs": [
    {
     "output_type": "execute_result",
     "data": {
      "text/plain": "Installed package Microsoft.DotNet.Interactive.ExtensionLab version 1.0.0-beta.20568.1"
     },
     "execution_count": 1,
     "metadata": {}
    },
    {
     "output_type": "execute_result",
     "data": {
      "text/plain": "Loaded Microsoft.DotNet.Interactive.ExtensionLab.DataFrameKernelExtension"
     },
     "execution_count": 1,
     "metadata": {}
    },
    {
     "output_type": "execute_result",
     "data": {
      "text/markdown": "Added the `#!linqify` magic command."
     },
     "execution_count": 1,
     "metadata": {}
    },
    {
     "output_type": "execute_result",
     "data": {
      "text/plain": "Loaded Microsoft.DotNet.Interactive.ExtensionLab.InspectExtension"
     },
     "execution_count": 1,
     "metadata": {}
    },
    {
     "output_type": "execute_result",
     "data": {
      "text/plain": "Loaded Microsoft.DotNet.Interactive.ExtensionLab.NteractKernelExtension"
     },
     "execution_count": 1,
     "metadata": {}
    },
    {
     "output_type": "execute_result",
     "data": {
      "text/markdown": "Added the `Explore` extension method, which you can use with `IEnumerable<T>` and `IDataView` to view data using the [nteract Data Explorer](https://github.com/nteract/data-explorer)."
     },
     "execution_count": 1,
     "metadata": {}
    },
    {
     "output_type": "execute_result",
     "data": {
      "text/plain": "Loaded Microsoft.DotNet.Interactive.ExtensionLab.RecordTranscriptExtension"
     },
     "execution_count": 1,
     "metadata": {}
    },
    {
     "output_type": "execute_result",
     "data": {
      "text/plain": "Loaded Microsoft.DotNet.Interactive.ExtensionLab.SqlKernelsExtension"
     },
     "execution_count": 1,
     "metadata": {}
    },
    {
     "output_type": "execute_result",
     "data": {
      "text/markdown": "\r\nAdded `mssql` and `sqlite` to the connection types available using the [`#!connect`](https://github.com/dotnet/interactive/blob/main/docs/connect.md) magic command."
     },
     "execution_count": 1,
     "metadata": {}
    }
   ]
  },
  {
   "cell_type": "markdown",
   "metadata": {},
   "source": [
    "Installing the `ExtensionLab` brings in some new magic commands including two additional verbs for the `#!connect` command, which you can see by running help for it."
   ]
  },
  {
   "cell_type": "markdown",
   "metadata": {},
   "source": [
    "# Now, we're ready to work with a SQL database\n",
    "\n",
    "SQLite allows us to create a database in memory using the `Mode=Memory` parameter in our connection string. This is a quick and convenient approach for the sake of demonstration."
   ]
  },
  {
   "cell_type": "code",
   "execution_count": 1,
   "metadata": {},
   "source": [
    "#!connect sqlite --kernel-name collections \"Data Source=C:\\Users\\mcp\\AppData\\Local\\Temp\\collectionsSQLite;\""
   ],
   "outputs": [
    {
     "output_type": "execute_result",
     "data": {
      "text/plain": "Kernel added: #!collections"
     },
     "execution_count": 1,
     "metadata": {}
    }
   ]
  },
  {
   "cell_type": "code",
   "execution_count": 1,
   "metadata": {},
   "source": [
    "#!collections \n",
    "SELECT name FROM sqlite_master \n",
    "WHERE type IN ('table','view') \n",
    "AND name NOT LIKE 'sqlite_%'\n",
    "ORDER BY 1;"
   ],
   "outputs": [
    {
     "output_type": "execute_result",
     "data": {
      "text/html": "<div>\r\n<div id=\"dd4c78985a0d4b3baf216a99ae3536ee\" style=\"height: 100ch ;margin: 2px;\">\r\n</div>\r\n<script type=\"text/javascript\">\r\n\r\nlet renderDataExplorer_dd4c78985a0d4b3baf216a99ae3536ee = () => {\r\n\r\n    configureRequireFromExtension('nteract','1.0.0')(['nteract/index'], (nteract) => {\r\n\r\n        nteract.createDataExplorer({\r\n            data: {\r\n  \"schema\": {\r\n    \"primaryKey\": [],\r\n    \"fields\": [\r\n      {\r\n        \"name\": \"name\",\r\n        \"type\": \"string\"\r\n      }\r\n    ]\r\n  },\r\n  \"data\": [\r\n    {\r\n      \"name\": \"collections\"\r\n    },\r\n    {\r\n      \"name\": \"collections_items_relationship\"\r\n    },\r\n    {\r\n      \"name\": \"collections_sync\"\r\n    },\r\n    {\r\n      \"name\": \"comments\"\r\n    },\r\n    {\r\n      \"name\": \"favicons\"\r\n    },\r\n    {\r\n      \"name\": \"items\"\r\n    },\r\n    {\r\n      \"name\": \"items_sync\"\r\n    },\r\n    {\r\n      \"name\": \"meta\"\r\n    }\r\n  ]\r\n},\r\n            container: document.getElementById(\"dd4c78985a0d4b3baf216a99ae3536ee\")\r\n        });\r\n    },\r\n    (error) => {\r\n        console.log(error);\r\n    });\r\n};\r\n// ensure `require` is available globally\r\nif ((typeof(require) !==  typeof(Function)) || (typeof(require.config) !== typeof(Function))) {\r\n    let require_script = document.createElement('script');\r\n    require_script.setAttribute('src', 'https://cdnjs.cloudflare.com/ajax/libs/require.js/2.3.6/require.min.js');\r\n    require_script.setAttribute('type', 'text/javascript');\r\n    \r\n    \r\n    require_script.onload = function() {\r\n        renderDataExplorer_dd4c78985a0d4b3baf216a99ae3536ee();\r\n    };\r\n\r\n    document.getElementsByTagName('head')[0].appendChild(require_script);\r\n}\r\nelse {\r\n    renderDataExplorer_dd4c78985a0d4b3baf216a99ae3536ee();\r\n}\r\n\r\n </script>\r\n</div>\r\n"
     },
     "execution_count": 1,
     "metadata": {}
    }
   ]
  },
  {
   "cell_type": "code",
   "execution_count": 1,
   "metadata": {},
   "source": [
    "#!collections\n",
    " select count(parent_id), collections.title as CollectionTitle from collections_items_relationship \n",
    " join items on collections_items_relationship.item_id = items.id  \n",
    " Join collections on  collections_items_relationship.parent_id = collections.id\n",
    " group by collections.id"
   ],
   "outputs": [
    {
     "output_type": "execute_result",
     "data": {
      "text/html": "<div>\r\n<div id=\"233cfc444d8844e0adfea0b681bf84d2\" style=\"height: 100ch ;margin: 2px;\">\r\n</div>\r\n<script type=\"text/javascript\">\r\n\r\nlet renderDataExplorer_233cfc444d8844e0adfea0b681bf84d2 = () => {\r\n\r\n    configureRequireFromExtension('nteract','1.0.0')(['nteract/index'], (nteract) => {\r\n\r\n        nteract.createDataExplorer({\r\n            data: {\r\n  \"schema\": {\r\n    \"primaryKey\": [],\r\n    \"fields\": [\r\n      {\r\n        \"name\": \"count(parent_id)\",\r\n        \"type\": \"integer\"\r\n      },\r\n      {\r\n        \"name\": \"CollectionTitle\",\r\n        \"type\": \"string\"\r\n      }\r\n    ]\r\n  },\r\n  \"data\": [\r\n    {\r\n      \"count(parent_id)\": 8,\r\n      \"CollectionTitle\": \"venues\"\r\n    },\r\n    {\r\n      \"count(parent_id)\": 20,\r\n      \"CollectionTitle\": \"Azure functions\"\r\n    },\r\n    {\r\n      \"count(parent_id)\": 3,\r\n      \"CollectionTitle\": \"Dark Skies\"\r\n    },\r\n    {\r\n      \"count(parent_id)\": 19,\r\n      \"CollectionTitle\": \"Drone\"\r\n    },\r\n    {\r\n      \"count(parent_id)\": 80,\r\n      \"CollectionTitle\": \"Azure\"\r\n    },\r\n    {\r\n      \"count(parent_id)\": 5,\r\n      \"CollectionTitle\": \"jobs\"\r\n    },\r\n    {\r\n      \"count(parent_id)\": 50,\r\n      \"CollectionTitle\": \"New collection\"\r\n    }\r\n  ]\r\n},\r\n            container: document.getElementById(\"233cfc444d8844e0adfea0b681bf84d2\")\r\n        });\r\n    },\r\n    (error) => {\r\n        console.log(error);\r\n    });\r\n};\r\n// ensure `require` is available globally\r\nif ((typeof(require) !==  typeof(Function)) || (typeof(require.config) !== typeof(Function))) {\r\n    let require_script = document.createElement('script');\r\n    require_script.setAttribute('src', 'https://cdnjs.cloudflare.com/ajax/libs/require.js/2.3.6/require.min.js');\r\n    require_script.setAttribute('type', 'text/javascript');\r\n    \r\n    \r\n    require_script.onload = function() {\r\n        renderDataExplorer_233cfc444d8844e0adfea0b681bf84d2();\r\n    };\r\n\r\n    document.getElementsByTagName('head')[0].appendChild(require_script);\r\n}\r\nelse {\r\n    renderDataExplorer_233cfc444d8844e0adfea0b681bf84d2();\r\n}\r\n\r\n </script>\r\n</div>\r\n"
     },
     "execution_count": 1,
     "metadata": {}
    }
   ]
  },
  {
   "cell_type": "markdown",
   "metadata": {},
   "source": [
    ""
   ]
  }
 ],
 "metadata": {
  "kernelspec": {
   "display_name": ".NET (C#)",
   "language": "C#",
   "name": ".net-csharp"
  },
  "language_info": {
   "file_extension": ".cs",
   "mimetype": "text/x-csharp",
   "name": "C#",
   "pygments_lexer": "csharp",
   "version": "8.0"
  }
 },
 "nbformat": 4,
 "nbformat_minor": 4
}