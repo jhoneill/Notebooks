{
  "cells": [
    {
      "cell_type": "markdown",
      "metadata": {},
      "source": [
        "# .NET Interactive ExtensionLab: SQL Connections\n",
        "\n",
        "This sample demonstrates how to use the `#!connect` extension\n",
        "\n",
        "The output won't display until extension lab package is loaded"
      ]
    },
    {
      "cell_type": "code",
      "execution_count": null,
      "metadata": {
        "dotnet_interactive": {
          "language": "csharp"
        }
      },
      "outputs": [
        {
          "data": {
            "text/html": [
              "<div><div></div><div></div><div><strong>Installed Packages</strong><ul><li><span>Microsoft.Data.Sqlite, 3.1.7</span></li></ul></div></div>"
            ]
          },
          "metadata": {},
          "output_type": "display_data"
        }
      ],
      "source": [
        "#r \"nuget:Microsoft.Data.Sqlite,3.1.7\""
      ]
    },
    {
      "cell_type": "markdown",
      "metadata": {},
      "source": [
        "## Install our ExtensionLab NuGet package"
      ]
    },
    {
      "cell_type": "code",
      "execution_count": null,
      "metadata": {
        "dotnet_interactive": {
          "language": "csharp"
        }
      },
      "outputs": [
        {
          "data": {
            "text/html": [
              "<div><div></div><div></div><div><strong>Installed Packages</strong><ul><li><span>Microsoft.DotNet.Interactive.ExtensionLab, 1.0.0-beta.21606.1</span></li></ul></div></div>"
            ]
          },
          "metadata": {},
          "output_type": "display_data"
        },
        {
          "data": {
            "text/markdown": [
              "Loading extensions from `Microsoft.DotNet.Interactive.ExtensionLab.dll`"
            ]
          },
          "metadata": {},
          "output_type": "display_data"
        },
        {
          "data": {
            "text/html": [
              "<details><summary>Create strongly-typed dataframes using<code>#!linqify</code>.</summary>\r\n",
              "    <p>The <code>#!linqify</code> magic command replaces a <a href=\"https://www.nuget.org/packages/Microsoft.Data.Analysis/\"><code>Microsoft.Data.Analysis.DataFrame</code></a> variable with a generated, strongly-typed data frame, allowing the use of LINQ operations over the contained data.</p>\r\n",
              "    </details>"
            ]
          },
          "metadata": {},
          "output_type": "display_data"
        },
        {
          "data": {
            "text/html": [
              "<details><summary>Inspect code compilation details using the <code>#!inspect</code> magic command.</summary>\r\n",
              "    <p>The <code>#!inspect</code> magic command allows you to see the C# decompilation, IL, and JIT Asm for the code in a C# cell.</p>\r\n",
              "    <img src=\"https://user-images.githubusercontent.com/547415/109560515-d5749a00-7a90-11eb-9fa3-51b737345bb4.png\" width=\"75%\" />\r\n",
              "    </details>"
            ]
          },
          "metadata": {},
          "output_type": "display_data"
        },
        {
          "data": {
            "text/html": [
              "<details><summary>Explain things visually using the <a href=\"https://mermaid-js.github.io/mermaid/\">Mermaid language</a>.</summary>\r\n",
              "    <p>This extension adds a new kernel that can render Mermaid markdown. This code will render a sequence diagram:</p>\r\n",
              "<pre>\r\n",
              "    <code>\r\n",
              "#!mermaid\r\n",
              "sequenceDiagram\r\n",
              "    participant Alice\r\n",
              "    participant Bob\r\n",
              "    Alice->>John: Hello John, how are you?\r\n",
              "    loop Healthcheck\r\n",
              "        John->>John: Fight against hypochondria\r\n",
              "    end\r\n",
              "    Note right of John: Rational thoughts prevail!\r\n",
              "    John-->>Alice: Great!\r\n",
              "    John->>Bob: How about you?\r\n",
              "    Bob-->>John: Jolly good!\r\n",
              "    </code>\r\n",
              "</pre>\r\n",
              "<p>This extension also adds gestures to render a class diagram from any type. Use the <code>ExploreWithUmlClassDiagram().Display();</code> extension method on <code>System.Type</code> to render its class diagram.</p>\r\n",
              "\r\n",
              "<pre>\r\n",
              "    <code>\r\n",
              "typeof(List&lt;string&gt;).ExploreWithUmlClassDiagram().Display();\r\n",
              "    </code>\r\n",
              "</pre>\r\n",
              "    <img src=\"https://mermaid-js.github.io/mermaid/img/header.png\" width=\"30%\">\r\n",
              "    </details>"
            ]
          },
          "metadata": {},
          "output_type": "display_data"
        },
        {
          "data": {
            "text/markdown": [
              "Loading extensions from `Microsoft.Data.Analysis.Interactive.dll`"
            ]
          },
          "metadata": {},
          "output_type": "display_data"
        },
        {
          "data": {
            "text/html": [
              "<details><summary>Explore data visually using the <a href=\"https://github.com/nteract/data-explorer\">nteract Data Explorer</a>.</summary>\r\n",
              "    <p>This extension adds the ability to sort, filter, and visualize data using the <a href=\"https://github.com/nteract/data-explorer\">nteract Data Explorer</a>. Use the <code>ExploreWithNteract()</code> extension method with variables of type <code>JsonElement</code>, <code>IEnumerable<T></code> or <code>IDataView</code> to render the data explorer.</p>\r\n",
              "<pre>\r\n",
              "    <code>\r\n",
              "    using Microsoft.Data.Analysis;\r\n",
              "    using System.Collections.Generic;\r\n",
              "    using Microsoft.ML;\r\n",
              "\r\n",
              "    var dataFrame = DataFrame.LoadCsv(\"./Data.csv\");\r\n",
              "\r\n",
              "    dataFrame.ExploreWithNteract().Display();\r\n",
              "    </code>\r\n",
              "</pre>\r\n",
              "\r\n",
              "<p>To set the nteract Data Explorer use the following code</p>\r\n",
              "<pre>\r\n",
              "    <code>\r\n",
              "    DataExplorer.SetDefault<TabularDataResource, NteractDataExplorer>();\r\n",
              "    </code>\r\n",
              "</pre>\r\n",
              "    <img src=\"https://user-images.githubusercontent.com/547415/109559345-621e5880-7a8f-11eb-8b98-d4feeaac116f.png\" width=\"75%\">\r\n",
              "    </details>"
            ]
          },
          "metadata": {},
          "output_type": "display_data"
        },
        {
          "data": {
            "text/html": [
              "<details><summary>Use the <code>#!record</code> magic command to keep a transcript of the code you run.</summary>\r\n",
              "    <p>Once you enable transcripts using <code>#!record</code>, each code submission (including re-running cells) is recorded in the specified file. The JSON format used is the same format recognized by the .NET Interactive <code>stdio</code> and <code>http</code> APIs and can be used to replay an interactive session via automation.</p>\r\n",
              "    <img src=\"https://user-images.githubusercontent.com/547415/109562409-343b1300-7a93-11eb-8ebf-79bb6af028cf.png\" width=\"75%\" />\r\n",
              "    </details>"
            ]
          },
          "metadata": {},
          "output_type": "display_data"
        },
        {
          "data": {
            "text/html": [
              "<details><summary>Explore data visually using the <a href=\"https://github.com/microsoft/SandDance\">SandDance Explorer</a>.</summary>\r\n",
              "    <p>This extension adds the ability to sort, filter, and visualize data using the <a href=\"https://github.com/microsoft/SandDance\">SandDance Explorer</a>. Use the <code>ExploreWithSandDance()</code> extension method with variables of type <code>JsonElement</code>, <code>IEnumerable<T></code> or <code>IDataView</code> to render the data explorer.</p>\r\n",
              "<pre>\r\n",
              "    <code>\r\n",
              "    using Microsoft.Data.Analysis;\r\n",
              "    using System.Collections.Generic;\r\n",
              "    using Microsoft.ML;\r\n",
              "\r\n",
              "    var dataFrame = DataFrame.LoadCsv(\"./Data.csv\");\r\n",
              "\r\n",
              "    dataFrame.ExploreWithSandDance().Display();\r\n",
              "    </code>\r\n",
              "</pre>\r\n",
              "<p>To set the SandDance Explorer use the following code</p>\r\n",
              "<pre>\r\n",
              "    <code>\r\n",
              "    DataExplorer.SetDefault<TabularDataResource, SandDanceDataExplorer>();\r\n",
              "    </code>\r\n",
              "</pre>\r\n",
              "    <img src=\"https://user-images.githubusercontent.com/11507384/54236654-52d42800-44d1-11e9-859e-6c5d297a46d2.gif\" width=\"30%\">\r\n",
              "    </details>"
            ]
          },
          "metadata": {},
          "output_type": "display_data"
        },
        {
          "data": {
            "text/html": [
              "<details><summary>Query SQLite databases.</summary>\r\n",
              "    <p>This extension adds support for connecting to SQLite databases using the <code>#!connect sqlite</code> magic command. For more information, run a cell using the <code>#!sql</code> magic command.</p>\r\n",
              "    </details>"
            ]
          },
          "metadata": {},
          "output_type": "display_data"
        }
      ],
      "source": [
        "#r \"nuget:Microsoft.DotNet.Interactive.ExtensionLab, *-*\""
      ]
    },
    {
      "cell_type": "markdown",
      "metadata": {},
      "source": [
        "Installing the `ExtensionLab` brings in some new magic commands including two additional verbs for the `#!connect` command, which you can see by running help for it."
      ]
    },
    {
      "cell_type": "markdown",
      "metadata": {},
      "source": [
        "# Now, we're ready to work with a SQL database\n",
        "\n",
        "SQLite allows us to create a database in memory using the `Mode=Memory` parameter in our connection string. This is a quick and convenient approach for the sake of demonstration."
      ]
    },
    {
      "cell_type": "code",
      "execution_count": null,
      "metadata": {
        "dotnet_interactive": {
          "language": "csharp"
        }
      },
      "outputs": [
        {
          "data": {
            "text/plain": [
              "Kernel added: #!sql-collections"
            ]
          },
          "metadata": {},
          "output_type": "display_data"
        }
      ],
      "source": [
        "#!connect sqlite --kernel-name collections \"Data Source=C:\\Temp\\collectionsSQLite;\""
      ]
    },
    {
      "cell_type": "code",
      "execution_count": null,
      "metadata": {
        "dotnet_interactive": {
          "language": "csharp"
        }
      },
      "outputs": [
        {
          "data": {
            "text/csv": [
              "name\r\n",
              "collections\r\n",
              "collections_items_relationship\r\n",
              "collections_prism\r\n",
              "collections_sync\r\n",
              "comments\r\n",
              "favicons\r\n",
              "items\r\n",
              "items_offline_data\r\n",
              "items_sync\r\n",
              "meta\r\n"
            ],
            "text/html": [
              "<div style=\"background-color:white;\">\r\n",
              "<div id=\"253594487fe547fd939f4c14a306b88f\" style=\"height: 100ch ;margin: 2px;\">\r\n",
              "</div>\r\n",
              "<script type=\"text/javascript\">\r\n",
              "\r\n",
              "renderNteractDataExplorer_253594487fe547fd939f4c14a306b88f = () => {\r\n",
              "\r\n",
              "    (require.config({ 'paths': { 'context': '1.0.252001', 'nteractUri' : 'https://colombod.github.io/dotnet-interactive-cdn/extensionlab/1.0.252001/nteract/nteractapi', 'urlArgs': 'cacheBuster=0a8ac0cae2b04b4b94e2fd3016241d83' }}) || require)(['nteractUri'], (nteract) => {\r\n",
              "\r\n",
              "        nteract.createDataExplorer({\r\n",
              "            data: {\r\n",
              "  \"profile\": \"tabular-data-resource\",\r\n",
              "  \"schema\": {\r\n",
              "    \"primaryKey\": [],\r\n",
              "    \"fields\": [\r\n",
              "      {\r\n",
              "        \"name\": \"name\",\r\n",
              "        \"type\": \"string\"\r\n",
              "      }\r\n",
              "    ]\r\n",
              "  },\r\n",
              "  \"data\": [\r\n",
              "    {\r\n",
              "      \"name\": \"collections\"\r\n",
              "    },\r\n",
              "    {\r\n",
              "      \"name\": \"collections_items_relationship\"\r\n",
              "    },\r\n",
              "    {\r\n",
              "      \"name\": \"collections_prism\"\r\n",
              "    },\r\n",
              "    {\r\n",
              "      \"name\": \"collections_sync\"\r\n",
              "    },\r\n",
              "    {\r\n",
              "      \"name\": \"comments\"\r\n",
              "    },\r\n",
              "    {\r\n",
              "      \"name\": \"favicons\"\r\n",
              "    },\r\n",
              "    {\r\n",
              "      \"name\": \"items\"\r\n",
              "    },\r\n",
              "    {\r\n",
              "      \"name\": \"items_offline_data\"\r\n",
              "    },\r\n",
              "    {\r\n",
              "      \"name\": \"items_sync\"\r\n",
              "    },\r\n",
              "    {\r\n",
              "      \"name\": \"meta\"\r\n",
              "    }\r\n",
              "  ]\r\n",
              "},\r\n",
              "            container: document.getElementById(\"253594487fe547fd939f4c14a306b88f\")\r\n",
              "        });\r\n",
              "    },\r\n",
              "    (error) => {\r\n",
              "        console.log(error);\r\n",
              "    });\r\n",
              "};\r\n",
              "// ensure `require` is available globally\r\n",
              "if ((typeof(require) !==  typeof(Function)) || (typeof(require.config) !== typeof(Function))) {\r\n",
              "    let require_script = document.createElement('script');\r\n",
              "    require_script.setAttribute('src', 'https://cdnjs.cloudflare.com/ajax/libs/require.js/2.3.6/require.min.js');\r\n",
              "    require_script.setAttribute('type', 'text/javascript');\r\n",
              "    \r\n",
              "    \r\n",
              "    require_script.onload = function() {\r\n",
              "        renderNteractDataExplorer_253594487fe547fd939f4c14a306b88f();\r\n",
              "    };\r\n",
              "\r\n",
              "    document.getElementsByTagName('head')[0].appendChild(require_script);\r\n",
              "}\r\n",
              "else {\r\n",
              "    renderNteractDataExplorer_253594487fe547fd939f4c14a306b88f();\r\n",
              "}\r\n",
              "\r\n",
              " </script>\r\n",
              "</div>\r\n"
            ]
          },
          "metadata": {},
          "output_type": "display_data"
        }
      ],
      "source": [
        "#!sql-collections \n",
        "SELECT name FROM sqlite_master \n",
        "WHERE type IN ('table','view') \n",
        "AND name NOT LIKE 'sqlite_%'\n",
        "ORDER BY 1;"
      ]
    },
    {
      "cell_type": "code",
      "execution_count": null,
      "metadata": {
        "dotnet_interactive": {
          "language": "csharp"
        }
      },
      "outputs": [
        {
          "data": {
            "text/csv": [
              "count(parent_id),CollectionTitle\r\n",
              "8,venues\r\n",
              "26,Azure functions\r\n",
              "3,Dark Skies\r\n",
              "20,Drone\r\n",
              "10,Photography\r\n",
              "100,Azure\r\n",
              "5,jobs\r\n",
              "65,New collection\r\n",
              "47,\"Dec 16, 2021\"\r\n"
            ],
            "text/html": [
              "<div style=\"background-color:white;\">\r\n",
              "<div id=\"a5857f1eb9d64dfeaa191ed5240ef11b\" style=\"height: 100ch ;margin: 2px;\">\r\n",
              "</div>\r\n",
              "<script type=\"text/javascript\">\r\n",
              "\r\n",
              "renderNteractDataExplorer_a5857f1eb9d64dfeaa191ed5240ef11b = () => {\r\n",
              "\r\n",
              "    (require.config({ 'paths': { 'context': '1.0.252001', 'nteractUri' : 'https://colombod.github.io/dotnet-interactive-cdn/extensionlab/1.0.252001/nteract/nteractapi', 'urlArgs': 'cacheBuster=0a8ac0cae2b04b4b94e2fd3016241d83' }}) || require)(['nteractUri'], (nteract) => {\r\n",
              "\r\n",
              "        nteract.createDataExplorer({\r\n",
              "            data: {\r\n",
              "  \"profile\": \"tabular-data-resource\",\r\n",
              "  \"schema\": {\r\n",
              "    \"primaryKey\": [],\r\n",
              "    \"fields\": [\r\n",
              "      {\r\n",
              "        \"name\": \"count(parent_id)\",\r\n",
              "        \"type\": \"integer\"\r\n",
              "      },\r\n",
              "      {\r\n",
              "        \"name\": \"CollectionTitle\",\r\n",
              "        \"type\": \"string\"\r\n",
              "      }\r\n",
              "    ]\r\n",
              "  },\r\n",
              "  \"data\": [\r\n",
              "    {\r\n",
              "      \"count(parent_id)\": 8,\r\n",
              "      \"CollectionTitle\": \"venues\"\r\n",
              "    },\r\n",
              "    {\r\n",
              "      \"count(parent_id)\": 26,\r\n",
              "      \"CollectionTitle\": \"Azure functions\"\r\n",
              "    },\r\n",
              "    {\r\n",
              "      \"count(parent_id)\": 3,\r\n",
              "      \"CollectionTitle\": \"Dark Skies\"\r\n",
              "    },\r\n",
              "    {\r\n",
              "      \"count(parent_id)\": 20,\r\n",
              "      \"CollectionTitle\": \"Drone\"\r\n",
              "    },\r\n",
              "    {\r\n",
              "      \"count(parent_id)\": 10,\r\n",
              "      \"CollectionTitle\": \"Photography\"\r\n",
              "    },\r\n",
              "    {\r\n",
              "      \"count(parent_id)\": 100,\r\n",
              "      \"CollectionTitle\": \"Azure\"\r\n",
              "    },\r\n",
              "    {\r\n",
              "      \"count(parent_id)\": 5,\r\n",
              "      \"CollectionTitle\": \"jobs\"\r\n",
              "    },\r\n",
              "    {\r\n",
              "      \"count(parent_id)\": 65,\r\n",
              "      \"CollectionTitle\": \"New collection\"\r\n",
              "    },\r\n",
              "    {\r\n",
              "      \"count(parent_id)\": 47,\r\n",
              "      \"CollectionTitle\": \"Dec 16, 2021\"\r\n",
              "    }\r\n",
              "  ]\r\n",
              "},\r\n",
              "            container: document.getElementById(\"a5857f1eb9d64dfeaa191ed5240ef11b\")\r\n",
              "        });\r\n",
              "    },\r\n",
              "    (error) => {\r\n",
              "        console.log(error);\r\n",
              "    });\r\n",
              "};\r\n",
              "// ensure `require` is available globally\r\n",
              "if ((typeof(require) !==  typeof(Function)) || (typeof(require.config) !== typeof(Function))) {\r\n",
              "    let require_script = document.createElement('script');\r\n",
              "    require_script.setAttribute('src', 'https://cdnjs.cloudflare.com/ajax/libs/require.js/2.3.6/require.min.js');\r\n",
              "    require_script.setAttribute('type', 'text/javascript');\r\n",
              "    \r\n",
              "    \r\n",
              "    require_script.onload = function() {\r\n",
              "        renderNteractDataExplorer_a5857f1eb9d64dfeaa191ed5240ef11b();\r\n",
              "    };\r\n",
              "\r\n",
              "    document.getElementsByTagName('head')[0].appendChild(require_script);\r\n",
              "}\r\n",
              "else {\r\n",
              "    renderNteractDataExplorer_a5857f1eb9d64dfeaa191ed5240ef11b();\r\n",
              "}\r\n",
              "\r\n",
              " </script>\r\n",
              "</div>\r\n"
            ]
          },
          "metadata": {},
          "output_type": "display_data"
        }
      ],
      "source": [
        "#!sql-collections\n",
        " select count(parent_id), collections.title as CollectionTitle from collections_items_relationship \n",
        " join items on collections_items_relationship.item_id = items.id  \n",
        " Join collections on  collections_items_relationship.parent_id = collections.id\n",
        " group by collections.id"
      ]
    }
  ],
  "metadata": {
    "kernelspec": {
      "display_name": ".NET (C#)",
      "language": "C#",
      "name": ".net-csharp"
    },
    "language_info": {
      "file_extension": ".cs",
      "mimetype": "text/x-csharp",
      "name": "C#",
      "pygments_lexer": "csharp",
      "version": "8.0"
    }
  },
  "nbformat": 4,
  "nbformat_minor": 4
}
