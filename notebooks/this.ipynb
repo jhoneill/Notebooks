{
  "cells": [
    {
      "cell_type": "code",
      "execution_count": 1,
      "metadata": {
        "dotnet_interactive": {
          "language": "pwsh"
        }
      },
      "source": [
        "cd ~\\documents\\github\n",
        "git clone https://github.com/jhoneill/Notebooks.git\n",
        "cd Notebooks\n",
        "dir -Force"
      ],
      "outputs": [
        {
          "output_type": "execute_result",
          "data": {
            "text/plain": [
              "Cloning into 'Notebooks'...\r\n"
            ]
          },
          "execution_count": 1,
          "metadata": {}
        },
        {
          "output_type": "execute_result",
          "data": {
            "text/plain": [
              "\r\n"
            ]
          },
          "execution_count": 1,
          "metadata": {}
        },
        {
          "output_type": "execute_result",
          "data": {
            "text/plain": [
              "\r\n"
            ]
          },
          "execution_count": 1,
          "metadata": {}
        },
        {
          "output_type": "execute_result",
          "data": {
            "text/plain": [
              "    Directory: C:\\Users\\P10506111\\Documents\\github\\Notebooks\r\n"
            ]
          },
          "execution_count": 1,
          "metadata": {}
        },
        {
          "output_type": "execute_result",
          "data": {
            "text/plain": [
              "\r\n"
            ]
          },
          "execution_count": 1,
          "metadata": {}
        },
        {
          "output_type": "execute_result",
          "data": {
            "text/plain": [
              "Mode                 LastWriteTime         Length Name\r\n"
            ]
          },
          "execution_count": 1,
          "metadata": {}
        },
        {
          "output_type": "execute_result",
          "data": {
            "text/plain": [
              "----                 -------------         ------ ----\r\n"
            ]
          },
          "execution_count": 1,
          "metadata": {}
        },
        {
          "output_type": "execute_result",
          "data": {
            "text/plain": [
              "d--h-          23/09/2020    11:30                .git\r\n"
            ]
          },
          "execution_count": 1,
          "metadata": {}
        },
        {
          "output_type": "execute_result",
          "data": {
            "text/plain": [
              "-a---          23/09/2020    11:30           1091 LICENSE\r\n"
            ]
          },
          "execution_count": 1,
          "metadata": {}
        },
        {
          "output_type": "execute_result",
          "data": {
            "text/plain": [
              "-a---          23/09/2020    11:30             51 README.md\r\n"
            ]
          },
          "execution_count": 1,
          "metadata": {}
        },
        {
          "output_type": "execute_result",
          "data": {
            "text/plain": [
              "\r\n"
            ]
          },
          "execution_count": 1,
          "metadata": {}
        }
      ]
    },
    {
      "cell_type": "code",
      "execution_count": 1,
      "metadata": {
        "dotnet_interactive": {
          "language": "pwsh"
        }
      },
      "source": [
        "Copy-Item ..\\..\\Powershell\\exploration-1.ipynb, ..\\..\\Powershell\\plotly.*, ..\\..\\Powershell\\NotebookOutput.ps1 -Destination  ~\\documents\\github\\notebook"
      ],
      "outputs": []
    },
    {
      "cell_type": "code",
      "execution_count": 1,
      "metadata": {
        "dotnet_interactive": {
          "language": "pwsh"
        }
      },
      "source": [
        "cd ~\\documents\\github\\Notebooks\n",
        "git status"
      ],
      "outputs": [
        {
          "output_type": "execute_result",
          "data": {
            "text/plain": [
              "On branch master\r\n"
            ]
          },
          "execution_count": 1,
          "metadata": {}
        },
        {
          "output_type": "execute_result",
          "data": {
            "text/plain": [
              "Your branch is up to date with 'origin/master'.\r\n"
            ]
          },
          "execution_count": 1,
          "metadata": {}
        },
        {
          "output_type": "execute_result",
          "data": {
            "text/plain": [
              "\r\n"
            ]
          },
          "execution_count": 1,
          "metadata": {}
        },
        {
          "output_type": "execute_result",
          "data": {
            "text/plain": [
              "Untracked files:\r\n"
            ]
          },
          "execution_count": 1,
          "metadata": {}
        },
        {
          "output_type": "execute_result",
          "data": {
            "text/plain": [
              "  (use \"git add <file>...\" to include in what will be committed)\r\n"
            ]
          },
          "execution_count": 1,
          "metadata": {}
        },
        {
          "output_type": "execute_result",
          "data": {
            "text/plain": [
              "\tNotebookOutput.ps1\r\n"
            ]
          },
          "execution_count": 1,
          "metadata": {}
        },
        {
          "output_type": "execute_result",
          "data": {
            "text/plain": [
              "\tPlotly.ipynb\r\n"
            ]
          },
          "execution_count": 1,
          "metadata": {}
        },
        {
          "output_type": "execute_result",
          "data": {
            "text/plain": [
              "\texploration-1.ipynb\r\n"
            ]
          },
          "execution_count": 1,
          "metadata": {}
        },
        {
          "output_type": "execute_result",
          "data": {
            "text/plain": [
              "\tplotly.psm1\r\n"
            ]
          },
          "execution_count": 1,
          "metadata": {}
        },
        {
          "output_type": "execute_result",
          "data": {
            "text/plain": [
              "\r\n"
            ]
          },
          "execution_count": 1,
          "metadata": {}
        },
        {
          "output_type": "execute_result",
          "data": {
            "text/plain": [
              "nothing added to commit but untracked files present (use \"git add\" to track)\r\n"
            ]
          },
          "execution_count": 1,
          "metadata": {}
        }
      ]
    },
    {
      "cell_type": "code",
      "execution_count": 1,
      "metadata": {
        "dotnet_interactive": {
          "language": "pwsh"
        }
      },
      "source": [
        "git add *"
      ],
      "outputs": []
    },
    {
      "cell_type": "code",
      "execution_count": 1,
      "metadata": {
        "dotnet_interactive": {
          "language": "pwsh"
        }
      },
      "source": [
        "git commit -m \"Added exploration and plotly notebooks and supporting files\""
      ],
      "outputs": [
        {
          "output_type": "execute_result",
          "data": {
            "text/plain": [
              "[master 3603bd3] Added exploration and plotly notebooks and supporting files\r\n"
            ]
          },
          "execution_count": 1,
          "metadata": {}
        },
        {
          "output_type": "execute_result",
          "data": {
            "text/plain": [
              " 4 files changed, 3111 insertions(+)\r\n"
            ]
          },
          "execution_count": 1,
          "metadata": {}
        },
        {
          "output_type": "execute_result",
          "data": {
            "text/plain": [
              " create mode 100644 NotebookOutput.ps1\r\n"
            ]
          },
          "execution_count": 1,
          "metadata": {}
        },
        {
          "output_type": "execute_result",
          "data": {
            "text/plain": [
              " create mode 100644 Plotly.ipynb\r\n"
            ]
          },
          "execution_count": 1,
          "metadata": {}
        },
        {
          "output_type": "execute_result",
          "data": {
            "text/plain": [
              " create mode 100644 exploration-1.ipynb\r\n"
            ]
          },
          "execution_count": 1,
          "metadata": {}
        },
        {
          "output_type": "execute_result",
          "data": {
            "text/plain": [
              " create mode 100644 plotly.psm1\r\n"
            ]
          },
          "execution_count": 1,
          "metadata": {}
        }
      ]
    },
    {
      "cell_type": "markdown",
      "metadata": {},
      "source": [
        "**Can push the changes, then s0ave this notebook to the same folder**"
      ]
    },
    {
      "cell_type": "code",
      "execution_count": 1,
      "metadata": {
        "dotnet_interactive": {
          "language": "pwsh"
        }
      },
      "source": [
        "git add *\n",
        "''"
      ],
      "outputs": [
        {
          "output_type": "execute_result",
          "data": {
            "text/plain": [
              "\r\n"
            ]
          },
          "execution_count": 1,
          "metadata": {}
        }
      ]
    },
    {
      "cell_type": "code",
      "execution_count": 1,
      "metadata": {
        "dotnet_interactive": {
          "language": "pwsh"
        }
      },
      "source": [
        "git commit -m \"Added this.ipynb\"\n",
        "''"
      ],
      "outputs": [
        {
          "output_type": "execute_result",
          "data": {
            "text/plain": [
              "[master befc27c] Added this.ipynb\r\n"
            ]
          },
          "execution_count": 1,
          "metadata": {}
        },
        {
          "output_type": "execute_result",
          "data": {
            "text/plain": [
              " 1 file changed, 331 insertions(+)\r\n"
            ]
          },
          "execution_count": 1,
          "metadata": {}
        },
        {
          "output_type": "execute_result",
          "data": {
            "text/plain": [
              " create mode 100644 this.ipynb\r\n"
            ]
          },
          "execution_count": 1,
          "metadata": {}
        },
        {
          "output_type": "execute_result",
          "data": {
            "text/plain": [
              "\r\n"
            ]
          },
          "execution_count": 1,
          "metadata": {}
        }
      ]
    },
    {
      "cell_type": "code",
      "execution_count": 1,
      "metadata": {
        "dotnet_interactive": {
          "language": "pwsh"
        }
      },
      "source": [
        "git push"
      ],
      "outputs": [
        {
          "output_type": "execute_result",
          "data": {
            "text/plain": [
              "To https://github.com/jhoneill/Notebooks.git\r\n"
            ]
          },
          "execution_count": 1,
          "metadata": {}
        },
        {
          "output_type": "execute_result",
          "data": {
            "text/plain": [
              "   3603bd3..befc27c  master -> master\r\n"
            ]
          },
          "execution_count": 1,
          "metadata": {}
        }
      ]
    },
    {
      "cell_type": "code",
      "execution_count": 1,
      "metadata": {
        "dotnet_interactive": {
          "language": "pwsh"
        }
      },
      "source": [
        "cd ~\\documents\\github\\Notebooks\n",
        "git status"
      ],
      "outputs": [
        {
          "output_type": "execute_result",
          "data": {
            "text/plain": "On branch master\nYour branch is up to date with 'origin/master'.\n\nChanges not staged for commit:\n  (use \"git add <file>...\" to update what will be committed)\n  (use \"git restore <file>...\" to discard changes in working directory)\n\tmodified:   exploration-1.ipynb\n\tmodified:   this.ipynb\n\nUntracked files:\n  (use \"git add <file>...\" to include in what will be committed)\n\t.ipynb_checkpoints/\n\nno changes added to commit (use \"git add\" and/or \"git commit -a\")"
          },
          "execution_count": 1,
          "metadata": {}
        }
      ]
    },
    {
      "cell_type": "code",
      "execution_count": 1,
      "metadata": {
        "dotnet_interactive": {
          "language": "pwsh"
        }
      },
      "source": [
        "git add  exploration-1.ipynb"
      ],
      "outputs": [
        {
          "output_type": "execute_result",
          "data": {
            "text/plain": "warning: LF will be replaced by CRLF in exploration-1.ipynb.\nThe file will have its original line endings in your working directory"
          },
          "execution_count": 1,
          "metadata": {}
        }
      ]
    },
    {
      "cell_type": "code",
      "execution_count": 1,
      "metadata": {
        "dotnet_interactive": {
          "language": "pwsh"
        }
      },
      "source": [
        "git add this.ipynb"
      ],
      "outputs": [
        {
          "output_type": "execute_result",
          "data": {
            "text/plain": "warning: LF will be replaced by CRLF in this.ipynb.\nThe file will have its original line endings in your working directory"
          },
          "execution_count": 1,
          "metadata": {}
        }
      ]
    },
    {
      "cell_type": "code",
      "execution_count": 1,
      "metadata": {
        "dotnet_interactive": {
          "language": "pwsh"
        }
      },
      "source": [
        "git commit -m \"Added made exploration more Jupyter and less vscode\"\n",
        "''\n",
        "git push\n",
        "''"
      ],
      "outputs": [
        {
          "output_type": "execute_result",
          "data": {
            "text/plain": "[master 711968d] Added made exploration more Jupyter and less vscode\n 2 files changed, 841 insertions(+), 606 deletions(-)\n\nTo https://github.com/jhoneill/Notebooks.git\n   befc27c..711968d  master -> master\n"
          },
          "execution_count": 1,
          "metadata": {}
        }
      ]
    },
    {
      "cell_type": "code",
      "execution_count": 1,
      "metadata": {
        "dotnet_interactive": {
          "language": "pwsh"
        }
      },
      "source": [
        "copy ..\\..\\Powershell\\untitled.png\n",
        "git add untitled.png\n",
        "git commit --amend"
      ],
      "outputs": [
        {
          "output_type": "execute_result",
          "data": {
            "text/plain": "\n[master 51d946f] Added made exploration more Jupyter and less vscode\n Date: Wed Sep 23 12:17:07 2020 +0100\n 3 files changed, 841 insertions(+), 606 deletions(-)\n create mode 100644 untitled.png"
          },
          "execution_count": 1,
          "metadata": {}
        }
      ]
    },
    {
      "cell_type": "code",
      "execution_count": 1,
      "metadata": {
        "dotnet_interactive": {
          "language": "pwsh"
        }
      },
      "source": [
        "git push --force"
      ],
      "outputs": [
        {
          "output_type": "execute_result",
          "data": {
            "text/plain": "To https://github.com/jhoneill/Notebooks.git\n + 711968d...51d946f master -> master (forced update)"
          },
          "execution_count": 1,
          "metadata": {}
        }
      ]
    },
    {
      "cell_type": "code",
      "execution_count": 1,
      "metadata": {
        "dotnet_interactive": {
          "language": "pwsh"
        }
      },
      "source": [
        ""
      ],
      "outputs": []
    }
  ],
  "metadata": {
    "kernelspec": {
      "display_name": ".NET (C#)",
      "language": "C#",
      "name": ".net-csharp"
    },
    "language_info": {
      "file_extension": ".cs",
      "mimetype": "text/x-csharp",
      "name": "C#",
      "pygments_lexer": "csharp",
      "version": "8.0"
    }
  },
  "nbformat": 4,
  "nbformat_minor": 4
}