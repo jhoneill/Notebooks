{
  "cells": [
    {
      "cell_type": "markdown",
      "metadata": {},
      "source": [
        "## Load module, check version "
      ]
    },
    {
      "cell_type": "code",
      "execution_count": null,
      "metadata": {
        "dotnet_interactive": {
          "language": "pwsh"
        }
      },
      "outputs": [
        {
          "data": {
            "text/html": [
              "<table><tbody><tr><td><img src=\"data:image/png;base64, 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\" width=\"125em\"></img></td><td style=\"line-height:.8em\"><p style=\"font-size:1.5em\"><b>.NET Interactive</b></p><p>&#169; 2020 Microsoft Corporation</p><p><b>Version: </b>1.0.260601+9d1ecd3c06ba93e59bfef3842d2660c08d9e2ce5</p><p><b>Build date: </b>2021-12-18T10:36:48.0565225Z</p><p><a href=\"https://github.com/dotnet/interactive\">https://github.com/dotnet/interactive</a></p></td></tr></tbody></table>"
            ]
          },
          "metadata": {},
          "output_type": "display_data"
        }
      ],
      "source": [
        "#!about\n",
        "ipmo GetSQL"
      ]
    },
    {
      "cell_type": "markdown",
      "metadata": {},
      "source": [
        "## Connect and get list tables. \n",
        "If you want the Formula One data it is [avilable via onedrive](https://1drv.ms/x/s!AhfYu7-CJv4ekIYof6dcHtojh08zKg?e=C3yhl6 )"
      ]
    },
    {
      "cell_type": "code",
      "execution_count": null,
      "metadata": {
        "dotnet_interactive": {
          "language": "pwsh"
        }
      },
      "outputs": [
        {
          "name": "stdout",
          "output_type": "stream",
          "text": [
            "['Engine Aliases$']\r\n",
            "[Analysis$]\r\n",
            "[f1drivers$_xlnm#_FilterDatabase]\r\n",
            "[f1drivers$]\r\n",
            "[f1races$_xlnm#_FilterDatabase]\r\n",
            "[f1races$]\r\n",
            "[Help$]\r\n",
            "[Records$]\r\n",
            "[Results$_xlnm#_FilterDatabase]\r\n",
            "[Results$]\r\n",
            "[Scoring$]\r\n",
            "[Sheet1$]\r\n",
            "Drivers\r\n",
            "races\r\n",
            "Results\r\n"
          ]
        }
      ],
      "source": [
        "Get-SQL -Excel -Connection ~\\OneDrive\\public\\f1\\f1Results.xlsx -ShowTables  "
      ]
    },
    {
      "cell_type": "markdown",
      "metadata": {},
      "source": [
        "## Build a select query from comand line parameters \n",
        "Keep the results short for the notebook."
      ]
    },
    {
      "cell_type": "code",
      "execution_count": null,
      "metadata": {
        "dotnet_interactive": {
          "language": "pwsh"
        }
      },
      "outputs": [
        {
          "name": "stdout",
          "output_type": "stream",
          "text": [
            "32 row(s) returned\r\n",
            "\r\n",
            "Venue\u001b[0m\r\n",
            "-----\u001b[0m\r\n",
            "Algave\r\n",
            "Austin\r\n",
            "Baku\r\n",
            "Catalunya (Barcelona)\r\n",
            "Hockenheim\r\n",
            "><snip><\r\n",
            "\r\n"
          ]
        }
      ],
      "source": [
        "sql -Table \"races\" -Select \"Venue\" -Distinct -where \"WinningDriver\" -eq \"Lewis Hamilton\" -OrderBy \"Venue\" | Select -first 5  ; \"><snip><\""
      ]
    },
    {
      "cell_type": "markdown",
      "metadata": {},
      "source": [
        "## Run more complicated queries by passing the SQL \n",
        "Most wins at the same track, and longest span from first to last win "
      ]
    },
    {
      "cell_type": "code",
      "execution_count": null,
      "metadata": {
        "dotnet_interactive": {
          "language": "pwsh"
        }
      },
      "outputs": [
        {
          "name": "stdout",
          "output_type": "stream",
          "text": [
            "13 row(s) returned\r\n",
            "\r\n",
            "WinningDriver      Venue                 HowMany\u001b[0m\r\n",
            "-------------      -----                 -------\u001b[0m\r\n",
            "Lewis Hamilton     Silverstone                 8\r\n",
            "Michael Schumacher Magny-Cours                 8\r\n",
            "Lewis Hamilton     Hungaroring                 8\r\n",
            "Michael Schumacher Montréal                    7\r\n",
            "Lewis Hamilton     Montréal                    7\r\n",
            "Michael Schumacher Suzuka                      6\r\n",
            "Michael Schumacher Spa-Francorchamps           6\r\n",
            "Lewis Hamilton     Shanghai                    6\r\n",
            "Michael Schumacher Nürburgring                 6\r\n",
            "Ayrton Senna       Monte-Carlo                 6\r\n",
            "Michael Schumacher Imola                       6\r\n",
            "Michael Schumacher Catalunya (Barcelona)       6\r\n",
            "Lewis Hamilton     Catalunya (Barcelona)       6\r\n",
            "\r\n"
          ]
        }
      ],
      "source": [
        "sql \"SELECT WinningDriver, Venue, HowMany \n",
        "     FROM  (\n",
        "         SELECT   WinningDriver, Venue, Count(RaceDate) As Howmany \n",
        "         FROM     Races \n",
        "         GROUP BY Venue, WinningDriver \n",
        "      )\n",
        "      WHERE HowMany >= 6\n",
        "      ORDER BY Howmany DESC \"  "
      ]
    },
    {
      "cell_type": "code",
      "execution_count": null,
      "metadata": {
        "dotnet_interactive": {
          "language": "pwsh"
        }
      },
      "outputs": [
        {
          "name": "stdout",
          "output_type": "stream",
          "text": [
            "13 row(s) returned\r\n",
            "\r\n",
            "DriverName           Span\u001b[0m\r\n",
            "----------           ----\u001b[0m\r\n",
            "Kimi Räikkönen     15.581\r\n",
            "Lewis Hamilton     14.489\r\n",
            "Michael Schumacher 14.086\r\n",
            "Alain Prost        12.055\r\n",
            "Niki Lauda         11.326\r\n",
            "Nelson Piquet      11.173\r\n",
            "Sebastian Vettel   11.020\r\n",
            "Jack Brabham       10.825\r\n",
            "Gerhard Berger     10.790\r\n",
            "Riccardo Patrese   10.426\r\n",
            "Fernando Alonso     9.717\r\n",
            "Rubens Barrichello  9.123\r\n",
            "Nigel Mansell       9.103\r\n",
            "\r\n"
          ]
        }
      ],
      "source": [
        "sql @\"\n",
        "SELECT    DriverName, (oldest-youngest) AS Span, Oldest, Youngest, Wins  \n",
        "FROM     (\n",
        "            SELECT   DriverName, count(racedate) as Wins, \n",
        "                     min(Driverage) as Youngest, \n",
        "                     max(Driverage) as Oldest\n",
        "            FROM     Results \n",
        "            WHERE    RacePos    =  '1' \n",
        "            GROUP BY Drivername \n",
        "         )\n",
        "WHERE     oldest > (youngest + 9)\n",
        "ORDER BY (oldest-youngest)  Desc\n",
        "\"@ | Format-Table Drivername, @{f=\"0.000\";e=\"span\"}  \n",
        "# Can use the inner query for oldest winners and youngest winners.  "
      ]
    },
    {
      "cell_type": "markdown",
      "metadata": {},
      "source": [
        "## Close the Excel-over-ODBC and use a named session connected to an ODBC  Data-Source-Name \n",
        "DSN is for SQlite"
      ]
    },
    {
      "cell_type": "code",
      "execution_count": null,
      "metadata": {
        "dotnet_interactive": {
          "language": "pwsh"
        }
      },
      "outputs": [
        {
          "name": "stdout",
          "output_type": "stream",
          "text": [
            "\r\n",
            "Data Source                                        Database State Connection String\u001b[0m\r\n",
            "-----------                                        -------- ----- -----------------\u001b[0m\r\n",
            "C:\\Users\\mcp\\Pictures\\Lightroom\\Catalog-2-v11.lrca          Open  DSN=LR\r\n",
            "\r\n"
          ]
        }
      ],
      "source": [
        "sql -Close\n",
        "sql -Session \"LR\" -Connection  DSN=LR  #Creates an alias using the session name "
      ]
    },
    {
      "cell_type": "code",
      "execution_count": null,
      "metadata": {
        "dotnet_interactive": {
          "language": "pwsh"
        }
      },
      "outputs": [
        {
          "name": "stdout",
          "output_type": "stream",
          "text": [
            "9 row(s) returned\r\n",
            "\r\n",
            "value\u001b[0m\r\n",
            "-----\u001b[0m\r\n",
            "PENTAX *ist D\r\n",
            "PENTAX K-1\r\n",
            "PENTAX K-30\r\n",
            "PENTAX K-5\r\n",
            "PENTAX K-5 II s\r\n",
            "PENTAX K-7\r\n",
            "PENTAX K10D\r\n",
            "PENTAX Optio430RS\r\n",
            "PENTAX ist D\r\n",
            "\r\n"
          ]
        }
      ],
      "source": [
        "#use the session-name Alias.\n",
        "LR -Table AgInternedExifCameraModel  -Select \"value\" -OrderBy  \"value\"  -where \"value\" -Like pentax* -Distinct  "
      ]
    },
    {
      "cell_type": "markdown",
      "metadata": {},
      "source": [
        "## Close the ODBC session and start a new one with a SQlite native connection\n",
        "re-run the same query and close"
      ]
    },
    {
      "cell_type": "code",
      "execution_count": null,
      "metadata": {
        "dotnet_interactive": {
          "language": "pwsh"
        }
      },
      "outputs": [
        {
          "name": "stdout",
          "output_type": "stream",
          "text": [
            "\r\n",
            "Data Source   Database State Connection String\u001b[0m\r\n",
            "-----------   -------- ----- -----------------\u001b[0m\r\n",
            "Catalog-2-v11 main     Open  Data Source=C:\\Users\\mcp\\Pictures\\Lightroom\\Catalog-2-v11.lrcat;\r\n",
            "\r\n"
          ]
        }
      ],
      "source": [
        "lr -Close\n",
        "\n",
        "$lrpath = Join-Path ([environment]::GetFolderPath(\"MyPictures\")) \"Lightroom\\Catalog-2-v11.lrcat\"\n",
        "\n",
        "sql -Session \"LR\" -Connection  $lrpath  -lite "
      ]
    },
    {
      "cell_type": "code",
      "execution_count": null,
      "metadata": {
        "dotnet_interactive": {
          "language": "pwsh"
        }
      },
      "outputs": [
        {
          "name": "stdout",
          "output_type": "stream",
          "text": [
            "9 row(s) returned\r\n",
            "\r\n",
            "value\r\n",
            "-----\r\n",
            "PENTAX *ist D\r\n",
            "PENTAX K-1\r\n",
            "PENTAX K-30\r\n",
            "PENTAX K-5\r\n",
            "PENTAX K-5 II s\r\n",
            "PENTAX K-7\r\n",
            "PENTAX K10D\r\n",
            "PENTAX Optio430RS\r\n",
            "PENTAX ist D\r\n",
            "\r\n",
            "\r\n"
          ]
        }
      ],
      "source": [
        "LR -Table AgInternedExifCameraModel  -Select \"value\" -OrderBy  \"value\" -where \"value\" -Like Pentax*  -Distinct -Close | Out-String      "
      ]
    },
    {
      "cell_type": "markdown",
      "metadata": {},
      "source": [
        "## Connect to the collections SQlite database from Edge (Chromium-based version 80+)"
      ]
    },
    {
      "cell_type": "code",
      "execution_count": null,
      "metadata": {
        "dotnet_interactive": {
          "language": "pwsh"
        }
      },
      "outputs": [
        {
          "name": "stdout",
          "output_type": "stream",
          "text": [
            "collections\r\n",
            "collections_items_relationship\r\n",
            "collections_prism\r\n",
            "collections_sync\r\n",
            "comments\r\n",
            "favicons\r\n",
            "items\r\n",
            "items_offline_data\r\n",
            "items_sync\r\n",
            "meta\r\n"
          ]
        }
      ],
      "source": [
        "cd ~\n",
        "copy '.\\AppData\\Local\\Microsoft\\Edge Dev\\User Data\\Default\\Collections\\collectionsSQLite' $env:temp\n",
        "sql -lite -Connection \"$env:temp\\collectionsSQLite\" -ShowTables  "
      ]
    },
    {
      "cell_type": "code",
      "execution_count": null,
      "metadata": {
        "dotnet_interactive": {
          "language": "pwsh"
        }
      },
      "outputs": [
        {
          "name": "stdout",
          "output_type": "stream",
          "text": [
            "5 row(s) returned\r\n"
          ]
        }
      ],
      "source": [
        " $d = Sql @'\n",
        "    select\n",
        "        collections_items_relationship.position,\n",
        "        collections.title AS Collection,\n",
        "        items.title,\n",
        "        items.source,\n",
        "        items.text_content\n",
        "    from      collections_items_relationship\n",
        "        join  items       on items.id       = collections_items_relationship.item_id\n",
        "        Join  collections on collections.id = collections_items_relationship.parent_id\n",
        "    where     collections.title like  'Azure'\n",
        "    order by  collections.position,           collections_items_relationship.position\n",
        "    limit 5\n",
        "'@  -lite\n",
        "\n",
        "sql -Close"
      ]
    },
    {
      "cell_type": "code",
      "execution_count": null,
      "metadata": {
        "dotnet_interactive": {
          "language": "pwsh"
        }
      },
      "outputs": [
        {
          "name": "stdout",
          "output_type": "stream",
          "text": [
            "\r\n",
            "Collection title                                    LinkSource\u001b[0m\r\n",
            "---------- -----                                    ----------\u001b[0m\r\n",
            "Azure      Jake Morrison on Twitter: \"So, if you    https://twitter.com/JakeMorrison/status/139724626583912\r\n",
            "           want to get started using @BicepLang     8580\r\n",
            "           inside of @AzureDevOps to deploy your\r\n",
            "           #PowerShell @AzureFunctions with\r\n",
            "           beautiful test reports using @PSPester\r\n",
            "           here is a working example! (7 / 8)\r\n",
            "           https://t.co/OQZDQRCrmP\" / Twitter\r\n",
            "Azure      Run ARM TTK Tests - Visual Studio        https://marketplace.visualstudio.com/items?itemName=Sam\r\n",
            "           Marketplace                              -Cogan.ARMTTKExtension\r\n",
            "Azure      Passed AZ-400 Microsoft Certified Azure  https://www.thomasmaurer.ch/2019/07/passed-az-400-micro\r\n",
            "           DevOps Engineer - Thomas Maurer          soft-certified-azure-devops-engineer/\r\n",
            "Azure      Getting started with Azure DevOps job    https://4bes.nl/2019/07/31/getting-started-with-azure-d\r\n",
            "           and step Templates - Part 1 - 4bes.nl    evops-job-and-step-templates-part-1/\r\n",
            "Azure      Core Cloud Services - Introduction to    https://docs.microsoft.com/en-us/learn/modules/welcome-\r\n",
            "           Azure - Learn                            to-azure/\r\n",
            "\r\n"
          ]
        }
      ],
      "source": [
        "$d |  ft -Property @{width=10; e='Collection'}, @{width=40;e='Title'}, \n",
        "                   @{n='LinkSource';  width=55;  e={(convertfrom-json ([string]::new($_.source))).url} } -Wrap  "
      ]
    },
    {
      "cell_type": "code",
      "execution_count": null,
      "metadata": {
        "dotnet_interactive": {
          "language": "pwsh"
        }
      },
      "outputs": [],
      "source": [
        "del  \"$env:temp\\collectionsSQLite\"\n",
        "#Sometimes it just doesn't !"
      ]
    }
  ],
  "metadata": {
    "kernelspec": {
      "display_name": ".NET (C#)",
      "language": "C#",
      "name": ".net-csharp"
    },
    "language_info": {
      "file_extension": ".cs",
      "mimetype": "text/x-csharp",
      "name": "C#",
      "pygments_lexer": "csharp",
      "version": "8.0"
    }
  },
  "nbformat": 4,
  "nbformat_minor": 4
}
