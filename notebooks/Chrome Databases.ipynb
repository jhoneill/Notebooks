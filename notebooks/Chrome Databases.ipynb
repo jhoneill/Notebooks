{
  "cells": [
    {
      "attachments": {},
      "cell_type": "markdown",
      "metadata": {},
      "source": [
        "## Set Exclcusions"
      ]
    },
    {
      "cell_type": "code",
      "execution_count": 11,
      "metadata": {
        "dotnet_interactive": {
          "language": "pwsh"
        },
        "vscode": {
          "languageId": "polyglot-notebook"
        }
      },
      "outputs": [],
      "source": [
        "$exclude='tax|pensions|life|retire|leport|stag|twitter'"
      ]
    },
    {
      "attachments": {},
      "cell_type": "markdown",
      "metadata": {},
      "source": [
        "## Load Get-SQL module, copy browser history, connect to it. \n",
        "The chromium engine puts data in \n",
        "```\n",
        "<<userProfile>>\n",
        "    \\AppData\n",
        "        \\Local\n",
        "            \\Publisher          {Google | Microsoft}\n",
        "                \\BrowserName    {Chrome | Edge | Edge Dev | etc}\n",
        "                    \\User Data\n",
        "                        \\Default\n",
        "```\n",
        "The first file to look at is **History**"
      ]
    },
    {
      "cell_type": "code",
      "execution_count": null,
      "metadata": {
        "dotnet_interactive": {
          "language": "pwsh"
        },
        "vscode": {
          "languageId": "polyglot-notebook"
        }
      },
      "outputs": [],
      "source": [
        "cd ~\n",
        "$browserDir = '.\\AppData\\Local\\Microsoft\\Edge\\User Data\\Default' #'.\\AppData\\Local\\Microsoft\\Edge Dev\\User Data\\Default'\n",
        "if (-not (Test-Path -PathType Container \".\\temp\")) {mkdir '.\\temp'}\n",
        "\n",
        "Import-Module getsql -PassThru | Format-Table name,version \n",
        "Copy-Item \"$browserDir\\History\" -Destination '.\\temp'\n",
        "$tables = Get-SQL  -Connection .\\temp\\history  -Lite  -ShowTables\n",
        "$tables -join '; '"
      ]
    },
    {
      "cell_type": "code",
      "execution_count": null,
      "metadata": {
        "dotnet_interactive": {
          "language": "pwsh"
        },
        "vscode": {
          "languageId": "polyglot-notebook"
        }
      },
      "outputs": [],
      "source": [
        "# use SQL as an alias, Examine the table 'visits'\n",
        "sql -Describe 'visits'  "
      ]
    },
    {
      "attachments": {},
      "cell_type": "markdown",
      "metadata": {},
      "source": [
        "## Oldest downloads in my history - from when I first got the machine."
      ]
    },
    {
      "cell_type": "code",
      "execution_count": null,
      "metadata": {
        "dotnet_interactive": {
          "language": "pwsh"
        },
        "vscode": {
          "languageId": "polyglot-notebook"
        }
      },
      "outputs": [],
      "source": [
        "# Dates are stored as microseconds since 1st Jan 1601; \n",
        "# So: convert to seconds, subtract time since '1601-01-01' (could optimize as -11644473600 but less readable)\n",
        "# and convert to a string representing date.\n",
        "$Downloads = sql @'\n",
        "    SELECT   datetime(   start_time / 1000000 + (strftime('%s', '1601-01-01')), 'unixepoch') AS StartTime,\n",
        "             datetime(   end_time   / 1000000 + (strftime('%s', '1601-01-01')), 'unixepoch') AS EndTime,\n",
        "            ((end_time - start_time)/ 1000000 )               AS Duration, \n",
        "            (received_bytes*1000000 /(end_time - start_time)) AS BytesPerSec,\n",
        "             received_bytes, state, tab_url, target_path, mime_type\n",
        "    FROM     downloads\n",
        "    ORDER BY start_time \n",
        "    LIMIT    25\n",
        "'@ \n",
        "\n",
        "$Downloads  | where tab_Url -notmatch $exclude | Format-Table -Wrap -AutoSize -property StartTime, \n",
        "                        @{n='Total KB'; e={$_.received_bytes/1kb};         a='Right';f='#,###' }, \n",
        "                        @{n='KB/Sec'  ; e={($_.BytesPerSec/1kb)}; a='right';f='0'; }, \n",
        "                        @{n='URL';e='tab_url'}   "
      ]
    },
    {
      "attachments": {},
      "cell_type": "markdown",
      "metadata": {},
      "source": [
        "## Get Search terms from history"
      ]
    },
    {
      "cell_type": "code",
      "execution_count": null,
      "metadata": {
        "dotnet_interactive": {
          "language": "pwsh"
        },
        "vscode": {
          "languageId": "polyglot-notebook"
        }
      },
      "outputs": [],
      "source": [
        "# This time build the query from the command line -table <<Tab to name>> -select <<Tab to column>> -distinct  \"extra SQL\"\n",
        "sql -Table \"keyword_search_terms\" -Select \"term\" -Distinct \"Limit 20\"  | where term -notmatch $exclude  \n",
        "$moreComplexQuery =  @'\n",
        "    SELECT  term,\n",
        "            urls.url,\n",
        "            datetime(urls.last_visit_time / 1000000 + (strftime('%s', '1601-01-01')), 'unixepoch') AS visitTime\n",
        "    FROM keyword_search_terms\n",
        "    JOIN urls on keyword_search_terms.url_id = urls.id\n",
        "'@"
      ]
    },
    {
      "attachments": {},
      "cell_type": "markdown",
      "metadata": {},
      "source": [
        "## Most visited sites and most recently visited from History"
      ]
    },
    {
      "cell_type": "code",
      "execution_count": null,
      "metadata": {
        "dotnet_interactive": {
          "language": "pwsh"
        },
        "vscode": {
          "languageId": "polyglot-notebook"
        }
      },
      "outputs": [],
      "source": [
        "sql -Describe \"visits\"  "
      ]
    },
    {
      "cell_type": "code",
      "execution_count": null,
      "metadata": {
        "dotnet_interactive": {
          "language": "pwsh"
        },
        "vscode": {
          "languageId": "polyglot-notebook"
        }
      },
      "outputs": [],
      "source": [
        "$Grouped = sql @\"\n",
        "    SELECT  count (visit_Time) as visits , \n",
        "            urls.url\n",
        "    FROM  visits JOIN  urls\n",
        "      ON  visits.url = urls.id\n",
        "    WHERE    (visits.visit_time < 100000000000000000) \n",
        "    Group BY urls.url\n",
        "    Order by visits desc\n",
        "\"@  | where url -NotMatch $exclude  | Group-Object -Property @{e={$_.url -replace \"(?<!/)/(?!/).*$\",\"\"}}\n",
        "\n",
        "$totals = foreach ($g in $grouped) {$g.group | measure -sum visits | select @{n='name'; e={$g.name}} , Sum}\n",
        "$totals | sort sum -Descending | select -first 20\n"
      ]
    },
    {
      "cell_type": "code",
      "execution_count": null,
      "metadata": {
        "dotnet_interactive": {
          "language": "pwsh"
        },
        "vscode": {
          "languageId": "polyglot-notebook"
        }
      },
      "outputs": [],
      "source": [
        "SQL \"SELECT * FROM segments join segment_usage on segment_usage.segment_id = segments.id join urls on urls.id = segments.url_id limit 5\"  "
      ]
    },
    {
      "cell_type": "code",
      "execution_count": null,
      "metadata": {
        "dotnet_interactive": {
          "language": "pwsh"
        },
        "vscode": {
          "languageId": "polyglot-notebook"
        }
      },
      "outputs": [],
      "source": [
        "# close the SQL connection after this one. Give it few seconds before deleting the file from \\temp - in the next block \n",
        "sql @\"\n",
        "    SELECT  datetime(visit_time / 1000000 + (strftime('%s', '1601-01-01')), 'unixepoch') AS visitTime , \n",
        "            urls.url,  urls.title\n",
        "    FROM  visits JOIN  urls\n",
        "      ON  visits.url = urls.id\n",
        "    WHERE    (visit_time < 100000000000000000) \n",
        "    ORDER BY visit_time DESC\n",
        "    LIMIT 100\n",
        "\"@  | where url -NotMatch $exclude | Select -first 20 \n",
        "\n",
        "sql -close "
      ]
    },
    {
      "cell_type": "code",
      "execution_count": null,
      "metadata": {
        "dotnet_interactive": {
          "language": "pwsh"
        },
        "vscode": {
          "languageId": "polyglot-notebook"
        }
      },
      "outputs": [],
      "source": [
        "cd ~\n",
        "del  '.\\temp\\history' #-ErrorAction SilentlyContinue\n",
        "copy \"$browserDir\\Top Sites\" -Destination '.\\temp'\n",
        "sql -ForceNew -Lite -Connection '.\\temp\\top sites'-Table \"top_sites\" -OrderBy \"url_rank\" -where \"url_rank\" -lt 10 -close | where url -NotMatch $exclude | Out-String"
      ]
    },
    {
      "attachments": {},
      "cell_type": "markdown",
      "metadata": {},
      "source": [
        "## Collections in Microsft Edge (ChrEdge from versions ~80 onwards)"
      ]
    },
    {
      "cell_type": "code",
      "execution_count": null,
      "metadata": {
        "dotnet_interactive": {
          "language": "pwsh"
        },
        "vscode": {
          "languageId": "polyglot-notebook"
        }
      },
      "outputs": [],
      "source": [
        "cd ~\n",
        "$browserDir = '.\\AppData\\Local\\Microsoft\\Edge\\User Data\\Default' #'.\\AppData\\Local\\Microsoft\\Edge Dev\\User Data\\Default'\n",
        "if (-not (Test-Path -PathType Container \".\\temp\")) {mkdir '.\\temp'}\n",
        "\n",
        "Import-Module getsql\n",
        "\n",
        "del  '.\\temp\\top sites' -ErrorAction SilentlyContinue\n",
        "\n",
        "copy \"$browserDir\\Collections\\collectionsSQLite\" -Destination '.\\temp'\n",
        "Get-SQL -Lite -Connection '.\\temp\\collectionsSQLite' -forcenew -ShowTables |Out-String\n",
        "# close the SQL connection after this one. Give it few seconds before deleting the file from .\\temp - in the next block \n",
        "$collectionrows = Sql @'\n",
        "    SELECT\n",
        "        collections_items_relationship.position,\n",
        "        collections.title AS Collection,\n",
        "        items.title,\n",
        "        items.source,\n",
        "        items.text_content\n",
        "    FROM                            collections_items_relationship\n",
        "    JOIN      items       on        collections_items_relationship.item_id   = items.id  \n",
        "    JOIN      collections on        collections_items_relationship.parent_id = collections.id \n",
        "    ORDER BY  collections.position, collections_items_relationship.position\n",
        "'@ -Close | Select-Object -Property Collection,Position, Title,\n",
        "                @{n='LinkSource';   e={(ConvertFrom-Json ([string]::new($_.source))).url} },\n",
        "                Text_Content, \n",
        "                @{n='LinkSiteName'; e={(ConvertFrom-Json ([string]::new($_.source))).websiteName} }"
      ]
    },
    {
      "cell_type": "code",
      "execution_count": null,
      "metadata": {
        "dotnet_interactive": {
          "language": "pwsh"
        },
        "vscode": {
          "languageId": "polyglot-notebook"
        }
      },
      "outputs": [],
      "source": [
        "$collectionrows | Format-Table -AutoSize -wrap | Out-String -Width 190"
      ]
    },
    {
      "cell_type": "code",
      "execution_count": null,
      "metadata": {
        "dotnet_interactive": {
          "language": "pwsh"
        },
        "vscode": {
          "languageId": "polyglot-notebook"
        }
      },
      "outputs": [],
      "source": [
        "#alternatively   \n",
        "# Find duplicates \n",
        "#$collectionrows | group -Property LinkSource | where count -ge 2 | select -ExpandProperty group \n",
        "\n",
        "$collectionrows | Export-Excel\n",
        "del  '.\\temp\\collectionsSQLite' -ErrorAction SilentlyContinue"
      ]
    },
    {
      "attachments": {},
      "cell_type": "markdown",
      "metadata": {},
      "source": [
        "## Bookmarks are a JSON file. Let's Parse that :-) "
      ]
    },
    {
      "cell_type": "code",
      "execution_count": null,
      "metadata": {
        "dotnet_interactive": {
          "language": "pwsh"
        },
        "vscode": {
          "languageId": "polyglot-notebook"
        }
      },
      "outputs": [],
      "source": [
        "del  '.\\temp\\collectionsSQLite' -ErrorAction SilentlyContinue\n",
        " \n",
        "$b     = ConvertFrom-Json -AsHashtable -InputObject (Get-Content \"$browserDir\\Bookmarks\" -raw) -Depth 10\n",
        "$links = $(foreach ($k in $b.roots.Keys) {foreach ($c in $b.roots[$k].children) {[pscustomObject]$c}} ) \n",
        "$links | where url -notmatch $exclude | Format-Table @{w=50;e='name'},@{w=50;e='url'} -Wrap "
      ]
    },
    {
      "attachments": {},
      "cell_type": "markdown",
      "metadata": {},
      "source": [
        "## Things for another time ... "
      ]
    },
    {
      "cell_type": "code",
      "execution_count": null,
      "metadata": {
        "dotnet_interactive": {
          "language": "pwsh"
        },
        "vscode": {
          "languageId": "polyglot-notebook"
        }
      },
      "outputs": [],
      "source": [
        "<#\n",
        "#Downloads\n",
        "sql -Table \"autofill\" -OrderBy \"count\" | select  name,count,@{n='value';e={Unprotect  $_.value}} | export-excel\n",
        "\n",
        "get-sql -Lite -Connection 'C:\\temp\\Web Data'\n",
        "sql -Describe \"credit_cards\"    \n",
        "COLUMN_NAME           TYPE_NAME COLUMN_SIZE IS_NULLABLE\n",
        "-----------           --------- ----------- -----------\n",
        "guid                                              False\n",
        "name_on_card                                       True\n",
        "expiration_month                                   True\n",
        "expiration_year                                    True\n",
        "card_number_encrypted                              True\n",
        "date_modified                                     False\n",
        "origin                                             True\n",
        "use_count                                         False\n",
        "use_date                                          False\n",
        "billing_address_id                                 True\n",
        "nickname                                           True\n",
        "\n",
        "get-sql -Lite -Connection 'C:\\temp\\History' -ShowTables -ForceNew\n",
        "SQL \"SELECT visits.id, visits.visit_time,visits.visit_duration, urls.url, urls.title FROM visits join urls limit 10\" \n",
        "\n",
        "SQL \"SELECT * FROM urls order by visit_count desc limit 10\" | ft visit_count,url\n",
        "\n",
        "SQL \"SELECT * FROM segments join segment_usage on segment_usage.segment_id = segments.id join urls on urls.id = segments.url_id limit 5\"\n",
        "\n",
        "\n",
        "sql -lite -connection C:\\temp\\History -ForceNew -sql  @\"\n",
        "    SELECT  visit_count, typed_count, title,\n",
        "            datetime(last_visit_time / 1000000 + (strftime('%s', '1601-01-01')), 'unixepoch') AS lastVisitTime,\n",
        "            url\n",
        "    FROM urls\n",
        "    ORDER BY visit_count DESC\n",
        "\"@  -close  | where url -NotMatch \"job|mail|purple\" | ogv -Title \"My top urls\"\n",
        "\n",
        "\n",
        "\n",
        "sql -lite -connection C:\\temp\\History -ForceNew -sql  @\"\n",
        "    SELECT  datetime(visit_time / 1000000 + (strftime('%s', '1601-01-01')), 'unixepoch') AS visitTime,\n",
        "            urls.url, urls.title, visit_duration\n",
        "    FROM visits\n",
        "    JOIN urls on visits.url = urls.id\n",
        "    ORDER BY visit_time DESC\n",
        "    limit 100\n",
        "\"@  -close -GridView\n",
        "\n",
        "sql -lite -connection C:\\temp\\History -ForceNew -sql  @\"\n",
        "    SELECT  term,\n",
        "            urls.url\n",
        "    FROM keyword_search_terms\n",
        "    JOIN urls on keyword_search_terms.url_id = urls.id\n",
        "\n",
        "\"@ -close | where url -notmatch \"wives|revelations|tax|pensions|life|retire\" | ogv -Title \"keyword search terms\"\n",
        "\n",
        "sql -Lite -Connection \"C:\\temp\\Cookies\" -sql \"Select host_key, name,path, has_expires, datetime(expires_utc / 1000000 + (strftime('%s', '1601-01-01')), 'unixepoch') AS expires, datetime(last_access_utc / 1000000 + (strftime('%s', '1601-01-01')), 'unixepoch') AS lastUse, samesite,source_scheme from cookies  limit 50\" -grid -close \n",
        "\n",
        "sql -Lite -Connection \"C:\\temp\\Network Action Predictor\" -Table \"network_action_predictor\" -grid -Close\n",
        "\n",
        "#top sites - most visited\n",
        "\n",
        "Sql @\"\n",
        "    select\n",
        "        collections_items_relationship.position,\n",
        "        collections.title,\n",
        "        items.title,\n",
        "        items.source,\n",
        "        items.text_content\n",
        "    from      collections_items_relationship\n",
        "        join  items       on items.id       = collections_items_relationship.item_id\n",
        "        Join  collections on collections.id = collections_items_relationship.parent_id\n",
        "    order by  collections.position,           collections_items_relationship.position\n",
        "\"@ | ogv\n",
        "\n",
        "$b = ConvertFrom-Json -AsHashtable -InputObject (Get-Content C:\\temp\\Bookmarks -raw) -Depth 10\n",
        "$links =  foreach ($c in  $b.roots.Values.children) {New-Object psobject -Property $c }\n",
        "$links | ft name,url -AutoSize -Wrap\n",
        "\n",
        "get-sql -Connection \"Driver={SQLite3 ODBC Driver};Database=C:\\temp\\Collections\\collectionsSQLite\"  -forcenew\n",
        "Sql @\"\n",
        "     select\n",
        "         collections_items_relationship.position,\n",
        "         collections.title as Collection,\n",
        "         items.title,\n",
        "         items.source,\n",
        "         items.text_content\n",
        "     from      collections_items_relationship\n",
        "         join  items       on items.id       = collections_items_relationship.item_id\n",
        "         Join  collections on collections.id = collections_items_relationship.parent_id\n",
        "     order by  collections.position           , collections_items_relationship.position\n",
        "\"@ | select -Property Position,Collection,Title, Text_Content, @{n='LinkSource'; e={\n",
        "    (ConvertFrom-Json (($_.source -replace \"^x'\", '' -replace \"'\",'' -replace  \"(\\S\\S)\",'$1 ').trim().split(\" \").ForEach({[char][System.Convert]::ToInt16($_,16)}) -join \"\")).url} }\n",
        "\n",
        "Web Data      autofill incl credit card info\n",
        "#  https://www.dataforensics.org/retrieve-saved-password-in-google-chrome/\n",
        "#>\n",
        "#..\\safe browsing cookies\n",
        "#..\\adblocking\\blocklist json file\n",
        "#..\\Functional Data"
      ]
    },
    {
      "cell_type": "code",
      "execution_count": null,
      "metadata": {
        "dotnet_interactive": {
          "language": "pwsh"
        },
        "vscode": {
          "languageId": "polyglot-notebook"
        }
      },
      "outputs": [],
      "source": []
    }
  ],
  "metadata": {
    "kernelspec": {
      "display_name": ".NET (C#)",
      "language": "C#",
      "name": ".net-csharp"
    },
    "language_info": {
      "file_extension": ".cs",
      "mimetype": "text/x-csharp",
      "name": "C#",
      "pygments_lexer": "csharp",
      "version": "8.0"
    }
  },
  "nbformat": 4,
  "nbformat_minor": 4
}
