{
  "cells": [
    {
      "cell_type": "markdown",
      "metadata": {},
      "source": [
        "## Set Exclcusions"
      ]
    },
    {
      "cell_type": "code",
      "execution_count": null,
      "metadata": {
        "dotnet_interactive": {
          "language": "pwsh"
        }
      },
      "outputs": [],
      "source": [
        "$exclude='tax|pensions|life|retire|twitter'"
      ]
    },
    {
      "cell_type": "markdown",
      "metadata": {},
      "source": [
        "## Load Get-SQL module, copy browser history, connect to it. \n",
        "The chromium engine puts data in \n",
        "```\n",
        "<<userProfile>>\n",
        "    \\AppData\n",
        "        \\Local\n",
        "            \\Publisher          {Google | Microsoft}\n",
        "                \\BrowserName    {Chrome | Edge | Edge Dev | etc}\n",
        "                    \\User Data\n",
        "                        \\Default\n",
        "```\n",
        "The first file to look at is **History**"
      ]
    },
    {
      "cell_type": "code",
      "execution_count": null,
      "metadata": {
        "dotnet_interactive": {
          "language": "pwsh"
        }
      },
      "outputs": [
        {
          "name": "stdout",
          "output_type": "stream",
          "text": [
            "\r\n",
            "Name   Version\u001b[0m\r\n",
            "----   -------\u001b[0m\r\n",
            "getsql 1.3.0.4\r\n",
            "\r\n",
            "clusters; clusters_and_visits; content_annotations; context_annotations; downloads; downloads_reroute_info; downloads_slices; downloads_url_chains; keyword_search_terms; meta; segment_usage; segments; sqlite_sequence; typed_url_sync_metadata; urls; visit_source; visits\r\n"
          ]
        }
      ],
      "source": [
        "cd ~\n",
        "$browserDir = '.\\AppData\\Local\\Microsoft\\Edge Dev\\User Data\\Default'\n",
        "if (-not (Test-Path -PathType Container \".\\temp\")) {mkdir '.\\temp'}\n",
        "\n",
        "Import-Module getsql -PassThru | Format-Table name,version \n",
        "Copy-Item \"$browserDir\\History\" -Destination '.\\temp'\n",
        "$tables = Get-SQL  -Connection .\\temp\\history  -Lite  -ShowTables\n",
        "$tables -join '; '"
      ]
    },
    {
      "cell_type": "code",
      "execution_count": null,
      "metadata": {
        "dotnet_interactive": {
          "language": "pwsh"
        }
      },
      "outputs": [
        {
          "name": "stdout",
          "output_type": "stream",
          "text": [
            "\r\n",
            "COLUMN_NAME                     TYPE_NAME COLUMN_SIZE IS_NULLABLE\u001b[0m\r\n",
            "-----------                     --------- ----------- -----------\u001b[0m\r\n",
            "id                                                          False\r\n",
            "url                                                         False\r\n",
            "visit_time                                                  False\r\n",
            "from_visit                                                   True\r\n",
            "transition                                                  False\r\n",
            "segment_id                                                   True\r\n",
            "visit_duration                                              False\r\n",
            "incremented_omnibox_typed_score                             False\r\n",
            "opener_visit                                                 True\r\n",
            "\r\n"
          ]
        }
      ],
      "source": [
        "# use SQL as an alias, Examine the table 'visits'\n",
        "sql -Describe 'visits'  "
      ]
    },
    {
      "cell_type": "markdown",
      "metadata": {},
      "source": [
        "## Oldest downloads in my history - from when I first got the machine."
      ]
    },
    {
      "cell_type": "code",
      "execution_count": null,
      "metadata": {
        "dotnet_interactive": {
          "language": "pwsh"
        }
      },
      "outputs": [
        {
          "name": "stdout",
          "output_type": "stream",
          "text": [
            "25 row(s) returned\r\n",
            "\r\n",
            "StartTime           Total KB KB/Sec URL\u001b[0m\r\n",
            "---------           -------- ------ ---\u001b[0m\r\n",
            "2019-04-16 08:50:56       39      9 https://github.com/PowerShell/PowerShell-RFC/blob/master/CommunityCall/PSTeamsCall.ics\r\n",
            "2019-04-19 16:07:06      125      4 https://cki3.checkin.lufthansa.com/boardingPasses/LH_WEBCKI.DE.STANDALONE.0LkglLFXPqMsAbR82MXW8-.pdf\r\n",
            "2019-04-25 16:58:42      921     72 https://www.ncsc.gov.uk/blog-post/passwords-passwords-everywhere\r\n",
            "2019-04-25 18:19:42      390    335 https://docs.microsoft.com/en-us/microsoftteams/teams-architecture-solutions-posters\r\n",
            "2019-04-25 18:19:57      187    411 https://docs.microsoft.com/en-us/microsoftteams/teams-architecture-solutions-posters\r\n",
            "2019-04-25 18:20:07      251    287 https://docs.microsoft.com/en-us/microsoftteams/teams-architecture-solutions-posters\r\n",
            "2019-04-25 18:21:04      327    269 https://docs.microsoft.com/en-us/microsoftteams/teams-architecture-solutions-posters\r\n",
            "2019-04-25 18:22:53      401    311 https://docs.microsoft.com/en-us/microsoftteams/teams-architecture-solutions-posters\r\n",
            "2019-04-26 11:42:16               0 \r\n",
            "2019-04-26 11:42:46   14,125   1748 https://www.manning.com/checkout/placeOrder\r\n",
            "2019-04-26 11:43:00   12,749   1691 https://www.manning.com/checkout/placeOrder\r\n",
            "2019-04-29 14:44:20   10,169   1103 http://esynic.com/instruction/KB052.pdf\r\n",
            "2019-04-30 06:24:57  177,469   3878 https://www.cs.hmc.edu/~oneill/c-a-oneill-papers.zip\r\n",
            "2019-04-30 20:59:19      181     70 https://github.com/bergmeister/pshsummit2019\r\n",
            "2019-05-01 00:52:38   16,708    850 https://nodejs.org/en/\r\n",
            "2019-05-05 18:42:40    8,713   1330 https://www.westsussex.gov.uk/media/12238/west_sussex_care_guide.pdf\r\n",
            "2019-05-05 18:44:15      334     64 https://www.westsussex.gov.uk/social-care-and-health/housing-options-and-care-homes/care-guide/\r\n",
            "2019-05-05 18:44:24       57      7 https://www.westsussex.gov.uk/social-care-and-health/housing-options-and-care-homes/care-guide/\r\n",
            "2019-05-07 07:34:16       37     14 https://login-uk.mimecast.com/m/secure/app/?tkn=X7es3LYKoAWxdXtNuN3Ex0fWgm_rWwkyRe5QE6gpJvmE2gSs-EmDXsbtXXSrwkG-fMQxnUGvUbNC2QOxhqLq1-byQq\r\n",
            "                                    jIHSF9fFqPip9OA1Q9oiFEq9wyiMOE0VP8IFvANGSJy_hAu6JMnUo35WYb8yr2qhavf1Dk6Ez7lFJVeuc#/message/eNo1zV1PwjAYhuH_0lOt6dt1X8QYF9FIAD8SwchJ05UXmFt\r\n",
            "                                    XXVcgGP-7ReX8ee7rizjUvsNqSQbEuUfYelfb2W40N6rNi8XiM2djKKZzM9w_w2RytteRPYjX8eZJHe65mIyGu7esuEteMM3JOTHonFpjY23tP3pbY0sGrW-ac9Kb_sEuMTCMJWGpd\r\n",
            "                                    F9t_9ybNC5AgIRIAI9FlIP0dY-diWXYykuVpBlGq5hmS0QqVpjQElNGGaoyKbNSKS2uQnKLnatsEOGXm1rfHvP_raPZ6c0JvV3I2RiinCby5HMGOROcS3HyafApiJRnKcQxDwk0qmr\r\n",
            "                                    C_f3a2NI3StvW-aav2vWFtoZ8_wBwjmim\r\n",
            "2019-05-07 07:34:34       37      1 https://login-uk.mimecast.com/m/secure/app/?tkn=X7es3LYKoAWxdXtNuN3Ex0fWgm_rWwkyRe5QE6gpJvmE2gSs-EmDXsbtXXSrwkG-fMQxnUGvUbNC2QOxhqLq1-byQq\r\n",
            "                                    jIHSF9fFqPip9OA1Q9oiFEq9wyiMOE0VP8IFvANGSJy_hAu6JMnUo35WYb8yr2qhavf1Dk6Ez7lFJVeuc#/message/eNo1zV1PwjAYhuH_0lOt6dt1X8QYF9FIAD8SwchJ05UXmFt\r\n",
            "                                    XXVcgGP-7ReX8ee7rizjUvsNqSQbEuUfYelfb2W40N6rNi8XiM2djKKZzM9w_w2RytteRPYjX8eZJHe65mIyGu7esuEteMM3JOTHonFpjY23tP3pbY0sGrW-ac9Kb_sEuMTCMJWGpd\r\n",
            "                                    F9t_9ybNC5AgIRIAI9FlIP0dY-diWXYykuVpBlGq5hmS0QqVpjQElNGGaoyKbNSKS2uQnKLnatsEOGXm1rfHvP_raPZ6c0JvV3I2RiinCby5HMGOROcS3HyafApiJRnKcQxDwk0qmr\r\n",
            "                                    C_f3a2NI3StvW-aav2vWFtoZ8_wBwjmim\r\n",
            "2019-05-07 07:35:14       37      1 https://login-uk.mimecast.com/m/secure/app/?tkn=X7es3LYKoAWxdXtNuN3Ex0fWgm_rWwkyRe5QE6gpJvmE2gSs-EmDXsbtXXSrwkG-fMQxnUGvUbNC2QOxhqLq1-byQq\r\n",
            "                                    jIHSF9fFqPip9OA1Q9oiFEq9wyiMOE0VP8IFvANGSJy_hAu6JMnUo35WYb8yr2qhavf1Dk6Ez7lFJVeuc#/message/eNo1zV1PwjAYhuH_0lOt6dt1X8QYF9FIAD8SwchJ05UXmFt\r\n",
            "                                    XXVcgGP-7ReX8ee7rizjUvsNqSQbEuUfYelfb2W40N6rNi8XiM2djKKZzM9w_w2RytteRPYjX8eZJHe65mIyGu7esuEteMM3JOTHonFpjY23tP3pbY0sGrW-ac9Kb_sEuMTCMJWGpd\r\n",
            "                                    F9t_9ybNC5AgIRIAI9FlIP0dY-diWXYykuVpBlGq5hmS0QqVpjQElNGGaoyKbNSKS2uQnKLnatsEOGXm1rfHvP_raPZ6c0JvV3I2RiinCby5HMGOROcS3HyafApiJRnKcQxDwk0qmr\r\n",
            "                                    C_f3a2NI3StvW-aav2vWFtoZ8_wBwjmim\r\n",
            "\r\n"
          ]
        }
      ],
      "source": [
        "# Dates are stored as microseconds since 1st Jan 1601; \n",
        "# So: convert to seconds, subtract time since '1601-01-01' (could optimize as -11644473600 but less readable)\n",
        "# and convert to a string representing date.\n",
        "$Downloads = sql @'\n",
        "    SELECT   datetime(   start_time / 1000000 + (strftime('%s', '1601-01-01')), 'unixepoch') AS StartTime,\n",
        "             datetime(   end_time   / 1000000 + (strftime('%s', '1601-01-01')), 'unixepoch') AS EndTime,\n",
        "            ((end_time - start_time)/ 1000000 )               AS Duration, \n",
        "            (received_bytes*1000000 /(end_time - start_time)) AS BytesPerSec,\n",
        "             received_bytes, state, tab_url, target_path, mime_type\n",
        "    FROM     downloads\n",
        "    ORDER BY start_time \n",
        "    LIMIT    25\n",
        "'@ \n",
        "\n",
        "$Downloads  | where tab_Url -notmatch $exclude | Format-Table -Wrap -AutoSize -property StartTime, \n",
        "                        @{n='Total KB'; e={$_.received_bytes/1kb};         a='Right';f='#,###' }, \n",
        "                        @{n='KB/Sec'  ; e={($_.BytesPerSec/1kb)}; a='right';f='0'; }, \n",
        "                        @{n='URL';e='tab_url'}   "
      ]
    },
    {
      "cell_type": "markdown",
      "metadata": {},
      "source": [
        "## Get Search terms from history"
      ]
    },
    {
      "cell_type": "code",
      "execution_count": null,
      "metadata": {
        "dotnet_interactive": {
          "language": "pwsh"
        }
      },
      "outputs": [
        {
          "name": "stdout",
          "output_type": "stream",
          "text": [
            "20 row(s) returned\r\n",
            "\r\n",
            "term\u001b[0m\r\n",
            "----\u001b[0m\r\n",
            "\"Hello, World!\" program\r\n",
            "\"Red Arrows\"\r\n",
            "\"how your brain makes up its mind\"\r\n",
            "\"i am the sharpened sword, the cast stone\"\r\n",
            "\"the body will be cremated and the ashes taken to Australia\"\r\n",
            "\"workbench.action.files\" vscode\r\n",
            "#BrazilGP\r\n",
            "$PSCmdlet.GetVariableValue('VerbosePreference') \r\n",
            "2001: A Space Odyssey (film)\r\n",
            "2020 Sakhir Grand Prix\r\n",
            "2021 Russian Grand Prix\r\n",
            "2021 São Paulo Grand Prix\r\n",
            "22 Ocotal Way%0D%0A%0D%0ASwindon\r\n",
            "7 Habits\r\n",
            "7 basic plots\r\n",
            "8tb external hard drive\r\n",
            "ASUS ZenBook Flip 13\r\n",
            "Anne Clark - I'll Walk out into Tomorrow 2017\r\n",
            "Ascii table\r\n",
            "Barry Cryer\r\n",
            "\r\n"
          ]
        }
      ],
      "source": [
        "# This time build the query from the command line -table <<Tab to name>> -select <<Tab to column>> -distinct  \"extra SQL\"\n",
        "sql -Table \"keyword_search_terms\" -Select \"term\" -Distinct \"Limit 20\"  | where term -notmatch $exclude  \n",
        "$moreComplexQuery =  @'\n",
        "    SELECT  term,\n",
        "            urls.url,\n",
        "            datetime(urls.last_visit_time / 1000000 + (strftime('%s', '1601-01-01')), 'unixepoch') AS visitTime\n",
        "    FROM keyword_search_terms\n",
        "    JOIN urls on keyword_search_terms.url_id = urls.id\n",
        "'@"
      ]
    },
    {
      "cell_type": "markdown",
      "metadata": {},
      "source": [
        "## Most visited sites and most recently visited from History"
      ]
    },
    {
      "cell_type": "code",
      "execution_count": null,
      "metadata": {
        "dotnet_interactive": {
          "language": "pwsh"
        }
      },
      "outputs": [
        {
          "name": "stdout",
          "output_type": "stream",
          "text": [
            "\r\n",
            "COLUMN_NAME                     TYPE_NAME COLUMN_SIZE IS_NULLABLE\u001b[0m\r\n",
            "-----------                     --------- ----------- -----------\u001b[0m\r\n",
            "id                                                          False\r\n",
            "url                                                         False\r\n",
            "visit_time                                                  False\r\n",
            "from_visit                                                   True\r\n",
            "transition                                                  False\r\n",
            "segment_id                                                   True\r\n",
            "visit_duration                                              False\r\n",
            "incremented_omnibox_typed_score                             False\r\n",
            "opener_visit                                                 True\r\n",
            "\r\n"
          ]
        }
      ],
      "source": [
        "sql -Describe \"visits\"  "
      ]
    },
    {
      "cell_type": "code",
      "execution_count": null,
      "metadata": {
        "dotnet_interactive": {
          "language": "pwsh"
        }
      },
      "outputs": [
        {
          "name": "stdout",
          "output_type": "stream",
          "text": [
            "10933 row(s) returned\r\n",
            "\r\n",
            "name                        Sum\u001b[0m\r\n",
            "----                        ---\u001b[0m\r\n",
            "https://purpleport.com     3781\r\n",
            "https://www.ancestry.co.uk 3733\r\n",
            "https://www.dpreview.com   1897\r\n",
            "https://github.com         1346\r\n",
            "https://www.bing.com       1168\r\n",
            "https://dev.azure.com      1029\r\n",
            "https://www.ocado.com       389\r\n",
            "http://127.0.0.1:4000       345\r\n",
            "https://www.google.co.uk    337\r\n",
            "https://www.youtube.com     299\r\n",
            "https://t.co                261\r\n",
            "https://docs.microsoft.com  236\r\n",
            "https://octopus.com         208\r\n",
            "https://www.bbc.co.uk       200\r\n",
            "https://www.microsoft.com   196\r\n",
            "https://smile.amazon.co.uk  174\r\n",
            "https://www.jobserve.com    158\r\n",
            "https://www.linkedin.com    139\r\n",
            "https://www.ebay.co.uk      129\r\n",
            "http://forix.com            117\r\n",
            "\r\n"
          ]
        }
      ],
      "source": [
        "$Grouped = sql @\"\n",
        "    SELECT  count (visit_Time) as visits , \n",
        "            urls.url\n",
        "    FROM  visits JOIN  urls\n",
        "      ON  visits.url = urls.id\n",
        "    WHERE    (visits.visit_time < 100000000000000000) \n",
        "    Group BY urls.url\n",
        "    Order by visits desc\n",
        "\"@  | where url -NotMatch $exclude  | Group-Object -Property @{e={$_.url -replace \"(?<!/)/(?!/).*$\",\"\"}}\n",
        "\n",
        "$totals = foreach ($g in $grouped) {$g.group | measure -sum visits | select @{n='name'; e={$g.name}} , Sum}\n",
        "$totals | sort sum -Descending | select -first 20\n"
      ]
    },
    {
      "cell_type": "code",
      "execution_count": null,
      "metadata": {
        "dotnet_interactive": {
          "language": "pwsh"
        }
      },
      "outputs": [
        {
          "name": "stdout",
          "output_type": "stream",
          "text": [
            "5 row(s) returned\r\n",
            "\r\n",
            "id              : \u001b[0m6\r\n",
            "name            : \u001b[0mhttp://jobserve.com/gb/en/JobSearch.aspx\r\n",
            "url_id          : \u001b[0m8093\r\n",
            "id1             : \u001b[0m6\r\n",
            "segment_id      : \u001b[0m6\r\n",
            "time_slot       : \u001b[0m13199151600000000\r\n",
            "visit_count     : \u001b[0m4\r\n",
            "id2             : \u001b[0m8093\r\n",
            "url             : \u001b[0mhttps://www.jobserve.com/gb/en/JobSearch.aspx?shid=0349D2A9E4FD14A4D4\r\n",
            "title           : \u001b[0mFind powershell Jobs in oxford with JobServe.com\r\n",
            "visit_count1    : \u001b[0m351\r\n",
            "typed_count     : \u001b[0m2\r\n",
            "last_visit_time : \u001b[0m13284157106704669\r\n",
            "hidden          : \u001b[0m0\r\n",
            "\r\n",
            "id              : \u001b[0m11\r\n",
            "name            : \u001b[0mhttp://bbc.co.uk/\r\n",
            "url_id          : \u001b[0m5973\r\n",
            "id1             : \u001b[0m11\r\n",
            "segment_id      : \u001b[0m11\r\n",
            "time_slot       : \u001b[0m13199151600000000\r\n",
            "visit_count     : \u001b[0m11\r\n",
            "id2             : \u001b[0m5973\r\n",
            "url             : \u001b[0mhttps://www.bbc.co.uk/\r\n",
            "title           : \u001b[0mBBC - Home\r\n",
            "visit_count1    : \u001b[0m123\r\n",
            "typed_count     : \u001b[0m23\r\n",
            "last_visit_time : \u001b[0m13284130327977164\r\n",
            "hidden          : \u001b[0m0\r\n",
            "\r\n",
            "id              : \u001b[0m14\r\n",
            "name            : \u001b[0mhttp://google.com/\r\n",
            "url_id          : \u001b[0m5036\r\n",
            "id1             : \u001b[0m17\r\n",
            "segment_id      : \u001b[0m14\r\n",
            "time_slot       : \u001b[0m13199238000000000\r\n",
            "visit_count     : \u001b[0m1\r\n",
            "id2             : \u001b[0m5036\r\n",
            "url             : \u001b[0mhttps://www.google.com/\r\n",
            "title           : \u001b[0mGoogle\r\n",
            "visit_count1    : \u001b[0m104\r\n",
            "typed_count     : \u001b[0m7\r\n",
            "last_visit_time : \u001b[0m13283021871470576\r\n",
            "hidden          : \u001b[0m0\r\n",
            "\r\n",
            "id              : \u001b[0m17\r\n",
            "name            : \u001b[0mhttp://secure.easymoney.com/dashboard\r\n",
            "url_id          : \u001b[0m5908\r\n",
            "id1             : \u001b[0m20\r\n",
            "segment_id      : \u001b[0m17\r\n",
            "time_slot       : \u001b[0m13199238000000000\r\n",
            "visit_count     : \u001b[0m2\r\n",
            "id2             : \u001b[0m5908\r\n",
            "url             : \u001b[0mhttps://secure.easymoney.com/dashboard\r\n",
            "title           : \u001b[0measyMoney - Peer to peer lending to property professionals\r\n",
            "visit_count1    : \u001b[0m40\r\n",
            "typed_count     : \u001b[0m1\r\n",
            "last_visit_time : \u001b[0m13282661840854195\r\n",
            "hidden          : \u001b[0m0\r\n",
            "\r\n",
            "id              : \u001b[0m6\r\n",
            "name            : \u001b[0mhttp://jobserve.com/gb/en/JobSearch.aspx\r\n",
            "url_id          : \u001b[0m8093\r\n",
            "id1             : \u001b[0m23\r\n",
            "segment_id      : \u001b[0m6\r\n",
            "time_slot       : \u001b[0m13199324400000000\r\n",
            "visit_count     : \u001b[0m1\r\n",
            "id2             : \u001b[0m8093\r\n",
            "url             : \u001b[0mhttps://www.jobserve.com/gb/en/JobSearch.aspx?shid=0349D2A9E4FD14A4D4\r\n",
            "title           : \u001b[0mFind powershell Jobs in oxford with JobServe.com\r\n",
            "visit_count1    : \u001b[0m351\r\n",
            "typed_count     : \u001b[0m2\r\n",
            "last_visit_time : \u001b[0m13284157106704669\r\n",
            "hidden          : \u001b[0m0\r\n",
            "\r\n",
            "\r\n"
          ]
        }
      ],
      "source": [
        "SQL \"SELECT * FROM segments join segment_usage on segment_usage.segment_id = segments.id join urls on urls.id = segments.url_id limit 5\"  "
      ]
    },
    {
      "cell_type": "code",
      "execution_count": null,
      "metadata": {
        "dotnet_interactive": {
          "language": "pwsh"
        }
      },
      "outputs": [
        {
          "name": "stdout",
          "output_type": "stream",
          "text": [
            "100 row(s) returned\r\n",
            "\r\n",
            "visitTime           url                                                                                                                                           title\r\n",
            "---------           ---                                                                                                                                           -----\r\n",
            "2021-12-18 21:05:54 https://purpleport.com/recent-discussions/                                                                                                    Recent Discussions\r\n",
            "2021-12-18 21:03:52 https://github.com/PowerShell/PowerShell/issues/16635#issuecomment-996990025                                                                  PSStyle means objects rende…\r\n",
            "2021-12-18 21:03:52 https://github.com/PowerShell/PowerShell/issues/16635?notification_referrer_id=NT_kwDOAPdWubMyODMyNjE4MDU4OjE2MjA5NTkz#issuecomment-996990025 PSStyle means objects rende…\r\n",
            "2021-12-18 21:03:47 https://github.com/notifications                                                                                                              Notifications\r\n",
            "2021-12-18 21:03:36 https://github.com/jhoneill                                                                                                                   jhoneill (James O'Neill)\r\n",
            "2021-12-18 21:03:19 https://en.wikipedia.org/wiki/Main_Page                                                                                                       Wikipedia, the free encyclo…\r\n",
            "2021-12-18 21:03:19 https://en.wikipedia.org/                                                                                                                     Wikipedia, the free encyclo…\r\n",
            "2021-12-18 20:59:45 https://www.ebay.de/itm/144328707317?epid=28027178903&hash=item219aa94cf5:g:VgQAAOSwi61htkRE                                                  Pentax Magnifying Eyecup O-…\r\n",
            "2021-12-18 20:58:34 https://purpleport.com/recent-discussions/                                                                                                    Recent Discussions\r\n",
            "2021-12-18 20:58:22 https://purpleport.com/group/general-off-topic/181195/5G/                                                                                     5G (Page 1) / General Off T…\r\n",
            "2021-12-18 20:58:00 https://purpleport.com/recent-discussions/                                                                                                    Recent Discussions\r\n",
            "2021-12-18 20:57:41 https://www.dpreview.com/forums/1036                                                                                                          Pentax SLR Talk Forum: Digi…\r\n",
            "2021-12-18 20:57:34 https://www.dpreview.com/forums/post/65753936                                                                                                 Re: Lost the eyecup on my K…\r\n",
            "2021-12-18 20:57:34 https://www.dpreview.com/forums/redirect-post/65753936                                                                                        Re: Lost the eyecup on my K…\r\n",
            "2021-12-18 20:39:42 https://www.ricoh-imaging.eu/eu_en/eyecup-ft-for-k-1                                                                                          Buy Eyecup FT for K-1, for …\r\n",
            "2021-12-18 20:39:33 https://www.ricoh-imaging.eu/eu_en/eyecup-fr                                                                                                  Order Eyecup FR , for €11.9…\r\n",
            "2021-12-18 20:38:58 https://www.ricoh-imaging.eu/eu_en/eyecup-ft-for-k-1                                                                                          Buy Eyecup FT for K-1, for …\r\n",
            "2021-12-18 20:38:52 https://www.bing.com/newtabredir?url=https%3A%2F%2Fwww.ricoh-imaging.eu%2Feu_en%2Feyecup-ft-for-k-1                                           \r\n",
            "2021-12-18 20:29:54 https://www.dpreview.com/forums/reply?parent=65752592&quote=yes                                                                               Re: Lost the eyecup on my K…\r\n",
            "2021-12-18 20:29:21 https://www.dpreview.com/forums/post/65752592                                                                                                 Lost the eyecup on my K-3 m…\r\n",
            "\r\n",
            "\r\n"
          ]
        }
      ],
      "source": [
        "# close the SQL connection after this one. Give it few seconds before deleting the file from \\temp - in the next block \n",
        "sql @\"\n",
        "    SELECT  datetime(visit_time / 1000000 + (strftime('%s', '1601-01-01')), 'unixepoch') AS visitTime , \n",
        "            urls.url,  urls.title\n",
        "    FROM  visits JOIN  urls\n",
        "      ON  visits.url = urls.id\n",
        "    WHERE    (visit_time < 100000000000000000) \n",
        "    ORDER BY visit_time DESC\n",
        "    LIMIT 100\n",
        "\"@  | where url -NotMatch $exclude | Select -first 20 \n",
        "\n",
        "sql -close "
      ]
    },
    {
      "cell_type": "code",
      "execution_count": null,
      "metadata": {
        "dotnet_interactive": {
          "language": "pwsh"
        }
      },
      "outputs": [],
      "source": [
        "cd ~\n",
        "del  '.\\temp\\history' #-ErrorAction SilentlyContinue\n",
        "copy \"$browserDir\\Top Sites\" -Destination '.\\temp'\n",
        "sql -ForceNew -Lite -Connection '.\\temp\\top sites'-Table \"top_sites\" -OrderBy \"url_rank\" -where \"url_rank\" -lt 10 -close | where url -NotMatch $exclude | Out-String"
      ]
    },
    {
      "cell_type": "markdown",
      "metadata": {},
      "source": [
        "## Collections in Microsft Edge (ChrEdge from versions ~80 onwards)"
      ]
    },
    {
      "cell_type": "code",
      "execution_count": 1,
      "metadata": {
        "dotnet_interactive": {
          "language": "pwsh"
        }
      },
      "outputs": [
        {
          "data": {
            "text/plain": [
              "collections\r\n",
              "collections_items_relationship\r\n",
              "collections_sync\r\n",
              "comments\r\n",
              "favicons\r\n",
              "items\r\n",
              "items_offline_data\r\n",
              "items_sync\r\n",
              "meta\r\n",
              "\r\n"
            ]
          },
          "execution_count": 1,
          "metadata": {},
          "output_type": "execute_result"
        },
        {
          "data": {
            "text/plain": [
              "213 row(s) returned\r\n"
            ]
          },
          "execution_count": 1,
          "metadata": {},
          "output_type": "execute_result"
        }
      ],
      "source": [
        "cd ~\n",
        "$browserDir = '.\\AppData\\Local\\Microsoft\\Edge Dev\\User Data\\Default'\n",
        "if (-not (Test-Path -PathType Container \".\\temp\")) {mkdir '.\\temp'}\n",
        "\n",
        "Import-Module getsql\n",
        "\n",
        "del  '.\\temp\\top sites' -ErrorAction SilentlyContinue\n",
        "\n",
        "copy \"$browserDir\\Collections\\collectionsSQLite\" -Destination '.\\temp'\n",
        "Get-SQL -Lite -Connection '.\\temp\\collectionsSQLite' -forcenew -ShowTables |Out-String\n",
        "# close the SQL connection after this one. Give it few seconds before deleting the file from .\\temp - in the next block \n",
        "$collectionrows = Sql @'\n",
        "    SELECT\n",
        "        collections_items_relationship.position,\n",
        "        collections.title AS Collection,\n",
        "        items.title,\n",
        "        items.source,\n",
        "        items.text_content\n",
        "    FROM                            collections_items_relationship\n",
        "    JOIN      items       on        collections_items_relationship.item_id   = items.id  \n",
        "    JOIN      collections on        collections_items_relationship.parent_id = collections.id \n",
        "    ORDER BY  collections.position, collections_items_relationship.position\n",
        "'@ -Close | Select-Object -Property Collection,Position, Title,\n",
        "                @{n='LinkSource';   e={(ConvertFrom-Json ([string]::new($_.source))).url} },\n",
        "                Text_Content, \n",
        "                @{n='LinkSiteName'; e={(ConvertFrom-Json ([string]::new($_.source))).websiteName} }"
      ]
    },
    {
      "cell_type": "code",
      "execution_count": 1,
      "metadata": {
        "dotnet_interactive": {
          "language": "pwsh"
        }
      },
      "outputs": [
        {
          "data": {
            "text/plain": [
              "96 row(s) returned\r\n"
            ]
          },
          "execution_count": 1,
          "metadata": {},
          "output_type": "execute_result"
        },
        {
          "data": {
            "text/plain": [
              "\r\n",
              "Collection     position title\r\n",
              "----------     -------- -----                                                                                                                                                                 \r\n",
              "Training Pile         1 How I accidentally created a creepy Halloween bot ... and you can too! - DEV\r\n",
              "Training Pile         3 Azure Functions: \"Azure Functions - live via Restream.io\"\r\n",
              "Training Pile         4 Writing an Extension Vault for PowerShell SecretManagement Preview 4\r\n",
              "Training Pile         5 Azure Web App Service and GitHub Actions (Video Tutorial) | Azure DevOps Blog\r\n",
              "Training Pile         6 How to make your Azure DevOps CI/CD pipeline faster - Tim Deschryver\r\n",
              "Training Pile         7 An API layer of PowerShell-based Function Apps - a few tips\r\n",
              "Training Pile         8 Remote State Management with Terraform Cloud - YouTube\r\n",
              "Training Pile         9 Using Terraform with Azure | Microsoft Docs\r\n",
              "Training Pile        10 Create a Kubernetes cluster with Azure Kubernetes Service (AKS) using Terraform | Microsoft Docs\r\n",
              "Training Pile        11 Tutorial - Terraform testing overview | Microsoft Docs\r\n",
              "Training Pile        12 - Azure Global BootCamp 2020\r\n",
              "AzDo Site             1 Developer Documentation - Overview\r\n",
              "RDP Notes             1 Remote Desktop Services 2016, Standard Deployment – Part 4 – RD Web Access (Part2) – Nedim's IT CORNER\r\n",
              "RDP Notes             2 RemoteDesktop | Microsoft Docs\r\n",
              "RDP Notes             3 VBScript - List Terminal Services Session Directory Settings\r\n",
              "RDP Notes             4 Lifesaving notes for RDP 2012 farm deployments with RD brokers and everything else - Ondrej Sevecek's English Pages\r\n",
              "Odds and ends         1 Steal Chrome Passwords and Decrypt with Python - Geekswipe\r\n",
              "Odds and ends         2 How to Recover Saved Passwords in Google Chrome | XenArmor\r\n",
              "Odds and ends         3 ITIL 4 Managing Professional in 1,000 words\r\n",
              "Odds and ends         4 Causeway | Microsoft Teams\r\n",
              "Odds and ends         5 DevOps%20by%20Corndel%20Digital.pdf?\r\n",
              "Odds and ends         6 Comparing ThreadJob to PSJobs in PowerShell 7 on Linux - Petri\r\n",
              "Odds and ends         7 How to Use the BITS Module to Transfer Files using PowerShell – CloudSavvy IT\r\n",
              "Odds and ends         8 Automating Visual Studio Code with PowerShell - Ironman Software\r\n",
              "Odds and ends         9 Write PowerShell Online using Visual Studio Codespaces - Thomas Maurer\r\n",
              "Odds and ends        10 Project Natick Phase 2\r\n",
              "Odds and ends        11 How To Restrict Internet Access Using Group Policy (GPO) - the Sysadmin Channel\r\n",
              "Odds and ends        12 Auto-Learning Auto-Completion - powershell.one\r\n",
              "Odds and ends        13 Extra Evening June MC2MC - MC2MC\r\n",
              "Odds and ends        14 Project Jupyter | Installing the Jupyter Software\r\n",
              "Odds and ends        15 .NET Interactive is here! | .NET Notebooks Preview 2 | .NET Blog\r\n",
              "Odds and ends        16 Windows Virtual Desktop: The Best Step-by-Step Walkthrough - Security Boulevard\r\n",
              "Odds and ends        17 Unlocking the power of location:The UK’s geospatial strategy - GOV.UK\r\n",
              "Odds and ends        18 Resolving PowerShell Module Assembly Dependency Conflicts | PowerShell\r\n",
              "Odds and ends        19 One Ops Question: Should I use Azure Resource Manager Templates or Terraform?\r\n",
              "Odds and ends        21 https://ico.org.uk/media/about-the-ico/documents/2617838/ico-report-on-mpe-in-england-and-wales-v1_1.pdf\r\n",
              "Odds and ends        22 \"Loading\" of Windows Runtime assemblies fails in 7.1 Preview 4 · Issue #13042 · PowerShell/PowerShell\r\n",
              "Odds and ends        23 Add a switch to Select-String that returns the matching parts only, analogous to grep -o · Issue #7712 · PowerShell/PowerShell\r\n",
              "Odds and ends        24 Publish a Post for a Jekyll Site on a Schedule - PowerShell: What A Novel Idea\r\n",
              "Azure notes           1 Azure Boards & Repos app for Teams\r\n",
              "                       \r\n",
              "Azure notes           2 Link GitHub commits & PRs to work items on Azure Boards\r\n",
              "Azure notes           3 Understand approvals and gates in Azure Pipelines \r\n",
              "Azure notes           4 Building an Azure DevOps Pipeline [Soup to Nuts]\r\n",
              "Azure notes           5 Catalog of the built-in tasks for Azure Pipelines\r\n",
              "Azure notes           6 Expressions - Azure Pipelines reference\r\n",
              "Azure notes           7 Conditions - Azure Pipelines reference\r\n",
              "Azure notes           8 Is there a description of the wiql that covers WorkItemLink Queries?\r\n",
              "Azure notes           9 WIQL syntax for Link Query | Microsoft Docs\r\n",
              "Azure notes          10 WIQL reference syntax - Azure Boards | Microsoft Docs\r\n",
              "Azure notes          11 REST APIs for Azure DevOps\r\n",
              "Azure notes          12 Variables - Azure Pipelines | Microsoft Docs\r\n",
              "Azure notes          13 YAML schema - Azure Pipelines | Microsoft Docs\r\n",
              "Azure notes          14 Hidden Gems in Azure Pipelines: Creating Your Own $(Rev) Variable Using Counter Expression in Azure Pipelines | Kasun Kodagoda\r\n",
              "Azure notes          16 Download Secure File task - Azure Pipelines | Microsoft Docs\r\n",
              "Azure notes          17 Use an Azure file share with Windows | Microsoft Docs\r\n",
              "Azure notes          18 Desired State Configuration extension with Azure Resource Manager templates | Microsoft Docs\r\n",
              "Azure notes          19 Desired State Configuration for Azure overview | Microsoft Docs\r\n",
              "Azure notes          20 Microsoft-hosted agents for Azure Pipelines - Azure Pipelines | Microsoft Docs\r\n",
              "Azure notes          21 How to Run DSC Scripts on Azure VMs with ARM Templates\r\n",
              "Azure notes          22 Logging commands - Azure Pipelines | Microsoft Docs\r\n",
              "Azure notes          24 Azure Resource Manager Templates - Part One - VM Extensions\r\n",
              "Azure notes          25 Using PowerShell DSC in ARM Templates - Mavention\r\n",
              "Azure notes          26 ExpressRoute: Link a VNet to a circuit: Azure portal | Microsoft Docs\r\n",
              "Azure notes          34 Azure ExpressRoute: Add a gateway to a VNet: PowerShell | Microsoft Docs\r\n",
              "Azure notes          38 Virtual network for Azure services | Microsoft Docs\r\n",
              "Azure notes          39 Quickstart - Create a Terraform configuration for Azure | Microsoft Docs\r\n",
              "Azure notes          41 Interpolation Syntax - 0.11 Configuration Language - Terraform by HashiCorp\r\n",
              "Azure notes          42 How to hide or edit the reason field in Azure DevOps | Azure DevOps Blog\r\n",
              "Azure notes          43 Deploy Any Resource With The New Kubernetes Provider for HashiCorp Terraform\r\n",
              "Azure training        1 How to pick the right Azure Exam Certification Path\r\n",
              "Azure training        2 How to Prepare and Pass a Microsoft Azure Exam\r\n",
              "Azure training        3 How to Learn Microsoft Azure in 2020 - Thomas Maurer\r\n",
              "Azure training        4 Microsoft Certified: Azure DevOps Engineer Expert - Learn\r\n",
              "Azure training        5 Azure DevOps AZ-400 Exam – Study Notes – Azure Greg\r\n",
              "Azure training        6 Azure DevOps Hands-On Labs\r\n",
              "Azure training        7 Browse all - Learn\r\n",
              "Azure training        8 Azure fundamentals learning path - Learn | Microsoft Docs\r\n",
              "Azure training        9 Build applications with Azure DevOps learning path - Learn\r\n",
              "Azure training       10 Deploy applications with Azure DevOps learning path - Learn | Microsoft Docs\r\n",
              "Azure training       11 Provision infrastructure in Azure Pipelines - Learn - Learn | Microsoft Docs\r\n",
              "Azure training       12 Deploy a website to Azure with Azure App Service learning path - Learn | Microsoft Docs\r\n",
              "Azure training       13 Azure/azure-api-management-devops-resource-kit: Azure API Management DevOps Resource Kit\r\n",
              "Azure training       14 Introduction to Microsoft 365 core services and features - Learn | Microsoft Docs\r\n",
              "Azure training       15 Core Cloud Services - Introduction to Azure compute - Learn | Microsoft Docs\r\n",
              "Azure training       16 Architect migration, business continuity, and disaster recovery in Azure learning path - Learn | Microsoft Docs\r\n",
              "Azure training       17 What is Microsoft 365? - Learn | Microsoft Docs\r\n",
              "Azure training       18 How to Deploy your First AKS Cluster [Detailed Guide]\r\n",
              "Azure training       19 Azure DevOps documentation | Microsoft Docs\r\n",
              "Azure training       20 Azure Pipelines - Build | Visual Studio Toolbox | Channel 9\r\n",
              "Azure training       21 Azure Pipelines - Release | Visual Studio Toolbox | Channel 9\r\n",
              "Azure training       26 Build a CI/CD pipeline for Azure API Management - YouTube\r\n",
              "Azure training       27 AZ-304 Study Guide: Microsoft Azure Architect Design - Thomas Maurer\r\n",
              "Azure training       28 Azure Administrator (AZ-104) Accelerated Exam Prep Workshop\r\n",
              "Azure training       29 Learning Path – Microsoft Azure: AZ-400 Azure DevOps Solutions – Linux Academy\r\n",
              "Azure training       30 Get Started with Terraform by Building an Azure VM [Tutorial]\r\n",
              "Azure training       31 AZ-900T00-A - Microsoft Azure Fundamentals | Skillpipe\r\n",
              "\r\n",
              "\r\n"
            ]
          },
          "execution_count": 1,
          "metadata": {},
          "output_type": "execute_result"
        }
      ],
      "source": [
        "$collectionrows | Format-Table -AutoSize -wrap | Out-String -Width 190"
      ]
    },
    {
      "cell_type": "code",
      "execution_count": 1,
      "metadata": {
        "dotnet_interactive": {
          "language": "pwsh"
        }
      },
      "outputs": [],
      "source": [
        "#alternatively   \n",
        "# Find duplicates \n",
        "#$collectionrows | group -Property LinkSource | where count -ge 2 | select -ExpandProperty group \n",
        "\n",
        "$collectionrows | Export-Excel\n",
        "del  '.\\temp\\collectionsSQLite' -ErrorAction SilentlyContinue"
      ]
    },
    {
      "cell_type": "markdown",
      "metadata": {},
      "source": [
        "## Bookmarks are a JSON file. Let's Parse that :-) "
      ]
    },
    {
      "cell_type": "code",
      "execution_count": 1,
      "metadata": {
        "dotnet_interactive": {
          "language": "pwsh"
        }
      },
      "outputs": [
        {
          "data": {
            "text/plain": [
              "\r\n"
            ]
          },
          "execution_count": 1,
          "metadata": {},
          "output_type": "execute_result"
        },
        {
          "data": {
            "text/plain": [
              "name                                               url\r\n"
            ]
          },
          "execution_count": 1,
          "metadata": {},
          "output_type": "execute_result"
        },
        {
          "data": {
            "text/plain": [
              "----                                               ---\r\n"
            ]
          },
          "execution_count": 1,
          "metadata": {},
          "output_type": "execute_result"
        },
        {
          "data": {
            "text/plain": [
              "Tips on how to take Microsoft Azure Certification  https://www.thomasmaurer.ch/2019/09/tips-on-how-\r\n"
            ]
          },
          "execution_count": 1,
          "metadata": {},
          "output_type": "execute_result"
        },
        {
          "data": {
            "text/plain": [
              "Exams - Thomas Maurer                              to-take-microsoft-azure-certification-exams/\r\n"
            ]
          },
          "execution_count": 1,
          "metadata": {},
          "output_type": "execute_result"
        },
        {
          "data": {
            "text/plain": [
              "My Visual Studio                                   https://my.visualstudio.com/Benefits?wt.mc_id=o~\r\n"
            ]
          },
          "execution_count": 1,
          "metadata": {},
          "output_type": "execute_result"
        },
        {
          "data": {
            "text/plain": [
              "StartAutomating/PSDevOps: Tools for DevOps         https://github.com/StartAutomating/PSDevOps\r\n"
            ]
          },
          "execution_count": 1,
          "metadata": {},
          "output_type": "execute_result"
        },
        {
          "data": {
            "text/plain": [
              "Azure/azure-api-management-devops-resource-kit:    https://github.com/Azure/azure-api-management-de\r\n"
            ]
          },
          "execution_count": 1,
          "metadata": {},
          "output_type": "execute_result"
        },
        {
          "data": {
            "text/plain": [
              "Azure API Management DevOps Resource Kit           vops-resource-kit\r\n"
            ]
          },
          "execution_count": 1,
          "metadata": {},
          "output_type": "execute_result"
        },
        {
          "data": {
            "text/plain": [
              "Azure Pipelines YAML schema                        https://docs.microsoft.com/en-gb/azure/devops/pi\r\n"
            ]
          },
          "execution_count": 1,
          "metadata": {},
          "output_type": "execute_result"
        },
        {
          "data": {
            "text/plain": [
              "                                                   pelines/yaml-schema?view=azure-devops \r\n"
            ]
          },
          "execution_count": 1,
          "metadata": {},
          "output_type": "execute_result"
        },
        {
          "data": {
            "text/plain": [
              "Automated Web Testing with Selenium and            https://ironmansoftware.com/automated-web-testin\r\n"
            ]
          },
          "execution_count": 1,
          "metadata": {},
          "output_type": "execute_result"
        },
        {
          "data": {
            "text/plain": [
              "PowerShell - Ironman Software                      g-with-selenium-and-powershell/\r\n"
            ]
          },
          "execution_count": 1,
          "metadata": {},
          "output_type": "execute_result"
        },
        {
          "data": {
            "text/plain": [
              "Azure DevOps documentation | Microsoft Docs        https://docs.microsoft.com/en-us/azure/devops/?W\r\n"
            ]
          },
          "execution_count": 1,
          "metadata": {},
          "output_type": "execute_result"
        },
        {
          "data": {
            "text/plain": [
              "                                                   T.mc_id=vstoolbox-c9-niner&view=azure-devops\r\n"
            ]
          },
          "execution_count": 1,
          "metadata": {},
          "output_type": "execute_result"
        },
        {
          "data": {
            "text/plain": [
              "My Visual studio Information                       https://app.vsaex.visualstudio.com/me\r\n"
            ]
          },
          "execution_count": 1,
          "metadata": {},
          "output_type": "execute_result"
        },
        {
          "data": {
            "text/plain": [
              "Noisli                                             https://www.noisli.com/\r\n"
            ]
          },
          "execution_count": 1,
          "metadata": {},
          "output_type": "execute_result"
        },
        {
          "data": {
            "text/plain": [
              "how to export a class in powershell v5 module -    https://stackoverflow.com/questions/31051103/how\r\n"
            ]
          },
          "execution_count": 1,
          "metadata": {},
          "output_type": "execute_result"
        },
        {
          "data": {
            "text/plain": [
              "Stack Overflow                                     -to-export-a-class-in-powershell-v5-module\r\n"
            ]
          },
          "execution_count": 1,
          "metadata": {},
          "output_type": "execute_result"
        },
        {
          "data": {
            "text/plain": [
              "Azure Devops fires Pipeline triggers defined in    https://developercommunity.visualstudio.com/cont\r\n"
            ]
          },
          "execution_count": 1,
          "metadata": {},
          "output_type": "execute_result"
        },
        {
          "data": {
            "text/plain": [
              "Yaml when it should not - Developer Community      ent/problem/913773/...\r\n"
            ]
          },
          "execution_count": 1,
          "metadata": {},
          "output_type": "execute_result"
        },
        {
          "data": {
            "text/plain": [
              "Azure/network-security-group/azurerm | Terraform   https://registry.terraform.io/modules/Azure/netw\r\n"
            ]
          },
          "execution_count": 1,
          "metadata": {},
          "output_type": "execute_result"
        },
        {
          "data": {
            "text/plain": [
              "Registry                                           ork-security-group/azurerm/3.0.1?tab=inputs\r\n"
            ]
          },
          "execution_count": 1,
          "metadata": {},
          "output_type": "execute_result"
        },
        {
          "data": {
            "text/plain": [
              "Special Offers | Bargain & Discount Gifts -        https://www.virginexperiencedays.co.uk/special-o\r\n"
            ]
          },
          "execution_count": 1,
          "metadata": {},
          "output_type": "execute_result"
        },
        {
          "data": {
            "text/plain": [
              "Virgin Experience Days                             ffers \r\n"
            ]
          },
          "execution_count": 1,
          "metadata": {},
          "output_type": "execute_result"
        },
        {
          "data": {
            "text/plain": [
              "What to do when your build hangs on the Hosted     https://jessehouwing.net/what-to-do-when-your-bu\r\n"
            ]
          },
          "execution_count": 1,
          "metadata": {},
          "output_type": "execute_result"
        },
        {
          "data": {
            "text/plain": [
              "Pool...                                            ild-hangs-on-the-hosted-pool/\r\n"
            ]
          },
          "execution_count": 1,
          "metadata": {},
          "output_type": "execute_result"
        },
        {
          "data": {
            "text/plain": [
              "\r\n"
            ]
          },
          "execution_count": 1,
          "metadata": {},
          "output_type": "execute_result"
        }
      ],
      "source": [
        "del  '.\\temp\\collectionsSQLite' -ErrorAction SilentlyContinue\n",
        " \n",
        "$b     = ConvertFrom-Json -AsHashtable -InputObject (Get-Content \"$browserDir\\Bookmarks\" -raw) -Depth 10\n",
        "$links = $(foreach ($k in $b.roots.Keys) {foreach ($c in $b.roots[$k].children) {[pscustomObject]$c}} ) \n",
        "$links | where url -notmatch $exclude | Format-Table @{w=50;e='name'},@{w=50;e='url'} -Wrap "
      ]
    },
    {
      "cell_type": "markdown",
      "metadata": {},
      "source": [
        "## Things for another time ... "
      ]
    },
    {
      "cell_type": "code",
      "execution_count": 1,
      "metadata": {
        "dotnet_interactive": {
          "language": "pwsh"
        }
      },
      "outputs": [],
      "source": [
        "<#\n",
        "#Downloads\n",
        "sql -Table \"autofill\" -OrderBy \"count\" | select  name,count,@{n='value';e={Unprotect  $_.value}} | export-excel\n",
        "\n",
        "get-sql -Lite -Connection 'C:\\temp\\Web Data'\n",
        "sql -Describe \"credit_cards\"    \n",
        "COLUMN_NAME           TYPE_NAME COLUMN_SIZE IS_NULLABLE\n",
        "-----------           --------- ----------- -----------\n",
        "guid                                              False\n",
        "name_on_card                                       True\n",
        "expiration_month                                   True\n",
        "expiration_year                                    True\n",
        "card_number_encrypted                              True\n",
        "date_modified                                     False\n",
        "origin                                             True\n",
        "use_count                                         False\n",
        "use_date                                          False\n",
        "billing_address_id                                 True\n",
        "nickname                                           True\n",
        "\n",
        "get-sql -Lite -Connection 'C:\\temp\\History' -ShowTables -ForceNew\n",
        "SQL \"SELECT visits.id, visits.visit_time,visits.visit_duration, urls.url, urls.title FROM visits join urls limit 10\" \n",
        "\n",
        "SQL \"SELECT * FROM urls order by visit_count desc limit 10\" | ft visit_count,url\n",
        "\n",
        "SQL \"SELECT * FROM segments join segment_usage on segment_usage.segment_id = segments.id join urls on urls.id = segments.url_id limit 5\"\n",
        "\n",
        "\n",
        "sql -lite -connection C:\\temp\\History -ForceNew -sql  @\"\n",
        "    SELECT  visit_count, typed_count, title,\n",
        "            datetime(last_visit_time / 1000000 + (strftime('%s', '1601-01-01')), 'unixepoch') AS lastVisitTime,\n",
        "            url\n",
        "    FROM urls\n",
        "    ORDER BY visit_count DESC\n",
        "\"@  -close  | where url -NotMatch \"job|mail|purple\" | ogv -Title \"My top urls\"\n",
        "\n",
        "\n",
        "\n",
        "sql -lite -connection C:\\temp\\History -ForceNew -sql  @\"\n",
        "    SELECT  datetime(visit_time / 1000000 + (strftime('%s', '1601-01-01')), 'unixepoch') AS visitTime,\n",
        "            urls.url, urls.title, visit_duration\n",
        "    FROM visits\n",
        "    JOIN urls on visits.url = urls.id\n",
        "    ORDER BY visit_time DESC\n",
        "    limit 100\n",
        "\"@  -close -GridView\n",
        "\n",
        "sql -lite -connection C:\\temp\\History -ForceNew -sql  @\"\n",
        "    SELECT  term,\n",
        "            urls.url\n",
        "    FROM keyword_search_terms\n",
        "    JOIN urls on keyword_search_terms.url_id = urls.id\n",
        "\n",
        "\"@ -close | where url -notmatch \"wives|revelations|tax|pensions|life|retire\" | ogv -Title \"keyword search terms\"\n",
        "\n",
        "sql -Lite -Connection \"C:\\temp\\Cookies\" -sql \"Select host_key, name,path, has_expires, datetime(expires_utc / 1000000 + (strftime('%s', '1601-01-01')), 'unixepoch') AS expires, datetime(last_access_utc / 1000000 + (strftime('%s', '1601-01-01')), 'unixepoch') AS lastUse, samesite,source_scheme from cookies  limit 50\" -grid -close \n",
        "\n",
        "sql -Lite -Connection \"C:\\temp\\Network Action Predictor\" -Table \"network_action_predictor\" -grid -Close\n",
        "\n",
        "#top sites - most visited\n",
        "\n",
        "Sql @\"\n",
        "    select\n",
        "        collections_items_relationship.position,\n",
        "        collections.title,\n",
        "        items.title,\n",
        "        items.source,\n",
        "        items.text_content\n",
        "    from      collections_items_relationship\n",
        "        join  items       on items.id       = collections_items_relationship.item_id\n",
        "        Join  collections on collections.id = collections_items_relationship.parent_id\n",
        "    order by  collections.position,           collections_items_relationship.position\n",
        "\"@ | ogv\n",
        "\n",
        "$b = ConvertFrom-Json -AsHashtable -InputObject (Get-Content C:\\temp\\Bookmarks -raw) -Depth 10\n",
        "$links =  foreach ($c in  $b.roots.Values.children) {New-Object psobject -Property $c }\n",
        "$links | ft name,url -AutoSize -Wrap\n",
        "\n",
        "get-sql -Connection \"Driver={SQLite3 ODBC Driver};Database=C:\\temp\\Collections\\collectionsSQLite\"  -forcenew\n",
        "Sql @\"\n",
        "     select\n",
        "         collections_items_relationship.position,\n",
        "         collections.title as Collection,\n",
        "         items.title,\n",
        "         items.source,\n",
        "         items.text_content\n",
        "     from      collections_items_relationship\n",
        "         join  items       on items.id       = collections_items_relationship.item_id\n",
        "         Join  collections on collections.id = collections_items_relationship.parent_id\n",
        "     order by  collections.position           , collections_items_relationship.position\n",
        "\"@ | select -Property Position,Collection,Title, Text_Content, @{n='LinkSource'; e={\n",
        "    (ConvertFrom-Json (($_.source -replace \"^x'\", '' -replace \"'\",'' -replace  \"(\\S\\S)\",'$1 ').trim().split(\" \").ForEach({[char][System.Convert]::ToInt16($_,16)}) -join \"\")).url} }\n",
        "\n",
        "Web Data      autofill incl credit card info\n",
        "#  https://www.dataforensics.org/retrieve-saved-password-in-google-chrome/\n",
        "#>\n",
        "#..\\safe browsing cookies\n",
        "#..\\adblocking\\blocklist json file\n",
        "#..\\Functional Data"
      ]
    },
    {
      "cell_type": "code",
      "execution_count": 1,
      "metadata": {
        "dotnet_interactive": {
          "language": "pwsh"
        }
      },
      "outputs": [],
      "source": []
    }
  ],
  "metadata": {
    "kernelspec": {
      "display_name": ".NET (C#)",
      "language": "C#",
      "name": ".net-csharp"
    },
    "language_info": {
      "file_extension": ".cs",
      "mimetype": "text/x-csharp",
      "name": "C#",
      "pygments_lexer": "csharp",
      "version": "8.0"
    }
  },
  "nbformat": 4,
  "nbformat_minor": 4
}
