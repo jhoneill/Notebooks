{
 "cells": [
  {
   "attachments": {},
   "cell_type": "markdown",
   "metadata": {},
   "source": [
    "# PowerShell import from Excel / Transform / export it back"
   ]
  },
  {
   "attachments": {},
   "cell_type": "markdown",
   "metadata": {},
   "source": [
    "## Get some source data\n",
    "\n",
    "This is the English Premier League results for the 2021/2 season. \n",
    "20 teams play host the other 19 at home = 380 games.  "
   ]
  },
  {
   "cell_type": "code",
   "execution_count": null,
   "metadata": {
    "dotnet_interactive": {
     "language": "pwsh"
    },
    "vscode": {
     "languageId": "polyglot-notebook"
    }
   },
   "outputs": [],
   "source": [
    "$games = Invoke-RestMethod -Headers @{\n",
    "  \"authority\"=\"footballapi.pulselive.com\"\n",
    "  \"accept-language\"=\"en-GB,en;q=0.9,en-US;q=0.8\"\n",
    "  \"if-none-match\"=\"W/`\"05cdc489781132ec0f1a820ebe35c7999`\"\"\n",
    "  \"origin\"=\"https://www.premierleague.com\"\n",
    "  \"referer\"=\"https://www.premierleague.com/\"\n",
    "} -Uri \"https://footballapi.pulselive.com/football/fixtures?comps=1&compSeasons=418&teams=1,2,130,131,43,4,6,7,9,26,10,11,12,23,14,20,21,33,25,38&page=0&pageSize=400&sort=desc&statuses=C&altIds=true\"\n",
    "\n"
   ]
  },
  {
   "attachments": {},
   "cell_type": "markdown",
   "metadata": {},
   "source": [
    "Sample record "
   ]
  },
  {
   "cell_type": "code",
   "execution_count": null,
   "metadata": {
    "dotnet_interactive": {
     "language": "pwsh"
    },
    "vscode": {
     "languageId": "polyglot-notebook"
    }
   },
   "outputs": [],
   "source": [
    "$games.content[0] | Out-string -Width 220"
   ]
  },
  {
   "attachments": {},
   "cell_type": "markdown",
   "metadata": {},
   "source": [
    "Transform the date, and get the ground, the teams, their scores and whether it is a home win, away win or draw"
   ]
  },
  {
   "cell_type": "code",
   "execution_count": null,
   "metadata": {
    "dotnet_interactive": {
     "language": "pwsh"
    },
    "vscode": {
     "languageId": "polyglot-notebook"
    }
   },
   "outputs": [],
   "source": [
    "$games.content[0]  | select @{n=\"Gameweek\";      e={$_.Gameweek.GameWeek}}, \n",
    "                             @{n=\"Kickoff\";      e={[datetime]::UnixEpoch.AddMilliseconds($_.kickoff.millis).ToLocalTime()}},\n",
    "                             @{n='GroundName';   e={$_.ground.name}},\n",
    "                             @{n='HomeTeamName'; e={$_.Teams[0].Team.Name}},\n",
    "                             @{n='HomeTeamScore';e={$_.Teams[0].Score}},\n",
    "                             @{n='AwayTeamName'; e={$_.Teams[1].Team.Name}},\n",
    "                             @{n='AwayTeamScore';e={$_.Teams[1].Score}}, \n",
    "                             outcome"
   ]
  },
  {
   "attachments": {},
   "cell_type": "markdown",
   "metadata": {},
   "source": [
    "And send it to Excel "
   ]
  },
  {
   "cell_type": "code",
   "execution_count": null,
   "metadata": {
    "dotnet_interactive": {
     "language": "pwsh"
    },
    "vscode": {
     "languageId": "polyglot-notebook"
    }
   },
   "outputs": [],
   "source": [
    "Remove-Item .\\EPL21-22-raw.xlsx -ErrorAction SilentlyContinue\n",
    "$games.content | Select-Object @{n=\"Gameweek\";      e={$_.Gameweek.GameWeek}}, \n",
    "                               @{n=\"Kickoff\";       e={[datetime]::UnixEpoch.AddMilliseconds($_.kickoff.millis).ToLocalTime()}},\n",
    "                               @{n='GroundName';    e={$_.ground.name}},\n",
    "                               @{n='HomeTeamName';  e={$_.Teams[0].Team.Name}},\n",
    "                               @{n='HomeTeamScore'; e={$_.Teams[0].Score}},\n",
    "                               @{n='AwayTeamName';  e={$_.Teams[1].Team.Name}},\n",
    "                               @{n='AwayTeamScore'; e={$_.Teams[1].Score}}, \n",
    "                               outcome |  Sort kickoff| Export-Excel .\\EPL21-22-raw.xlsx -Now "
   ]
  },
  {
   "attachments": {},
   "cell_type": "markdown",
   "metadata": {},
   "source": [
    "## Read and transform the data\n",
    "\n",
    "Turn each game into the result from each team's perspective -e.g.    \n",
    "`Home win  ,   5 home goals scored 0 conceded, 3 home points `    \n",
    "and   \n",
    "`Away defeat , 0 away goals scored 5 conceded, 0 away points `   \n",
    "380 games become 760 of these "
   ]
  },
  {
   "cell_type": "code",
   "execution_count": null,
   "metadata": {
    "dotnet_interactive": {
     "language": "pwsh"
    },
    "vscode": {
     "languageId": "polyglot-notebook"
    }
   },
   "outputs": [],
   "source": [
    "$games   = Import-Excel .\\EPL21-22-raw.xlsx \n",
    "$results = foreach ($g in $games) { \n",
    "    switch ($g.outcome) {\n",
    "        \"A\"  {$AwayPoints = 3; $awayResult = \"Win\";    $HomePoints=\"0\"; $HomeResult = \"Defeat\"}\n",
    "        \"D\"  {$AwayPoints = 1; $awayResult = \"Draw\";   $HomePoints=\"1\"; $HomeResult = \"Draw\"}\n",
    "        \"H\"  {$AwayPoints = 0; $awayResult = \"Defeat\"; $HomePoints=\"3\"; $HomeResult = \"Win\"}\n",
    "    }\n",
    "    [pscustomobject]@{\n",
    "        Team             = $G.HomeTeamName\n",
    "        Opponent         = $G.AwayTeamName\n",
    "        HomeOrAway       = \"Home\"\n",
    "        Date             = $G.KickOff\n",
    "        GoalsFor         = $G.HomeTeamScore\n",
    "        GoalsAgainst     = $G.AwayTeamScore\n",
    "        GoalDifference   = $G.HomeTeamScore - $G.awayTeamScore\n",
    "        AwayGoalsFor     = $null\n",
    "        AwayGoalsAgainst = $null\n",
    "        HomeGoalsFor     = $G.HomeTeamScore\n",
    "        HomeGoalsAgainst = $G.AwayTeamScore\n",
    "        Result           = $HomeResult\n",
    "        AwayResult       = $null\n",
    "        Homeresult       = $HomeResult\n",
    "        Points           = $HomePoints\n",
    "        AwayPoints       = $null\n",
    "        HomePoints       = $HomePoints\n",
    "        Won              = (($g.outcome -eq \"H\") ? 1 : $null )\n",
    "        Lost             = (($g.outcome -eq \"A\") ? 1 : $null )\n",
    "        Drawn            = (($g.outcome -eq \"D\") ? 1 : $null )\n",
    "        HomeWon          = (($g.outcome -eq \"H\") ? 1 : $null )\n",
    "        HomeLost         = (($g.outcome -eq \"A\") ? 1 : $null )\n",
    "        HomeDrawn        = (($g.outcome -eq \"D\") ? 1 : $null )\n",
    "        AwayWon          = $null\n",
    "        AwayLost         = $null\n",
    "        AwayDrawn        = $null\n",
    "    }\n",
    "        [pscustomobject]@{\n",
    "        Team             = $G.AwayTeamName\n",
    "        Opponent         = $G.HomeTeamName\n",
    "        HomeOrAway       = \"Away\"\n",
    "        Date             = $G.KickOff\n",
    "        GoalsFor         = $G.AwayTeamScore\n",
    "        GoalsAgainst     = $G.HomeTeamScore\n",
    "        GoalDifference   = $G.AwayTeamScore - $G.HomeTeamScore\n",
    "        AwayGoalsFor     = $G.AwayTeamScore\n",
    "        AwayGoalsAgainst = $G.HomeTeamScore\n",
    "        HomeGoalsFor     = $null\n",
    "        HomeGoalsAgainst = $null\n",
    "        Result           = $AwayResult\n",
    "        AwayResult       = $AwayResult\n",
    "        Homeresult       = $null\n",
    "        Points           = $AwayPoints\n",
    "        AwayPoints       = $AwayPoints\n",
    "        HomePoints       = $Null\n",
    "        Won              = (($g.outcome -eq \"A\") ? 1 : $null )\n",
    "        Lost             = (($g.outcome -eq \"H\") ? 1 : $null )\n",
    "        Drawn            = (($g.outcome -eq \"D\") ? 1 : $null )\n",
    "        HomeWon          = $null\n",
    "        HomeLost         = $null\n",
    "        HomeDrawn        = $null\n",
    "        AwayWon          = (($g.outcome -eq \"A\") ? 1 : $null )\n",
    "        AwayLost         = (($g.outcome -eq \"H\") ? 1 : $null )\n",
    "        AwayDrawn        = (($g.outcome -eq \"D\") ? 1 : $null )\n",
    "    }\n",
    "}"
   ]
  },
  {
   "cell_type": "code",
   "execution_count": null,
   "metadata": {
    "dotnet_interactive": {
     "language": "pwsh"
    },
    "vscode": {
     "languageId": "polyglot-notebook"
    }
   },
   "outputs": [],
   "source": [
    "$results[0,1]  |Out-string"
   ]
  },
  {
   "cell_type": "code",
   "execution_count": null,
   "metadata": {
    "dotnet_interactive": {
     "language": "pwsh"
    },
    "vscode": {
     "languageId": "polyglot-notebook"
    }
   },
   "outputs": [],
   "source": [
    "Get-item .\\EPL21-22-processed.xlsx,  .\\EPL21-22-Table.xlsx   -ErrorAction SilentlyContinue | Remove-Item\n",
    "$results | Export-Excel -Path .\\EPL21-22-processed.xlsx -FreezeTopRow -TableName TeamsGames -WorksheetName Results -ClearSheet -TableStyle Medium6 -AutoSize -Show -PivotTableName WinLoss -PivotRows Team -PivotColumn Result -PivotData @{\"Date\"=\"Count\"} -PivotChartType ColumnStacked"
   ]
  },
  {
   "attachments": {},
   "cell_type": "markdown",
   "metadata": {},
   "source": [
    "### With the pivot module we can transform this into the league table"
   ]
  },
  {
   "cell_type": "code",
   "execution_count": null,
   "metadata": {
    "dotnet_interactive": {
     "language": "pwsh"
    },
    "vscode": {
     "languageId": "polyglot-notebook"
    }
   },
   "outputs": [],
   "source": [
    "ipmo ~\\Documents\\GitHub\\PowerShellPivot\\PowerShellPivot.psd1 -force"
   ]
  },
  {
   "cell_type": "code",
   "execution_count": null,
   "metadata": {
    "dotnet_interactive": {
     "language": "pwsh"
    },
    "vscode": {
     "languageId": "polyglot-notebook"
    }
   },
   "outputs": [],
   "source": [
    "$table = $results | Get-Subtotal -ValueName HomeWon,          AwayWon,          Won,\n",
    "                                            HomeLost,         AwayLost,         Lost,\n",
    "                                            HomeDrawn,        AwayDrawn,        Drawn,\n",
    "                                            HomeGoalsAgainst, AwayGoalsAgainst, GoalsAgainst,\n",
    "                                            HomeGoalsFor,     AwayGoalsFor,     GoalsFor,\n",
    "                                            GoalDifference,\n",
    "                                            HomePoints,       AwayPoints,       Points   -NoSuffix -GroupByName Team -Sum | \n",
    "                        Sort-Object Points, GoalDifference,   GoalsFor -Descending"
   ]
  },
  {
   "cell_type": "code",
   "execution_count": null,
   "metadata": {
    "dotnet_interactive": {
     "language": "pwsh"
    },
    "vscode": {
     "languageId": "polyglot-notebook"
    }
   },
   "outputs": [],
   "source": [
    "$table | Select-Object -Property * -ExcludeProperty Home*,Away* | ft -a *  | out-string -width 240 | %{$_ -replace '(\\d+)\\.00','   $1'} "
   ]
  },
  {
   "attachments": {},
   "cell_type": "markdown",
   "metadata": {},
   "source": [
    "And save that to excel with some extra columns  (e.g Total For/Total Against = \"Goal average\" )"
   ]
  },
  {
   "cell_type": "code",
   "execution_count": null,
   "metadata": {
    "dotnet_interactive": {
     "language": "pwsh"
    },
    "vscode": {
     "languageId": "polyglot-notebook"
    }
   },
   "outputs": [],
   "source": [
    "\n",
    "$table | Select-Object -Property Team, *won,*Lost,*drawn,*Goals*,\n",
    "                                @{n=\"HomeGoalAverage\"   ;e={\"=HomeGoalsFor/HomeGoalsAgainst\"}},\n",
    "                                @{n=\"AwayGoalAverage\"   ;e={\"=AwayGoalsFor/AwayGoalsAgainst\"}},\n",
    "                                @{n=\"GoalAverage\"       ;e={\"=GoalsFor/GoalsAgainst\"}},\n",
    "                                @{n=\"HomeGoalDifference\";e={\"=HomeGoalsFor-HomeGoalsAgainst\"}},\n",
    "                                @{n=\"AwayGoalDifference\";e={\"=AwayGoalsFor-AwayGoalsAgainst\"}},\n",
    "                                GoalDifference, *Points  |\n",
    "            Export-Excel -Path .\\EPL21-22-Table.xlsx -AutoNameRange -WorksheetName Table1 -TableStyle Medium6  -ClearSheet  -AutoSize -Activate -show\n",
    "\n",
    "\n",
    "\n"
   ]
  },
  {
   "attachments": {},
   "cell_type": "markdown",
   "metadata": {},
   "source": [
    "### Or we can output a sheet designed to total with a pivot table"
   ]
  },
  {
   "cell_type": "code",
   "execution_count": null,
   "metadata": {
    "dotnet_interactive": {
     "language": "pwsh"
    },
    "vscode": {
     "languageId": "polyglot-notebook"
    }
   },
   "outputs": [],
   "source": [
    " \n",
    "$numbers  = $results |  Select-Object Team,Result,HomeOrAway, @{n=\"Value\";e=\"Points\"},         @{n=\"Type\";e={\"Points\"}}\n",
    "$numbers += $results |  Select-Object Team,Result,HomeOrAway, @{n=\"Value\";e=\"GoalDifference\"}, @{n=\"Type\";e={\"GoalDifference\"}} \n",
    "$numbers += $results |  Select-Object Team,Result,HomeOrAway, @{n=\"Value\";e=\"GoalsFor\"},       @{n=\"Type\";e={\"GoalsFor\"}}\n",
    "$numbers += $results |  Select-Object Team,Result,HomeOrAway, @{n=\"Value\";e=\"GoalsAgainst\"},   @{n=\"Type\";e={\"GoalsAgainst\"}} \n",
    "$numbers += $results | Where-Object Result -eq \"Defeat\" | \n",
    "                        Select-Object Team,Result,HomeOrAway, @{n=\"Value\";e={1}},               @{n=\"Type\";e={\"Lost\"}} \n",
    "$numbers += $results | Where-Object Result -eq \"Win\" | \n",
    "                        Select-Object Team,Result,HomeOrAway, @{n=\"Value\";e={1}},               @{n=\"Type\";e={\"Won\"}};\n",
    "$numbers += $results | Where-Object Result -eq \"Draw\" | \n",
    "                        Select-Object Team,Result,HomeOrAway, @{n=\"Value\";e={1}},               @{n=\"Type\";e={\"Drawn\"}};\n",
    "\n",
    "$excel = $numbers | Export-Excel -PassThru -Path .\\EPL21-22-Table.xlsx -FreezeTopRow -TableName BreakDown -WorksheetName LeagueNumbers -ClearSheet -TableStyle Medium6 -AutoSize \n",
    "\n",
    "Add-PivotTable -ExcelPackage $Excel -PivotTableName League -PivotRows Team  -PivotColumns Type  -PivotData @{\"Value\"=\"Sum\"} -PivotTotals None  -Activate -SourceWorksheet $Excel.LeagueNumbers -SourceRange $Excel.LeagueNumbers.Dimension.Address\n",
    "\n",
    "Close-ExcelPackage $excel -Show"
   ]
  }
 ],
 "metadata": {
  "kernelspec": {
   "display_name": ".NET (PowerShell)",
   "language": "PowerShell",
   "name": ".net-pwsh"
  },
  "language_info": {
   "name": "PowerShell"
  }
 },
 "nbformat": 4,
 "nbformat_minor": 2
}
