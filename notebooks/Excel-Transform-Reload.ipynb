{
 "cells": [
  {
   "cell_type": "markdown",
   "metadata": {},
   "source": [
    "# PowerShell import from Excel / Transform / export it back"
   ]
  },
  {
   "cell_type": "markdown",
   "metadata": {},
   "source": [
    "## Get some source data\n",
    "\n",
    "This is the English Premier League results for the 2021/2 season. \n",
    "20 teams play host the other 19 at home = 380 games.  "
   ]
  },
  {
   "cell_type": "code",
   "execution_count": null,
   "metadata": {
    "dotnet_interactive": {
     "language": "pwsh"
    },
    "vscode": {
     "languageId": "dotnet-interactive.pwsh"
    }
   },
   "outputs": [],
   "source": [
    "$games = Invoke-RestMethod -Headers @{\n",
    "  \"authority\"=\"footballapi.pulselive.com\"\n",
    "  \"accept-language\"=\"en-GB,en;q=0.9,en-US;q=0.8\"\n",
    "  \"if-none-match\"=\"W/`\"05cdc489781132ec0f1a820ebe35c7999`\"\"\n",
    "  \"origin\"=\"https://www.premierleague.com\"\n",
    "  \"referer\"=\"https://www.premierleague.com/\"\n",
    "} -Uri \"https://footballapi.pulselive.com/football/fixtures?comps=1&compSeasons=418&teams=1,2,130,131,43,4,6,7,9,26,10,11,12,23,14,20,21,33,25,38&page=0&pageSize=400&sort=desc&statuses=C&altIds=true\"\n",
    "\n"
   ]
  },
  {
   "cell_type": "markdown",
   "metadata": {},
   "source": [
    "Sample record "
   ]
  },
  {
   "cell_type": "code",
   "execution_count": null,
   "metadata": {
    "dotnet_interactive": {
     "language": "pwsh"
    },
    "vscode": {
     "languageId": "dotnet-interactive.pwsh"
    }
   },
   "outputs": [
    {
     "name": "stdout",
     "output_type": "stream",
     "text": [
      "\r\n",
      "\u001b[32;1mgameweek           : \u001b[0m@{id=6699; compSeason=; gameweek=38; competitionPhase=}\r\n",
      "\u001b[32;1mkickoff            : \u001b[0m@{completeness=3; millis=1653231600000; label=Sun 22 May 2022, 16:00 BST; gmtOffset=1}\r\n",
      "\u001b[32;1mprovisionalKickoff : \u001b[0m@{completeness=3; millis=1653231600000; label=Sun 22 May 2022, 16:00 BST; gmtOffset=1}\r\n",
      "\u001b[32;1mteams              : \u001b[0m{@{team=; score=1}, @{team=; score=2}}\r\n",
      "\u001b[32;1mreplay             : \u001b[0mFalse\r\n",
      "\u001b[32;1mground             : \u001b[0m@{name=Brentford Community Stadium; city=Brentford; source=OPTA; id=3077}\r\n",
      "\u001b[32;1mneutralGround      : \u001b[0mFalse\r\n",
      "\u001b[32;1mstatus             : \u001b[0mC\r\n",
      "\u001b[32;1mphase              : \u001b[0mF\r\n",
      "\u001b[32;1moutcome            : \u001b[0mA\r\n",
      "\u001b[32;1mattendance         : \u001b[0m16957\r\n",
      "\u001b[32;1mclock              : \u001b[0m@{secs=5760; label=90 +6'00}\r\n",
      "\u001b[32;1mfixtureType        : \u001b[0mREGULAR\r\n",
      "\u001b[32;1mextraTime          : \u001b[0mFalse\r\n",
      "\u001b[32;1mshootout           : \u001b[0mFalse\r\n",
      "\u001b[32;1mgoals              : \u001b[0m{@{personId=24156; clock=; phase=2; type=P; description=P}, @{personId=13225; assistId=117497; clock=; phase=2; type=G; description=G}, @{personId=33135; clock=; phase=2; type=G; description=G}}\r\n",
      "\u001b[32;1mpenaltyShootouts   : \u001b[0m{}\r\n",
      "\u001b[32;1mbehindClosedDoors  : \u001b[0mFalse\r\n",
      "\u001b[32;1mid                 : \u001b[0m66713\r\n",
      "\u001b[32;1maltIds             : \u001b[0m@{opta=g2210642}\r\n",
      "\r\n",
      "\r\n",
      "\r\n"
     ]
    }
   ],
   "source": [
    "$games.content[1] | Out-string -Width 220"
   ]
  },
  {
   "cell_type": "markdown",
   "metadata": {},
   "source": [
    "Transform the date, and get the ground, the teams, their scores and whether it is a home win, away win or draw"
   ]
  },
  {
   "cell_type": "code",
   "execution_count": null,
   "metadata": {
    "dotnet_interactive": {
     "language": "pwsh"
    },
    "vscode": {
     "languageId": "dotnet-interactive.pwsh"
    }
   },
   "outputs": [
    {
     "name": "stdout",
     "output_type": "stream",
     "text": [
      "\r\n",
      "\u001b[32;1mGameweek      : \u001b[0m38\r\n",
      "\u001b[32;1mKickoff       : \u001b[0m22/05/2022 16:00:00\r\n",
      "\u001b[32;1mGroundName    : \u001b[0mEmirates Stadium\r\n",
      "\u001b[32;1mHomeTeamName  : \u001b[0mArsenal\r\n",
      "\u001b[32;1mHomeTeamScore : \u001b[0m5\r\n",
      "\u001b[32;1mAwayTeamName  : \u001b[0mEverton\r\n",
      "\u001b[32;1mAwayTeamScore : \u001b[0m1\r\n",
      "\u001b[32;1moutcome       : \u001b[0mH\r\n",
      "\r\n",
      "\r\n"
     ]
    }
   ],
   "source": [
    "$games.content[0]  | select @{n=\"Gameweek\";      e={$_.Gameweek.GameWeek}}, \n",
    "                             @{n=\"Kickoff\";      e={[datetime]::UnixEpoch.AddMilliseconds($_.kickoff.millis).ToLocalTime()}},\n",
    "                             @{n='GroundName';   e={$_.ground.name}},\n",
    "                             @{n='HomeTeamName'; e={$_.Teams[0].Team.Name}},\n",
    "                             @{n='HomeTeamScore';e={$_.Teams[0].Score}},\n",
    "                             @{n='AwayTeamName'; e={$_.Teams[1].Team.Name}},\n",
    "                             @{n='AwayTeamScore';e={$_.Teams[1].Score}}, \n",
    "                             outcome"
   ]
  },
  {
   "cell_type": "markdown",
   "metadata": {},
   "source": [
    "And send it to Excel "
   ]
  },
  {
   "cell_type": "code",
   "execution_count": null,
   "metadata": {
    "dotnet_interactive": {
     "language": "pwsh"
    },
    "vscode": {
     "languageId": "dotnet-interactive.pwsh"
    }
   },
   "outputs": [],
   "source": [
    "Remove-Item .\\EPL21-22-raw.xlsx -ErrorAction SilentlyContinue\n",
    "$games.content | Select-Object @{n=\"Gameweek\";      e={$_.Gameweek.GameWeek}}, \n",
    "                               @{n=\"Kickoff\";       e={[datetime]::UnixEpoch.AddMilliseconds($_.kickoff.millis).ToLocalTime()}},\n",
    "                               @{n='GroundName';    e={$_.ground.name}},\n",
    "                               @{n='HomeTeamName';  e={$_.Teams[0].Team.Name}},\n",
    "                               @{n='HomeTeamScore'; e={$_.Teams[0].Score}},\n",
    "                               @{n='AwayTeamName';  e={$_.Teams[1].Team.Name}},\n",
    "                               @{n='AwayTeamScore'; e={$_.Teams[1].Score}}, \n",
    "                               outcome |  Sort kickoff| Export-Excel .\\EPL21-22-raw.xlsx -Now "
   ]
  },
  {
   "cell_type": "markdown",
   "metadata": {},
   "source": [
    "## Read and transform the data\n",
    "\n",
    "Turn each game into the result from each team's perspective -e.g.    \n",
    "`Home win  ,   5 home goals scored 0 conceded, 3 home points `    \n",
    "and   \n",
    "`Away defeat , 0 away goals scored 5 conceded, 0 away points `   \n",
    "380 games become 760 of these "
   ]
  },
  {
   "cell_type": "code",
   "execution_count": null,
   "metadata": {
    "dotnet_interactive": {
     "language": "pwsh"
    },
    "vscode": {
     "languageId": "dotnet-interactive.pwsh"
    }
   },
   "outputs": [],
   "source": [
    "$games   = Import-Excel .\\EPL21-22-raw.xlsx \n",
    "$results = foreach ($g in $games) { \n",
    "    switch ($g.outcome) {\n",
    "        \"A\"  {$AwayPoints = 3; $awayResult = \"Win\";    $HomePoints=\"0\"; $HomeResult = \"Defeat\"}\n",
    "        \"D\"  {$AwayPoints = 1; $awayResult = \"Draw\";   $HomePoints=\"1\"; $HomeResult = \"Draw\"}\n",
    "        \"H\"  {$AwayPoints = 0; $awayResult = \"Defeat\"; $HomePoints=\"3\"; $HomeResult = \"Win\"}\n",
    "    }\n",
    "    [pscustomobject]@{\n",
    "        Team             = $G.HomeTeamName\n",
    "        Opponent         = $G.AwayTeamName\n",
    "        HomeOrAway       = \"Home\"\n",
    "        Date             = $G.KickOff\n",
    "        GoalsFor         = $G.HomeTeamScore\n",
    "        GoalsAgainst     = $G.AwayTeamScore\n",
    "        GoalDifference   = $G.HomeTeamScore - $G.awayTeamScore\n",
    "        AwayGoalsFor     = $null\n",
    "        AwayGoalsAgainst = $null\n",
    "        HomeGoalsFor     = $G.HomeTeamScore\n",
    "        HomeGoalsAgainst = $G.AwayTeamScore\n",
    "        Result           = $HomeResult\n",
    "        AwayResult       = $null\n",
    "        Homeresult       = $HomeResult\n",
    "        Points           = $HomePoints\n",
    "        AwayPoints       = $null\n",
    "        HomePoints       = $HomePoints\n",
    "    }\n",
    "        [pscustomobject]@{\n",
    "        Team             = $G.AwayTeamName\n",
    "        Opponent         = $G.HomeTeamName\n",
    "        HomeOrAway       = \"Away\"\n",
    "        Date             = $G.KickOff\n",
    "        GoalsFor         = $G.AwayTeamScore\n",
    "        GoalsAgainst     = $G.HomeTeamScore\n",
    "        GoalDifference   = $G.AwayTeamScore - $G.HomeTeamScore\n",
    "        AwayGoalsFor     = $G.AwayTeamScore\n",
    "        AwayGoalsAgainst = $G.HomeTeamScore\n",
    "        HomeGoalsFor     = $null\n",
    "        HomeGoalsAgainst = $null\n",
    "        Result           = $AwayResult\n",
    "        AwayResult       = $AwayResult\n",
    "        Homeresult       = $null\n",
    "        Points           = $AwayPoints\n",
    "        AwayPoints       = $AwayPoints\n",
    "        HomePoints       = $Null\n",
    "    }\n",
    "}"
   ]
  },
  {
   "cell_type": "code",
   "execution_count": null,
   "metadata": {
    "dotnet_interactive": {
     "language": "pwsh"
    },
    "vscode": {
     "languageId": "dotnet-interactive.pwsh"
    }
   },
   "outputs": [
    {
     "name": "stdout",
     "output_type": "stream",
     "text": [
      "\r\n",
      "\u001b[32;1mTeam             : \u001b[0mBrentford\r\n",
      "\u001b[32;1mOpponent         : \u001b[0mArsenal\r\n",
      "\u001b[32;1mHomeOrAway       : \u001b[0mHome\r\n",
      "\u001b[32;1mDate             : \u001b[0m13/08/2021 20:00:00\r\n",
      "\u001b[32;1mGoalsFor         : \u001b[0m2\r\n",
      "\u001b[32;1mGoalsAgainst     : \u001b[0m0\r\n",
      "\u001b[32;1mGoalDifference   : \u001b[0m2\r\n",
      "\u001b[32;1mAwayGoalsFor     : \u001b[0m\r\n",
      "\u001b[32;1mAwayGoalsAgainst : \u001b[0m\r\n",
      "\u001b[32;1mHomeGoalsFor     : \u001b[0m2\r\n",
      "\u001b[32;1mHomeGoalsAgainst : \u001b[0m0\r\n",
      "\u001b[32;1mResult           : \u001b[0mWin\r\n",
      "\u001b[32;1mAwayResult       : \u001b[0m\r\n",
      "\u001b[32;1mHomeresult       : \u001b[0mWin\r\n",
      "\u001b[32;1mPoints           : \u001b[0m3\r\n",
      "\u001b[32;1mAwayPoints       : \u001b[0m\r\n",
      "\u001b[32;1mHomePoints       : \u001b[0m3\r\n",
      "\r\n",
      "\u001b[32;1mTeam             : \u001b[0mArsenal\r\n",
      "\u001b[32;1mOpponent         : \u001b[0mBrentford\r\n",
      "\u001b[32;1mHomeOrAway       : \u001b[0mAway\r\n",
      "\u001b[32;1mDate             : \u001b[0m13/08/2021 20:00:00\r\n",
      "\u001b[32;1mGoalsFor         : \u001b[0m0\r\n",
      "\u001b[32;1mGoalsAgainst     : \u001b[0m2\r\n",
      "\u001b[32;1mGoalDifference   : \u001b[0m-2\r\n",
      "\u001b[32;1mAwayGoalsFor     : \u001b[0m0\r\n",
      "\u001b[32;1mAwayGoalsAgainst : \u001b[0m2\r\n",
      "\u001b[32;1mHomeGoalsFor     : \u001b[0m\r\n",
      "\u001b[32;1mHomeGoalsAgainst : \u001b[0m\r\n",
      "\u001b[32;1mResult           : \u001b[0mDefeat\r\n",
      "\u001b[32;1mAwayResult       : \u001b[0mDefeat\r\n",
      "\u001b[32;1mHomeresult       : \u001b[0m\r\n",
      "\u001b[32;1mPoints           : \u001b[0m0\r\n",
      "\u001b[32;1mAwayPoints       : \u001b[0m0\r\n",
      "\u001b[32;1mHomePoints       : \u001b[0m\r\n",
      "\r\n",
      "\r\n"
     ]
    }
   ],
   "source": [
    "$results[0,1]"
   ]
  },
  {
   "cell_type": "code",
   "execution_count": null,
   "metadata": {
    "dotnet_interactive": {
     "language": "pwsh"
    },
    "vscode": {
     "languageId": "dotnet-interactive.pwsh"
    }
   },
   "outputs": [],
   "source": [
    "Remove-Item .\\EPL21-22-processed.xlsx -ErrorAction SilentlyContinue\n",
    "$results | Export-Excel -Path .\\EPL21-22-processed.xlsx -FreezeTopRow -TableName TeamsGames -WorksheetName Results -ClearSheet -TableStyle Medium6 -AutoSize -Show -PivotTableName WinLoss -PivotRows Team -PivotColumn Result -PivotData @{\"Date\"=\"Count\"} -PivotChartType ColumnStacked"
   ]
  },
  {
   "cell_type": "markdown",
   "metadata": {},
   "source": []
  },
  {
   "cell_type": "code",
   "execution_count": null,
   "metadata": {
    "dotnet_interactive": {
     "language": "pwsh"
    },
    "vscode": {
     "languageId": "dotnet-interactive.pwsh"
    }
   },
   "outputs": [],
   "source": [
    "Remove-Item .\\EPL21-22-Table.xlsx -ErrorAction SilentlyContinue\n",
    "$numbers  = $results |  Select-Object Team,Result,HomeOrAway, @{n=\"Value\";e=\"Points\"},         @{n=\"Type\";e={\"Points\"}}\n",
    "$numbers += $results |  Select-Object Team,Result,HomeOrAway, @{n=\"Value\";e=\"GoalDifference\"}, @{n=\"Type\";e={\"GoalDifference\"}} \n",
    "$numbers += $results |  Select-Object Team,Result,HomeOrAway, @{n=\"Value\";e=\"GoalsFor\"},       @{n=\"Type\";e={\"GoalsFor\"}}\n",
    "$numbers += $results |  Select-Object Team,Result,HomeOrAway, @{n=\"Value\";e=\"GoalsAgainst\"},   @{n=\"Type\";e={\"GoalsAgainst\"}} \n",
    "$numbers += $results | Where-Object Result -eq \"Defeat\" | \n",
    "                        Select-Object Team,Result,HomeOrAway, @{n=\"Value\";e={1}},               @{n=\"Type\";e={\"Lost\"}} \n",
    "$numbers += $results | Where-Object Result -eq \"Win\" | \n",
    "                        Select-Object Team,Result,HomeOrAway, @{n=\"Value\";e={1}},               @{n=\"Type\";e={\"Won\"}};\n",
    "$numbers += $results | Where-Object Result -eq \"Draw\" | \n",
    "                        Select-Object Team,Result,HomeOrAway, @{n=\"Value\";e={1}},               @{n=\"Type\";e={\"Drawn\"}};\n",
    "\n",
    "$excel = $numbers | Export-Excel -PassThru -Path .\\EPL21-22-Table.xlsx -FreezeTopRow -TableName BreakDown -WorksheetName LeagueNumbers -ClearSheet -TableStyle Medium6 -AutoSize "
   ]
  },
  {
   "cell_type": "code",
   "execution_count": null,
   "metadata": {
    "dotnet_interactive": {
     "language": "pwsh"
    },
    "vscode": {
     "languageId": "dotnet-interactive.pwsh"
    }
   },
   "outputs": [],
   "source": [
    "Add-PivotTable -ExcelPackage $Excel -PivotTableName League -PivotRows Team  -PivotColumns Type  -PivotData @{\"Value\"=\"Sum\"} -PivotTotals None  -Activate -SourceWorksheet $Excel.LeagueNumbers -SourceRange $Excel.LeagueNumbers.Dimension.Address"
   ]
  },
  {
   "cell_type": "code",
   "execution_count": null,
   "metadata": {
    "dotnet_interactive": {
     "language": "pwsh"
    },
    "vscode": {
     "languageId": "dotnet-interactive.pwsh"
    }
   },
   "outputs": [],
   "source": [
    " Close-ExcelPackage $excel -Show"
   ]
  }
 ],
 "metadata": {
  "kernelspec": {
   "display_name": ".NET (PowerShell)",
   "language": "PowerShell",
   "name": ".net-pwsh"
  },
  "language_info": {
   "name": "PowerShell"
  }
 },
 "nbformat": 4,
 "nbformat_minor": 2
}
