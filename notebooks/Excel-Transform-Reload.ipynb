{
 "cells": [
  {
   "cell_type": "markdown",
   "metadata": {},
   "source": [
    "# PowerShell import from Excel / Transform / export it back"
   ]
  },
  {
   "cell_type": "markdown",
   "metadata": {},
   "source": [
    "## Get some source data\n",
    "\n",
    "This is the English Premier League results for the 2021/2 season. \n",
    "20 teams play host the other 19 at home = 380 games.  "
   ]
  },
  {
   "cell_type": "code",
   "execution_count": null,
   "metadata": {
    "dotnet_interactive": {
     "language": "pwsh"
    },
    "vscode": {
     "languageId": "dotnet-interactive.pwsh"
    }
   },
   "outputs": [],
   "source": [
    "$games = Invoke-RestMethod -Headers @{\n",
    "  \"authority\"=\"footballapi.pulselive.com\"\n",
    "  \"accept-language\"=\"en-GB,en;q=0.9,en-US;q=0.8\"\n",
    "  \"if-none-match\"=\"W/`\"05cdc489781132ec0f1a820ebe35c7999`\"\"\n",
    "  \"origin\"=\"https://www.premierleague.com\"\n",
    "  \"referer\"=\"https://www.premierleague.com/\"\n",
    "} -Uri \"https://footballapi.pulselive.com/football/fixtures?comps=1&compSeasons=418&teams=1,2,130,131,43,4,6,7,9,26,10,11,12,23,14,20,21,33,25,38&page=0&pageSize=400&sort=desc&statuses=C&altIds=true\"\n",
    "\n"
   ]
  },
  {
   "cell_type": "markdown",
   "metadata": {},
   "source": [
    "Sample record "
   ]
  },
  {
   "cell_type": "code",
   "execution_count": null,
   "metadata": {
    "dotnet_interactive": {
     "language": "pwsh"
    },
    "vscode": {
     "languageId": "dotnet-interactive.pwsh"
    }
   },
   "outputs": [
    {
     "name": "stdout",
     "output_type": "stream",
     "text": [
      "\r\n",
      "gameweek           : \u001b[0m@{id=6699; compSeason=; gameweek=38; competitionPhase=}\r\n",
      "kickoff            : \u001b[0m@{completeness=3; millis=1653231600000; label=Sun 22 May 2022, 16:00 BST; gmtOffset=1}\r\n",
      "provisionalKickoff : \u001b[0m@{completeness=3; millis=1653231600000; label=Sun 22 May 2022, 16:00 BST; gmtOffset=1}\r\n",
      "teams              : \u001b[0m{@{team=; score=5}, @{team=; score=1}}\r\n",
      "replay             : \u001b[0mFalse\r\n",
      "ground             : \u001b[0m@{name=Emirates Stadium; city=London; source=OPTA; id=52}\r\n",
      "neutralGround      : \u001b[0mFalse\r\n",
      "status             : \u001b[0mC\r\n",
      "phase              : \u001b[0mF\r\n",
      "outcome            : \u001b[0mH\r\n",
      "attendance         : \u001b[0m60201\r\n",
      "clock              : \u001b[0m@{secs=5580; label=90 +3'00}\r\n",
      "fixtureType        : \u001b[0mREGULAR\r\n",
      "extraTime          : \u001b[0mFalse\r\n",
      "shootout           : \u001b[0mFalse\r\n",
      "goals              : \u001b[0m{@{personId=66104; clock=; phase=1; type=P; description=P}, @{personId=14451; assistId=66104; clock=; phase=1; type=G; description=G}, @{personId=11031; assistId=9576; clock=; phase=1; type=G; \r\n",
      "                     \u001b[0mdescription=G}, @{personId=11347; assistId=49481; clock=; phase=2; type=G; description=G}…}\r\n",
      "penaltyShootouts   : \u001b[0m{}\r\n",
      "behindClosedDoors  : \u001b[0mFalse\r\n",
      "id                 : \u001b[0m66712\r\n",
      "altIds             : \u001b[0m@{opta=g2210641}\r\n",
      "\r\n",
      "\r\n",
      "\r\n"
     ]
    }
   ],
   "source": [
    "$games.content[0] | Out-string -Width 220"
   ]
  },
  {
   "cell_type": "markdown",
   "metadata": {},
   "source": [
    "Transform the date, and get the ground, the teams, their scores and whether it is a home win, away win or draw"
   ]
  },
  {
   "cell_type": "code",
   "execution_count": null,
   "metadata": {
    "dotnet_interactive": {
     "language": "pwsh"
    },
    "vscode": {
     "languageId": "dotnet-interactive.pwsh"
    }
   },
   "outputs": [
    {
     "name": "stdout",
     "output_type": "stream",
     "text": [
      "\r\n",
      "Gameweek      : \u001b[0m38\r\n",
      "Kickoff       : \u001b[0m22/05/2022 16:00:00\r\n",
      "GroundName    : \u001b[0mEmirates Stadium\r\n",
      "HomeTeamName  : \u001b[0mArsenal\r\n",
      "HomeTeamScore : \u001b[0m5\r\n",
      "AwayTeamName  : \u001b[0mEverton\r\n",
      "AwayTeamScore : \u001b[0m1\r\n",
      "outcome       : \u001b[0mH\r\n",
      "\r\n",
      "\r\n"
     ]
    }
   ],
   "source": [
    "$games.content[0]  | select @{n=\"Gameweek\";      e={$_.Gameweek.GameWeek}}, \n",
    "                             @{n=\"Kickoff\";      e={[datetime]::UnixEpoch.AddMilliseconds($_.kickoff.millis).ToLocalTime()}},\n",
    "                             @{n='GroundName';   e={$_.ground.name}},\n",
    "                             @{n='HomeTeamName'; e={$_.Teams[0].Team.Name}},\n",
    "                             @{n='HomeTeamScore';e={$_.Teams[0].Score}},\n",
    "                             @{n='AwayTeamName'; e={$_.Teams[1].Team.Name}},\n",
    "                             @{n='AwayTeamScore';e={$_.Teams[1].Score}}, \n",
    "                             outcome"
   ]
  },
  {
   "cell_type": "markdown",
   "metadata": {},
   "source": [
    "And send it to Excel "
   ]
  },
  {
   "cell_type": "code",
   "execution_count": null,
   "metadata": {
    "dotnet_interactive": {
     "language": "pwsh"
    },
    "vscode": {
     "languageId": "dotnet-interactive.pwsh"
    }
   },
   "outputs": [],
   "source": [
    "Remove-Item .\\EPL21-22-raw.xlsx -ErrorAction SilentlyContinue\n",
    "$games.content | Select-Object @{n=\"Gameweek\";      e={$_.Gameweek.GameWeek}}, \n",
    "                               @{n=\"Kickoff\";       e={[datetime]::UnixEpoch.AddMilliseconds($_.kickoff.millis).ToLocalTime()}},\n",
    "                               @{n='GroundName';    e={$_.ground.name}},\n",
    "                               @{n='HomeTeamName';  e={$_.Teams[0].Team.Name}},\n",
    "                               @{n='HomeTeamScore'; e={$_.Teams[0].Score}},\n",
    "                               @{n='AwayTeamName';  e={$_.Teams[1].Team.Name}},\n",
    "                               @{n='AwayTeamScore'; e={$_.Teams[1].Score}}, \n",
    "                               outcome |  Sort kickoff| Export-Excel .\\EPL21-22-raw.xlsx -Now "
   ]
  },
  {
   "cell_type": "markdown",
   "metadata": {},
   "source": [
    "## Read and transform the data\n",
    "\n",
    "Turn each game into the result from each team's perspective -e.g.    \n",
    "`Home win  ,   5 home goals scored 0 conceded, 3 home points `    \n",
    "and   \n",
    "`Away defeat , 0 away goals scored 5 conceded, 0 away points `   \n",
    "380 games become 760 of these "
   ]
  },
  {
   "cell_type": "code",
   "execution_count": null,
   "metadata": {
    "dotnet_interactive": {
     "language": "pwsh"
    },
    "vscode": {
     "languageId": "dotnet-interactive.pwsh"
    }
   },
   "outputs": [],
   "source": [
    "$games   = Import-Excel .\\EPL21-22-raw.xlsx \n",
    "$results = foreach ($g in $games) { \n",
    "    switch ($g.outcome) {\n",
    "        \"A\"  {$AwayPoints = 3; $awayResult = \"Win\";    $HomePoints=\"0\"; $HomeResult = \"Defeat\"}\n",
    "        \"D\"  {$AwayPoints = 1; $awayResult = \"Draw\";   $HomePoints=\"1\"; $HomeResult = \"Draw\"}\n",
    "        \"H\"  {$AwayPoints = 0; $awayResult = \"Defeat\"; $HomePoints=\"3\"; $HomeResult = \"Win\"}\n",
    "    }\n",
    "    [pscustomobject]@{\n",
    "        Team             = $G.HomeTeamName\n",
    "        Opponent         = $G.AwayTeamName\n",
    "        HomeOrAway       = \"Home\"\n",
    "        Date             = $G.KickOff\n",
    "        GoalsFor         = $G.HomeTeamScore\n",
    "        GoalsAgainst     = $G.AwayTeamScore\n",
    "        GoalDifference   = $G.HomeTeamScore - $G.awayTeamScore\n",
    "        AwayGoalsFor     = $null\n",
    "        AwayGoalsAgainst = $null\n",
    "        HomeGoalsFor     = $G.HomeTeamScore\n",
    "        HomeGoalsAgainst = $G.AwayTeamScore\n",
    "        Result           = $HomeResult\n",
    "        AwayResult       = $null\n",
    "        Homeresult       = $HomeResult\n",
    "        Points           = $HomePoints\n",
    "        AwayPoints       = $null\n",
    "        HomePoints       = $HomePoints\n",
    "        Won              = (($g.outcome -eq \"H\") ? 1 : $null )\n",
    "        Lost             = (($g.outcome -eq \"A\") ? 1 : $null )\n",
    "        Drawn            = (($g.outcome -eq \"D\") ? 1 : $null )\n",
    "        HomeWon          = (($g.outcome -eq \"H\") ? 1 : $null )\n",
    "        HomeLost         = (($g.outcome -eq \"A\") ? 1 : $null )\n",
    "        HomeDrawn        = (($g.outcome -eq \"D\") ? 1 : $null )\n",
    "        AwayWon          = $null\n",
    "        AwayLost         = $null\n",
    "        AwayDrawn        = $null\n",
    "    }\n",
    "        [pscustomobject]@{\n",
    "        Team             = $G.AwayTeamName\n",
    "        Opponent         = $G.HomeTeamName\n",
    "        HomeOrAway       = \"Away\"\n",
    "        Date             = $G.KickOff\n",
    "        GoalsFor         = $G.AwayTeamScore\n",
    "        GoalsAgainst     = $G.HomeTeamScore\n",
    "        GoalDifference   = $G.AwayTeamScore - $G.HomeTeamScore\n",
    "        AwayGoalsFor     = $G.AwayTeamScore\n",
    "        AwayGoalsAgainst = $G.HomeTeamScore\n",
    "        HomeGoalsFor     = $null\n",
    "        HomeGoalsAgainst = $null\n",
    "        Result           = $AwayResult\n",
    "        AwayResult       = $AwayResult\n",
    "        Homeresult       = $null\n",
    "        Points           = $AwayPoints\n",
    "        AwayPoints       = $AwayPoints\n",
    "        HomePoints       = $Null\n",
    "        Won              = (($g.outcome -eq \"A\") ? 1 : $null )\n",
    "        Lost             = (($g.outcome -eq \"H\") ? 1 : $null )\n",
    "        Drawn            = (($g.outcome -eq \"D\") ? 1 : $null )\n",
    "        HomeWon          = $null\n",
    "        HomeLost         = $null\n",
    "        HomeDrawn        = $null\n",
    "        AwayWon          = (($g.outcome -eq \"A\") ? 1 : $null )\n",
    "        AwayLost         = (($g.outcome -eq \"H\") ? 1 : $null )\n",
    "        AwayDrawn        = (($g.outcome -eq \"D\") ? 1 : $null )\n",
    "    }\n",
    "}"
   ]
  },
  {
   "cell_type": "code",
   "execution_count": null,
   "metadata": {
    "dotnet_interactive": {
     "language": "pwsh"
    },
    "vscode": {
     "languageId": "dotnet-interactive.pwsh"
    }
   },
   "outputs": [],
   "source": [
    "$results[0,1]  |Out-string"
   ]
  },
  {
   "cell_type": "code",
   "execution_count": null,
   "metadata": {
    "dotnet_interactive": {
     "language": "pwsh"
    },
    "vscode": {
     "languageId": "dotnet-interactive.pwsh"
    }
   },
   "outputs": [],
   "source": [
    "Get-item .\\EPL21-22-processed.xlsx,  .\\EPL21-22-Table.xlsx   -ErrorAction SilentlyContinue | Remove-Item\n",
    "$results | Export-Excel -Path .\\EPL21-22-processed.xlsx -FreezeTopRow -TableName TeamsGames -WorksheetName Results -ClearSheet -TableStyle Medium6 -AutoSize -Show -PivotTableName WinLoss -PivotRows Team -PivotColumn Result -PivotData @{\"Date\"=\"Count\"} -PivotChartType ColumnStacked"
   ]
  },
  {
   "cell_type": "markdown",
   "metadata": {},
   "source": [
    "### With the pivot module we can transform this into the league table"
   ]
  },
  {
   "cell_type": "code",
   "execution_count": null,
   "metadata": {
    "dotnet_interactive": {
     "language": "pwsh"
    },
    "vscode": {
     "languageId": "dotnet-interactive.pwsh"
    }
   },
   "outputs": [],
   "source": [
    "ipmo ~\\Documents\\GitHub\\PowerShellPivot\\PowerShellPivot.psd1 -force"
   ]
  },
  {
   "cell_type": "code",
   "execution_count": null,
   "metadata": {
    "dotnet_interactive": {
     "language": "pwsh"
    },
    "vscode": {
     "languageId": "dotnet-interactive.pwsh"
    }
   },
   "outputs": [],
   "source": [
    "$table = $results | Get-Subtotal -ValueName HomeWon,          AwayWon,          Won,\n",
    "                                            HomeLost,         AwayLost,         Lost,\n",
    "                                            HomeDrawn,        AwayDrawn,        Drawn,\n",
    "                                            HomeGoalsAgainst, AwayGoalsAgainst, GoalsAgainst,\n",
    "                                            HomeGoalsFor,     AwayGoalsFor,     GoalsFor,\n",
    "                                            GoalDifference,\n",
    "                                            HomePoints,       AwayPoints,       Points   -NoSuffix -GroupByName Team -Sum | \n",
    "                        Sort-Object Points, GoalDifference,   GoalsFor -Descending"
   ]
  },
  {
   "cell_type": "code",
   "execution_count": null,
   "metadata": {
    "dotnet_interactive": {
     "language": "pwsh"
    },
    "vscode": {
     "languageId": "dotnet-interactive.pwsh"
    }
   },
   "outputs": [
    {
     "name": "stdout",
     "output_type": "stream",
     "text": [
      "\r\n",
      "Team                     Won Lost Drawn GoalsAgainst GoalsFor GoalDifference Points\u001b[0m\r\n",
      "----                     --- ---- ----- ------------ -------- -------------- ------\u001b[0m\r\n",
      "Manchester City           29    3     6           26       99             73     93\r\n",
      "Liverpool                 28    2     8           26       94             68     92\r\n",
      "Chelsea                   21    6    11           33       76             43     74\r\n",
      "Tottenham Hotspur         22   11     5           40       69             29     71\r\n",
      "Arsenal                   22   13     3           48       61             13     69\r\n",
      "Manchester United         16   12    10           57       57              0     58\r\n",
      "West Ham United           16   14     8           51       60              9     56\r\n",
      "Leicester City            14   14    10           59       62              3     52\r\n",
      "Brighton and Hove Albion  12   11    15           44       42             -2     51\r\n",
      "Wolverhampton Wanderers   15   17     6           43       38             -5     51\r\n",
      "Newcastle United          13   15    10           62       44            -18     49\r\n",
      "Crystal Palace            11   12    15           46       50              4     48\r\n",
      "Brentford                 13   18     7           56       48             -8     46\r\n",
      "Aston Villa               13   19     6           54       52             -2     45\r\n",
      "Southampton                9   16    13           67       43            -24     40\r\n",
      "Everton                   11   21     6           66       43            -23     39\r\n",
      "Leeds United               9   18    11           79       42            -37     38\r\n",
      "Burnley                    7   17    14           53       34            -19     35\r\n",
      "Watford                    6   27     5           77       34            -43     23\r\n",
      "Norwich City               5   26     7           84       23            -61     22\r\n",
      "\r\n",
      "\r\n"
     ]
    }
   ],
   "source": [
    "$table | Select-Object -Property * -ExcludeProperty Home*,Away* | ft -a *  | out-string -width 240"
   ]
  },
  {
   "cell_type": "markdown",
   "metadata": {},
   "source": [
    "And save that to excel with some extra columns  (e.g Total For/Total Against = \"Goal average\" )"
   ]
  },
  {
   "cell_type": "code",
   "execution_count": null,
   "metadata": {
    "dotnet_interactive": {
     "language": "pwsh"
    },
    "vscode": {
     "languageId": "dotnet-interactive.pwsh"
    }
   },
   "outputs": [],
   "source": [
    "\n",
    "$table | Select-Object -Property Team, *won,*Lost,*drawn,*Goals*,\n",
    "                                @{n=\"HomeGoalAverage\"   ;e={\"=HomeGoalsFor/HomeGoalsAgainst\"}},\n",
    "                                @{n=\"AwayGoalAverage\"   ;e={\"=AwayGoalsFor/AwayGoalsAgainst\"}},\n",
    "                                @{n=\"GoalAverage\"       ;e={\"=GoalsFor/GoalsAgainst\"}},\n",
    "                                @{n=\"HomeGoalDifference\";e={\"=HomeGoalsFor-HomeGoalsAgainst\"}},\n",
    "                                @{n=\"AwayGoalDifference\";e={\"=AwayGoalsFor-AwayGoalsAgainst\"}},\n",
    "                                GoalDifference, *Points  |\n",
    "            Export-Excel -Path .\\EPL21-22-Table.xlsx -AutoNameRange -WorksheetName Table1 -TableStyle Medium6  -ClearSheet  -AutoSize -Activate -show\n",
    "\n",
    "\n",
    "\n"
   ]
  },
  {
   "cell_type": "markdown",
   "metadata": {},
   "source": [
    "### Or we can output a sheet designed to total with a pivot table"
   ]
  },
  {
   "cell_type": "code",
   "execution_count": null,
   "metadata": {
    "dotnet_interactive": {
     "language": "pwsh"
    },
    "vscode": {
     "languageId": "dotnet-interactive.pwsh"
    }
   },
   "outputs": [],
   "source": [
    " \n",
    "$numbers  = $results |  Select-Object Team,Result,HomeOrAway, @{n=\"Value\";e=\"Points\"},         @{n=\"Type\";e={\"Points\"}}\n",
    "$numbers += $results |  Select-Object Team,Result,HomeOrAway, @{n=\"Value\";e=\"GoalDifference\"}, @{n=\"Type\";e={\"GoalDifference\"}} \n",
    "$numbers += $results |  Select-Object Team,Result,HomeOrAway, @{n=\"Value\";e=\"GoalsFor\"},       @{n=\"Type\";e={\"GoalsFor\"}}\n",
    "$numbers += $results |  Select-Object Team,Result,HomeOrAway, @{n=\"Value\";e=\"GoalsAgainst\"},   @{n=\"Type\";e={\"GoalsAgainst\"}} \n",
    "$numbers += $results | Where-Object Result -eq \"Defeat\" | \n",
    "                        Select-Object Team,Result,HomeOrAway, @{n=\"Value\";e={1}},               @{n=\"Type\";e={\"Lost\"}} \n",
    "$numbers += $results | Where-Object Result -eq \"Win\" | \n",
    "                        Select-Object Team,Result,HomeOrAway, @{n=\"Value\";e={1}},               @{n=\"Type\";e={\"Won\"}};\n",
    "$numbers += $results | Where-Object Result -eq \"Draw\" | \n",
    "                        Select-Object Team,Result,HomeOrAway, @{n=\"Value\";e={1}},               @{n=\"Type\";e={\"Drawn\"}};\n",
    "\n",
    "$excel = $numbers | Export-Excel -PassThru -Path .\\EPL21-22-Table.xlsx -FreezeTopRow -TableName BreakDown -WorksheetName LeagueNumbers -ClearSheet -TableStyle Medium6 -AutoSize \n",
    "\n",
    "Add-PivotTable -ExcelPackage $Excel -PivotTableName League -PivotRows Team  -PivotColumns Type  -PivotData @{\"Value\"=\"Sum\"} -PivotTotals None  -Activate -SourceWorksheet $Excel.LeagueNumbers -SourceRange $Excel.LeagueNumbers.Dimension.Address\n",
    "\n",
    "Close-ExcelPackage $excel -Show"
   ]
  }
 ],
 "metadata": {
  "kernelspec": {
   "display_name": ".NET (PowerShell)",
   "language": "PowerShell",
   "name": ".net-pwsh"
  },
  "language_info": {
   "name": "PowerShell"
  }
 },
 "nbformat": 4,
 "nbformat_minor": 2
}
