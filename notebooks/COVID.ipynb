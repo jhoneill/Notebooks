{
  "cells": [
    {
      "cell_type": "markdown",
      "metadata": {},
      "source": [
        "[this doc on github](https://github.com/dotnet/interactive/tree/master/samples/notebooks/polyglot)\n",
        "\n",
        "# Visualizing the Johns Hopkins COVID-19 time series data\n",
        "\n",
        "**This is a work in progress.** It doesn't work yet in [Binder](https://mybinder.org/v2/gh/dotnet/interactive/master?urlpath=lab) because it relies on HTTP communication between the kernel and the Jupyter frontend.\n",
        "\n",
        "Also, due to travel restrictions, you should run this at home on isolated compute.\n",
        "\n",
        "*And don't forget to wash your hands.*\n",
        "\n",
        "Since Johns Hopkins has put COVID-19 time series data on [GitHub](https://github.com/CSSEGISandData/COVID-19), let's take a look at it. We can download it using PowerShell:"
      ]
    },
    {
      "cell_type": "code",
      "execution_count": 1,
      "metadata": {
        "dotnet_interactive": {
          "language": "pwsh"
        }
      },
      "source": [
        "Invoke-WebRequest -Uri \"https://raw.githubusercontent.com/CSSEGISandData/COVID-19/master/csse_covid_19_data/csse_covid_19_time_series/time_series_covid19_confirmed_global.csv\" -OutFile \"./Confirmed.csv\"\n",
        "Invoke-WebRequest -Uri \"https://raw.githubusercontent.com/CSSEGISandData/COVID-19/master/csse_covid_19_data/csse_covid_19_time_series/time_series_covid19_deaths_global.csv\" -OutFile \"./Deaths.csv\"\n",
        "Invoke-WebRequest -Uri \"https://raw.githubusercontent.com/CSSEGISandData/COVID-19/master/csse_covid_19_data/csse_covid_19_time_series/time_series_covid19_recovered_global.csv\" -OutFile \"./Recovered.csv\""
      ],
      "outputs": [
        {
          "output_type": "execute_result",
          "data": {
            "text/plain": ""
          },
          "execution_count": 1,
          "metadata": {}
        }
      ]
    },
    {
      "cell_type": "markdown",
      "metadata": {},
      "source": [
        "It needs a little cleaning up:"
      ]
    },
    {
      "cell_type": "code",
      "execution_count": 1,
      "metadata": {
        "dotnet_interactive": {
          "language": "csharp"
        }
      },
      "source": [
        "using System.IO;\n",
        "using System.Text.RegularExpressions;\n",
        "\n",
        "Clean(\"Confirmed.csv\");\n",
        "Clean(\"Deaths.csv\");\n",
        "Clean(\"Recovered.csv\");\n",
        "\n",
        "void Clean(string filePath)\n",
        "{\n",
        "    var raw = File.ReadAllText(filePath);\n",
        "    var regex = new Regex(\"\\\\\\\"(.*?)\\\\\\\"\");\n",
        "    var cleaned = regex.Replace(raw, m => m.Value.Replace(\",\", \" in \"));  \n",
        "    File.WriteAllText(filePath, cleaned);\n",
        "}\n",
        "\n",
        "\"All cleaned up!\""
      ],
      "outputs": [
        {
          "output_type": "execute_result",
          "data": {
            "text/plain": "All cleaned up!"
          },
          "execution_count": 1,
          "metadata": {}
        }
      ]
    },
    {
      "cell_type": "markdown",
      "metadata": {},
      "source": [
        "Next, let's load it into a data frame."
      ]
    },
    {
      "cell_type": "code",
      "execution_count": 1,
      "metadata": {
        "dotnet_interactive": {
          "language": "csharp"
        }
      },
      "source": [
        "#r \"nuget:Microsoft.Data.Analysis,0.2.0\""
      ],
      "outputs": [
        {
          "output_type": "execute_result",
          "data": {
            "text/plain": "Installed package Microsoft.Data.Analysis version 0.2.0"
          },
          "execution_count": 1,
          "metadata": {}
        }
      ]
    },
    {
      "cell_type": "code",
      "execution_count": 1,
      "metadata": {
        "dotnet_interactive": {
          "language": "csharp"
        }
      },
      "source": [
        "using Microsoft.Data.Analysis;\n",
        "\n",
        "var deaths = DataFrame.LoadCsv(\"./Deaths.csv\");\n",
        "var confirmed = DataFrame.LoadCsv(\"./Confirmed.csv\");\n",
        "var recovered = DataFrame.LoadCsv(\"./Recovered.csv\");\n",
        "var displayedValue = display(\"Processing data\");\n",
        "var offset = 4;\n",
        "var series = new List<object>();\n",
        "for(var i = offset; i <  deaths.Columns.Count; i++){\n",
        "    await Task.Delay(100);\n",
        "    var date = deaths.Columns[i].Name;\n",
        "    var deathFiltered = deaths[deaths.Columns[i].ElementwiseNotEquals(0)];\n",
        "    var confirmedFiltered = confirmed[confirmed.Columns[i].ElementwiseNotEquals(0)];\n",
        "    var recoveredFiltered = recovered[recovered.Columns[i].ElementwiseNotEquals(0)];\n",
        "\n",
        "    displayedValue.Update($\"processing {date}\");\n",
        "    series.Add(new {\n",
        "        date = date,\n",
        "        deathsSeries = new {\n",
        "            latitude = deathFiltered[\"Lat\"],\n",
        "            longitude = deathFiltered[\"Long\"],\n",
        "            data = deathFiltered.Columns[i]\n",
        "        },\n",
        "        confirmedSeries = new {\n",
        "            latitude = confirmedFiltered[\"Lat\"],\n",
        "            longitude = confirmedFiltered[\"Long\"],\n",
        "            data = confirmedFiltered.Columns[i]\n",
        "        },\n",
        "        recoveredSeries = new {\n",
        "            latitude = recoveredFiltered[\"Lat\"],\n",
        "            longitude = recoveredFiltered[\"Long\"],\n",
        "            data = recoveredFiltered.Columns[i]\n",
        "        }\n",
        "    });\n",
        "}\n",
        "\n",
        "displayedValue.Update(\"Ready.\");"
      ],
      "outputs": [
        {
          "output_type": "execute_result",
          "data": {
            "text/plain": "Ready."
          },
          "execution_count": 1,
          "metadata": {}
        }
      ]
    },
    {
      "cell_type": "markdown",
      "metadata": {},
      "source": [
        "Because we've stored our data in top-level variables (`deathsSeries`, `confirmedSeries`, `recoveredSeries`, etc.) in the C# kernel, they're accessible from JavaScript by calling `interactive.csharp.getVariable`. The data will be returned as JSON and we can plot it using the library of our choice, pulled in using [RequireJS](https://requirejs.org/). \n",
        "\n",
        "We'll use [Plotly](https://plot.ly/)."
      ]
    },
    {
      "cell_type": "code",
      "execution_count": 1,
      "metadata": {
        "dotnet_interactive": {
          "language": "javascript"
        }
      },
      "source": [
        "notebookScope.plot = function (plotTarget) {\n",
        "    let loadPlotly = interactive.configureRequire({\n",
        "        context: \"COVID\",\n",
        "        paths: {\n",
        "            plotly: \"https://cdn.plot.ly/plotly-latest.min\"\n",
        "        }\n",
        "    });\n",
        "    \n",
        "    loadPlotly([\"plotly\"], (Plotly) => {\n",
        "        if (typeof (notebookScope.updateInterval) !== 'undefined') {\n",
        "            clearInterval(notebookScope.updateInterval);\n",
        "        }\n",
        "\n",
        "        let index = 0;\n",
        "\n",
        "        if (typeof (document.getElementById(plotTarget)) !== 'undefined') {\n",
        "            interactive.csharp.getVariable(\"series\")\n",
        "                .then(series => {\n",
        "                    var { deathsSeries, confirmedSeries, recoveredSeries,  date } = series[index];\n",
        "                    var recovered = {\n",
        "                        name: \"Recovered\",\n",
        "                        type: \"scattergeo\",\n",
        "                        mode: \"markers\",\n",
        "                        geo: \"geo\",\n",
        "                        lat: recoveredSeries.latitude,\n",
        "                        lon: recoveredSeries.longitude,\n",
        "                        text: recoveredSeries.data,\n",
        "                        marker: {\n",
        "                            symbol: \"square\",\n",
        "                            color: \"Green\"\n",
        "                        }\n",
        "                    };\n",
        "\n",
        "                    var deaths = {\n",
        "                        name: \"Fatal\",\n",
        "                        type: \"scattergeo\",\n",
        "                        geo: \"geo2\",\n",
        "                        mode: \"markers\",\n",
        "                        lat: deathsSeries.latitude,\n",
        "                        lon: deathsSeries.longitude,\n",
        "                        text: deathsSeries.data,\n",
        "                        marker: {\n",
        "                            symbol: \"circle\",\n",
        "                            color: \"Black\"\n",
        "                        }\n",
        "                    };\n",
        "\n",
        "                    var confirmed = {\n",
        "                        name: \"Total confirmed\",\n",
        "                        type: \"scattergeo\",\n",
        "                        geo: \"geo3\",\n",
        "                        mode: \"markers\",\n",
        "                        lat: confirmedSeries.latitude,\n",
        "                        lon: confirmedSeries.longitude,\n",
        "                        text: confirmedSeries.data,\n",
        "                        marker: {\n",
        "                            symbol: \"diamond\",\n",
        "                            color: \"#DC7633\"\n",
        "                        }\n",
        "                    };\n",
        "                  \n",
        "\n",
        "                    var traces = [recovered, deaths, confirmed];\n",
        "\n",
        "                    var layout = {\n",
        "                        title: \"COVID-19 cases (\" + date + \")\",\n",
        "                        grid: { columns: 3, rows: 1 },\n",
        "                        geo: {\n",
        "                            scope: \"world\",\n",
        "                            showland: true,\n",
        "                            showcountries: true,\n",
        "                            bgcolor: \"rgb(90,90,90)\",\n",
        "                            landcolor: \"rgb(250,250,250)\",\n",
        "                            domain: {\n",
        "                                row: 0,\n",
        "                                column: 0\n",
        "                            }\n",
        "                        },\n",
        "                        geo2: {\n",
        "                            scope: \"world\",\n",
        "                            showland: true,\n",
        "                            showcountries: true,\n",
        "                            bgcolor: \"rgb(90,90,90)\",\n",
        "                            landcolor: \"rgb(250,250,250)\",\n",
        "                            domain: {\n",
        "                                row: 0,\n",
        "                                column: 1\n",
        "                            }\n",
        "                        },\n",
        "                        geo3: {\n",
        "                            scope: \"world\",\n",
        "                            showland: true,\n",
        "                            showcountries: true,\n",
        "                            bgcolor: \"rgb(90,90,90)\",\n",
        "                            landcolor: \"rgb(250,250,250)\",\n",
        "                            domain: {\n",
        "                                row: 0,\n",
        "                                column: 2\n",
        "                            }\n",
        "                        }\n",
        "                    };\n",
        "                    if (typeof (document.getElementById(plotTarget)) !== 'undefined') {\n",
        "                        Plotly.newPlot(plotTarget, traces, layout);\n",
        "                    }\n",
        "                    let updateCovidPlot = () => {\n",
        "                        if (typeof (document.getElementById(plotTarget)) !== 'undefined') {\n",
        "                            index++;\n",
        "                            if (index === series.length) {\n",
        "                                clearInterval(notebookScope.updateInterval);\n",
        "                                return;\n",
        "                            }\n",
        "                            var { deathsSeries, confirmedSeries, recoveredSeries, currentSeries, date } = series[index];\n",
        "                            Plotly.animate(\"plotlyChartCovid\", {\n",
        "                                data: [\n",
        "                                    {\n",
        "                                        lat: recoveredSeries.latitude,\n",
        "                                        lon: recoveredSeries.longitude,\n",
        "                                        text: recoveredSeries.data\n",
        "                                    },\n",
        "                                    {\n",
        "                                        lat: deathsSeries.latitude,\n",
        "                                        lon: deathsSeries.longitude,\n",
        "                                        text: deathsSeries.data\n",
        "                                    },\n",
        "                                    {\n",
        "                                        lat: confirmedSeries.latitude,\n",
        "                                        lon: confirmedSeries.longitude,\n",
        "                                        text: confirmedSeries.data\n",
        "                                    }],\n",
        "                                layout: {\n",
        "                                    title: \"COVID-19 \" + date\n",
        "                                }\n",
        "                            });\n",
        "                        }\n",
        "                    }\n",
        "                    notebookScope.updateInterval = setInterval(() => updateCovidPlot(), 250);\n",
        "                });\n",
        "        }\n",
        "    });\n",
        "};"
      ],
      "outputs": [
        {
          "output_type": "execute_result",
          "data": {
            "text/html": "<script type=\"text/javascript\">\nif (typeof window.createDotnetInteractiveClient === typeof Function) {\n    window.createDotnetInteractiveClient('http://localhost:52492/').then(async function (interactive) {\n        const console = interactive.getConsole('31');\n        const notebookScope = getDotnetInteractiveScope('http://localhost:52492/');\n        try {\n\nawait Object.getPrototypeOf(async function() {}).constructor(\n    \"interactive\",\n    \"console\",\n    \"notebookScope\",\n    \"notebookScope.plot = function (plotTarget) {\\n    let loadPlotly = interactive.configureRequire({\\n        context: \\\"COVID\\\",\\n        paths: {\\n            plotly: \\\"https://cdn.plot.ly/plotly-latest.min\\\"\\n        }\\n    });\\n    \\n    loadPlotly([\\\"plotly\\\"], (Plotly) =\\u003e {\\n        if (typeof (notebookScope.updateInterval) !== \\u0027undefined\\u0027) {\\n            clearInterval(notebookScope.updateInterval);\\n        }\\n\\n        let index = 0;\\n\\n        if (typeof (document.getElementById(plotTarget)) !== \\u0027undefined\\u0027) {\\n            interactive.csharp.getVariable(\\\"series\\\")\\n                .then(series =\\u003e {\\n                    var { deathsSeries, confirmedSeries, recoveredSeries,  date } = series[index];\\n                    var recovered = {\\n                        name: \\\"Recovered\\\",\\n                        type: \\\"scattergeo\\\",\\n                        mode: \\\"markers\\\",\\n                        geo: \\\"geo\\\",\\n                        lat: recoveredSeries.latitude,\\n                        lon: recoveredSeries.longitude,\\n                        text: recoveredSeries.data,\\n                        marker: {\\n                            symbol: \\\"square\\\",\\n                            color: \\\"Green\\\"\\n                        }\\n                    };\\n\\n                    var deaths = {\\n                        name: \\\"Fatal\\\",\\n                        type: \\\"scattergeo\\\",\\n                        geo: \\\"geo2\\\",\\n                        mode: \\\"markers\\\",\\n                        lat: deathsSeries.latitude,\\n                        lon: deathsSeries.longitude,\\n                        text: deathsSeries.data,\\n                        marker: {\\n                            symbol: \\\"circle\\\",\\n                            color: \\\"Black\\\"\\n                        }\\n                    };\\n\\n                    var confirmed = {\\n                        name: \\\"Total confirmed\\\",\\n                        type: \\\"scattergeo\\\",\\n                        geo: \\\"geo3\\\",\\n                        mode: \\\"markers\\\",\\n                        lat: confirmedSeries.latitude,\\n                        lon: confirmedSeries.longitude,\\n                        text: confirmedSeries.data,\\n                        marker: {\\n                            symbol: \\\"diamond\\\",\\n                            color: \\\"#DC7633\\\"\\n                        }\\n                    };\\n                  \\n\\n                    var traces = [recovered, deaths, confirmed];\\n\\n                    var layout = {\\n                        title: \\\"COVID-19 cases (\\\" + date + \\\")\\\",\\n                        grid: { columns: 3, rows: 1 },\\n                        geo: {\\n                            scope: \\\"world\\\",\\n                            showland: true,\\n                            showcountries: true,\\n                            bgcolor: \\\"rgb(90,90,90)\\\",\\n                            landcolor: \\\"rgb(250,250,250)\\\",\\n                            domain: {\\n                                row: 0,\\n                                column: 0\\n                            }\\n                        },\\n                        geo2: {\\n                            scope: \\\"world\\\",\\n                            showland: true,\\n                            showcountries: true,\\n                            bgcolor: \\\"rgb(90,90,90)\\\",\\n                            landcolor: \\\"rgb(250,250,250)\\\",\\n                            domain: {\\n                                row: 0,\\n                                column: 1\\n                            }\\n                        },\\n                        geo3: {\\n                            scope: \\\"world\\\",\\n                            showland: true,\\n                            showcountries: true,\\n                            bgcolor: \\\"rgb(90,90,90)\\\",\\n                            landcolor: \\\"rgb(250,250,250)\\\",\\n                            domain: {\\n                                row: 0,\\n                                column: 2\\n                            }\\n                        }\\n                    };\\n                    if (typeof (document.getElementById(plotTarget)) !== \\u0027undefined\\u0027) {\\n                        Plotly.newPlot(plotTarget, traces, layout);\\n                    }\\n                    let updateCovidPlot = () =\\u003e {\\n                        if (typeof (document.getElementById(plotTarget)) !== \\u0027undefined\\u0027) {\\n                            index++;\\n                            if (index === series.length) {\\n                                clearInterval(notebookScope.updateInterval);\\n                                return;\\n                            }\\n                            var { deathsSeries, confirmedSeries, recoveredSeries, currentSeries, date } = series[index];\\n                            Plotly.animate(\\\"plotlyChartCovid\\\", {\\n                                data: [\\n                                    {\\n                                        lat: recoveredSeries.latitude,\\n                                        lon: recoveredSeries.longitude,\\n                                        text: recoveredSeries.data\\n                                    },\\n                                    {\\n                                        lat: deathsSeries.latitude,\\n                                        lon: deathsSeries.longitude,\\n                                        text: deathsSeries.data\\n                                    },\\n                                    {\\n                                        lat: confirmedSeries.latitude,\\n                                        lon: confirmedSeries.longitude,\\n                                        text: confirmedSeries.data\\n                                    }],\\n                                layout: {\\n                                    title: \\\"COVID-19 \\\" + date\\n                                }\\n                            });\\n                        }\\n                    }\\n                    notebookScope.updateInterval = setInterval(() =\\u003e updateCovidPlot(), 250);\\n                });\\n        }\\n    });\\n};\"\n)(\n    interactive,\n    console,\n    notebookScope\n);\n\n        } catch (err) {\n            interactive.failCommand(err, '31');\n        } finally {\n            await interactive.waitForAllEventsToPublish('31');\n            await interactive.markExecutionComplete('31');\n        }\n    });\n}\n</script>"
          },
          "execution_count": 1,
          "metadata": {}
        }
      ]
    },
    {
      "cell_type": "markdown",
      "metadata": {},
      "source": [
        "Notice the `setInterval` call near the end of the previous cell. This rechecks the data in the kernel and updates the plot.\n",
        "\n",
        "Back on the kernel, we can now update the data so that the kernel can see it.\n",
        "\n",
        "Yes, this is a contrived example, and we're planning to support true streaming data, but it's a start."
      ]
    },
    {
      "cell_type": "code",
      "execution_count": 1,
      "metadata": {
        "dotnet_interactive": {
          "language": "html"
        }
      },
      "source": [
        "<div id=\"plotlyChartCovid\"></div>\n",
        "\n",
        "#!js\n",
        "notebookScope.plot(\"plotlyChartCovid\");"
      ],
      "outputs": [
        {
          "output_type": "execute_result",
          "data": {
            "text/html": "<div id=\"plotlyChartCovid\"></div>\n\n"
          },
          "execution_count": 1,
          "metadata": {}
        },
        {
          "output_type": "execute_result",
          "data": {
            "text/html": "<script type=\"text/javascript\">\nif (typeof window.createDotnetInteractiveClient === typeof Function) {\n    window.createDotnetInteractiveClient('http://localhost:52492/').then(async function (interactive) {\n        const console = interactive.getConsole('33');\n        const notebookScope = getDotnetInteractiveScope('http://localhost:52492/');\n        try {\n\nawait Object.getPrototypeOf(async function() {}).constructor(\n    \"interactive\",\n    \"console\",\n    \"notebookScope\",\n    \"\\nnotebookScope.plot(\\\"plotlyChartCovid\\\");\"\n)(\n    interactive,\n    console,\n    notebookScope\n);\n\n        } catch (err) {\n            interactive.failCommand(err, '33');\n        } finally {\n            await interactive.waitForAllEventsToPublish('33');\n            await interactive.markExecutionComplete('33');\n        }\n    });\n}\n</script>"
          },
          "execution_count": 1,
          "metadata": {}
        }
      ]
    },
    {
      "cell_type": "code",
      "execution_count": 1,
      "metadata": {
        "dotnet_interactive": {
          "language": "csharp"
        }
      },
      "source": [
        "#!about"
      ],
      "outputs": [
        {
          "output_type": "execute_result",
          "data": {
            "text/html": "<table><tbody><tr><td><img src=\"data:image/png;base64, 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\" width=\"125em\"></img></td><td style=\"line-height:.8em\"><p style=\"font-size:1.5em\"><b>.NET Interactive</b></p><p>&#169; 2020 Microsoft Corporation</p><p><b>Version: </b>1.0.222102+920d918455f425a8c501bdddb17b4f69c5f7ca2d</p><p><b>Build date: </b>2021-04-22T17:09:14.5239768Z</p><p><a href=\"https://github.com/dotnet/interactive\">https://github.com/dotnet/interactive</a></p></td></tr></tbody></table>"
          },
          "execution_count": 1,
          "metadata": {}
        }
      ]
    }
  ],
  "metadata": {
    "kernelspec": {
      "display_name": ".NET (C#)",
      "language": "C#",
      "name": ".net-csharp"
    },
    "language_info": {
      "file_extension": ".cs",
      "mimetype": "text/x-csharp",
      "name": "C#",
      "pygments_lexer": "csharp",
      "version": "8.0"
    }
  },
  "nbformat": 4,
  "nbformat_minor": 4
}