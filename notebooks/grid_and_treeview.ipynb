{
 "cells": [
  {
   "cell_type": "markdown",
   "metadata": {},
   "source": [
    "C# can show JSON as a tree view.\n",
    "Of course it is only outputting HTML so you could make your own treeview HTML and output it. "
   ]
  },
  {
   "cell_type": "code",
   "execution_count": null,
   "metadata": {
    "dotnet_interactive": {
     "language": "pwsh"
    }
   },
   "outputs": [
    {
     "data": {
      "application/json": {
       "SomeNumbers": [
        1,
        2,
        3,
        4,
        5
       ],
       "hello": "world"
      }
     },
     "metadata": {},
     "output_type": "display_data"
    }
   ],
   "source": [
    "#!value --name json --mime-type application/json\n",
    "{ \"hello\": \"world\", \"SomeNumbers\": [1,2,3,4,5]}"
   ]
  },
  {
   "cell_type": "code",
   "execution_count": null,
   "metadata": {
    "dotnet_interactive": {
     "language": "csharp"
    }
   },
   "outputs": [
    {
     "data": {
      "text/html": [
       "<details class=\"dni-treeview\"><summary><span class=\"dni-code-hint\"><code>{ &quot;hello&quot;: &quot;world&quot;, &quot;SomeNumbers&quot;: [1,2,3,4,5]}</code></span></summary><div><table><thead><tr></tr></thead><tbody><tr><td>hello</td><td><span>&quot;world&quot;</span></td></tr><tr><td>SomeNumbers</td><td><details class=\"dni-treeview\"><summary><span class=\"dni-code-hint\"><code>[1,2,3,4,5]</code></span></summary><div><table><thead><tr></tr></thead><tbody><tr><td><span><div class=\"dni-plaintext\">1</div></span></td></tr><tr><td><span><div class=\"dni-plaintext\">2</div></span></td></tr><tr><td><span><div class=\"dni-plaintext\">3</div></span></td></tr><tr><td><span><div class=\"dni-plaintext\">4</div></span></td></tr><tr><td><span><div class=\"dni-plaintext\">5</div></span></td></tr></tbody></table></div></details></td></tr></tbody></table></div></details><style id=\"dni-styles-JsonElement\">    \r\n",
       ".dni-code-hint {\r\n",
       "    font-style: italic;\r\n",
       "    overflow: hidden;\r\n",
       "    white-space: nowrap;\r\n",
       "}\r\n",
       "\r\n",
       ".dni-treeview {\r\n",
       "    white-space: nowrap;\r\n",
       "}\r\n",
       "\r\n",
       ".dni-treeview td {\r\n",
       "    vertical-align: top;\r\n",
       "}\r\n",
       "\r\n",
       "details.dni-treeview {\r\n",
       "    padding-left: 1em;\r\n",
       "}</style>"
      ]
     },
     "metadata": {},
     "output_type": "display_data"
    }
   ],
   "source": [
    "#!share json --from value\n",
    "System.Text.Json.JsonDocument.Parse(json)"
   ]
  },
  {
   "cell_type": "code",
   "execution_count": null,
   "metadata": {
    "dotnet_interactive": {
     "language": "html"
    }
   },
   "outputs": [
    {
     "data": {
      "text/html": [
       "<details class=\"dni-treeview\">\r\n",
       "    <summary><span class=\"dni-code-hint\"><code>{ &quot;hello&quot;: &quot;world&quot;, &quot;SomeNumbers&quot;: [1,2,3,4,5]}</code></span></summary>\r\n",
       "    <div><table><thead><tr></tr></thead><tbody>\r\n",
       "        <tr><td>hello</td>      <td><span>&quot;world&quot;</span></td></tr>\r\n",
       "        <tr><td>SomeNumbers</td><td>\r\n",
       "            <details class=\"dni-treeview\">\r\n",
       "                <summary><span class=\"dni-code-hint\"><code>[1,2,3,4,5]</code></span></summary>\r\n",
       "                <div><table><thead><tr><td>wwww</td><td>xxx</td></tr></thead><tbody>\r\n",
       "                    <tr><td><span><div class=\"dni-plaintext\">1</div></span></td><td><span><div class=\"dni-plaintext\">A</div></span></td></tr>\r\n",
       "                    <tr><td><span><div class=\"dni-plaintext\">2</div></span></td><td><span><div class=\"dni-plaintext\">b</div></span></td></tr>\r\n",
       "                    <tr><td><span><div class=\"dni-plaintext\">3</div></span></td><td><span><div class=\"dni-plaintext\">c</div></span></td></tr>\r\n",
       "                    <tr><td><span><div class=\"dni-plaintext\">4</div></span></td><td><span><div class=\"dni-plaintext\">Delta</div></span></td></tr>\r\n",
       "                    <tr><td><span><div class=\"dni-plaintext\">5</div></span></td><td><span><div class=\"dni-plaintext\">Elephant</div></span></td></tr>\r\n",
       "                </tbody></table></div>\r\n",
       "            </details>\r\n",
       "        </td> </tr>\r\n",
       "    </tbody></table></div>\r\n",
       "</details>\r\n",
       "<style id=\"dni-styles-JsonElement\">\r\n",
       "    .dni-code-hint { font-style: italic; overflow: hidden;  white-space: nowrap;}\r\n",
       "    .dni-treeview  { white-space: nowrap; }\r\n",
       "    .dni-treeview td { vertical-align: top;}\r\n",
       "    details.dni-treeview {padding-left: 1em;}\r\n",
       "</style>"
      ]
     },
     "metadata": {},
     "output_type": "display_data"
    }
   ],
   "source": [
    "<details class=\"dni-treeview\">\n",
    "    <summary><span class=\"dni-code-hint\"><code>{ &quot;hello&quot;: &quot;world&quot;, &quot;SomeNumbers&quot;: [1,2,3,4,5]}</code></span></summary>\n",
    "    <div><table><thead><tr></tr></thead><tbody>\n",
    "        <tr><td>hello</td>      <td><span>&quot;world&quot;</span></td></tr>\n",
    "        <tr><td>SomeNumbers</td><td>\n",
    "            <details class=\"dni-treeview\">\n",
    "                <summary><span class=\"dni-code-hint\"><code>[1,2,3,4,5]</code></span></summary>\n",
    "                <div><table><thead><tr><td>wwww</td><td>xxx</td></tr></thead><tbody>\n",
    "                    <tr><td><span><div class=\"dni-plaintext\">1</div></span></td><td><span><div class=\"dni-plaintext\">A</div></span></td></tr>\n",
    "                    <tr><td><span><div class=\"dni-plaintext\">2</div></span></td><td><span><div class=\"dni-plaintext\">b</div></span></td></tr>\n",
    "                    <tr><td><span><div class=\"dni-plaintext\">3</div></span></td><td><span><div class=\"dni-plaintext\">c</div></span></td></tr>\n",
    "                    <tr><td><span><div class=\"dni-plaintext\">4</div></span></td><td><span><div class=\"dni-plaintext\">Delta</div></span></td></tr>\n",
    "                    <tr><td><span><div class=\"dni-plaintext\">5</div></span></td><td><span><div class=\"dni-plaintext\">Elephant</div></span></td></tr>\n",
    "                </tbody></table></div>\n",
    "            </details>\n",
    "        </td> </tr>\n",
    "    </tbody></table></div>\n",
    "</details>\n",
    "<style id=\"dni-styles-JsonElement\">\n",
    "    .dni-code-hint { font-style: italic; overflow: hidden;  white-space: nowrap;}\n",
    "    .dni-treeview  { white-space: nowrap; }\n",
    "    .dni-treeview td { vertical-align: top;}\n",
    "    details.dni-treeview {padding-left: 1em;}\n",
    "</style>"
   ]
  },
  {
   "cell_type": "code",
   "execution_count": null,
   "metadata": {
    "dotnet_interactive": {
     "language": "pwsh"
    }
   },
   "outputs": [
    {
     "data": {
      "text/html": [
       "<details class=\"dni-treeview\"><summary><span class=\"dni-code-hint\">Top Winners</span></summary><div><table>\r\n",
       "  <thead>\r\n",
       "    <tr><td>WinningDriver</td><td>HowMany</td></tr>\r\n",
       "  </thead>\r\n",
       "  <tbody>\r\n",
       "    <tr><td><span><div class=\"dni-plaintext\">Lewis Hamilton</div></span></td><td><span><div class=\"dni-plaintext\">103</div></span></td></tr>\r\n",
       "    <tr><td><span><div class=\"dni-plaintext\">Michael Schumacher</div></span></td><td><span><div class=\"dni-plaintext\">91</div></span></td></tr>\r\n",
       "    <tr><td><span><div class=\"dni-plaintext\">Sebastian Vettel</div></span></td><td><span><div class=\"dni-plaintext\">53</div></span></td></tr>\r\n",
       "    <tr><td><span><div class=\"dni-plaintext\">Alain Prost</div></span></td><td><span><div class=\"dni-plaintext\">51</div></span></td></tr>\r\n",
       "    <tr><td><span><div class=\"dni-plaintext\">Ayrton Senna</div></span></td><td><span><div class=\"dni-plaintext\">41</div></span></td></tr>\r\n",
       "    <tr><td><span><div class=\"dni-plaintext\">Fernando Alonso</div></span></td><td><span><div class=\"dni-plaintext\">32</div></span></td></tr>\r\n",
       "    <tr><td><span><div class=\"dni-plaintext\">Nigel Mansell</div></span></td><td><span><div class=\"dni-plaintext\">31</div></span></td></tr>\r\n",
       "    <tr><td><span><div class=\"dni-plaintext\">Jackie Stewart</div></span></td><td><span><div class=\"dni-plaintext\">27</div></span></td></tr>\r\n",
       "    <tr><td><span><div class=\"dni-plaintext\">Niki Lauda</div></span></td><td><span><div class=\"dni-plaintext\">25</div></span></td></tr>\r\n",
       "    <tr><td><span><div class=\"dni-plaintext\">Jim Clark</div></span></td><td><span><div class=\"dni-plaintext\">25</div></span></td></tr>\r\n",
       "    <tr><td><span><div class=\"dni-plaintext\">Nico Rosberg</div></span></td><td><span><div class=\"dni-plaintext\">23</div></span></td></tr>\r\n",
       "    <tr><td><span><div class=\"dni-plaintext\">Nelson Piquet</div></span></td><td><span><div class=\"dni-plaintext\">23</div></span></td></tr>\r\n",
       "    <tr><td><span><div class=\"dni-plaintext\">Juan Manuel Fangio</div></span></td><td><span><div class=\"dni-plaintext\">23</div></span></td></tr>\r\n",
       "  </tbody>\r\n",
       "</table></div></details>\r\n",
       "<style id=\"dni-styles-JsonElement\">\n",
       "    .dni-code-hint { font-style: italic; overflow: hidden;  white-space: nowrap;}\n",
       "    .dni-treeview  { white-space: nowrap; }\n",
       "    .dni-treeview td { vertical-align: top;}\n",
       "    details.dni-treeview {padding-left: 1em;}\n",
       "</style>"
      ]
     },
     "metadata": {},
     "output_type": "display_data"
    }
   ],
   "source": [
    ". .\\NotebookOutput.ps1 \n",
    "\n",
    "import-csv .\\wins.csv | Out-TreeView  -TitleHtml  'Top Winners'  -Display #or | out-display / out-cell"
   ]
  },
  {
   "cell_type": "code",
   "execution_count": null,
   "metadata": {
    "dotnet_interactive": {
     "language": "pwsh"
    }
   },
   "outputs": [
    {
     "data": {
      "text/html": [
       "<details class=\"dni-treeview\"><summary><span class=\"dni-code-hint\">Races</span></summary><div><table>\r\n",
       "  <thead>\r\n",
       "    <tr><td>date</td><td>race</td></tr>\r\n",
       "  </thead>\r\n",
       "  <tbody>\r\n",
       "    <tr><td><span><div class=\"dni-plaintext\">07/11/2021</div></span></td><td><span><div class=\"dni-plaintext\"><details class=\"dni-treeview\"><summary><span class=\"dni-code-hint\">Mexican</span></summary><div><table>\r\n",
       "  <thead>\r\n",
       "    <tr><td>RacePosition</td><td>DriverName</td><td>TeamName</td><td>GridPosition</td><td>FastestLap</td></tr>\r\n",
       "  </thead>\r\n",
       "  <tbody>\r\n",
       "    <tr><td><span><div class=\"dni-plaintext\">1</div></span></td><td><span><div class=\"dni-plaintext\">Max Verstappen</div></span></td><td><span><div class=\"dni-plaintext\">Red Bull Racing-Honda</div></span></td><td><span><div class=\"dni-plaintext\">3</div></span></td><td><span><div class=\"dni-plaintext\"></div></span></td></tr>\r\n",
       "    <tr><td><span><div class=\"dni-plaintext\">2</div></span></td><td><span><div class=\"dni-plaintext\">Lewis Hamilton</div></span></td><td><span><div class=\"dni-plaintext\">Mercedes</div></span></td><td><span><div class=\"dni-plaintext\">2</div></span></td><td><span><div class=\"dni-plaintext\"></div></span></td></tr>\r\n",
       "    <tr><td><span><div class=\"dni-plaintext\">3</div></span></td><td><span><div class=\"dni-plaintext\">Sergio Pérez</div></span></td><td><span><div class=\"dni-plaintext\">Red Bull Racing-Honda</div></span></td><td><span><div class=\"dni-plaintext\">4</div></span></td><td><span><div class=\"dni-plaintext\"></div></span></td></tr>\r\n",
       "    <tr><td><span><div class=\"dni-plaintext\">4</div></span></td><td><span><div class=\"dni-plaintext\">Pierre Gasly</div></span></td><td><span><div class=\"dni-plaintext\">AlphaTauri-Honda</div></span></td><td><span><div class=\"dni-plaintext\">5</div></span></td><td><span><div class=\"dni-plaintext\"></div></span></td></tr>\r\n",
       "    <tr><td><span><div class=\"dni-plaintext\">5</div></span></td><td><span><div class=\"dni-plaintext\">Charles Leclerc</div></span></td><td><span><div class=\"dni-plaintext\">Ferrari</div></span></td><td><span><div class=\"dni-plaintext\">8</div></span></td><td><span><div class=\"dni-plaintext\"></div></span></td></tr>\r\n",
       "    <tr><td><span><div class=\"dni-plaintext\">6</div></span></td><td><span><div class=\"dni-plaintext\">Carlos Sainz</div></span></td><td><span><div class=\"dni-plaintext\">Ferrari</div></span></td><td><span><div class=\"dni-plaintext\">6</div></span></td><td><span><div class=\"dni-plaintext\"></div></span></td></tr>\r\n",
       "    <tr><td><span><div class=\"dni-plaintext\">7</div></span></td><td><span><div class=\"dni-plaintext\">Sebastian Vettel</div></span></td><td><span><div class=\"dni-plaintext\">Aston Martin-Mercedes</div></span></td><td><span><div class=\"dni-plaintext\">9</div></span></td><td><span><div class=\"dni-plaintext\"></div></span></td></tr>\r\n",
       "    <tr><td><span><div class=\"dni-plaintext\">8</div></span></td><td><span><div class=\"dni-plaintext\">Kimi Räikkönen</div></span></td><td><span><div class=\"dni-plaintext\">Alfa Romeo-Ferrari</div></span></td><td><span><div class=\"dni-plaintext\">10</div></span></td><td><span><div class=\"dni-plaintext\"></div></span></td></tr>\r\n",
       "    <tr><td><span><div class=\"dni-plaintext\">9</div></span></td><td><span><div class=\"dni-plaintext\">Fernando Alonso</div></span></td><td><span><div class=\"dni-plaintext\">Alpine-Renault</div></span></td><td><span><div class=\"dni-plaintext\">12</div></span></td><td><span><div class=\"dni-plaintext\"></div></span></td></tr>\r\n",
       "    <tr><td><span><div class=\"dni-plaintext\">10</div></span></td><td><span><div class=\"dni-plaintext\">Lando Norris</div></span></td><td><span><div class=\"dni-plaintext\">McLaren-Mercedes</div></span></td><td><span><div class=\"dni-plaintext\">18</div></span></td><td><span><div class=\"dni-plaintext\"></div></span></td></tr>\r\n",
       "  </tbody>\r\n",
       "</table></div></details>\r\n",
       "</div></span></td></tr>\r\n",
       "    <tr><td><span><div class=\"dni-plaintext\">14/11/2021</div></span></td><td><span><div class=\"dni-plaintext\"><details class=\"dni-treeview\"><summary><span class=\"dni-code-hint\">Brazilian</span></summary><div><table>\r\n",
       "  <thead>\r\n",
       "    <tr><td>RacePosition</td><td>DriverName</td><td>TeamName</td><td>GridPosition</td><td>FastestLap</td></tr>\r\n",
       "  </thead>\r\n",
       "  <tbody>\r\n",
       "    <tr><td><span><div class=\"dni-plaintext\">1</div></span></td><td><span><div class=\"dni-plaintext\">Lewis Hamilton</div></span></td><td><span><div class=\"dni-plaintext\">Mercedes</div></span></td><td><span><div class=\"dni-plaintext\">10</div></span></td><td><span><div class=\"dni-plaintext\"></div></span></td></tr>\r\n",
       "    <tr><td><span><div class=\"dni-plaintext\">2</div></span></td><td><span><div class=\"dni-plaintext\">Max Verstappen</div></span></td><td><span><div class=\"dni-plaintext\">Red Bull Racing-Honda</div></span></td><td><span><div class=\"dni-plaintext\">2</div></span></td><td><span><div class=\"dni-plaintext\"></div></span></td></tr>\r\n",
       "    <tr><td><span><div class=\"dni-plaintext\">3</div></span></td><td><span><div class=\"dni-plaintext\">Valtteri Bottas</div></span></td><td><span><div class=\"dni-plaintext\">Mercedes</div></span></td><td><span><div class=\"dni-plaintext\">1</div></span></td><td><span><div class=\"dni-plaintext\"></div></span></td></tr>\r\n",
       "    <tr><td><span><div class=\"dni-plaintext\">4</div></span></td><td><span><div class=\"dni-plaintext\">Sergio Pérez</div></span></td><td><span><div class=\"dni-plaintext\">Red Bull Racing-Honda</div></span></td><td><span><div class=\"dni-plaintext\">4</div></span></td><td><span><div class=\"dni-plaintext\">*</div></span></td></tr>\r\n",
       "    <tr><td><span><div class=\"dni-plaintext\">5</div></span></td><td><span><div class=\"dni-plaintext\">Charles Leclerc</div></span></td><td><span><div class=\"dni-plaintext\">Ferrari</div></span></td><td><span><div class=\"dni-plaintext\">6</div></span></td><td><span><div class=\"dni-plaintext\"></div></span></td></tr>\r\n",
       "    <tr><td><span><div class=\"dni-plaintext\">6</div></span></td><td><span><div class=\"dni-plaintext\">Carlos Sainz</div></span></td><td><span><div class=\"dni-plaintext\">Ferrari</div></span></td><td><span><div class=\"dni-plaintext\">3</div></span></td><td><span><div class=\"dni-plaintext\"></div></span></td></tr>\r\n",
       "    <tr><td><span><div class=\"dni-plaintext\">7</div></span></td><td><span><div class=\"dni-plaintext\">Pierre Gasly</div></span></td><td><span><div class=\"dni-plaintext\">AlphaTauri-Honda</div></span></td><td><span><div class=\"dni-plaintext\">7</div></span></td><td><span><div class=\"dni-plaintext\"></div></span></td></tr>\r\n",
       "    <tr><td><span><div class=\"dni-plaintext\">8</div></span></td><td><span><div class=\"dni-plaintext\">Esteban Ocon</div></span></td><td><span><div class=\"dni-plaintext\">Alpine-Renault</div></span></td><td><span><div class=\"dni-plaintext\">8</div></span></td><td><span><div class=\"dni-plaintext\"></div></span></td></tr>\r\n",
       "    <tr><td><span><div class=\"dni-plaintext\">9</div></span></td><td><span><div class=\"dni-plaintext\">Fernando Alonso</div></span></td><td><span><div class=\"dni-plaintext\">Alpine-Renault</div></span></td><td><span><div class=\"dni-plaintext\">12</div></span></td><td><span><div class=\"dni-plaintext\"></div></span></td></tr>\r\n",
       "    <tr><td><span><div class=\"dni-plaintext\">10</div></span></td><td><span><div class=\"dni-plaintext\">Lando Norris</div></span></td><td><span><div class=\"dni-plaintext\">McLaren-Mercedes</div></span></td><td><span><div class=\"dni-plaintext\">5</div></span></td><td><span><div class=\"dni-plaintext\"></div></span></td></tr>\r\n",
       "  </tbody>\r\n",
       "</table></div></details>\r\n",
       "</div></span></td></tr>\r\n",
       "    <tr><td><span><div class=\"dni-plaintext\">21/11/2021</div></span></td><td><span><div class=\"dni-plaintext\"><details class=\"dni-treeview\"><summary><span class=\"dni-code-hint\">Qatar</span></summary><div><table>\r\n",
       "  <thead>\r\n",
       "    <tr><td>RacePosition</td><td>DriverName</td><td>TeamName</td><td>GridPosition</td><td>FastestLap</td></tr>\r\n",
       "  </thead>\r\n",
       "  <tbody>\r\n",
       "    <tr><td><span><div class=\"dni-plaintext\">1</div></span></td><td><span><div class=\"dni-plaintext\">Lewis Hamilton</div></span></td><td><span><div class=\"dni-plaintext\">Mercedes</div></span></td><td><span><div class=\"dni-plaintext\">1</div></span></td><td><span><div class=\"dni-plaintext\"></div></span></td></tr>\r\n",
       "    <tr><td><span><div class=\"dni-plaintext\">2</div></span></td><td><span><div class=\"dni-plaintext\">Max Verstappen</div></span></td><td><span><div class=\"dni-plaintext\">Red Bull Racing-Honda</div></span></td><td><span><div class=\"dni-plaintext\">7</div></span></td><td><span><div class=\"dni-plaintext\">*</div></span></td></tr>\r\n",
       "    <tr><td><span><div class=\"dni-plaintext\">3</div></span></td><td><span><div class=\"dni-plaintext\">Fernando Alonso</div></span></td><td><span><div class=\"dni-plaintext\">Alpine-Renault</div></span></td><td><span><div class=\"dni-plaintext\">3</div></span></td><td><span><div class=\"dni-plaintext\"></div></span></td></tr>\r\n",
       "    <tr><td><span><div class=\"dni-plaintext\">4</div></span></td><td><span><div class=\"dni-plaintext\">Sergio Pérez</div></span></td><td><span><div class=\"dni-plaintext\">Red Bull Racing-Honda</div></span></td><td><span><div class=\"dni-plaintext\">11</div></span></td><td><span><div class=\"dni-plaintext\"></div></span></td></tr>\r\n",
       "    <tr><td><span><div class=\"dni-plaintext\">5</div></span></td><td><span><div class=\"dni-plaintext\">Esteban Ocon</div></span></td><td><span><div class=\"dni-plaintext\">Alpine-Renault</div></span></td><td><span><div class=\"dni-plaintext\">9</div></span></td><td><span><div class=\"dni-plaintext\"></div></span></td></tr>\r\n",
       "    <tr><td><span><div class=\"dni-plaintext\">6</div></span></td><td><span><div class=\"dni-plaintext\">Lance Stroll</div></span></td><td><span><div class=\"dni-plaintext\">Aston Martin-Mercedes</div></span></td><td><span><div class=\"dni-plaintext\">12</div></span></td><td><span><div class=\"dni-plaintext\"></div></span></td></tr>\r\n",
       "    <tr><td><span><div class=\"dni-plaintext\">7</div></span></td><td><span><div class=\"dni-plaintext\">Carlos Sainz</div></span></td><td><span><div class=\"dni-plaintext\">Ferrari</div></span></td><td><span><div class=\"dni-plaintext\">5</div></span></td><td><span><div class=\"dni-plaintext\"></div></span></td></tr>\r\n",
       "    <tr><td><span><div class=\"dni-plaintext\">8</div></span></td><td><span><div class=\"dni-plaintext\">Charles Leclerc</div></span></td><td><span><div class=\"dni-plaintext\">Ferrari</div></span></td><td><span><div class=\"dni-plaintext\">13</div></span></td><td><span><div class=\"dni-plaintext\"></div></span></td></tr>\r\n",
       "    <tr><td><span><div class=\"dni-plaintext\">9</div></span></td><td><span><div class=\"dni-plaintext\">Lando Norris</div></span></td><td><span><div class=\"dni-plaintext\">McLaren-Mercedes</div></span></td><td><span><div class=\"dni-plaintext\">4</div></span></td><td><span><div class=\"dni-plaintext\"></div></span></td></tr>\r\n",
       "    <tr><td><span><div class=\"dni-plaintext\">10</div></span></td><td><span><div class=\"dni-plaintext\">Sebastian Vettel</div></span></td><td><span><div class=\"dni-plaintext\">Aston Martin-Mercedes</div></span></td><td><span><div class=\"dni-plaintext\">10</div></span></td><td><span><div class=\"dni-plaintext\"></div></span></td></tr>\r\n",
       "  </tbody>\r\n",
       "</table></div></details>\r\n",
       "</div></span></td></tr>\r\n",
       "    <tr><td><span><div class=\"dni-plaintext\">05/12/2021</div></span></td><td><span><div class=\"dni-plaintext\"><details class=\"dni-treeview\"><summary><span class=\"dni-code-hint\">Saudi Arabia</span></summary><div><table>\r\n",
       "  <thead>\r\n",
       "    <tr><td>RacePosition</td><td>DriverName</td><td>TeamName</td><td>GridPosition</td><td>FastestLap</td></tr>\r\n",
       "  </thead>\r\n",
       "  <tbody>\r\n",
       "    <tr><td><span><div class=\"dni-plaintext\">1</div></span></td><td><span><div class=\"dni-plaintext\">Lewis Hamilton</div></span></td><td><span><div class=\"dni-plaintext\">Mercedes</div></span></td><td><span><div class=\"dni-plaintext\">1</div></span></td><td><span><div class=\"dni-plaintext\">*</div></span></td></tr>\r\n",
       "    <tr><td><span><div class=\"dni-plaintext\">2</div></span></td><td><span><div class=\"dni-plaintext\">Max Verstappen</div></span></td><td><span><div class=\"dni-plaintext\">Red Bull Racing-Honda</div></span></td><td><span><div class=\"dni-plaintext\">3</div></span></td><td><span><div class=\"dni-plaintext\"></div></span></td></tr>\r\n",
       "    <tr><td><span><div class=\"dni-plaintext\">3</div></span></td><td><span><div class=\"dni-plaintext\">Valtteri Bottas</div></span></td><td><span><div class=\"dni-plaintext\">Mercedes</div></span></td><td><span><div class=\"dni-plaintext\">2</div></span></td><td><span><div class=\"dni-plaintext\"></div></span></td></tr>\r\n",
       "    <tr><td><span><div class=\"dni-plaintext\">4</div></span></td><td><span><div class=\"dni-plaintext\">Esteban Ocon</div></span></td><td><span><div class=\"dni-plaintext\">Alpine-Renault</div></span></td><td><span><div class=\"dni-plaintext\">9</div></span></td><td><span><div class=\"dni-plaintext\"></div></span></td></tr>\r\n",
       "    <tr><td><span><div class=\"dni-plaintext\">5</div></span></td><td><span><div class=\"dni-plaintext\">Daniel Ricciardo</div></span></td><td><span><div class=\"dni-plaintext\">McLaren-Mercedes</div></span></td><td><span><div class=\"dni-plaintext\">11</div></span></td><td><span><div class=\"dni-plaintext\"></div></span></td></tr>\r\n",
       "    <tr><td><span><div class=\"dni-plaintext\">6</div></span></td><td><span><div class=\"dni-plaintext\">Pierre Gasly</div></span></td><td><span><div class=\"dni-plaintext\">AlphaTauri-Honda</div></span></td><td><span><div class=\"dni-plaintext\">6</div></span></td><td><span><div class=\"dni-plaintext\"></div></span></td></tr>\r\n",
       "    <tr><td><span><div class=\"dni-plaintext\">7</div></span></td><td><span><div class=\"dni-plaintext\">Charles Leclerc</div></span></td><td><span><div class=\"dni-plaintext\">Ferrari</div></span></td><td><span><div class=\"dni-plaintext\">4</div></span></td><td><span><div class=\"dni-plaintext\"></div></span></td></tr>\r\n",
       "    <tr><td><span><div class=\"dni-plaintext\">8</div></span></td><td><span><div class=\"dni-plaintext\">Carlos Sainz</div></span></td><td><span><div class=\"dni-plaintext\">Ferrari</div></span></td><td><span><div class=\"dni-plaintext\">15</div></span></td><td><span><div class=\"dni-plaintext\"></div></span></td></tr>\r\n",
       "    <tr><td><span><div class=\"dni-plaintext\">9</div></span></td><td><span><div class=\"dni-plaintext\">Antonio Giovinazzi</div></span></td><td><span><div class=\"dni-plaintext\">Alfa Romeo-Ferrari</div></span></td><td><span><div class=\"dni-plaintext\">10</div></span></td><td><span><div class=\"dni-plaintext\"></div></span></td></tr>\r\n",
       "    <tr><td><span><div class=\"dni-plaintext\">10</div></span></td><td><span><div class=\"dni-plaintext\">Lando Norris</div></span></td><td><span><div class=\"dni-plaintext\">McLaren-Mercedes</div></span></td><td><span><div class=\"dni-plaintext\">7</div></span></td><td><span><div class=\"dni-plaintext\"></div></span></td></tr>\r\n",
       "  </tbody>\r\n",
       "</table></div></details>\r\n",
       "</div></span></td></tr>\r\n",
       "    <tr><td><span><div class=\"dni-plaintext\">12/12/2021</div></span></td><td><span><div class=\"dni-plaintext\"><details class=\"dni-treeview\"><summary><span class=\"dni-code-hint\">Abu Dhabi</span></summary><div><table>\r\n",
       "  <thead>\r\n",
       "    <tr><td>RacePosition</td><td>DriverName</td><td>TeamName</td><td>GridPosition</td><td>FastestLap</td></tr>\r\n",
       "  </thead>\r\n",
       "  <tbody>\r\n",
       "    <tr><td><span><div class=\"dni-plaintext\">1</div></span></td><td><span><div class=\"dni-plaintext\">Max Verstappen</div></span></td><td><span><div class=\"dni-plaintext\">Red Bull Racing-Honda</div></span></td><td><span><div class=\"dni-plaintext\">1</div></span></td><td><span><div class=\"dni-plaintext\">*</div></span></td></tr>\r\n",
       "    <tr><td><span><div class=\"dni-plaintext\">2</div></span></td><td><span><div class=\"dni-plaintext\">Lewis Hamilton</div></span></td><td><span><div class=\"dni-plaintext\">Mercedes</div></span></td><td><span><div class=\"dni-plaintext\">2</div></span></td><td><span><div class=\"dni-plaintext\"></div></span></td></tr>\r\n",
       "    <tr><td><span><div class=\"dni-plaintext\">3</div></span></td><td><span><div class=\"dni-plaintext\">Carlos Sainz</div></span></td><td><span><div class=\"dni-plaintext\">Ferrari</div></span></td><td><span><div class=\"dni-plaintext\">5</div></span></td><td><span><div class=\"dni-plaintext\"></div></span></td></tr>\r\n",
       "    <tr><td><span><div class=\"dni-plaintext\">4</div></span></td><td><span><div class=\"dni-plaintext\">Yuki Tsunoda</div></span></td><td><span><div class=\"dni-plaintext\">AlphaTauri-Honda</div></span></td><td><span><div class=\"dni-plaintext\">8</div></span></td><td><span><div class=\"dni-plaintext\"></div></span></td></tr>\r\n",
       "    <tr><td><span><div class=\"dni-plaintext\">5</div></span></td><td><span><div class=\"dni-plaintext\">Pierre Gasly</div></span></td><td><span><div class=\"dni-plaintext\">AlphaTauri-Honda</div></span></td><td><span><div class=\"dni-plaintext\">12</div></span></td><td><span><div class=\"dni-plaintext\"></div></span></td></tr>\r\n",
       "    <tr><td><span><div class=\"dni-plaintext\">6</div></span></td><td><span><div class=\"dni-plaintext\">Valtteri Bottas</div></span></td><td><span><div class=\"dni-plaintext\">Mercedes</div></span></td><td><span><div class=\"dni-plaintext\">6</div></span></td><td><span><div class=\"dni-plaintext\"></div></span></td></tr>\r\n",
       "    <tr><td><span><div class=\"dni-plaintext\">7</div></span></td><td><span><div class=\"dni-plaintext\">Lando Norris</div></span></td><td><span><div class=\"dni-plaintext\">McLaren-Mercedes</div></span></td><td><span><div class=\"dni-plaintext\">3</div></span></td><td><span><div class=\"dni-plaintext\"></div></span></td></tr>\r\n",
       "    <tr><td><span><div class=\"dni-plaintext\">8</div></span></td><td><span><div class=\"dni-plaintext\">Fernando Alonso</div></span></td><td><span><div class=\"dni-plaintext\">Alpine-Renault</div></span></td><td><span><div class=\"dni-plaintext\">11</div></span></td><td><span><div class=\"dni-plaintext\"></div></span></td></tr>\r\n",
       "    <tr><td><span><div class=\"dni-plaintext\">9</div></span></td><td><span><div class=\"dni-plaintext\">Esteban Ocon</div></span></td><td><span><div class=\"dni-plaintext\">Alpine-Renault</div></span></td><td><span><div class=\"dni-plaintext\">9</div></span></td><td><span><div class=\"dni-plaintext\"></div></span></td></tr>\r\n",
       "    <tr><td><span><div class=\"dni-plaintext\">10</div></span></td><td><span><div class=\"dni-plaintext\">Charles Leclerc</div></span></td><td><span><div class=\"dni-plaintext\">Ferrari</div></span></td><td><span><div class=\"dni-plaintext\">7</div></span></td><td><span><div class=\"dni-plaintext\"></div></span></td></tr>\r\n",
       "  </tbody>\r\n",
       "</table></div></details>\r\n",
       "</div></span></td></tr>\r\n",
       "  </tbody>\r\n",
       "</table></div></details>\r\n",
       "<style id=\"dni-styles-JsonElement\">\n",
       "    .dni-code-hint { font-style: italic; overflow: hidden;  white-space: nowrap;}\n",
       "    .dni-treeview  { white-space: nowrap; }\n",
       "    .dni-treeview td { vertical-align: top;}\n",
       "    details.dni-treeview {padding-left: 1em;}\n",
       "</style>"
      ]
     },
     "metadata": {},
     "output_type": "display_data"
    }
   ],
   "source": [
    "$propertiesToShow = @('RacePosition', 'Drivername', 'TeamName', 'GridPosition', 'FastestLap')\n",
    "Import-Csv .\\RaceResults.csv | \n",
    "    Group-object -property @{e={[convert]::ToDateTime($_.RaceDate).ToString('yyyyMMdd')}} | \n",
    "        Foreach-Object {\n",
    "            $g = $_.Group\n",
    "            [pscustomobject]@{date = $g[0].RaceDate; race =  (Out-TreeView $g -Property $propertiesToShow -TitleHtml $g[0].RaceName)}     \n",
    "        } | Out-TreeView -Title Races -Display"
   ]
  },
  {
   "cell_type": "code",
   "execution_count": null,
   "metadata": {
    "dotnet_interactive": {
     "language": "pwsh"
    }
   },
   "outputs": [
    {
     "data": {
      "text/html": [
       "<?xml version=\"1.0\" encoding=\"UTF-8\" standalone=\"no\"?> <!DOCTYPE svg PUBLIC \"-//W3C//DTD SVG 1.1//EN\"  \"http://www.w3.org/Graphics/SVG/1.1/DTD/svg11.dtd\"> <!-- Generated by graphviz version 2.38.0 (20140413.2041)  --> <!-- Title: g Pages: 1 --> <svg width=\"248pt\" height=\"279pt\"  viewBox=\"0.00 0.00 248.00 279.00\" xmlns=\"http://www.w3.org/2000/svg\" xmlns:xlink=\"http://www.w3.org/1999/xlink\"> <g id=\"graph0\" class=\"graph\" transform=\"scale(1 1) rotate(0) translate(4 275)\"> <title>g</title> <polygon fill=\"white\" stroke=\"none\" points=\"-4,4 -4,-275 244,-275 244,4 -4,4\"/> <g id=\"clust1\" class=\"cluster\"><title>cluster856d455b8881</title> <polygon fill=\"none\" stroke=\"black\" points=\"8,-8 8,-227 232,-227 232,-8 8,-8\"/> <text text-anchor=\"middle\" x=\"120\" y=\"-211.8\" font-family=\"Times New Roman,serif\" font-size=\"14.00\">Stage: FollowOnStage</text> </g> <!-- FollowOn.pipeline --> <g id=\"node1\" class=\"node\"><title>FollowOn.pipeline</title> <polygon fill=\"none\" stroke=\"black\" points=\"179.5,-271 60.5,-271 60.5,-235 179.5,-235 179.5,-271\"/> <text text-anchor=\"middle\" x=\"120\" y=\"-249.3\" font-family=\"Times New Roman,serif\" font-size=\"14.00\">FollowOn.pipeline</text> </g> <!-- Job: ExitStageLeft --> <g id=\"node3\" class=\"node\"><title>Job: ExitStageLeft</title> <polygon fill=\"none\" stroke=\"black\" points=\"179.5,-196 60.5,-196 60.5,-160 179.5,-160 179.5,-196\"/> <text text-anchor=\"middle\" x=\"120\" y=\"-174.3\" font-family=\"Times New Roman,serif\" font-size=\"14.00\">Job: ExitStageLeft</text> </g> <!-- FollowOn.pipeline&#45;&gt;Job: ExitStageLeft --> <g id=\"edge3\" class=\"edge\"><title>FollowOn.pipeline&#45;&gt;Job: ExitStageLeft</title> <path fill=\"none\" stroke=\"black\" d=\"M120,-234.7C120,-226.245 120,-215.869 120,-206.373\"/> <polygon fill=\"black\" stroke=\"black\" points=\"123.5,-206.176 120,-196.176 116.5,-206.176 123.5,-206.176\"/> </g> <!-- 856d455b8881 --> <!-- DownloadPipelineArtifact --> <g id=\"node4\" class=\"node\"><title>DownloadPipelineArtifact</title> <ellipse fill=\"none\" stroke=\"black\" cx=\"120\" cy=\"-106\" rx=\"103.982\" ry=\"18\"/> <text text-anchor=\"middle\" x=\"120\" y=\"-102.3\" font-family=\"Times New Roman,serif\" font-size=\"14.00\">DownloadPipelineArtifact</text> </g> <!-- Job: ExitStageLeft&#45;&gt;DownloadPipelineArtifact --> <g id=\"edge1\" class=\"edge\"><title>Job: ExitStageLeft&#45;&gt;DownloadPipelineArtifact</title> <path fill=\"none\" stroke=\"black\" d=\"M120,-159.697C120,-151.983 120,-142.712 120,-134.112\"/> <polygon fill=\"black\" stroke=\"black\" points=\"123.5,-134.104 120,-124.104 116.5,-134.104 123.5,-134.104\"/> </g> <!-- PowerShell --> <g id=\"node5\" class=\"node\"><title>PowerShell</title> <ellipse fill=\"none\" stroke=\"black\" cx=\"120\" cy=\"-34\" rx=\"51.9908\" ry=\"18\"/> <text text-anchor=\"middle\" x=\"120\" y=\"-30.3\" font-family=\"Times New Roman,serif\" font-size=\"14.00\">PowerShell</text> </g> <!-- DownloadPipelineArtifact&#45;&gt;PowerShell --> <g id=\"edge2\" class=\"edge\"><title>DownloadPipelineArtifact&#45;&gt;PowerShell</title> <path fill=\"none\" stroke=\"black\" d=\"M120,-87.6966C120,-79.9827 120,-70.7125 120,-62.1124\"/> <polygon fill=\"black\" stroke=\"black\" points=\"123.5,-62.1043 120,-52.1043 116.5,-62.1044 123.5,-62.1043\"/> </g> </g> </svg>"
      ]
     },
     "metadata": {},
     "output_type": "display_data"
    }
   ],
   "source": [
    "Import-Module ~\\documents\\azdo\\serverautomationdemo\\utils\\PSGraph\\ -Force # My version!\n",
    ". ~\\documents\\azdo\\serverautomationdemo\\utils\\PlotDevopsPipelines.ps1\n",
    "  \n",
    "plot_pipeline ~\\documents\\azdo\\serverautomationdemo\\CI\\FollowOn.pipeline.yml  -DestinationPath \"\" | Write-Notebook "
   ]
  },
  {
   "cell_type": "code",
   "execution_count": null,
   "metadata": {
    "dotnet_interactive": {
     "language": "pwsh"
    }
   },
   "outputs": [
    {
     "data": {
      "text/html": [
       "<style>\r\n",
       "    .grid-container {display: grid; grid-template-columns: auto auto auto; background-color: #7f7f7f; padding: 5px;}\r\n",
       "    .grid-item {text-align: center; background-color: white; border: 1px solid rgba(0, 0, 0, 0.8); padding: 8px; font-size: 16px;}\r\n",
       "</style>\r\n",
       "<div class=\"grid-container\" style=\"grid-template-columns: auto auto auto auto auto auto auto auto;\" >\r\n",
       "     <div class=\"grid-item\" style=\"text-align: left;   background-color: black; color: white; font-weight: bold;\">Product</div>\r\n",
       "     <div class=\"grid-item\" style=\"text-align: left;   background-color: black; color: white; font-weight: bold;\">Average_Friday</div>\r\n",
       "     <div class=\"grid-item\" style=\"text-align: left;   background-color: black; color: white; font-weight: bold;\">Average_Monday</div>\r\n",
       "     <div class=\"grid-item\" style=\"text-align: left;   background-color: black; color: white; font-weight: bold;\">Average_Saturday</div>\r\n",
       "     <div class=\"grid-item\" style=\"text-align: left;   background-color: black; color: white; font-weight: bold;\">Average_Sunday</div>\r\n",
       "     <div class=\"grid-item\" style=\"text-align: left;   background-color: black; color: white; font-weight: bold;\">Average_Thursday</div>\r\n",
       "     <div class=\"grid-item\" style=\"text-align: left;   background-color: black; color: white; font-weight: bold;\">Average_Tuesday</div>\r\n",
       "     <div class=\"grid-item\" style=\"text-align: left;   background-color: black; color: white; font-weight: bold;\">Average_Wednesday</div>\r\n",
       "\r\n",
       "     <div class=\"grid-item\" style=\"text-align: left;\">Asparagus</div>\r\n",
       "     <div class=\"grid-item\" style=\"text-align: left;\">4.4</div>\r\n",
       "     <div class=\"grid-item\" style=\"text-align: left;\">4.8</div>\r\n",
       "     <div class=\"grid-item\" style=\"text-align: left;\">5.029</div>\r\n",
       "     <div class=\"grid-item\" style=\"text-align: left;\">4.029</div>\r\n",
       "     <div class=\"grid-item\" style=\"text-align: left;\">4.057</div>\r\n",
       "     <div class=\"grid-item\" style=\"text-align: left;\">4.486</div>\r\n",
       "     <div class=\"grid-item\" style=\"text-align: left;\">5.2</div>\r\n",
       "\r\n",
       "     <div class=\"grid-item\" style=\"background-color: rgba(255, 255, 255, 0.8);text-align: left;\">Cucumber</div>\r\n",
       "     <div class=\"grid-item\" style=\"background-color: rgba(255, 255, 255, 0.8);text-align: left;\">4.714</div>\r\n",
       "     <div class=\"grid-item\" style=\"background-color: rgba(255, 255, 255, 0.8);text-align: left;\">4.714</div>\r\n",
       "     <div class=\"grid-item\" style=\"background-color: rgba(255, 255, 255, 0.8);text-align: left;\">4.943</div>\r\n",
       "     <div class=\"grid-item\" style=\"background-color: rgba(255, 255, 255, 0.8);text-align: left;\">5.2</div>\r\n",
       "     <div class=\"grid-item\" style=\"background-color: rgba(255, 255, 255, 0.8);text-align: left;\">4.486</div>\r\n",
       "     <div class=\"grid-item\" style=\"background-color: rgba(255, 255, 255, 0.8);text-align: left;\">5.486</div>\r\n",
       "     <div class=\"grid-item\" style=\"background-color: rgba(255, 255, 255, 0.8);text-align: left;\">4.314</div>\r\n",
       "\r\n",
       "     <div class=\"grid-item\" style=\"text-align: left;\">Lettuce</div>\r\n",
       "     <div class=\"grid-item\" style=\"text-align: left;\">4.886</div>\r\n",
       "     <div class=\"grid-item\" style=\"text-align: left;\">5.457</div>\r\n",
       "     <div class=\"grid-item\" style=\"text-align: left;\">5.829</div>\r\n",
       "     <div class=\"grid-item\" style=\"text-align: left;\">4.686</div>\r\n",
       "     <div class=\"grid-item\" style=\"text-align: left;\">5.314</div>\r\n",
       "     <div class=\"grid-item\" style=\"text-align: left;\">5.171</div>\r\n",
       "     <div class=\"grid-item\" style=\"text-align: left;\">4.486</div>\r\n",
       "\r\n",
       "     <div class=\"grid-item\" style=\"background-color: rgba(255, 255, 255, 0.8);text-align: left;\">Potato</div>\r\n",
       "     <div class=\"grid-item\" style=\"background-color: rgba(255, 255, 255, 0.8);text-align: left;\">4.371</div>\r\n",
       "     <div class=\"grid-item\" style=\"background-color: rgba(255, 255, 255, 0.8);text-align: left;\">5.257</div>\r\n",
       "     <div class=\"grid-item\" style=\"background-color: rgba(255, 255, 255, 0.8);text-align: left;\">5</div>\r\n",
       "     <div class=\"grid-item\" style=\"background-color: rgba(255, 255, 255, 0.8);text-align: left;\">4.171</div>\r\n",
       "     <div class=\"grid-item\" style=\"background-color: rgba(255, 255, 255, 0.8);text-align: left;\">4.143</div>\r\n",
       "     <div class=\"grid-item\" style=\"background-color: rgba(255, 255, 255, 0.8);text-align: left;\">4.171</div>\r\n",
       "     <div class=\"grid-item\" style=\"background-color: rgba(255, 255, 255, 0.8);text-align: left;\">4.629</div>\r\n",
       "\r\n",
       "     <div class=\"grid-item\" style=\"text-align: left;\">Tomato</div>\r\n",
       "     <div class=\"grid-item\" style=\"text-align: left;\">5.4</div>\r\n",
       "     <div class=\"grid-item\" style=\"text-align: left;\">4.629</div>\r\n",
       "     <div class=\"grid-item\" style=\"text-align: left;\">4.4</div>\r\n",
       "     <div class=\"grid-item\" style=\"text-align: left;\">4.8</div>\r\n",
       "     <div class=\"grid-item\" style=\"text-align: left;\">4.971</div>\r\n",
       "     <div class=\"grid-item\" style=\"text-align: left;\">5.486</div>\r\n",
       "     <div class=\"grid-item\" style=\"text-align: left;\">5.371</div>\r\n",
       "</div>"
      ]
     },
     "metadata": {},
     "output_type": "display_data"
    }
   ],
   "source": [
    " ConvertFrom-Csv @\"\n",
    "\"Product\",\"Average_Friday\",\"Average_Monday\",\"Average_Saturday\",\"Average_Sunday\",\"Average_Thursday\",\"Average_Tuesday\",\"Average_Wednesday\"\n",
    "\"Asparagus\",\"4.4\",\"4.8\",\"5.029\",\"4.029\",\"4.057\",\"4.486\",\"5.2\"\n",
    "\"Cucumber\",\"4.714\",\"4.714\",\"4.943\",\"5.2\",\"4.486\",\"5.486\",\"4.314\"\n",
    "\"Lettuce\",\"4.886\",\"5.457\",\"5.829\",\"4.686\",\"5.314\",\"5.171\",\"4.486\"\n",
    "\"Potato\",\"4.371\",\"5.257\",\"5\",\"4.171\",\"4.143\",\"4.171\",\"4.629\"\n",
    "\"Tomato\",\"5.4\",\"4.629\",\"4.4\",\"4.8\",\"4.971\",\"5.486\",\"5.371\"\n",
    "\"@ | ConvertTo-Grid -Display"
   ]
  },
  {
   "cell_type": "markdown",
   "metadata": {},
   "source": [
    "```powershell\n",
    "$data = ConvertFrom-Csv @\"\n",
    "Day,Location,Cucumber,Tomato,Lettuce,Asparagus,Potato\n",
    "Monday,London,46,35,41,49,30\n",
    "Tuesday,London,30,26,36,38,27\n",
    "\"@  #etc \n",
    "# =======================================\n",
    "$MeltIDs      = 'Day', 'Location'\n",
    "$MeltVarName  = 'Product'\n",
    "\n",
    "$ValueName    = 'Sales' \n",
    "$aggFunction  = 'Average'  \n",
    "$PivotCol     = 'Day' \n",
    "$PivotRow     = 'Product'\n",
    "$PivotGroupBy = 'Location'\n",
    "# ====================================\n",
    "\n",
    "#We want to kep day and location and the other column names will become entires in \"product\", and the numbers in those columns go in a sales column. \n",
    "#We don't know when we do the melt if what the role of \"Day\", \"location\", and \"Product\" will be in the pivot\n",
    "$dataToPivot  =  $data | Invoke-PSMelt  -Id $MeltIDs  -ValueName $ValueName -VarName $MeltVarName\n",
    "<#\n",
    "Melted data looks like \n",
    "Day       location   Product   Sales\n",
    "---       --------   -------   -----\n",
    "Wednesday Glasgow    Lettuce   26\n",
    "Saturday  Edinburgh  Asparagus 47\n",
    "Saturday  Edinburgh  Tomato    27\n",
    "#>\n",
    "\n",
    "#These two lines created the cell above\n",
    "$pivoted      =  $dataToPivot | New-PSPivotTable -index $PivotRow -aggregateFunction $aggFunction -column $PivotCol -values $ValueName -Fill 0\n",
    "$html         =  $pivoted     | ConvertTo-Grid  \n",
    "\n",
    "#for each row of the pivot table (asparagus, cucumber etc.), select the associated source data\n",
    "foreach   ( $rowHeading in $pivoted.$PivotRow) {\n",
    "    $branchRows = $dataToPivot.where( {$_.$PivotRow -eq $rowHeading} )\n",
    "    <#foreach of the group_by values (locations in the subset London, Cardiff etc.) in the subset, create a tree branch which is \n",
    "    Location:  > London\n",
    "                   Day     Sales \n",
    "                   Monday  46\n",
    "                   Tuesday 30\n",
    "    And nest all the location trees under the row heading\n",
    "        > Cucumber \n",
    "            Location\n",
    "            > Birmingham\n",
    "            > Cardiff\n",
    "    #>\n",
    "    # Armed with the complete tree replace <div blah blah>Cucumber</div> with <div blah blah>TREE_FOR_CUCUMBER</div>  \n",
    "    $tree       = $branchRows.$PivotGroupBy | Sort-Object -Unique | Foreach-Object {\n",
    "                  $levelTwoHeading = $_ \n",
    "                  $subgroup = $branchRows.where({$_.$PivotGroupBy -eq $levelTwoHeading})\n",
    "                  [pscustomobject]@{$PivotGroupBy =  Out-TreeView $subgroup -ExcludeProperty $PivotRow,$PivotGroupBy -TitleHtml $levelTwoHeading} \n",
    "    } | Out-TreeView -Title $rowHeading  \n",
    "    $html = $html -replace  \"<(div class=`\"grid-item`\".*?)>\\s*$rowHeading\\s*</div>\", \"<`$1>$tree</div>\"\n",
    "}\n",
    "\n",
    "#Then output the whole lot\n",
    "Write-Notebook $html\n",
    "```"
   ]
  },
  {
   "cell_type": "code",
   "execution_count": null,
   "metadata": {
    "dotnet_interactive": {
     "language": "pwsh"
    }
   },
   "outputs": [],
   "source": []
  }
 ],
 "metadata": {
  "kernelspec": {
   "display_name": ".NET (C#)",
   "language": "C#",
   "name": ".net-csharp"
  },
  "language_info": {
   "name": "C#",
   "version": ""
  },
  "orig_nbformat": 2
 },
 "nbformat": 4,
 "nbformat_minor": 2
}
