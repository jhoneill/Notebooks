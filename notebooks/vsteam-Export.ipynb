{
 "metadata": {
  "kernelspec": {
   "display_name": ".NET (PowerShell)",
   "language": "PowerShell",
   "name": ".net-pwsh"
  },
  "language_info": {
   "name": "PowerShell"
  }
 },
 "cells": [
  {
   "cell_type": "markdown",
   "source": [
    "**Put the token in the clipboard before you start**"
   ],
   "metadata": {}
  },
  {
   "cell_type": "code",
   "execution_count": null,
   "source": [
    "cd  \"C:\\Users\\P10506111\\Documents\\github\\vsteam\"\r\n",
    "ipmo .\\dist\\VSTeam.psd1 -Force"
   ],
   "outputs": [],
   "metadata": {
    "dotnet_interactive": {
     "language": "pwsh"
    }
   }
  },
  {
   "cell_type": "code",
   "execution_count": null,
   "source": [
    "Connect-VSTeam -TokenFromClipboard -Account bbcas  #or  EMSAlcoholMonitoring or whatever "
   ],
   "outputs": [],
   "metadata": {
    "dotnet_interactive": {
     "language": "pwsh"
    }
   }
  },
  {
   "cell_type": "code",
   "execution_count": null,
   "source": [
    "(Get-VSTeamInfo).account"
   ],
   "outputs": [
    {
     "output_type": "display_data",
     "data": {
      "text/plain": [
       "https://dev.azure.com/bbcas\r\n"
      ]
     },
     "metadata": {}
    }
   ],
   "metadata": {
    "dotnet_interactive": {
     "language": "pwsh"
    }
   }
  },
  {
   "cell_type": "code",
   "execution_count": null,
   "source": [
    "Get-VSTeamProject | out-string -width 132"
   ],
   "outputs": [
    {
     "output_type": "display_data",
     "data": {
      "text/plain": [
       "\r\n",
       "Name                                   Description\r\n",
       "----                                   -----------\r\n",
       "BBCAS - Interfaces                     \r\n",
       "BBCAS - Infrastructure and Environment \r\n",
       "BBCAS - DevOps                         \r\n",
       "BBCAS - UAT                            Project for recording issues raised in UAT across the BBCAS Programme\r\n",
       "BBC Reports                            \r\n",
       "BBCAS - CRM                            BBC Audience Services CRM Development\r\n",
       "BBCAS - Data Migration                 \r\n",
       "BBCAS Internal Change and Observations BBCAS Internal Change Board \r\n",
       "BBCAS Change and Observations          BBC Change Board\r\n",
       "BBCAS - Reporting and BI               Place Holder for Master Copies of all the reports that are built\r\n",
       "\r\n",
       "\r\n"
      ]
     },
     "metadata": {}
    }
   ],
   "metadata": {
    "dotnet_interactive": {
     "language": "pwsh"
    }
   }
  },
  {
   "cell_type": "code",
   "execution_count": null,
   "source": [
    "#Any from the list above\r\n",
    "Set-VSTeamDefaultProject \"BBCAS Internal Change and Observations\""
   ],
   "outputs": [],
   "metadata": {
    "dotnet_interactive": {
     "language": "pwsh"
    }
   }
  },
  {
   "cell_type": "code",
   "execution_count": null,
   "source": [
    "# Picklists change the we're redirecting to as needed\r\n",
    "$picklistHash = @{}\r\n",
    "Get-VSTeamPickList | Get-VSTeamPickList | ForEach-Object -begin {$i=0} -process {\r\n",
    "      $i++; \r\n",
    "      $picklistHash[$_.id] = $i\r\n",
    "      '${0,-20}= Add-VsTeamPicklist          -Name {1,-60} -Type {2,-10} -Items @({3})  #ID: {4} ' -f \"list$i\", \"'$($_.name)'\", \"'$($_.type)'\", \"'$($_.Items -join ''', ''')'\", $($_.id)\r\n",
    "} > ~\\export2.ps1"
   ],
   "outputs": [],
   "metadata": {
    "dotnet_interactive": {
     "language": "pwsh"
    }
   }
  },
  {
   "cell_type": "code",
   "execution_count": null,
   "source": [
    "#fields. Again: change the destination file\r\n",
    "$fieldHash = @{}\r\n",
    "Get-VSTeamField | Where-Object referenceName -NotMatch \"^System|^Microsoft\" | ForEach-Object -begin {$i=0} -process {\r\n",
    "      $i ++;\r\n",
    "      if ($_.isIdentity) {$type = \"'identity'\"} else {$type = \"'$($_.type)'\"}\r\n",
    "      $cmdline = '${0,-20}= Add-VSTeamField             -Name {1,-60} -Type {2,-10} -Usage {3,-33} -ReferenceName {4,-74}  ' -f \"field$i\"  , \"'$($_.name)'\", $type,\"'$($_.usage)'\", \"'$($_.referenceName)'\"\r\n",
    "      $fieldHash[$_.referenceName] = \"`$field$i\"\r\n",
    "      if ($_.description)              {$cmdline += \" -Description '$($_.description)' \"}\r\n",
    "      if ($_.readOnly)                 {$cmdline += \" -ReadOnly \"}\r\n",
    "      if (-not $_.isQueryable)         {$cmdline += \" -NotQueryable \"}\r\n",
    "      if (-not $_.canSortBy)           {$cmdline += \" -NoSort \"}\r\n",
    "      if ($_.picklistId)    {           $cmdline += \" -PicklistID  `$list$($picklistHash[$_.picklistId]).id \" \r\n",
    "         if ($_.isPicklistSuggested)   {$cmdline += \" -IsPickListSuggested \"}\r\n",
    "      $cmdline += \"   # Old picklistID was $($_.picklistId)\"\r\n",
    "      }\r\n",
    "      $cmdline   >> ~\\export2.ps1\r\n",
    "}"
   ],
   "outputs": [],
   "metadata": {
    "dotnet_interactive": {
     "language": "pwsh"
    }
   }
  },
  {
   "cell_type": "code",
   "execution_count": null,
   "source": [
    "#Processes and work item types. Again check we're going to the right file. \r\n",
    "$processes = Get-VSTeamProcess \r\n",
    "$processhash = @{} ; foreach ($p in $processes) {$processhash[$p.id]=$p.name}\r\n",
    "$o = $n =  $m = $l = $k= $j = $i = $h = 0\r\n",
    "$result =  foreach ($p in $processes.where({$_.type -eq 'inherited'})) {\r\n",
    "   \"`r`n########## Process template: '$($p.name) \"\r\n",
    "   $i ++\r\n",
    "   $cmd = '${0,-20}= Add-VSTeamProcess           -ParentProcessName {2,-47} -ProcessTemplate {1,-40}'  -f \"process$i\", \"'$($p.Name)'\",\"'$($processhash[$p.ParentProcessTypeId])'\"\r\n",
    "   if ($p.referenceName -notmatch '^Inherited\\.')  {\r\n",
    "         $cmd += ' -ReferenceName {0,-40} ' -f \"'$($p.referenceName)'\" \r\n",
    "   }\r\n",
    "   if ($p.Description)  {\r\n",
    "         $cmd += \" -Description '$($p.Description)'\" \r\n",
    "   }\r\n",
    "   $cmd\r\n",
    "   #Get the work item types bound to the process. \r\n",
    "   $wiTypes = Get-VSTeamWorkItemType     -ProcessTemplate $p.name | where-object referenceName -notmatch \"^microsoft\" \r\n",
    "   foreach ($w in $wiTypes) {\r\n",
    "      Write-Progress \"Dumping Devops processinformation\" -CurrentOperation \"Dumping Process $($p.name), work item $($w.name)\"\r\n",
    "      $j ++ ;\r\n",
    "      '#region {1} {0}' -f  $w.name, $p.name\r\n",
    "      $cmd = '${0,-20}= Add-VSTeamWorkItemType      -Name {1,-60} -ProcessTemplate {2,-40} -Icon          {3,-40} -Color         {4,-20}'  -f \"ItemType$j\",  \"'$($w.name)'\", \"`$Process$i.name\", \"'$($w.icon)'\", \"'$($w.color)'\"\r\n",
    "      if ($W.description) {$cmd + \" -Description   '$($w.description)'\"}\r\n",
    "      else                {$cmd}\r\n",
    "\r\n",
    "      Get-VsteamWorkItemState     -ProcessTemplate $p.name -WorkItemType $w.name |\r\n",
    "         Where-Object {$_customizationType -ne 'system' -and $_.name -notin @('Proposed','Active','Closed') } | ForEach-Object {\r\n",
    "         $k++\r\n",
    "         '${0,-20}= Add-VsteamWorkItemState     -Name {1,-60} -ProcessTemplate {2,-40} -WorkItemType  {3,-40} -Color         {4,-20} -StateCategory {5,-25} -Order {6}'   -f \"State$k\", \"'$($_.Name)'\", \"`$Process$i.name\", \"`$ItemType$j.name\", \"'$($_.color)'\", \"'$($_.StateCategory)'\",$_.order\r\n",
    "      }\r\n",
    "      #Fields in the organization which are part of this work item\r\n",
    "      $workItemfieldHash = @{}\r\n",
    "      Get-VsteamWorkItemField     -ProcessTemplate $p.name -WorkItemType $w.name | where-object customization -notmatch 'system|inherited' | ForEach-Object {\r\n",
    "         $l ++;\r\n",
    "         if ($fieldHash[$_.referenceName]) {$field = $fieldHash[$_.referenceName] + '.referenceName'} else {$field = \"'$($_.referenceName)'\" }\r\n",
    "         $cmd = '${0,-20}= Add-VsteamWorkItemField     -Name {1,-60} -ProcessTemplate {2,-40} -WorkItemType  {3,-40} -DefaultValue  {4,-20}'  -f \"workitemField$l\", $field, \"`$Process$i.name\", \"`$ItemType$j.name\", \"'$($_.defaultValue)'\"\r\n",
    "         if ($_.required)    {$cmd += ' -Required ' }\r\n",
    "         if ($_.ReadOnly)    {$cmd += ' -ReadOnly ' }\r\n",
    "         if ($_.AllowGroups) {$cmd += ' -AllowGroups '}\r\n",
    "         \"$cmd  # $($_.referenceName)\"\r\n",
    "         $workItemfieldHash[$_.referenceName] = \"`$workitemField$l\"\r\n",
    "      }\r\n",
    "\r\n",
    "      $pages = Get-VsteamWorkItemPage  -ProcessTemplate $p.name -WorkItemType $w.name\r\n",
    "      Write-Progress \"Dumping Devops processinformation\" -CurrentOperation \"Dumping Process $($p.name), work item $($w.name) layout\"\r\n",
    "      foreach ($pg in $pages) {\r\n",
    "         if ($pg.inherited)  {$page = \"'$($pg.label)'\"}\r\n",
    "         else {\r\n",
    "            $m ++ \r\n",
    "            '${0,-20}= Add-VsteamWorkItemPage      -Name {1,-60} -ProcessTemplate {2,-40} -WorkItemType  {3,-40} -PageType      {4,-20}'  -f \"Page$m\", \"'$($pg.label)'\", \"`$Process$i.name\", \"`$ItemType$j.name\", \"'$($pg.pageType)'\"\r\n",
    "            $page = \"`$page$m.PageLabel\"\r\n",
    "         } \r\n",
    "      \r\n",
    "         foreach ($sec in $pg.sections) {foreach ($grp in $sec.groups) {\r\n",
    "            if ($grp.inherited -or $grp.controls[0].controltype -eq 'HtmlFieldControl' ) { $group = \"'$($grp.label)'\"} \r\n",
    "            else {\r\n",
    "               $n ++  \r\n",
    "               '${0,-20}= Add-VSTeamWorkItemPageGroup -Name {1,-60} -ProcessTemplate {2,-40} -WorkItemType  {3,-40} -Page          {4,-20} -Section       {5}'  -f \"PageGroup$n\", \"'$($grp.label)'\", \"`$Process$i.name\", \"`$ItemType$j.name\", $page , \"'$($sec.id)'\"\r\n",
    "               $group = \"`$PageGroup$n.label\"\r\n",
    "            }  \r\n",
    "         \r\n",
    "            foreach ($co in $grp.controls) {\r\n",
    "               if (-not $co.inherited)  {\r\n",
    "                  $o ++ \r\n",
    "                  if ($workItemfieldHash[$co.id]) {$field = $workItemfieldHash[$co.id] + '.referenceName'} else {$field = \"'$($co.id)'\" }\r\n",
    "                  if ($co.controlType -eq 'HtmlFieldControl') {$destProp = '-Section'; $destValue = \"'$($sec.id)'\"}\r\n",
    "                  else                                        {$destProp = '-Group  '; $destValue =  $group       }      \r\n",
    "                  $cmd = '${0,-20}= Add-VSTeamWorkItemControl   -Name {1,-60} -ProcessTemplate {2,-40} -WorkItemType  {3,-40} -Page          {4,-20} {7}       {5,-25} -Label {6}'  -f \"control$o\", $field, \"`$Process$i.name\",  \"`$ItemType$j.name\", \"'$($pg.label)'\", $destValue, \"'$($co.label)'\", $destprop\r\n",
    "                  if (-not $co.visible)    {$cmd + '  -Hidden'} \r\n",
    "                  elseif ($co.overridden)  {$cmd + '  -Hidden:$false'} \r\n",
    "                  else                     {$cmd}\r\n",
    "               }\r\n",
    "               if ($co.inherited -and -not $co.visible) {\r\n",
    "                  $o ++\r\n",
    "                  '${0,-20}= Set-VSTeamWorkItemControl   -Hide {1,-60} -ProcessTemplate {2,-40} -WorkItemType  {3,-40} -Page          {4,-20} -Group         {5,-25} -Label {6}'  -f \"control$o\",\"\", \"`$Process$i.name\",  \"`$ItemType$j.name\", \"'$($pg.label)'\", $group, \"'$($co.id)'\"\r\n",
    "               }\r\n",
    "            }\r\n",
    "         }}\r\n",
    "      }\r\n",
    "      $b = $null\r\n",
    "      $b = Get-VSTeamWorkItemBehavior -ProcessTemplate $p.Name -WorkItemType $w.name -WarningAction SilentlyContinue\r\n",
    "      if ($b.behavior.id -match \"requirement\") {\r\n",
    "         $h ++\r\n",
    "         $cmd = '${0,-20}= Set-VSTeamWorkItemBehavior  -WorkItemType {1,-52} -ProcessTemplate {2,-40} -Behavior Requirements -force'  -f \"Behavior$h\",  \"'$($w.name)'\", \"`$Process$i.name\"\r\n",
    "         if ($b.isDefault) { $cmd = $cmd + ' -IsDefault' }\r\n",
    "         $cmd \r\n",
    "      } \r\n",
    "\r\n",
    "      if ($w.inherits -like 'Microsoft*' -and $w.isDisabled) {\r\n",
    "         '${0,-20}= Set-VSTeamWorkItemType      -Name {1,-60} -ProcessTemplate {2,-40} -Disabled -Force'  -f \"ItemType$j\",  \"`$ItemType$j.name\", \"`$Process$i.name\"\r\n",
    "      }\r\n",
    "      \"#endregion\"\r\n",
    "   }\r\n",
    "}\r\n",
    "$result >>  ~\\export2.ps1\r\n",
    "1..$h | %{\"`$Behavior$_\"} >>  ~\\export2.ps1\r\n",
    "1..$k | %{\"`$State$_\"}     >>  ~\\export2.ps1\r\n",
    "1..$o | %{\"`$control$_\"}  >>  ~\\export2.ps1\r\n"
   ],
   "outputs": [
    {
     "output_type": "display_data",
     "data": {
      "text/plain": []
     },
     "metadata": {}
    }
   ],
   "metadata": {
    "dotnet_interactive": {
     "language": "pwsh"
    }
   }
  },
  {
   "cell_type": "code",
   "execution_count": null,
   "source": [
    "   Get-VsteamWorkItemState  -ProcessTemplate 'CAS CMMI'-WorkItemType \"observations\" | Where-Object {$_customizationType -ne 'system' -and $_.name -notin @('Proposed','Active','Closed') }"
   ],
   "outputs": [
    {
     "output_type": "display_data",
     "data": {
      "text/plain": [
       "\r\n"
      ]
     },
     "metadata": {}
    },
    {
     "output_type": "display_data",
     "data": {
      "text/plain": [
       "WorkItemType Order Name     Category Color  Customization Hidden\r\n"
      ]
     },
     "metadata": {}
    },
    {
     "output_type": "display_data",
     "data": {
      "text/plain": [
       "------------ ----- ----     -------- -----  ------------- ------\r\n"
      ]
     },
     "metadata": {}
    },
    {
     "output_type": "display_data",
     "data": {
      "text/plain": [
       "Observations 2     On Hold  Proposed D5D5D5 custom        \r\n"
      ]
     },
     "metadata": {}
    },
    {
     "output_type": "display_data",
     "data": {
      "text/plain": [
       "Observations 4     Resolved Resolved ff9d00 custom        \r\n"
      ]
     },
     "metadata": {}
    },
    {
     "output_type": "display_data",
     "data": {
      "text/plain": [
       "Observations 5     Removed  Resolved FF9D00 custom        \r\n"
      ]
     },
     "metadata": {}
    },
    {
     "output_type": "display_data",
     "data": {
      "text/plain": [
       "\r\n"
      ]
     },
     "metadata": {}
    }
   ],
   "metadata": {
    "dotnet_interactive": {
     "language": "pwsh"
    }
   }
  },
  {
   "cell_type": "code",
   "execution_count": null,
   "source": [
    "$grp = $pages[0].sections[0].groups[1]\r\n",
    "$co = $grp.controls[0] \r\n",
    "$co.controltype -ne 'HtmlFieldControl'"
   ],
   "outputs": [
    {
     "output_type": "display_data",
     "data": {
      "text/plain": [
       "False\r\n"
      ]
     },
     "metadata": {}
    }
   ],
   "metadata": {
    "dotnet_interactive": {
     "language": "pwsh"
    }
   }
  },
  {
   "cell_type": "code",
   "execution_count": null,
   "source": [],
   "outputs": [],
   "metadata": {
    "dotnet_interactive": {
     "language": "pwsh"
    }
   }
  },
  {
   "cell_type": "code",
   "execution_count": null,
   "source": [
    "(Get-VSTeamWorkItemType -ProcessTemplate 'CAS CMMI' -WorkItemType \"impact assessment\" | Get-VSTeamWorkItemPage).sections.groups[-3].controls.where({$_.inherited -and -not $_.visible}) | fl * "
   ],
   "outputs": [
    {
     "output_type": "display_data",
     "data": {
      "text/plain": [
       "\r\n"
      ]
     },
     "metadata": {}
    },
    {
     "output_type": "display_data",
     "data": {
      "text/plain": [
       "id              : Related Work\r\n"
      ]
     },
     "metadata": {}
    },
    {
     "output_type": "display_data",
     "data": {
      "text/plain": [
       "inherited       : True\r\n"
      ]
     },
     "metadata": {}
    },
    {
     "output_type": "display_data",
     "data": {
      "text/plain": [
       "overridden      : True\r\n"
      ]
     },
     "metadata": {}
    },
    {
     "output_type": "display_data",
     "data": {
      "text/plain": [
       "label           : \r\n"
      ]
     },
     "metadata": {}
    },
    {
     "output_type": "display_data",
     "data": {
      "text/plain": [
       "controlType     : LinksControl\r\n"
      ]
     },
     "metadata": {}
    },
    {
     "output_type": "display_data",
     "data": {
      "text/plain": [
       "readOnly        : False\r\n"
      ]
     },
     "metadata": {}
    },
    {
     "output_type": "display_data",
     "data": {
      "text/plain": [
       "watermark       : \r\n"
      ]
     },
     "metadata": {}
    },
    {
     "output_type": "display_data",
     "data": {
      "text/plain": [
       "metadata        : <LinksControlOptions ViewMode=\"List\"><LinkFilters><WorkItemLinkFilter \r\n"
      ]
     },
     "metadata": {}
    },
    {
     "output_type": "display_data",
     "data": {
      "text/plain": [
       "                  Type=\"System.LinkTypes.Duplicate-Reverse\" /><WorkItemLinkFilter \r\n"
      ]
     },
     "metadata": {}
    },
    {
     "output_type": "display_data",
     "data": {
      "text/plain": [
       "                  Type=\"System.LinkTypes.Hierarchy-Reverse\" /><WorkItemLinkFilter \r\n"
      ]
     },
     "metadata": {}
    },
    {
     "output_type": "display_data",
     "data": {
      "text/plain": [
       "                  Type=\"Microsoft.VSTS.Common.TestedBy-Forward\" /><WorkItemLinkFilter \r\n"
      ]
     },
     "metadata": {}
    },
    {
     "output_type": "display_data",
     "data": {
      "text/plain": [
       "                  Type=\"Microsoft.VSTS.Common.TestedBy-Reverse\" /><WorkItemLinkFilter \r\n"
      ]
     },
     "metadata": {}
    },
    {
     "output_type": "display_data",
     "data": {
      "text/plain": [
       "                  Type=\"System.LinkTypes.Hierarchy-Forward\" /><WorkItemLinkFilter \r\n"
      ]
     },
     "metadata": {}
    },
    {
     "output_type": "display_data",
     "data": {
      "text/plain": [
       "                  Type=\"System.LinkTypes.Duplicate-Forward\" /><WorkItemLinkFilter \r\n"
      ]
     },
     "metadata": {}
    },
    {
     "output_type": "display_data",
     "data": {
      "text/plain": [
       "                  Type=\"System.LinkTypes.Dependency\" /><WorkItemLinkFilter \r\n"
      ]
     },
     "metadata": {}
    },
    {
     "output_type": "display_data",
     "data": {
      "text/plain": [
       "                  Type=\"System.LinkTypes.Related\" /><ExternalLinkFilter Type=\"GitHub Issue\" \r\n"
      ]
     },
     "metadata": {}
    },
    {
     "output_type": "display_data",
     "data": {
      "text/plain": [
       "                  /></LinkFilters><Columns><Column Name=\"System.State\" /><Column \r\n"
      ]
     },
     "metadata": {}
    },
    {
     "output_type": "display_data",
     "data": {
      "text/plain": [
       "                  Name=\"System.ChangedDate\" /><Column Name=\"System.Links.Comment\" \r\n"
      ]
     },
     "metadata": {}
    },
    {
     "output_type": "display_data",
     "data": {
      "text/plain": [
       "                  /></Columns></LinksControlOptions>\r\n"
      ]
     },
     "metadata": {}
    },
    {
     "output_type": "display_data",
     "data": {
      "text/plain": [
       "visible         : False\r\n"
      ]
     },
     "metadata": {}
    },
    {
     "output_type": "display_data",
     "data": {
      "text/plain": [
       "isContribution  : False\r\n"
      ]
     },
     "metadata": {}
    },
    {
     "output_type": "display_data",
     "data": {
      "text/plain": [
       "ControlLabel    : \r\n"
      ]
     },
     "metadata": {}
    },
    {
     "output_type": "display_data",
     "data": {
      "text/plain": [
       "GroupLabel      : Related Work\r\n"
      ]
     },
     "metadata": {}
    },
    {
     "output_type": "display_data",
     "data": {
      "text/plain": [
       "SectionID       : Section3\r\n"
      ]
     },
     "metadata": {}
    },
    {
     "output_type": "display_data",
     "data": {
      "text/plain": [
       "PageLabel       : Impact Assesment\r\n"
      ]
     },
     "metadata": {}
    },
    {
     "output_type": "display_data",
     "data": {
      "text/plain": [
       "ProcessTemplate : CAS CMMI\r\n"
      ]
     },
     "metadata": {}
    },
    {
     "output_type": "display_data",
     "data": {
      "text/plain": [
       "WorkItemType    : Impact Assessment\r\n"
      ]
     },
     "metadata": {}
    },
    {
     "output_type": "display_data",
     "data": {
      "text/plain": [
       "\r\n"
      ]
     },
     "metadata": {}
    },
    {
     "output_type": "display_data",
     "data": {
      "text/plain": [
       "\r\n"
      ]
     },
     "metadata": {}
    }
   ],
   "metadata": {
    "dotnet_interactive": {
     "language": "pwsh"
    }
   }
  },
  {
   "cell_type": "code",
   "execution_count": null,
   "source": [
    "$b.behavior.id -match \"requirement\""
   ],
   "outputs": [
    {
     "output_type": "display_data",
     "data": {
      "text/plain": [
       "True\r\n"
      ]
     },
     "metadata": {}
    }
   ],
   "metadata": {
    "dotnet_interactive": {
     "language": "pwsh"
    }
   }
  },
  {
   "cell_type": "code",
   "execution_count": null,
   "source": [
    "$b.isDefault"
   ],
   "outputs": [
    {
     "output_type": "display_data",
     "data": {
      "text/plain": [
       "False\r\n"
      ]
     },
     "metadata": {}
    }
   ],
   "metadata": {
    "dotnet_interactive": {
     "language": "pwsh"
    }
   }
  },
  {
   "cell_type": "code",
   "execution_count": null,
   "source": [
    " $processbehaviors = Get-VSTeamProcessBehavior -ProcessTemplate $p "
   ],
   "outputs": [],
   "metadata": {
    "dotnet_interactive": {
     "language": "pwsh"
    }
   }
  },
  {
   "cell_type": "code",
   "execution_count": null,
   "source": [
    "$processbehaviors.name"
   ],
   "outputs": [
    {
     "output_type": "display_data",
     "data": {
      "text/plain": [
       "Epics\r\n"
      ]
     },
     "metadata": {}
    },
    {
     "output_type": "display_data",
     "data": {
      "text/plain": [
       "Features\r\n"
      ]
     },
     "metadata": {}
    },
    {
     "output_type": "display_data",
     "data": {
      "text/plain": [
       "Backlog items\r\n"
      ]
     },
     "metadata": {}
    },
    {
     "output_type": "display_data",
     "data": {
      "text/plain": [
       "Tasks\r\n"
      ]
     },
     "metadata": {}
    },
    {
     "output_type": "display_data",
     "data": {
      "text/plain": [
       "Portfolio\r\n"
      ]
     },
     "metadata": {}
    },
    {
     "output_type": "display_data",
     "data": {
      "text/plain": [
       "Ordered\r\n"
      ]
     },
     "metadata": {}
    }
   ],
   "metadata": {
    "dotnet_interactive": {
     "language": "pwsh"
    }
   }
  }
 ],
 "nbformat": 4,
 "nbformat_minor": 2
}