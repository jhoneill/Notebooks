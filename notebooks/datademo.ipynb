{
  "cells": [
    {
      "cell_type": "code",
      "execution_count": null,
      "metadata": {
        "dotnet_interactive": {
          "language": "pwsh"
        },
        "vscode": {
          "languageId": "polyglot-notebook"
        }
      },
      "outputs": [],
      "source": [
        "#!about"
      ]
    },
    {
      "attachments": {},
      "cell_type": "markdown",
      "metadata": {},
      "source": [
        "## Load SQL module, make a connection, list available tables\n",
        "\n",
        "**Excel data needs 64 bit Excel**"
      ]
    },
    {
      "cell_type": "code",
      "execution_count": 47,
      "metadata": {
        "dotnet_interactive": {
          "language": "pwsh"
        },
        "vscode": {
          "languageId": "polyglot-notebook"
        }
      },
      "outputs": [
        {
          "name": "stdout",
          "output_type": "stream",
          "text": [
            "Drivers\n",
            "races\n",
            "Results\n"
          ]
        },
        {
          "data": {
            "text/plain": [
              "Wall time: 33.5313ms"
            ]
          },
          "metadata": {},
          "output_type": "display_data"
        }
      ],
      "source": [
        "#!time \n",
        "ipmo getsql -force\n",
        "get-sql -Connection C:\\Users\\mcp\\OneDrive\\public\\f1\\f1Results.xlsx -Excel -ShowTables | select -last 3"
      ]
    },
    {
      "attachments": {},
      "cell_type": "markdown",
      "metadata": {},
      "source": [
        "# Use the connection to get details of a table "
      ]
    },
    {
      "cell_type": "code",
      "execution_count": null,
      "metadata": {
        "dotnet_interactive": {
          "language": "pwsh"
        },
        "vscode": {
          "languageId": "polyglot-notebook"
        }
      },
      "outputs": [],
      "source": [
        "sql -Describe results"
      ]
    },
    {
      "attachments": {},
      "cell_type": "markdown",
      "metadata": {},
      "source": [
        "# Use the Connection to run some queries"
      ]
    },
    {
      "cell_type": "code",
      "execution_count": null,
      "metadata": {
        "dotnet_interactive": {
          "language": "pwsh"
        },
        "vscode": {
          "languageId": "polyglot-notebook"
        }
      },
      "outputs": [],
      "source": [
        "#most recent race in the database\n",
        "sql \"Select max(raceDate) as LastRace from results\" -Quiet"
      ]
    },
    {
      "cell_type": "code",
      "execution_count": null,
      "metadata": {
        "dotnet_interactive": {
          "language": "pwsh"
        },
        "vscode": {
          "languageId": "polyglot-notebook"
        }
      },
      "outputs": [],
      "source": [
        "sql \"Select   top 10 count(raceDate) as Races,  DriverName \n",
        "     from     results \n",
        "     group by driverName \n",
        "     order by count(raceDate) desc\" -quiet "
      ]
    },
    {
      "cell_type": "code",
      "execution_count": null,
      "metadata": {
        "dotnet_interactive": {
          "language": "pwsh"
        },
        "vscode": {
          "languageId": "polyglot-notebook"
        }
      },
      "outputs": [],
      "source": [
        "sql  \"Select top 20 \n",
        "               count(raceDate) as races, \n",
        "               RaceShortName ,\n",
        "               drivername\n",
        "      from     results \n",
        "      where    racepos = '1'  \n",
        "      group by raceshortname, driverName \n",
        "      order by count(racedate) desc\" -quiet"
      ]
    },
    {
      "attachments": {},
      "cell_type": "markdown",
      "metadata": {},
      "source": [
        "# Load and try out nteract and Sanddance "
      ]
    },
    {
      "cell_type": "code",
      "execution_count": 59,
      "metadata": {
        "dotnet_interactive": {
          "language": "pwsh"
        },
        "polyglot_notebook": {
          "kernelName": "pwsh"
        },
        "vscode": {
          "languageId": "polyglot-notebook"
        }
      },
      "outputs": [
        {
          "data": {
            "text/html": [
              "<details><summary>Explore data visually using the <a href=\"https://github.com/nteract/data-explorer\">nteract Data Explorer</a>.</summary>\r\n",
              "    <p>This extension adds the ability to sort, filter, and visualize data using the <a href=\"https://github.com/nteract/data-explorer\">nteract Data Explorer</a>. Use the <code>ExploreWithNteract()</code> extension method with variables of type <code>JsonElement</code>, <code>IEnumerable<T></code> or <code>IDataView</code> to render the data explorer.</p>\r\n",
              "<pre>\r\n",
              "    <code>\r\n",
              "    using Microsoft.Data.Analysis;\r\n",
              "    using System.Collections.Generic;\r\n",
              "    using Microsoft.ML;\r\n",
              "\r\n",
              "    var dataFrame = DataFrame.LoadCsv(\"./Data.csv\");\r\n",
              "\r\n",
              "    dataFrame.ExploreWithNteract().Display();\r\n",
              "    </code>\r\n",
              "</pre>\r\n",
              "\r\n",
              "<p>To set the nteract Data Explorer use the following code</p>\r\n",
              "<pre>\r\n",
              "    <code>\r\n",
              "    DataExplorer.SetDefault<TabularDataResource, NteractDataExplorer>();\r\n",
              "    </code>\r\n",
              "</pre>\r\n",
              "    <img src=\"https://user-images.githubusercontent.com/547415/109559345-621e5880-7a8f-11eb-8b98-d4feeaac116f.png\" width=\"75%\">\r\n",
              "    </details>"
            ]
          },
          "metadata": {},
          "output_type": "display_data"
        },
        {
          "data": {
            "text/html": [
              "<details><summary>Explore data visually using the <a href=\"https://github.com/microsoft/SandDance\">SandDance Explorer</a>.</summary>\r\n",
              "    <p>This extension adds the ability to sort, filter, and visualize data using the <a href=\"https://github.com/microsoft/SandDance\">SandDance Explorer</a>. Use the <code>ExploreWithSandDance()</code> extension method with variables of type <code>JsonElement</code>, <code>IEnumerable<T></code> or <code>IDataView</code> to render the data explorer.</p>\r\n",
              "<pre>\r\n",
              "    <code>\r\n",
              "    using Microsoft.Data.Analysis;\r\n",
              "    using System.Collections.Generic;\r\n",
              "    using Microsoft.ML;\r\n",
              "\r\n",
              "    var dataFrame = DataFrame.LoadCsv(\"./Data.csv\");\r\n",
              "\r\n",
              "    dataFrame.ExploreWithSandDance().Display();\r\n",
              "    </code>\r\n",
              "</pre>\r\n",
              "<p>To set the SandDance Explorer use the following code</p>\r\n",
              "<pre>\r\n",
              "    <code>\r\n",
              "    DataExplorer.SetDefault<TabularDataResource, SandDanceDataExplorer>();\r\n",
              "    </code>\r\n",
              "</pre>\r\n",
              "    <img src=\"https://user-images.githubusercontent.com/11507384/54236654-52d42800-44d1-11e9-859e-6c5d297a46d2.gif\" width=\"30%\">\r\n",
              "    </details>"
            ]
          },
          "metadata": {},
          "output_type": "display_data"
        }
      ],
      "source": [
        ". .\\NotebookOutput.ps1"
      ]
    },
    {
      "cell_type": "code",
      "execution_count": 56,
      "metadata": {
        "dotnet_interactive": {
          "language": "pwsh"
        },
        "vscode": {
          "languageId": "polyglot-notebook"
        }
      },
      "outputs": [
        {
          "data": {
            "text/csv": [
              "Races,DriverName\r\n",
              "353,\"Kimi Räikkönen\"\r\n",
              "336,\"Fernando Alonso\"\r\n",
              "326,\"Rubens Barrichello\"\r\n",
              "308,\"Michael Schumacher\"\r\n",
              "308,\"Jenson Button\"\r\n",
              "288,\"Lewis Hamilton\"\r\n",
              "280,\"Sebastian Vettel\"\r\n",
              "271,\"Felipe Massa\"\r\n",
              "257,\"Riccardo Patrese\"\r\n",
              "256,\"Jarno Trulli\"\r\n"
            ],
            "text/html": [
              "<div style=\"background-color:white;\">\r\n",
              "<div id=\"1e417c3f054240b3b074f20c481db43b\" style=\"height: 100ch ;margin: 2px;\">\r\n",
              "</div>\r\n",
              "<script type=\"text/javascript\">\r\n",
              "\r\n",
              "renderNteractDataExplorer_1e417c3f054240b3b074f20c481db43b = () => {\r\n",
              "\r\n",
              "    (require.config({ 'paths': { 'context': '1.0.252001', 'nteractUri' : 'https://colombod.github.io/dotnet-interactive-cdn/extensionlab/1.0.252001/nteract/nteractapi', 'urlArgs': 'cacheBuster=42e7b8b6cc7d4a1fa0cba11ec23f56c5' }}) || require)(['nteractUri'], (nteract) => {\r\n",
              "\r\n",
              "        nteract.createDataExplorer({\r\n",
              "            data: {\r\n",
              "  \"profile\": \"tabular-data-resource\",\r\n",
              "  \"schema\": {\r\n",
              "    \"primaryKey\": [],\r\n",
              "    \"fields\": [\r\n",
              "      {\r\n",
              "        \"type\": \"integer\",\r\n",
              "        \"name\": \"Races\"\r\n",
              "      },\r\n",
              "      {\r\n",
              "        \"type\": \"string\",\r\n",
              "        \"name\": \"DriverName\"\r\n",
              "      }\r\n",
              "    ]\r\n",
              "  },\r\n",
              "  \"data\": [\r\n",
              "    {\r\n",
              "      \"Races\": 353,\r\n",
              "      \"DriverName\": \"Kimi Räikkönen\"\r\n",
              "    },\r\n",
              "    {\r\n",
              "      \"Races\": 336,\r\n",
              "      \"DriverName\": \"Fernando Alonso\"\r\n",
              "    },\r\n",
              "    {\r\n",
              "      \"Races\": 326,\r\n",
              "      \"DriverName\": \"Rubens Barrichello\"\r\n",
              "    },\r\n",
              "    {\r\n",
              "      \"Races\": 308,\r\n",
              "      \"DriverName\": \"Michael Schumacher\"\r\n",
              "    },\r\n",
              "    {\r\n",
              "      \"Races\": 308,\r\n",
              "      \"DriverName\": \"Jenson Button\"\r\n",
              "    },\r\n",
              "    {\r\n",
              "      \"Races\": 288,\r\n",
              "      \"DriverName\": \"Lewis Hamilton\"\r\n",
              "    },\r\n",
              "    {\r\n",
              "      \"Races\": 280,\r\n",
              "      \"DriverName\": \"Sebastian Vettel\"\r\n",
              "    },\r\n",
              "    {\r\n",
              "      \"Races\": 271,\r\n",
              "      \"DriverName\": \"Felipe Massa\"\r\n",
              "    },\r\n",
              "    {\r\n",
              "      \"Races\": 257,\r\n",
              "      \"DriverName\": \"Riccardo Patrese\"\r\n",
              "    },\r\n",
              "    {\r\n",
              "      \"Races\": 256,\r\n",
              "      \"DriverName\": \"Jarno Trulli\"\r\n",
              "    }\r\n",
              "  ]\r\n",
              "},\r\n",
              "            container: document.getElementById(\"1e417c3f054240b3b074f20c481db43b\")\r\n",
              "        });\r\n",
              "    },\r\n",
              "    (error) => {\r\n",
              "        console.log(error);\r\n",
              "    });\r\n",
              "};\r\n",
              "// ensure `require` is available globally\r\n",
              "if ((typeof(require) !==  typeof(Function)) || (typeof(require.config) !== typeof(Function))) {\r\n",
              "    let require_script = document.createElement('script');\r\n",
              "    require_script.setAttribute('src', 'https://cdnjs.cloudflare.com/ajax/libs/require.js/2.3.6/require.min.js');\r\n",
              "    require_script.setAttribute('type', 'text/javascript');\r\n",
              "    \r\n",
              "    \r\n",
              "    require_script.onload = function() {\r\n",
              "        renderNteractDataExplorer_1e417c3f054240b3b074f20c481db43b();\r\n",
              "    };\r\n",
              "\r\n",
              "    document.getElementsByTagName('head')[0].appendChild(require_script);\r\n",
              "}\r\n",
              "else {\r\n",
              "    renderNteractDataExplorer_1e417c3f054240b3b074f20c481db43b();\r\n",
              "}\r\n",
              "\r\n",
              " </script>\r\n",
              "</div>\r\n"
            ]
          },
          "metadata": {},
          "output_type": "display_data"
        }
      ],
      "source": [
        "$null  = sql \"Select   top 10 count(raceDate) as Races,  DriverName \n",
        "     from     results \n",
        "     group by driverName \n",
        "     order by count(raceDate) desc\" -quiet -OutputVariable WorkingData \n",
        "     \n",
        " $workingdata.ExploreWithNteract()\n"
      ]
    },
    {
      "cell_type": "code",
      "execution_count": 21,
      "metadata": {
        "dotnet_interactive": {
          "language": "pwsh"
        },
        "vscode": {
          "languageId": "polyglot-notebook"
        }
      },
      "outputs": [
        {
          "data": {
            "text/csv": [
              "Races,DriverName\r\n",
              "353,\"Kimi Räikkönen\"\r\n",
              "336,\"Fernando Alonso\"\r\n",
              "326,\"Rubens Barrichello\"\r\n",
              "308,\"Michael Schumacher\"\r\n",
              "308,\"Jenson Button\"\r\n",
              "288,\"Lewis Hamilton\"\r\n",
              "280,\"Sebastian Vettel\"\r\n",
              "271,\"Felipe Massa\"\r\n",
              "257,\"Riccardo Patrese\"\r\n",
              "256,\"Jarno Trulli\"\r\n"
            ],
            "text/html": [
              "<div style=\"background-color:white;\">\r\n",
              "<div id=\"a6b14a69303048ac9332c51d186d723d\" style=\"height: 100ch ;margin: 2px;\">\r\n",
              "</div>\r\n",
              "<script type=\"text/javascript\">\r\n",
              "\r\n",
              "renderSandDanceExplorer_a6b14a69303048ac9332c51d186d723d = () => {\r\n",
              "\r\n",
              "    (require.config({ 'paths': { 'context': '1.0.100', 'sandDanceUri' : 'https://colombod.github.io/dotnet-interactive-cdn/extensionlab/1.0.100/SandDance/sanddanceapi', 'urlArgs': 'cacheBuster=f03e77bb7ef642e09db09ece20cf46c5' }}) || require)(['sandDanceUri'], (sandDance) => {\r\n",
              "\r\n",
              "        sandDance.createSandDanceExplorer({\r\n",
              "            data: {\r\n",
              "  \"profile\": \"tabular-data-resource\",\r\n",
              "  \"schema\": {\r\n",
              "    \"primaryKey\": [],\r\n",
              "    \"fields\": [\r\n",
              "      {\r\n",
              "        \"type\": \"integer\",\r\n",
              "        \"name\": \"Races\"\r\n",
              "      },\r\n",
              "      {\r\n",
              "        \"type\": \"string\",\r\n",
              "        \"name\": \"DriverName\"\r\n",
              "      }\r\n",
              "    ]\r\n",
              "  },\r\n",
              "  \"data\": [\r\n",
              "    {\r\n",
              "      \"Races\": 353,\r\n",
              "      \"DriverName\": \"Kimi Räikkönen\"\r\n",
              "    },\r\n",
              "    {\r\n",
              "      \"Races\": 336,\r\n",
              "      \"DriverName\": \"Fernando Alonso\"\r\n",
              "    },\r\n",
              "    {\r\n",
              "      \"Races\": 326,\r\n",
              "      \"DriverName\": \"Rubens Barrichello\"\r\n",
              "    },\r\n",
              "    {\r\n",
              "      \"Races\": 308,\r\n",
              "      \"DriverName\": \"Michael Schumacher\"\r\n",
              "    },\r\n",
              "    {\r\n",
              "      \"Races\": 308,\r\n",
              "      \"DriverName\": \"Jenson Button\"\r\n",
              "    },\r\n",
              "    {\r\n",
              "      \"Races\": 288,\r\n",
              "      \"DriverName\": \"Lewis Hamilton\"\r\n",
              "    },\r\n",
              "    {\r\n",
              "      \"Races\": 280,\r\n",
              "      \"DriverName\": \"Sebastian Vettel\"\r\n",
              "    },\r\n",
              "    {\r\n",
              "      \"Races\": 271,\r\n",
              "      \"DriverName\": \"Felipe Massa\"\r\n",
              "    },\r\n",
              "    {\r\n",
              "      \"Races\": 257,\r\n",
              "      \"DriverName\": \"Riccardo Patrese\"\r\n",
              "    },\r\n",
              "    {\r\n",
              "      \"Races\": 256,\r\n",
              "      \"DriverName\": \"Jarno Trulli\"\r\n",
              "    }\r\n",
              "  ]\r\n",
              "},\r\n",
              "            id: \"a6b14a69303048ac9332c51d186d723d\",\r\n",
              "            container: document.getElementById(\"a6b14a69303048ac9332c51d186d723d\")\r\n",
              "        });\r\n",
              "    },\r\n",
              "    (error) => {\r\n",
              "        console.log(error);\r\n",
              "    });\r\n",
              "};\r\n",
              "// ensure `require` is available globally\r\n",
              "if ((typeof(require) !==  typeof(Function)) || (typeof(require.config) !== typeof(Function))) {\r\n",
              "    let require_script = document.createElement('script');\r\n",
              "    require_script.setAttribute('src', 'https://cdnjs.cloudflare.com/ajax/libs/require.js/2.3.6/require.min.js');\r\n",
              "    require_script.setAttribute('type', 'text/javascript');\r\n",
              "    \r\n",
              "    \r\n",
              "    require_script.onload = function() {\r\n",
              "        renderSandDanceExplorer_a6b14a69303048ac9332c51d186d723d();\r\n",
              "    };\r\n",
              "\r\n",
              "    document.getElementsByTagName('head')[0].appendChild(require_script);\r\n",
              "}\r\n",
              "else {\r\n",
              "    renderSandDanceExplorer_a6b14a69303048ac9332c51d186d723d();\r\n",
              "}\r\n",
              "\r\n",
              " </script>\r\n",
              "</div>\r\n"
            ]
          },
          "metadata": {},
          "output_type": "display_data"
        }
      ],
      "source": [
        "$WorkingData.ExploreWithSandDance()"
      ]
    },
    {
      "attachments": {},
      "cell_type": "markdown",
      "metadata": {},
      "source": [
        "# Close Connection"
      ]
    },
    {
      "cell_type": "code",
      "execution_count": null,
      "metadata": {
        "dotnet_interactive": {
          "language": "pwsh"
        },
        "vscode": {
          "languageId": "polyglot-notebook"
        }
      },
      "outputs": [],
      "source": [
        "sql -Close"
      ]
    }
  ],
  "metadata": {
    "kernelspec": {
      "display_name": ".NET (C#)",
      "language": "C#",
      "name": ".net-csharp"
    },
    "language_info": {
      "file_extension": ".cs",
      "mimetype": "text/x-csharp",
      "name": "C#",
      "pygments_lexer": "csharp",
      "version": "8.0"
    }
  },
  "nbformat": 4,
  "nbformat_minor": 4
}
