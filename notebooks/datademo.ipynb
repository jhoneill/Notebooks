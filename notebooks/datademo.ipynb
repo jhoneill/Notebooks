{
  "cells": [
    {
      "cell_type": "code",
      "execution_count": null,
      "metadata": {
        "dotnet_interactive": {
          "language": "pwsh"
        }
      },
      "outputs": [
        {
          "data": {
            "text/html": [
              "<table><tbody><tr><td><img src=\"data:image/png;base64, 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\" width=\"125em\"></img></td><td style=\"line-height:.8em\"><p style=\"font-size:1.5em\"><b>.NET Interactive</b></p><p>&#169; 2020 Microsoft Corporation</p><p><b>Version: </b>1.0.260601+9d1ecd3c06ba93e59bfef3842d2660c08d9e2ce5</p><p><b>Build date: </b>2021-12-18T10:36:48.0565225Z</p><p><a href=\"https://github.com/dotnet/interactive\">https://github.com/dotnet/interactive</a></p></td></tr></tbody></table>"
            ]
          },
          "metadata": {},
          "output_type": "display_data"
        }
      ],
      "source": [
        "#!about"
      ]
    },
    {
      "cell_type": "markdown",
      "metadata": {},
      "source": [
        "## Load SQL module, make a connection, list available tables\n",
        "\n",
        "**Excel data needs 64 bit Excel**"
      ]
    },
    {
      "cell_type": "code",
      "execution_count": null,
      "metadata": {
        "dotnet_interactive": {
          "language": "pwsh"
        }
      },
      "outputs": [
        {
          "name": "stdout",
          "output_type": "stream",
          "text": [
            "Drivers\r\n",
            "races\r\n",
            "Results\r\n"
          ]
        },
        {
          "data": {
            "text/plain": [
              "Wall time: 385.2102ms"
            ]
          },
          "metadata": {},
          "output_type": "display_data"
        }
      ],
      "source": [
        "#!time \n",
        "ipmo getsql -force\n",
        "get-sql -Connection C:\\Users\\mcp\\OneDrive\\public\\f1\\f1Results.xlsx -Excel -ShowTables | select -last 3"
      ]
    },
    {
      "cell_type": "markdown",
      "metadata": {},
      "source": [
        "# Use the connection to get details of a table "
      ]
    },
    {
      "cell_type": "code",
      "execution_count": null,
      "metadata": {
        "dotnet_interactive": {
          "language": "pwsh"
        }
      },
      "outputs": [
        {
          "name": "stdout",
          "output_type": "stream",
          "text": [
            "\r\n",
            "COLUMN_NAME           TYPE_NAME COLUMN_SIZE IS_NULLABLE\u001b[0m\r\n",
            "-----------           --------- ----------- -----------\u001b[0m\r\n",
            "RaceShortName         VARCHAR           255 YES\r\n",
            "Season                NUMBER             53 YES\r\n",
            "RaceDate              DATETIME           19 YES\r\n",
            "RacePos               VARCHAR           255 YES\r\n",
            "Laps                  NUMBER             53 YES\r\n",
            "[Time/Cause]          VARCHAR           255 YES\r\n",
            "CarNumber             NUMBER             53 YES\r\n",
            "DriverName            VARCHAR           255 YES\r\n",
            "GridPos               NUMBER             53 YES\r\n",
            "[Drivers Points]      VARCHAR           255 YES\r\n",
            "TeamName              VARCHAR           255 YES\r\n",
            "Engine                VARCHAR           255 YES\r\n",
            "Constructor           VARCHAR           255 YES\r\n",
            "[Constructors Points] VARCHAR           255 YES\r\n",
            "FastestLap            VARCHAR           255 YES\r\n",
            "Win                   VARCHAR           255 YES\r\n",
            "Podium                VARCHAR           255 YES\r\n",
            "Pole                  VARCHAR           255 YES\r\n",
            "ResultGroup           VARCHAR           255 YES\r\n",
            "PointsForComparison   VARCHAR           255 YES\r\n",
            "DriverNationality     VARCHAR           255 YES\r\n",
            "[Driver D#o#B]        DATETIME           19 YES\r\n",
            "DriverAge             NUMBER             53 YES\r\n",
            "\r\n"
          ]
        }
      ],
      "source": [
        "sql -Describe results"
      ]
    },
    {
      "cell_type": "markdown",
      "metadata": {},
      "source": [
        "# Use the Connection to run some queries"
      ]
    },
    {
      "cell_type": "code",
      "execution_count": null,
      "metadata": {
        "dotnet_interactive": {
          "language": "pwsh"
        }
      },
      "outputs": [
        {
          "name": "stdout",
          "output_type": "stream",
          "text": [
            "\r\n",
            "LastRace\u001b[0m\r\n",
            "--------\u001b[0m\r\n",
            "12/12/2021 00:00:00\r\n",
            "\r\n"
          ]
        }
      ],
      "source": [
        "#most recent race in the database\n",
        "sql \"Select max(raceDate) as LastRace from results\" -Quiet"
      ]
    },
    {
      "cell_type": "code",
      "execution_count": null,
      "metadata": {
        "dotnet_interactive": {
          "language": "pwsh"
        }
      },
      "outputs": [
        {
          "name": "stdout",
          "output_type": "stream",
          "text": [
            "\r\n",
            "Races DriverName\u001b[0m\r\n",
            "----- ----------\u001b[0m\r\n",
            "  353 Kimi Räikkönen\r\n",
            "  336 Fernando Alonso\r\n",
            "  326 Rubens Barrichello\r\n",
            "  308 Michael Schumacher\r\n",
            "  308 Jenson Button\r\n",
            "  288 Lewis Hamilton\r\n",
            "  280 Sebastian Vettel\r\n",
            "  271 Felipe Massa\r\n",
            "  257 Riccardo Patrese\r\n",
            "  256 Jarno Trulli\r\n",
            "\r\n"
          ]
        }
      ],
      "source": [
        "sql \"Select   top 10 count(raceDate) as Races,  DriverName \n",
        "     from     results \n",
        "     group by driverName \n",
        "     order by count(raceDate) desc\" -quiet "
      ]
    },
    {
      "cell_type": "code",
      "execution_count": null,
      "metadata": {
        "dotnet_interactive": {
          "language": "pwsh"
        }
      },
      "outputs": [
        {
          "name": "stdout",
          "output_type": "stream",
          "text": [
            "\r\n",
            "races RaceShortName drivername\u001b[0m\r\n",
            "----- ------------- ----------\u001b[0m\r\n",
            "    8 Hungarian     Lewis Hamilton\r\n",
            "    8 French        Michael Schumacher\r\n",
            "    8 British       Lewis Hamilton\r\n",
            "    7 Canadian      Lewis Hamilton\r\n",
            "    7 Canadian      Michael Schumacher\r\n",
            "    6 Monaco        Ayrton Senna\r\n",
            "    6 Chinese       Lewis Hamilton\r\n",
            "    6 San Marino    Michael Schumacher\r\n",
            "    6 Belgian       Michael Schumacher\r\n",
            "    6 United States Lewis Hamilton\r\n",
            "    6 Brazilian     Alain Prost\r\n",
            "    6 French        Alain Prost\r\n",
            "    6 Spanish       Michael Schumacher\r\n",
            "    6 European      Michael Schumacher\r\n",
            "    6 Spanish       Lewis Hamilton\r\n",
            "    6 Japanese      Michael Schumacher\r\n",
            "    5 United States Ayrton Senna\r\n",
            "    5 British       Alain Prost\r\n",
            "    5 Brazilian     Michael Schumacher\r\n",
            "    5 Japanese      Lewis Hamilton\r\n",
            "    5 Monaco        Michael Schumacher\r\n",
            "    5 Singapore     Sebastian Vettel\r\n",
            "    5 Italian       Lewis Hamilton\r\n",
            "    5 Monaco        Graham Hill\r\n",
            "    5 British       Jim Clark\r\n",
            "    5 Russian       Lewis Hamilton\r\n",
            "    5 United States Michael Schumacher\r\n",
            "    5 Italian       Michael Schumacher\r\n",
            "    5 Bahrain       Lewis Hamilton\r\n",
            "    5 Abu Dhabi     Lewis Hamilton\r\n",
            "    5 Belgian       Ayrton Senna\r\n",
            "\r\n"
          ]
        }
      ],
      "source": [
        "sql  \"Select top 20 \n",
        "               count(raceDate) as races, \n",
        "               RaceShortName ,\n",
        "               drivername\n",
        "      from     results \n",
        "      where    racepos = '1'  \n",
        "      group by raceshortname, driverName \n",
        "      order by count(racedate) desc\" -quiet"
      ]
    },
    {
      "cell_type": "code",
      "execution_count": null,
      "metadata": {
        "dotnet_interactive": {
          "language": "csharp"
        }
      },
      "outputs": [
        {
          "data": {
            "text/html": [
              "<div><div></div><div></div><div><strong>Installed Packages</strong><ul><li><span>Microsoft.DotNet.Interactive.ExtensionLab, 1.0.0-beta.21606.1</span></li></ul></div></div>"
            ]
          },
          "metadata": {},
          "output_type": "display_data"
        },
        {
          "data": {
            "text/markdown": [
              "Loading extensions from `Microsoft.Data.Analysis.Interactive.dll`"
            ]
          },
          "metadata": {},
          "output_type": "display_data"
        },
        {
          "data": {
            "text/markdown": [
              "Loading extensions from `Microsoft.DotNet.Interactive.ExtensionLab.dll`"
            ]
          },
          "metadata": {},
          "output_type": "display_data"
        },
        {
          "data": {
            "text/html": [
              "<details><summary>Create strongly-typed dataframes using<code>#!linqify</code>.</summary>\r\n",
              "    <p>The <code>#!linqify</code> magic command replaces a <a href=\"https://www.nuget.org/packages/Microsoft.Data.Analysis/\"><code>Microsoft.Data.Analysis.DataFrame</code></a> variable with a generated, strongly-typed data frame, allowing the use of LINQ operations over the contained data.</p>\r\n",
              "    </details>"
            ]
          },
          "metadata": {},
          "output_type": "display_data"
        },
        {
          "data": {
            "text/html": [
              "<details><summary>Inspect code compilation details using the <code>#!inspect</code> magic command.</summary>\r\n",
              "    <p>The <code>#!inspect</code> magic command allows you to see the C# decompilation, IL, and JIT Asm for the code in a C# cell.</p>\r\n",
              "    <img src=\"https://user-images.githubusercontent.com/547415/109560515-d5749a00-7a90-11eb-9fa3-51b737345bb4.png\" width=\"75%\" />\r\n",
              "    </details>"
            ]
          },
          "metadata": {},
          "output_type": "display_data"
        },
        {
          "data": {
            "text/html": [
              "<details><summary>Explain things visually using the <a href=\"https://mermaid-js.github.io/mermaid/\">Mermaid language</a>.</summary>\r\n",
              "    <p>This extension adds a new kernel that can render Mermaid markdown. This code will render a sequence diagram:</p>\r\n",
              "<pre>\r\n",
              "    <code>\r\n",
              "#!mermaid\r\n",
              "sequenceDiagram\r\n",
              "    participant Alice\r\n",
              "    participant Bob\r\n",
              "    Alice->>John: Hello John, how are you?\r\n",
              "    loop Healthcheck\r\n",
              "        John->>John: Fight against hypochondria\r\n",
              "    end\r\n",
              "    Note right of John: Rational thoughts prevail!\r\n",
              "    John-->>Alice: Great!\r\n",
              "    John->>Bob: How about you?\r\n",
              "    Bob-->>John: Jolly good!\r\n",
              "    </code>\r\n",
              "</pre>\r\n",
              "<p>This extension also adds gestures to render a class diagram from any type. Use the <code>ExploreWithUmlClassDiagram().Display();</code> extension method on <code>System.Type</code> to render its class diagram.</p>\r\n",
              "\r\n",
              "<pre>\r\n",
              "    <code>\r\n",
              "typeof(List&lt;string&gt;).ExploreWithUmlClassDiagram().Display();\r\n",
              "    </code>\r\n",
              "</pre>\r\n",
              "    <img src=\"https://mermaid-js.github.io/mermaid/img/header.png\" width=\"30%\">\r\n",
              "    </details>"
            ]
          },
          "metadata": {},
          "output_type": "display_data"
        },
        {
          "data": {
            "text/html": [
              "<details><summary>Explore data visually using the <a href=\"https://github.com/nteract/data-explorer\">nteract Data Explorer</a>.</summary>\r\n",
              "    <p>This extension adds the ability to sort, filter, and visualize data using the <a href=\"https://github.com/nteract/data-explorer\">nteract Data Explorer</a>. Use the <code>ExploreWithNteract()</code> extension method with variables of type <code>JsonElement</code>, <code>IEnumerable<T></code> or <code>IDataView</code> to render the data explorer.</p>\r\n",
              "<pre>\r\n",
              "    <code>\r\n",
              "    using Microsoft.Data.Analysis;\r\n",
              "    using System.Collections.Generic;\r\n",
              "    using Microsoft.ML;\r\n",
              "\r\n",
              "    var dataFrame = DataFrame.LoadCsv(\"./Data.csv\");\r\n",
              "\r\n",
              "    dataFrame.ExploreWithNteract().Display();\r\n",
              "    </code>\r\n",
              "</pre>\r\n",
              "\r\n",
              "<p>To set the nteract Data Explorer use the following code</p>\r\n",
              "<pre>\r\n",
              "    <code>\r\n",
              "    DataExplorer.SetDefault<TabularDataResource, NteractDataExplorer>();\r\n",
              "    </code>\r\n",
              "</pre>\r\n",
              "    <img src=\"https://user-images.githubusercontent.com/547415/109559345-621e5880-7a8f-11eb-8b98-d4feeaac116f.png\" width=\"75%\">\r\n",
              "    </details>"
            ]
          },
          "metadata": {},
          "output_type": "display_data"
        },
        {
          "data": {
            "text/html": [
              "<details><summary>Use the <code>#!record</code> magic command to keep a transcript of the code you run.</summary>\r\n",
              "    <p>Once you enable transcripts using <code>#!record</code>, each code submission (including re-running cells) is recorded in the specified file. The JSON format used is the same format recognized by the .NET Interactive <code>stdio</code> and <code>http</code> APIs and can be used to replay an interactive session via automation.</p>\r\n",
              "    <img src=\"https://user-images.githubusercontent.com/547415/109562409-343b1300-7a93-11eb-8ebf-79bb6af028cf.png\" width=\"75%\" />\r\n",
              "    </details>"
            ]
          },
          "metadata": {},
          "output_type": "display_data"
        },
        {
          "data": {
            "text/html": [
              "<details><summary>Explore data visually using the <a href=\"https://github.com/microsoft/SandDance\">SandDance Explorer</a>.</summary>\r\n",
              "    <p>This extension adds the ability to sort, filter, and visualize data using the <a href=\"https://github.com/microsoft/SandDance\">SandDance Explorer</a>. Use the <code>ExploreWithSandDance()</code> extension method with variables of type <code>JsonElement</code>, <code>IEnumerable<T></code> or <code>IDataView</code> to render the data explorer.</p>\r\n",
              "<pre>\r\n",
              "    <code>\r\n",
              "    using Microsoft.Data.Analysis;\r\n",
              "    using System.Collections.Generic;\r\n",
              "    using Microsoft.ML;\r\n",
              "\r\n",
              "    var dataFrame = DataFrame.LoadCsv(\"./Data.csv\");\r\n",
              "\r\n",
              "    dataFrame.ExploreWithSandDance().Display();\r\n",
              "    </code>\r\n",
              "</pre>\r\n",
              "<p>To set the SandDance Explorer use the following code</p>\r\n",
              "<pre>\r\n",
              "    <code>\r\n",
              "    DataExplorer.SetDefault<TabularDataResource, SandDanceDataExplorer>();\r\n",
              "    </code>\r\n",
              "</pre>\r\n",
              "    <img src=\"https://user-images.githubusercontent.com/11507384/54236654-52d42800-44d1-11e9-859e-6c5d297a46d2.gif\" width=\"30%\">\r\n",
              "    </details>"
            ]
          },
          "metadata": {},
          "output_type": "display_data"
        },
        {
          "data": {
            "text/html": [
              "<details><summary>Query SQLite databases.</summary>\r\n",
              "    <p>This extension adds support for connecting to SQLite databases using the <code>#!connect sqlite</code> magic command. For more information, run a cell using the <code>#!sql</code> magic command.</p>\r\n",
              "    </details>"
            ]
          },
          "metadata": {},
          "output_type": "display_data"
        }
      ],
      "source": [
        "#r \"nuget:Microsoft.DotNet.Interactive.ExtensionLab, *-*\""
      ]
    },
    {
      "cell_type": "code",
      "execution_count": null,
      "metadata": {
        "dotnet_interactive": {
          "language": "pwsh"
        }
      },
      "outputs": [],
      "source": [
        "Update-TypeData # -AppendPath .\\notebook.Types.Ps1xml"
      ]
    },
    {
      "cell_type": "code",
      "execution_count": null,
      "metadata": {
        "dotnet_interactive": {
          "language": "pwsh"
        }
      },
      "outputs": [
        {
          "data": {
            "text/csv": [
              "Races,DriverName\r\n",
              "353,Kimi Räikkönen\r\n",
              "336,Fernando Alonso\r\n",
              "326,Rubens Barrichello\r\n",
              "308,Michael Schumacher\r\n",
              "308,Jenson Button\r\n",
              "288,Lewis Hamilton\r\n",
              "280,Sebastian Vettel\r\n",
              "271,Felipe Massa\r\n",
              "257,Riccardo Patrese\r\n",
              "256,Jarno Trulli\r\n"
            ],
            "text/html": [
              "<div style=\"background-color:white;\">\r\n",
              "<div id=\"9534a8891761455ebe31ece20d7d07a3\" style=\"height: 100ch ;margin: 2px;\">\r\n",
              "</div>\r\n",
              "<script type=\"text/javascript\">\r\n",
              "\r\n",
              "renderNteractDataExplorer_9534a8891761455ebe31ece20d7d07a3 = () => {\r\n",
              "\r\n",
              "    (require.config({ 'paths': { 'context': '1.0.252001', 'nteractUri' : 'https://colombod.github.io/dotnet-interactive-cdn/extensionlab/1.0.252001/nteract/nteractapi', 'urlArgs': 'cacheBuster=fc8bb09ae4d846bbbfe0d71595138a10' }}) || require)(['nteractUri'], (nteract) => {\r\n",
              "\r\n",
              "        nteract.createDataExplorer({\r\n",
              "            data: {\r\n",
              "  \"profile\": \"tabular-data-resource\",\r\n",
              "  \"schema\": {\r\n",
              "    \"primaryKey\": [],\r\n",
              "    \"fields\": [\r\n",
              "      {\r\n",
              "        \"name\": \"Races\",\r\n",
              "        \"description\": \"\",\r\n",
              "        \"format\": \"\",\r\n",
              "        \"type\": \"integer\"\r\n",
              "      },\r\n",
              "      {\r\n",
              "        \"name\": \"DriverName\",\r\n",
              "        \"description\": \"\",\r\n",
              "        \"format\": \"\",\r\n",
              "        \"type\": \"string\"\r\n",
              "      }\r\n",
              "    ]\r\n",
              "  },\r\n",
              "  \"data\": [\r\n",
              "    {\r\n",
              "      \"Races\": 353,\r\n",
              "      \"DriverName\": \"Kimi Räikkönen\"\r\n",
              "    },\r\n",
              "    {\r\n",
              "      \"Races\": 336,\r\n",
              "      \"DriverName\": \"Fernando Alonso\"\r\n",
              "    },\r\n",
              "    {\r\n",
              "      \"Races\": 326,\r\n",
              "      \"DriverName\": \"Rubens Barrichello\"\r\n",
              "    },\r\n",
              "    {\r\n",
              "      \"Races\": 308,\r\n",
              "      \"DriverName\": \"Michael Schumacher\"\r\n",
              "    },\r\n",
              "    {\r\n",
              "      \"Races\": 308,\r\n",
              "      \"DriverName\": \"Jenson Button\"\r\n",
              "    },\r\n",
              "    {\r\n",
              "      \"Races\": 288,\r\n",
              "      \"DriverName\": \"Lewis Hamilton\"\r\n",
              "    },\r\n",
              "    {\r\n",
              "      \"Races\": 280,\r\n",
              "      \"DriverName\": \"Sebastian Vettel\"\r\n",
              "    },\r\n",
              "    {\r\n",
              "      \"Races\": 271,\r\n",
              "      \"DriverName\": \"Felipe Massa\"\r\n",
              "    },\r\n",
              "    {\r\n",
              "      \"Races\": 257,\r\n",
              "      \"DriverName\": \"Riccardo Patrese\"\r\n",
              "    },\r\n",
              "    {\r\n",
              "      \"Races\": 256,\r\n",
              "      \"DriverName\": \"Jarno Trulli\"\r\n",
              "    }\r\n",
              "  ]\r\n",
              "},\r\n",
              "            container: document.getElementById(\"9534a8891761455ebe31ece20d7d07a3\")\r\n",
              "        });\r\n",
              "    },\r\n",
              "    (error) => {\r\n",
              "        console.log(error);\r\n",
              "    });\r\n",
              "};\r\n",
              "// ensure `require` is available globally\r\n",
              "if ((typeof(require) !==  typeof(Function)) || (typeof(require.config) !== typeof(Function))) {\r\n",
              "    let require_script = document.createElement('script');\r\n",
              "    require_script.setAttribute('src', 'https://cdnjs.cloudflare.com/ajax/libs/require.js/2.3.6/require.min.js');\r\n",
              "    require_script.setAttribute('type', 'text/javascript');\r\n",
              "    \r\n",
              "    \r\n",
              "    require_script.onload = function() {\r\n",
              "        renderNteractDataExplorer_9534a8891761455ebe31ece20d7d07a3();\r\n",
              "    };\r\n",
              "\r\n",
              "    document.getElementsByTagName('head')[0].appendChild(require_script);\r\n",
              "}\r\n",
              "else {\r\n",
              "    renderNteractDataExplorer_9534a8891761455ebe31ece20d7d07a3();\r\n",
              "}\r\n",
              "\r\n",
              " </script>\r\n",
              "</div>\r\n"
            ]
          },
          "metadata": {},
          "output_type": "display_data"
        }
      ],
      "source": [
        "sql \"Select   top 10 count(raceDate) as Races,  DriverName \n",
        "     from     results \n",
        "     group by driverName \n",
        "     order by count(raceDate) desc\" -quiet -OutputVariable WorkingData\n",
        "     \n",
        "$workingdata.ExploreWithNteract()\n"
      ]
    },
    {
      "cell_type": "code",
      "execution_count": null,
      "metadata": {
        "dotnet_interactive": {
          "language": "pwsh"
        }
      },
      "outputs": [
        {
          "data": {
            "text/csv": [
              "Races,DriverName\r\n",
              "353,Kimi Räikkönen\r\n",
              "336,Fernando Alonso\r\n",
              "326,Rubens Barrichello\r\n",
              "308,Michael Schumacher\r\n",
              "308,Jenson Button\r\n",
              "288,Lewis Hamilton\r\n",
              "280,Sebastian Vettel\r\n",
              "271,Felipe Massa\r\n",
              "257,Riccardo Patrese\r\n",
              "256,Jarno Trulli\r\n"
            ],
            "text/html": [
              "<div style=\"background-color:white;\">\r\n",
              "<div id=\"6a405d9930234e9f8b49fe71370c507d\" style=\"height: 100ch ;margin: 2px;\">\r\n",
              "</div>\r\n",
              "<script type=\"text/javascript\">\r\n",
              "\r\n",
              "renderSandDanceExplorer_6a405d9930234e9f8b49fe71370c507d = () => {\r\n",
              "\r\n",
              "    (require.config({ 'paths': { 'context': '1.0.252001', 'sandDanceUri' : 'https://colombod.github.io/dotnet-interactive-cdn/extensionlab/1.0.252001/SandDance/sanddanceapi', 'urlArgs': 'cacheBuster=319775049b8a445d93969e4465ec6ff5' }}) || require)(['sandDanceUri'], (sandDance) => {\r\n",
              "\r\n",
              "        sandDance.createSandDanceExplorer({\r\n",
              "            data: {\r\n",
              "  \"profile\": \"tabular-data-resource\",\r\n",
              "  \"schema\": {\r\n",
              "    \"primaryKey\": [],\r\n",
              "    \"fields\": [\r\n",
              "      {\r\n",
              "        \"name\": \"Races\",\r\n",
              "        \"description\": \"\",\r\n",
              "        \"format\": \"\",\r\n",
              "        \"type\": \"integer\"\r\n",
              "      },\r\n",
              "      {\r\n",
              "        \"name\": \"DriverName\",\r\n",
              "        \"description\": \"\",\r\n",
              "        \"format\": \"\",\r\n",
              "        \"type\": \"string\"\r\n",
              "      }\r\n",
              "    ]\r\n",
              "  },\r\n",
              "  \"data\": [\r\n",
              "    {\r\n",
              "      \"Races\": 353,\r\n",
              "      \"DriverName\": \"Kimi Räikkönen\"\r\n",
              "    },\r\n",
              "    {\r\n",
              "      \"Races\": 336,\r\n",
              "      \"DriverName\": \"Fernando Alonso\"\r\n",
              "    },\r\n",
              "    {\r\n",
              "      \"Races\": 326,\r\n",
              "      \"DriverName\": \"Rubens Barrichello\"\r\n",
              "    },\r\n",
              "    {\r\n",
              "      \"Races\": 308,\r\n",
              "      \"DriverName\": \"Michael Schumacher\"\r\n",
              "    },\r\n",
              "    {\r\n",
              "      \"Races\": 308,\r\n",
              "      \"DriverName\": \"Jenson Button\"\r\n",
              "    },\r\n",
              "    {\r\n",
              "      \"Races\": 288,\r\n",
              "      \"DriverName\": \"Lewis Hamilton\"\r\n",
              "    },\r\n",
              "    {\r\n",
              "      \"Races\": 280,\r\n",
              "      \"DriverName\": \"Sebastian Vettel\"\r\n",
              "    },\r\n",
              "    {\r\n",
              "      \"Races\": 271,\r\n",
              "      \"DriverName\": \"Felipe Massa\"\r\n",
              "    },\r\n",
              "    {\r\n",
              "      \"Races\": 257,\r\n",
              "      \"DriverName\": \"Riccardo Patrese\"\r\n",
              "    },\r\n",
              "    {\r\n",
              "      \"Races\": 256,\r\n",
              "      \"DriverName\": \"Jarno Trulli\"\r\n",
              "    }\r\n",
              "  ]\r\n",
              "},\r\n",
              "            id: \"6a405d9930234e9f8b49fe71370c507d\",\r\n",
              "            container: document.getElementById(\"6a405d9930234e9f8b49fe71370c507d\")\r\n",
              "        });\r\n",
              "    },\r\n",
              "    (error) => {\r\n",
              "        console.log(error);\r\n",
              "    });\r\n",
              "};\r\n",
              "// ensure `require` is available globally\r\n",
              "if ((typeof(require) !==  typeof(Function)) || (typeof(require.config) !== typeof(Function))) {\r\n",
              "    let require_script = document.createElement('script');\r\n",
              "    require_script.setAttribute('src', 'https://cdnjs.cloudflare.com/ajax/libs/require.js/2.3.6/require.min.js');\r\n",
              "    require_script.setAttribute('type', 'text/javascript');\r\n",
              "    \r\n",
              "    \r\n",
              "    require_script.onload = function() {\r\n",
              "        renderSandDanceExplorer_6a405d9930234e9f8b49fe71370c507d();\r\n",
              "    };\r\n",
              "\r\n",
              "    document.getElementsByTagName('head')[0].appendChild(require_script);\r\n",
              "}\r\n",
              "else {\r\n",
              "    renderSandDanceExplorer_6a405d9930234e9f8b49fe71370c507d();\r\n",
              "}\r\n",
              "\r\n",
              " </script>\r\n",
              "</div>\r\n"
            ]
          },
          "metadata": {},
          "output_type": "display_data"
        }
      ],
      "source": [
        "$WorkingData.ExploreWithSandDance()"
      ]
    },
    {
      "cell_type": "markdown",
      "metadata": {},
      "source": [
        "# Close Connection"
      ]
    },
    {
      "cell_type": "code",
      "execution_count": null,
      "metadata": {
        "dotnet_interactive": {
          "language": "pwsh"
        }
      },
      "outputs": [],
      "source": [
        "sql -Close"
      ]
    }
  ],
  "metadata": {
    "kernelspec": {
      "display_name": ".NET (C#)",
      "language": "C#",
      "name": ".net-csharp"
    },
    "language_info": {
      "file_extension": ".cs",
      "mimetype": "text/x-csharp",
      "name": "C#",
      "pygments_lexer": "csharp",
      "version": "8.0"
    }
  },
  "nbformat": 4,
  "nbformat_minor": 4
}
