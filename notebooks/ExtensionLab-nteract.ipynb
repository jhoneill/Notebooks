{
  "cells": [
    {
      "cell_type": "code",
      "execution_count": null,
      "metadata": {
        "dotnet_interactive": {
          "language": "csharp"
        },
        "vscode": {
          "languageId": "polyglot-notebook"
        }
      },
      "outputs": [],
      "source": [
        "#!about"
      ]
    },
    {
      "cell_type": "code",
      "execution_count": 2,
      "metadata": {
        "dotnet_interactive": {
          "language": "csharp"
        },
        "vscode": {
          "languageId": "polyglot-notebook"
        }
      },
      "outputs": [],
      "source": [
        " var data = new[]\n",
        "            {\n",
        "                new {Type=\"orange\", Price=1.2},\n",
        "                new {Type=\"apple\" , Price=1.3},\n",
        "                new {Type=\"grape\" , Price=1.4}\n",
        "            };\n"
      ]
    },
    {
      "cell_type": "code",
      "execution_count": 29,
      "metadata": {
        "dotnet_interactive": {
          "language": "pwsh"
        },
        "polyglot_notebook": {
          "kernelName": "pwsh"
        },
        "vscode": {
          "languageId": "polyglot-notebook"
        }
      },
      "outputs": [
        {
          "data": {
            "text/html": [
              "<details><summary>Explore data visually using the <a href=\"https://github.com/nteract/data-explorer\">nteract Data Explorer</a>.</summary>\r\n",
              "    <p>This extension adds the ability to sort, filter, and visualize data using the <a href=\"https://github.com/nteract/data-explorer\">nteract Data Explorer</a>. Use the <code>ExploreWithNteract()</code> extension method with variables of type <code>JsonElement</code>, <code>IEnumerable<T></code> or <code>IDataView</code> to render the data explorer.</p>\r\n",
              "<pre>\r\n",
              "    <code>\r\n",
              "    using Microsoft.Data.Analysis;\r\n",
              "    using System.Collections.Generic;\r\n",
              "    using Microsoft.ML;\r\n",
              "\r\n",
              "    var dataFrame = DataFrame.LoadCsv(\"./Data.csv\");\r\n",
              "\r\n",
              "    dataFrame.ExploreWithNteract().Display();\r\n",
              "    </code>\r\n",
              "</pre>\r\n",
              "\r\n",
              "<p>To set the nteract Data Explorer use the following code</p>\r\n",
              "<pre>\r\n",
              "    <code>\r\n",
              "    DataExplorer.SetDefault<TabularDataResource, NteractDataExplorer>();\r\n",
              "    </code>\r\n",
              "</pre>\r\n",
              "    <img src=\"https://user-images.githubusercontent.com/547415/109559345-621e5880-7a8f-11eb-8b98-d4feeaac116f.png\" width=\"75%\">\r\n",
              "    </details>"
            ]
          },
          "metadata": {},
          "output_type": "display_data"
        },
        {
          "data": {
            "text/html": [
              "<details><summary>Explore data visually using the <a href=\"https://github.com/microsoft/SandDance\">SandDance Explorer</a>.</summary>\r\n",
              "    <p>This extension adds the ability to sort, filter, and visualize data using the <a href=\"https://github.com/microsoft/SandDance\">SandDance Explorer</a>. Use the <code>ExploreWithSandDance()</code> extension method with variables of type <code>JsonElement</code>, <code>IEnumerable<T></code> or <code>IDataView</code> to render the data explorer.</p>\r\n",
              "<pre>\r\n",
              "    <code>\r\n",
              "    using Microsoft.Data.Analysis;\r\n",
              "    using System.Collections.Generic;\r\n",
              "    using Microsoft.ML;\r\n",
              "\r\n",
              "    var dataFrame = DataFrame.LoadCsv(\"./Data.csv\");\r\n",
              "\r\n",
              "    dataFrame.ExploreWithSandDance().Display();\r\n",
              "    </code>\r\n",
              "</pre>\r\n",
              "<p>To set the SandDance Explorer use the following code</p>\r\n",
              "<pre>\r\n",
              "    <code>\r\n",
              "    DataExplorer.SetDefault<TabularDataResource, SandDanceDataExplorer>();\r\n",
              "    </code>\r\n",
              "</pre>\r\n",
              "    <img src=\"https://user-images.githubusercontent.com/11507384/54236654-52d42800-44d1-11e9-859e-6c5d297a46d2.gif\" width=\"30%\">\r\n",
              "    </details>"
            ]
          },
          "metadata": {},
          "output_type": "display_data"
        }
      ],
      "source": [
        ". .\\NotebookOutput.ps1"
      ]
    },
    {
      "cell_type": "code",
      "execution_count": null,
      "metadata": {
        "dotnet_interactive": {
          "language": "pwsh"
        },
        "polyglot_notebook": {
          "kernelName": "pwsh"
        },
        "vscode": {
          "languageId": "polyglot-notebook"
        }
      },
      "outputs": [],
      "source": [
        "#!share --from csharp data\n",
        "$tdr = $data | ConvertTo-TabularDataResource\n",
        "$tdr.ExploreWithNteract()"
      ]
    },
    {
      "attachments": {},
      "cell_type": "markdown",
      "metadata": {},
      "source": [
        "# .NET Interactive ExtensionLab: Microsoft.Data.Analysis\n",
        "\n",
        "This section demonstrates some of the experiments in the *ExtensionLab*  relating to the `DataFrame` class from [`Microsoft.Data.Analysis`](https://www.nuget.org/packages/Microsoft.Data.Analysis/).\n",
        "\n",
        "## The `#!linqify` magic command\n",
        "\n",
        "The `#!linqify` magic command builds a strongly-typed wrapper class around a `Microsoft.Data.Analysis.DataFrame` instance, which lets you write LINQ code against your data.  (You can learn more about `DataFrame` [here](https://devblogs.microsoft.com/dotnet/an-introduction-to-dataframe/).)\n",
        "\n",
        "To start, we'll add the `Microsoft.Data.Analysis` NuGet package."
      ]
    },
    {
      "cell_type": "code",
      "execution_count": null,
      "metadata": {
        "dotnet_interactive": {
          "language": "csharp"
        },
        "polyglot_notebook": {
          "kernelName": "csharp"
        },
        "vscode": {
          "languageId": "polyglot-notebook"
        }
      },
      "outputs": [],
      "source": [
        "#r \"nuget:Microsoft.DotNet.Interactive.ExtensionLab,*-*\"\n",
        "#r \"nuget:Microsoft.Data.Analysis,0.4.0\""
      ]
    },
    {
      "cell_type": "code",
      "execution_count": null,
      "metadata": {
        "dotnet_interactive": {
          "language": "csharp"
        },
        "vscode": {
          "languageId": "polyglot-notebook"
        }
      },
      "outputs": [],
      "source": [
        "using Microsoft.Data.Analysis;\n",
        "\n",
        "var MyDataFrame = DataFrame.LoadCsv(@\"wins.csv\");\n",
        "\n",
        "MyDataFrame.Columns"
      ]
    },
    {
      "attachments": {},
      "cell_type": "markdown",
      "metadata": {},
      "source": [
        "After running the previous cell, you can see that the `DataFrame` has columns with a few different data types. But since these are only known once the data is loaded, accessing them in a strongly-typed way isn't normally possible.\n",
        "\n",
        "The `DataFrameRow` indexer returns `object`. So \n",
        "```c#\n",
        "MyDataFrame.Rows[0][1].GetType()\n",
        "```\n",
        "returns `System.single`\n",
        "But \n",
        "\n",
        "```c#\n",
        "DataFrameRow row = myDataFrame.Rows[0];\n",
        "Single value = row[0];\n",
        "```\n",
        "won't compile because the row indexer returns System.Object\n",
        "\n",
        "This is where the `#!linqify` magic command we've installed from the ExtensionLab becomes useful. Since we know the column types in the `DataFrame` once it's been loaded, we can create a custom class with this understanding. And with .NET Interactive, we can do this at runtime, compile it, and replace the existing `MyDataFrame` variable with an instance of the new, more specific class.\n",
        "\n",
        "`#!linqify --show-code True ` will let you see the code being used"
      ]
    },
    {
      "cell_type": "code",
      "execution_count": 38,
      "metadata": {
        "dotnet_interactive": {
          "language": "csharp"
        },
        "vscode": {
          "languageId": "polyglot-notebook"
        }
      },
      "outputs": [],
      "source": [
        "#!linqify MyDataFrame"
      ]
    },
    {
      "attachments": {},
      "cell_type": "markdown",
      "metadata": {},
      "source": [
        "Now, you can write code to traverse the `DataFrame` using LINQ: "
      ]
    },
    {
      "cell_type": "code",
      "execution_count": null,
      "metadata": {
        "dotnet_interactive": {
          "language": "csharp"
        },
        "vscode": {
          "languageId": "polyglot-notebook"
        }
      },
      "outputs": [],
      "source": [
        "MyDataFrame\n",
        "   .OrderBy(row => row.HowMany)\n",
        "   .ThenBy(row => row.WinningDriver)"
      ]
    },
    {
      "attachments": {},
      "cell_type": "markdown",
      "metadata": {},
      "source": [
        "## Visualizing the data with the nteract Data Explorer\n",
        "\n",
        "The [nteract Data Explorer](https://blog.nteract.io/designing-the-nteract-data-explorer-f4476d53f897) is a powerful tool for understanding a dataset. Another experimental extension that we loaded when we installed the ExtensionLab package brings support for visualizing data from a number of types, including `IDataView`, which the `DataFrame` implements. The extension method `Explore` will render your data using the nteract Data Explorer:"
      ]
    },
    {
      "cell_type": "code",
      "execution_count": null,
      "metadata": {
        "dotnet_interactive": {
          "language": "pwsh"
        },
        "polyglot_notebook": {
          "kernelName": "pwsh"
        },
        "vscode": {
          "languageId": "polyglot-notebook"
        }
      },
      "outputs": [],
      "source": [
        "#!share --from csharp MyDataFrame\n",
        "$mydataframe | ConvertTo-TabularDataResource | % exploreWithnteract"
      ]
    },
    {
      "attachments": {},
      "cell_type": "markdown",
      "metadata": {},
      "source": [
        "# .NET Interactive ExtensionLab: Microsoft.Data.Analysis Example 2 \n",
        "\n",
        "Download some interesting data. **WARNING** It's quite large and makes for a notebook which can be slow to load so clear the cell outputs afterwards"
      ]
    },
    {
      "cell_type": "code",
      "execution_count": null,
      "metadata": {
        "dotnet_interactive": {
          "language": "csharp"
        },
        "vscode": {
          "languageId": "polyglot-notebook"
        }
      },
      "outputs": [],
      "source": [
        "using System.IO;\n",
        "using System.Net.Http;\n",
        "\n",
        "string housingPath = \"housing.csv\";\n",
        "\n",
        "if (!File.Exists(housingPath))\n",
        "{\n",
        "    var contents = await new HttpClient()\n",
        "        .GetStringAsync(\"https://raw.githubusercontent.com/ageron/handson-ml2/master/datasets/housing/housing.csv\");\n",
        "        \n",
        "    // The default working directory of the notebook is the same directory where the notebook file is located, \n",
        "    // so we'll write the file without fully-qualifying the path.\n",
        "    File.WriteAllText(\"housing.csv\", contents);\n",
        "}"
      ]
    },
    {
      "cell_type": "code",
      "execution_count": null,
      "metadata": {
        "dotnet_interactive": {
          "language": "csharp"
        },
        "vscode": {
          "languageId": "polyglot-notebook"
        }
      },
      "outputs": [],
      "source": [
        "using Microsoft.Data.Analysis;\n",
        "\n",
        "var housingDataFrame = DataFrame.LoadCsv(@\"housing.csv\");\n",
        "\n",
        "housingDataFrame.Columns"
      ]
    },
    {
      "attachments": {},
      "cell_type": "markdown",
      "metadata": {},
      "source": [
        "After running the previous cell, you can see that the `DataFrame` has columns with a few different data types. But since these are only known once the data is loaded, accessing them in a strongly-typed way isn't normally possible.\n",
        "\n",
        "The commented line in the next cell won't compile because the `DataFrameRow` indexer returns `object`."
      ]
    },
    {
      "cell_type": "code",
      "execution_count": 44,
      "metadata": {
        "dotnet_interactive": {
          "language": "csharp"
        },
        "vscode": {
          "languageId": "polyglot-notebook"
        }
      },
      "outputs": [],
      "source": [
        "DataFrameRow row = housingDataFrame.Rows[0];\n",
        "\n",
        "// This next line won't compile because the row indexer returns System.Object\n",
        "//Single value = row[0];"
      ]
    },
    {
      "attachments": {},
      "cell_type": "markdown",
      "metadata": {},
      "source": [
        "But as you can see next, the runtime type is more specific. "
      ]
    },
    {
      "cell_type": "code",
      "execution_count": 45,
      "metadata": {
        "dotnet_interactive": {
          "language": "csharp"
        },
        "vscode": {
          "languageId": "polyglot-notebook"
        }
      },
      "outputs": [
        {
          "data": {
            "text/html": [
              "<span><a href=\"https://docs.microsoft.com/dotnet/api/system.single?view=net-7.0\">System.Single</a></span>"
            ]
          },
          "metadata": {},
          "output_type": "display_data"
        }
      ],
      "source": [
        "housingDataFrame.Rows[0][0].GetType()"
      ]
    },
    {
      "attachments": {},
      "cell_type": "markdown",
      "metadata": {},
      "source": [
        "This is where the `#!linqify` magic command we've installed from the ExtensionLab becomes useful. Since we know the column types in the `DataFrame` once it's been loaded, we can create a custom class with this understanding. And with .NET Interactive, we can do this at runtime, compile it, and replace the existing `housingDataFrame` variable with an instance of the new, more specific class."
      ]
    },
    {
      "cell_type": "code",
      "execution_count": null,
      "metadata": {
        "dotnet_interactive": {
          "language": "csharp"
        },
        "vscode": {
          "languageId": "polyglot-notebook"
        }
      },
      "outputs": [],
      "source": [
        "#!linqify -h"
      ]
    },
    {
      "cell_type": "code",
      "execution_count": null,
      "metadata": {
        "dotnet_interactive": {
          "language": "csharp"
        },
        "vscode": {
          "languageId": "polyglot-notebook"
        }
      },
      "outputs": [],
      "source": [
        "#!linqify --show-code True housingDataFrame"
      ]
    },
    {
      "attachments": {},
      "cell_type": "markdown",
      "metadata": {},
      "source": [
        "Now, you can write code to traverse the `DataFrame` using LINQ: "
      ]
    },
    {
      "cell_type": "code",
      "execution_count": null,
      "metadata": {
        "dotnet_interactive": {
          "language": "csharp"
        },
        "vscode": {
          "languageId": "polyglot-notebook"
        }
      },
      "outputs": [],
      "source": [
        "housingDataFrame\n",
        "    .OrderBy(row => row.ocean_proximity)\n",
        "    .ThenBy(row => row.median_house_value)"
      ]
    },
    {
      "attachments": {},
      "cell_type": "markdown",
      "metadata": {},
      "source": [
        "## Visualizing the data with the nteract Data Explorer\n",
        "\n",
        "The [nteract Data Explorer](https://blog.nteract.io/designing-the-nteract-data-explorer-f4476d53f897) is a powerful tool for understanding a dataset. \n",
        "\n",
        "The was experimental support in ExtensionLab package for visualizing data from a number of types, including `IDataView`, which the `DataFrame` implements, but this seems to have been removed, but we can use PowerShell to do it "
      ]
    },
    {
      "cell_type": "code",
      "execution_count": null,
      "metadata": {
        "dotnet_interactive": {
          "language": "pwsh"
        },
        "polyglot_notebook": {
          "kernelName": "pwsh"
        },
        "vscode": {
          "languageId": "polyglot-notebook"
        }
      },
      "outputs": [],
      "source": [
        "$tdr = import-csv .\\housing.csv | ConvertTo-TabularDataResource \n",
        "$tdr.explorewithSandDance()"
      ]
    },
    {
      "cell_type": "code",
      "execution_count": null,
      "metadata": {
        "dotnet_interactive": {
          "language": "pwsh"
        },
        "polyglot_notebook": {
          "kernelName": "pwsh"
        },
        "vscode": {
          "languageId": "polyglot-notebook"
        }
      },
      "outputs": [],
      "source": [
        "$tdr.ExploreWithNteract()"
      ]
    }
  ],
  "metadata": {
    "kernelspec": {
      "display_name": ".NET (C#)",
      "language": "C#",
      "name": ".net-csharp"
    },
    "language_info": {
      "file_extension": ".cs",
      "mimetype": "text/x-csharp",
      "name": "C#",
      "pygments_lexer": "csharp",
      "version": "8.0"
    }
  },
  "nbformat": 4,
  "nbformat_minor": 4
}
