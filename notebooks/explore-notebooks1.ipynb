{
  "cells": [
    {
      "cell_type": "markdown",
      "metadata": {},
      "source": [
        "## What version are we?"
      ]
    },
    {
      "cell_type": "code",
      "execution_count": null,
      "metadata": {
        "dotnet_interactive": {
          "language": "pwsh"
        }
      },
      "outputs": [
        {
          "data": {
            "text/html": "<table><tbody><tr><td><img src=\"data:image/png;base64, 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\" width=\"125em\"></img></td><td style=\"line-height:.8em\"><p style=\"font-size:1.5em\"><b>.NET Interactive</b></p><p>&#169; 2020 Microsoft Corporation</p><p><b>Version: </b>1.0.222703+320f05fcad9ac2e5360e649acf2cb49e56e731c8</p><p><b>Build date: </b>2021-04-28T11:39:58.1641221Z</p><p><a href=\"https://github.com/dotnet/interactive\">https://github.com/dotnet/interactive</a></p></td></tr></tbody></table>"
          },
          "output_type": "unknown"
        }
      ],
      "source": [
        "#!about"
      ]
    },
    {
      "cell_type": "code",
      "execution_count": null,
      "metadata": {
        "dotnet_interactive": {
          "language": "pwsh"
        }
      },
      "outputs": [
        {
          "data": {
            "text/plain": "\r\n"
          },
          "output_type": "unknown"
        },
        {
          "data": {
            "text/plain": "Name                           Value\r\n"
          },
          "output_type": "unknown"
        },
        {
          "data": {
            "text/plain": "----                           -----\r\n"
          },
          "output_type": "unknown"
        },
        {
          "data": {
            "text/plain": "PSVersion                      7.1.3\r\n"
          },
          "output_type": "unknown"
        },
        {
          "data": {
            "text/plain": "PSEdition                      Core\r\n"
          },
          "output_type": "unknown"
        },
        {
          "data": {
            "text/plain": "GitCommitId                    7.1.3\r\n"
          },
          "output_type": "unknown"
        },
        {
          "data": {
            "text/plain": "OS                             Microsoft Windows 10.0.19042\r\n"
          },
          "output_type": "unknown"
        },
        {
          "data": {
            "text/plain": "Platform                       Win32NT\r\n"
          },
          "output_type": "unknown"
        },
        {
          "data": {
            "text/plain": "PSCompatibleVersions           {1.0, 2.0, 3.0, 4.0…}\r\n"
          },
          "output_type": "unknown"
        },
        {
          "data": {
            "text/plain": "PSRemotingProtocolVersion      2.3\r\n"
          },
          "output_type": "unknown"
        },
        {
          "data": {
            "text/plain": "SerializationVersion           1.1.0.1\r\n"
          },
          "output_type": "unknown"
        },
        {
          "data": {
            "text/plain": "WSManStackVersion              3.0\r\n"
          },
          "output_type": "unknown"
        },
        {
          "data": {
            "text/plain": "\r\n"
          },
          "output_type": "unknown"
        }
      ],
      "source": [
        "$psversionTable"
      ]
    },
    {
      "cell_type": "code",
      "execution_count": null,
      "metadata": {
        "dotnet_interactive": {
          "language": "pwsh"
        }
      },
      "outputs": [
        {
          "data": {
            "text/plain": ".NET Interactive Host\r\n"
          },
          "output_type": "unknown"
        },
        {
          "data": {
            "text/plain": "\r\n"
          },
          "output_type": "unknown"
        },
        {
          "data": {
            "text/plain": "ForegroundColor       : -1\r\n"
          },
          "output_type": "unknown"
        },
        {
          "data": {
            "text/plain": "BackgroundColor       : -1\r\n"
          },
          "output_type": "unknown"
        },
        {
          "data": {
            "text/plain": "CursorPosition        : \r\n"
          },
          "output_type": "unknown"
        },
        {
          "data": {
            "text/plain": "WindowPosition        : \r\n"
          },
          "output_type": "unknown"
        },
        {
          "data": {
            "text/plain": "CursorSize            : \r\n"
          },
          "output_type": "unknown"
        },
        {
          "data": {
            "text/plain": "BufferSize            : 100,50\r\n"
          },
          "output_type": "unknown"
        },
        {
          "data": {
            "text/plain": "WindowSize            : 100,50\r\n"
          },
          "output_type": "unknown"
        },
        {
          "data": {
            "text/plain": "MaxWindowSize         : 100,50\r\n"
          },
          "output_type": "unknown"
        },
        {
          "data": {
            "text/plain": "MaxPhysicalWindowSize : 100,50\r\n"
          },
          "output_type": "unknown"
        },
        {
          "data": {
            "text/plain": "KeyAvailable          : \r\n"
          },
          "output_type": "unknown"
        },
        {
          "data": {
            "text/plain": "WindowTitle           : \r\n"
          },
          "output_type": "unknown"
        },
        {
          "data": {
            "text/plain": "\r\n"
          },
          "output_type": "unknown"
        },
        {
          "data": {
            "text/plain": "\r\n"
          },
          "output_type": "unknown"
        }
      ],
      "source": [
        "$host.Name\n",
        "$host.UI.RawUI"
      ]
    },
    {
      "cell_type": "markdown",
      "metadata": {},
      "source": [
        "## Markdown contains formatted text and images \n",
        "\n",
        "* *emphasis*\n",
        "* **Strong Emphasis**\n",
        "* `code`\n",
        "* etc. \n",
        "\n",
        "```PowerShell\n",
        "write-host \"This is a script block formatted as PowerShell\" -fore red\n",
        "# How good the format is varies ! \n",
        "```\n",
        "\n",
        "Folding markdown cells hides the code cells between them and the next markdown with the same title level. **THIS ONE** breaks folding because the is no code beneath. \n",
        "\n",
        "Local images work better if the path is relative to the .ipynb file or they can be fetched over http    \n",
        "![Untitled2.png](./Untitled2.png)    \n",
        "![James Avatar](https://jhoneill.github.io/assets/james.jpg)"
      ]
    },
    {
      "cell_type": "code",
      "execution_count": null,
      "metadata": {
        "dotnet_interactive": {
          "language": "html"
        }
      },
      "outputs": [
        {
          "data": {
            "text/html": "<strong>.NET interactive allows Cells to have a <em>language</em> of HTML</strong><br/>  \nLanguage is selected with <em>Magic commands</em> <code>#!html</code>, <code>#!pwsh</code>, \n<code>#!javascript</code>, <code>#!fsharp</code> and <code>#!csharp</code>. <br/>\nThere is a full list of magic commands further down."
          },
          "output_type": "unknown"
        }
      ],
      "source": [
        "<strong>.NET interactive allows Cells to have a <em>language</em> of HTML</strong><br/>  \n",
        "Language is selected with <em>Magic commands</em> <code>#!html</code>, <code>#!pwsh</code>, \n",
        "<code>#!javascript</code>, <code>#!fsharp</code> and <code>#!csharp</code>. <br/>\n",
        "There is a full list of magic commands further down."
      ]
    },
    {
      "cell_type": "code",
      "execution_count": null,
      "metadata": {
        "dotnet_interactive": {
          "language": "csharp"
        }
      },
      "outputs": [
        {
          "data": {
            "text/html": "<p><strong>Bold</strong></p>\n"
          },
          "output_type": "unknown"
        }
      ],
      "source": [
        "#!markdown\n",
        "**Bold**"
      ]
    },
    {
      "cell_type": "markdown",
      "metadata": {},
      "source": [
        "## Normal shell things ... "
      ]
    },
    {
      "cell_type": "code",
      "execution_count": null,
      "metadata": {
        "dotnet_interactive": {
          "language": "pwsh"
        }
      },
      "outputs": [
        {
          "data": {
            "text/plain": "On branch master\nYour branch is up to date with 'origin/master'.\n\nnothing to commit, working tree clean"
          },
          "execution_count": 1,
          "metadata": {},
          "output_type": "execute_result"
        }
      ],
      "source": [
        "git status"
      ]
    },
    {
      "cell_type": "code",
      "execution_count": null,
      "metadata": {
        "dotnet_interactive": {
          "language": "pwsh"
        }
      },
      "outputs": [
        {
          "data": {
            "text/plain": "\u001b[92mboo hoo\u001b[0m\r\n"
          },
          "output_type": "unknown"
        }
      ],
      "source": [
        "write-host -ForegroundColor Green \"boo hoo\""
      ]
    },
    {
      "cell_type": "markdown",
      "metadata": {},
      "source": [
        "## Where were we called from"
      ]
    },
    {
      "cell_type": "code",
      "execution_count": null,
      "metadata": {
        "dotnet_interactive": {
          "language": "pwsh"
        }
      },
      "outputs": [
        {
          "data": {
            "text/plain": "C:\\Users\\mcp\\.nuget\\packages\\microsoft.dotnet-interactive\\1.0.222703\\tools\\net5.0\\any\\runtimes\\win\\lib\\net5.0\r\n"
          },
          "output_type": "unknown"
        },
        {
          "data": {
            "text/plain": "\r\n"
          },
          "output_type": "unknown"
        },
        {
          "data": {
            "text/plain": " NPM(K)    PM(M)      WS(M)     CPU(s)      Id  SI ProcessName\r\n"
          },
          "output_type": "unknown"
        },
        {
          "data": {
            "text/plain": " ------    -----      -----     ------      --  -- -----------\r\n"
          },
          "output_type": "unknown"
        },
        {
          "data": {
            "text/plain": "    160   323.97     353.80      17.47   19268   1 dotnet\r\n"
          },
          "output_type": "unknown"
        },
        {
          "data": {
            "text/plain": "     27    15.10      34.45       0.72   21216   1 dotnet\r\n"
          },
          "output_type": "unknown"
        },
        {
          "data": {
            "text/plain": "     26    69.16     117.93      14.59   17376   1 Code - Insiders\r\n"
          },
          "output_type": "unknown"
        },
        {
          "data": {
            "text/plain": "     28   184.84     234.27     331.64   18632   1 Code - Insiders\r\n"
          },
          "output_type": "unknown"
        },
        {
          "data": {
            "text/plain": "     53    49.50     121.64     138.25   19672   1 Code - Insiders\r\n"
          },
          "output_type": "unknown"
        },
        {
          "data": {
            "text/plain": "\"C:\\Program Files\\dotnet\\dotnet.exe\" C:\\Users\\mcp\\.nuget\\packages\\microsoft.dotnet-interactive\\1.0.222703\\tools/net5.0/any/Microsoft.DotNet.Interactive.App.dll [vscode] stdio --working-dir c:\\Users\\mcp\\Documents\\GitHub\\Notebooks\\notebooks --http-port 56044\r\n"
          },
          "output_type": "unknown"
        },
        {
          "data": {
            "text/plain": "dotnet tool run dotnet-interactive -- [vscode] stdio --working-dir c:\\Users\\mcp\\Documents\\GitHub\\Notebooks\\notebooks --http-port 56044\r\n"
          },
          "output_type": "unknown"
        },
        {
          "data": {
            "text/plain": "\"C:\\Users\\mcp\\AppData\\Local\\Programs\\Microsoft VS Code Insiders\\Code - Insiders.exe\" --inspect-port=0 \"c:\\Users\\mcp\\AppData\\Local\\Programs\\Microsoft VS Code Insiders\\resources\\app\\out\\bootstrap-fork\" --type=extensionHost\r\n"
          },
          "output_type": "unknown"
        },
        {
          "data": {
            "text/plain": "\"C:\\Users\\mcp\\AppData\\Local\\Programs\\Microsoft VS Code Insiders\\Code - Insiders.exe\" --type=renderer --disable-color-correct-rendering --field-trial-handle=1592,1633240520840042321,3104199182021631797,131072 --enable-features=WebComponentsV0Enabled --disable-features=CertVerifierService,CookiesWithoutSameSiteMustBeSecure,SameSiteByDefaultCookies,SpareRendererForSitePerProcess --lang=en-GB --standard-schemes=vscode-webview,vscode-file --secure-schemes=vscode-webview,vscode-file --bypasscsp-schemes --cors-schemes=vscode-webview,vscode-file --fetch-schemes=vscode-webview,vscode-file --service-worker-schemes=vscode-webview --streaming-schemes --app-user-model-id=Microsoft.VisualStudioCodeInsiders --app-path=\"C:\\Users\\mcp\\AppData\\Local\\Programs\\Microsoft VS Code Insiders\\resources\\app\" --no-sandbox --no-zygote --device-scale-factor=2 --num-raster-threads=2 --enable-main-frame-before-activation --renderer-client-id=5 --no-v8-untrusted-code-mitigations --mojo-platform-channel-handle=2504 /prefetch:1 --vscode-window-config=vscode:6ab418ad-9fcf-4b10-9b54-b763af401599\r\n"
          },
          "output_type": "unknown"
        },
        {
          "data": {
            "text/plain": "\"C:\\Users\\mcp\\AppData\\Local\\Programs\\Microsoft VS Code Insiders\\Code - Insiders.exe\"\r\n"
          },
          "output_type": "unknown"
        },
        {
          "data": {
            "text/plain": "\r\n"
          },
          "output_type": "unknown"
        }
      ],
      "source": [
        "$pshome\n",
        "$p = Get-process -id $pid   \n",
        "$p, $p.Parent, $p.Parent.Parent,$p.Parent.Parent.parent,$p.Parent.Parent.parent.parent\n",
        "Get-CimInstance -ClassName win32_process -Filter \"processID = $($p.id)\" |  select -expand commandline\n",
        "Get-CimInstance -ClassName win32_process -Filter \"processID = $($p.Parent.id)\" |  select -expand commandline\n",
        "Get-CimInstance -ClassName win32_process -Filter \"processID = $($p.Parent.parent.id)\" |  select -expand commandline\n",
        "Get-CimInstance -ClassName win32_process -Filter \"processID = $($p.Parent.parent.parent.id)\" |  select -expand commandline\n",
        "Get-CimInstance -ClassName win32_process -Filter \"processID = $($p.Parent.parent.parent.parent.id)\" |  select -expand commandline"
      ]
    },
    {
      "cell_type": "markdown",
      "metadata": {},
      "source": [
        "*In a browser you can check who owns the port you connected to*   \n",
        "**Note: things which display a progress bar and then try to close it can cause an error, so turn progress display off**"
      ]
    },
    {
      "cell_type": "code",
      "execution_count": null,
      "metadata": {
        "dotnet_interactive": {
          "language": "pwsh"
        }
      },
      "outputs": [
        {
          "data": {
            "text/plain": "\nLocalAddress LocalPort RemoteAddress RemotePort State  AppliedSetting OwningProcess\n------------ --------- ------------- ---------- -----  -------------- -------------\n::1          8888      ::            0          Listen                103708\n127.0.0.1    8888      0.0.0.0       0          Listen                103708"
          },
          "execution_count": 1,
          "metadata": {},
          "output_type": "execute_result"
        }
      ],
      "source": [
        "$ProgressPreference = 'silentlyContinue'\n",
        "Get-NetTCPConnection -LocalPort 9815,8888 -State Listen | ft -a"
      ]
    },
    {
      "cell_type": "markdown",
      "metadata": {},
      "source": [
        "## PowerShell modules loaded in a clean session, and modules available"
      ]
    },
    {
      "cell_type": "code",
      "execution_count": null,
      "metadata": {
        "dotnet_interactive": {
          "language": "pwsh"
        }
      },
      "outputs": [
        {
          "data": {
            "text/plain": "\r\n"
          },
          "execution_count": 1,
          "metadata": {},
          "output_type": "execute_result"
        },
        {
          "data": {
            "text/plain": "ModuleType Version    PreRelease Name                                ExportedCommands\r\n"
          },
          "execution_count": 1,
          "metadata": {},
          "output_type": "execute_result"
        },
        {
          "data": {
            "text/plain": "---------- -------    ---------- ----                                ----------------\r\n"
          },
          "execution_count": 1,
          "metadata": {},
          "output_type": "execute_result"
        },
        {
          "data": {
            "text/plain": "Binary     7.0.0.0               CimCmdlets                          {Get-CimAssociatedInstance, G…\r\n"
          },
          "execution_count": 1,
          "metadata": {},
          "output_type": "execute_result"
        },
        {
          "data": {
            "text/plain": "Manifest   7.0.0.0               Microsoft.PowerShell.Management     {Add-Content, Clear-Content, …\r\n"
          },
          "execution_count": 1,
          "metadata": {},
          "output_type": "execute_result"
        },
        {
          "data": {
            "text/plain": "Manifest   7.0.0.0               Microsoft.PowerShell.Utility        {Add-Member, Add-Type, Clear-…\r\n"
          },
          "execution_count": 1,
          "metadata": {},
          "output_type": "execute_result"
        },
        {
          "data": {
            "text/plain": "\r\n"
          },
          "execution_count": 1,
          "metadata": {},
          "output_type": "execute_result"
        }
      ],
      "source": [
        "Get-module"
      ]
    },
    {
      "cell_type": "code",
      "execution_count": null,
      "metadata": {
        "dotnet_interactive": {
          "language": "pwsh"
        }
      },
      "outputs": [
        {
          "data": {
            "text/plain": "\r\nCount Name\r\n----- ----\r\n    1 C:\\Program Files\\Microsoft Message Analyzer\\PowerShell\r\n    5 C:\\Program Files\\PowerShell\\Modules\r\n  152 C:\\Program Files\\WindowsPowerShell\\Modules\r\n    1 C:\\Users\\mcp\\.nuget\\packages\\microsoft.dotnet-interactive\\1.0.222703\\tools\\net5.0\\any\\Modules\r\n    8 C:\\users\\mcp\\.nuget\\packages\\microsoft.dotnet-interactive\\1.0.222703\\tools\\net5.0\\any\\runtimes\\win\\lib\\net5.0\\Modules\r\n   19 C:\\Users\\mcp\\Documents\\PowerShell\\Modules\r\n   60 C:\\WINDOWS\\system32\\WindowsPowerShell\\v1.0\\Modules\r\n\r\n\r\n"
          },
          "output_type": "unknown"
        }
      ],
      "source": [
        "Get-Module -ListAvailable | \n",
        "    group -no -Property @{e={\n",
        "        Split-Path -Parent $_.Path | \n",
        "            %{if ([Version]::TryParse((Split-Path $_ -Leaf), [ref]$null)) {Split-Path -Parent $_} else {$_} } | \n",
        "                 Split-Path -Parent\n",
        "     }} | ft -AutoSize -wrap | Out-string -width 150"
      ]
    },
    {
      "cell_type": "code",
      "execution_count": null,
      "metadata": {
        "dotnet_interactive": {
          "language": "pwsh"
        }
      },
      "outputs": [
        {
          "data": {
            "text/plain": "\r\nName                                    ExportedCommands\r\n----                                    ----------------\r\nMicrosoft.DotNet.Interactive.PowerShell {[Enter-AzShell, Enter-AzShell], [Out-Display, Out-Display], [od, od]}\r\nCimCmdlets                              {[Get-CimAssociatedInstance, Get-CimAssociatedInstance], [Get-CimClass, Get-CimClass], [Get-CimInstance, Get-…\r\nMicrosoft.PowerShell.Diagnostics        {[Get-WinEvent, Get-WinEvent], [New-WinEvent, New-WinEvent], [Get-Counter, Get-Counter]}\r\nMicrosoft.PowerShell.Host               {[Start-Transcript, Start-Transcript], [Stop-Transcript, Stop-Transcript]}\r\nMicrosoft.PowerShell.Management         {[Add-Content, Add-Content], [Clear-Content, Clear-Content], [Get-Clipboard, Get-Clipboard], [Set-Clipboard, …\r\nMicrosoft.PowerShell.Security           {[Get-Acl, Get-Acl], [Set-Acl, Set-Acl], [Get-PfxCertificate, Get-PfxCertificate], [Get-Credential, Get-Crede…\r\nMicrosoft.PowerShell.Utility            {[Export-Alias, Export-Alias], [Get-Alias, Get-Alias], [Import-Alias, Import-Alias], [New-Alias, New-Alias]…}\r\nMicrosoft.WSMan.Management              {[Disable-WSManCredSSP, Disable-WSManCredSSP], [Enable-WSManCredSSP, Enable-WSManCredSSP], [Get-WSManCredSSP,…\r\nPSDiagnostics                           {[Disable-PSTrace, Disable-PSTrace], [Disable-PSWSManCombinedTrace, Disable-PSWSManCombinedTrace], [Disable-W…\r\n\r\n\r\n"
          },
          "output_type": "unknown"
        }
      ],
      "source": [
        "Get-Module -ListAvailable | where path -Match \"interactive\" | ft name ,exportedCommands | Out-String -Width 150"
      ]
    },
    {
      "cell_type": "code",
      "execution_count": null,
      "metadata": {
        "dotnet_interactive": {
          "language": "pwsh"
        }
      },
      "outputs": [],
      "source": [
        "Get-Module -ListAvailable | where path -Match \"netcoreapp\" | ft name ,exportedCommands"
      ]
    },
    {
      "cell_type": "markdown",
      "metadata": {},
      "source": [
        "## What is in the PowerShell module which comes with .Net Interactive ? "
      ]
    },
    {
      "cell_type": "code",
      "execution_count": null,
      "metadata": {
        "dotnet_interactive": {
          "language": "pwsh"
        }
      },
      "outputs": [
        {
          "data": {
            "text/plain": "\r\n"
          },
          "output_type": "unknown"
        },
        {
          "data": {
            "text/plain": "CommandType     Name                                               Version    Source\r\n"
          },
          "output_type": "unknown"
        },
        {
          "data": {
            "text/plain": "-----------     ----                                               -------    ------\r\n"
          },
          "output_type": "unknown"
        },
        {
          "data": {
            "text/plain": "Cmdlet          Enter-AzShell                                      0.1.0      Microsoft.DotNet.Int…\r\n"
          },
          "output_type": "unknown"
        },
        {
          "data": {
            "text/plain": "Cmdlet          Out-Display                                        0.1.0      Microsoft.DotNet.Int…\r\n"
          },
          "output_type": "unknown"
        },
        {
          "data": {
            "text/plain": "\r\n"
          },
          "output_type": "unknown"
        }
      ],
      "source": [
        "ipmo Microsoft.DotNet.Interactive.PowerShell\n",
        "Get-command -Module Microsoft.DotNet.Interactive.PowerShell"
      ]
    },
    {
      "cell_type": "markdown",
      "metadata": {},
      "source": [
        "## Out-Display & preformed HTML\n",
        "First magic command  `#!time` and use of  `[Microsoft.DotNet.Interactive.Kernel]::HTML($html)` \n",
        "\n",
        "**Note:** Plotly uses Java-script and may not render in all viewers "
      ]
    },
    {
      "cell_type": "code",
      "execution_count": null,
      "metadata": {
        "dotnet_interactive": {
          "language": "pwsh"
        }
      },
      "outputs": [
        {
          "data": {
            "text/html": "<div class=\"dni-plaintext\">5</div>"
          },
          "output_type": "unknown"
        },
        {
          "data": {
            "text/plain": "Wall time: 5473.2799ms"
          },
          "output_type": "unknown"
        }
      ],
      "source": [
        "#!time \n",
        "$x = \"Counting\" | Out-Display -PassThru\n",
        "1..5 | %{sleep 1; $x.Update($_) }"
      ]
    },
    {
      "cell_type": "code",
      "execution_count": null,
      "metadata": {
        "dotnet_interactive": {
          "language": "pwsh"
        }
      },
      "outputs": [
        {
          "data": {
            "text/html": "<table> <colgroup><col/><col/></colgroup> <tr><th>Name</th><th>Version</th></tr> <tr><td>Enter-AzShell</td><td>0.1.0</td></tr> <tr><td>Out-Display</td><td>0.1.0</td></tr> </table>"
          },
          "output_type": "unknown"
        }
      ],
      "source": [
        "$html = Get-Command -Module Microsoft.DotNet.Interactive.PowerShell | \n",
        "        ConvertTo-Html -Fragment -Property Name , Version \n",
        "\n",
        "[Microsoft.DotNet.Interactive.Kernel]::HTML($html) | Out-Display"
      ]
    },
    {
      "cell_type": "markdown",
      "metadata": {},
      "source": [
        "**If you don't have the files for the next code-cell skip it and load the SVG data from the following one**"
      ]
    },
    {
      "cell_type": "code",
      "execution_count": null,
      "metadata": {
        "dotnet_interactive": {
          "language": "pwsh"
        }
      },
      "outputs": [],
      "source": [
        "Import-Module ~\\documents\\azdo\\serverautomationdemo\\utils\\PSGraph\\ -Force # My version!\n",
        ". ~\\documents\\azdo\\serverautomationdemo\\utils\\PlotDevopsPipelines.ps1\n",
        "\n",
        "$svg = plot_pipeline ~\\documents\\azdo\\serverautomationdemo\\CI\\FollowOn.pipeline.yml  -DestinationPath \"\" \n",
        "$svg | out-file -Encoding utf8 -path ./demo.svg"
      ]
    },
    {
      "cell_type": "markdown",
      "metadata": {},
      "source": [
        "**If you used the previous code-cell you can skip the next one**"
      ]
    },
    {
      "cell_type": "code",
      "execution_count": null,
      "metadata": {
        "dotnet_interactive": {
          "language": "pwsh"
        }
      },
      "outputs": [],
      "source": [
        "$svg = Get-Content ./demo.svg"
      ]
    },
    {
      "cell_type": "code",
      "execution_count": null,
      "metadata": {
        "dotnet_interactive": {
          "language": "pwsh"
        }
      },
      "outputs": [
        {
          "data": {
            "text/html": "<?xml version=\"1.0\" encoding=\"UTF-8\" standalone=\"no\"?> <!DOCTYPE svg PUBLIC \"-//W3C//DTD SVG 1.1//EN\"  \"http://www.w3.org/Graphics/SVG/1.1/DTD/svg11.dtd\"> <!-- Generated by graphviz version 2.38.0 (20140413.2041)  --> <!-- Title: g Pages: 1 --> <svg width=\"248pt\" height=\"279pt\"  viewBox=\"0.00 0.00 248.00 279.00\" xmlns=\"http://www.w3.org/2000/svg\" xmlns:xlink=\"http://www.w3.org/1999/xlink\"> <g id=\"graph0\" class=\"graph\" transform=\"scale(1 1) rotate(0) translate(4 275)\"> <title>g</title> <polygon fill=\"white\" stroke=\"none\" points=\"-4,4 -4,-275 244,-275 244,4 -4,4\"/> <g id=\"clust1\" class=\"cluster\"><title>cluster9f89ca4c2be5</title> <polygon fill=\"none\" stroke=\"black\" points=\"8,-8 8,-227 232,-227 232,-8 8,-8\"/> <text text-anchor=\"middle\" x=\"120\" y=\"-211.8\" font-family=\"Times New Roman,serif\" font-size=\"14.00\">Stage: FollowOnStage</text> </g> <!-- FollowOn.pipeline --> <g id=\"node1\" class=\"node\"><title>FollowOn.pipeline</title> <polygon fill=\"none\" stroke=\"black\" points=\"179.5,-271 60.5,-271 60.5,-235 179.5,-235 179.5,-271\"/> <text text-anchor=\"middle\" x=\"120\" y=\"-249.3\" font-family=\"Times New Roman,serif\" font-size=\"14.00\">FollowOn.pipeline</text> </g> <!-- Job: ExitStageLeft --> <g id=\"node3\" class=\"node\"><title>Job: ExitStageLeft</title> <polygon fill=\"none\" stroke=\"black\" points=\"179.5,-196 60.5,-196 60.5,-160 179.5,-160 179.5,-196\"/> <text text-anchor=\"middle\" x=\"120\" y=\"-174.3\" font-family=\"Times New Roman,serif\" font-size=\"14.00\">Job: ExitStageLeft</text> </g> <!-- FollowOn.pipeline&#45;&gt;Job: ExitStageLeft --> <g id=\"edge3\" class=\"edge\"><title>FollowOn.pipeline&#45;&gt;Job: ExitStageLeft</title> <path fill=\"none\" stroke=\"black\" d=\"M120,-234.7C120,-226.245 120,-215.869 120,-206.373\"/> <polygon fill=\"black\" stroke=\"black\" points=\"123.5,-206.176 120,-196.176 116.5,-206.176 123.5,-206.176\"/> </g> <!-- 9f89ca4c2be5 --> <!-- DownloadPipelineArtifact --> <g id=\"node4\" class=\"node\"><title>DownloadPipelineArtifact</title> <ellipse fill=\"none\" stroke=\"black\" cx=\"120\" cy=\"-106\" rx=\"103.982\" ry=\"18\"/> <text text-anchor=\"middle\" x=\"120\" y=\"-102.3\" font-family=\"Times New Roman,serif\" font-size=\"14.00\">DownloadPipelineArtifact</text> </g> <!-- Job: ExitStageLeft&#45;&gt;DownloadPipelineArtifact --> <g id=\"edge1\" class=\"edge\"><title>Job: ExitStageLeft&#45;&gt;DownloadPipelineArtifact</title> <path fill=\"none\" stroke=\"black\" d=\"M120,-159.697C120,-151.983 120,-142.712 120,-134.112\"/> <polygon fill=\"black\" stroke=\"black\" points=\"123.5,-134.104 120,-124.104 116.5,-134.104 123.5,-134.104\"/> </g> <!-- PowerShell --> <g id=\"node5\" class=\"node\"><title>PowerShell</title> <ellipse fill=\"none\" stroke=\"black\" cx=\"120\" cy=\"-34\" rx=\"51.9908\" ry=\"18\"/> <text text-anchor=\"middle\" x=\"120\" y=\"-30.3\" font-family=\"Times New Roman,serif\" font-size=\"14.00\">PowerShell</text> </g> <!-- DownloadPipelineArtifact&#45;&gt;PowerShell --> <g id=\"edge2\" class=\"edge\"><title>DownloadPipelineArtifact&#45;&gt;PowerShell</title> <path fill=\"none\" stroke=\"black\" d=\"M120,-87.6966C120,-79.9827 120,-70.7125 120,-62.1124\"/> <polygon fill=\"black\" stroke=\"black\" points=\"123.5,-62.1043 120,-52.1043 116.5,-62.1044 123.5,-62.1043\"/> </g> </g> </svg>"
          },
          "execution_count": 1,
          "metadata": {},
          "output_type": "execute_result"
        }
      ],
      "source": [
        "[Microsoft.DotNet.Interactive.Kernel]::HTML($svg) | Out-Display"
      ]
    },
    {
      "cell_type": "markdown",
      "metadata": {},
      "source": [
        "## Wrapper for Out-Display"
      ]
    },
    {
      "cell_type": "code",
      "execution_count": null,
      "metadata": {
        "dotnet_interactive": {
          "language": "pwsh"
        }
      },
      "outputs": [
        {
          "data": {
            "text/plain": "\r\nThis command has three ways of working. It can\r\n* Take HTML (via the pipeline or as a parameter) and output it into a cell\r\n* Make an HTML table or list from objects, selecting properties, first, last etc.\r\n* Take a script block to generate html or objects to transform to a list/table\r\n\r\n\r\n\r\n"
          },
          "output_type": "unknown"
        }
      ],
      "source": [
        ". .\\NotebookOutput.ps1\r\n",
        "Out-cell -? | select -ExpandProperty Description | Out-String"
      ]
    },
    {
      "cell_type": "code",
      "execution_count": null,
      "metadata": {
        "dotnet_interactive": {
          "language": "pwsh"
        }
      },
      "outputs": [
        {
          "data": {
            "text/html": "<table> <colgroup><col/><col/></colgroup> <tr><th>Name</th><th>Version</th></tr> <tr><td>Enter-AzShell</td><td>0.1.0</td></tr> <tr><td>Out-Display</td><td>0.1.0</td></tr> </table>"
          },
          "execution_count": 1,
          "metadata": {},
          "output_type": "execute_result"
        }
      ],
      "source": [
        "# Pipe in , convert to table.\n",
        "Get-command -Module  Microsoft.DotNet.Interactive.PowerShell \n",
        "    | Out-Cell -AsTable name,version"
      ]
    },
    {
      "cell_type": "code",
      "execution_count": null,
      "metadata": {
        "dotnet_interactive": {
          "language": "pwsh"
        }
      },
      "outputs": [
        {
          "data": {
            "text/html": "<table> <tr><td>Name:</td><td>Enter-AzShell</td></tr> <tr><td>Version:</td><td>0.1.0</td></tr> <tr><td><hr></td></tr> <tr><td>Name:</td><td>Out-Display</td></tr> <tr><td>Version:</td><td>0.1.0</td></tr> </table>"
          },
          "execution_count": 1,
          "metadata": {},
          "output_type": "execute_result"
        }
      ],
      "source": [
        "#Pass script block, format as list\n",
        "Cell -AsList name,version {\n",
        "    Get-command -Module  Microsoft.DotNet.Interactive.PowerShell \n",
        "}"
      ]
    },
    {
      "cell_type": "code",
      "execution_count": null,
      "metadata": {
        "dotnet_interactive": {
          "language": "pwsh"
        }
      },
      "outputs": [
        {
          "data": {
            "text/html": "<?xml version=\"1.0\" encoding=\"UTF-8\" standalone=\"no\"?><!DOCTYPE svg PUBLIC \"-//W3C//DTD SVG 1.1//EN\" \"http://www.w3.org/Graphics/SVG/1.1/DTD/svg11.dtd\"><!-- Generated by graphviz version 2.38.0 (20140413.2041) --><!-- Title: g Pages: 1 --><svg width=\"248pt\" height=\"279pt\" viewBox=\"0.00 0.00 248.00 279.00\" xmlns=\"http://www.w3.org/2000/svg\" xmlns:xlink=\"http://www.w3.org/1999/xlink\"><g id=\"graph0\" class=\"graph\" transform=\"scale(1 1) rotate(0) translate(4 275)\"><title>g</title><polygon fill=\"white\" stroke=\"none\" points=\"-4,4 -4,-275 244,-275 244,4 -4,4\"/><g id=\"clust1\" class=\"cluster\"><title>cluster9f89ca4c2be5</title><polygon fill=\"none\" stroke=\"black\" points=\"8,-8 8,-227 232,-227 232,-8 8,-8\"/><text text-anchor=\"middle\" x=\"120\" y=\"-211.8\" font-family=\"Times New Roman,serif\" font-size=\"14.00\">Stage: FollowOnStage</text></g><!-- FollowOn.pipeline --><g id=\"node1\" class=\"node\"><title>FollowOn.pipeline</title><polygon fill=\"none\" stroke=\"black\" points=\"179.5,-271 60.5,-271 60.5,-235 179.5,-235 179.5,-271\"/><text text-anchor=\"middle\" x=\"120\" y=\"-249.3\" font-family=\"Times New Roman,serif\" font-size=\"14.00\">FollowOn.pipeline</text></g><!-- Job: ExitStageLeft --><g id=\"node3\" class=\"node\"><title>Job: ExitStageLeft</title><polygon fill=\"none\" stroke=\"black\" points=\"179.5,-196 60.5,-196 60.5,-160 179.5,-160 179.5,-196\"/><text text-anchor=\"middle\" x=\"120\" y=\"-174.3\" font-family=\"Times New Roman,serif\" font-size=\"14.00\">Job: ExitStageLeft</text></g><!-- FollowOn.pipeline&#45;&gt;Job: ExitStageLeft --><g id=\"edge3\" class=\"edge\"><title>FollowOn.pipeline&#45;&gt;Job: ExitStageLeft</title><path fill=\"none\" stroke=\"black\" d=\"M120,-234.7C120,-226.245 120,-215.869 120,-206.373\"/><polygon fill=\"black\" stroke=\"black\" points=\"123.5,-206.176 120,-196.176 116.5,-206.176 123.5,-206.176\"/></g><!-- 9f89ca4c2be5 --><!-- DownloadPipelineArtifact --><g id=\"node4\" class=\"node\"><title>DownloadPipelineArtifact</title><ellipse fill=\"none\" stroke=\"black\" cx=\"120\" cy=\"-106\" rx=\"103.982\" ry=\"18\"/><text text-anchor=\"middle\" x=\"120\" y=\"-102.3\" font-family=\"Times New Roman,serif\" font-size=\"14.00\">DownloadPipelineArtifact</text></g><!-- Job: ExitStageLeft&#45;&gt;DownloadPipelineArtifact --><g id=\"edge1\" class=\"edge\"><title>Job: ExitStageLeft&#45;&gt;DownloadPipelineArtifact</title><path fill=\"none\" stroke=\"black\" d=\"M120,-159.697C120,-151.983 120,-142.712 120,-134.112\"/><polygon fill=\"black\" stroke=\"black\" points=\"123.5,-134.104 120,-124.104 116.5,-134.104 123.5,-134.104\"/></g><!-- PowerShell --><g id=\"node5\" class=\"node\"><title>PowerShell</title><ellipse fill=\"none\" stroke=\"black\" cx=\"120\" cy=\"-34\" rx=\"51.9908\" ry=\"18\"/><text text-anchor=\"middle\" x=\"120\" y=\"-30.3\" font-family=\"Times New Roman,serif\" font-size=\"14.00\">PowerShell</text></g><!-- DownloadPipelineArtifact&#45;&gt;PowerShell --><g id=\"edge2\" class=\"edge\"><title>DownloadPipelineArtifact&#45;&gt;PowerShell</title><path fill=\"none\" stroke=\"black\" d=\"M120,-87.6966C120,-79.9827 120,-70.7125 120,-62.1124\"/><polygon fill=\"black\" stroke=\"black\" points=\"123.5,-62.1043 120,-52.1043 116.5,-62.1044 123.5,-62.1043\"/></g></g></svg>"
          },
          "execution_count": 1,
          "metadata": {},
          "output_type": "execute_result"
        }
      ],
      "source": [
        "#Relies on earlier cell to set $svg - pass raw output in a variable  \n",
        "if ($svg) {\n",
        "    cell $svg\n",
        "}"
      ]
    },
    {
      "cell_type": "code",
      "execution_count": null,
      "metadata": {
        "dotnet_interactive": {
          "language": "pwsh"
        }
      },
      "outputs": [
        {
          "data": {
            "text/html": [
              "<?xml version=\"1.0\" encoding=\"UTF-8\" standalone=\"no\"?><!DOCTYPE svg PUBLIC \"-//W3C//DTD SVG 1.1//EN\" \"http://www.w3.org/Graphics/SVG/1.1/DTD/svg11.dtd\"><!-- Generated by graphviz version 2.38.0 (20140413.2041) --><!-- Title: g Pages: 1 --><svg width=\"248pt\" height=\"279pt\" viewBox=\"0.00 0.00 248.00 279.00\" xmlns=\"http://www.w3.org/2000/svg\" xmlns:xlink=\"http://www.w3.org/1999/xlink\"><g id=\"graph0\" class=\"graph\" transform=\"scale(1 1) rotate(0) translate(4 275)\"><title>g</title><polygon fill=\"white\" stroke=\"none\" points=\"-4,4 -4,-275 244,-275 244,4 -4,4\"/><g id=\"clust1\" class=\"cluster\"><title>clusterc51aaa375c59</title><polygon fill=\"none\" stroke=\"black\" points=\"8,-8 8,-227 232,-227 232,-8 8,-8\"/><text text-anchor=\"middle\" x=\"120\" y=\"-211.8\" font-family=\"Times New Roman,serif\" font-size=\"14.00\">Stage: FollowOnStage</text></g><!-- FollowOn.pipeline --><g id=\"node1\" class=\"node\"><title>FollowOn.pipeline</title><polygon fill=\"none\" stroke=\"black\" points=\"179.5,-271 60.5,-271 60.5,-235 179.5,-235 179.5,-271\"/><text text-anchor=\"middle\" x=\"120\" y=\"-249.3\" font-family=\"Times New Roman,serif\" font-size=\"14.00\">FollowOn.pipeline</text></g><!-- Job: ExitStageLeft --><g id=\"node3\" class=\"node\"><title>Job: ExitStageLeft</title><polygon fill=\"none\" stroke=\"black\" points=\"179.5,-196 60.5,-196 60.5,-160 179.5,-160 179.5,-196\"/><text text-anchor=\"middle\" x=\"120\" y=\"-174.3\" font-family=\"Times New Roman,serif\" font-size=\"14.00\">Job: ExitStageLeft</text></g><!-- FollowOn.pipeline&#45;&gt;Job: ExitStageLeft --><g id=\"edge3\" class=\"edge\"><title>FollowOn.pipeline&#45;&gt;Job: ExitStageLeft</title><path fill=\"none\" stroke=\"black\" d=\"M120,-234.7C120,-226.245 120,-215.869 120,-206.373\"/><polygon fill=\"black\" stroke=\"black\" points=\"123.5,-206.176 120,-196.176 116.5,-206.176 123.5,-206.176\"/></g><!-- c51aaa375c59 --><!-- DownloadPipelineArtifact --><g id=\"node4\" class=\"node\"><title>DownloadPipelineArtifact</title><ellipse fill=\"none\" stroke=\"black\" cx=\"120\" cy=\"-106\" rx=\"103.982\" ry=\"18\"/><text text-anchor=\"middle\" x=\"120\" y=\"-102.3\" font-family=\"Times New Roman,serif\" font-size=\"14.00\">DownloadPipelineArtifact</text></g><!-- Job: ExitStageLeft&#45;&gt;DownloadPipelineArtifact --><g id=\"edge1\" class=\"edge\"><title>Job: ExitStageLeft&#45;&gt;DownloadPipelineArtifact</title><path fill=\"none\" stroke=\"black\" d=\"M120,-159.697C120,-151.983 120,-142.712 120,-134.112\"/><polygon fill=\"black\" stroke=\"black\" points=\"123.5,-134.104 120,-124.104 116.5,-134.104 123.5,-134.104\"/></g><!-- PowerShell --><g id=\"node5\" class=\"node\"><title>PowerShell</title><ellipse fill=\"none\" stroke=\"black\" cx=\"120\" cy=\"-34\" rx=\"51.9908\" ry=\"18\"/><text text-anchor=\"middle\" x=\"120\" y=\"-30.3\" font-family=\"Times New Roman,serif\" font-size=\"14.00\">PowerShell</text></g><!-- DownloadPipelineArtifact&#45;&gt;PowerShell --><g id=\"edge2\" class=\"edge\"><title>DownloadPipelineArtifact&#45;&gt;PowerShell</title><path fill=\"none\" stroke=\"black\" d=\"M120,-87.6966C120,-79.9827 120,-70.7125 120,-62.1124\"/><polygon fill=\"black\" stroke=\"black\" points=\"123.5,-62.1043 120,-52.1043 116.5,-62.1044 123.5,-62.1043\"/></g></g></svg>"
            ]
          },
          "execution_count": 1,
          "metadata": {},
          "output_type": "execute_result"
        }
      ],
      "source": [
        "#If we loaded the grpah module earlier, raw output from a script block.\n",
        "if (test-path Function:\\plot_pipeline) {\n",
        "    cell  {plot_pipeline ~\\documents\\azdo\\serverautomationdemo\\CI\\FollowOn.pipeline.yml  -DestinationPath \"\" }\n",
        "}"
      ]
    },
    {
      "cell_type": "markdown",
      "metadata": {},
      "source": [
        "## Doug Finke's Notebook module"
      ]
    },
    {
      "cell_type": "code",
      "execution_count": null,
      "metadata": {
        "dotnet_interactive": {
          "language": "pwsh"
        }
      },
      "outputs": [
        {
          "data": {
            "text/plain": "\r\nName                              Synopsis\r\n----                              --------\r\nAdd-NotebookCode                  Add-NotebookCode adds PowerShell code to a code block\r\nAdd-NotebookMarkdown              Add-NotebookMarkdown adds Markdown to a markdown block\r\nConvert-MarkdownToNoteBook        Convert a markdown file to an interactive PowerShell Notebook\r\nConvertFrom-NotebookToMarkdown    Take and exiting PowerShell Notebook and convert it to markdown\r\nConvertTo-PowerShellNoteBook      \r\nConvertTo-SQLNoteBook             \r\nExport-NotebookToPowerShellScript Exports all code blocks from a PowerShell Notebook to a PowerShell script\r\nExport-NotebookToSqlScript        Exports all code blocks from a SQL Notebook to a SQL script\r\nGet-Notebook                      Get-Notebook reads the metadata of a single (or folder of) Jupyter Notebooks\r\nGet-NotebookContent               Get-NotebookContents reads the contents of a Jupyter Notebooks\r\nGet-ParsedSql                    \r\n                                  Get-ParsedSql [[-ScriptPath] <Object>]\r\n                                 \r\nGet-ParsedSqlOffsets             \r\n                                  Get-ParsedSqlOffsets [[-ScriptPath] <Object>] [[-IncludeGaps] <Object>] [-ExtractCommentsInsideBatches]\r\n                                  [<CommonParameters>]\r\n                                 \r\nInvoke-PowerShellNotebook         Invoke-PowerShellNotebook executes all the PowerShell code blocks in a PowerShell Notebook.\r\nloadScriptDomModules             \r\n                                  loadScriptDomModules\r\n                                 \r\nNew-PSNotebook                    Creates a new PowerShell Notebook that can be returned as text or saves as a `ipynb` file.\r\nNew-PSNotebookRunspace            New-PSNotebookRunspace instantiates the PSNotebookRunspace\r\nNew-SQLNotebook                   Creates a new PowerShell Notebook that can be returned as text or saves as a `ipynb` file.\r\n\r\n\r\n"
          },
          "output_type": "unknown"
        }
      ],
      "source": [
        "ipmo PowerShellNotebook\n",
        "$ProgressPreference = 'silentlyContinue'\n",
        "Get-command -Module PowerShellNotebook | Get-help | ft -a -wrap name,Synopsis |out-string -width 150"
      ]
    },
    {
      "cell_type": "code",
      "execution_count": null,
      "metadata": {
        "dotnet_interactive": {
          "language": "pwsh"
        }
      },
      "outputs": [
        {
          "data": {
            "text/plain": "\r\n"
          },
          "output_type": "unknown"
        },
        {
          "data": {
            "text/plain": "NoteBookName     : Git tutorial.ipynb\r\n"
          },
          "output_type": "unknown"
        },
        {
          "data": {
            "text/plain": "KernelName       : .net-csharp\r\n"
          },
          "output_type": "unknown"
        },
        {
          "data": {
            "text/plain": "CodeBlocks       : 47\r\n"
          },
          "output_type": "unknown"
        },
        {
          "data": {
            "text/plain": "MarkdownBlocks   : 33\r\n"
          },
          "output_type": "unknown"
        },
        {
          "data": {
            "text/plain": "NoteBookFullName : C:\\Users\\mcp\\Documents\\GitHub\\Notebooks\\notebooks\\Git tutorial.ipynb\r\n"
          },
          "output_type": "unknown"
        },
        {
          "data": {
            "text/plain": "\r\n"
          },
          "output_type": "unknown"
        },
        {
          "data": {
            "text/plain": "\r\n"
          },
          "output_type": "unknown"
        },
        {
          "data": {
            "text/plain": "\r\n"
          },
          "output_type": "unknown"
        },
        {
          "data": {
            "text/plain": "NoteBookName       Type     Source\r\n"
          },
          "output_type": "unknown"
        },
        {
          "data": {
            "text/plain": "------------       ----     ------\r\n"
          },
          "output_type": "unknown"
        },
        {
          "data": {
            "text/plain": "Git tutorial.ipynb markdown Here we are going to look at **git as purely local file management**. …\r\n"
          },
          "output_type": "unknown"
        },
        {
          "data": {
            "text/plain": "Git tutorial.ipynb code     cd ~…\r\n"
          },
          "output_type": "unknown"
        },
        {
          "data": {
            "text/plain": "Git tutorial.ipynb markdown Lets **Initialize a new local repo**.    …\r\n"
          },
          "output_type": "unknown"
        },
        {
          "data": {
            "text/plain": "Git tutorial.ipynb code     cd ~…\r\n"
          },
          "output_type": "unknown"
        },
        {
          "data": {
            "text/plain": "Git tutorial.ipynb markdown When we add a file to the directory, it is present in the file system,…\r\n"
          },
          "output_type": "unknown"
        },
        {
          "data": {
            "text/plain": "\r\n"
          },
          "output_type": "unknown"
        }
      ],
      "source": [
        "Get-Notebook '.\\Git tutorial.ipynb'\r\n",
        " \r\n",
        "Get-NotebookContent '.\\Git tutorial.ipynb' | Select -first 5 | ft "
      ]
    },
    {
      "cell_type": "markdown",
      "metadata": {},
      "source": [
        "## Mixed languages, even in a single block, & variable sharing via magic commands\n",
        "https://github.com/dotnet/interactive/blob/main/docs/variable-sharing.md "
      ]
    },
    {
      "cell_type": "code",
      "execution_count": null,
      "metadata": {
        "dotnet_interactive": {
          "language": "pwsh"
        }
      },
      "outputs": [
        {
          "data": {
            "text/plain": "Hello from PowerShell!\r\n"
          },
          "output_type": "unknown"
        },
        {
          "data": {
            "text/html": "<table><thead><tr><th><i>index</i></th><th>value</th></tr></thead><tbody><tr><td>0</td><td><div class=\"dni-plaintext\">0</div></td></tr><tr><td>1</td><td><div class=\"dni-plaintext\">1</div></td></tr><tr><td>2</td><td><div class=\"dni-plaintext\">2</div></td></tr><tr><td>3</td><td><div class=\"dni-plaintext\">3</div></td></tr><tr><td>4</td><td><div class=\"dni-plaintext\">4</div></td></tr><tr><td>5</td><td><div class=\"dni-plaintext\">5</div></td></tr></tbody></table>"
          },
          "output_type": "unknown"
        }
      ],
      "source": [
        "Write-Output \"Hello from PowerShell!\"\n",
        "\n",
        "#!fsharp\n",
        "let numbers = [0 .. 5]\n",
        "numbers"
      ]
    },
    {
      "cell_type": "code",
      "execution_count": null,
      "metadata": {
        "dotnet_interactive": {
          "language": "pwsh"
        }
      },
      "outputs": [
        {
          "data": {
            "text/plain": "0\r\n"
          },
          "output_type": "unknown"
        },
        {
          "data": {
            "text/plain": "1\r\n"
          },
          "output_type": "unknown"
        },
        {
          "data": {
            "text/plain": "2\r\n"
          },
          "output_type": "unknown"
        },
        {
          "data": {
            "text/plain": "3\r\n"
          },
          "output_type": "unknown"
        },
        {
          "data": {
            "text/plain": "4\r\n"
          },
          "output_type": "unknown"
        },
        {
          "data": {
            "text/plain": "5\r\n"
          },
          "output_type": "unknown"
        }
      ],
      "source": [
        "#!share  --from fsharp numbers\n",
        "$numbers"
      ]
    },
    {
      "cell_type": "code",
      "execution_count": null,
      "metadata": {
        "dotnet_interactive": {
          "language": "pwsh"
        }
      },
      "outputs": [],
      "source": [
        "#!value --name someJson\n",
        "{\n",
        "    \"what\": \"Some Json\",\n",
        "    \"why\": \"To share it!\"\n",
        "}"
      ]
    },
    {
      "cell_type": "code",
      "execution_count": null,
      "metadata": {
        "dotnet_interactive": {
          "language": "pwsh"
        }
      },
      "outputs": [
        {
          "data": {
            "text/plain": "\r\n"
          },
          "output_type": "unknown"
        },
        {
          "data": {
            "text/plain": "what      why\r\n"
          },
          "output_type": "unknown"
        },
        {
          "data": {
            "text/plain": "----      ---\r\n"
          },
          "output_type": "unknown"
        },
        {
          "data": {
            "text/plain": "Some Json To share it!\r\n"
          },
          "output_type": "unknown"
        },
        {
          "data": {
            "text/plain": "\r\n"
          },
          "output_type": "unknown"
        }
      ],
      "source": [
        "#!share someJson --from value\n",
        "ConvertFrom-Json -InputObject $someJson"
      ]
    },
    {
      "cell_type": "markdown",
      "metadata": {},
      "source": [
        "## List of Magic commands"
      ]
    },
    {
      "cell_type": "code",
      "execution_count": null,
      "metadata": {
        "dotnet_interactive": {
          "language": "pwsh"
        }
      },
      "outputs": [
        {
          "data": {
            "text/html": "<div><h3>.NET kernel</h3><div><div style=\"text-indent:1.5em\"><pre><span style=\"text-indent:1.5em; color:#512bd4\">#!sql</span></pre><div style=\"text-indent:3em\">Run the code that follows using the sql kernel.</div></div><div style=\"text-indent:1.5em\"><pre><span style=\"text-indent:1.5em; color:#512bd4\">#!csharp</span><span style=\"text-indent:1.5em; color:darkgray\">, </span><span style=\"text-indent:1.5em; color:#512bd4\">#!c#</span><span style=\"text-indent:1.5em; color:darkgray\">, </span><span style=\"text-indent:1.5em; color:#512bd4\">#!C#</span></pre><div style=\"text-indent:3em\">Run the code that follows using the csharp kernel.</div></div><div style=\"text-indent:1.5em\"><pre><span style=\"text-indent:1.5em; color:#512bd4\">#!fsharp</span><span style=\"text-indent:1.5em; color:darkgray\">, </span><span style=\"text-indent:1.5em; color:#512bd4\">#!f#</span><span style=\"text-indent:1.5em; color:darkgray\">, </span><span style=\"text-indent:1.5em; color:#512bd4\">#!F#</span></pre><div style=\"text-indent:3em\">Run the code that follows using the fsharp kernel.</div></div><div style=\"text-indent:1.5em\"><pre><span style=\"text-indent:1.5em; color:#512bd4\">#!pwsh</span><span style=\"text-indent:1.5em; color:darkgray\">, </span><span style=\"text-indent:1.5em; color:#512bd4\">#!powershell</span></pre><div style=\"text-indent:3em\">Run the code that follows using the pwsh kernel.</div></div><div style=\"text-indent:1.5em\"><pre><span style=\"text-indent:1.5em; color:#512bd4\">#!javascript</span><span style=\"text-indent:1.5em; color:darkgray\">, </span><span style=\"text-indent:1.5em; color:#512bd4\">#!js</span></pre><div style=\"text-indent:3em\">Run the code that follows using the javascript kernel.</div></div><div style=\"text-indent:1.5em\"><pre><span style=\"text-indent:1.5em; color:#512bd4\">#!html</span></pre><div style=\"text-indent:3em\">Run the code that follows using the html kernel.</div></div><div style=\"text-indent:1.5em\"><pre><span style=\"text-indent:1.5em; color:#512bd4\">#!value</span></pre><div style=\"text-indent:3em\">Stores a value that can then be shared with other subkernels.</div></div><div style=\"text-indent:1.5em\"><pre><span style=\"text-indent:1.5em; color:#512bd4\">#!lsmagic</span></pre><div style=\"text-indent:3em\">List the available magic commands / directives</div></div><div style=\"text-indent:1.5em\"><pre><span style=\"text-indent:1.5em; color:#512bd4\">#!markdown</span></pre><div style=\"text-indent:3em\">Convert the code that follows from Markdown into HTML</div></div><div style=\"text-indent:1.5em\"><pre><span style=\"text-indent:1.5em; color:#512bd4\">#!time</span></pre><div style=\"text-indent:3em\">Time the execution of the following code in the submission.</div></div><div style=\"text-indent:1.5em\"><pre><span style=\"text-indent:1.5em; color:#512bd4\">#!log</span></pre><div style=\"text-indent:3em\">Enables session logging.</div></div><div style=\"text-indent:1.5em\"><pre><span style=\"text-indent:1.5em; color:#512bd4\">#!about</span></pre><div style=\"text-indent:3em\">Show version and build information</div></div><div style=\"text-indent:1.5em\"><pre><span style=\"text-indent:1.5em; color:#512bd4\">#!connect</span></pre><div style=\"text-indent:3em\">Connects additional subkernels</div><div style=\"text-indent:3em\"><pre><span style=\"text-indent:4.5em; color:#512bd4\">named-pipe</span></pre><div style=\"text-indent:6em\">Connects to a kernel using named pipes</div></div><div style=\"text-indent:3em\"><pre><span style=\"text-indent:4.5em; color:#512bd4\">signalr</span></pre><div style=\"text-indent:6em\">Connects to a kernel using SignalR</div></div><div style=\"text-indent:3em\"><pre><span style=\"text-indent:4.5em; color:#512bd4\">client</span></pre><div style=\"text-indent:6em\">Connects to a client-side kernel</div></div></div></div></div>"
          },
          "output_type": "unknown"
        },
        {
          "data": {
            "text/html": "<div><h3>sql kernel</h3><div><div style=\"text-indent:1.5em\"><pre><span style=\"text-indent:1.5em; color:#512bd4\">#!lsmagic</span></pre><div style=\"text-indent:3em\">List the available magic commands / directives</div></div></div></div>"
          },
          "output_type": "unknown"
        },
        {
          "data": {
            "text/html": "<div><h3>csharp kernel</h3><div><div style=\"text-indent:1.5em\"><pre><span style=\"text-indent:1.5em; color:#512bd4\">#i</span></pre><div style=\"text-indent:3em\"><div class=\"dni-plaintext\">&lt;null&gt;</div></div></div><div style=\"text-indent:1.5em\"><pre><span style=\"text-indent:1.5em; color:#512bd4\">#r</span></pre><div style=\"text-indent:3em\"><div class=\"dni-plaintext\">&lt;null&gt;</div></div></div><div style=\"text-indent:1.5em\"><pre><span style=\"text-indent:1.5em; color:#512bd4\">#!whos</span><span style=\"text-indent:1.5em; color:darkgray\">, </span><span style=\"text-indent:1.5em; color:#512bd4\">#!who</span></pre><div style=\"text-indent:3em\">Display the names of the current top-level variables and their values.</div></div><div style=\"text-indent:1.5em\"><pre><span style=\"text-indent:1.5em; color:#512bd4\">#!share</span></pre><div style=\"text-indent:3em\">Share a .NET variable between subkernels</div></div><div style=\"text-indent:1.5em\"><pre><span style=\"text-indent:1.5em; color:#512bd4\">#!aspnet</span></pre><div style=\"text-indent:3em\">Activate ASP.NET Core</div></div><div style=\"text-indent:1.5em\"><pre><span style=\"text-indent:1.5em; color:#512bd4\">#!aspnet-stop</span></pre><div style=\"text-indent:3em\">Stop ASP.NET Core host</div></div><div style=\"text-indent:1.5em\"><pre><span style=\"text-indent:1.5em; color:#512bd4\">#!lsmagic</span></pre><div style=\"text-indent:3em\">List the available magic commands / directives</div></div></div></div>"
          },
          "output_type": "unknown"
        },
        {
          "data": {
            "text/html": "<div><h3>fsharp kernel</h3><div><div style=\"text-indent:1.5em\"><pre><span style=\"text-indent:1.5em; color:#512bd4\">#i</span></pre><div style=\"text-indent:3em\"><div class=\"dni-plaintext\">&lt;null&gt;</div></div></div><div style=\"text-indent:1.5em\"><pre><span style=\"text-indent:1.5em; color:#512bd4\">#r</span></pre><div style=\"text-indent:3em\"><div class=\"dni-plaintext\">&lt;null&gt;</div></div></div><div style=\"text-indent:1.5em\"><pre><span style=\"text-indent:1.5em; color:#512bd4\">#!whos</span><span style=\"text-indent:1.5em; color:darkgray\">, </span><span style=\"text-indent:1.5em; color:#512bd4\">#!who</span></pre><div style=\"text-indent:3em\">Display the names of the current top-level variables and their values.</div></div><div style=\"text-indent:1.5em\"><pre><span style=\"text-indent:1.5em; color:#512bd4\">#!share</span></pre><div style=\"text-indent:3em\">Share a .NET variable between subkernels</div></div><div style=\"text-indent:1.5em\"><pre><span style=\"text-indent:1.5em; color:#512bd4\">#!lsmagic</span></pre><div style=\"text-indent:3em\">List the available magic commands / directives</div></div></div></div>"
          },
          "output_type": "unknown"
        },
        {
          "data": {
            "text/html": "<div><h3>pwsh kernel</h3><div><div style=\"text-indent:1.5em\"><pre><span style=\"text-indent:1.5em; color:#512bd4\">#!share</span></pre><div style=\"text-indent:3em\">Share a .NET variable between subkernels</div></div><div style=\"text-indent:1.5em\"><pre><span style=\"text-indent:1.5em; color:#512bd4\">#!lsmagic</span></pre><div style=\"text-indent:3em\">List the available magic commands / directives</div></div></div></div>"
          },
          "output_type": "unknown"
        },
        {
          "data": {
            "text/html": "<div><h3>javascript kernel</h3><div><div style=\"text-indent:1.5em\"><pre><span style=\"text-indent:1.5em; color:#512bd4\">#!lsmagic</span></pre><div style=\"text-indent:3em\">List the available magic commands / directives</div></div></div></div>"
          },
          "output_type": "unknown"
        },
        {
          "data": {
            "text/html": "<div><h3>html kernel</h3><div><div style=\"text-indent:1.5em\"><pre><span style=\"text-indent:1.5em; color:#512bd4\">#!lsmagic</span></pre><div style=\"text-indent:3em\">List the available magic commands / directives</div></div></div></div>"
          },
          "output_type": "unknown"
        },
        {
          "data": {
            "text/html": "<div><h3>value kernel</h3><div><div style=\"text-indent:1.5em\"><pre><span style=\"text-indent:1.5em; color:#512bd4\">#!whos</span><span style=\"text-indent:1.5em; color:darkgray\">, </span><span style=\"text-indent:1.5em; color:#512bd4\">#!who</span></pre><div style=\"text-indent:3em\">Display the names of the current top-level variables and their values.</div></div><div style=\"text-indent:1.5em\"><pre><span style=\"text-indent:1.5em; color:#512bd4\">#!lsmagic</span></pre><div style=\"text-indent:3em\">List the available magic commands / directives</div></div></div></div>"
          },
          "output_type": "unknown"
        }
      ],
      "source": [
        "#!lsmagic"
      ]
    }
  ],
  "metadata": {
    "kernelspec": {
      "display_name": ".NET (C#)",
      "language": "C#",
      "name": ".net-csharp"
    },
    "language_info": {
      "file_extension": ".cs",
      "mimetype": "text/x-csharp",
      "name": "C#",
      "pygments_lexer": "csharp",
      "version": "8.0"
    }
  },
  "nbformat": 4,
  "nbformat_minor": 4
}