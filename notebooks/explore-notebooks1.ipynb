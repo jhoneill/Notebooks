{
  "cells": [
    {
      "cell_type": "markdown",
      "source": [
        "## What version are we?"
      ],
      "metadata": {}
    },
    {
      "cell_type": "code",
      "execution_count": null,
      "source": [
        "#!about"
      ],
      "outputs": [
        {
          "output_type": "display_data",
          "data": {
            "text/html": [
              "<table><tbody><tr><td><img src=\"data:image/png;base64, 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\" width=\"125em\"></img></td><td style=\"line-height:.8em\"><p style=\"font-size:1.5em\"><b>.NET Interactive</b></p><p>&#169; 2020 Microsoft Corporation</p><p><b>Version: </b>1.0.240403+56a0e392fba305af06e72ce7dec885b2b6722c00</p><p><b>Build date: </b>2021-08-09T11:46:14.5291024Z</p><p><a href=\"https://github.com/dotnet/interactive\">https://github.com/dotnet/interactive</a></p></td></tr></tbody></table>"
            ]
          },
          "metadata": {}
        }
      ],
      "metadata": {
        "dotnet_interactive": {
          "language": "pwsh"
        }
      }
    },
    {
      "cell_type": "code",
      "execution_count": null,
      "source": [
        "$psversionTable"
      ],
      "outputs": [
        {
          "output_type": "stream",
          "name": "stdout",
          "text": [
            "\r\n",
            "Name                           Value\r\n",
            "----                           -----\r\n",
            "PSVersion                      7.1.3\r\n",
            "PSEdition                      Core\r\n",
            "GitCommitId                    7.1.3\r\n",
            "OS                             Microsoft Windows 10.0.19042\r\n",
            "Platform                       Win32NT\r\n",
            "PSCompatibleVersions           {1.0, 2.0, 3.0, 4.0…}\r\n",
            "PSRemotingProtocolVersion      2.3\r\n",
            "SerializationVersion           1.1.0.1\r\n",
            "WSManStackVersion              3.0\r\n",
            "\r\n"
          ]
        }
      ],
      "metadata": {
        "dotnet_interactive": {
          "language": "pwsh"
        }
      }
    },
    {
      "cell_type": "code",
      "execution_count": null,
      "source": [
        "$host.Name\r\n",
        "$host.UI.RawUI"
      ],
      "outputs": [
        {
          "output_type": "stream",
          "name": "stdout",
          "text": [
            ".NET Interactive Host\r\n",
            "\r\n",
            "ForegroundColor       : -1\r\n",
            "BackgroundColor       : -1\r\n",
            "CursorPosition        : \r\n",
            "WindowPosition        : \r\n",
            "CursorSize            : \r\n",
            "BufferSize            : 100,50\r\n",
            "WindowSize            : 100,50\r\n",
            "MaxWindowSize         : 100,50\r\n",
            "MaxPhysicalWindowSize : 100,50\r\n",
            "KeyAvailable          : \r\n",
            "WindowTitle           : \r\n",
            "\r\n",
            "\r\n"
          ]
        }
      ],
      "metadata": {
        "dotnet_interactive": {
          "language": "pwsh"
        }
      }
    },
    {
      "cell_type": "markdown",
      "source": [
        "## Markdown cells contain formatted text and images \r\n",
        "\r\n",
        "* *emphasis*\r\n",
        "* **Strong Emphasis**\r\n",
        "* `code`\r\n",
        "* etc. \r\n",
        "\r\n",
        "```\r\n",
        " Write-Host \"This is a script block formatted as PowerShell\" -fore red\r\n",
        " # How good the format is varies ! \r\n",
        "```\r\n",
        "\r\n",
        "**Folding** markdown cells hides the code cells between them and the next markdown with the same heading level.   \r\n",
        "**Warning** \\# signs at the start of a line in a code will be misinterpreted by the folding algorithm as heading markers, so indent them as a work-round.  \r\n",
        "\r\n",
        "Local images work better if the path is relative to the .ipynb file or they can be fetched over http    \r\n",
        "![Untitled2.png](./Untitled2.png)    \r\n",
        "![James Avatar](https://jhoneill.github.io/assets/james.jpg)\r\n",
        "\r\n",
        "It is also possible to have code cells which contain markdown or html... "
      ],
      "metadata": {}
    },
    {
      "cell_type": "code",
      "execution_count": null,
      "source": [
        "<strong>.NET interactive allows Cells to have a <em>language</em> of 'HTML'</strong><br/>  \r\n",
        "Language is selected with <em>Magic commands</em> <code>#!html</code>, <code>#!pwsh</code>, \r\n",
        "<code>#!javascript</code>, <code>#!fsharp</code> and <code>#!csharp</code>. <br/>\r\n",
        "There is a full list of magic commands further down."
      ],
      "outputs": [
        {
          "output_type": "display_data",
          "data": {
            "text/html": [
              "<strong>.NET interactive allows Cells to have a <em>language</em> of 'HTML'</strong><br/>  \r\n",
              "Language is selected with <em>Magic commands</em> <code>#!html</code>, <code>#!pwsh</code>, \r\n",
              "<code>#!javascript</code>, <code>#!fsharp</code> and <code>#!csharp</code>. <br/>\r\n",
              "There is a full list of magic commands further down."
            ]
          },
          "metadata": {}
        }
      ],
      "metadata": {
        "dotnet_interactive": {
          "language": "html"
        }
      }
    },
    {
      "cell_type": "code",
      "execution_count": null,
      "source": [
        "#!markdown\r\n",
        "**Or a language of _Markdown_**"
      ],
      "outputs": [
        {
          "output_type": "display_data",
          "data": {
            "text/html": [
              "<p><strong>Or a language of <em>Markdown</em></strong></p>\n"
            ]
          },
          "metadata": {}
        }
      ],
      "metadata": {
        "dotnet_interactive": {
          "language": "csharp"
        }
      }
    },
    {
      "cell_type": "markdown",
      "source": [
        "## We can do normal shell / command-line things ... \r\n",
        "Note: some commands don't like the `.NET interactive` Kernel in VSCode, but will run if you select the `.NET (PowerShell)` Kernel"
      ],
      "metadata": {}
    },
    {
      "cell_type": "code",
      "execution_count": null,
      "source": [
        "nslookup google.com"
      ],
      "outputs": [
        {
          "output_type": "stream",
          "name": "stdout",
          "text": [
            "Non-authoritative answer:\r\n",
            "\r\n",
            "Server:  cache1.service.virginmedia.net\r\n",
            "Address:  194.168.4.100\r\n",
            "\r\n",
            "Name:    google.com\r\n",
            "Addresses:  2a00:1450:4009:822::200e\r\n",
            "\t  142.250.200.14\r\n",
            "\r\n"
          ]
        }
      ],
      "metadata": {
        "dotnet_interactive": {
          "language": "pwsh"
        }
      }
    },
    {
      "cell_type": "code",
      "execution_count": null,
      "source": [
        "write-host -ForegroundColor Green \"boo hoo\""
      ],
      "outputs": [
        {
          "output_type": "unknown",
          "data": {
            "text/plain": [
              "\u001b[92mboo hoo\u001b[0m\r\n"
            ]
          }
        }
      ],
      "metadata": {
        "dotnet_interactive": {
          "language": "pwsh"
        }
      }
    },
    {
      "cell_type": "markdown",
      "source": [
        "## Where were we called from ?"
      ],
      "metadata": {}
    },
    {
      "cell_type": "code",
      "execution_count": null,
      "source": [
        "$pshome\r\n",
        "$p = Get-process -id $pid   \r\n",
        "$p, $p.Parent, $p.Parent.Parent,$p.Parent.Parent.parent,$p.Parent.Parent.parent.parent\r\n",
        "Get-CimInstance -ClassName win32_process -Filter \"processID = $($p.id)\" |  select -expand commandline\r\n",
        "Get-CimInstance -ClassName win32_process -Filter \"processID = $($p.Parent.id)\" |  select -expand commandline\r\n",
        "Get-CimInstance -ClassName win32_process -Filter \"processID = $($p.Parent.parent.id)\" |  select -expand commandline\r\n",
        "Get-CimInstance -ClassName win32_process -Filter \"processID = $($p.Parent.parent.parent.id)\" |  select -expand commandline\r\n",
        "Get-CimInstance -ClassName win32_process -Filter \"processID = $($p.Parent.parent.parent.parent.id)\" |  select -expand commandline"
      ],
      "outputs": [
        {
          "output_type": "stream",
          "name": "stdout",
          "text": [
            "C:\\Users\\P10506111\\.nuget\\packages\\microsoft.dotnet-interactive\\1.0.240403\\tools\\net5.0\\any\\runtimes\\win\\lib\\net5.0\r\n",
            "\r\n",
            " NPM(K)    PM(M)      WS(M)     CPU(s)      Id  SI ProcessName\r\n",
            " ------    -----      -----     ------      --  -- -----------\r\n",
            "    214   699.83     422.31      28.58     412   1 dotnet\r\n",
            "     27    14.16      24.10       0.64   18932   1 dotnet\r\n",
            "     26    94.20     127.22      35.45   18580   1 Code\r\n",
            "     35   290.31     339.45     887.80    2884   1 Code\r\n",
            "     59   102.76     103.36     505.61   22020   1 Code\r\n",
            "\"C:\\Program Files\\dotnet\\dotnet.exe\" C:\\Users\\P10506111\\.nuget\\packages\\microsoft.dotnet-interactive\\1.0.240403\\tools/net5.0/any/Microsoft.DotNet.Interactive.App.dll [vscode] stdio --working-dir c:\\Users\\P10506111\\Documents\\github\\Notebooks\\notebooks --http-port 59480\r\n",
            "dotnet tool run dotnet-interactive -- [vscode] stdio --working-dir c:\\Users\\P10506111\\Documents\\github\\Notebooks\\notebooks --http-port 59480\r\n",
            "\"C:\\Program Files\\Microsoft VS Code\\Code.exe\" --inspect-port=0 \"c:\\Program Files\\Microsoft VS Code\\resources\\app\\out\\bootstrap-fork\" --type=extensionHost --skipWorkspaceStorageLock\r\n",
            "\"C:\\Program Files\\Microsoft VS Code\\Code.exe\" --type=renderer --disable-color-correct-rendering --field-trial-handle=1560,9945463025709529982,11777921408355234851,131072 --disable-features=CookiesWithoutSameSiteMustBeSecure,SameSiteByDefaultCookies,SpareRendererForSitePerProcess,WinRetrieveSuggestionsOnlyOnDemand --lang=en-GB --user-data-dir=\"C:\\Users\\P10506111\\AppData\\Roaming\\Code\" --standard-schemes=vscode-webview,vscode-file --secure-schemes=vscode-webview,vscode-file --bypasscsp-schemes --cors-schemes=vscode-webview,vscode-file --fetch-schemes=vscode-webview,vscode-file --service-worker-schemes=vscode-webview --streaming-schemes --app-user-model-id=Microsoft.VisualStudioCode --app-path=\"C:\\Program Files\\Microsoft VS Code\\resources\\app\" --no-sandbox --no-zygote --device-scale-factor=1.25 --num-raster-threads=4 --enable-main-frame-before-activation --renderer-client-id=69 --no-v8-untrusted-code-mitigations --mojo-platform-channel-handle=14320 /prefetch:1 --vscode-window-config=vscode:e97d5b27-88eb-4b23-9c01-08bda34e900b\r\n",
            "\"C:\\Program Files\\Microsoft VS Code\\Code.exe\"\r\n",
            "\r\n"
          ]
        }
      ],
      "metadata": {
        "dotnet_interactive": {
          "language": "pwsh"
        }
      }
    },
    {
      "cell_type": "markdown",
      "source": [
        "*In a browser you can check who owns the port you connected to*   \r\n",
        "Note: things which display a progress bar and then try to close it caused errors, so we turned progress display off. This seems to be fixed now :-) "
      ],
      "metadata": {}
    },
    {
      "cell_type": "code",
      "execution_count": null,
      "source": [
        "# $ProgressPreference = 'silentlyContinue'\r\n",
        "Get-NetTCPConnection -LocalPort 9815,8888 -State Listen | ft -a"
      ],
      "outputs": [],
      "metadata": {
        "dotnet_interactive": {
          "language": "pwsh"
        }
      }
    },
    {
      "cell_type": "markdown",
      "source": [
        "## PowerShell modules loaded in a clean session, and modules available"
      ],
      "metadata": {}
    },
    {
      "cell_type": "code",
      "execution_count": null,
      "source": [
        "Get-module"
      ],
      "outputs": [],
      "metadata": {
        "dotnet_interactive": {
          "language": "pwsh"
        }
      }
    },
    {
      "cell_type": "code",
      "execution_count": null,
      "source": [
        "Get-Module -ListAvailable | \r\n",
        "    group -no -Property @{e={\r\n",
        "        Split-Path -Parent $_.Path | \r\n",
        "            %{if ([Version]::TryParse((Split-Path $_ -Leaf), [ref]$null)) {Split-Path -Parent $_} else {$_} } | \r\n",
        "                 Split-Path -Parent\r\n",
        "     }} | ft -AutoSize -wrap | Out-string -width 150"
      ],
      "outputs": [
        {
          "output_type": "stream",
          "name": "stdout",
          "text": [
            "\r\n",
            "Count Name\r\n",
            "----- ----\r\n",
            "    3 C:\\Program Files\\PowerShell\\Modules\r\n",
            "  220 C:\\Program Files\\WindowsPowerShell\\Modules\r\n",
            "    5 C:\\Users\\P10506111\\.nuget\\packages\\microsoft.dotnet-interactive\\1.0.240403\\tools\\net5.0\\any\\Modules\r\n",
            "    8 C:\\users\\p10506111\\.nuget\\packages\\microsoft.dotnet-interactive\\1.0.240403\\tools\\net5.0\\any\\runtimes\\win\\lib\\net5.0\\Modules\r\n",
            "   91 C:\\Users\\P10506111\\Documents\\PowerShell\\Modules\r\n",
            "   55 C:\\WINDOWS\\system32\\WindowsPowerShell\\v1.0\\Modules\r\n",
            "\r\n",
            "\r\n"
          ]
        }
      ],
      "metadata": {
        "dotnet_interactive": {
          "language": "pwsh"
        }
      }
    },
    {
      "cell_type": "code",
      "execution_count": null,
      "source": [
        "Get-Module -ListAvailable | where path -Match \"interactive\" | ft name ,exportedCommands | Out-String -Width 150"
      ],
      "outputs": [
        {
          "output_type": "stream",
          "name": "stdout",
          "text": [
            "\r\n",
            "Name                                    ExportedCommands\r\n",
            "----                                    ----------------\r\n",
            "Microsoft.DotNet.Interactive.PowerShell {[Enter-AzShell, Enter-AzShell], [Out-Display, Out-Display], [od, od]}\r\n",
            "Microsoft.PowerShell.Archive            {[Compress-Archive, Compress-Archive], [Expand-Archive, Expand-Archive]}\r\n",
            "PackageManagement                       {[Find-Package, Find-Package], [Get-Package, Get-Package], [Get-PackageProvider, Get-PackageProvider], [Get-P…\r\n",
            "PowerShellGet                           {[Find-Command, Find-Command], [Find-DSCResource, Find-DSCResource], [Find-Module, Find-Module], [Find-RoleCa…\r\n",
            "ThreadJob                               {[Start-ThreadJob, Start-ThreadJob]}\r\n",
            "CimCmdlets                              {[Get-CimAssociatedInstance, Get-CimAssociatedInstance], [Get-CimClass, Get-CimClass], [Get-CimInstance, Get-…\r\n",
            "Microsoft.PowerShell.Diagnostics        {[Get-WinEvent, Get-WinEvent], [New-WinEvent, New-WinEvent], [Get-Counter, Get-Counter]}\r\n",
            "Microsoft.PowerShell.Host               {[Start-Transcript, Start-Transcript], [Stop-Transcript, Stop-Transcript]}\r\n",
            "Microsoft.PowerShell.Management         {[Add-Content, Add-Content], [Clear-Content, Clear-Content], [Get-Clipboard, Get-Clipboard], [Set-Clipboard, …\r\n",
            "Microsoft.PowerShell.Security           {[Get-Acl, Get-Acl], [Set-Acl, Set-Acl], [Get-PfxCertificate, Get-PfxCertificate], [Get-Credential, Get-Crede…\r\n",
            "Microsoft.PowerShell.Utility            {[Export-Alias, Export-Alias], [Get-Alias, Get-Alias], [Import-Alias, Import-Alias], [New-Alias, New-Alias]…}\r\n",
            "Microsoft.WSMan.Management              {[Disable-WSManCredSSP, Disable-WSManCredSSP], [Enable-WSManCredSSP, Enable-WSManCredSSP], [Get-WSManCredSSP,…\r\n",
            "PSDiagnostics                           {[Disable-PSTrace, Disable-PSTrace], [Disable-PSWSManCombinedTrace, Disable-PSWSManCombinedTrace], [Disable-W…\r\n",
            "\r\n",
            "\r\n"
          ]
        }
      ],
      "metadata": {
        "dotnet_interactive": {
          "language": "pwsh"
        }
      }
    },
    {
      "cell_type": "markdown",
      "source": [
        "## What is in the PowerShell module that comes with .Net Interactive ? "
      ],
      "metadata": {}
    },
    {
      "cell_type": "code",
      "execution_count": null,
      "source": [
        "ipmo Microsoft.DotNet.Interactive.PowerShell\r\n",
        "Get-command -Module Microsoft.DotNet.Interactive.PowerShell"
      ],
      "outputs": [
        {
          "output_type": "stream",
          "name": "stdout",
          "text": [
            "\r\n",
            "CommandType     Name                                               Version    Source\r\n",
            "-----------     ----                                               -------    ------\r\n",
            "Cmdlet          Enter-AzShell                                      0.1.0      Microsoft.DotNet.Int…\r\n",
            "Cmdlet          Out-Display                                        0.1.0      Microsoft.DotNet.Int…\r\n",
            "\r\n"
          ]
        }
      ],
      "metadata": {
        "dotnet_interactive": {
          "language": "pwsh"
        }
      }
    },
    {
      "cell_type": "markdown",
      "source": [
        "## Out-Display & preformed HTML\r\n",
        "First magic command  `#!time` and use of  `[Microsoft.DotNet.Interactive.Kernel]::HTML($html)` "
      ],
      "metadata": {}
    },
    {
      "cell_type": "code",
      "execution_count": null,
      "source": [
        "#!time \r\n",
        "$x = \"Counting\" | Out-Display -PassThru\r\n",
        "1..5 | %{sleep 1; $x.Update($_) }"
      ],
      "outputs": [
        {
          "output_type": "display_data",
          "data": {
            "text/html": [
              "<div class=\"dni-plaintext\">5</div>"
            ]
          },
          "metadata": {}
        },
        {
          "output_type": "display_data",
          "data": {
            "text/plain": [
              "Wall time: 5122.7097ms"
            ]
          },
          "metadata": {}
        }
      ],
      "metadata": {
        "dotnet_interactive": {
          "language": "pwsh"
        }
      }
    },
    {
      "cell_type": "code",
      "execution_count": null,
      "source": [
        "$html = Get-Command -Module Microsoft.DotNet.Interactive.PowerShell | \r\n",
        "        ConvertTo-Html -Fragment -Property Name , Version \r\n",
        "\r\n",
        "[Microsoft.DotNet.Interactive.Kernel]::HTML($html) | Out-Display"
      ],
      "outputs": [
        {
          "output_type": "display_data",
          "data": {
            "text/html": [
              "<table> <colgroup><col/><col/></colgroup> <tr><th>Name</th><th>Version</th></tr> <tr><td>Enter-AzShell</td><td>0.1.0</td></tr> <tr><td>Out-Display</td><td>0.1.0</td></tr> </table>"
            ]
          },
          "metadata": {}
        }
      ],
      "metadata": {
        "dotnet_interactive": {
          "language": "pwsh"
        }
      }
    },
    {
      "cell_type": "markdown",
      "source": [
        "**If you don't have the files for the next code-cell skip it and load the SVG data from the following one**"
      ],
      "metadata": {}
    },
    {
      "cell_type": "code",
      "execution_count": null,
      "source": [
        "Import-Module ~\\documents\\azdo\\serverautomationdemo\\utils\\PSGraph\\ -Force # My version!\r\n",
        ". ~\\documents\\azdo\\serverautomationdemo\\utils\\PlotDevopsPipelines.ps1\r\n",
        "\r\n",
        "$svg = plot_pipeline ~\\documents\\azdo\\serverautomationdemo\\CI\\FollowOn.pipeline.yml  -DestinationPath \"\" \r\n",
        "$svg | out-file -Encoding utf8 -path ./demo.svg"
      ],
      "outputs": [],
      "metadata": {
        "dotnet_interactive": {
          "language": "pwsh"
        }
      }
    },
    {
      "cell_type": "markdown",
      "source": [
        "**If you used the previous code-cell you can skip the next one**"
      ],
      "metadata": {}
    },
    {
      "cell_type": "code",
      "execution_count": null,
      "source": [
        "$svg = Get-Content ./demo.svg"
      ],
      "outputs": [],
      "metadata": {
        "dotnet_interactive": {
          "language": "pwsh"
        }
      }
    },
    {
      "cell_type": "code",
      "execution_count": null,
      "source": [
        "[Microsoft.DotNet.Interactive.Kernel]::HTML($svg) | Out-Display"
      ],
      "outputs": [
        {
          "output_type": "display_data",
          "data": {
            "text/html": [
              "<?xml version=\"1.0\" encoding=\"UTF-8\" standalone=\"no\"?> <!DOCTYPE svg PUBLIC \"-//W3C//DTD SVG 1.1//EN\"  \"http://www.w3.org/Graphics/SVG/1.1/DTD/svg11.dtd\"> <!-- Generated by graphviz version 2.38.0 (20140413.2041)  --> <!-- Title: g Pages: 1 --> <svg width=\"248pt\" height=\"279pt\"  viewBox=\"0.00 0.00 248.00 279.00\" xmlns=\"http://www.w3.org/2000/svg\" xmlns:xlink=\"http://www.w3.org/1999/xlink\"> <g id=\"graph0\" class=\"graph\" transform=\"scale(1 1) rotate(0) translate(4 275)\"> <title>g</title> <polygon fill=\"white\" stroke=\"none\" points=\"-4,4 -4,-275 244,-275 244,4 -4,4\"/> <g id=\"clust1\" class=\"cluster\"><title>cluster9f89ca4c2be5</title> <polygon fill=\"none\" stroke=\"black\" points=\"8,-8 8,-227 232,-227 232,-8 8,-8\"/> <text text-anchor=\"middle\" x=\"120\" y=\"-211.8\" font-family=\"Times New Roman,serif\" font-size=\"14.00\">Stage: FollowOnStage</text> </g> <!-- FollowOn.pipeline --> <g id=\"node1\" class=\"node\"><title>FollowOn.pipeline</title> <polygon fill=\"none\" stroke=\"black\" points=\"179.5,-271 60.5,-271 60.5,-235 179.5,-235 179.5,-271\"/> <text text-anchor=\"middle\" x=\"120\" y=\"-249.3\" font-family=\"Times New Roman,serif\" font-size=\"14.00\">FollowOn.pipeline</text> </g> <!-- Job: ExitStageLeft --> <g id=\"node3\" class=\"node\"><title>Job: ExitStageLeft</title> <polygon fill=\"none\" stroke=\"black\" points=\"179.5,-196 60.5,-196 60.5,-160 179.5,-160 179.5,-196\"/> <text text-anchor=\"middle\" x=\"120\" y=\"-174.3\" font-family=\"Times New Roman,serif\" font-size=\"14.00\">Job: ExitStageLeft</text> </g> <!-- FollowOn.pipeline&#45;&gt;Job: ExitStageLeft --> <g id=\"edge3\" class=\"edge\"><title>FollowOn.pipeline&#45;&gt;Job: ExitStageLeft</title> <path fill=\"none\" stroke=\"black\" d=\"M120,-234.7C120,-226.245 120,-215.869 120,-206.373\"/> <polygon fill=\"black\" stroke=\"black\" points=\"123.5,-206.176 120,-196.176 116.5,-206.176 123.5,-206.176\"/> </g> <!-- 9f89ca4c2be5 --> <!-- DownloadPipelineArtifact --> <g id=\"node4\" class=\"node\"><title>DownloadPipelineArtifact</title> <ellipse fill=\"none\" stroke=\"black\" cx=\"120\" cy=\"-106\" rx=\"103.982\" ry=\"18\"/> <text text-anchor=\"middle\" x=\"120\" y=\"-102.3\" font-family=\"Times New Roman,serif\" font-size=\"14.00\">DownloadPipelineArtifact</text> </g> <!-- Job: ExitStageLeft&#45;&gt;DownloadPipelineArtifact --> <g id=\"edge1\" class=\"edge\"><title>Job: ExitStageLeft&#45;&gt;DownloadPipelineArtifact</title> <path fill=\"none\" stroke=\"black\" d=\"M120,-159.697C120,-151.983 120,-142.712 120,-134.112\"/> <polygon fill=\"black\" stroke=\"black\" points=\"123.5,-134.104 120,-124.104 116.5,-134.104 123.5,-134.104\"/> </g> <!-- PowerShell --> <g id=\"node5\" class=\"node\"><title>PowerShell</title> <ellipse fill=\"none\" stroke=\"black\" cx=\"120\" cy=\"-34\" rx=\"51.9908\" ry=\"18\"/> <text text-anchor=\"middle\" x=\"120\" y=\"-30.3\" font-family=\"Times New Roman,serif\" font-size=\"14.00\">PowerShell</text> </g> <!-- DownloadPipelineArtifact&#45;&gt;PowerShell --> <g id=\"edge2\" class=\"edge\"><title>DownloadPipelineArtifact&#45;&gt;PowerShell</title> <path fill=\"none\" stroke=\"black\" d=\"M120,-87.6966C120,-79.9827 120,-70.7125 120,-62.1124\"/> <polygon fill=\"black\" stroke=\"black\" points=\"123.5,-62.1043 120,-52.1043 116.5,-62.1044 123.5,-62.1043\"/> </g> </g> </svg>"
            ]
          },
          "metadata": {}
        }
      ],
      "metadata": {
        "dotnet_interactive": {
          "language": "pwsh"
        }
      }
    },
    {
      "cell_type": "markdown",
      "source": [
        "## My wrapper for Out-Display"
      ],
      "metadata": {}
    },
    {
      "cell_type": "code",
      "execution_count": null,
      "source": [
        ". .\\NotebookOutput.ps1\r\n",
        "Out-cell -? | select -ExpandProperty Description | Out-String"
      ],
      "outputs": [
        {
          "output_type": "stream",
          "name": "stdout",
          "text": [
            "\r\n",
            "This command has three ways of working. It can\r\n",
            "* Take HTML (via the pipeline or as a parameter) and output it into a cell\r\n",
            "* Make an HTML table or list from objects, selecting properties, first, last etc.\r\n",
            "* Take a script block to generate html or objects to transform to a list/table\r\n",
            "\r\n",
            "\r\n",
            "\r\n"
          ]
        }
      ],
      "metadata": {
        "dotnet_interactive": {
          "language": "pwsh"
        }
      }
    },
    {
      "cell_type": "code",
      "execution_count": null,
      "source": [
        "# Pipe in , convert to table.\r\n",
        "Get-command -Module  Microsoft.DotNet.Interactive.PowerShell \r\n",
        "    | Out-Cell -AsTable name,version"
      ],
      "outputs": [
        {
          "output_type": "display_data",
          "data": {
            "text/html": [
              "<table> <colgroup><col/><col/></colgroup> <tr><th>Name</th><th>Version</th></tr> <tr><td>Enter-AzShell</td><td>0.1.0</td></tr> <tr><td>Out-Display</td><td>0.1.0</td></tr> </table>"
            ]
          },
          "metadata": {}
        }
      ],
      "metadata": {
        "dotnet_interactive": {
          "language": "pwsh"
        }
      }
    },
    {
      "cell_type": "code",
      "execution_count": null,
      "source": [
        "#Pass script block, format as list\r\n",
        "Cell -AsList name,version {\r\n",
        "    Get-command -Module  Microsoft.DotNet.Interactive.PowerShell \r\n",
        "}"
      ],
      "outputs": [
        {
          "output_type": "display_data",
          "data": {
            "text/html": [
              "<table> <tr><td>Name:</td><td>Enter-AzShell</td></tr> <tr><td>Version:</td><td>0.1.0</td></tr> <tr><td><hr></td></tr> <tr><td>Name:</td><td>Out-Display</td></tr> <tr><td>Version:</td><td>0.1.0</td></tr> </table>"
            ]
          },
          "metadata": {}
        }
      ],
      "metadata": {
        "dotnet_interactive": {
          "language": "pwsh"
        }
      }
    },
    {
      "cell_type": "code",
      "execution_count": null,
      "source": [
        "#Relies on earlier cell to set $svg - pass raw output in a variable  \r\n",
        "if ($svg) {\r\n",
        "    cell $svg\r\n",
        "}"
      ],
      "outputs": [
        {
          "output_type": "display_data",
          "data": {
            "text/html": [
              "<?xml version=\"1.0\" encoding=\"UTF-8\" standalone=\"no\"?><!DOCTYPE svg PUBLIC \"-//W3C//DTD SVG 1.1//EN\" \"http://www.w3.org/Graphics/SVG/1.1/DTD/svg11.dtd\"><!-- Generated by graphviz version 2.38.0 (20140413.2041) --><!-- Title: g Pages: 1 --><svg width=\"248pt\" height=\"279pt\" viewBox=\"0.00 0.00 248.00 279.00\" xmlns=\"http://www.w3.org/2000/svg\" xmlns:xlink=\"http://www.w3.org/1999/xlink\"><g id=\"graph0\" class=\"graph\" transform=\"scale(1 1) rotate(0) translate(4 275)\"><title>g</title><polygon fill=\"white\" stroke=\"none\" points=\"-4,4 -4,-275 244,-275 244,4 -4,4\"/><g id=\"clust1\" class=\"cluster\"><title>cluster9f89ca4c2be5</title><polygon fill=\"none\" stroke=\"black\" points=\"8,-8 8,-227 232,-227 232,-8 8,-8\"/><text text-anchor=\"middle\" x=\"120\" y=\"-211.8\" font-family=\"Times New Roman,serif\" font-size=\"14.00\">Stage: FollowOnStage</text></g><!-- FollowOn.pipeline --><g id=\"node1\" class=\"node\"><title>FollowOn.pipeline</title><polygon fill=\"none\" stroke=\"black\" points=\"179.5,-271 60.5,-271 60.5,-235 179.5,-235 179.5,-271\"/><text text-anchor=\"middle\" x=\"120\" y=\"-249.3\" font-family=\"Times New Roman,serif\" font-size=\"14.00\">FollowOn.pipeline</text></g><!-- Job: ExitStageLeft --><g id=\"node3\" class=\"node\"><title>Job: ExitStageLeft</title><polygon fill=\"none\" stroke=\"black\" points=\"179.5,-196 60.5,-196 60.5,-160 179.5,-160 179.5,-196\"/><text text-anchor=\"middle\" x=\"120\" y=\"-174.3\" font-family=\"Times New Roman,serif\" font-size=\"14.00\">Job: ExitStageLeft</text></g><!-- FollowOn.pipeline&#45;&gt;Job: ExitStageLeft --><g id=\"edge3\" class=\"edge\"><title>FollowOn.pipeline&#45;&gt;Job: ExitStageLeft</title><path fill=\"none\" stroke=\"black\" d=\"M120,-234.7C120,-226.245 120,-215.869 120,-206.373\"/><polygon fill=\"black\" stroke=\"black\" points=\"123.5,-206.176 120,-196.176 116.5,-206.176 123.5,-206.176\"/></g><!-- 9f89ca4c2be5 --><!-- DownloadPipelineArtifact --><g id=\"node4\" class=\"node\"><title>DownloadPipelineArtifact</title><ellipse fill=\"none\" stroke=\"black\" cx=\"120\" cy=\"-106\" rx=\"103.982\" ry=\"18\"/><text text-anchor=\"middle\" x=\"120\" y=\"-102.3\" font-family=\"Times New Roman,serif\" font-size=\"14.00\">DownloadPipelineArtifact</text></g><!-- Job: ExitStageLeft&#45;&gt;DownloadPipelineArtifact --><g id=\"edge1\" class=\"edge\"><title>Job: ExitStageLeft&#45;&gt;DownloadPipelineArtifact</title><path fill=\"none\" stroke=\"black\" d=\"M120,-159.697C120,-151.983 120,-142.712 120,-134.112\"/><polygon fill=\"black\" stroke=\"black\" points=\"123.5,-134.104 120,-124.104 116.5,-134.104 123.5,-134.104\"/></g><!-- PowerShell --><g id=\"node5\" class=\"node\"><title>PowerShell</title><ellipse fill=\"none\" stroke=\"black\" cx=\"120\" cy=\"-34\" rx=\"51.9908\" ry=\"18\"/><text text-anchor=\"middle\" x=\"120\" y=\"-30.3\" font-family=\"Times New Roman,serif\" font-size=\"14.00\">PowerShell</text></g><!-- DownloadPipelineArtifact&#45;&gt;PowerShell --><g id=\"edge2\" class=\"edge\"><title>DownloadPipelineArtifact&#45;&gt;PowerShell</title><path fill=\"none\" stroke=\"black\" d=\"M120,-87.6966C120,-79.9827 120,-70.7125 120,-62.1124\"/><polygon fill=\"black\" stroke=\"black\" points=\"123.5,-62.1043 120,-52.1043 116.5,-62.1044 123.5,-62.1043\"/></g></g></svg>"
            ]
          },
          "metadata": {}
        }
      ],
      "metadata": {
        "dotnet_interactive": {
          "language": "pwsh"
        }
      }
    },
    {
      "cell_type": "code",
      "execution_count": null,
      "source": [
        "#If we loaded the grpah module earlier, raw output from a script block.\r\n",
        "if (test-path Function:\\plot_pipeline) {\r\n",
        "    cell  {plot_pipeline ~\\documents\\azdo\\serverautomationdemo\\CI\\FollowOn.pipeline.yml  -DestinationPath \"\" }\r\n",
        "}"
      ],
      "outputs": [
        {
          "output_type": "execute_result",
          "data": {
            "text/html": [
              "<?xml version=\"1.0\" encoding=\"UTF-8\" standalone=\"no\"?><!DOCTYPE svg PUBLIC \"-//W3C//DTD SVG 1.1//EN\" \"http://www.w3.org/Graphics/SVG/1.1/DTD/svg11.dtd\"><!-- Generated by graphviz version 2.38.0 (20140413.2041) --><!-- Title: g Pages: 1 --><svg width=\"248pt\" height=\"279pt\" viewBox=\"0.00 0.00 248.00 279.00\" xmlns=\"http://www.w3.org/2000/svg\" xmlns:xlink=\"http://www.w3.org/1999/xlink\"><g id=\"graph0\" class=\"graph\" transform=\"scale(1 1) rotate(0) translate(4 275)\"><title>g</title><polygon fill=\"white\" stroke=\"none\" points=\"-4,4 -4,-275 244,-275 244,4 -4,4\"/><g id=\"clust1\" class=\"cluster\"><title>clusterc51aaa375c59</title><polygon fill=\"none\" stroke=\"black\" points=\"8,-8 8,-227 232,-227 232,-8 8,-8\"/><text text-anchor=\"middle\" x=\"120\" y=\"-211.8\" font-family=\"Times New Roman,serif\" font-size=\"14.00\">Stage: FollowOnStage</text></g><!-- FollowOn.pipeline --><g id=\"node1\" class=\"node\"><title>FollowOn.pipeline</title><polygon fill=\"none\" stroke=\"black\" points=\"179.5,-271 60.5,-271 60.5,-235 179.5,-235 179.5,-271\"/><text text-anchor=\"middle\" x=\"120\" y=\"-249.3\" font-family=\"Times New Roman,serif\" font-size=\"14.00\">FollowOn.pipeline</text></g><!-- Job: ExitStageLeft --><g id=\"node3\" class=\"node\"><title>Job: ExitStageLeft</title><polygon fill=\"none\" stroke=\"black\" points=\"179.5,-196 60.5,-196 60.5,-160 179.5,-160 179.5,-196\"/><text text-anchor=\"middle\" x=\"120\" y=\"-174.3\" font-family=\"Times New Roman,serif\" font-size=\"14.00\">Job: ExitStageLeft</text></g><!-- FollowOn.pipeline&#45;&gt;Job: ExitStageLeft --><g id=\"edge3\" class=\"edge\"><title>FollowOn.pipeline&#45;&gt;Job: ExitStageLeft</title><path fill=\"none\" stroke=\"black\" d=\"M120,-234.7C120,-226.245 120,-215.869 120,-206.373\"/><polygon fill=\"black\" stroke=\"black\" points=\"123.5,-206.176 120,-196.176 116.5,-206.176 123.5,-206.176\"/></g><!-- c51aaa375c59 --><!-- DownloadPipelineArtifact --><g id=\"node4\" class=\"node\"><title>DownloadPipelineArtifact</title><ellipse fill=\"none\" stroke=\"black\" cx=\"120\" cy=\"-106\" rx=\"103.982\" ry=\"18\"/><text text-anchor=\"middle\" x=\"120\" y=\"-102.3\" font-family=\"Times New Roman,serif\" font-size=\"14.00\">DownloadPipelineArtifact</text></g><!-- Job: ExitStageLeft&#45;&gt;DownloadPipelineArtifact --><g id=\"edge1\" class=\"edge\"><title>Job: ExitStageLeft&#45;&gt;DownloadPipelineArtifact</title><path fill=\"none\" stroke=\"black\" d=\"M120,-159.697C120,-151.983 120,-142.712 120,-134.112\"/><polygon fill=\"black\" stroke=\"black\" points=\"123.5,-134.104 120,-124.104 116.5,-134.104 123.5,-134.104\"/></g><!-- PowerShell --><g id=\"node5\" class=\"node\"><title>PowerShell</title><ellipse fill=\"none\" stroke=\"black\" cx=\"120\" cy=\"-34\" rx=\"51.9908\" ry=\"18\"/><text text-anchor=\"middle\" x=\"120\" y=\"-30.3\" font-family=\"Times New Roman,serif\" font-size=\"14.00\">PowerShell</text></g><!-- DownloadPipelineArtifact&#45;&gt;PowerShell --><g id=\"edge2\" class=\"edge\"><title>DownloadPipelineArtifact&#45;&gt;PowerShell</title><path fill=\"none\" stroke=\"black\" d=\"M120,-87.6966C120,-79.9827 120,-70.7125 120,-62.1124\"/><polygon fill=\"black\" stroke=\"black\" points=\"123.5,-62.1043 120,-52.1043 116.5,-62.1044 123.5,-62.1043\"/></g></g></svg>"
            ]
          },
          "metadata": {},
          "execution_count": 1
        }
      ],
      "metadata": {
        "dotnet_interactive": {
          "language": "pwsh"
        }
      }
    },
    {
      "cell_type": "markdown",
      "source": [
        "## Doug Finke's Notebook module"
      ],
      "metadata": {}
    },
    {
      "cell_type": "code",
      "execution_count": null,
      "source": [
        "ipmo PowerShellNotebook\r\n",
        "$ProgressPreference = 'silentlyContinue'\r\n",
        "Get-command -Module PowerShellNotebook | Get-help | ft -a -wrap name,Synopsis |out-string -width 150"
      ],
      "outputs": [
        {
          "output_type": "unknown",
          "data": {
            "text/plain": [
              "\r\n",
              "Name                              Synopsis\r\n",
              "----                              --------\r\n",
              "Add-NotebookCode                  Add-NotebookCode adds PowerShell code to a code block\r\n",
              "Add-NotebookMarkdown              Add-NotebookMarkdown adds Markdown to a markdown block\r\n",
              "Convert-MarkdownToNoteBook        Convert a markdown file to an interactive PowerShell Notebook\r\n",
              "ConvertFrom-NotebookToMarkdown    Take and exiting PowerShell Notebook and convert it to markdown\r\n",
              "ConvertTo-PowerShellNoteBook      \r\n",
              "ConvertTo-SQLNoteBook             \r\n",
              "Export-NotebookToPowerShellScript Exports all code blocks from a PowerShell Notebook to a PowerShell script\r\n",
              "Export-NotebookToSqlScript        Exports all code blocks from a SQL Notebook to a SQL script\r\n",
              "Get-Notebook                      Get-Notebook reads the metadata of a single (or folder of) Jupyter Notebooks\r\n",
              "Get-NotebookContent               Get-NotebookContents reads the contents of a Jupyter Notebooks\r\n",
              "Get-ParsedSql                    \r\n",
              "                                  Get-ParsedSql [[-ScriptPath] <Object>]\r\n",
              "                                 \r\n",
              "Get-ParsedSqlOffsets             \r\n",
              "                                  Get-ParsedSqlOffsets [[-ScriptPath] <Object>] [[-IncludeGaps] <Object>] [-ExtractCommentsInsideBatches]\r\n",
              "                                  [<CommonParameters>]\r\n",
              "                                 \r\n",
              "Invoke-PowerShellNotebook         Invoke-PowerShellNotebook executes all the PowerShell code blocks in a PowerShell Notebook.\r\n",
              "loadScriptDomModules             \r\n",
              "                                  loadScriptDomModules\r\n",
              "                                 \r\n",
              "New-PSNotebook                    Creates a new PowerShell Notebook that can be returned as text or saves as a `ipynb` file.\r\n",
              "New-PSNotebookRunspace            New-PSNotebookRunspace instantiates the PSNotebookRunspace\r\n",
              "New-SQLNotebook                   Creates a new PowerShell Notebook that can be returned as text or saves as a `ipynb` file.\r\n",
              "\r\n",
              "\r\n"
            ]
          }
        }
      ],
      "metadata": {
        "dotnet_interactive": {
          "language": "pwsh"
        }
      }
    },
    {
      "cell_type": "code",
      "execution_count": null,
      "source": [
        "Get-Notebook '.\\Git tutorial.ipynb'\r\n",
        " \r\n",
        "Get-NotebookContent '.\\Git tutorial.ipynb' | Select -first 5 | ft "
      ],
      "outputs": [
        {
          "output_type": "unknown",
          "data": {
            "text/plain": [
              "\r\n"
            ]
          }
        },
        {
          "output_type": "unknown",
          "data": {
            "text/plain": [
              "NoteBookName     : Git tutorial.ipynb\r\n"
            ]
          }
        },
        {
          "output_type": "unknown",
          "data": {
            "text/plain": [
              "KernelName       : .net-csharp\r\n"
            ]
          }
        },
        {
          "output_type": "unknown",
          "data": {
            "text/plain": [
              "CodeBlocks       : 47\r\n"
            ]
          }
        },
        {
          "output_type": "unknown",
          "data": {
            "text/plain": [
              "MarkdownBlocks   : 33\r\n"
            ]
          }
        },
        {
          "output_type": "unknown",
          "data": {
            "text/plain": [
              "NoteBookFullName : C:\\Users\\mcp\\Documents\\GitHub\\Notebooks\\notebooks\\Git tutorial.ipynb\r\n"
            ]
          }
        },
        {
          "output_type": "unknown",
          "data": {
            "text/plain": [
              "\r\n"
            ]
          }
        },
        {
          "output_type": "unknown",
          "data": {
            "text/plain": [
              "\r\n"
            ]
          }
        },
        {
          "output_type": "unknown",
          "data": {
            "text/plain": [
              "\r\n"
            ]
          }
        },
        {
          "output_type": "unknown",
          "data": {
            "text/plain": [
              "NoteBookName       Type     Source\r\n"
            ]
          }
        },
        {
          "output_type": "unknown",
          "data": {
            "text/plain": [
              "------------       ----     ------\r\n"
            ]
          }
        },
        {
          "output_type": "unknown",
          "data": {
            "text/plain": [
              "Git tutorial.ipynb markdown Here we are going to look at **git as purely local file management**. …\r\n"
            ]
          }
        },
        {
          "output_type": "unknown",
          "data": {
            "text/plain": [
              "Git tutorial.ipynb code     cd ~…\r\n"
            ]
          }
        },
        {
          "output_type": "unknown",
          "data": {
            "text/plain": [
              "Git tutorial.ipynb markdown Lets **Initialize a new local repo**.    …\r\n"
            ]
          }
        },
        {
          "output_type": "unknown",
          "data": {
            "text/plain": [
              "Git tutorial.ipynb code     cd ~…\r\n"
            ]
          }
        },
        {
          "output_type": "unknown",
          "data": {
            "text/plain": [
              "Git tutorial.ipynb markdown When we add a file to the directory, it is present in the file system,…\r\n"
            ]
          }
        },
        {
          "output_type": "unknown",
          "data": {
            "text/plain": [
              "\r\n"
            ]
          }
        }
      ],
      "metadata": {
        "dotnet_interactive": {
          "language": "pwsh"
        }
      }
    },
    {
      "cell_type": "markdown",
      "source": [
        "## Mixed languages, even in a single block, & variable sharing via magic commands\r\n",
        "[Details](https://github.com/dotnet/interactive/blob/main/docs/variable-sharing.md)"
      ],
      "metadata": {}
    },
    {
      "cell_type": "code",
      "execution_count": null,
      "source": [
        "Write-Output \"Hello from PowerShell!\"\r\n",
        "\r\n",
        "#!fsharp\r\n",
        "let numbers = [0 .. 5]\r\n",
        "numbers"
      ],
      "outputs": [
        {
          "output_type": "unknown",
          "data": {
            "text/plain": [
              "Hello from PowerShell!\r\n"
            ]
          }
        },
        {
          "output_type": "unknown",
          "data": {
            "text/html": [
              "<table><thead><tr><th><i>index</i></th><th>value</th></tr></thead><tbody><tr><td>0</td><td><div class=\"dni-plaintext\">0</div></td></tr><tr><td>1</td><td><div class=\"dni-plaintext\">1</div></td></tr><tr><td>2</td><td><div class=\"dni-plaintext\">2</div></td></tr><tr><td>3</td><td><div class=\"dni-plaintext\">3</div></td></tr><tr><td>4</td><td><div class=\"dni-plaintext\">4</div></td></tr><tr><td>5</td><td><div class=\"dni-plaintext\">5</div></td></tr></tbody></table>"
            ]
          }
        }
      ],
      "metadata": {
        "dotnet_interactive": {
          "language": "pwsh"
        }
      }
    },
    {
      "cell_type": "code",
      "execution_count": null,
      "source": [
        "#!share  --from fsharp numbers\r\n",
        "$numbers"
      ],
      "outputs": [
        {
          "output_type": "unknown",
          "data": {
            "text/plain": [
              "0\r\n"
            ]
          }
        },
        {
          "output_type": "unknown",
          "data": {
            "text/plain": [
              "1\r\n"
            ]
          }
        },
        {
          "output_type": "unknown",
          "data": {
            "text/plain": [
              "2\r\n"
            ]
          }
        },
        {
          "output_type": "unknown",
          "data": {
            "text/plain": [
              "3\r\n"
            ]
          }
        },
        {
          "output_type": "unknown",
          "data": {
            "text/plain": [
              "4\r\n"
            ]
          }
        },
        {
          "output_type": "unknown",
          "data": {
            "text/plain": [
              "5\r\n"
            ]
          }
        }
      ],
      "metadata": {
        "dotnet_interactive": {
          "language": "pwsh"
        }
      }
    },
    {
      "cell_type": "code",
      "execution_count": null,
      "source": [
        "#!value --name someJson\r\n",
        "{\r\n",
        "    \"what\": \"Some Json\",\r\n",
        "    \"why\": \"To share it!\"\r\n",
        "}"
      ],
      "outputs": [],
      "metadata": {
        "dotnet_interactive": {
          "language": "pwsh"
        }
      }
    },
    {
      "cell_type": "code",
      "execution_count": null,
      "source": [
        "#!share someJson --from value\r\n",
        "ConvertFrom-Json -InputObject $someJson"
      ],
      "outputs": [
        {
          "output_type": "unknown",
          "data": {
            "text/plain": [
              "\r\n"
            ]
          }
        },
        {
          "output_type": "unknown",
          "data": {
            "text/plain": [
              "what      why\r\n"
            ]
          }
        },
        {
          "output_type": "unknown",
          "data": {
            "text/plain": [
              "----      ---\r\n"
            ]
          }
        },
        {
          "output_type": "unknown",
          "data": {
            "text/plain": [
              "Some Json To share it!\r\n"
            ]
          }
        },
        {
          "output_type": "unknown",
          "data": {
            "text/plain": [
              "\r\n"
            ]
          }
        }
      ],
      "metadata": {
        "dotnet_interactive": {
          "language": "pwsh"
        }
      }
    },
    {
      "cell_type": "markdown",
      "source": [
        "## List of Magic commands"
      ],
      "metadata": {}
    },
    {
      "cell_type": "code",
      "execution_count": null,
      "source": [
        "#!lsmagic"
      ],
      "outputs": [
        {
          "output_type": "unknown",
          "data": {
            "text/html": [
              "<div><h3>.NET kernel</h3><div><div style=\"text-indent:1.5em\"><pre><span style=\"text-indent:1.5em; color:#512bd4\">#!sql</span></pre><div style=\"text-indent:3em\">Run the code that follows using the sql kernel.</div></div><div style=\"text-indent:1.5em\"><pre><span style=\"text-indent:1.5em; color:#512bd4\">#!csharp</span><span style=\"text-indent:1.5em; color:darkgray\">, </span><span style=\"text-indent:1.5em; color:#512bd4\">#!c#</span><span style=\"text-indent:1.5em; color:darkgray\">, </span><span style=\"text-indent:1.5em; color:#512bd4\">#!C#</span></pre><div style=\"text-indent:3em\">Run the code that follows using the csharp kernel.</div></div><div style=\"text-indent:1.5em\"><pre><span style=\"text-indent:1.5em; color:#512bd4\">#!fsharp</span><span style=\"text-indent:1.5em; color:darkgray\">, </span><span style=\"text-indent:1.5em; color:#512bd4\">#!f#</span><span style=\"text-indent:1.5em; color:darkgray\">, </span><span style=\"text-indent:1.5em; color:#512bd4\">#!F#</span></pre><div style=\"text-indent:3em\">Run the code that follows using the fsharp kernel.</div></div><div style=\"text-indent:1.5em\"><pre><span style=\"text-indent:1.5em; color:#512bd4\">#!pwsh</span><span style=\"text-indent:1.5em; color:darkgray\">, </span><span style=\"text-indent:1.5em; color:#512bd4\">#!powershell</span></pre><div style=\"text-indent:3em\">Run the code that follows using the pwsh kernel.</div></div><div style=\"text-indent:1.5em\"><pre><span style=\"text-indent:1.5em; color:#512bd4\">#!javascript</span><span style=\"text-indent:1.5em; color:darkgray\">, </span><span style=\"text-indent:1.5em; color:#512bd4\">#!js</span></pre><div style=\"text-indent:3em\">Run the code that follows using the javascript kernel.</div></div><div style=\"text-indent:1.5em\"><pre><span style=\"text-indent:1.5em; color:#512bd4\">#!html</span></pre><div style=\"text-indent:3em\">Run the code that follows using the html kernel.</div></div><div style=\"text-indent:1.5em\"><pre><span style=\"text-indent:1.5em; color:#512bd4\">#!value</span></pre><div style=\"text-indent:3em\">Stores a value that can then be shared with other subkernels.</div></div><div style=\"text-indent:1.5em\"><pre><span style=\"text-indent:1.5em; color:#512bd4\">#!lsmagic</span></pre><div style=\"text-indent:3em\">List the available magic commands / directives</div></div><div style=\"text-indent:1.5em\"><pre><span style=\"text-indent:1.5em; color:#512bd4\">#!markdown</span></pre><div style=\"text-indent:3em\">Convert the code that follows from Markdown into HTML</div></div><div style=\"text-indent:1.5em\"><pre><span style=\"text-indent:1.5em; color:#512bd4\">#!time</span></pre><div style=\"text-indent:3em\">Time the execution of the following code in the submission.</div></div><div style=\"text-indent:1.5em\"><pre><span style=\"text-indent:1.5em; color:#512bd4\">#!log</span></pre><div style=\"text-indent:3em\">Enables session logging.</div></div><div style=\"text-indent:1.5em\"><pre><span style=\"text-indent:1.5em; color:#512bd4\">#!about</span></pre><div style=\"text-indent:3em\">Show version and build information</div></div><div style=\"text-indent:1.5em\"><pre><span style=\"text-indent:1.5em; color:#512bd4\">#!connect</span></pre><div style=\"text-indent:3em\">Connects additional subkernels</div><div style=\"text-indent:3em\"><pre><span style=\"text-indent:4.5em; color:#512bd4\">named-pipe</span></pre><div style=\"text-indent:6em\">Connects to a kernel using named pipes</div></div><div style=\"text-indent:3em\"><pre><span style=\"text-indent:4.5em; color:#512bd4\">signalr</span></pre><div style=\"text-indent:6em\">Connects to a kernel using SignalR</div></div><div style=\"text-indent:3em\"><pre><span style=\"text-indent:4.5em; color:#512bd4\">client</span></pre><div style=\"text-indent:6em\">Connects to a client-side kernel</div></div></div></div></div>"
            ]
          }
        },
        {
          "output_type": "unknown",
          "data": {
            "text/html": [
              "<div><h3>sql kernel</h3><div><div style=\"text-indent:1.5em\"><pre><span style=\"text-indent:1.5em; color:#512bd4\">#!lsmagic</span></pre><div style=\"text-indent:3em\">List the available magic commands / directives</div></div></div></div>"
            ]
          }
        },
        {
          "output_type": "unknown",
          "data": {
            "text/html": [
              "<div><h3>csharp kernel</h3><div><div style=\"text-indent:1.5em\"><pre><span style=\"text-indent:1.5em; color:#512bd4\">#i</span></pre><div style=\"text-indent:3em\"><div class=\"dni-plaintext\">&lt;null&gt;</div></div></div><div style=\"text-indent:1.5em\"><pre><span style=\"text-indent:1.5em; color:#512bd4\">#r</span></pre><div style=\"text-indent:3em\"><div class=\"dni-plaintext\">&lt;null&gt;</div></div></div><div style=\"text-indent:1.5em\"><pre><span style=\"text-indent:1.5em; color:#512bd4\">#!whos</span><span style=\"text-indent:1.5em; color:darkgray\">, </span><span style=\"text-indent:1.5em; color:#512bd4\">#!who</span></pre><div style=\"text-indent:3em\">Display the names of the current top-level variables and their values.</div></div><div style=\"text-indent:1.5em\"><pre><span style=\"text-indent:1.5em; color:#512bd4\">#!share</span></pre><div style=\"text-indent:3em\">Share a .NET variable between subkernels</div></div><div style=\"text-indent:1.5em\"><pre><span style=\"text-indent:1.5em; color:#512bd4\">#!aspnet</span></pre><div style=\"text-indent:3em\">Activate ASP.NET Core</div></div><div style=\"text-indent:1.5em\"><pre><span style=\"text-indent:1.5em; color:#512bd4\">#!aspnet-stop</span></pre><div style=\"text-indent:3em\">Stop ASP.NET Core host</div></div><div style=\"text-indent:1.5em\"><pre><span style=\"text-indent:1.5em; color:#512bd4\">#!lsmagic</span></pre><div style=\"text-indent:3em\">List the available magic commands / directives</div></div></div></div>"
            ]
          }
        },
        {
          "output_type": "unknown",
          "data": {
            "text/html": [
              "<div><h3>fsharp kernel</h3><div><div style=\"text-indent:1.5em\"><pre><span style=\"text-indent:1.5em; color:#512bd4\">#i</span></pre><div style=\"text-indent:3em\"><div class=\"dni-plaintext\">&lt;null&gt;</div></div></div><div style=\"text-indent:1.5em\"><pre><span style=\"text-indent:1.5em; color:#512bd4\">#r</span></pre><div style=\"text-indent:3em\"><div class=\"dni-plaintext\">&lt;null&gt;</div></div></div><div style=\"text-indent:1.5em\"><pre><span style=\"text-indent:1.5em; color:#512bd4\">#!whos</span><span style=\"text-indent:1.5em; color:darkgray\">, </span><span style=\"text-indent:1.5em; color:#512bd4\">#!who</span></pre><div style=\"text-indent:3em\">Display the names of the current top-level variables and their values.</div></div><div style=\"text-indent:1.5em\"><pre><span style=\"text-indent:1.5em; color:#512bd4\">#!share</span></pre><div style=\"text-indent:3em\">Share a .NET variable between subkernels</div></div><div style=\"text-indent:1.5em\"><pre><span style=\"text-indent:1.5em; color:#512bd4\">#!lsmagic</span></pre><div style=\"text-indent:3em\">List the available magic commands / directives</div></div></div></div>"
            ]
          }
        },
        {
          "output_type": "unknown",
          "data": {
            "text/html": [
              "<div><h3>pwsh kernel</h3><div><div style=\"text-indent:1.5em\"><pre><span style=\"text-indent:1.5em; color:#512bd4\">#!share</span></pre><div style=\"text-indent:3em\">Share a .NET variable between subkernels</div></div><div style=\"text-indent:1.5em\"><pre><span style=\"text-indent:1.5em; color:#512bd4\">#!lsmagic</span></pre><div style=\"text-indent:3em\">List the available magic commands / directives</div></div></div></div>"
            ]
          }
        },
        {
          "output_type": "unknown",
          "data": {
            "text/html": [
              "<div><h3>javascript kernel</h3><div><div style=\"text-indent:1.5em\"><pre><span style=\"text-indent:1.5em; color:#512bd4\">#!lsmagic</span></pre><div style=\"text-indent:3em\">List the available magic commands / directives</div></div></div></div>"
            ]
          }
        },
        {
          "output_type": "unknown",
          "data": {
            "text/html": [
              "<div><h3>html kernel</h3><div><div style=\"text-indent:1.5em\"><pre><span style=\"text-indent:1.5em; color:#512bd4\">#!lsmagic</span></pre><div style=\"text-indent:3em\">List the available magic commands / directives</div></div></div></div>"
            ]
          }
        },
        {
          "output_type": "unknown",
          "data": {
            "text/html": [
              "<div><h3>value kernel</h3><div><div style=\"text-indent:1.5em\"><pre><span style=\"text-indent:1.5em; color:#512bd4\">#!whos</span><span style=\"text-indent:1.5em; color:darkgray\">, </span><span style=\"text-indent:1.5em; color:#512bd4\">#!who</span></pre><div style=\"text-indent:3em\">Display the names of the current top-level variables and their values.</div></div><div style=\"text-indent:1.5em\"><pre><span style=\"text-indent:1.5em; color:#512bd4\">#!lsmagic</span></pre><div style=\"text-indent:3em\">List the available magic commands / directives</div></div></div></div>"
            ]
          }
        }
      ],
      "metadata": {
        "dotnet_interactive": {
          "language": "pwsh"
        }
      }
    }
  ],
  "metadata": {
    "kernelspec": {
      "display_name": ".NET (C#)",
      "language": "C#",
      "name": ".net-csharp"
    },
    "language_info": {
      "file_extension": ".cs",
      "mimetype": "text/x-csharp",
      "name": "C#",
      "pygments_lexer": "csharp",
      "version": "8.0"
    }
  },
  "nbformat": 4,
  "nbformat_minor": 4
}