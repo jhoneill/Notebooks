{
  "cells": [
    {
      "attachments": {},
      "cell_type": "markdown",
      "metadata": {},
      "source": [
        "## What version are we?"
      ]
    },
    {
      "cell_type": "code",
      "execution_count": null,
      "metadata": {
        "dotnet_interactive": {
          "language": "pwsh"
        },
        "vscode": {
          "languageId": "polyglot-notebook"
        }
      },
      "outputs": [],
      "source": [
        "#!about"
      ]
    },
    {
      "cell_type": "code",
      "execution_count": null,
      "metadata": {
        "dotnet_interactive": {
          "language": "pwsh"
        },
        "vscode": {
          "languageId": "polyglot-notebook"
        }
      },
      "outputs": [],
      "source": [
        "$psversionTable"
      ]
    },
    {
      "cell_type": "code",
      "execution_count": null,
      "metadata": {
        "dotnet_interactive": {
          "language": "pwsh"
        },
        "vscode": {
          "languageId": "polyglot-notebook"
        }
      },
      "outputs": [],
      "source": [
        "$host.Name\n",
        "$host.UI.RawUI"
      ]
    },
    {
      "attachments": {},
      "cell_type": "markdown",
      "metadata": {},
      "source": [
        "## Markdown cells contain formatted text and images \n",
        "\n",
        "* *emphasis*\n",
        "* **Strong Emphasis**\n",
        "* `code`\n",
        "* etc. \n",
        "\n",
        "```\n",
        " Write-Host \"This is a script block formatted as PowerShell\" -fore red\n",
        " # How good the format is varies ! \n",
        "```\n",
        "\n",
        "**Folding** markdown cells hides the code cells between them and the next markdown with the same heading level.   \n",
        "**Warning** \\# signs at the start of a line in a code will be misinterpreted by the folding algorithm as heading markers, so indent them as a work-round.  \n",
        "\n",
        "Local images work better if the path is relative to the .ipynb file or they can be fetched over http    \n",
        "![Untitled2.png](./Untitled2.png)    \n",
        "![James Avatar](https://jhoneill.github.io/assets/james.jpg)\n",
        "\n",
        "It is also possible to have code cells which contain markdown or html... "
      ]
    },
    {
      "cell_type": "code",
      "execution_count": null,
      "metadata": {
        "dotnet_interactive": {
          "language": "html"
        },
        "vscode": {
          "languageId": "polyglot-notebook"
        }
      },
      "outputs": [],
      "source": [
        "<strong>.NET interactive allows Cells to have a <em>language</em> of 'HTML'</strong><br/>  \n",
        "Language is selected with <em>Magic commands</em> <code>#!html</code>, <code>#!pwsh</code>, \n",
        "<code>#!javascript</code>, <code>#!fsharp</code> and <code>#!csharp</code>. <br/>\n",
        "There is a full list of magic commands further down."
      ]
    },
    {
      "cell_type": "code",
      "execution_count": null,
      "metadata": {
        "dotnet_interactive": {
          "language": "pwsh"
        },
        "vscode": {
          "languageId": "polyglot-notebook"
        }
      },
      "outputs": [],
      "source": [
        "#!markdown\n",
        "**Or a language of _Markdown_**"
      ]
    },
    {
      "attachments": {},
      "cell_type": "markdown",
      "metadata": {},
      "source": [
        "## We can do normal shell / command-line things ... \n",
        "Note: some commands don't like the `.NET interactive` Kernel in VSCode, but will run if you select the `.NET (PowerShell)` Kernel"
      ]
    },
    {
      "cell_type": "code",
      "execution_count": null,
      "metadata": {
        "dotnet_interactive": {
          "language": "pwsh"
        },
        "vscode": {
          "languageId": "polyglot-notebook"
        }
      },
      "outputs": [],
      "source": [
        "nslookup google.com"
      ]
    },
    {
      "cell_type": "code",
      "execution_count": null,
      "metadata": {
        "dotnet_interactive": {
          "language": "pwsh"
        },
        "vscode": {
          "languageId": "polyglot-notebook"
        }
      },
      "outputs": [],
      "source": [
        "write-host -ForegroundColor Green \"boo hoo\""
      ]
    },
    {
      "attachments": {},
      "cell_type": "markdown",
      "metadata": {},
      "source": [
        "## Where were we called from ?"
      ]
    },
    {
      "cell_type": "code",
      "execution_count": null,
      "metadata": {
        "dotnet_interactive": {
          "language": "pwsh"
        },
        "vscode": {
          "languageId": "polyglot-notebook"
        }
      },
      "outputs": [],
      "source": [
        "$pshome\n",
        "$p = Get-process -id $pid   \n",
        "$p, $p.Parent, $p.Parent.Parent,$p.Parent.Parent.parent,$p.Parent.Parent.parent.parent\n",
        "Get-CimInstance -ClassName win32_process -Filter \"processID = $($p.id)\" |  select -expand commandline\n",
        "Get-CimInstance -ClassName win32_process -Filter \"processID = $($p.Parent.id)\" |  select -expand commandline\n",
        "Get-CimInstance -ClassName win32_process -Filter \"processID = $($p.Parent.parent.id)\" |  select -expand commandline\n",
        "Get-CimInstance -ClassName win32_process -Filter \"processID = $($p.Parent.parent.parent.id)\" |  select -expand commandline\n",
        "Get-CimInstance -ClassName win32_process -Filter \"processID = $($p.Parent.parent.parent.parent.id)\" |  select -expand commandline"
      ]
    },
    {
      "attachments": {},
      "cell_type": "markdown",
      "metadata": {},
      "source": [
        "*In a browser you can check who owns the port you connected to*   \n",
        "Note: things which display a progress bar and then try to close it caused errors, so we turned progress display off. This seems to be fixed now :-) "
      ]
    },
    {
      "cell_type": "code",
      "execution_count": null,
      "metadata": {
        "dotnet_interactive": {
          "language": "pwsh"
        },
        "vscode": {
          "languageId": "polyglot-notebook"
        }
      },
      "outputs": [],
      "source": [
        "# $ProgressPreference = 'silentlyContinue'\n",
        "Get-NetTCPConnection -LocalPort 9815,8888 -State Listen | ft -a"
      ]
    },
    {
      "attachments": {},
      "cell_type": "markdown",
      "metadata": {},
      "source": [
        "## PowerShell modules loaded in a clean session, and modules available"
      ]
    },
    {
      "cell_type": "code",
      "execution_count": null,
      "metadata": {
        "dotnet_interactive": {
          "language": "pwsh"
        },
        "vscode": {
          "languageId": "polyglot-notebook"
        }
      },
      "outputs": [],
      "source": [
        "Get-module"
      ]
    },
    {
      "cell_type": "code",
      "execution_count": null,
      "metadata": {
        "dotnet_interactive": {
          "language": "pwsh"
        },
        "vscode": {
          "languageId": "polyglot-notebook"
        }
      },
      "outputs": [],
      "source": [
        "Get-Module -ListAvailable | \n",
        "    group -no -Property @{e={\n",
        "        Split-Path -Parent $_.Path | \n",
        "            %{if ([Version]::TryParse((Split-Path $_ -Leaf), [ref]$null)) {Split-Path -Parent $_} else {$_} } | \n",
        "                 Split-Path -Parent\n",
        "     }} | ft -AutoSize -wrap  "
      ]
    },
    {
      "cell_type": "code",
      "execution_count": null,
      "metadata": {
        "dotnet_interactive": {
          "language": "pwsh"
        },
        "vscode": {
          "languageId": "polyglot-notebook"
        }
      },
      "outputs": [],
      "source": [
        "Get-Module -ListAvailable | where path -Match \"interactive\" | ft name ,exportedCommands "
      ]
    },
    {
      "attachments": {},
      "cell_type": "markdown",
      "metadata": {},
      "source": [
        "## What is in the PowerShell module that comes with .Net Interactive ? "
      ]
    },
    {
      "cell_type": "code",
      "execution_count": null,
      "metadata": {
        "dotnet_interactive": {
          "language": "pwsh"
        },
        "vscode": {
          "languageId": "polyglot-notebook"
        }
      },
      "outputs": [],
      "source": [
        "ipmo Microsoft.DotNet.Interactive.PowerShell\n",
        "Get-command -Module Microsoft.DotNet.Interactive.PowerShell"
      ]
    },
    {
      "attachments": {},
      "cell_type": "markdown",
      "metadata": {},
      "source": [
        "## Out-Display & preformed HTML\n",
        "First magic command  `#!time` and use of  `[Microsoft.DotNet.Interactive.Kernel]::HTML($html)` "
      ]
    },
    {
      "cell_type": "code",
      "execution_count": null,
      "metadata": {
        "dotnet_interactive": {
          "language": "pwsh"
        },
        "vscode": {
          "languageId": "polyglot-notebook"
        }
      },
      "outputs": [],
      "source": [
        "#!time \n",
        "$x = \"Counting\" | Out-Display -PassThru\n",
        "1..5 | %{sleep 1; $x.Update($_) }"
      ]
    },
    {
      "cell_type": "code",
      "execution_count": null,
      "metadata": {
        "dotnet_interactive": {
          "language": "pwsh"
        },
        "vscode": {
          "languageId": "polyglot-notebook"
        }
      },
      "outputs": [],
      "source": [
        "$html = Get-Command -Module Microsoft.DotNet.Interactive.PowerShell | \n",
        "        ConvertTo-Html -Fragment -Property Name , Version \n",
        "\n",
        "[Microsoft.DotNet.Interactive.Kernel]::HTML($html) | Out-Display"
      ]
    },
    {
      "attachments": {},
      "cell_type": "markdown",
      "metadata": {},
      "source": [
        "**If you don't have the files for the next code-cell skip it and load the SVG data from the following one**"
      ]
    },
    {
      "cell_type": "code",
      "execution_count": null,
      "metadata": {
        "dotnet_interactive": {
          "language": "pwsh"
        },
        "vscode": {
          "languageId": "polyglot-notebook"
        }
      },
      "outputs": [],
      "source": [
        "Import-Module ~\\documents\\azdo\\serverautomationdemo\\utils\\PSGraph\\ -Force # My version!\n",
        ". ~\\documents\\azdo\\serverautomationdemo\\utils\\PlotDevopsPipelines.ps1\n",
        "\n",
        "$svg = plot_pipeline ~\\documents\\azdo\\serverautomationdemo\\CI\\FollowOn.pipeline.yml  -DestinationPath \"\" \n",
        "$svg | out-file -Encoding utf8 -path ./demo.svg"
      ]
    },
    {
      "attachments": {},
      "cell_type": "markdown",
      "metadata": {},
      "source": [
        "**If you used the previous code-cell you can skip the next one**"
      ]
    },
    {
      "cell_type": "code",
      "execution_count": null,
      "metadata": {
        "dotnet_interactive": {
          "language": "pwsh"
        },
        "vscode": {
          "languageId": "polyglot-notebook"
        }
      },
      "outputs": [],
      "source": [
        "$svg = Get-Content ./demo.svg"
      ]
    },
    {
      "cell_type": "code",
      "execution_count": null,
      "metadata": {
        "dotnet_interactive": {
          "language": "pwsh"
        },
        "vscode": {
          "languageId": "polyglot-notebook"
        }
      },
      "outputs": [],
      "source": [
        "[Microsoft.DotNet.Interactive.Kernel]::HTML($svg) | Out-Display"
      ]
    },
    {
      "attachments": {},
      "cell_type": "markdown",
      "metadata": {},
      "source": [
        "## My wrapper for Out-Display"
      ]
    },
    {
      "cell_type": "code",
      "execution_count": null,
      "metadata": {
        "dotnet_interactive": {
          "language": "pwsh"
        },
        "vscode": {
          "languageId": "polyglot-notebook"
        }
      },
      "outputs": [],
      "source": [
        ". .\\NotebookOutput.ps1\n",
        "Out-cell -? | select -ExpandProperty Description | Out-String"
      ]
    },
    {
      "cell_type": "code",
      "execution_count": null,
      "metadata": {
        "dotnet_interactive": {
          "language": "pwsh"
        },
        "polyglot_notebook": {
          "kernelName": "pwsh"
        },
        "vscode": {
          "languageId": "polyglot-notebook"
        }
      },
      "outputs": [],
      "source": [
        "out-cell -?"
      ]
    },
    {
      "cell_type": "code",
      "execution_count": null,
      "metadata": {
        "dotnet_interactive": {
          "language": "pwsh"
        },
        "vscode": {
          "languageId": "polyglot-notebook"
        }
      },
      "outputs": [],
      "source": [
        "# Pipe in , convert to table.\n",
        "Get-command -Module  Microsoft.DotNet.Interactive.PowerShell \n",
        "    | Out-Cell -AsTable -Property name,version"
      ]
    },
    {
      "cell_type": "code",
      "execution_count": null,
      "metadata": {
        "dotnet_interactive": {
          "language": "pwsh"
        },
        "vscode": {
          "languageId": "polyglot-notebook"
        }
      },
      "outputs": [],
      "source": [
        "#Pass script block, format as list\n",
        "Cell -AsList -Property name,version {\n",
        "    Get-command -Module  Microsoft.DotNet.Interactive.PowerShell \n",
        "}"
      ]
    },
    {
      "cell_type": "code",
      "execution_count": null,
      "metadata": {
        "dotnet_interactive": {
          "language": "pwsh"
        },
        "vscode": {
          "languageId": "polyglot-notebook"
        }
      },
      "outputs": [],
      "source": [
        "#Relies on earlier cell to set $svg - pass raw output in a variable  \n",
        "if ($svg) {\n",
        "    cell $svg\n",
        "}"
      ]
    },
    {
      "cell_type": "code",
      "execution_count": null,
      "metadata": {
        "dotnet_interactive": {
          "language": "pwsh"
        },
        "vscode": {
          "languageId": "polyglot-notebook"
        }
      },
      "outputs": [],
      "source": [
        "#If we loaded the grpah module earlier, raw output from a script block.\n",
        "if (test-path Function:\\plot_pipeline) {\n",
        "    cell  {plot_pipeline ~\\documents\\azdo\\serverautomationdemo\\CI\\FollowOn.pipeline.yml  -DestinationPath \"\" }\n",
        "}"
      ]
    },
    {
      "attachments": {},
      "cell_type": "markdown",
      "metadata": {},
      "source": [
        "There wrapper has its own more notebook friendly implementation of `Write-Progress` and can output a collapsible view, these can be nested to give a complex tree structure "
      ]
    },
    {
      "cell_type": "code",
      "execution_count": null,
      "metadata": {
        "dotnet_interactive": {
          "language": "pwsh"
        },
        "vscode": {
          "languageId": "polyglot-notebook"
        }
      },
      "outputs": [],
      "source": [
        "Get-command -Module  Microsoft.DotNet.Interactive.PowerShell  |  Out-TreeView -Title \"Commands in the module\" -Property Name,Version | out-cell"
      ]
    },
    {
      "attachments": {},
      "cell_type": "markdown",
      "metadata": {},
      "source": [
        "## Doug Finke's Notebook module"
      ]
    },
    {
      "cell_type": "code",
      "execution_count": null,
      "metadata": {
        "dotnet_interactive": {
          "language": "pwsh"
        },
        "vscode": {
          "languageId": "polyglot-notebook"
        }
      },
      "outputs": [],
      "source": [
        "ipmo PowerShellNotebook\n",
        "$ProgressPreference = 'silentlyContinue'\n",
        "Get-command -Module PowerShellNotebook | Get-help | ft -a -wrap name,Synopsis"
      ]
    },
    {
      "cell_type": "code",
      "execution_count": null,
      "metadata": {
        "dotnet_interactive": {
          "language": "pwsh"
        },
        "vscode": {
          "languageId": "polyglot-notebook"
        }
      },
      "outputs": [],
      "source": [
        "Get-Notebook '.\\Git tutorial.ipynb'\n",
        " \n",
        "Get-NotebookContent '.\\Git tutorial.ipynb' | Select -first 5 | ft "
      ]
    },
    {
      "attachments": {},
      "cell_type": "markdown",
      "metadata": {},
      "source": [
        "## Mixed languages, even in a single block, & variable sharing via magic commands\n",
        "[Details](https://github.com/dotnet/interactive/blob/main/docs/variable-sharing.md)"
      ]
    },
    {
      "cell_type": "code",
      "execution_count": null,
      "metadata": {
        "dotnet_interactive": {
          "language": "pwsh"
        },
        "vscode": {
          "languageId": "polyglot-notebook"
        }
      },
      "outputs": [],
      "source": [
        "Write-Output \"Hello from PowerShell!\"\n",
        "\n",
        "#!fsharp\n",
        "let numbers = [0 .. 5]\n",
        "numbers"
      ]
    },
    {
      "cell_type": "code",
      "execution_count": null,
      "metadata": {
        "dotnet_interactive": {
          "language": "pwsh"
        },
        "vscode": {
          "languageId": "polyglot-notebook"
        }
      },
      "outputs": [],
      "source": [
        "#!share  --from fsharp numbers\n",
        "$numbers"
      ]
    },
    {
      "cell_type": "code",
      "execution_count": null,
      "metadata": {
        "dotnet_interactive": {
          "language": "pwsh"
        },
        "vscode": {
          "languageId": "polyglot-notebook"
        }
      },
      "outputs": [],
      "source": [
        "#!value --name someJson\n",
        "{\n",
        "    \"what\": \"Some Json\",\n",
        "    \"why\": \"To share it!\"\n",
        "}"
      ]
    },
    {
      "cell_type": "code",
      "execution_count": null,
      "metadata": {
        "dotnet_interactive": {
          "language": "pwsh"
        },
        "vscode": {
          "languageId": "polyglot-notebook"
        }
      },
      "outputs": [],
      "source": [
        "#!share someJson --from value\n",
        "ConvertFrom-Json -InputObject $someJson"
      ]
    },
    {
      "attachments": {},
      "cell_type": "markdown",
      "metadata": {},
      "source": [
        "## List of Magic commands"
      ]
    },
    {
      "cell_type": "code",
      "execution_count": null,
      "metadata": {
        "dotnet_interactive": {
          "language": "pwsh"
        },
        "vscode": {
          "languageId": "polyglot-notebook"
        }
      },
      "outputs": [],
      "source": [
        "#!lsmagic"
      ]
    }
  ],
  "metadata": {
    "kernelspec": {
      "display_name": ".NET (C#)",
      "language": "C#",
      "name": ".net-csharp"
    },
    "language_info": {
      "file_extension": ".cs",
      "mimetype": "text/x-csharp",
      "name": "C#",
      "pygments_lexer": "csharp",
      "version": "8.0"
    }
  },
  "nbformat": 4,
  "nbformat_minor": 4
}
