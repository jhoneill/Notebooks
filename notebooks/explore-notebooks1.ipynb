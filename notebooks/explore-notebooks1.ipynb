{
  "cells": [
    {
      "attachments": {},
      "cell_type": "markdown",
      "metadata": {},
      "source": [
        "## What version are we?"
      ]
    },
    {
      "cell_type": "code",
      "execution_count": null,
      "metadata": {
        "dotnet_interactive": {
          "language": "pwsh"
        },
        "vscode": {
          "languageId": "polyglot-notebook"
        }
      },
      "outputs": [],
      "source": [
        "#!about"
      ]
    },
    {
      "cell_type": "code",
      "execution_count": null,
      "metadata": {
        "dotnet_interactive": {
          "language": "pwsh"
        },
        "vscode": {
          "languageId": "polyglot-notebook"
        }
      },
      "outputs": [],
      "source": [
        "$psversionTable"
      ]
    },
    {
      "cell_type": "code",
      "execution_count": null,
      "metadata": {
        "dotnet_interactive": {
          "language": "pwsh"
        },
        "vscode": {
          "languageId": "polyglot-notebook"
        }
      },
      "outputs": [],
      "source": [
        "$host.Name\n",
        "$host.UI.RawUI"
      ]
    },
    {
      "attachments": {},
      "cell_type": "markdown",
      "metadata": {},
      "source": [
        "## Markdown cells contain formatted text and images "
      ]
    },
    {
      "attachments": {},
      "cell_type": "markdown",
      "metadata": {},
      "source": [
        "* *emphasis*\n",
        "* **Strong Emphasis**\n",
        "* `code`\n",
        "* etc. \n",
        "\n",
        "```\n",
        " Write-Host \"This is a script block formatted as PowerShell\" -fore red\n",
        " # How good the format is varies ! \n",
        "```\n",
        "\n",
        "**Folding** markdown cells hides the code cells between them and the next markdown with the same heading level.   \n",
        "**Warning** \\# signs at the start of a line in a code will be misinterpreted by the folding algorithm as heading markers, so indent them as a work-round.  \n",
        "\n",
        "Local images work better if the path is relative to the .ipynb file or they can be fetched over http    \n",
        "![Untitled2.png](./Untitled2.png)    \n",
        "![James Avatar](https://jhoneill.github.io/assets/james.jpg)\n",
        "\n",
        "It is also possible to have code cells which contain markdown or html... "
      ]
    },
    {
      "cell_type": "code",
      "execution_count": null,
      "metadata": {
        "dotnet_interactive": {
          "language": "html"
        },
        "vscode": {
          "languageId": "polyglot-notebook"
        }
      },
      "outputs": [],
      "source": [
        "<strong>.NET interactive allows Cells to have a <em>language</em> of 'HTML'</strong><br/>  \n",
        "Language is selected with <em>Magic commands</em> <code>#!html</code>, <code>#!pwsh</code>, \n",
        "<code>#!javascript</code>, <code>#!fsharp</code> and <code>#!csharp</code>. <br/>\n",
        "There is a full list of magic commands further down."
      ]
    },
    {
      "cell_type": "code",
      "execution_count": null,
      "metadata": {
        "dotnet_interactive": {
          "language": "pwsh"
        },
        "vscode": {
          "languageId": "polyglot-notebook"
        }
      },
      "outputs": [],
      "source": [
        "#!markdown\n",
        "**Or a language of _Markdown_**"
      ]
    },
    {
      "attachments": {},
      "cell_type": "markdown",
      "metadata": {},
      "source": [
        "## PowerShell modules "
      ]
    },
    {
      "cell_type": "code",
      "execution_count": 1,
      "metadata": {
        "dotnet_interactive": {
          "language": "pwsh"
        },
        "vscode": {
          "languageId": "polyglot-notebook"
        }
      },
      "outputs": [
        {
          "name": "stdout",
          "output_type": "stream",
          "text": [
            "\n",
            "ModuleType Version    PreRelease Name                                ExportedCommands\n",
            "---------- -------    ---------- ----                                ----------------\n",
            "Manifest   7.0.0.0               Microsoft.PowerShell.Management     {Add-Content, Clear-Content, Clear-Item, Clear-ItemProperty…}\n",
            "Manifest   7.0.0.0               Microsoft.PowerShell.Utility        {Add-Member, Add-Type, Clear-Variable, Compare-Object…}\n",
            "\n"
          ]
        }
      ],
      "source": [
        "Get-module"
      ]
    },
    {
      "cell_type": "code",
      "execution_count": 9,
      "metadata": {
        "dotnet_interactive": {
          "language": "pwsh"
        },
        "vscode": {
          "languageId": "polyglot-notebook"
        }
      },
      "outputs": [
        {
          "name": "stdout",
          "output_type": "stream",
          "text": [
            "Enter-AzShell\n",
            "Out-Display\n",
            "od\n"
          ]
        }
      ],
      "source": [
        "(Get-Module Microsoft.DotNet.Interactive.PowerShell -ListAvailable ).exportedCommands.keys "
      ]
    },
    {
      "cell_type": "code",
      "execution_count": null,
      "metadata": {
        "dotnet_interactive": {
          "language": "pwsh"
        },
        "vscode": {
          "languageId": "polyglot-notebook"
        }
      },
      "outputs": [],
      "source": [
        "Get-Module -ListAvailable | \n",
        "    group -no -Property @{e={\n",
        "        Split-Path -Parent $_.Path | \n",
        "            %{if ([Version]::TryParse((Split-Path $_ -Leaf), [ref]$null)) {Split-Path -Parent $_} else {$_} } | \n",
        "                 Split-Path -Parent\n",
        "     }} | ft -AutoSize -wrap  "
      ]
    },
    {
      "attachments": {},
      "cell_type": "markdown",
      "metadata": {},
      "source": [
        "## We can do normal shell / command-line things ... "
      ]
    },
    {
      "cell_type": "code",
      "execution_count": null,
      "metadata": {
        "dotnet_interactive": {
          "language": "pwsh"
        },
        "vscode": {
          "languageId": "polyglot-notebook"
        }
      },
      "outputs": [],
      "source": [
        "nslookup google.com"
      ]
    },
    {
      "cell_type": "code",
      "execution_count": null,
      "metadata": {
        "dotnet_interactive": {
          "language": "pwsh"
        },
        "vscode": {
          "languageId": "polyglot-notebook"
        }
      },
      "outputs": [],
      "source": [
        "write-host -ForegroundColor Green \"boo hoo\""
      ]
    },
    {
      "attachments": {},
      "cell_type": "markdown",
      "metadata": {},
      "source": [
        "## Where were we called from ?"
      ]
    },
    {
      "cell_type": "code",
      "execution_count": null,
      "metadata": {
        "dotnet_interactive": {
          "language": "pwsh"
        },
        "vscode": {
          "languageId": "polyglot-notebook"
        }
      },
      "outputs": [],
      "source": [
        "$pshome\n",
        "$p = Get-process -id $pid   \n",
        "$p, $p.Parent, $p.Parent.Parent,$p.Parent.Parent.parent,$p.Parent.Parent.parent.parent\n",
        "Get-CimInstance -ClassName win32_process -Filter \"processID = $($p.id)\" |  select -expand commandline\n",
        "Get-CimInstance -ClassName win32_process -Filter \"processID = $($p.Parent.id)\" |  select -expand commandline\n",
        "Get-CimInstance -ClassName win32_process -Filter \"processID = $($p.Parent.parent.id)\" |  select -expand commandline\n",
        "Get-CimInstance -ClassName win32_process -Filter \"processID = $($p.Parent.parent.parent.id)\" |  select -expand commandline\n",
        "Get-CimInstance -ClassName win32_process -Filter \"processID = $($p.Parent.parent.parent.parent.id)\" |  select -expand commandline"
      ]
    },
    {
      "attachments": {},
      "cell_type": "markdown",
      "metadata": {},
      "source": [
        "*In a browser you can check who owns the port you connected to*   \n",
        "Note: things which display a progress bar and then try to close it caused errors, so we turned progress display off. This seems to be fixed now :-) "
      ]
    },
    {
      "cell_type": "code",
      "execution_count": null,
      "metadata": {
        "dotnet_interactive": {
          "language": "pwsh"
        },
        "vscode": {
          "languageId": "polyglot-notebook"
        }
      },
      "outputs": [],
      "source": [
        "# $ProgressPreference = 'silentlyContinue'\n",
        "Get-NetTCPConnection -LocalPort 9815,8888 -State Listen | ft -a"
      ]
    },
    {
      "attachments": {},
      "cell_type": "markdown",
      "metadata": {},
      "source": [
        "## What is in the PowerShell module that comes with .Net Interactive ? "
      ]
    },
    {
      "cell_type": "code",
      "execution_count": 10,
      "metadata": {
        "dotnet_interactive": {
          "language": "pwsh"
        },
        "vscode": {
          "languageId": "polyglot-notebook"
        }
      },
      "outputs": [
        {
          "name": "stdout",
          "output_type": "stream",
          "text": [
            "\n",
            "CommandType     Name                                               Version    Source\n",
            "-----------     ----                                               -------    ------\n",
            "Cmdlet          Enter-AzShell                                      0.1.0      Microsoft.DotNet.Interactive.PowerShell\n",
            "Cmdlet          Out-Display                                        0.1.0      Microsoft.DotNet.Interactive.PowerShell\n",
            "\n"
          ]
        }
      ],
      "source": [
        "ipmo Microsoft.DotNet.Interactive.PowerShell\n",
        "Get-command -Module Microsoft.DotNet.Interactive.PowerShell"
      ]
    },
    {
      "attachments": {},
      "cell_type": "markdown",
      "metadata": {},
      "source": [
        "## Out-Display & preformed HTML\n",
        "First magic command  `#!time` and use of  `[Microsoft.DotNet.Interactive.Kernel]::HTML($html)` "
      ]
    },
    {
      "cell_type": "code",
      "execution_count": null,
      "metadata": {
        "dotnet_interactive": {
          "language": "pwsh"
        },
        "vscode": {
          "languageId": "polyglot-notebook"
        }
      },
      "outputs": [],
      "source": [
        "#!time \n",
        "$x = \"Counting\" | Out-Display -PassThru\n",
        "1..5 | %{sleep 1; $x.Update($_) }"
      ]
    },
    {
      "cell_type": "code",
      "execution_count": null,
      "metadata": {
        "dotnet_interactive": {
          "language": "pwsh"
        },
        "vscode": {
          "languageId": "polyglot-notebook"
        }
      },
      "outputs": [],
      "source": [
        "$html = Get-Command -Module Microsoft.DotNet.Interactive.PowerShell | \n",
        "        ConvertTo-Html -Fragment -Property Name , Version \n",
        "\n",
        "[Microsoft.DotNet.Interactive.Kernel]::HTML($html) | Out-Display"
      ]
    },
    {
      "attachments": {},
      "cell_type": "markdown",
      "metadata": {},
      "source": [
        "**If you don't have the files for the next code-cell skip it and load the SVG data from the following one**"
      ]
    },
    {
      "cell_type": "code",
      "execution_count": null,
      "metadata": {
        "dotnet_interactive": {
          "language": "pwsh"
        },
        "vscode": {
          "languageId": "polyglot-notebook"
        }
      },
      "outputs": [],
      "source": [
        "Import-Module ~\\documents\\azdo\\serverautomationdemo\\utils\\PSGraph\\ -Force # My version!\n",
        ". ~\\documents\\azdo\\serverautomationdemo\\utils\\PlotDevopsPipelines.ps1\n",
        "\n",
        "$svg = plot_pipeline ~\\documents\\azdo\\serverautomationdemo\\CI\\FollowOn.pipeline.yml  -DestinationPath \"\" \n",
        "$svg | out-file -Encoding utf8 -path ./demo.svg"
      ]
    },
    {
      "attachments": {},
      "cell_type": "markdown",
      "metadata": {},
      "source": [
        "**If you used the previous code-cell you can skip the next one**"
      ]
    },
    {
      "cell_type": "code",
      "execution_count": null,
      "metadata": {
        "dotnet_interactive": {
          "language": "pwsh"
        },
        "vscode": {
          "languageId": "polyglot-notebook"
        }
      },
      "outputs": [],
      "source": [
        "$svg = Get-Content ./demo.svg"
      ]
    },
    {
      "cell_type": "code",
      "execution_count": null,
      "metadata": {
        "dotnet_interactive": {
          "language": "pwsh"
        },
        "vscode": {
          "languageId": "polyglot-notebook"
        }
      },
      "outputs": [],
      "source": [
        "[Microsoft.DotNet.Interactive.Kernel]::HTML($svg) | Out-Display"
      ]
    },
    {
      "attachments": {},
      "cell_type": "markdown",
      "metadata": {},
      "source": [
        "## My wrapper for Out-Display"
      ]
    },
    {
      "cell_type": "code",
      "execution_count": null,
      "metadata": {
        "dotnet_interactive": {
          "language": "pwsh"
        },
        "vscode": {
          "languageId": "polyglot-notebook"
        }
      },
      "outputs": [],
      "source": [
        ". .\\NotebookOutput.ps1\n",
        "Out-cell -? | select -ExpandProperty Description | Out-String"
      ]
    },
    {
      "cell_type": "code",
      "execution_count": null,
      "metadata": {
        "dotnet_interactive": {
          "language": "pwsh"
        },
        "polyglot_notebook": {
          "kernelName": "pwsh"
        },
        "vscode": {
          "languageId": "polyglot-notebook"
        }
      },
      "outputs": [],
      "source": [
        "out-cell -?"
      ]
    },
    {
      "cell_type": "code",
      "execution_count": null,
      "metadata": {
        "dotnet_interactive": {
          "language": "pwsh"
        },
        "vscode": {
          "languageId": "polyglot-notebook"
        }
      },
      "outputs": [],
      "source": [
        "# Pipe in , convert to table.\n",
        "Get-command -Module  Microsoft.DotNet.Interactive.PowerShell \n",
        "    | Out-Cell -AsTable -Property name,version"
      ]
    },
    {
      "cell_type": "code",
      "execution_count": null,
      "metadata": {
        "dotnet_interactive": {
          "language": "pwsh"
        },
        "vscode": {
          "languageId": "polyglot-notebook"
        }
      },
      "outputs": [],
      "source": [
        "#Pass script block, format as list\n",
        "Cell -AsList -Property name,version {\n",
        "    Get-command -Module  Microsoft.DotNet.Interactive.PowerShell \n",
        "}"
      ]
    },
    {
      "cell_type": "code",
      "execution_count": null,
      "metadata": {
        "dotnet_interactive": {
          "language": "pwsh"
        },
        "vscode": {
          "languageId": "polyglot-notebook"
        }
      },
      "outputs": [],
      "source": [
        "#Relies on earlier cell to set $svg - pass raw output in a variable  \n",
        "if ($svg) {\n",
        "    cell $svg\n",
        "}"
      ]
    },
    {
      "cell_type": "code",
      "execution_count": null,
      "metadata": {
        "dotnet_interactive": {
          "language": "pwsh"
        },
        "vscode": {
          "languageId": "polyglot-notebook"
        }
      },
      "outputs": [],
      "source": [
        "#If we loaded the grpah module earlier, raw output from a script block.\n",
        "if (test-path Function:\\plot_pipeline) {\n",
        "    cell  {plot_pipeline ~\\documents\\azdo\\serverautomationdemo\\CI\\FollowOn.pipeline.yml  -DestinationPath \"\" }\n",
        "}"
      ]
    },
    {
      "attachments": {},
      "cell_type": "markdown",
      "metadata": {},
      "source": [
        "There wrapper has its own more notebook friendly implementation of `Write-Progress` and can output a collapsible view, these can be nested to give a complex tree structure "
      ]
    },
    {
      "cell_type": "code",
      "execution_count": null,
      "metadata": {
        "dotnet_interactive": {
          "language": "pwsh"
        },
        "vscode": {
          "languageId": "polyglot-notebook"
        }
      },
      "outputs": [],
      "source": [
        "Get-command -Module  Microsoft.DotNet.Interactive.PowerShell  |  Out-TreeView -Title \"Commands in the module\" -Property Name,Version | out-cell"
      ]
    },
    {
      "attachments": {},
      "cell_type": "markdown",
      "metadata": {},
      "source": [
        "## Doug Finke's Notebook module"
      ]
    },
    {
      "cell_type": "code",
      "execution_count": 11,
      "metadata": {
        "dotnet_interactive": {
          "language": "pwsh"
        },
        "vscode": {
          "languageId": "polyglot-notebook"
        }
      },
      "outputs": [
        {
          "name": "stdout",
          "output_type": "stream",
          "text": [
            "\n",
            "Name                              Synopsis\n",
            "----                              --------\n",
            "Add-NotebookCode                  Add-NotebookCode adds PowerShell code to a code block\n",
            "Add-NotebookMarkdown              Add-NotebookMarkdown adds Markdown to a markdown block\n",
            "Convert-MarkdownToNoteBook        Convert a markdown file to an interactive PowerShell Notebook\n",
            "ConvertFrom-IPYNB                 Take an existing Jupyter Notebook and convert it to markdown. Optimized for .Net interactive/PowerShell\n",
            "ConvertFrom-NotebookToMarkdown    Take an exiting PowerShell Notebook and convert it to markdown\n",
            "ConvertTo-PowerShellNoteBook      Convert PowerShell scripts (ps1 files) to interactive notebooks (ipynb files)\n",
            "ConvertTo-SQLNoteBook             \n",
            "Export-AsPowerShellNotebook       Takes strings of PowerShell and creates and interactive Jupyter Notebook. Try exporting your PowerShell history to a notebook. Check the\n",
            "                                  examples\n",
            "Export-NotebookToPowerShellScript Exports all code blocks from a PowerShell Notebook to a PowerShell script\n",
            "Export-NotebookToSqlScript        Exports all code blocks from a SQL Notebook to a SQL script\n",
            "Find-ParameterizedCell            Reads a Jupyter Notebook and returns all cells with a tag -eq to 'parameters'\n",
            "Get-Notebook                      Get-Notebook reads the metadata of  Jupyter Notebooks\n",
            "Get-NotebookContent              \n",
            "                                  Get-NotebookContent [[-Path] <Object>] [-PassThru] [-IncludeOutput] [<CommonParameters>]\n",
            "                                 \n",
            "                                  Get-NotebookContent [[-Path] <Object>] [-JustCode] [-PassThru] [-IncludeOutput] [<CommonParameters>]\n",
            "                                 \n",
            "                                  Get-NotebookContent [[-Path] <Object>] [-JustMarkdown] [-PassThru] [-IncludeOutput] [<CommonParameters>]\n",
            "                                 \n",
            "Get-ParameterInsertionIndex      \n",
            "                                  Get-ParameterInsertionIndex [-InputNotebook] <Object> [<CommonParameters>]\n",
            "                                 \n",
            "Get-ParsedSql                    \n",
            "                                  Get-ParsedSql [[-ScriptPath] <Object>]\n",
            "                                 \n",
            "Get-ParsedSqlOffsets             \n",
            "                                  Get-ParsedSqlOffsets [[-ScriptPath] <Object>] [[-IncludeGaps] <Object>] [-ExtractCommentsInsideBatches] [<CommonParameters>]\n",
            "                                 \n",
            "Invoke-ExecuteNotebook            Adds a new cell tagged with injected-parameters with input parameters in order to overwrite the values in parameters.\n",
            "                                  If no cell is tagged with parameters the injected cell will be inserted at the top of the notebook.\n",
            "Invoke-PowerShellNotebook         Invoke-PowerShellNotebook executes all the PowerShell code blocks in a PowerShell Notebook.\n",
            "loadScriptDomModules             \n",
            "                                  loadScriptDomModules\n",
            "                                 \n",
            "New-CodeCell                     \n",
            "                                  New-CodeCell [-Source] <Object> [-DotNetInteractive] [<CommonParameters>]\n",
            "                                 \n",
            "New-GistNotebook                 \n",
            "                                  New-GistNotebook [-Path <Object>] [-FileName <Object>] [-GistDescription <Object>] [-Public] [-Show] [<CommonParameters>]\n",
            "                                 \n",
            "                                  New-GistNotebook [-Contents] <Object> [-FileName] <Object> [-GistDescription <Object>] [-Public] [-Show] [<CommonParameters>]\n",
            "                                 \n",
            "New-InteractiveNotebook           Create a new interactive notebook as a `dib` or `ipynb`, launching vscode\n",
            "New-PSNotebook                    Creates a new PowerShell Notebook that can be returned as text or saves as a `ipynb` file.\n",
            "New-PSNotebookRunspace            New-PSNotebookRunspace instantiates the PSNotebookRunspace\n",
            "New-SQLNotebook                   Creates a new PowerShell Notebook that can be returned as text or saves as a `ipynb` file.\n",
            "Open-InteractiveNotebook          Open a local notebook or from remote source\n",
            "Set-NotebookToPS                  Re-write metadata from a VSCode add-in - C# with PWSH magic commands to server Jupyter style\n",
            "Test-HasParameterizedCell        \n",
            "                                  Test-HasParameterizedCell [[-InputNotebook] <Object>] [<CommonParameters>]\n",
            "                                 \n",
            "Test-Uri                         \n",
            "                                  Test-Uri [[-FullName] <Object>]\n",
            "                                 \n",
            "\n"
          ]
        }
      ],
      "source": [
        "ipmo PowerShellNotebook\n",
        "$ProgressPreference = 'silentlyContinue'\n",
        "Get-command -Module PowerShellNotebook | Get-help | ft -a -wrap name,Synopsis"
      ]
    },
    {
      "cell_type": "code",
      "execution_count": null,
      "metadata": {
        "dotnet_interactive": {
          "language": "pwsh"
        },
        "vscode": {
          "languageId": "polyglot-notebook"
        }
      },
      "outputs": [],
      "source": [
        "Get-Notebook '.\\Git tutorial.ipynb'\n",
        " \n",
        "Get-NotebookContent '.\\Git tutorial.ipynb' | Select -first 5 | ft "
      ]
    },
    {
      "attachments": {},
      "cell_type": "markdown",
      "metadata": {},
      "source": [
        "## Mixed languages, even in a single block, & variable sharing via magic commands\n",
        "[Details](https://github.com/dotnet/interactive/blob/main/docs/variable-sharing.md)"
      ]
    },
    {
      "cell_type": "code",
      "execution_count": null,
      "metadata": {
        "dotnet_interactive": {
          "language": "pwsh"
        },
        "vscode": {
          "languageId": "polyglot-notebook"
        }
      },
      "outputs": [],
      "source": [
        "Write-Output \"Hello from PowerShell!\"\n",
        "\n",
        "#!fsharp\n",
        "let numbers = [0 .. 5]\n",
        "numbers"
      ]
    },
    {
      "cell_type": "code",
      "execution_count": null,
      "metadata": {
        "dotnet_interactive": {
          "language": "pwsh"
        },
        "vscode": {
          "languageId": "polyglot-notebook"
        }
      },
      "outputs": [],
      "source": [
        "#!share  --from fsharp numbers\n",
        "$numbers"
      ]
    },
    {
      "cell_type": "code",
      "execution_count": null,
      "metadata": {
        "dotnet_interactive": {
          "language": "pwsh"
        },
        "vscode": {
          "languageId": "polyglot-notebook"
        }
      },
      "outputs": [],
      "source": [
        "#!value --name someJson\n",
        "{\n",
        "    \"what\": \"Some Json\",\n",
        "    \"why\": \"To share it!\"\n",
        "}"
      ]
    },
    {
      "cell_type": "code",
      "execution_count": null,
      "metadata": {
        "dotnet_interactive": {
          "language": "pwsh"
        },
        "vscode": {
          "languageId": "polyglot-notebook"
        }
      },
      "outputs": [],
      "source": [
        "#!share someJson --from value\n",
        "ConvertFrom-Json -InputObject $someJson"
      ]
    },
    {
      "attachments": {},
      "cell_type": "markdown",
      "metadata": {},
      "source": [
        "## List of Magic commands"
      ]
    },
    {
      "cell_type": "code",
      "execution_count": null,
      "metadata": {
        "dotnet_interactive": {
          "language": "pwsh"
        },
        "vscode": {
          "languageId": "polyglot-notebook"
        }
      },
      "outputs": [],
      "source": [
        "#!lsmagic"
      ]
    }
  ],
  "metadata": {
    "kernelspec": {
      "display_name": ".NET (C#)",
      "language": "C#",
      "name": ".net-csharp"
    },
    "language_info": {
      "file_extension": ".cs",
      "mimetype": "text/x-csharp",
      "name": "C#",
      "pygments_lexer": "csharp",
      "version": "8.0"
    }
  },
  "nbformat": 4,
  "nbformat_minor": 4
}
