{
  "cells": [
    {
      "cell_type": "code",
      "execution_count": null,
      "metadata": {
        "dotnet_interactive": {
          "language": "csharp"
        }
      },
      "outputs": [],
      "source": [
        "#r \"nuget: DotLanguage.InteractiveExtension, *-*\""
      ]
    },
    {
      "cell_type": "code",
      "execution_count": null,
      "metadata": {
        "dotnet_interactive": {
          "language": "csharp"
        }
      },
      "outputs": [],
      "source": [
        "#!dot\n",
        "graph ethane {\n",
        "    C_0 -- H_0 [type=s];\n",
        "    C_0 -- H_1 [type=s];\n",
        "    C_0 -- H_2 [type=s];\n",
        "    C_0 -- C_1 [type=s];\n",
        "    C_1 -- H_3 [type=s];\n",
        "    C_1 -- H_4 [type=s];\n",
        "    C_1 -- H_5 [type=s];\n",
        "}"
      ]
    },
    {
      "cell_type": "code",
      "execution_count": null,
      "metadata": {
        "dotnet_interactive": {
          "language": "csharp"
        }
      },
      "outputs": [],
      "source": [
        "#!dot\n",
        "graph {    \n",
        "    bgcolor= transparent;\n",
        "    node [color=white] \n",
        "    a -- b[color=red,penwidth=3.0];\n",
        "    b -- c;\n",
        "    c -- d[color=red,penwidth=3.0];\n",
        "    d -- e;\n",
        "    e -- f;\n",
        "    a -- d;\n",
        "    b -- d[color=red,penwidth=3.0];\n",
        "    c -- f[color=red,penwidth=3.0];\n",
        "}"
      ]
    },
    {
      "cell_type": "code",
      "execution_count": null,
      "metadata": {
        "dotnet_interactive": {
          "language": "csharp"
        }
      },
      "outputs": [],
      "source": [
        "#!dot\n",
        "digraph G {\n",
        "    node [shape=rect];\n",
        "\n",
        "    subgraph cluster_0 {\n",
        "        style=filled;\n",
        "        color=lightgrey;\n",
        "        node [style=filled,color=white];\n",
        "        a0 -> a1 -> a2 -> a3;\n",
        "        label = \"Hello\";\n",
        "    }\n",
        "\n",
        "    subgraph cluster_1 {\n",
        "        node [style=filled];\n",
        "        b0 -> b1 -> b2 -> b3;\n",
        "        label = \"World\";\n",
        "        color=blue\n",
        "    }\n",
        "\n",
        "    start -> a0;\n",
        "    start -> b0;\n",
        "    a1 -> b3;\n",
        "    b2 -> a3;\n",
        "    a3 -> a0;\n",
        "    a3 -> end;\n",
        "    b3 -> end;\n",
        "\n",
        "    start [shape=Mdiamond];\n",
        "    end [shape=Msquare];\n",
        "}"
      ]
    },
    {
      "cell_type": "code",
      "execution_count": null,
      "metadata": {
        "dotnet_interactive": {
          "language": "pwsh"
        },
        "polyglot_notebook": {
          "kernelName": "pwsh"
        }
      },
      "outputs": [],
      "source": [
        "#safe to ignore error if DOT langage is already loaded \n",
        ". .\\NotebookOutput.ps1\n",
        ". .\\PlotAzDoPipeline.ps1    # my code using my updates to Kevin Marquette's PSGraph DSL "
      ]
    },
    {
      "attachments": {},
      "cell_type": "markdown",
      "metadata": {},
      "source": [
        "PowerShell below equivalent to magic command at the top. "
      ]
    },
    {
      "cell_type": "code",
      "execution_count": null,
      "metadata": {
        "dotnet_interactive": {
          "language": "pwsh"
        },
        "polyglot_notebook": {
          "kernelName": "pwsh"
        }
      },
      "outputs": [],
      "source": [
        "DotLanguage @\" \n",
        "graph ethane {\n",
        "    C_0 -- H_0 [type=s];\n",
        "    C_0 -- H_1 [type=s];\n",
        "    C_0 -- H_2 [type=s];\n",
        "    C_0 -- C_1 [type=s];\n",
        "    C_1 -- H_3 [type=s];\n",
        "    C_1 -- H_4 [type=s];\n",
        "    C_1 -- H_5 [type=s];\n",
        "}\n",
        "\"@"
      ]
    },
    {
      "cell_type": "code",
      "execution_count": null,
      "metadata": {
        "dotnet_interactive": {
          "language": "pwsh"
        },
        "polyglot_notebook": {
          "kernelName": "pwsh"
        }
      },
      "outputs": [],
      "source": [
        "plot_pipeline -YAMLPath ~\\documents\\azdo\\serverautomationdemo\\CI\\FollowOn.pipeline.yml -Raw | Out-DotLanguage"
      ]
    }
  ],
  "metadata": {
    "kernelspec": {
      "display_name": ".NET (C#)",
      "language": "C#",
      "name": ".net-csharp"
    },
    "language_info": {
      "file_extension": ".cs",
      "mimetype": "text/x-csharp",
      "name": "polyglot-notebook",
      "pygments_lexer": "csharp",
      "version": "8.0"
    },
    "polyglot_notebook": {
      "kernelInfo": {
        "defaultKernelName": "csharp",
        "items": [
          {
            "aliases": [],
            "name": "csharp"
          },
          {
            "aliases": [],
            "languageName": "dotlang",
            "name": "dot"
          }
        ]
      }
    }
  },
  "nbformat": 4,
  "nbformat_minor": 4
}
