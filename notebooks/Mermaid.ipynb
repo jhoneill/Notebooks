{
  "cells": [
    {
      "attachments": {},
      "cell_type": "markdown",
      "metadata": {},
      "source": [
        "# Mermaid charting \n",
        "\n",
        "We no longer need to load support - it was  extension lab add on.     \n",
        "`#r \"nuget:Microsoft.DotNet.Interactive.ExtensionLab,*-*`  in a csharp cell was used to load it   \n",
        "**but now we can go straight to the magic command**"
      ]
    },
    {
      "attachments": {},
      "cell_type": "markdown",
      "metadata": {},
      "source": [
        "## Magic command\n",
        "Now we have a magic command for mermaid"
      ]
    },
    {
      "cell_type": "code",
      "execution_count": null,
      "metadata": {
        "dotnet_interactive": {
          "language": "mermaid"
        }
      },
      "outputs": [],
      "source": [
        "#!mermaid\n",
        "sequenceDiagram\n",
        "    participant Alice\n",
        "    participant Bob\n",
        "    Alice->>John: Hello John, how are you?\n",
        "    loop Healthcheck\n",
        "        John->>John: Fight against hypochondria\n",
        "    end\n",
        "    Note right of John: Rational thoughts "
      ]
    },
    {
      "cell_type": "code",
      "execution_count": null,
      "metadata": {},
      "outputs": [],
      "source": []
    },
    {
      "attachments": {},
      "cell_type": "markdown",
      "metadata": {},
      "source": [
        "## PowerShell \n",
        "Define a PowerShell function `Out Mermaid` (with an alias of `Mermaid` so we can call it in more dsl-y style);   \n",
        "it accepts a mermaid chart definiton as a parameter (example with the definition) or from the   \n",
        "pipeline (see subsequent example)  \n",
        "\n",
        "**MK1  from when the extension was not part of the notebook installation outputs the minimum correct HTML / Javascript **\n",
        "\n",
        "```\n",
        "function Out-Mermaid {\n",
        "    [alias('Mermaid')]\n",
        "    param (\n",
        "        [parameter(ValueFromPipeline=$true,Mandatory=$true,Position=0)]\n",
        "        $Text\n",
        "    )\n",
        "    begin {\n",
        "        $mermaid = \"\"\n",
        "        $guid    = ([guid]::NewGuid().ToString() -replace '\\W','') \n",
        "        $html    = @\"\n",
        "<div style=\"background-color:white;\"><script type=\"text/javascript\">\n",
        "loadMermaid_$guid = () => {(require.config({ 'paths': { 'context': '1.0.252001', 'mermaidUri' : 'https://colombod.github.io/dotnet-interactive-cdn/extensionlab/1.0.252001/mermaid/mermaidapi', 'urlArgs': 'cacheBuster=7de2aec4927849b5a989d2305cf957bc' }}) || require)(['mermaidUri'], (mermaid) => {let renderTarget = document.getElementById('$guid'); mermaid.render( 'mermaid_$guid', ``~~Mermaid~~``, g => {renderTarget.innerHTML = g  });}, (error) => {console.log(error);});}\n",
        "if ((typeof(require) !==  typeof(Function)) || (typeof(require.config) !== typeof(Function))) {\n",
        "    let require_script = document.createElement('script');\n",
        "    require_script.setAttribute('src', 'https://cdnjs.cloudflare.com/ajax/libs/require.js/2.3.6/require.min.js');\n",
        "    require_script.setAttribute('type', 'text/javascript');\n",
        "    require_script.onload = function() {loadMermaid_$guid();};\n",
        "    document.getElementsByTagName('head')[0].appendChild(require_script);\n",
        "}\n",
        "else {loadMermaid_$guid();}\n",
        "</script><div id=\"$guid\"></div></div>\n",
        "\"@  }\n",
        "    process {$Mermaid +=  (\"`r`n\" + $Text -replace '^[\\r\\n]+','' -replace '[\\r\\n]+$','') }\n",
        "    end     {[Microsoft.DotNet.Interactive.Kernel]::HTML(($html -replace  '~~Mermaid~~',$mermaid ))  | Out-Display }\n",
        "}\n",
        "```\n",
        "\n",
        "**MK2  is neater**\n",
        "``` \n",
        "function Out-Mermaid {\n",
        "    [alias('Mermaid')]\n",
        "    param (\n",
        "        [parameter(ValueFromPipeline=$true,Mandatory=$true,Position=0)]\n",
        "        $Text\n",
        "    )\n",
        "    begin   {$mermaid  = \"\"}\n",
        "    process {$mermaid += (\"`r`n\" + $Text -replace '^[\\r\\n]+','' -replace '[\\r\\n]+$','') }\n",
        "    end     {$Kernel   = [Microsoft.DotNet.Interactive.Mermaid.MermaidKernel]::Current.ParentKernel | where name -eq \"mermaid\"\n",
        "             $command  = [Microsoft.DotNet.Interactive.Commands.SubmitCode]::new($mermaid)\n",
        "             $task     = $Kernel.SendAsync($command)\n",
        "    }\n",
        "}\n",
        "```\n",
        "\n",
        "\n"
      ]
    },
    {
      "attachments": {},
      "cell_type": "markdown",
      "metadata": {},
      "source": [
        "## Test with examples from [the mermaid home page](https://mermaid-js.github.io/mermaid/#/) "
      ]
    },
    {
      "cell_type": "code",
      "execution_count": 66,
      "metadata": {
        "dotnet_interactive": {
          "language": "pwsh"
        },
        "polyglot_notebook": {
          "kernelName": "pwsh"
        }
      },
      "outputs": [
        {
          "data": {
            "text/html": [
              "<details><summary>Draw networks using dot language.</summary>\r\n",
              "        <p>This extension adds support for <a href=\"https://www.graphviz.org/doc/info/lang.html\">dot </a> languages via <a href=\"https://github.com/hpcc-systems/hpcc-js-wasm\">hpcc-js/wasm</a>. Try this code:</p>\r\n",
              "<pre>\r\n",
              "    <code>\r\n",
              "#!dot\r\n",
              "graph ethane {\r\n",
              "    C_0 -- H_0 [type=s];\r\n",
              "    C_0 -- H_1 [type=s];\r\n",
              "    C_0 -- H_2 [type=s];\r\n",
              "    C_0 -- C_1 [type=s];\r\n",
              "    C_1 -- H_3 [type=s];\r\n",
              "    C_1 -- H_4 [type=s];\r\n",
              "    C_1 -- H_5 [type=s];\r\n",
              "}\r\n",
              "    </code>\r\n",
              "</pre>\r\n",
              "\r\n",
              "Change layout engine like this:\r\n",
              "\r\n",
              "</pre>\r\n",
              "#!dot --layout-engine neato\r\n",
              "graph G {\r\n",
              "    run -- intr;\r\n",
              "    intr -- runbl;\r\n",
              "    runbl -- run;\r\n",
              "    run -- kernel;\r\n",
              "    kernel -- zombie;\r\n",
              "    kernel -- sleep;\r\n",
              "    kernel -- runmem;\r\n",
              "    sleep -- swap;\r\n",
              "    swap -- runswap;\r\n",
              "    runswap -- new;\r\n",
              "    runswap -- runmem;\r\n",
              "    new -- runmem;\r\n",
              "    sleep -- runmem;\r\n",
              "}\r\n",
              "    </code>\r\n",
              "</pre>\r\n",
              "\r\n",
              "\r\n",
              "        </details>"
            ]
          },
          "metadata": {},
          "output_type": "display_data"
        },
        {
          "data": {
            "text/html": [
              "<details><summary>Explore data visually using the <a href=\"https://github.com/nteract/data-explorer\">nteract Data Explorer</a>.</summary>\r\n",
              "    <p>This extension adds the ability to sort, filter, and visualize data using the <a href=\"https://github.com/nteract/data-explorer\">nteract Data Explorer</a>. Use the <code>ExploreWithNteract()</code> extension method with variables of type <code>JsonElement</code>, <code>IEnumerable<T></code> or <code>IDataView</code> to render the data explorer.</p>\r\n",
              "<pre>\r\n",
              "    <code>\r\n",
              "    using Microsoft.Data.Analysis;\r\n",
              "    using System.Collections.Generic;\r\n",
              "    using Microsoft.ML;\r\n",
              "\r\n",
              "    var dataFrame = DataFrame.LoadCsv(\"./Data.csv\");\r\n",
              "\r\n",
              "    dataFrame.ExploreWithNteract().Display();\r\n",
              "    </code>\r\n",
              "</pre>\r\n",
              "\r\n",
              "<p>To set the nteract Data Explorer use the following code</p>\r\n",
              "<pre>\r\n",
              "    <code>\r\n",
              "    DataExplorer.SetDefault<TabularDataResource, NteractDataExplorer>();\r\n",
              "    </code>\r\n",
              "</pre>\r\n",
              "    <img src=\"https://user-images.githubusercontent.com/547415/109559345-621e5880-7a8f-11eb-8b98-d4feeaac116f.png\" width=\"75%\">\r\n",
              "    </details>"
            ]
          },
          "metadata": {},
          "output_type": "display_data"
        },
        {
          "data": {
            "text/html": [
              "<details><summary>Explore data visually using the <a href=\"https://github.com/microsoft/SandDance\">SandDance Explorer</a>.</summary>\r\n",
              "    <p>This extension adds the ability to sort, filter, and visualize data using the <a href=\"https://github.com/microsoft/SandDance\">SandDance Explorer</a>. Use the <code>ExploreWithSandDance()</code> extension method with variables of type <code>JsonElement</code>, <code>IEnumerable<T></code> or <code>IDataView</code> to render the data explorer.</p>\r\n",
              "<pre>\r\n",
              "    <code>\r\n",
              "    using Microsoft.Data.Analysis;\r\n",
              "    using System.Collections.Generic;\r\n",
              "    using Microsoft.ML;\r\n",
              "\r\n",
              "    var dataFrame = DataFrame.LoadCsv(\"./Data.csv\");\r\n",
              "\r\n",
              "    dataFrame.ExploreWithSandDance().Display();\r\n",
              "    </code>\r\n",
              "</pre>\r\n",
              "<p>To set the SandDance Explorer use the following code</p>\r\n",
              "<pre>\r\n",
              "    <code>\r\n",
              "    DataExplorer.SetDefault<TabularDataResource, SandDanceDataExplorer>();\r\n",
              "    </code>\r\n",
              "</pre>\r\n",
              "    <img src=\"https://user-images.githubusercontent.com/11507384/54236654-52d42800-44d1-11e9-859e-6c5d297a46d2.gif\" width=\"30%\">\r\n",
              "    </details>"
            ]
          },
          "metadata": {},
          "output_type": "display_data"
        }
      ],
      "source": [
        ". .\\NotebookOutput.ps1"
      ]
    },
    {
      "cell_type": "code",
      "execution_count": null,
      "metadata": {
        "dotnet_interactive": {
          "language": "pwsh"
        }
      },
      "outputs": [],
      "source": [
        "Mermaid @'\n",
        "sequenceDiagram\n",
        "    participant Alice\n",
        "    participant Bob\n",
        "    Alice->>John: Hello John, how are you?\n",
        "    loop Healthcheck\n",
        "        John->>John: Fight against hypochondria\n",
        "    end\n",
        "    Note right of John: Rational thoughts\n",
        "'@"
      ]
    },
    {
      "cell_type": "code",
      "execution_count": null,
      "metadata": {
        "dotnet_interactive": {
          "language": "pwsh"
        }
      },
      "outputs": [],
      "source": [
        "@'\n",
        "graph TD;\n",
        "    A-->B;\n",
        "    A-->C;\n",
        "    B-->D;\n",
        "    C-->D;\n",
        "'@ | Out-Mermaid"
      ]
    },
    {
      "cell_type": "code",
      "execution_count": null,
      "metadata": {
        "dotnet_interactive": {
          "language": "pwsh"
        }
      },
      "outputs": [],
      "source": [
        "Out-Mermaid @'\n",
        "gantt\n",
        "dateFormat  YYYY-MM-DD\n",
        "title Adding GANTT diagram to mermaid\n",
        "excludes weekdays 2014-01-10\n",
        "\n",
        "section A section\n",
        "Completed task            :done,    des1, 2014-01-06,2014-01-08\n",
        "Active task               :active,  des2, 2014-01-09, 3d\n",
        "Future task               :         des3, after des2, 5d\n",
        "Future task2               :         des4, after des3, 5d\n",
        "'@"
      ]
    },
    {
      "cell_type": "code",
      "execution_count": null,
      "metadata": {
        "dotnet_interactive": {
          "language": "pwsh"
        }
      },
      "outputs": [],
      "source": [
        "Mermaid @'\n",
        "classDiagram\n",
        "Class01 <|-- AveryLongClass : Cool\n",
        "Class03 *-- Class04\n",
        "Class05 o-- Class06\n",
        "Class07 .. Class08\n",
        "Class09 --> C2 : Where am i?\n",
        "Class09 --* C3\n",
        "Class09 --|> Class07\n",
        "Class07 : equals()\n",
        "Class07 : Object[] elementData\n",
        "Class01 : size()\n",
        "Class01 : int chimp\n",
        "Class01 : int gorilla\n",
        "Class08 <--> C2: Cool label\n",
        "'@"
      ]
    },
    {
      "cell_type": "code",
      "execution_count": null,
      "metadata": {
        "dotnet_interactive": {
          "language": "pwsh"
        }
      },
      "outputs": [],
      "source": [
        "Mermaid @'\n",
        "erDiagram\n",
        "    CUSTOMER ||--o{ ORDER : places\n",
        "    ORDER ||--|{ LINE-ITEM : contains\n",
        "    CUSTOMER }|..|{ DELIVERY-ADDRESS : uses\n",
        "'@\n"
      ]
    },
    {
      "cell_type": "code",
      "execution_count": null,
      "metadata": {
        "dotnet_interactive": {
          "language": "pwsh"
        }
      },
      "outputs": [],
      "source": [
        "Mermaid @' \n",
        "journey\n",
        "    title My working day\n",
        "    section Go to work\n",
        "      Make tea: 5: Me\n",
        "      Go upstairs: 3: Me\n",
        "      Do work: 1: Me, Cat\n",
        "    section Go home\n",
        "      Go downstairs: 5: Me\n",
        "      Sit down: 5: Me\n",
        "'@"
      ]
    },
    {
      "attachments": {},
      "cell_type": "markdown",
      "metadata": {},
      "source": [
        "PowerShell command above equivalent to magic command below "
      ]
    },
    {
      "cell_type": "code",
      "execution_count": null,
      "metadata": {
        "dotnet_interactive": {
          "language": "pwsh"
        }
      },
      "outputs": [],
      "source": [
        "#!mermaid\n",
        "journey\n",
        "    title My working day\n",
        "    section Go to work\n",
        "      Make tea: 5: Me\n",
        "      Go upstairs: 3: Me\n",
        "      Do work: 1: Me, Cat\n",
        "    section Go home\n",
        "      Go downstairs: 5: Me\n",
        "      Sit down: 5: Me"
      ]
    }
  ],
  "metadata": {
    "kernelspec": {
      "display_name": ".NET (C#)",
      "language": "C#",
      "name": ".net-csharp"
    },
    "language_info": {
      "file_extension": ".cs",
      "mimetype": "text/x-csharp",
      "name": "polyglot-notebook",
      "pygments_lexer": "csharp",
      "version": "8.0"
    },
    "polyglot_notebook": {
      "kernelInfo": {
        "defaultKernelName": "csharp",
        "items": [
          {
            "aliases": [],
            "name": "csharp"
          },
          {
            "aliases": [],
            "languageName": "dotlang",
            "name": "dot"
          }
        ]
      }
    }
  },
  "nbformat": 4,
  "nbformat_minor": 4
}
