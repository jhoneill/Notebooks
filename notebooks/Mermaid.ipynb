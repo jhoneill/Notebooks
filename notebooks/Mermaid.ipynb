{
  "cells": [
    {
      "cell_type": "markdown",
      "metadata": {},
      "source": [
        "# Mermaid charting \n",
        "First we need to load support in the extension lab add on. "
      ]
    },
    {
      "cell_type": "code",
      "execution_count": null,
      "metadata": {
        "dotnet_interactive": {
          "language": "csharp"
        }
      },
      "outputs": [
        {
          "data": {
            "text/plain": "Installed package Microsoft.DotNet.Interactive.ExtensionLab version 1.0.0-beta.21215.5"
          },
          "output_type": "unknown"
        },
        {
          "data": {
            "text/markdown": "Loading extensions from `Microsoft.DotNet.Interactive.ExtensionLab.dll`"
          },
          "output_type": "unknown"
        },
        {
          "data": {
            "text/html": "<details><summary>Create strongly-typed dataframes using<code>#!linqify</code>.</summary>\r\n    <p>The <code>#!linqify</code> magic command replaces a <a href=\"https://www.nuget.org/packages/Microsoft.Data.Analysis/\"><code>Microsoft.Data.Analysis.DataFrame</code></a> variable with a generated, strongly-typed data frame, allowing the use of LINQ operations over the contained data.</p>\r\n    </details>"
          },
          "output_type": "unknown"
        },
        {
          "data": {
            "text/html": "<details><summary>Inspect code compilation details using the <code>#!inspect</code> magic command.</summary>\r\n    <p>The <code>#!inspect</code> magic command allows you to see the C# decompilation, IL, and JIT Asm for the code in a C# cell.</p>\r\n    <img src=\"https://user-images.githubusercontent.com/547415/109560515-d5749a00-7a90-11eb-9fa3-51b737345bb4.png\" width=\"75%\" />\r\n    </details>"
          },
          "output_type": "unknown"
        },
        {
          "data": {
            "text/html": "<details><summary>Explain things visually using the <a href=\"https://mermaid-js.github.io/mermaid/\">Mermaid language</a>.</summary>\r\n    <p>This extension adds a new kernel that can render Mermaid markdown. This code will render a sequence diagram:</p>\r\n<pre>\r\n    <code>\r\n#!mermaid\r\nsequenceDiagram\r\n    participant Alice\r\n    participant Bob\r\n    Alice->>John: Hello John, how are you?\r\n    loop Healthcheck\r\n        John->>John: Fight against hypochondria\r\n    end\r\n    Note right of John: Rational thoughts <br/>prevail!\r\n    John-->>Alice: Great!\r\n    John->>Bob: How about you?\r\n    Bob-->>John: Jolly good!\r\n    </code>\r\n</pre>\r\n<p>This extension also adds gestures to render a class diagram from any type. Use the <code>ExploreWithUmlClassDiagram().Display();</code> extension method on <code>System.Type</code> to render its class diagram.</p>\r\n\r\n<pre>\r\n    <code>\r\ntypeof(List<string>).ExploreWithUmlClassDiagram().Display();\r\n    </code>\r\n</pre>\r\n    <img src=\"https://mermaid-js.github.io/mermaid/img/header.png\" width=\"30%\">\r\n    </details>"
          },
          "output_type": "unknown"
        },
        {
          "data": {
            "text/html": "<details><summary>Explore data visually using the <a href=\"https://github.com/nteract/data-explorer\">nteract Data Explorer</a>.</summary>\r\n    <p>This extension adds the ability to sort, filter, and visualize data using the <a href=\"https://github.com/nteract/data-explorer\">nteract Data Explorer</a>. Use the <code>ExploreWithNteract()</code> extension method with variables of type <code>JsonElement</code>, <code>IEnumerable<T></code> or <code>IDataView</code> to render the data explorer.</p>\r\n<pre>\r\n    <code>\r\n    using Microsoft.Data.Analysis;\r\n    using System.Collections.Generic;\r\n    using Microsoft.ML;\r\n\r\n    var dataFrame = DataFrame.LoadCsv(\"./Data.csv\");\r\n\r\n    dataFrame.ExploreWithNteract().Display();\r\n    </code>\r\n</pre>\r\n    <img src=\"https://user-images.githubusercontent.com/547415/109559345-621e5880-7a8f-11eb-8b98-d4feeaac116f.png\" width=\"75%\">\r\n    </details>"
          },
          "output_type": "unknown"
        },
        {
          "data": {
            "text/html": "<details><summary>Use the <code>#!record</code> magic command to keep a transcript of the code you run.</summary>\r\n    <p>Once you enable transcripts using <code>#!record</code>, each code submission (including re-running cells) is recorded in the specified file. The JSON format used is the same format recognized by the .NET Interactive <code>stdio</code> and <code>http</code> APIs and can be used to replay a notebook session via automation.</p>\r\n    <img src=\"https://user-images.githubusercontent.com/547415/109562409-343b1300-7a93-11eb-8ebf-79bb6af028cf.png\" width=\"75%\" />\r\n    </details>"
          },
          "output_type": "unknown"
        },
        {
          "data": {
            "text/html": "<details><summary>Explore data visually using the <a href=\"https://github.com/microsoft/SandDance\">SandDance Explorer</a>.</summary>\r\n    <p>This extension adds the ability to sort, filter, and visualize data using the <a href=\"https://github.com/microsoft/SandDance\">SandDance Explorer</a>. Use the <code>ExploreWithSandDance()</code> extension method with variables of type <code>JsonElement</code>, <code>IEnumerable<T></code> or <code>IDataView</code> to render the data explorer.</p>\r\n<pre>\r\n    <code>\r\n    using Microsoft.Data.Analysis;\r\n    using System.Collections.Generic;\r\n    using Microsoft.ML;\r\n\r\n    var dataFrame = DataFrame.LoadCsv(\"./Data.csv\");\r\n\r\n    dataFrame.ExploreWithSandDance().Display();\r\n    </code>\r\n</pre>\r\n    <img src=\"https://user-images.githubusercontent.com/11507384/54236654-52d42800-44d1-11e9-859e-6c5d297a46d2.gif\" width=\"30%\">\r\n    </details>"
          },
          "output_type": "unknown"
        },
        {
          "data": {
            "text/html": "<details><summary>Query SQLite databases.</summary>\r\n    <p>This extension adds support for connecting to SQLite databases using the <code>#!connect sqlite</code> magic command. For more information, run a cell using the <code>#!sql</code> magic command.</p>\r\n    </details>"
          },
          "output_type": "unknown"
        }
      ],
      "source": [
        "#r \"nuget:Microsoft.DotNet.Interactive.ExtensionLab,*-*"
      ]
    },
    {
      "cell_type": "markdown",
      "metadata": {},
      "source": [
        "## Magic command\n",
        "Now we have a magic command for mermaid"
      ]
    },
    {
      "cell_type": "code",
      "execution_count": null,
      "metadata": {
        "dotnet_interactive": {
          "language": "csharp"
        }
      },
      "outputs": [
        {
          "data": {
            "text/html": "<div style=\"background-color:white;\">\r\n<script type=\"text/javascript\">\r\n\r\nlet loadMermaid_0e4d6033dcc14195a30bdcc60784ec15 = () => {\r\n\r\n        configureRequireFromExtension('Mermaid','1.0.0')(['Mermaid/mermaidapi'], (mermaid) => {\r\n\r\n            let renderTarget = document.getElementById('0e4d6033dcc14195a30bdcc60784ec15');\r\n            mermaid.render( \r\n                'mermaid_0e4d6033dcc14195a30bdcc60784ec15', \r\n                `\nsequenceDiagram\n    participant Alice\n    participant Bob\n    Alice->>John: Hello John, how are you?\n    loop Healthcheck\n        John->>John: Fight against hypochondria\n    end\n    Note right of John: Rational thoughts `, \r\n                g => {\r\n                    renderTarget.innerHTML = g \r\n                });\r\n        },\r\n        (error) => {\r\n            console.log(error);\r\n        });\r\n}\r\n// ensure `require` is available globally\r\nif ((typeof(require) !==  typeof(Function)) || (typeof(require.config) !== typeof(Function))) {\r\n    let require_script = document.createElement('script');\r\n    require_script.setAttribute('src', 'https://cdnjs.cloudflare.com/ajax/libs/require.js/2.3.6/require.min.js');\r\n    require_script.setAttribute('type', 'text/javascript');\r\n    \r\n    \r\n    require_script.onload = function() {\r\n        loadMermaid_0e4d6033dcc14195a30bdcc60784ec15();\r\n    };\r\n\r\n    document.getElementsByTagName('head')[0].appendChild(require_script);\r\n}\r\nelse {\r\n    loadMermaid_0e4d6033dcc14195a30bdcc60784ec15();\r\n}\r\n\r\n</script>\r\n<div id=\"0e4d6033dcc14195a30bdcc60784ec15\"></div>\r\n</div>\r\n"
          },
          "output_type": "unknown"
        }
      ],
      "source": [
        "#!mermaid\n",
        "sequenceDiagram\n",
        "    participant Alice\n",
        "    participant Bob\n",
        "    Alice->>John: Hello John, how are you?\n",
        "    loop Healthcheck\n",
        "        John->>John: Fight against hypochondria\n",
        "    end\n",
        "    Note right of John: Rational thoughts "
      ]
    },
    {
      "cell_type": "markdown",
      "metadata": {},
      "source": [
        "## PowerShell \n",
        "Define a PowerShell function `Out Mermaid` (with an alias of `Mermaid` so we can call it in more dsl-y style);   \n",
        "it accepts a mermaid chart definiton as a parameter (example with the definition) or from the   \n",
        "pipeline (see subsequent example) and  this outputs the minimum correct HTML / Javascript but   \n",
        "**depends on the kernel extension being loaded** \n",
        "\n",
        "Test with examples from [the mermaid home page](https://mermaid-js.github.io/mermaid/#/) -    \n",
        "\n"
      ]
    },
    {
      "cell_type": "code",
      "execution_count": null,
      "metadata": {
        "dotnet_interactive": {
          "language": "pwsh"
        }
      },
      "outputs": [
        {
          "data": {
            "text/html": "        <script type=\"text/javascript\">\n        configureRequireFromExtension('Mermaid','1.0.0')(['Mermaid/mermaidapi'], (mermaid) => {\n            let renderTarget = document.getElementById('7af404d605ee4d15a7818ef215ebf7fc');\n            mermaid.render('mermaid_7af404d605ee4d15a7818ef215ebf7fc',   `sequenceDiagram\n    participant Alice\n    participant Bob\n    Alice->>John: Hello John, how are you?\n    loop Healthcheck\n        John->>John: Fight against hypochondria\n    end\n    Note right of John: Rational thoughts `,  g => { renderTarget.innerHTML = g }); \n        }, (error) => { console.log(error);  });\n        </script><div  style=\"background-color:white\"; id=\"7af404d605ee4d15a7818ef215ebf7fc\"></div>'     "
          },
          "output_type": "unknown"
        }
      ],
      "source": [
        "function Out-Mermaid {\n",
        "    [alias('Mermaid')]\n",
        "    param (\n",
        "        [parameter(ValueFromPipeline=$true,Mandatory=$true,Position=0)]\n",
        "        $Text\n",
        "    )\n",
        "    begin {\n",
        "        $mermaid = \"\"\n",
        "        $html    =  @\"\n",
        "        <script type=\"text/javascript\">\n",
        "        configureRequireFromExtension('Mermaid','1.0.0')(['Mermaid/mermaidapi'], (mermaid) => {\n",
        "            let renderTarget = document.getElementById('~~guid~~');\n",
        "            mermaid.render('mermaid_~~guid~~',   ``~~Mermaid~~ ``,  g => { renderTarget.innerHTML = g }); \n",
        "        }, (error) => { console.log(error);  });\n",
        "        </script><div  style=\"background-color:white\"; id=\"~~guid~~\"></div>'     \n",
        "\"@  }\n",
        "    process {\n",
        "        $Mermaid +=  (\"`r`n\" + $Text -replace '^[\\r\\n]+','' -replace '[\\r\\n]+$','') \n",
        "    }\n",
        "    end     {\n",
        "        $GUID    =  ([guid]::NewGuid().ToString() -replace '\\W','') \n",
        "        [Microsoft.DotNet.Interactive.Kernel]::HTML(($html -replace  '~~Mermaid~~',$mermaid -replace '~~guid~~',$GUID )) | Out-Display -MimeType \"text/html\"\n",
        "    }\n",
        "}\n",
        "\n",
        "Mermaid @'\n",
        "sequenceDiagram\n",
        "    participant Alice\n",
        "    participant Bob\n",
        "    Alice->>John: Hello John, how are you?\n",
        "    loop Healthcheck\n",
        "        John->>John: Fight against hypochondria\n",
        "    end\n",
        "    Note right of John: Rational thoughts\n",
        "'@"
      ]
    },
    {
      "cell_type": "code",
      "execution_count": null,
      "metadata": {
        "dotnet_interactive": {
          "language": "pwsh"
        }
      },
      "outputs": [
        {
          "data": {
            "text/html": "        <script type=\"text/javascript\">\n        configureRequireFromExtension('Mermaid','1.0.0')(['Mermaid/mermaidapi'], (mermaid) => {\n            let renderTarget = document.getElementById('799549927add45b283ebb927ca27acf4');\n            mermaid.render('mermaid_799549927add45b283ebb927ca27acf4',   `graph TD;\n    A-->B;\n    A-->C;\n    B-->D;\n    C-->D; `,  g => { renderTarget.innerHTML = g }); \n        }, (error) => { console.log(error);  });\n        </script><div  style=\"background-color:white\"; id=\"799549927add45b283ebb927ca27acf4\"></div>'     "
          },
          "output_type": "unknown"
        }
      ],
      "source": [
        "@'\n",
        "graph TD;\n",
        "    A-->B;\n",
        "    A-->C;\n",
        "    B-->D;\n",
        "    C-->D;\n",
        "'@ | Out-Mermaid"
      ]
    },
    {
      "cell_type": "code",
      "execution_count": null,
      "metadata": {
        "dotnet_interactive": {
          "language": "pwsh"
        }
      },
      "outputs": [
        {
          "data": {
            "text/html": "        <script type=\"text/javascript\">\n        configureRequireFromExtension('Mermaid','1.0.0')(['Mermaid/mermaidapi'], (mermaid) => {\n            let renderTarget = document.getElementById('e9c7a16780b44dfc9a0181e544966e9e');\n            mermaid.render('mermaid_e9c7a16780b44dfc9a0181e544966e9e',   `gantt\ndateFormat  YYYY-MM-DD\ntitle Adding GANTT diagram to mermaid\nexcludes weekdays 2014-01-10\n\nsection A section\nCompleted task            :done,    des1, 2014-01-06,2014-01-08\nActive task               :active,  des2, 2014-01-09, 3d\nFuture task               :         des3, after des2, 5d\nFuture task2               :         des4, after des3, 5d `,  g => { renderTarget.innerHTML = g }); \n        }, (error) => { console.log(error);  });\n        </script><div  style=\"background-color:white\"; id=\"e9c7a16780b44dfc9a0181e544966e9e\"></div>'     "
          },
          "output_type": "unknown"
        }
      ],
      "source": [
        "Out-Mermaid @'\n",
        "gantt\n",
        "dateFormat  YYYY-MM-DD\n",
        "title Adding GANTT diagram to mermaid\n",
        "excludes weekdays 2014-01-10\n",
        "\n",
        "section A section\n",
        "Completed task            :done,    des1, 2014-01-06,2014-01-08\n",
        "Active task               :active,  des2, 2014-01-09, 3d\n",
        "Future task               :         des3, after des2, 5d\n",
        "Future task2               :         des4, after des3, 5d\n",
        "'@"
      ]
    },
    {
      "cell_type": "code",
      "execution_count": null,
      "metadata": {
        "dotnet_interactive": {
          "language": "pwsh"
        }
      },
      "outputs": [
        {
          "data": {
            "text/html": "        <script type=\"text/javascript\">\n        configureRequireFromExtension('Mermaid','1.0.0')(['Mermaid/mermaidapi'], (mermaid) => {\n            let renderTarget = document.getElementById('a5e12f644651440bae5c6a59847dadbb');\n            mermaid.render('mermaid_a5e12f644651440bae5c6a59847dadbb',   `classDiagram\nClass01 <|-- AveryLongClass : Cool\nClass03 *-- Class04\nClass05 o-- Class06\nClass07 .. Class08\nClass09 --> C2 : Where am i?\nClass09 --* C3\nClass09 --|> Class07\nClass07 : equals()\nClass07 : Object[] elementData\nClass01 : size()\nClass01 : int chimp\nClass01 : int gorilla\nClass08 <--> C2: Cool label `,  g => { renderTarget.innerHTML = g }); \n        }, (error) => { console.log(error);  });\n        </script><div  style=\"background-color:white\"; id=\"a5e12f644651440bae5c6a59847dadbb\"></div>'     "
          },
          "output_type": "unknown"
        }
      ],
      "source": [
        "Mermaid @'\n",
        "classDiagram\n",
        "Class01 <|-- AveryLongClass : Cool\n",
        "Class03 *-- Class04\n",
        "Class05 o-- Class06\n",
        "Class07 .. Class08\n",
        "Class09 --> C2 : Where am i?\n",
        "Class09 --* C3\n",
        "Class09 --|> Class07\n",
        "Class07 : equals()\n",
        "Class07 : Object[] elementData\n",
        "Class01 : size()\n",
        "Class01 : int chimp\n",
        "Class01 : int gorilla\n",
        "Class08 <--> C2: Cool label\n",
        "'@"
      ]
    },
    {
      "cell_type": "code",
      "execution_count": null,
      "metadata": {
        "dotnet_interactive": {
          "language": "pwsh"
        }
      },
      "outputs": [
        {
          "data": {
            "text/html": "        <script type=\"text/javascript\">\n        configureRequireFromExtension('Mermaid','1.0.0')(['Mermaid/mermaidapi'], (mermaid) => {\n            let renderTarget = document.getElementById('43ac16f16ce742999445325e91259210');\n            mermaid.render('mermaid_43ac16f16ce742999445325e91259210',   `erDiagram\n    CUSTOMER ||--o{ ORDER : places\n    ORDER ||--|{ LINE-ITEM : contains\n    CUSTOMER }|..|{ DELIVERY-ADDRESS : uses `,  g => { renderTarget.innerHTML = g }); \n        }, (error) => { console.log(error);  });\n        </script><div  style=\"background-color:white\"; id=\"43ac16f16ce742999445325e91259210\"></div>'     "
          },
          "output_type": "unknown"
        }
      ],
      "source": [
        "Mermaid @'\n",
        "erDiagram\n",
        "    CUSTOMER ||--o{ ORDER : places\n",
        "    ORDER ||--|{ LINE-ITEM : contains\n",
        "    CUSTOMER }|..|{ DELIVERY-ADDRESS : uses\n",
        "'@\n"
      ]
    },
    {
      "cell_type": "code",
      "execution_count": null,
      "metadata": {
        "dotnet_interactive": {
          "language": "pwsh"
        }
      },
      "outputs": [
        {
          "data": {
            "text/html": "        <script type=\"text/javascript\">\n        configureRequireFromExtension('Mermaid','1.0.0')(['Mermaid/mermaidapi'], (mermaid) => {\n            let renderTarget = document.getElementById('04ced7c13e7640629fb5c56c775a3171');\n            mermaid.render('mermaid_04ced7c13e7640629fb5c56c775a3171',   `journey\n    title My working day\n    section Go to work\n      Make tea: 5: Me\n      Go upstairs: 3: Me\n      Do work: 1: Me, Cat\n    section Go home\n      Go downstairs: 5: Me\n      Sit down: 5: Me `,  g => { renderTarget.innerHTML = g }); \n        }, (error) => { console.log(error);  });\n        </script><div  style=\"background-color:white\"; id=\"04ced7c13e7640629fb5c56c775a3171\"></div>'     "
          },
          "output_type": "unknown"
        }
      ],
      "source": [
        "Mermaid @' \n",
        "journey\n",
        "    title My working day\n",
        "    section Go to work\n",
        "      Make tea: 5: Me\n",
        "      Go upstairs: 3: Me\n",
        "      Do work: 1: Me, Cat\n",
        "    section Go home\n",
        "      Go downstairs: 5: Me\n",
        "      Sit down: 5: Me\n",
        "'@"
      ]
    }
  ],
  "metadata": {
    "kernelspec": {
      "display_name": ".NET (C#)",
      "language": "C#",
      "name": ".net-csharp"
    },
    "language_info": {
      "file_extension": ".cs",
      "mimetype": "text/x-csharp",
      "name": "C#",
      "pygments_lexer": "csharp",
      "version": "8.0"
    }
  },
  "nbformat": 4,
  "nbformat_minor": 4
}