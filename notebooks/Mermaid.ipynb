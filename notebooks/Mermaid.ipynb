{
  "cells": [
    {
      "cell_type": "markdown",
      "metadata": {},
      "source": [
        "# Mermaid charting \n",
        "First we need to load support in the extension lab add on. "
      ]
    },
    {
      "cell_type": "code",
      "execution_count": null,
      "metadata": {
        "dotnet_interactive": {
          "language": "csharp"
        },
        "vscode": {
          "languageId": "dotnet-interactive.csharp"
        }
      },
      "outputs": [
        {
          "data": {
            "text/html": [
              "<div><div></div><div></div><div><strong>Installed Packages</strong><ul><li><span>Microsoft.DotNet.Interactive.ExtensionLab, 1.0.0-beta.21606.1</span></li></ul></div></div>"
            ]
          },
          "metadata": {},
          "output_type": "display_data"
        },
        {
          "data": {
            "text/markdown": [
              "Loading extensions from `Microsoft.DotNet.Interactive.ExtensionLab.dll`"
            ]
          },
          "metadata": {},
          "output_type": "display_data"
        },
        {
          "data": {
            "text/html": [
              "<details><summary>Create strongly-typed dataframes using<code>#!linqify</code>.</summary>\r\n",
              "    <p>The <code>#!linqify</code> magic command replaces a <a href=\"https://www.nuget.org/packages/Microsoft.Data.Analysis/\"><code>Microsoft.Data.Analysis.DataFrame</code></a> variable with a generated, strongly-typed data frame, allowing the use of LINQ operations over the contained data.</p>\r\n",
              "    </details>"
            ]
          },
          "metadata": {},
          "output_type": "display_data"
        },
        {
          "data": {
            "text/html": [
              "<details><summary>Inspect code compilation details using the <code>#!inspect</code> magic command.</summary>\r\n",
              "    <p>The <code>#!inspect</code> magic command allows you to see the C# decompilation, IL, and JIT Asm for the code in a C# cell.</p>\r\n",
              "    <img src=\"https://user-images.githubusercontent.com/547415/109560515-d5749a00-7a90-11eb-9fa3-51b737345bb4.png\" width=\"75%\" />\r\n",
              "    </details>"
            ]
          },
          "metadata": {},
          "output_type": "display_data"
        },
        {
          "data": {
            "text/html": [
              "<details><summary>Explain things visually using the <a href=\"https://mermaid-js.github.io/mermaid/\">Mermaid language</a>.</summary>\r\n",
              "    <p>This extension adds a new kernel that can render Mermaid markdown. This code will render a sequence diagram:</p>\r\n",
              "<pre>\r\n",
              "    <code>\r\n",
              "#!mermaid\r\n",
              "sequenceDiagram\r\n",
              "    participant Alice\r\n",
              "    participant Bob\r\n",
              "    Alice->>John: Hello John, how are you?\r\n",
              "    loop Healthcheck\r\n",
              "        John->>John: Fight against hypochondria\r\n",
              "    end\r\n",
              "    Note right of John: Rational thoughts prevail!\r\n",
              "    John-->>Alice: Great!\r\n",
              "    John->>Bob: How about you?\r\n",
              "    Bob-->>John: Jolly good!\r\n",
              "    </code>\r\n",
              "</pre>\r\n",
              "<p>This extension also adds gestures to render a class diagram from any type. Use the <code>ExploreWithUmlClassDiagram().Display();</code> extension method on <code>System.Type</code> to render its class diagram.</p>\r\n",
              "\r\n",
              "<pre>\r\n",
              "    <code>\r\n",
              "typeof(List&lt;string&gt;).ExploreWithUmlClassDiagram().Display();\r\n",
              "    </code>\r\n",
              "</pre>\r\n",
              "    <img src=\"https://mermaid-js.github.io/mermaid/img/header.png\" width=\"30%\">\r\n",
              "    </details>"
            ]
          },
          "metadata": {},
          "output_type": "display_data"
        },
        {
          "data": {
            "text/markdown": [
              "Loading extensions from `Microsoft.Data.Analysis.Interactive.dll`"
            ]
          },
          "metadata": {},
          "output_type": "display_data"
        },
        {
          "data": {
            "text/html": [
              "<details><summary>Explore data visually using the <a href=\"https://github.com/nteract/data-explorer\">nteract Data Explorer</a>.</summary>\r\n",
              "    <p>This extension adds the ability to sort, filter, and visualize data using the <a href=\"https://github.com/nteract/data-explorer\">nteract Data Explorer</a>. Use the <code>ExploreWithNteract()</code> extension method with variables of type <code>JsonElement</code>, <code>IEnumerable<T></code> or <code>IDataView</code> to render the data explorer.</p>\r\n",
              "<pre>\r\n",
              "    <code>\r\n",
              "    using Microsoft.Data.Analysis;\r\n",
              "    using System.Collections.Generic;\r\n",
              "    using Microsoft.ML;\r\n",
              "\r\n",
              "    var dataFrame = DataFrame.LoadCsv(\"./Data.csv\");\r\n",
              "\r\n",
              "    dataFrame.ExploreWithNteract().Display();\r\n",
              "    </code>\r\n",
              "</pre>\r\n",
              "\r\n",
              "<p>To set the nteract Data Explorer use the following code</p>\r\n",
              "<pre>\r\n",
              "    <code>\r\n",
              "    DataExplorer.SetDefault<TabularDataResource, NteractDataExplorer>();\r\n",
              "    </code>\r\n",
              "</pre>\r\n",
              "    <img src=\"https://user-images.githubusercontent.com/547415/109559345-621e5880-7a8f-11eb-8b98-d4feeaac116f.png\" width=\"75%\">\r\n",
              "    </details>"
            ]
          },
          "metadata": {},
          "output_type": "display_data"
        },
        {
          "data": {
            "text/html": [
              "<details><summary>Use the <code>#!record</code> magic command to keep a transcript of the code you run.</summary>\r\n",
              "    <p>Once you enable transcripts using <code>#!record</code>, each code submission (including re-running cells) is recorded in the specified file. The JSON format used is the same format recognized by the .NET Interactive <code>stdio</code> and <code>http</code> APIs and can be used to replay an interactive session via automation.</p>\r\n",
              "    <img src=\"https://user-images.githubusercontent.com/547415/109562409-343b1300-7a93-11eb-8ebf-79bb6af028cf.png\" width=\"75%\" />\r\n",
              "    </details>"
            ]
          },
          "metadata": {},
          "output_type": "display_data"
        },
        {
          "data": {
            "text/html": [
              "<details><summary>Explore data visually using the <a href=\"https://github.com/microsoft/SandDance\">SandDance Explorer</a>.</summary>\r\n",
              "    <p>This extension adds the ability to sort, filter, and visualize data using the <a href=\"https://github.com/microsoft/SandDance\">SandDance Explorer</a>. Use the <code>ExploreWithSandDance()</code> extension method with variables of type <code>JsonElement</code>, <code>IEnumerable<T></code> or <code>IDataView</code> to render the data explorer.</p>\r\n",
              "<pre>\r\n",
              "    <code>\r\n",
              "    using Microsoft.Data.Analysis;\r\n",
              "    using System.Collections.Generic;\r\n",
              "    using Microsoft.ML;\r\n",
              "\r\n",
              "    var dataFrame = DataFrame.LoadCsv(\"./Data.csv\");\r\n",
              "\r\n",
              "    dataFrame.ExploreWithSandDance().Display();\r\n",
              "    </code>\r\n",
              "</pre>\r\n",
              "<p>To set the SandDance Explorer use the following code</p>\r\n",
              "<pre>\r\n",
              "    <code>\r\n",
              "    DataExplorer.SetDefault<TabularDataResource, SandDanceDataExplorer>();\r\n",
              "    </code>\r\n",
              "</pre>\r\n",
              "    <img src=\"https://user-images.githubusercontent.com/11507384/54236654-52d42800-44d1-11e9-859e-6c5d297a46d2.gif\" width=\"30%\">\r\n",
              "    </details>"
            ]
          },
          "metadata": {},
          "output_type": "display_data"
        },
        {
          "data": {
            "text/html": [
              "<details><summary>Query SQLite databases.</summary>\r\n",
              "    <p>This extension adds support for connecting to SQLite databases using the <code>#!connect sqlite</code> magic command. For more information, run a cell using the <code>#!sql</code> magic command.</p>\r\n",
              "    </details>"
            ]
          },
          "metadata": {},
          "output_type": "display_data"
        }
      ],
      "source": [
        "#r \"nuget:Microsoft.DotNet.Interactive.ExtensionLab,*-*"
      ]
    },
    {
      "cell_type": "markdown",
      "metadata": {},
      "source": [
        "## Magic command\n",
        "Now we have a magic command for mermaid"
      ]
    },
    {
      "cell_type": "code",
      "execution_count": null,
      "metadata": {
        "dotnet_interactive": {
          "language": "mermaid"
        },
        "vscode": {
          "languageId": "dotnet-interactive.mermaid"
        }
      },
      "outputs": [
        {
          "data": {
            "text/html": [
              "<div style=\"background-color:white;\">\r\n",
              "<script type=\"text/javascript\">\r\n",
              "\r\n",
              "loadMermaid_3653c0b12fc04695be719f311b34a627 = () => {\r\n",
              " \r\n",
              "        (require.config({ 'paths': { 'context': '1.0.252001', 'mermaidUri' : 'https://colombod.github.io/dotnet-interactive-cdn/extensionlab/1.0.252001/mermaid/mermaidapi', 'urlArgs': 'cacheBuster=7de2aec4927849b5a989d2305cf957bc' }}) || require)(['mermaidUri'], (mermaid) => {\r\n",
              "\r\n",
              "            let renderTarget = document.getElementById('3653c0b12fc04695be719f311b34a627');\r\n",
              "            mermaid.render( \r\n",
              "                'mermaid_3653c0b12fc04695be719f311b34a627', \r\n",
              "                `sequenceDiagram\r\n",
              "    participant Alice\r\n",
              "    participant Bob\r\n",
              "    Alice->>John: Hello John, how are you?\r\n",
              "    loop Healthcheck\r\n",
              "        John->>John: Fight against hypochondria\r\n",
              "    end\r\n",
              "    Note right of John: Rational thoughts `, \r\n",
              "                g => {\r\n",
              "                    renderTarget.innerHTML = g \r\n",
              "                });\r\n",
              "        },\r\n",
              "        (error) => {\r\n",
              "            console.log(error);\r\n",
              "        });\r\n",
              "}\r\n",
              "// ensure `require` is available globally\r\n",
              "if ((typeof(require) !==  typeof(Function)) || (typeof(require.config) !== typeof(Function))) {\r\n",
              "    let require_script = document.createElement('script');\r\n",
              "    require_script.setAttribute('src', 'https://cdnjs.cloudflare.com/ajax/libs/require.js/2.3.6/require.min.js');\r\n",
              "    require_script.setAttribute('type', 'text/javascript');\r\n",
              "    \r\n",
              "    \r\n",
              "    require_script.onload = function() {\r\n",
              "        loadMermaid_3653c0b12fc04695be719f311b34a627();\r\n",
              "    };\r\n",
              "\r\n",
              "    document.getElementsByTagName('head')[0].appendChild(require_script);\r\n",
              "}\r\n",
              "else {\r\n",
              "    loadMermaid_3653c0b12fc04695be719f311b34a627();\r\n",
              "}\r\n",
              "\r\n",
              "</script>\r\n",
              "<div id=\"3653c0b12fc04695be719f311b34a627\"></div>\r\n",
              "</div>\r\n"
            ]
          },
          "metadata": {},
          "output_type": "display_data"
        }
      ],
      "source": [
        "#!mermaid\n",
        "sequenceDiagram\n",
        "    participant Alice\n",
        "    participant Bob\n",
        "    Alice->>John: Hello John, how are you?\n",
        "    loop Healthcheck\n",
        "        John->>John: Fight against hypochondria\n",
        "    end\n",
        "    Note right of John: Rational thoughts "
      ]
    },
    {
      "cell_type": "markdown",
      "metadata": {},
      "source": [
        "## PowerShell \n",
        "Define a PowerShell function `Out Mermaid` (with an alias of `Mermaid` so we can call it in more dsl-y style);   \n",
        "it accepts a mermaid chart definiton as a parameter (example with the definition) or from the   \n",
        "pipeline (see subsequent example) and  this outputs the minimum correct HTML / Javascript but   \n",
        "**depends on the kernel extension being loaded** \n",
        "\n",
        "Test with examples from [the mermaid home page](https://mermaid-js.github.io/mermaid/#/) -    \n",
        "\n"
      ]
    },
    {
      "cell_type": "code",
      "execution_count": null,
      "metadata": {
        "dotnet_interactive": {
          "language": "pwsh"
        },
        "vscode": {
          "languageId": "dotnet-interactive.pwsh"
        }
      },
      "outputs": [
        {
          "data": {
            "text/html": [
              "<div style=\"background-color:white;\"><script type=\"text/javascript\">\r\n",
              "loadMermaid_4523b97963eb44888abba8dc55e21ee4 = () => {(require.config({ 'paths': { 'context': '1.0.252001', 'mermaidUri' : 'https://colombod.github.io/dotnet-interactive-cdn/extensionlab/1.0.252001/mermaid/mermaidapi', 'urlArgs': 'cacheBuster=7de2aec4927849b5a989d2305cf957bc' }}) || require)(['mermaidUri'], (mermaid) => {let renderTarget = document.getElementById('4523b97963eb44888abba8dc55e21ee4'); mermaid.render( 'mermaid_4523b97963eb44888abba8dc55e21ee4', `sequenceDiagram\r\n",
              "    participant Alice\r\n",
              "    participant Bob\r\n",
              "    Alice->>John: Hello John, how are you?\r\n",
              "    loop Healthcheck\r\n",
              "        John->>John: Fight against hypochondria\r\n",
              "    end\r\n",
              "    Note right of John: Rational thoughts`, g => {renderTarget.innerHTML = g  });}, (error) => {console.log(error);});}\r\n",
              "if ((typeof(require) !==  typeof(Function)) || (typeof(require.config) !== typeof(Function))) {\r\n",
              "    let require_script = document.createElement('script');\r\n",
              "    require_script.setAttribute('src', 'https://cdnjs.cloudflare.com/ajax/libs/require.js/2.3.6/require.min.js');\r\n",
              "    require_script.setAttribute('type', 'text/javascript');\r\n",
              "    require_script.onload = function() {loadMermaid_4523b97963eb44888abba8dc55e21ee4();};\r\n",
              "    document.getElementsByTagName('head')[0].appendChild(require_script);\r\n",
              "}\r\n",
              "else {loadMermaid_4523b97963eb44888abba8dc55e21ee4();}\r\n",
              "</script><div id=\"4523b97963eb44888abba8dc55e21ee4\"></div></div>"
            ]
          },
          "metadata": {},
          "output_type": "display_data"
        }
      ],
      "source": [
        "function Out-Mermaid {\n",
        "    [alias('Mermaid')]\n",
        "    param (\n",
        "        [parameter(ValueFromPipeline=$true,Mandatory=$true,Position=0)]\n",
        "        $Text\n",
        "    )\n",
        "    begin {\n",
        "        $mermaid = \"\"\n",
        "        $guid    = ([guid]::NewGuid().ToString() -replace '\\W','') \n",
        "        $html    = @\"\n",
        "<div style=\"background-color:white;\"><script type=\"text/javascript\">\n",
        "loadMermaid_$guid = () => {(require.config({ 'paths': { 'context': '1.0.252001', 'mermaidUri' : 'https://colombod.github.io/dotnet-interactive-cdn/extensionlab/1.0.252001/mermaid/mermaidapi', 'urlArgs': 'cacheBuster=7de2aec4927849b5a989d2305cf957bc' }}) || require)(['mermaidUri'], (mermaid) => {let renderTarget = document.getElementById('$guid'); mermaid.render( 'mermaid_$guid', ``~~Mermaid~~``, g => {renderTarget.innerHTML = g  });}, (error) => {console.log(error);});}\n",
        "if ((typeof(require) !==  typeof(Function)) || (typeof(require.config) !== typeof(Function))) {\n",
        "    let require_script = document.createElement('script');\n",
        "    require_script.setAttribute('src', 'https://cdnjs.cloudflare.com/ajax/libs/require.js/2.3.6/require.min.js');\n",
        "    require_script.setAttribute('type', 'text/javascript');\n",
        "    require_script.onload = function() {loadMermaid_$guid();};\n",
        "    document.getElementsByTagName('head')[0].appendChild(require_script);\n",
        "}\n",
        "else {loadMermaid_$guid();}\n",
        "</script><div id=\"$guid\"></div></div>\n",
        "\"@  }\n",
        "    process {$Mermaid +=  (\"`r`n\" + $Text -replace '^[\\r\\n]+','' -replace '[\\r\\n]+$','') }\n",
        "    end     {[Microsoft.DotNet.Interactive.Kernel]::HTML(($html -replace  '~~Mermaid~~',$mermaid ))  | Out-Display }\n",
        "}\n",
        "\n",
        "Mermaid @'\n",
        "sequenceDiagram\n",
        "    participant Alice\n",
        "    participant Bob\n",
        "    Alice->>John: Hello John, how are you?\n",
        "    loop Healthcheck\n",
        "        John->>John: Fight against hypochondria\n",
        "    end\n",
        "    Note right of John: Rational thoughts\n",
        "'@"
      ]
    },
    {
      "cell_type": "code",
      "execution_count": null,
      "metadata": {
        "dotnet_interactive": {
          "language": "pwsh"
        },
        "vscode": {
          "languageId": "dotnet-interactive.pwsh"
        }
      },
      "outputs": [
        {
          "data": {
            "text/html": [
              "<div style=\"background-color:white;\"><script type=\"text/javascript\">\r\n",
              "loadMermaid_430738d804404affa8b9642b5adb3dd7 = () => {(require.config({ 'paths': { 'context': '1.0.252001', 'mermaidUri' : 'https://colombod.github.io/dotnet-interactive-cdn/extensionlab/1.0.252001/mermaid/mermaidapi', 'urlArgs': 'cacheBuster=7de2aec4927849b5a989d2305cf957bc' }}) || require)(['mermaidUri'], (mermaid) => {let renderTarget = document.getElementById('430738d804404affa8b9642b5adb3dd7'); mermaid.render( 'mermaid_430738d804404affa8b9642b5adb3dd7', `graph TD;\r\n",
              "    A-->B;\r\n",
              "    A-->C;\r\n",
              "    B-->D;\r\n",
              "    C-->D;`, g => {renderTarget.innerHTML = g  });}, (error) => {console.log(error);});}\r\n",
              "if ((typeof(require) !==  typeof(Function)) || (typeof(require.config) !== typeof(Function))) {\r\n",
              "    let require_script = document.createElement('script');\r\n",
              "    require_script.setAttribute('src', 'https://cdnjs.cloudflare.com/ajax/libs/require.js/2.3.6/require.min.js');\r\n",
              "    require_script.setAttribute('type', 'text/javascript');\r\n",
              "    require_script.onload = function() {loadMermaid_430738d804404affa8b9642b5adb3dd7();};\r\n",
              "    document.getElementsByTagName('head')[0].appendChild(require_script);\r\n",
              "}\r\n",
              "else {loadMermaid_430738d804404affa8b9642b5adb3dd7();}\r\n",
              "</script><div id=\"430738d804404affa8b9642b5adb3dd7\"></div></div>"
            ]
          },
          "metadata": {},
          "output_type": "display_data"
        }
      ],
      "source": [
        "@'\n",
        "graph TD;\n",
        "    A-->B;\n",
        "    A-->C;\n",
        "    B-->D;\n",
        "    C-->D;\n",
        "'@ | Out-Mermaid"
      ]
    },
    {
      "cell_type": "code",
      "execution_count": null,
      "metadata": {
        "dotnet_interactive": {
          "language": "pwsh"
        },
        "vscode": {
          "languageId": "dotnet-interactive.pwsh"
        }
      },
      "outputs": [
        {
          "data": {
            "text/html": [
              "<div style=\"background-color:white;\"><script type=\"text/javascript\">\r\n",
              "loadMermaid_658726a4a08e413d9c4db3b7d6f8ebeb = () => {(require.config({ 'paths': { 'context': '1.0.252001', 'mermaidUri' : 'https://colombod.github.io/dotnet-interactive-cdn/extensionlab/1.0.252001/mermaid/mermaidapi', 'urlArgs': 'cacheBuster=7de2aec4927849b5a989d2305cf957bc' }}) || require)(['mermaidUri'], (mermaid) => {let renderTarget = document.getElementById('658726a4a08e413d9c4db3b7d6f8ebeb'); mermaid.render( 'mermaid_658726a4a08e413d9c4db3b7d6f8ebeb', `gantt\r\n",
              "dateFormat  YYYY-MM-DD\r\n",
              "title Adding GANTT diagram to mermaid\r\n",
              "excludes weekdays 2014-01-10\r\n",
              "\r\n",
              "section A section\r\n",
              "Completed task            :done,    des1, 2014-01-06,2014-01-08\r\n",
              "Active task               :active,  des2, 2014-01-09, 3d\r\n",
              "Future task               :         des3, after des2, 5d\r\n",
              "Future task2               :         des4, after des3, 5d`, g => {renderTarget.innerHTML = g  });}, (error) => {console.log(error);});}\r\n",
              "if ((typeof(require) !==  typeof(Function)) || (typeof(require.config) !== typeof(Function))) {\r\n",
              "    let require_script = document.createElement('script');\r\n",
              "    require_script.setAttribute('src', 'https://cdnjs.cloudflare.com/ajax/libs/require.js/2.3.6/require.min.js');\r\n",
              "    require_script.setAttribute('type', 'text/javascript');\r\n",
              "    require_script.onload = function() {loadMermaid_658726a4a08e413d9c4db3b7d6f8ebeb();};\r\n",
              "    document.getElementsByTagName('head')[0].appendChild(require_script);\r\n",
              "}\r\n",
              "else {loadMermaid_658726a4a08e413d9c4db3b7d6f8ebeb();}\r\n",
              "</script><div id=\"658726a4a08e413d9c4db3b7d6f8ebeb\"></div></div>"
            ]
          },
          "metadata": {},
          "output_type": "display_data"
        }
      ],
      "source": [
        "Out-Mermaid @'\n",
        "gantt\n",
        "dateFormat  YYYY-MM-DD\n",
        "title Adding GANTT diagram to mermaid\n",
        "excludes weekdays 2014-01-10\n",
        "\n",
        "section A section\n",
        "Completed task            :done,    des1, 2014-01-06,2014-01-08\n",
        "Active task               :active,  des2, 2014-01-09, 3d\n",
        "Future task               :         des3, after des2, 5d\n",
        "Future task2               :         des4, after des3, 5d\n",
        "'@"
      ]
    },
    {
      "cell_type": "code",
      "execution_count": null,
      "metadata": {
        "dotnet_interactive": {
          "language": "pwsh"
        },
        "vscode": {
          "languageId": "dotnet-interactive.pwsh"
        }
      },
      "outputs": [
        {
          "data": {
            "text/html": [
              "<div style=\"background-color:white;\"><script type=\"text/javascript\">\r\n",
              "loadMermaid_95372a0c20b946d19fc42df1daa71289 = () => {(require.config({ 'paths': { 'context': '1.0.252001', 'mermaidUri' : 'https://colombod.github.io/dotnet-interactive-cdn/extensionlab/1.0.252001/mermaid/mermaidapi', 'urlArgs': 'cacheBuster=7de2aec4927849b5a989d2305cf957bc' }}) || require)(['mermaidUri'], (mermaid) => {let renderTarget = document.getElementById('95372a0c20b946d19fc42df1daa71289'); mermaid.render( 'mermaid_95372a0c20b946d19fc42df1daa71289', `classDiagram\r\n",
              "Class01 <|-- AveryLongClass : Cool\r\n",
              "Class03 *-- Class04\r\n",
              "Class05 o-- Class06\r\n",
              "Class07 .. Class08\r\n",
              "Class09 --> C2 : Where am i?\r\n",
              "Class09 --* C3\r\n",
              "Class09 --|> Class07\r\n",
              "Class07 : equals()\r\n",
              "Class07 : Object[] elementData\r\n",
              "Class01 : size()\r\n",
              "Class01 : int chimp\r\n",
              "Class01 : int gorilla\r\n",
              "Class08 <--> C2: Cool label`, g => {renderTarget.innerHTML = g  });}, (error) => {console.log(error);});}\r\n",
              "if ((typeof(require) !==  typeof(Function)) || (typeof(require.config) !== typeof(Function))) {\r\n",
              "    let require_script = document.createElement('script');\r\n",
              "    require_script.setAttribute('src', 'https://cdnjs.cloudflare.com/ajax/libs/require.js/2.3.6/require.min.js');\r\n",
              "    require_script.setAttribute('type', 'text/javascript');\r\n",
              "    require_script.onload = function() {loadMermaid_95372a0c20b946d19fc42df1daa71289();};\r\n",
              "    document.getElementsByTagName('head')[0].appendChild(require_script);\r\n",
              "}\r\n",
              "else {loadMermaid_95372a0c20b946d19fc42df1daa71289();}\r\n",
              "</script><div id=\"95372a0c20b946d19fc42df1daa71289\"></div></div>"
            ]
          },
          "metadata": {},
          "output_type": "display_data"
        }
      ],
      "source": [
        "Mermaid @'\n",
        "classDiagram\n",
        "Class01 <|-- AveryLongClass : Cool\n",
        "Class03 *-- Class04\n",
        "Class05 o-- Class06\n",
        "Class07 .. Class08\n",
        "Class09 --> C2 : Where am i?\n",
        "Class09 --* C3\n",
        "Class09 --|> Class07\n",
        "Class07 : equals()\n",
        "Class07 : Object[] elementData\n",
        "Class01 : size()\n",
        "Class01 : int chimp\n",
        "Class01 : int gorilla\n",
        "Class08 <--> C2: Cool label\n",
        "'@"
      ]
    },
    {
      "cell_type": "code",
      "execution_count": null,
      "metadata": {
        "dotnet_interactive": {
          "language": "pwsh"
        },
        "vscode": {
          "languageId": "dotnet-interactive.pwsh"
        }
      },
      "outputs": [
        {
          "data": {
            "text/html": [
              "<div style=\"background-color:white;\"><script type=\"text/javascript\">\r\n",
              "loadMermaid_cfe9e7959ecb4bef9a8e451837a136d2 = () => {(require.config({ 'paths': { 'context': '1.0.252001', 'mermaidUri' : 'https://colombod.github.io/dotnet-interactive-cdn/extensionlab/1.0.252001/mermaid/mermaidapi', 'urlArgs': 'cacheBuster=7de2aec4927849b5a989d2305cf957bc' }}) || require)(['mermaidUri'], (mermaid) => {let renderTarget = document.getElementById('cfe9e7959ecb4bef9a8e451837a136d2'); mermaid.render( 'mermaid_cfe9e7959ecb4bef9a8e451837a136d2', `erDiagram\r\n",
              "    CUSTOMER ||--o{ ORDER : places\r\n",
              "    ORDER ||--|{ LINE-ITEM : contains\r\n",
              "    CUSTOMER }|..|{ DELIVERY-ADDRESS : uses`, g => {renderTarget.innerHTML = g  });}, (error) => {console.log(error);});}\r\n",
              "if ((typeof(require) !==  typeof(Function)) || (typeof(require.config) !== typeof(Function))) {\r\n",
              "    let require_script = document.createElement('script');\r\n",
              "    require_script.setAttribute('src', 'https://cdnjs.cloudflare.com/ajax/libs/require.js/2.3.6/require.min.js');\r\n",
              "    require_script.setAttribute('type', 'text/javascript');\r\n",
              "    require_script.onload = function() {loadMermaid_cfe9e7959ecb4bef9a8e451837a136d2();};\r\n",
              "    document.getElementsByTagName('head')[0].appendChild(require_script);\r\n",
              "}\r\n",
              "else {loadMermaid_cfe9e7959ecb4bef9a8e451837a136d2();}\r\n",
              "</script><div id=\"cfe9e7959ecb4bef9a8e451837a136d2\"></div></div>"
            ]
          },
          "metadata": {},
          "output_type": "display_data"
        }
      ],
      "source": [
        "Mermaid @'\n",
        "erDiagram\n",
        "    CUSTOMER ||--o{ ORDER : places\n",
        "    ORDER ||--|{ LINE-ITEM : contains\n",
        "    CUSTOMER }|..|{ DELIVERY-ADDRESS : uses\n",
        "'@\n"
      ]
    },
    {
      "cell_type": "code",
      "execution_count": null,
      "metadata": {
        "dotnet_interactive": {
          "language": "pwsh"
        },
        "vscode": {
          "languageId": "dotnet-interactive.pwsh"
        }
      },
      "outputs": [
        {
          "data": {
            "text/html": [
              "<div style=\"background-color:white;\"><script type=\"text/javascript\">\r\n",
              "loadMermaid_83e621e07e3e4925aa5d8d179ccd1b59 = () => {(require.config({ 'paths': { 'context': '1.0.252001', 'mermaidUri' : 'https://colombod.github.io/dotnet-interactive-cdn/extensionlab/1.0.252001/mermaid/mermaidapi', 'urlArgs': 'cacheBuster=7de2aec4927849b5a989d2305cf957bc' }}) || require)(['mermaidUri'], (mermaid) => {let renderTarget = document.getElementById('83e621e07e3e4925aa5d8d179ccd1b59'); mermaid.render( 'mermaid_83e621e07e3e4925aa5d8d179ccd1b59', `journey\r\n",
              "    title My working day\r\n",
              "    section Go to work\r\n",
              "      Make tea: 5: Me\r\n",
              "      Go upstairs: 3: Me\r\n",
              "      Do work: 1: Me, Cat\r\n",
              "    section Go home\r\n",
              "      Go downstairs: 5: Me\r\n",
              "      Sit down: 5: Me`, g => {renderTarget.innerHTML = g  });}, (error) => {console.log(error);});}\r\n",
              "if ((typeof(require) !==  typeof(Function)) || (typeof(require.config) !== typeof(Function))) {\r\n",
              "    let require_script = document.createElement('script');\r\n",
              "    require_script.setAttribute('src', 'https://cdnjs.cloudflare.com/ajax/libs/require.js/2.3.6/require.min.js');\r\n",
              "    require_script.setAttribute('type', 'text/javascript');\r\n",
              "    require_script.onload = function() {loadMermaid_83e621e07e3e4925aa5d8d179ccd1b59();};\r\n",
              "    document.getElementsByTagName('head')[0].appendChild(require_script);\r\n",
              "}\r\n",
              "else {loadMermaid_83e621e07e3e4925aa5d8d179ccd1b59();}\r\n",
              "</script><div id=\"83e621e07e3e4925aa5d8d179ccd1b59\"></div></div>"
            ]
          },
          "metadata": {},
          "output_type": "display_data"
        }
      ],
      "source": [
        "Mermaid @' \n",
        "journey\n",
        "    title My working day\n",
        "    section Go to work\n",
        "      Make tea: 5: Me\n",
        "      Go upstairs: 3: Me\n",
        "      Do work: 1: Me, Cat\n",
        "    section Go home\n",
        "      Go downstairs: 5: Me\n",
        "      Sit down: 5: Me\n",
        "'@"
      ]
    },
    {
      "cell_type": "code",
      "execution_count": null,
      "metadata": {
        "dotnet_interactive": {
          "language": "pwsh"
        },
        "vscode": {
          "languageId": "dotnet-interactive.pwsh"
        }
      },
      "outputs": [
        {
          "data": {
            "text/html": [
              "<div class=\"mermaidMarkdownContainer\" style=\"background-color:white\">\r\n",
              "<script type=\"text/javascript\">\r\n",
              "\r\n",
              "loadMermaid_a20aee28bec64eb7a9dc8870abaef299 = () => {\r\n",
              " \r\n",
              "        (require.config({ 'paths': { 'context': '9.1.1', 'mermaidUri' : 'https://cdn.jsdelivr.net/npm/mermaid@9.1.1/dist/mermaid.min', 'urlArgs': 'cacheBuster=6f1c54d045894045ab811d808c1dee0e' }}) || require)(['mermaidUri'], (mermaid) => {\r\n",
              "\r\n",
              "            let renderTarget = document.getElementById('a20aee28bec64eb7a9dc8870abaef299');\r\n",
              "            mermaid.mermaidAPI.render( \r\n",
              "                'mermaid_a20aee28bec64eb7a9dc8870abaef299', \r\n",
              "                `journey\r\n",
              "    title My working day\r\n",
              "    section Go to work\r\n",
              "      Make tea: 5: Me\r\n",
              "      Go upstairs: 3: Me\r\n",
              "      Do work: 1: Me, Cat\r\n",
              "    section Go home\r\n",
              "      Go downstairs: 5: Me\r\n",
              "      Sit down: 5: Me`, \r\n",
              "                g => {\r\n",
              "                    renderTarget.innerHTML = g \r\n",
              "                });\r\n",
              "        },\r\n",
              "        (error) => {\r\n",
              "            console.log(error);\r\n",
              "        });\r\n",
              "}\r\n",
              "// ensure `require` is available globally\r\n",
              "if ((typeof(require) !==  typeof(Function)) || (typeof(require.config) !== typeof(Function))) {\r\n",
              "    let require_script = document.createElement('script');\r\n",
              "    require_script.setAttribute('src', 'https://cdnjs.cloudflare.com/ajax/libs/require.js/2.3.6/require.min.js');\r\n",
              "    require_script.setAttribute('type', 'text/javascript');\r\n",
              "    \r\n",
              "    \r\n",
              "    require_script.onload = function() {\r\n",
              "        loadMermaid_a20aee28bec64eb7a9dc8870abaef299();\r\n",
              "    };\r\n",
              "\r\n",
              "    document.getElementsByTagName('head')[0].appendChild(require_script);\r\n",
              "}\r\n",
              "else {\r\n",
              "    loadMermaid_a20aee28bec64eb7a9dc8870abaef299();\r\n",
              "}\r\n",
              "\r\n",
              "</script>\r\n",
              "<div id=\"a20aee28bec64eb7a9dc8870abaef299\"></div>\r\n",
              "</div>\r\n"
            ]
          },
          "metadata": {},
          "output_type": "display_data"
        }
      ],
      "source": [
        "#!mermaid\n",
        "journey\n",
        "    title My working day\n",
        "    section Go to work\n",
        "      Make tea: 5: Me\n",
        "      Go upstairs: 3: Me\n",
        "      Do work: 1: Me, Cat\n",
        "    section Go home\n",
        "      Go downstairs: 5: Me\n",
        "      Sit down: 5: Me"
      ]
    }
  ],
  "metadata": {
    "kernelspec": {
      "display_name": ".NET (C#)",
      "language": "C#",
      "name": ".net-csharp"
    },
    "language_info": {
      "file_extension": ".cs",
      "mimetype": "text/x-csharp",
      "name": "C#",
      "pygments_lexer": "csharp",
      "version": "8.0"
    }
  },
  "nbformat": 4,
  "nbformat_minor": 4
}
