{
  "cells": [
    {
      "cell_type": "markdown",
      "source": [
        "# Mermaid charting \n",
        "First we need to load support in the extension lab add on. "
      ],
      "metadata": {}
    },
    {
      "cell_type": "code",
      "execution_count": null,
      "source": [
        "#r \"nuget:Microsoft.DotNet.Interactive.ExtensionLab,*-*"
      ],
      "outputs": [],
      "metadata": {
        "dotnet_interactive": {
          "language": "csharp"
        }
      }
    },
    {
      "cell_type": "markdown",
      "source": [
        "## Magic command\n",
        "Now we have a magic command for mermaid"
      ],
      "metadata": {}
    },
    {
      "cell_type": "code",
      "execution_count": null,
      "source": [
        "#!mermaid\r\n",
        "sequenceDiagram\r\n",
        "    participant Alice\r\n",
        "    participant Bob\r\n",
        "    Alice->>John: Hello John, how are you?\r\n",
        "    loop Healthcheck\r\n",
        "        John->>John: Fight against hypochondria\r\n",
        "    end\r\n",
        "    Note right of John: Rational thoughts "
      ],
      "outputs": [],
      "metadata": {
        "dotnet_interactive": {
          "language": "csharp"
        }
      }
    },
    {
      "cell_type": "markdown",
      "source": [
        "## PowerShell \n",
        "Define a PowerShell function `Out Mermaid` (with an alias of `Mermaid` so we can call it in more dsl-y style);   \n",
        "it accepts a mermaid chart definiton as a parameter (example with the definition) or from the   \n",
        "pipeline (see subsequent example) and  this outputs the minimum correct HTML / Javascript but   \n",
        "**depends on the kernel extension being loaded** \n",
        "\n",
        "Test with examples from [the mermaid home page](https://mermaid-js.github.io/mermaid/#/) -    \n",
        "\n"
      ],
      "metadata": {}
    },
    {
      "cell_type": "code",
      "execution_count": null,
      "source": [
        "function Out-Mermaid {\r\n",
        "    [alias('Mermaid')]\r\n",
        "    param (\r\n",
        "        [parameter(ValueFromPipeline=$true,Mandatory=$true,Position=0)]\r\n",
        "        $Text\r\n",
        "    )\r\n",
        "    begin {\r\n",
        "        $mermaid = \"\"\r\n",
        "        $html    =  @\"\r\n",
        "        <script type=\"text/javascript\">\r\n",
        "        configureRequireFromExtension('Mermaid','1.0.0')(['Mermaid/mermaidapi'], (mermaid) => {\r\n",
        "            let renderTarget = document.getElementById('~~guid~~');\r\n",
        "            mermaid.render('mermaid_~~guid~~',   ``~~Mermaid~~ ``,  g => { renderTarget.innerHTML = g }); \r\n",
        "        }, (error) => { console.log(error);  });\r\n",
        "        </script><div  style=\"background-color:white\"; id=\"~~guid~~\"></div>'     \r\n",
        "\"@  }\r\n",
        "    process {\r\n",
        "        $Mermaid +=  (\"`r`n\" + $Text -replace '^[\\r\\n]+','' -replace '[\\r\\n]+$','') \r\n",
        "    }\r\n",
        "    end     {\r\n",
        "        $GUID    =  ([guid]::NewGuid().ToString() -replace '\\W','') \r\n",
        "        [Microsoft.DotNet.Interactive.Kernel]::HTML(($html -replace  '~~Mermaid~~',$mermaid -replace '~~guid~~',$GUID )) | Out-Display -MimeType \"text/html\"\r\n",
        "    }\r\n",
        "}\r\n",
        "\r\n",
        "Mermaid @'\r\n",
        "sequenceDiagram\r\n",
        "    participant Alice\r\n",
        "    participant Bob\r\n",
        "    Alice->>John: Hello John, how are you?\r\n",
        "    loop Healthcheck\r\n",
        "        John->>John: Fight against hypochondria\r\n",
        "    end\r\n",
        "    Note right of John: Rational thoughts\r\n",
        "'@"
      ],
      "outputs": [],
      "metadata": {
        "dotnet_interactive": {
          "language": "pwsh"
        }
      }
    },
    {
      "cell_type": "code",
      "execution_count": null,
      "source": [
        "@'\r\n",
        "graph TD;\r\n",
        "    A-->B;\r\n",
        "    A-->C;\r\n",
        "    B-->D;\r\n",
        "    C-->D;\r\n",
        "'@ | Out-Mermaid"
      ],
      "outputs": [],
      "metadata": {
        "dotnet_interactive": {
          "language": "pwsh"
        }
      }
    },
    {
      "cell_type": "code",
      "execution_count": null,
      "source": [
        "Out-Mermaid @'\r\n",
        "gantt\r\n",
        "dateFormat  YYYY-MM-DD\r\n",
        "title Adding GANTT diagram to mermaid\r\n",
        "excludes weekdays 2014-01-10\r\n",
        "\r\n",
        "section A section\r\n",
        "Completed task            :done,    des1, 2014-01-06,2014-01-08\r\n",
        "Active task               :active,  des2, 2014-01-09, 3d\r\n",
        "Future task               :         des3, after des2, 5d\r\n",
        "Future task2               :         des4, after des3, 5d\r\n",
        "'@"
      ],
      "outputs": [],
      "metadata": {
        "dotnet_interactive": {
          "language": "pwsh"
        }
      }
    },
    {
      "cell_type": "code",
      "execution_count": null,
      "source": [
        "Mermaid @'\r\n",
        "classDiagram\r\n",
        "Class01 <|-- AveryLongClass : Cool\r\n",
        "Class03 *-- Class04\r\n",
        "Class05 o-- Class06\r\n",
        "Class07 .. Class08\r\n",
        "Class09 --> C2 : Where am i?\r\n",
        "Class09 --* C3\r\n",
        "Class09 --|> Class07\r\n",
        "Class07 : equals()\r\n",
        "Class07 : Object[] elementData\r\n",
        "Class01 : size()\r\n",
        "Class01 : int chimp\r\n",
        "Class01 : int gorilla\r\n",
        "Class08 <--> C2: Cool label\r\n",
        "'@"
      ],
      "outputs": [],
      "metadata": {
        "dotnet_interactive": {
          "language": "pwsh"
        }
      }
    },
    {
      "cell_type": "code",
      "execution_count": null,
      "source": [
        "Mermaid @'\r\n",
        "erDiagram\r\n",
        "    CUSTOMER ||--o{ ORDER : places\r\n",
        "    ORDER ||--|{ LINE-ITEM : contains\r\n",
        "    CUSTOMER }|..|{ DELIVERY-ADDRESS : uses\r\n",
        "'@\r\n"
      ],
      "outputs": [],
      "metadata": {
        "dotnet_interactive": {
          "language": "pwsh"
        }
      }
    },
    {
      "cell_type": "code",
      "execution_count": null,
      "source": [
        "Mermaid @' \r\n",
        "journey\r\n",
        "    title My working day\r\n",
        "    section Go to work\r\n",
        "      Make tea: 5: Me\r\n",
        "      Go upstairs: 3: Me\r\n",
        "      Do work: 1: Me, Cat\r\n",
        "    section Go home\r\n",
        "      Go downstairs: 5: Me\r\n",
        "      Sit down: 5: Me\r\n",
        "'@"
      ],
      "outputs": [],
      "metadata": {
        "dotnet_interactive": {
          "language": "pwsh"
        }
      }
    }
  ],
  "metadata": {
    "kernelspec": {
      "display_name": ".NET (C#)",
      "language": "C#",
      "name": ".net-csharp"
    },
    "language_info": {
      "file_extension": ".cs",
      "mimetype": "text/x-csharp",
      "name": "C#",
      "pygments_lexer": "csharp",
      "version": "8.0"
    }
  },
  "nbformat": 4,
  "nbformat_minor": 4
}