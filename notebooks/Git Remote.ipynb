{
 "cells": [
  {
   "cell_type": "markdown",
   "metadata": {},
   "source": [
    "# Working with a shared repo on a server \n",
    "\n",
    "First we are going to make a new directory and `clone` a copy of the repo into it. We get the path to use in the clone command from the repo, and the default folder will be use the repo name (we can specify a folder name if need be) "
   ]
  },
  {
   "cell_type": "code",
   "execution_count": null,
   "metadata": {},
   "outputs": [
    {
     "data": {
      "text/html": [
       "<script type=\"text/javascript\">#!javascript\r\n",
       "if ((typeof(requirejs) !==  typeof(Function)) || (typeof(requirejs.config) !== typeof(Function))) { \r\n",
       "    let script = document.createElement(\"script\"); \r\n",
       "    script.setAttribute(\"src\", \"https://cdnjs.cloudflare.com/ajax/libs/require.js/2.3.6/require.min.js\"); \r\n",
       "    script.onload = function(){\r\n",
       "        loadDotnetInteractiveApi();\r\n",
       "    };\r\n",
       "    document.getElementsByTagName(\"head\")[0].appendChild(script); \r\n",
       "}\r\n",
       "else {\r\n",
       "    loadDotnetInteractiveApi();\r\n",
       "}\r\n",
       "\r\n",
       "function loadDotnetInteractiveApi(){\r\n",
       "    let apiRequire = requirejs.config({context:\"dotnet-interactive.368768.65336\",paths:{dotnetInteractive:\"http://localhost:65336/resources/dotnet-interactive\"}});\r\n",
       "    apiRequire(['dotnetInteractive'], \r\n",
       "    function(api) {       \r\n",
       "        api.createDotnetInteractiveClient(\"http://localhost:65336/\", window);\r\n",
       "    },\r\n",
       "    function(error){\r\n",
       "        console.log(error);\r\n",
       "    });\r\n",
       "}</script>"
      ]
     },
     "metadata": {},
     "output_type": "display_data"
    },
    {
     "name": "stdout",
     "output_type": "stream",
     "text": [
      "Cloning into 'DFRP'...\r\n"
     ]
    }
   ],
   "source": [
    "cd ~\n",
    "$null = md repos\n",
    "cd repos\n",
    "git clone https://CAS-DFRP@dev.azure.com/CAS-DFRP/DFRP/_git/DFRP\n",
    "cd .\\DFRP"
   ]
  },
  {
   "cell_type": "markdown",
   "metadata": {},
   "source": [
    "Our local repository knows it is linked to a remote repository. `git remote` will show us the information and in verbose mode will show exactly what we use for fetching from the server and pushing to the server (the URIs might be different)"
   ]
  },
  {
   "cell_type": "code",
   "execution_count": null,
   "metadata": {},
   "outputs": [
    {
     "name": "stdout",
     "output_type": "stream",
     "text": [
      "origin\thttps://CAS-DFRP@dev.azure.com/CAS-DFRP/DFRP/_git/DFRP (fetch)\n",
      "origin\thttps://CAS-DFRP@dev.azure.com/CAS-DFRP/DFRP/_git/DFRP (push)\n"
     ]
    }
   ],
   "source": [
    "git remote -v"
   ]
  },
  {
   "cell_type": "markdown",
   "metadata": {},
   "source": [
    "Our remote has the default alias \"origin\" and we use the same URI for sending and receiving changes. \r\n",
    "In this example there is only one version of the repo on the server, but repos can be *forks* of other repos; for example on Github I contribute to another project. In that case `git remote -v` will know about another repository named \"upstream\"\r\n",
    "```\r\n",
    "git remote -v\r\n",
    "origin     https://github.com/jhoneill/vsteam.git (fetch)\r\n",
    "origin     https://github.com/jhoneill/vsteam.git (push)\r\n",
    "upstream   https://github.com/DarqueWarrior/vsteam.git (fetch)\r\n",
    "upstream   https://github.com/DarqueWarrior/vsteam.git (push)\r\n",
    "```\r\n",
    "Although git knows the URL for pushing to upstream, trying to do that will give an \"access denied\" error and I need to ask the the someone to *pull* changes from my repo into the upstream one, this is known as a *pull-request*\r\n",
    "\r\n",
    "------\r\n",
    "\r\n",
    "\r\n",
    "`Git fetch` will get branches and/or tags along with the objects necessary to complete their histories. (This shouldn't be necessary immediately after a clone, but will pick up new changes)    \r\n",
    "`Git branch` shows us the branch(es) we are working with and `git branch -a` shows *all* the branches including the ones which are on the server but not set up locally."
   ]
  },
  {
   "cell_type": "code",
   "execution_count": null,
   "metadata": {},
   "outputs": [
    {
     "name": "stdout",
     "output_type": "stream",
     "text": [
      "* master\n",
      "  remotes/origin/HEAD -> origin/master\n",
      "  remotes/origin/P10498824\n",
      "  remotes/origin/Testbranch\n",
      "  remotes/origin/develop\n",
      "  remotes/origin/master\n",
      "  remotes/origin/release\n"
     ]
    }
   ],
   "source": [
    "git fetch origin\n",
    "git branch -a  "
   ]
  },
  {
   "cell_type": "markdown",
   "metadata": {},
   "source": [
    "Again, when the origin is a fork of another repo, we may see additional branches. In my Github example, I have some local branches, and *origin* has set up some of the branches from the *upstream* repo. \r\n",
    "```\r\n",
    "git branch -a  \r\n",
    "  EnhanceGet-VsteamWorkItemType#301\r\n",
    "* NewWorkitemtypeCommands\r\n",
    "  master\r\n",
    "  remotes/origin/EnhanceGet-VsteamWorkItemType#301\r\n",
    "  remotes/origin/HEAD -> origin/master\r\n",
    "  remotes/origin/NewWorkitemtypeCommands\r\n",
    "  remotes/origin/hooks\r\n",
    "  remotes/origin/master\r\n",
    "  remotes/upstream/Bug345\r\n",
    "  remotes/upstream/hooks\r\n",
    "  remotes/upstream/master\r\n",
    "````\r\n",
    "\r\n",
    "------\r\n",
    "\r\n",
    "We can start working on a branch which is linked to a different remote branch by doing a checkout with `-b` to specify *create a branch* and giving the *remote* branch as the start point."
   ]
  },
  {
   "cell_type": "code",
   "execution_count": null,
   "metadata": {},
   "outputs": [
    {
     "name": "stdout",
     "output_type": "stream",
     "text": [
      "On branch master\n",
      "Your branch is up to date with 'origin/master'.\n",
      "\n",
      "nothing to commit, working tree clean\n",
      "\n",
      "Branch 'develop' set up to track remote branch 'develop' from 'origin'.\n",
      "Switched to a new branch 'develop'\n",
      "\n",
      "On branch develop\n",
      "Your branch is up to date with 'origin/develop'.\n",
      "\n",
      "nothing to commit, working tree clean\n"
     ]
    }
   ],
   "source": [
    "git status\n",
    "''\n",
    "git checkout -b develop origin/develop\n",
    "''\n",
    "git status\n",
    "\n"
   ]
  },
  {
   "cell_type": "markdown",
   "metadata": {},
   "source": [
    "Note that there are some states where we *can't* change branches. Git has the concept of a *stash* where we can put changes which aren't committed and would otherwise be lost.\r\n",
    "\r\n",
    "We can see the sequence of earlier commits which have brought the branch to this state."
   ]
  },
  {
   "cell_type": "code",
   "execution_count": null,
   "metadata": {},
   "outputs": [
    {
     "name": "stdout",
     "output_type": "stream",
     "text": [
      "5495636 (HEAD -> develop, tag: 19_develop) Update version variables and graphs ***NO_DEPLOY***\n",
      "8683936 (tag: 17_develop) Sync Release 0.1 from Master\n",
      "5942680 (tag: MasterValidation_runID_18, origin/master, origin/HEAD, master) Merged PR 2: Release 0.1\n",
      "5a996b2 Add Documents ***NO_CI***\n",
      "5e48807 (tag: 15) fix ps warning message\n"
     ]
    }
   ],
   "source": [
    "git log --oneline --decorate | select -First 5\n",
    "#For the notebook only get the first few lines."
   ]
  },
  {
   "cell_type": "markdown",
   "metadata": {},
   "source": [
    "`--Decorate` shows some extra log information. In the first line\r\n",
    "* `5495636` is the start of the hash for that commit. \r\n",
    "* `HEAD -> develop` means the current working area points here and it is on the \"develop\" branch \r\n",
    "* `tag: 19_develop` means we have an extra label for the commit. *Branches* are labels we can check out and work with and are usually the current version of something. Tags can be *any* label we want, but are usually historical notes. \r\n",
    "* `Update version variables and graphs ***NO_DEPLOY***` is a commit message \r\n",
    "\r\n",
    "On the third line, we can see one of the `5942680` was the version-before-last of the develop branch, but it is the current version of the local branch \"master\", the origin branch \"master\" and pointed to by HEAD at the origin (i.e. \"master\" is the current default branch at the origin)\r\n",
    "\r\n",
    "In this case we have a Continuous Integration pipeline which runs when a commit occurs. It puts a tag link to a build (here the build ID is *SequenceNumber_BranchName*. `***NO_DEPLOY***` is a message to the CI system, in this case saying \"Build but do not deploy\" .  The fourth line has a message `***NO_CI***` which tells the CI pipeline not to run at all. \r\n",
    "\r\n",
    "We can now make changes in our local copy of this branch of the repo."
   ]
  },
  {
   "cell_type": "code",
   "execution_count": null,
   "metadata": {},
   "outputs": [
    {
     "name": "stdout",
     "output_type": "stream",
     "text": [
      "On branch develop\n",
      "Your branch is up to date with 'origin/develop'.\n",
      "\n",
      "Untracked files:\n",
      "  (use \"git add <file>...\" to include in what will be committed)\n",
      "\tGit_Repos.ipynb\n",
      "\n",
      "nothing added to commit but untracked files present (use \"git add\" to track)\n",
      "\n",
      "warning: LF will be replaced by CRLF in Git_Repos.ipynb.\n",
      "The file will have its original line endings in your working directory\n",
      "\n",
      "On branch develop\n",
      "Your branch is up to date with 'origin/develop'.\n",
      "\n",
      "Changes to be committed:\n",
      "  (use \"git restore --staged <file>...\" to unstage)\n",
      "\tnew file:   Git_Repos.ipynb\n",
      "\n"
     ]
    }
   ],
   "source": [
    "## Add a file e.g. copy '~Git tutorial.ipynb' .\\Git_Repos.ipynb\n",
    "Git status\n",
    "''\n",
    "Git add * \n",
    "'' \n",
    "Git status"
   ]
  },
  {
   "cell_type": "code",
   "execution_count": null,
   "metadata": {},
   "outputs": [
    {
     "name": "stdout",
     "output_type": "stream",
     "text": [
      "[develop 137fa6d] Added a Jupyter notebook as a demo\n",
      " 1 file changed, 1217 insertions(+)\n",
      " create mode 100644 Git_Repos.ipynb\n",
      "\n",
      "137fa6d (HEAD -> develop) Added a Jupyter notebook as a demo\n",
      "5495636 (tag: 19_develop, origin/develop) Update version variables and graphs ***NO_DEPLOY***\n",
      "8683936 (tag: 17_develop) Sync Release 0.1 from Master\n",
      "5942680 (tag: MasterValidation_runID_18, origin/master, origin/HEAD, master) Merged PR 2: Release 0.1\n",
      "5a996b2 Add Documents ***NO_CI***\n",
      "\n",
      "On branch develop\n",
      "Your branch is ahead of 'origin/develop' by 1 commit.\n",
      "  (use \"git push\" to publish your local commits)\n",
      "\n",
      "nothing to commit, working tree clean\n"
     ]
    }
   ],
   "source": [
    "Git commit -m \"Added a Jupyter notebook as a demo\" # or some other message\n",
    "''\n",
    "Git log --oneline --decorate | select -First 5\n",
    "#For the notebook only get the first few lines.\n",
    "''\n",
    "Git status"
   ]
  },
  {
   "cell_type": "markdown",
   "metadata": {},
   "source": [
    "The log shows locally we have moved forward to commit `137fa6d` but -as far as we know - the server \"origin\" is still on commit `5495636`. The server can't pull from us, we have to push to the server"
   ]
  },
  {
   "cell_type": "code",
   "execution_count": null,
   "metadata": {},
   "outputs": [
    {
     "name": "stdout",
     "output_type": "stream",
     "text": [
      "To https://dev.azure.com/CAS-DFRP/DFRP/_git/DFRP\n",
      "   5495636..137fa6d  develop -> develop\n"
     ]
    }
   ],
   "source": [
    "Git push"
   ]
  },
  {
   "cell_type": "markdown",
   "metadata": {},
   "source": [
    "It's not the clearest message ever, but it says the develop branch has moved from `5495636` to `137fa6d`    \n",
    "In our case, because there is a CI pipeline which will now run, tags will be generated at the server.     \n",
    "Other changes may also occur at the server. In this case I'm going to modify a file through via the Azure devops Web UI, but it could just as easily be another member of the team adding their contribution to a branch we both work on.    \n",
    "Until we update what we know about the server `Git log` and `Git Status` have no idea this has happened\n"
   ]
  },
  {
   "cell_type": "code",
   "execution_count": null,
   "metadata": {},
   "outputs": [
    {
     "name": "stdout",
     "output_type": "stream",
     "text": [
      "137fa6d (HEAD -> develop, origin/develop) Added a Jupyter notebook as a demo\n",
      "5495636 (tag: 19_develop) Update version variables and graphs ***NO_DEPLOY***\n",
      "8683936 (tag: 17_develop) Sync Release 0.1 from Master\n",
      "5942680 (tag: MasterValidation_runID_18, origin/master, origin/HEAD, master) Merged PR 2: Release 0.1\n",
      "5a996b2 Add Documents ***NO_CI***\n",
      "\n",
      "On branch develop\n",
      "Your branch is up to date with 'origin/develop'.\n",
      "\n",
      "nothing to commit, working tree clean\n"
     ]
    }
   ],
   "source": [
    "# Changes have been made at the server, but we don't know about them \n",
    "Git log --oneline --decorate | select -First 5\n",
    "#For the notebook only get the first few lines.\n",
    "''\n",
    "Git status"
   ]
  },
  {
   "cell_type": "code",
   "execution_count": null,
   "metadata": {},
   "outputs": [
    {
     "name": "stdout",
     "output_type": "stream",
     "text": [
      "From https://dev.azure.com/CAS-DFRP/DFRP/_git/DFRP\n",
      "   137fa6d..f4843d2  develop    -> origin/develop\n",
      " * [new tag]         22_develop -> 22_develop\n",
      " * [new tag]         23_develop -> 23_develop\n",
      " * [new tag]         24_develop -> 24_develop\n"
     ]
    }
   ],
   "source": [
    "git fetch"
   ]
  },
  {
   "cell_type": "markdown",
   "metadata": {},
   "source": [
    "This tells us that new tags have been added since we last got an update and the development branch has moved forward from `137fa6d` which we have, to `f4843d2` which we don't. *Now* `Git status` can see we are one commit behind"
   ]
  },
  {
   "cell_type": "code",
   "execution_count": null,
   "metadata": {},
   "outputs": [
    {
     "name": "stdout",
     "output_type": "stream",
     "text": [
      "On branch develop\n",
      "Your branch is behind 'origin/develop' by 1 commit, and can be fast-forwarded.\n",
      "  (use \"git pull\" to update your local branch)\n",
      "\n",
      "nothing to commit, working tree clean\n"
     ]
    }
   ],
   "source": [
    "Git status"
   ]
  },
  {
   "cell_type": "markdown",
   "metadata": {},
   "source": [
    "In this case only the server version has changed since were last in sync, so git can \"fast forward\" us to the same checkin. As before the server can't push to us we have to pull. "
   ]
  },
  {
   "cell_type": "code",
   "execution_count": null,
   "metadata": {},
   "outputs": [
    {
     "name": "stdout",
     "output_type": "stream",
     "text": [
      "Updating 137fa6d..f4843d2\n",
      "Fast-forward\n",
      " README.md | 2 +-\n",
      " 1 file changed, 1 insertion(+), 1 deletion(-)\n"
     ]
    }
   ],
   "source": [
    "Git pull"
   ]
  },
  {
   "cell_type": "code",
   "execution_count": null,
   "metadata": {},
   "outputs": [
    {
     "name": "stdout",
     "output_type": "stream",
     "text": [
      "f4843d2 (HEAD -> develop, tag: 24_develop, origin/develop) Updated README.md\n",
      "137fa6d (tag: 23_develop) Added a Jupyter notebook as a demo\n",
      "5495636 (tag: 22_develop, tag: 19_develop) Update version variables and graphs ***NO_DEPLOY***\n",
      "8683936 (tag: 17_develop) Sync Release 0.1 from Master\n",
      "5942680 (tag: MasterValidation_runID_18, origin/master, origin/HEAD, master) Merged PR 2: Release 0.1\n"
     ]
    }
   ],
   "source": [
    "git log --oneline --decorate | select -first 5"
   ]
  },
  {
   "cell_type": "markdown",
   "metadata": {},
   "source": [
    "Now the log shows us that the tag '24_develop' and the *develop* branch both locally and at the server, and the local HEAD all point to `f4843d2` \r\n",
    "It also shows the commit we made earlier, `137fa6d`, has been tagged '23_develop' and some CI process ran against the orginal server version, `5495636` while we were making that change because it has an addition tag of `22_Develop`   \r\n",
    "The \"master\" branch , locally and at the server, still points to `5942680` \r\n",
    "\r\n",
    "-------\r\n",
    "\r\n",
    "Let's assume this completes a peice of development work, and now we want to relase it.   \r\n",
    "We have a \"release! branch for code which is being prepared to be the next thing we deliver, while developers continue to work on the changes for the version after that in the \"development\" branch.    \r\n",
    "We need to merge our changes into the \"release\" branch. So we start by checking out that branch. Since we don't have a copy of it yet we can check it out as before\r\n"
   ]
  },
  {
   "cell_type": "code",
   "execution_count": null,
   "metadata": {},
   "outputs": [
    {
     "name": "stdout",
     "output_type": "stream",
     "text": [
      "Switched to a new branch 'release'\n",
      "Branch 'release' set up to track remote branch 'release' from 'origin'.\n",
      "\n",
      "9deb15a (HEAD -> release, tag: UAT, tag: SIT, tag: 16, origin/release) Sync Release 0.1 from Master\n",
      "5942680 (tag: MasterValidation_runID_18, origin/master, origin/HEAD, master) Merged PR 2: Release 0.1\n"
     ]
    }
   ],
   "source": [
    "git checkout -b release origin/release\n",
    "''\n",
    "git log --oneline --decorate | select -first 2"
   ]
  },
  {
   "cell_type": "markdown",
   "metadata": {},
   "source": [
    "We can see that both branches share an ancestor: `5942680`. In this step we can see *Release* has been updated from this ancestor and the previous step *develop* has also been updated - 4 times since `5942680`. \r\n",
    "\r\n",
    "Because both branches have changes we can't do a fast forward, but Git *can* determine whether any changes in the two branches conflict, or if the two can be automatically merged. "
   ]
  },
  {
   "cell_type": "code",
   "execution_count": null,
   "metadata": {},
   "outputs": [
    {
     "name": "stdout",
     "output_type": "stream",
     "text": [
      "Merge made by the 'recursive' strategy.\n",
      " .Documentation/Graphs/Branch-Develop.pipeline.svg  |   56 +\n",
      " .Documentation/Graphs/Branch-Master.pipeline.svg   |    2 +-\n",
      " .Documentation/Graphs/Branch-Release.pipeline.svg  |   42 +-\n",
      " .Documentation/Graphs/Stage.Build.pipeline.svg     |    2 +-\n",
      " .../Graphs/Stage.Deployment.pipeline.svg           |   18 +-\n",
      " .../Graphs/Steps.ConfigAzVM.pipeline.svg           |    6 +-\n",
      " .Documentation/Graphs/Steps.DeployARM.pipeline.svg |    6 +-\n",
      " CI/Branch-Develop.pipeline.yml                     |   15 +-\n",
      " CI/Branch-Master.pipeline.yml                      |    8 +-\n",
      " CI/Branch-Release.pipeline.yml                     |   16 +-\n",
      " Git_Repos.ipynb                                    | 1217 ++++++++++++++++++++\n",
      " README.md                                          |    2 +-\n",
      " 12 files changed, 1331 insertions(+), 59 deletions(-)\n",
      " create mode 100644 .Documentation/Graphs/Branch-Develop.pipeline.svg\n",
      " create mode 100644 Git_Repos.ipynb\n"
     ]
    }
   ],
   "source": [
    "git merge develop"
   ]
  },
  {
   "cell_type": "markdown",
   "metadata": {},
   "source": [
    "In this case two files were added - the two listed at the bottom. And the others all have a number of changes shown on the right. \r\n"
   ]
  },
  {
   "cell_type": "code",
   "execution_count": null,
   "metadata": {},
   "outputs": [
    {
     "name": "stdout",
     "output_type": "stream",
     "text": [
      "b6efae8 (HEAD -> release) Merge branch 'develop' into release\n",
      "f4843d2 (tag: 24_develop, origin/develop, develop) Updated README.md\n",
      "137fa6d (tag: 23_develop) Added a Jupyter notebook as a demo\n",
      "5495636 (tag: 22_develop, tag: 19_develop) Update version variables and graphs ***NO_DEPLOY***\n",
      "8683936 (tag: 17_develop) Sync Release 0.1 from Master\n",
      "9deb15a (tag: UAT, tag: SIT, tag: 16, origin/release) Sync Release 0.1 from Master\n",
      "5942680 (tag: MasterValidation_runID_18, origin/master, origin/HEAD, master) Merged PR 2: Release 0.1\n"
     ]
    }
   ],
   "source": [
    "git log --oneline --decorate | select -First 7"
   ]
  },
  {
   "cell_type": "markdown",
   "metadata": {},
   "source": [
    "We can see that we have a locally merged version of *release* which contains the commits which were made in the develop branch; and the the version of release at the origin is still the old one.\n",
    "`git status` will reinforce this, and tell us to run `git push`"
   ]
  },
  {
   "cell_type": "code",
   "execution_count": null,
   "metadata": {},
   "outputs": [
    {
     "name": "stdout",
     "output_type": "stream",
     "text": [
      "On branch release\n",
      "Your branch is ahead of 'origin/release' by 6 commits.\n",
      "  (use \"git push\" to publish your local commits)\n",
      "\n",
      "nothing to commit, working tree clean\n",
      "\n",
      "To https://dev.azure.com/CAS-DFRP/DFRP/_git/DFRP\n",
      "   9deb15a..b6efae8  release -> release\n"
     ]
    }
   ],
   "source": [
    "git status\n",
    "''\n",
    "git push"
   ]
  },
  {
   "cell_type": "markdown",
   "metadata": {},
   "source": [
    "# What about a new local branch\n",
    "`git checkout -b` without specifying a source will create a new branch from the current one. So we can create a branch with a change in it. "
   ]
  },
  {
   "cell_type": "code",
   "execution_count": null,
   "metadata": {},
   "outputs": [
    {
     "name": "stdout",
     "output_type": "stream",
     "text": [
      "Switched to a new branch 'featureX'\r\n"
     ]
    }
   ],
   "source": [
    "git checkout -b featureX"
   ]
  },
  {
   "cell_type": "code",
   "execution_count": null,
   "metadata": {},
   "outputs": [
    {
     "name": "stdout",
     "output_type": "stream",
     "text": [
      "[featureX bfc8490] New feature 'X'\n",
      " 1 file changed, 1 insertion(+)\n",
      " create mode 100644 featureX.txt\n",
      "\n",
      "bfc8490 (HEAD -> featureX) New feature 'X'\n",
      "5942680 (tag: MasterValidation_runID_18, origin/master, origin/HEAD, master) Merged PR 2: Release 0.1\n",
      "b143567 Update Pipeline yaml files for new environment\n"
     ]
    }
   ],
   "source": [
    "echo \"New Content\" > featureX.txt\n",
    "git add *\n",
    "git commit -m \"New feature 'X'\"\n",
    "''\n",
    "git log --oneline --decorate | select -First 3"
   ]
  },
  {
   "cell_type": "code",
   "execution_count": null,
   "metadata": {},
   "outputs": [
    {
     "name": "stdout",
     "output_type": "stream",
     "text": [
      "  P10498824\n",
      "  develop\n",
      "* featureX\n",
      "  master\n",
      "  release\n",
      "  remotes/origin/HEAD -> origin/master\n",
      "  remotes/origin/P10498824\n",
      "  remotes/origin/Testbranch\n",
      "  remotes/origin/develop\n",
      "  remotes/origin/master\n",
      "  remotes/origin/release\n"
     ]
    }
   ],
   "source": [
    "git fetch\n",
    "git branch -a"
   ]
  },
  {
   "cell_type": "markdown",
   "metadata": {},
   "source": [
    "The branch command shows the new branch (with a new commit in it) in the local repositiory, but `git push` would give an error because the local branch doesn't have a matching remote.    \r\n",
    "Happily the error message suggests the command to fix this. And after running the command it the remote branch appears."
   ]
  },
  {
   "cell_type": "code",
   "execution_count": null,
   "metadata": {},
   "outputs": [
    {
     "name": "stdout",
     "output_type": "stream",
     "text": [
      "Branch 'featureX' set up to track remote branch 'featureX' from 'origin'.\n",
      "To https://dev.azure.com/CAS-DFRP/DFRP/_git/DFRP\n",
      " * [new branch]      featureX -> featureX\n"
     ]
    }
   ],
   "source": [
    "git push --set-upstream origin featureX"
   ]
  },
  {
   "cell_type": "code",
   "execution_count": null,
   "metadata": {},
   "outputs": [
    {
     "name": "stdout",
     "output_type": "stream",
     "text": [
      "  P10498824\n",
      "  develop\n",
      "* featureX\n",
      "  master\n",
      "  release\n",
      "  remotes/origin/HEAD -> origin/master\n",
      "  remotes/origin/P10498824\n",
      "  remotes/origin/Testbranch\n",
      "  remotes/origin/develop\n",
      "  remotes/origin/featureX\n",
      "  remotes/origin/master\n",
      "  remotes/origin/release\n"
     ]
    }
   ],
   "source": [
    "git branch -a"
   ]
  },
  {
   "cell_type": "markdown",
   "metadata": {},
   "source": [
    "The new feature will go through the same process of being merged that we have already seen, so it ends up in the current developments branch. \n",
    "Eventually featureX is just part of the product and no longer needs its own branch so we can delete it. "
   ]
  },
  {
   "cell_type": "code",
   "execution_count": null,
   "metadata": {},
   "outputs": [
    {
     "name": "stdout",
     "output_type": "stream",
     "text": [
      "Your branch is up to date with 'origin/master'.\n",
      "Switched to branch 'master'\n",
      "warning: deleting branch 'featureX' that has been merged to\n",
      "         'refs/remotes/origin/featureX', but not yet merged to HEAD.\n",
      "Deleted branch featureX (was bfc8490).\n"
     ]
    }
   ],
   "source": [
    "git checkout master\n",
    "git branch -d featureX"
   ]
  },
  {
   "cell_type": "code",
   "execution_count": null,
   "metadata": {},
   "outputs": [
    {
     "name": "stdout",
     "output_type": "stream",
     "text": [
      "To https://dev.azure.com/CAS-DFRP/DFRP/_git/DFRP\n",
      " - [deleted]         featureX\n"
     ]
    }
   ],
   "source": [
    "git push origin --delete featureX"
   ]
  },
  {
   "cell_type": "markdown",
   "metadata": {},
   "source": [
    "### First \"Oh no I didn't mean to\" example\r\n",
    "Git has not discarded the file-blobs or the commit information which made the new feature branch, commit `bfc8490` still exists, it just doesn't have a branch label attached to it.     \r\n",
    "We can checkout a new branch from an existing branch, or a tag name, or a commit ID. \r\n"
   ]
  },
  {
   "cell_type": "code",
   "execution_count": null,
   "metadata": {},
   "outputs": [
    {
     "name": "stdout",
     "output_type": "stream",
     "text": [
      "Switched to a new branch 'GetItBack'\r\n"
     ]
    }
   ],
   "source": [
    "git checkout -b GetItBack bfc8490"
   ]
  },
  {
   "cell_type": "code",
   "execution_count": null,
   "metadata": {},
   "outputs": [
    {
     "name": "stdout",
     "output_type": "stream",
     "text": [
      "bfc8490 New feature 'X'\n",
      "5942680 Merged PR 2: Release 0.1\n",
      "b143567 Update Pipeline yaml files for new environment\n",
      "eeb16da Remove old test section from ARM template\n"
     ]
    }
   ],
   "source": [
    "git log --oneline | select -first 4"
   ]
  },
  {
   "cell_type": "code",
   "execution_count": null,
   "metadata": {},
   "outputs": [],
   "source": []
  }
 ],
 "metadata": {
  "kernelspec": {
   "display_name": ".NET (C#)",
   "language": "C#",
   "name": ".net-csharp"
  },
  "language_info": {
   "file_extension": ".ps1",
   "mimetype": "text/x-powershell",
   "name": "pwsh",
   "pygments_lexer": "powershell",
   "version": "7.0"
  }
 },
 "nbformat": 4,
 "nbformat_minor": 4
}