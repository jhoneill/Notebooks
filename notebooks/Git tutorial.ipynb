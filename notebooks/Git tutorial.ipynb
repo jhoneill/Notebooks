{
 "cells": [
  {
   "cell_type": "markdown",
   "metadata": {},
   "source": [
    "Here we are going to look at **git as purely local file management**.  The next one looks at working with the server. \n",
    "\n",
    "**Before we start** remove any pre-existing version of the dummy project that we'll create and see what our git configuration looks like"
   ]
  },
  {
   "cell_type": "code",
   "execution_count": 1,
   "metadata": {},
   "source": [
    "#!pwsh\n",
    "cd ~\n",
    "del dummyProj -rec -force\n",
    "git config --list"
   ],
   "outputs": [
    {
     "output_type": "stream",
     "name": "stdout",
     "text": "http.sslbackend=schannel\ndiff.astextplain.textconv=astextplain\ncore.autocrlf=true\ncore.fscache=true\ncore.symlinks=false\ncore.editor=\"C:\\\\Program Files\\\\Microsoft VS Code\\\\Code.exe\" --wait\ncredential.helper=manager\nfilter.lfs.clean=git-lfs clean -- %f\nfilter.lfs.smudge=git-lfs smudge -- %f\nfilter.lfs.process=git-lfs filter-process\nfilter.lfs.required=true\npull.rebase=false\nuser.name=James O'Neill\nuser.email=P10506111@capita.co.uk\ncredential.helper=wincred"
    }
   ]
  },
  {
   "cell_type": "markdown",
   "metadata": {},
   "source": [
    "Lets **Initialize a new local repo**.    \n",
    "_What's a \"repo\"_ - a Repository is a collection of files tracked by git. It's all the files and folders under a given path - that might be a local directory, or a URL to a server. \n",
    "Within the repo git knows about \"blobs\" which are versions of files, and it knows the blob that represents the active version of each file in the repo. Git knows which files existed in the repo at differnt points in time and which blobs represented them at that time (giving us the ability to move backwards and forwards in file history ) \n",
    "\n",
    "So let's create one:\n",
    "- Make a directory, \n",
    "- move into it \n",
    "- run `git init`"
   ]
  },
  {
   "cell_type": "code",
   "execution_count": 1,
   "metadata": {},
   "source": [
    "#!pwsh\n",
    "$null = md dummyProj \n",
    "cd ~\\dummyProj  \n",
    "git init"
   ],
   "outputs": [
    {
     "output_type": "stream",
     "name": "stdout",
     "text": "Initialized empty Git repository in C:/Users/P10506111/dummyProj/.git/"
    }
   ]
  },
  {
   "cell_type": "markdown",
   "metadata": {},
   "source": [
    "When we add a file, initially it is in the directory, but git hasn't made a blob for it. So let's\n",
    "- Make a file,\n",
    "- use `git add filename` to **add** it to tell Git to start copy versions of it into blobs\n",
    "- make a **new commit** with a **message**  do the commit verbosly \n",
    "\n",
    "_what's a commit ?_   When I said before that Git knows which files existed in the repo at differnt points in time and which blobs represented them, a commit is saying \"This is one of those points\". So git records the contents of the directory, and which blob maps to which file.  "
   ]
  },
  {
   "cell_type": "code",
   "execution_count": 1,
   "metadata": {},
   "source": [
    "#!pwsh\n",
    "cd ~\\dummyProj \n",
    "echo \"Placeholder\" > license.md \n",
    "git add license.md  \n",
    "git commit -v -m \"Inital version\"  "
   ],
   "outputs": [
    {
     "output_type": "stream",
     "name": "stdout",
     "text": "[master (root-commit) ef2364f] Inital version\n 1 file changed, 1 insertion(+)\n create mode 100644 license.md"
    }
   ]
  },
  {
   "cell_type": "markdown",
   "metadata": {},
   "source": [
    "Git keeps a log so let's see what's in the **log** so far. "
   ]
  },
  {
   "cell_type": "code",
   "execution_count": 1,
   "metadata": {},
   "source": [
    "#!pwsh\n",
    "cd ~\\dummyProj \n",
    "git log"
   ],
   "outputs": [
    {
     "output_type": "stream",
     "name": "stdout",
     "text": "commit ef2364fbe471899c2267afd08654bd53e0e0a8da\nAuthor: James O'Neill <P10506111@capita.co.uk>\nDate:   Thu Sep 3 17:13:11 2020 +0100\n\n    Inital version"
    }
   ]
  },
  {
   "cell_type": "markdown",
   "metadata": {},
   "source": [
    "We can get a shorter view with `--oneline`"
   ]
  },
  {
   "cell_type": "code",
   "execution_count": 1,
   "metadata": {},
   "source": [
    "#!pwsh\n",
    "cd ~\\dummyProj \n",
    "git log --oneline"
   ],
   "outputs": [
    {
     "output_type": "stream",
     "name": "stdout",
     "text": "ef2364f Inital version"
    }
   ]
  },
  {
   "cell_type": "markdown",
   "metadata": {},
   "source": [
    "_Side note from https://git-scm.com/book/en/v2/Git-Basics-Getting-a-Git-Repository_\n",
    "\n",
    "To **clone** the Git linkable library called libgit2, you can do so like this:    \n",
    "`git clone https://github.com/libgit2/libgit2`    \n",
    "That creates a directory named `libgit2`, initializes a `.git` directory inside it, pulls down all the data for that repository, and checks out a working copy of the latest version.   \n",
    "To clone the repository into a directory named something other than libgit2, you can specify the new directory name as an additional argument:    \n",
    "`git clone https://github.com/libgit2/libgit2 mylibgit`    \n",
    "\n",
    "Whether we used **clone** or **init** we now have a git enabled folder - in other words one with a .git directory which is where the blobs and commit information live . Let's check its **status**"
   ]
  },
  {
   "cell_type": "code",
   "execution_count": 1,
   "metadata": {},
   "source": [
    "#!pwsh\n",
    "cd ~/dummyProj \n",
    "git status  "
   ],
   "outputs": [
    {
     "output_type": "stream",
     "name": "stdout",
     "text": "On branch master\nnothing to commit, working tree clean"
    }
   ]
  },
  {
   "cell_type": "markdown",
   "metadata": {},
   "source": [
    "The status will change if we add, update or delete files, so let's extend an existing file and add a copy of it, and get the status again."
   ]
  },
  {
   "cell_type": "code",
   "execution_count": 1,
   "metadata": {},
   "source": [
    "#!pwsh\n",
    "cd ~/dummyProj \n",
    "echo 'more' >> license.md \n",
    "copy license.md readme\n",
    "git status  "
   ],
   "outputs": [
    {
     "output_type": "stream",
     "name": "stdout",
     "text": "On branch master\nChanges not staged for commit:\n  (use \"git add <file>...\" to update what will be committed)\n  (use \"git restore <file>...\" to discard changes in working directory)\n\tmodified:   license.md\n\nUntracked files:\n  (use \"git add <file>...\" to include in what will be committed)\n\treadme\n\nno changes added to commit (use \"git add\" and/or \"git commit -a\")"
    }
   ]
  },
  {
   "cell_type": "markdown",
   "metadata": {},
   "source": [
    "Git tells us our changes are in the form of one additional  file, currently **untracked**, and one **modified** file which has not yet be staged for committing. `add` will update what is going to be committed, `restore` will roll back to a previous version and `commit -a` is like doing `add *` followed by `commit`\n",
    "\n",
    "We can see the changes to existing files with `diff`"
   ]
  },
  {
   "cell_type": "code",
   "execution_count": 1,
   "metadata": {},
   "source": [
    "#!pwsh\n",
    "git diff"
   ],
   "outputs": [
    {
     "output_type": "stream",
     "name": "stdout",
     "text": "diff --git a/license.md b/license.md\nindex 3b94f91..ce2ca9f 100644\n--- a/license.md\n+++ b/license.md\n@@ -1 +1,2 @@\n Placeholder\n+more"
    }
   ]
  },
  {
   "cell_type": "markdown",
   "metadata": {},
   "source": [
    "`git add *` will **stage** all new and changed files, and we can check the status again."
   ]
  },
  {
   "cell_type": "code",
   "execution_count": 1,
   "metadata": {},
   "source": [
    "#!pwsh\n",
    "git add *  \n",
    "git status"
   ],
   "outputs": [
    {
     "output_type": "stream",
     "name": "stdout",
     "text": "On branch master\nChanges to be committed:\n  (use \"git restore --staged <file>...\" to unstage)\n\tmodified:   license.md\n\tnew file:   readme\n"
    }
   ]
  },
  {
   "cell_type": "markdown",
   "metadata": {},
   "source": [
    "As before, `restore` can be used to to reverse things, `restore --staged` moves the file back (undoing any changes since `git add` was run) and removes it from the list of files to include in the next commit.\n",
    "\n",
    "The `diff` command can show us what has changed - on it's own it shows what is *tracked*, *unstaged* files, and all our files are *staged* now so that won't show anything `--cached` shows what's staged and waiting to be committed. "
   ]
  },
  {
   "cell_type": "code",
   "execution_count": 1,
   "metadata": {},
   "source": [
    "#!pwsh\n",
    "git diff --cached"
   ],
   "outputs": [
    {
     "output_type": "stream",
     "name": "stdout",
     "text": "diff --git a/license.md b/license.md\nindex 3b94f91..ce2ca9f 100644\n--- a/license.md\n+++ b/license.md\n@@ -1 +1,2 @@\n Placeholder\n+more\ndiff --git a/readme b/readme\nnew file mode 100644\nindex 0000000..ce2ca9f\n--- /dev/null\n+++ b/readme\n@@ -0,0 +1,2 @@\n+Placeholder\n+more"
    }
   ]
  },
  {
   "cell_type": "markdown",
   "metadata": {},
   "source": [
    "Let's `commit` the the change  with a new message (`-m`) and see what is in the log afterwards"
   ]
  },
  {
   "cell_type": "code",
   "execution_count": 1,
   "metadata": {},
   "source": [
    "#!pwsh\n",
    "git commit -m \"two\" "
   ],
   "outputs": [
    {
     "output_type": "stream",
     "name": "stdout",
     "text": "[master e696360] two\n 2 files changed, 3 insertions(+)\n create mode 100644 readme"
    }
   ]
  },
  {
   "cell_type": "code",
   "execution_count": 1,
   "metadata": {},
   "source": [
    "#!pwsh\n",
    "git log --oneline"
   ],
   "outputs": [
    {
     "output_type": "stream",
     "name": "stdout",
     "text": "e696360 two\nef2364f Inital version"
    }
   ]
  },
  {
   "cell_type": "markdown",
   "metadata": {},
   "source": [
    "So the **log shows the history of every commit** which got us to this point. \n",
    "Let's remove a file now"
   ]
  },
  {
   "cell_type": "code",
   "execution_count": 1,
   "metadata": {},
   "source": [
    "#!pwsh\n",
    "del .\\license.md\n",
    "echo 'extra' >> .\\readme\n",
    "git status"
   ],
   "outputs": [
    {
     "output_type": "stream",
     "name": "stdout",
     "text": "On branch master\nChanges not staged for commit:\n  (use \"git add/rm <file>...\" to update what will be committed)\n  (use \"git restore <file>...\" to discard changes in working directory)\n\tdeleted:    license.md\n\tmodified:   readme\n\nno changes added to commit (use \"git add\" and/or \"git commit -a\")"
    }
   ]
  },
  {
   "cell_type": "markdown",
   "metadata": {},
   "source": [
    "This time the status shows a deleted file. We might be temped to use the `git rm` command to remove all deleted files, but beware..."
   ]
  },
  {
   "cell_type": "code",
   "execution_count": 1,
   "metadata": {},
   "source": [
    "#!pwsh\n",
    "git rm *"
   ],
   "outputs": [
    {
     "output_type": "stream",
     "name": "stdout",
     "text": "error: the following file has local modifications:\n    readme\n(use --cached to keep the file, or -f to force removal)"
    }
   ]
  },
  {
   "cell_type": "markdown",
   "metadata": {},
   "source": [
    "`rm *` _did_ try to remove everything. Fortunately our modified file saved us. Let's try just remove the file which needs deleting, and add the other changed files. Then let's try a new option for the status command. "
   ]
  },
  {
   "cell_type": "code",
   "execution_count": 1,
   "metadata": {},
   "source": [
    "#!pwsh\n",
    "git rm ./license.md\n",
    "git add *"
   ],
   "outputs": [
    {
     "output_type": "stream",
     "name": "stdout",
     "text": "rm 'license.md'"
    }
   ]
  },
  {
   "cell_type": "code",
   "execution_count": 1,
   "metadata": {},
   "source": [
    "#!pwsh\n",
    "git status -s "
   ],
   "outputs": [
    {
     "output_type": "stream",
     "name": "stdout",
     "text": "D  license.md\nM  readme"
    }
   ]
  },
  {
   "cell_type": "markdown",
   "metadata": {},
   "source": [
    "to keep the file in your working tree but remove it from your staging area  e.g accidentally staged    \n",
    "`git rm --cached README`   \n",
    "https://git-scm.com/book/en/v2/Git-Basics-Recording-Changes-to-the-Repository \n",
    "\n",
    "Missed a file ? add it & run `git commit --amend`  \n",
    "\n",
    "For now lets commit the deletion(s) and update(s) and then see what has changed in the log"
   ]
  },
  {
   "cell_type": "code",
   "execution_count": 1,
   "metadata": {},
   "source": [
    "#!pwsh\n",
    "git commit -m \"three\"  "
   ],
   "outputs": [
    {
     "output_type": "stream",
     "name": "stdout",
     "text": "[master 32fc27d] three\n 2 files changed, 3 insertions(+), 2 deletions(-)\n delete mode 100644 license.md"
    }
   ]
  },
  {
   "cell_type": "code",
   "execution_count": 1,
   "metadata": {},
   "source": [
    "#!pwsh\n",
    "git log"
   ],
   "outputs": [
    {
     "output_type": "stream",
     "name": "stdout",
     "text": "commit 32fc27d19fda3f7d6a853d553eff501f1c9da0d8\nAuthor: James O'Neill <P10506111@capita.co.uk>\nDate:   Thu Sep 3 18:30:37 2020 +0100\n\n    three\n\ncommit e696360a2bab11e28e006c22f436666bb47d7e31\nAuthor: James O'Neill <P10506111@capita.co.uk>\nDate:   Thu Sep 3 17:20:55 2020 +0100\n\n    two\n\ncommit ef2364fbe471899c2267afd08654bd53e0e0a8da\nAuthor: James O'Neill <P10506111@capita.co.uk>\nDate:   Thu Sep 3 17:13:11 2020 +0100\n\n    Inital version"
    }
   ]
  },
  {
   "cell_type": "markdown",
   "metadata": {},
   "source": [
    "We can move or rename files and follow the operation with    \n",
    "`git rm <oldName>`    \n",
    "`git add <NewName>` \n",
    "but `git mv` does all 3 in one "
   ]
  },
  {
   "cell_type": "code",
   "execution_count": 1,
   "metadata": {},
   "source": [
    "#!pwsh\n",
    "git mv .\\readme read_me.txt  \n",
    "git status -s"
   ],
   "outputs": [
    {
     "output_type": "stream",
     "name": "stdout",
     "text": "R  readme -> read_me.txt"
    }
   ]
  },
  {
   "cell_type": "markdown",
   "metadata": {},
   "source": [
    "git log -p -1"
   ]
  },
  {
   "cell_type": "code",
   "execution_count": 1,
   "metadata": {},
   "source": [
    "#!pwsh\n",
    "git log --stat --since=1.hours  "
   ],
   "outputs": [
    {
     "output_type": "stream",
     "name": "stdout",
     "text": "commit 32fc27d19fda3f7d6a853d553eff501f1c9da0d8\nAuthor: James O'Neill <P10506111@capita.co.uk>\nDate:   Thu Sep 3 18:30:37 2020 +0100\n\n    three\n\n license.md | 2 --\n readme     | 3 +++\n 2 files changed, 3 insertions(+), 2 deletions(-)"
    }
   ]
  },
  {
   "cell_type": "markdown",
   "metadata": {},
   "source": [
    "# Branches\n",
    "The line of commits forms a branch. In the early years of git, the first branch was always named \"master\". Other names are now allowed and people increasingly prefer other names like \"main\" or \"trunk. We are currently working in that branch so  the **HEAD** pointer and current state of that branch map to the our most recent commit.  "
   ]
  },
  {
   "cell_type": "code",
   "execution_count": 1,
   "metadata": {},
   "source": [
    "#!pwsh\n",
    "git log --oneline --decorate "
   ],
   "outputs": [
    {
     "output_type": "stream",
     "name": "stdout",
     "text": "32fc27d (HEAD -> master) three\ne696360 two\nef2364f Inital version"
    }
   ]
  },
  {
   "cell_type": "markdown",
   "metadata": {},
   "source": [
    "In this case the **HEAD** pointer and the current commit in the **master** branch point to the commit with the hash `32fc27d` which had the commit message **three** , this is descended from commit `e696360` (\"two\"), which descended from commit `ef2364f` (\"Initial version\") \n",
    "\n",
    "If we add a new branch it creates the name and with no other parameters starts pointing wherever **HEAD** points but **HEAD** does not switch to the new branch. "
   ]
  },
  {
   "cell_type": "code",
   "execution_count": 1,
   "metadata": {},
   "source": [
    "#!pwsh\n",
    "git branch testing\n",
    "git log --oneline --decorate "
   ],
   "outputs": [
    {
     "output_type": "stream",
     "name": "stdout",
     "text": "fatal: A branch named 'testing' already exists.\nc24aeb3 (HEAD -> testing) changed the testing branch\n32fc27d (master) three\ne696360 two\nef2364f Inital version"
    }
   ]
  },
  {
   "cell_type": "markdown",
   "metadata": {},
   "source": [
    " `git checkout <branchname>` selects a branch to work in - or we can create & select in one command with  `git checkout -b <branchname>`"
   ]
  },
  {
   "cell_type": "code",
   "execution_count": 1,
   "metadata": {},
   "source": [
    "#!pwsh\n",
    "git checkout testing   "
   ],
   "outputs": [
    {
     "output_type": "stream",
     "name": "stdout",
     "text": "A\tread_me.txt\nSwitched to branch 'testing'\nD\treadme"
    }
   ]
  },
  {
   "cell_type": "markdown",
   "metadata": {},
   "source": [
    "<u>Now</u> the **head** points to the new branch"
   ]
  },
  {
   "cell_type": "code",
   "execution_count": 1,
   "metadata": {},
   "source": [
    "#!pwsh\n",
    "git log --oneline --decorate "
   ],
   "outputs": [
    {
     "output_type": "stream",
     "name": "stdout",
     "text": "32fc27d (HEAD -> testing, master) three\ne696360 two\nef2364f Inital version"
    }
   ]
  },
  {
   "cell_type": "markdown",
   "metadata": {},
   "source": [
    "If we add a file and commit our changes, the HEAD pointer and the current branch (\"testing\") move forard to the new commit. But any other branches (like \"master\") remain at their existing commits."
   ]
  },
  {
   "cell_type": "code",
   "execution_count": 1,
   "metadata": {},
   "source": [
    "#!pwsh\n",
    "dir -force > test.txt\n",
    "git commit -a -m \"changed the testing branch\""
   ],
   "outputs": [
    {
     "output_type": "stream",
     "name": "stdout",
     "text": "[testing c24aeb3] changed the testing branch\n 1 file changed, 0 insertions(+), 0 deletions(-)\n rename readme => read_me.txt (100%)"
    }
   ]
  },
  {
   "cell_type": "code",
   "execution_count": 1,
   "metadata": {},
   "source": [
    "#!pwsh\n",
    "git log --oneline --decorate "
   ],
   "outputs": [
    {
     "output_type": "stream",
     "name": "stdout",
     "text": "c24aeb3 (HEAD -> testing) changed the testing branch\n32fc27d (master) three\ne696360 two\nef2364f Inital version"
    }
   ]
  },
  {
   "cell_type": "markdown",
   "metadata": {},
   "source": [
    "We can switch back to the \"master\" branch, (changing where HEAD points), change its content and commit"
   ]
  },
  {
   "cell_type": "code",
   "execution_count": 1,
   "metadata": {},
   "source": [
    "#!pwsh\n",
    "git checkout master"
   ],
   "outputs": [
    {
     "output_type": "stream",
     "name": "stdout",
     "text": "Switched to branch 'master'"
    }
   ]
  },
  {
   "cell_type": "code",
   "execution_count": 1,
   "metadata": {},
   "source": [
    "#!pwsh\n",
    "echo \"new\" > update.txt\n",
    "git add *\n",
    "git commit -m \"changed master\""
   ],
   "outputs": [
    {
     "output_type": "stream",
     "name": "stdout",
     "text": "[master 4de7c34] changed master\n 2 files changed, 11 insertions(+)\n create mode 100644 test.txt\n create mode 100644 update.txt"
    }
   ]
  },
  {
   "cell_type": "markdown",
   "metadata": {},
   "source": [
    "Another version of the `git log` command shows us both branches and how the overall stucture:"
   ]
  },
  {
   "cell_type": "code",
   "execution_count": 1,
   "metadata": {},
   "source": [
    "#!pwsh\n",
    "git log --oneline --decorate --graph --all"
   ],
   "outputs": [
    {
     "output_type": "stream",
     "name": "stdout",
     "text": "* 4de7c34 (HEAD -> master) changed master\n| * c24aeb3 (testing) changed the testing branch\n|/  \n* 32fc27d three\n* e696360 two\n* ef2364f Inital version"
    }
   ]
  },
  {
   "cell_type": "markdown",
   "metadata": {},
   "source": [
    "**HEAD** points to \"master\" and is currently at commit `4de7c34`; we have another branch \"testing\" which is at commit `c24aeb3` and both `4de7c34` and `c24aeb3` are dervived from `32fc27d` which in turn is derived from `e696360` and so on\n",
    "\n",
    "Let's create a branch for a hot fix. "
   ]
  },
  {
   "cell_type": "code",
   "execution_count": 1,
   "metadata": {},
   "source": [
    "#!pwsh\n",
    "git checkout -b hotfix   \n",
    "echo \"hotfix\" > hotfix.txt\n",
    "git add *\n",
    "git commit -m \"added my hotfix\"\n",
    "git log --oneline --decorate --graph --all"
   ],
   "outputs": [
    {
     "output_type": "stream",
     "name": "stdout",
     "text": "Switched to a new branch 'hotfix'\n[hotfix ac34b41] added my hotfix\n 1 file changed, 1 insertion(+)\n create mode 100644 hotfix.txt\n* ac34b41 (HEAD -> hotfix) added my hotfix\n* 4de7c34 (master) changed master\n| * c24aeb3 (testing) changed the testing branch\n|/  \n* 32fc27d three\n* e696360 two\n* ef2364f Inital version"
    }
   ]
  },
  {
   "cell_type": "markdown",
   "metadata": {},
   "source": [
    "We can build and deploy the hotfix using our new branch as the source of the code.     \n",
    "Eventually we will want to merge those changes into the master branch.\n",
    "Because there the  commit  for \"hotfix\" is a direct descentant of the commit for master, this is just a case of moving the name \"master\" along the line of descent - something git calls \"fast forwarding\""
   ]
  },
  {
   "cell_type": "code",
   "execution_count": 1,
   "metadata": {},
   "source": [
    "#!pwsh\n",
    "git checkout master   \n",
    "git merge hotfix  "
   ],
   "outputs": [
    {
     "output_type": "stream",
     "name": "stdout",
     "text": "Switched to branch 'master'\nUpdating 4de7c34..ac34b41\nFast-forward\n hotfix.txt | 1 +\n 1 file changed, 1 insertion(+)\n create mode 100644 hotfix.txt"
    }
   ]
  },
  {
   "cell_type": "code",
   "execution_count": 1,
   "metadata": {},
   "source": [
    "#!pwsh\n",
    "git log --oneline --decorate --graph --all"
   ],
   "outputs": [
    {
     "output_type": "stream",
     "name": "stdout",
     "text": "* ac34b41 (HEAD -> master, hotfix) added my hotfix\n* 4de7c34 changed master\n| * c24aeb3 (testing) changed the testing branch\n|/  \n* 32fc27d three\n* e696360 two\n* ef2364f Inital version"
    }
   ]
  },
  {
   "cell_type": "markdown",
   "metadata": {},
   "source": [
    "Now **HEAD** is attached to \"master\" which has moved forward from `4de7c34` to `ac34b41`; \"hotfix\" is still on `ac34b41` as well but it is a redundant label so we can delete it"
   ]
  },
  {
   "cell_type": "code",
   "execution_count": 1,
   "metadata": {},
   "source": [
    "#!pwsh\n",
    "git branch -d hotfix "
   ],
   "outputs": [
    {
     "output_type": "stream",
     "name": "stdout",
     "text": "Deleted branch hotfix (was ac34b41)."
    }
   ]
  },
  {
   "cell_type": "markdown",
   "metadata": {},
   "source": [
    "If we look at testing and master, we can see they have a common ancestor `32fc27d`. Testing has one extra commit which master doesn't have and lacks two commits which have been made to master - it is said to be \"one ahead and two behind\" . We can't do a fast forward merge but we can merge the changes from both  to make a single new commit with all the changes. "
   ]
  },
  {
   "cell_type": "code",
   "execution_count": 1,
   "metadata": {},
   "source": [
    "#!pwsh\n",
    "git checkout testing \n",
    "git merge master  "
   ],
   "outputs": [
    {
     "output_type": "stream",
     "name": "stdout",
     "text": "Switched to branch 'testing'\nMerge made by the 'recursive' strategy.\n hotfix.txt |  1 +\n test.txt   | 10 ++++++++++\n update.txt |  1 +\n 3 files changed, 12 insertions(+)\n create mode 100644 hotfix.txt\n create mode 100644 test.txt\n create mode 100644 update.txt"
    }
   ]
  },
  {
   "cell_type": "markdown",
   "metadata": {},
   "source": [
    "In this case the two branches have made changes which are independent of each other. Let's create a conflict. First let's update a file in the current branch (\"Testing\")"
   ]
  },
  {
   "cell_type": "code",
   "execution_count": 1,
   "metadata": {},
   "source": [
    "#!pwsh\n",
    "type .\\update.txt\n",
    "echo \"Added from the testing branch\" >> update.txt\n",
    "git commit -a -m 'Update from testing'"
   ],
   "outputs": [
    {
     "output_type": "stream",
     "name": "stdout",
     "text": "new\n[testing e3c0b7e] Update from testing\n 1 file changed, 1 insertion(+)"
    }
   ]
  },
  {
   "cell_type": "code",
   "execution_count": 1,
   "metadata": {},
   "source": [
    "#!pwsh\n",
    "git checkout master\n",
    "type .\\update.txt\n",
    "''\n",
    "echo \"Added from the master branch\" >> update.txt\n",
    "git commit -a -m 'Update from master'\n",
    "''\n",
    "git log --oneline --decorate --graph --all"
   ],
   "outputs": [
    {
     "output_type": "stream",
     "name": "stdout",
     "text": "Switched to branch 'master'\nnew\n\n[master f6517dd] Update from master\n 1 file changed, 1 insertion(+)\n\n* f6517dd (HEAD -> master) Update from master\n| * e3c0b7e (testing) Update from testing\n|/  \n* ac34b41 added my hotfix\n* 4de7c34 changed master\n* 32fc27d three\n* e696360 two\n* ef2364f Inital version"
    }
   ]
  },
  {
   "cell_type": "markdown",
   "metadata": {},
   "source": [
    "As before the two branches have a common ancestor so let's try to merge them "
   ]
  },
  {
   "cell_type": "code",
   "execution_count": 1,
   "metadata": {},
   "source": [
    "#!pwsh\n",
    "git merge testing"
   ],
   "outputs": [
    {
     "output_type": "stream",
     "name": "stdout",
     "text": "Auto-merging update.txt\nCONFLICT (content): Merge conflict in update.txt\nAutomatic merge failed; fix conflicts and then commit the result."
    }
   ]
  },
  {
   "cell_type": "markdown",
   "metadata": {},
   "source": [
    "Oh dear - we need to manually edit update.txt which looks like this"
   ]
  },
  {
   "cell_type": "code",
   "execution_count": 1,
   "metadata": {},
   "source": [
    "#!pwsh\n",
    "Type update.txt"
   ],
   "outputs": [
    {
     "output_type": "stream",
     "name": "stdout",
     "text": "new\n<<<<<<< HEAD\nAdded from the master branch\n=======\nAdded from the testing branch\n>>>>>>> testing"
    }
   ]
  },
  {
   "cell_type": "markdown",
   "metadata": {},
   "source": [
    "We can edit the file and either run `git merge --continue` (which will ask for the commit message to be edited) or use `git commit -a -m \"merge message\"`  and the log shows a new commit which brings together the shared ancestor and the updates."
   ]
  },
  {
   "cell_type": "code",
   "execution_count": 1,
   "metadata": {},
   "source": [
    "#!pwsh\n",
    "git log --oneline --decorate --graph --all"
   ],
   "outputs": [
    {
     "output_type": "stream",
     "name": "stdout",
     "text": "*   28238a1 (HEAD -> master) Merge branch 'testing'\n|\\  \n| * e3c0b7e (testing) Update from testing\n* | f6517dd Update from master\n|/  \n* ac34b41 added my hotfix\n* 4de7c34 changed master\n* 32fc27d three\n* e696360 two\n* ef2364f Inital version"
    }
   ]
  }
 ],
 "metadata": {
  "kernelspec": {
   "display_name": ".NET (C#)",
   "language": "C#",
   "name": ".net-csharp"
  },
  "language_info": {
   "file_extension": ".cs",
   "mimetype": "text/x-csharp",
   "name": "C#",
   "pygments_lexer": "csharp",
   "version": "8.0"
  }
 },
 "nbformat": 4,
 "nbformat_minor": 4
}