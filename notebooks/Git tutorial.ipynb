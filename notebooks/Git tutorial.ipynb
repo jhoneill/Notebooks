{
  "cells": [
    {
      "cell_type": "markdown",
      "source": [
        "Here we are going to look at **git as purely local file management**.  The next one looks at working with the server. \n",
        "\n",
        "**Before we start** remove any pre-existing version of the dummy project that we'll create and see what our git configuration looks like.    \n",
        "_Note_ Sometimes running in a notebook git can take up to a minute to return. We also use `Out-string` for nicer formating in a notebook. This isn't necessary at normal prompt"
      ],
      "metadata": {}
    },
    {
      "cell_type": "code",
      "execution_count": 1,
      "source": [
        "cd ~\r\n",
        "del dummyProj -rec -force -ErrorAction SilentlyContinue\r\n",
        "git config --list | out-string"
      ],
      "outputs": [
        {
          "output_type": "display_data",
          "data": {
            "text/html": [
              "\r\n",
              "<div>\r\n",
              "    <div id='dotnet-interactive-this-cell-26496.Microsoft.DotNet.Interactive.Http.HttpPort' style='display: none'>\r\n",
              "        The below script needs to be able to find the current output cell; this is an easy method to get it.\r\n",
              "    </div>\r\n",
              "    <script type='text/javascript'>\r\n",
              "async function probeAddresses(probingAddresses) {\r\n",
              "    function timeout(ms, promise) {\r\n",
              "        return new Promise(function (resolve, reject) {\r\n",
              "            setTimeout(function () {\r\n",
              "                reject(new Error('timeout'))\r\n",
              "            }, ms)\r\n",
              "            promise.then(resolve, reject)\r\n",
              "        })\r\n",
              "    }\r\n",
              "\r\n",
              "    if (Array.isArray(probingAddresses)) {\r\n",
              "        for (let i = 0; i < probingAddresses.length; i++) {\r\n",
              "\r\n",
              "            let rootUrl = probingAddresses[i];\r\n",
              "\r\n",
              "            if (!rootUrl.endsWith('/')) {\r\n",
              "                rootUrl = `${rootUrl}/`;\r\n",
              "            }\r\n",
              "\r\n",
              "            try {\r\n",
              "                let response = await timeout(1000, fetch(`${rootUrl}discovery`, {\r\n",
              "                    method: 'POST',\r\n",
              "                    cache: 'no-cache',\r\n",
              "                    mode: 'cors',\r\n",
              "                    timeout: 1000,\r\n",
              "                    headers: {\r\n",
              "                        'Content-Type': 'text/plain'\r\n",
              "                    },\r\n",
              "                    body: probingAddresses[i]\r\n",
              "                }));\r\n",
              "\r\n",
              "                if (response.status == 200) {\r\n",
              "                    return rootUrl;\r\n",
              "                }\r\n",
              "            }\r\n",
              "            catch (e) { }\r\n",
              "        }\r\n",
              "    }\r\n",
              "}\r\n",
              "\r\n",
              "function loadDotnetInteractiveApi() {\r\n",
              "    probeAddresses([\"http://192.168.0.24:1001/\", \"http://127.0.0.1:1001/\"])\r\n",
              "        .then((root) => {\r\n",
              "        // use probing to find host url and api resources\r\n",
              "        // load interactive helpers and language services\r\n",
              "        let dotnetInteractiveRequire = require.config({\r\n",
              "        context: '26496.Microsoft.DotNet.Interactive.Http.HttpPort',\r\n",
              "                paths:\r\n",
              "            {\r\n",
              "                'dotnet-interactive': `${root}resources`\r\n",
              "                }\r\n",
              "        }) || require;\r\n",
              "\r\n",
              "            window.dotnetInteractiveRequire = dotnetInteractiveRequire;\r\n",
              "\r\n",
              "            window.configureRequireFromExtension = function(extensionName, extensionCacheBuster) {\r\n",
              "                let paths = {};\r\n",
              "                paths[extensionName] = `${root}extensions/${extensionName}/resources/`;\r\n",
              "                \r\n",
              "                let internalRequire = require.config({\r\n",
              "                    context: extensionCacheBuster,\r\n",
              "                    paths: paths,\r\n",
              "                    urlArgs: `cacheBuster=${extensionCacheBuster}`\r\n",
              "                    }) || require;\r\n",
              "\r\n",
              "                return internalRequire\r\n",
              "            };\r\n",
              "        \r\n",
              "            dotnetInteractiveRequire([\r\n",
              "                    'dotnet-interactive/dotnet-interactive'\r\n",
              "                ],\r\n",
              "                function (dotnet) {\r\n",
              "                    dotnet.init(window);\r\n",
              "                },\r\n",
              "                function (error) {\r\n",
              "                    console.log(error);\r\n",
              "                }\r\n",
              "            );\r\n",
              "        })\r\n",
              "        .catch(error => {console.log(error);});\r\n",
              "    }\r\n",
              "\r\n",
              "// ensure `require` is available globally\r\n",
              "if ((typeof(require) !==  typeof(Function)) || (typeof(require.config) !== typeof(Function))) {\r\n",
              "    let require_script = document.createElement('script');\r\n",
              "    require_script.setAttribute('src', 'https://cdnjs.cloudflare.com/ajax/libs/require.js/2.3.6/require.min.js');\r\n",
              "    require_script.setAttribute('type', 'text/javascript');\r\n",
              "    \r\n",
              "    \r\n",
              "    require_script.onload = function() {\r\n",
              "        loadDotnetInteractiveApi();\r\n",
              "    };\r\n",
              "\r\n",
              "    document.getElementsByTagName('head')[0].appendChild(require_script);\r\n",
              "}\r\n",
              "else {\r\n",
              "    loadDotnetInteractiveApi();\r\n",
              "}\r\n",
              "\r\n",
              "    </script>\r\n",
              "</div>"
            ]
          },
          "metadata": {}
        },
        {
          "output_type": "stream",
          "name": "stdout",
          "text": [
            "http.sslbackend=schannel\n",
            "diff.astextplain.textconv=astextplain\n",
            "core.autocrlf=true\n",
            "core.fscache=true\n",
            "core.symlinks=false\n",
            "core.editor=\"C:\\\\Program Files\\\\Microsoft VS Code\\\\Code.exe\" --wait\n",
            "credential.helper=manager-core\n",
            "filter.lfs.clean=git-lfs clean -- %f\n",
            "filter.lfs.smudge=git-lfs smudge -- %f\n",
            "filter.lfs.process=git-lfs filter-process\n",
            "filter.lfs.required=true\n",
            "pull.rebase=false\n",
            "credential.https://dev.azure.com.usehttppath=true\n",
            "init.defaultbranch=master\n",
            "user.name=James O'Neill\n",
            "user.email=james.oneill@capita.com\n",
            "credential.helper=wincred\n",
            "\n"
          ]
        }
      ],
      "metadata": {
        "dotnet_interactive": {
          "language": "pwsh"
        }
      }
    },
    {
      "cell_type": "markdown",
      "source": [
        "Lets **Initialize a new local repo**.    \n",
        "_What is a \"repo\"_ - a **Repository** is a collection of files being tracked by Git - the files and folders under a given path; the path might be a directory on a local disk, or a URL to a server. \n",
        "Within the repo git knows about \"blobs\" which are versions of files (current or historic) and knows the blob that represents the _active_ version of each file in the repo. As well as knowing which blobs are present as which files _now_ Git knows what was present (and where) at differnt points in time (giving us the ability to move backwards and forwards in file history) \n",
        "\n",
        "So let's create a one:\n",
        "- make a directory, \n",
        "- move into it, \n",
        "- run `git init`"
      ],
      "metadata": {}
    },
    {
      "cell_type": "code",
      "execution_count": 2,
      "source": [
        "cd ~\r\n",
        "$null = md dummyProj \r\n",
        "cd ~\\dummyProj  \r\n",
        "git init"
      ],
      "outputs": [
        {
          "output_type": "stream",
          "name": "stdout",
          "text": [
            "Initialized empty Git repository in C:/Users/P10506111/dummyProj/.git/\n"
          ]
        }
      ],
      "metadata": {
        "dotnet_interactive": {
          "language": "pwsh"
        }
      }
    },
    {
      "cell_type": "markdown",
      "source": [
        "When we add a file to the directory, it is present in the file system, but Git doesn't automatically make the blob for that version. So let's\n",
        "- make a file,\n",
        "- use `git add filename` to tell Git to start tracking it - copy the current version into a blob and note that blob corresponds to the file. \n",
        "- make a **new commit** with `git commit`. We will add a **commit message**  with `-m` and use `-v` to do the commit verbosly\n",
        "\n",
        "_What's a **commit** ?_   \n",
        "When I said before that Git knows which files existed in the repo at differnt points in time and which blobs represented them, a commit is saying \"This is one of those points\". Commiting is recording the layout of files and directories, and which blob maps to which file at that point in time.  "
      ],
      "metadata": {}
    },
    {
      "cell_type": "code",
      "execution_count": 3,
      "source": [
        "cd ~\\dummyProj \r\n",
        "echo \"Placeholder\" > license.md \r\n",
        "git add license.md  \r\n",
        "git commit -v -m \"Inital version\"   "
      ],
      "outputs": [
        {
          "output_type": "stream",
          "name": "stdout",
          "text": [
            "[master (root-commit) 30508a7] Inital version\n",
            " 1 file changed, 1 insertion(+)\n",
            " create mode 100644 license.md\n",
            "\n"
          ]
        }
      ],
      "metadata": {
        "dotnet_interactive": {
          "language": "pwsh"
        }
      }
    },
    {
      "cell_type": "markdown",
      "source": [
        "Git keeps a log so let's use `git log`edit see what's in the **log** so far. "
      ],
      "metadata": {}
    },
    {
      "cell_type": "code",
      "execution_count": 4,
      "source": [
        "cd ~\\dummyProj \r\n",
        "git log "
      ],
      "outputs": [
        {
          "output_type": "stream",
          "name": "stdout",
          "text": [
            "commit 30508a7945ab05df40e4c6f02a5da657ce9bfe8f\n",
            "Author: James O'Neill <james.oneill@capita.com>\n",
            "Date:   Wed Aug 11 15:37:33 2021 +0100\n",
            "\n",
            "    Inital version\n"
          ]
        }
      ],
      "metadata": {
        "dotnet_interactive": {
          "language": "pwsh"
        }
      }
    },
    {
      "cell_type": "markdown",
      "source": [
        "We can get a shorter view with `--oneline`"
      ],
      "metadata": {}
    },
    {
      "cell_type": "code",
      "execution_count": 5,
      "source": [
        "cd ~\\dummyProj \r\n",
        "git log --oneline"
      ],
      "outputs": [
        {
          "output_type": "stream",
          "name": "stdout",
          "text": [
            "30508a7 Inital version\n"
          ]
        }
      ],
      "metadata": {
        "dotnet_interactive": {
          "language": "pwsh"
        }
      }
    },
    {
      "cell_type": "markdown",
      "source": [
        "_Side note from https://git-scm.com/book/en/v2/Git-Basics-Getting-a-Git-Repository_\n",
        "\n",
        "To **clone** the Git linkable library called libgit2, you can do so like this:    \n",
        "`git clone https://github.com/libgit2/libgit2`    \n",
        "That creates a directory named `libgit2`, initializes a `.git` directory inside it, pulls down all the data for that repository, and checks out a working copy of the latest version.   \n",
        "To clone the repository into a directory named something other than libgit2, you can specify the new directory name as an additional argument:    \n",
        "`git clone https://github.com/libgit2/libgit2 mylibgit`    \n",
        "\n",
        "Whether we used **clone** or **init** we now have a git enabled folder - in other words one with a .git directory which is where the blobs and commit information live . \n",
        "\n",
        "We can check the  **status** of the repo with `git status`"
      ],
      "metadata": {}
    },
    {
      "cell_type": "code",
      "execution_count": 6,
      "source": [
        "cd ~/dummyProj \r\n",
        "git status "
      ],
      "outputs": [
        {
          "output_type": "stream",
          "name": "stdout",
          "text": [
            "On branch master\n",
            "nothing to commit, working tree clean\n"
          ]
        }
      ],
      "metadata": {
        "dotnet_interactive": {
          "language": "pwsh"
        }
      }
    },
    {
      "cell_type": "markdown",
      "source": [
        "We will explain what `On branch <name>` means shortly. The Name appeared in settings under `init.defaultbranch` \n",
        "\n",
        "The status will change if we add, update or delete files, so let's \n",
        "- modify an _existing_ file (by extending it) \n",
        "- add a new file (make a copy of an exesting one),\n",
        "- get the status again."
      ],
      "metadata": {}
    },
    {
      "cell_type": "code",
      "execution_count": 7,
      "source": [
        "cd ~/dummyProj \r\n",
        "echo 'more' >> license.md \r\n",
        "copy license.md readme\r\n",
        "git status"
      ],
      "outputs": [
        {
          "output_type": "stream",
          "name": "stdout",
          "text": [
            "On branch master\n",
            "Changes not staged for commit:\n",
            "  (use \"git add <file>...\" to update what will be committed)\n",
            "  (use \"git restore <file>...\" to discard changes in working directory)\n",
            "\tmodified:   license.md\n",
            "\n",
            "Untracked files:\n",
            "  (use \"git add <file>...\" to include in what will be committed)\n",
            "\treadme\n",
            "\n",
            "no changes added to commit (use \"git add\" and/or \"git commit -a\")\n"
          ]
        }
      ],
      "metadata": {
        "dotnet_interactive": {
          "language": "pwsh"
        }
      }
    },
    {
      "cell_type": "markdown",
      "source": [
        "Git tells us our changes are in the form of \n",
        "- one additional  file, currently **untracked**, and \n",
        "- one **modified** file which has not yet been **staged** for committing.\n",
        "\n",
        "`git add` will update what git considers ready-to-commit, and `git restore` will roll back to the last committed version.\n",
        "`git commit -a` is like doing `git add *` followed by `git commit`\n",
        "\n",
        "We can see the changes to existing files with `diff`"
      ],
      "metadata": {}
    },
    {
      "cell_type": "code",
      "execution_count": 8,
      "source": [
        "git diff "
      ],
      "outputs": [
        {
          "output_type": "stream",
          "name": "stdout",
          "text": [
            "diff --git a/license.md b/license.md\n",
            "index 3b94f91..ce2ca9f 100644\n",
            "--- a/license.md\n",
            "+++ b/license.md\n",
            "@@ -1 +1,2 @@\n",
            " Placeholder\n",
            "+more\n"
          ]
        }
      ],
      "metadata": {
        "dotnet_interactive": {
          "language": "pwsh"
        }
      }
    },
    {
      "cell_type": "markdown",
      "source": [
        "`git add *` will **stage** all new and changed files, and we can check the status again."
      ],
      "metadata": {}
    },
    {
      "cell_type": "code",
      "execution_count": 9,
      "source": [
        "git add *  \r\n",
        "git status"
      ],
      "outputs": [
        {
          "output_type": "stream",
          "name": "stdout",
          "text": [
            "On branch master\n",
            "Changes to be committed:\n",
            "  (use \"git restore --staged <file>...\" to unstage)\n",
            "\tmodified:   license.md\n",
            "\tnew file:   readme\n",
            "\n"
          ]
        }
      ],
      "metadata": {
        "dotnet_interactive": {
          "language": "pwsh"
        }
      }
    },
    {
      "cell_type": "markdown",
      "source": [
        "As before, `restore` can be used to to reverse things, `restore --staged` moves the file back (undoing any changes since `git add` was run) and removes it from the list of files to include in the next commit.\n",
        "\n",
        "The `diff` command can show us what has changed - on it's own it shows what is *tracked*, *unstaged* files, and all our files are *staged* now so that won't show anything `--cached` shows what's staged and waiting to be committed. "
      ],
      "metadata": {}
    },
    {
      "cell_type": "code",
      "execution_count": 10,
      "source": [
        "git diff --cached "
      ],
      "outputs": [
        {
          "output_type": "stream",
          "name": "stdout",
          "text": [
            "diff --git a/license.md b/license.md\n",
            "index 3b94f91..ce2ca9f 100644\n",
            "--- a/license.md\n",
            "+++ b/license.md\n",
            "@@ -1 +1,2 @@\n",
            " Placeholder\n",
            "+more\n",
            "diff --git a/readme b/readme\n",
            "new file mode 100644\n",
            "index 0000000..ce2ca9f\n",
            "--- /dev/null\n",
            "+++ b/readme\n",
            "@@ -0,0 +1,2 @@\n",
            "+Placeholder\n",
            "+more\n"
          ]
        }
      ],
      "metadata": {
        "dotnet_interactive": {
          "language": "pwsh"
        }
      }
    },
    {
      "cell_type": "markdown",
      "source": [
        "Let's `commit` the the change  with a new message (`-m`)   \r\n",
        "Git commit messages are usually kept quite short, and often contain tracking information to link to pieces of work being done. Otherwise good commit messages tend to be ones which complete the sentance \"Incorporate this commit to ___\" "
      ],
      "metadata": {}
    },
    {
      "cell_type": "code",
      "execution_count": 11,
      "source": [
        "cd ~/dummyProj\r\n",
        "git commit -m \"two\"  "
      ],
      "outputs": [
        {
          "output_type": "stream",
          "name": "stdout",
          "text": [
            "[master ebabd80] two\n",
            " 2 files changed, 3 insertions(+)\n",
            " create mode 100644 readme\n"
          ]
        }
      ],
      "metadata": {
        "dotnet_interactive": {
          "language": "pwsh"
        }
      }
    },
    {
      "cell_type": "markdown",
      "source": [
        " And we see what is in the log after the commit"
      ],
      "metadata": {}
    },
    {
      "cell_type": "code",
      "execution_count": 12,
      "source": [
        "git log --oneline "
      ],
      "outputs": [
        {
          "output_type": "stream",
          "name": "stdout",
          "text": [
            "ebabd80 two\n",
            "30508a7 Inital version\n"
          ]
        }
      ],
      "metadata": {
        "dotnet_interactive": {
          "language": "pwsh"
        }
      }
    },
    {
      "cell_type": "markdown",
      "source": [
        "So the `git log`  **shows the history of every commit** which got us to this point. \r\n",
        "\r\n",
        "Let's remove a file; and to see the effects of multiple changes, we'll also add to an existing file. "
      ],
      "metadata": {}
    },
    {
      "cell_type": "code",
      "execution_count": 13,
      "source": [
        "del .\\license.md\r\n",
        "echo 'extra' >> .\\readme\r\n",
        "git status  "
      ],
      "outputs": [
        {
          "output_type": "stream",
          "name": "stdout",
          "text": [
            "On branch master\n",
            "Changes not staged for commit:\n",
            "  (use \"git add/rm <file>...\" to update what will be committed)\n",
            "  (use \"git restore <file>...\" to discard changes in working directory)\n",
            "\tdeleted:    license.md\n",
            "\tmodified:   readme\n",
            "\n",
            "no changes added to commit (use \"git add\" and/or \"git commit -a\")\n"
          ]
        }
      ],
      "metadata": {
        "dotnet_interactive": {
          "language": "pwsh"
        }
      }
    },
    {
      "cell_type": "markdown",
      "source": [
        "This time, the status shows a deleted file. We might be temped to use the `git rm *` command to remove all deleted files, but beware..."
      ],
      "metadata": {}
    },
    {
      "cell_type": "code",
      "execution_count": 14,
      "source": [
        "git rm *"
      ],
      "outputs": [
        {
          "output_type": "stream",
          "name": "stdout",
          "text": [
            "error: the following file has local modifications:\n",
            "    readme\n",
            "(use --cached to keep the file, or -f to force removal)\n"
          ]
        }
      ],
      "metadata": {
        "dotnet_interactive": {
          "language": "pwsh"
        }
      }
    },
    {
      "cell_type": "markdown",
      "source": [
        "`git rm *` tried to remove _everything_ `git add *` adds all files and re-adding existing ones has no effect. `git rm *` tries to remove all the files in the repo!    \n",
        "Fortunately our modified file saved us. Let's try just remove the file which needs deleting, and add the other changed files.     \n",
        "Then let's try a new option for the `git status` command. "
      ],
      "metadata": {}
    },
    {
      "cell_type": "code",
      "execution_count": 15,
      "source": [
        "git rm ./license.md\r\n",
        "git add *"
      ],
      "outputs": [
        {
          "output_type": "stream",
          "name": "stdout",
          "text": [
            "rm 'license.md'\n"
          ]
        }
      ],
      "metadata": {
        "dotnet_interactive": {
          "language": "pwsh"
        }
      }
    },
    {
      "cell_type": "code",
      "execution_count": 16,
      "source": [
        "git status -s  "
      ],
      "outputs": [
        {
          "output_type": "stream",
          "name": "stdout",
          "text": [
            "D  license.md\n",
            "M  readme\n"
          ]
        }
      ],
      "metadata": {
        "dotnet_interactive": {
          "language": "pwsh"
        }
      }
    },
    {
      "cell_type": "markdown",
      "source": [
        "to keep the file in your working tree but remove it from your staging area  e.g accidentally staged    \n",
        "`git rm --cached README`   \n",
        "https://git-scm.com/book/en/v2/Git-Basics-Recording-Changes-to-the-Repository \n",
        "\n",
        "Missed a file ? add it & run `git commit --amend`  \n",
        "\n",
        "For now lets use `git commit` to commit the deletion(s) and update(s) with `-m` to specify a commit message. Then we can see what has changed in the log"
      ],
      "metadata": {}
    },
    {
      "cell_type": "code",
      "execution_count": 17,
      "source": [
        "git commit -m \"three\"  "
      ],
      "outputs": [
        {
          "output_type": "stream",
          "name": "stdout",
          "text": [
            "[master c8954f2] three\n",
            " 2 files changed, 1 insertion(+), 2 deletions(-)\n",
            " delete mode 100644 license.md\n"
          ]
        }
      ],
      "metadata": {
        "dotnet_interactive": {
          "language": "pwsh"
        }
      }
    },
    {
      "cell_type": "code",
      "execution_count": 18,
      "source": [
        "git log  "
      ],
      "outputs": [
        {
          "output_type": "stream",
          "name": "stdout",
          "text": [
            "commit c8954f24e8945a716724232950904a7313ebab3e\n",
            "Author: James O'Neill <james.oneill@capita.com>\n",
            "Date:   Wed Aug 11 15:44:26 2021 +0100\n",
            "\n",
            "    three\n",
            "\n",
            "commit ebabd80284517c0b0d9bb8235561bda16a66da42\n",
            "Author: James O'Neill <james.oneill@capita.com>\n",
            "Date:   Wed Aug 11 15:41:49 2021 +0100\n",
            "\n",
            "    two\n",
            "\n",
            "commit 30508a7945ab05df40e4c6f02a5da657ce9bfe8f\n",
            "Author: James O'Neill <james.oneill@capita.com>\n",
            "Date:   Wed Aug 11 15:37:33 2021 +0100\n",
            "\n",
            "    Inital version\n"
          ]
        }
      ],
      "metadata": {
        "dotnet_interactive": {
          "language": "pwsh"
        }
      }
    },
    {
      "cell_type": "markdown",
      "source": [
        "We can move or rename files and follow the operation with    \n",
        "`git rm <oldName>`    \n",
        "`git add <NewName>` \n",
        "but `git mv` does all 3 in one "
      ],
      "metadata": {}
    },
    {
      "cell_type": "code",
      "execution_count": 19,
      "source": [
        "git mv .\\readme read_me.txt  "
      ],
      "outputs": [],
      "metadata": {
        "dotnet_interactive": {
          "language": "pwsh"
        }
      }
    },
    {
      "cell_type": "code",
      "execution_count": 20,
      "source": [
        "git status -s"
      ],
      "outputs": [
        {
          "output_type": "stream",
          "name": "stdout",
          "text": [
            "R  readme -> read_me.txt\n"
          ]
        }
      ],
      "metadata": {
        "dotnet_interactive": {
          "language": "pwsh"
        }
      }
    },
    {
      "cell_type": "markdown",
      "source": [
        "git log -p -1"
      ],
      "metadata": {}
    },
    {
      "cell_type": "code",
      "execution_count": 21,
      "source": [
        "git log --stat --since=1.hours   "
      ],
      "outputs": [
        {
          "output_type": "stream",
          "name": "stdout",
          "text": [
            "commit c8954f24e8945a716724232950904a7313ebab3e\n",
            "Author: James O'Neill <james.oneill@capita.com>\n",
            "Date:   Wed Aug 11 15:44:26 2021 +0100\n",
            "\n",
            "    three\n",
            "\n",
            " license.md | 2 --\n",
            " readme     | 1 +\n",
            " 2 files changed, 1 insertion(+), 2 deletions(-)\n",
            "\n",
            "commit ebabd80284517c0b0d9bb8235561bda16a66da42\n",
            "Author: James O'Neill <james.oneill@capita.com>\n",
            "Date:   Wed Aug 11 15:41:49 2021 +0100\n",
            "\n",
            "    two\n",
            "\n",
            " license.md | 1 +\n",
            " readme     | 2 ++\n",
            " 2 files changed, 3 insertions(+)\n",
            "\n",
            "commit 30508a7945ab05df40e4c6f02a5da657ce9bfe8f\n",
            "Author: James O'Neill <james.oneill@capita.com>\n",
            "Date:   Wed Aug 11 15:37:33 2021 +0100\n",
            "\n",
            "    Inital version\n",
            "\n",
            " license.md | 1 +\n",
            " 1 file changed, 1 insertion(+)\n"
          ]
        }
      ],
      "metadata": {
        "dotnet_interactive": {
          "language": "pwsh"
        }
      }
    },
    {
      "cell_type": "markdown",
      "source": [
        "# Branches\r\n",
        "The line of commits forms a _branch_. In the early years of git, the first branch was always named \"master\". Other names are now allowed and people increasingly prefer other names like \"main\" or \"trunk.    \r\n",
        "![Changing the git default branch name](Git_Windows_default_Branch.png)    \r\n",
        "We are currently working in the default branch so  the **HEAD** pointer and current state of that branch map to the our most recent commit.  "
      ],
      "metadata": {}
    },
    {
      "cell_type": "code",
      "execution_count": 22,
      "source": [
        "cd ~/dummyProj\r\n",
        "git log --oneline --decorate "
      ],
      "outputs": [
        {
          "output_type": "stream",
          "name": "stdout",
          "text": [
            "c8954f2 (HEAD -> master) three\n",
            "ebabd80 two\n",
            "30508a7 Inital version\n"
          ]
        }
      ],
      "metadata": {
        "dotnet_interactive": {
          "language": "pwsh"
        }
      }
    },
    {
      "cell_type": "markdown",
      "source": [
        "In this case, **HEAD** points to the **master** branch, which is currently at the commit with the hash `c8954f2` which had the commit message **three** , this is descended from commit `ebabd80` (\"two\"), which descended from commit `30508a7` (\"Initial version\") \r\n",
        "\r\n",
        "If we add a new branch it creates a new name and with no other parameters starts pointing wherever **HEAD** points but **HEAD** does not switch to the new branch. "
      ],
      "metadata": {}
    },
    {
      "cell_type": "code",
      "execution_count": 23,
      "source": [
        "git branch testing"
      ],
      "outputs": [],
      "metadata": {
        "dotnet_interactive": {
          "language": "pwsh"
        }
      }
    },
    {
      "cell_type": "code",
      "execution_count": 24,
      "source": [
        "git log --oneline --decorate   "
      ],
      "outputs": [
        {
          "output_type": "stream",
          "name": "stdout",
          "text": [
            "c8954f2 (HEAD -> master, testing) three\n",
            "ebabd80 two\n",
            "30508a7 Inital version\n"
          ]
        }
      ],
      "metadata": {
        "dotnet_interactive": {
          "language": "pwsh"
        }
      }
    },
    {
      "cell_type": "markdown",
      "source": [
        "Now status shows that HEAD still points to master, and master and the new branch both point to the commit named \"three\" \n",
        "\n",
        "`git checkout <branchname>` selects a branch to work in -     \n",
        "or we can create & select in one command with  `git checkout -b <branchname>`"
      ],
      "metadata": {}
    },
    {
      "cell_type": "code",
      "execution_count": 25,
      "source": [
        "git checkout testing   "
      ],
      "outputs": [
        {
          "output_type": "stream",
          "name": "stdout",
          "text": [
            "A\tread_me.txt\n",
            "Switched to branch 'testing'\n",
            "D\treadme\n"
          ]
        }
      ],
      "metadata": {
        "dotnet_interactive": {
          "language": "pwsh"
        }
      }
    },
    {
      "cell_type": "markdown",
      "source": [
        "<u>Now</u> the **head** points to the new branch, and it and master still point to the commit named \"three\""
      ],
      "metadata": {}
    },
    {
      "cell_type": "code",
      "execution_count": 26,
      "source": [
        "git log --oneline --decorate  | Out-String"
      ],
      "outputs": [
        {
          "output_type": "stream",
          "name": "stdout",
          "text": [
            "c8954f2 (HEAD -> testing, master) three\n",
            "ebabd80 two\n",
            "30508a7 Inital version\n",
            "\n"
          ]
        }
      ],
      "metadata": {
        "dotnet_interactive": {
          "language": "pwsh"
        }
      }
    },
    {
      "cell_type": "markdown",
      "source": [
        "If we add a file and commit our changes, the HEAD pointer and the current branch (\"testing\") move forward to the new commit. But any other branches (like \"master\") remain at their existing commits."
      ],
      "metadata": {}
    },
    {
      "cell_type": "code",
      "execution_count": 27,
      "source": [
        "cd ~/dummyProj\r\n",
        "dir -force > test.txt\r\n",
        "git commit -a -m \"changed the testing branch\" "
      ],
      "outputs": [
        {
          "output_type": "stream",
          "name": "stdout",
          "text": [
            "[testing 35f08ed] changed the testing branch\n",
            " 1 file changed, 0 insertions(+), 0 deletions(-)\n",
            " rename readme => read_me.txt (100%)\n"
          ]
        }
      ],
      "metadata": {
        "dotnet_interactive": {
          "language": "pwsh"
        }
      }
    },
    {
      "cell_type": "code",
      "execution_count": 28,
      "source": [
        "git log --oneline --decorate"
      ],
      "outputs": [
        {
          "output_type": "stream",
          "name": "stdout",
          "text": [
            "35f08ed (HEAD -> testing) changed the testing branch\n",
            "c8954f2 (master) three\n",
            "ebabd80 two\n",
            "30508a7 Inital version\n"
          ]
        }
      ],
      "metadata": {
        "dotnet_interactive": {
          "language": "pwsh"
        }
      }
    },
    {
      "cell_type": "markdown",
      "source": [
        "We can switch back to the \"master\" branch, (changing where HEAD points), change its content and commit"
      ],
      "metadata": {}
    },
    {
      "cell_type": "code",
      "execution_count": 29,
      "source": [
        "git checkout master"
      ],
      "outputs": [
        {
          "output_type": "stream",
          "name": "stdout",
          "text": [
            "Switched to branch 'master'\n"
          ]
        }
      ],
      "metadata": {
        "dotnet_interactive": {
          "language": "pwsh"
        }
      }
    },
    {
      "cell_type": "code",
      "execution_count": 30,
      "source": [
        "cd ~/dummyProj\r\n",
        "echo \"new\" > update.txt\r\n",
        "git add *"
      ],
      "outputs": [],
      "metadata": {
        "dotnet_interactive": {
          "language": "pwsh"
        }
      }
    },
    {
      "cell_type": "code",
      "execution_count": 31,
      "source": [
        "git commit -m \"changed master\" "
      ],
      "outputs": [
        {
          "output_type": "stream",
          "name": "stdout",
          "text": [
            "[master c1c1f11] changed master\n",
            " 2 files changed, 10 insertions(+)\n",
            " create mode 100644 test.txt\n",
            " create mode 100644 update.txt\n"
          ]
        }
      ],
      "metadata": {
        "dotnet_interactive": {
          "language": "pwsh"
        }
      }
    },
    {
      "cell_type": "markdown",
      "source": [
        "Another version of the `git log` command shows us both branches and how the overall stucture:"
      ],
      "metadata": {}
    },
    {
      "cell_type": "code",
      "execution_count": 32,
      "source": [
        "git log --oneline --decorate --graph --all "
      ],
      "outputs": [
        {
          "output_type": "stream",
          "name": "stdout",
          "text": [
            "* c1c1f11 (HEAD -> master) changed master\n",
            "| * 35f08ed (testing) changed the testing branch\n",
            "|/  \n",
            "* c8954f2 three\n",
            "* ebabd80 two\n",
            "* 30508a7 Inital version\n"
          ]
        }
      ],
      "metadata": {
        "dotnet_interactive": {
          "language": "pwsh"
        }
      }
    },
    {
      "cell_type": "markdown",
      "source": [
        "**HEAD** points to \"master\" and is currently at commit `c1c1f11`; we have another branch \"testing\" which is at commit `c1c1f11` and both `b8c9ef1` and `35f08ed` are dervived from `c8954f2  ` which in turn is derived from `ebabd80` and so on\r\n",
        "\r\n",
        "Let's create a branch for a hot fix and check it out in one go. "
      ],
      "metadata": {}
    },
    {
      "cell_type": "code",
      "execution_count": 33,
      "source": [
        "git checkout -b hotfix   \r\n",
        "echo \"hotfix\" > hotfix.txt\r\n",
        "git add *"
      ],
      "outputs": [
        {
          "output_type": "stream",
          "name": "stdout",
          "text": [
            "Switched to a new branch 'hotfix'\n"
          ]
        }
      ],
      "metadata": {
        "dotnet_interactive": {
          "language": "pwsh"
        }
      }
    },
    {
      "cell_type": "code",
      "execution_count": 34,
      "source": [
        "git commit -m \"added my hotfix\" > ~\\temp.txt"
      ],
      "outputs": [],
      "metadata": {
        "dotnet_interactive": {
          "language": "pwsh"
        }
      }
    },
    {
      "cell_type": "code",
      "execution_count": 35,
      "source": [
        "type ~\\temp.txt"
      ],
      "outputs": [
        {
          "output_type": "stream",
          "name": "stdout",
          "text": [
            "[hotfix d305ea6] added my hotfix\n",
            " 1 file changed, 1 insertion(+)\n",
            " create mode 100644 hotfix.txt\n"
          ]
        }
      ],
      "metadata": {
        "dotnet_interactive": {
          "language": "pwsh"
        }
      }
    },
    {
      "cell_type": "code",
      "execution_count": 36,
      "source": [
        "git log --oneline --decorate --graph --all "
      ],
      "outputs": [
        {
          "output_type": "stream",
          "name": "stdout",
          "text": [
            "* d305ea6 (HEAD -> hotfix) added my hotfix\n",
            "* c1c1f11 (master) changed master\n",
            "| * 35f08ed (testing) changed the testing branch\n",
            "|/  \n",
            "* c8954f2 three\n",
            "* ebabd80 two\n",
            "* 30508a7 Inital version\n"
          ]
        }
      ],
      "metadata": {
        "dotnet_interactive": {
          "language": "pwsh"
        }
      }
    },
    {
      "cell_type": "markdown",
      "source": [
        "We can build and deploy the hotfix using our new branch as the source of the code.     \n",
        "Eventually we will want to merge those changes into the \"master\" branch.\n",
        "Because the  commit  for \"hotfix\" is a direct descentant of the commit for \"master\", this is just a case of moving the name \"master\" along the line of descent - something git calls \"fast forwarding\""
      ],
      "metadata": {}
    },
    {
      "cell_type": "code",
      "execution_count": 37,
      "source": [
        "git checkout master   "
      ],
      "outputs": [
        {
          "output_type": "stream",
          "name": "stdout",
          "text": [
            "Switched to branch 'master'\n"
          ]
        }
      ],
      "metadata": {
        "dotnet_interactive": {
          "language": "pwsh"
        }
      }
    },
    {
      "cell_type": "code",
      "execution_count": 38,
      "source": [
        "git   merge hotfix  "
      ],
      "outputs": [
        {
          "output_type": "stream",
          "name": "stdout",
          "text": [
            "Updating c1c1f11..d305ea6\n",
            "Fast-forward\n",
            " hotfix.txt | 1 +\n",
            " 1 file changed, 1 insertion(+)\n",
            " create mode 100644 hotfix.txt\n"
          ]
        }
      ],
      "metadata": {
        "dotnet_interactive": {
          "language": "pwsh"
        }
      }
    },
    {
      "cell_type": "markdown",
      "source": [
        "Now **HEAD** is attached to \"master\" which has moved forward from `c1c1f11` to `d305ea6`; \"hotfix\" is still on `d305ea6` as well but it is a redundant label so we can delete it"
      ],
      "metadata": {}
    },
    {
      "cell_type": "code",
      "execution_count": 39,
      "source": [
        "git branch -d hotfix "
      ],
      "outputs": [
        {
          "output_type": "stream",
          "name": "stdout",
          "text": [
            "Deleted branch hotfix (was d305ea6).\n"
          ]
        }
      ],
      "metadata": {
        "dotnet_interactive": {
          "language": "pwsh"
        }
      }
    },
    {
      "cell_type": "markdown",
      "source": [
        "If we look at \"testing\" and \"master\", we can see they have a common ancestor `9cc95b3 `. Testing has one extra commit which master doesn't have and lacks two commits which have been made to master - it is said to be \"one ahead and two behind\" . We can't do a fast forward merge but we can merge the changes from both to make a single new commit with all the changes. "
      ],
      "metadata": {}
    },
    {
      "cell_type": "code",
      "execution_count": 40,
      "source": [
        "git checkout testing \r\n",
        "git merge master "
      ],
      "outputs": [
        {
          "output_type": "stream",
          "name": "stdout",
          "text": [
            "Switched to branch 'testing'\n",
            "Merge made by the 'recursive' strategy.\n",
            " hotfix.txt | 1 +\n",
            " test.txt   | 9 +++++++++\n",
            " update.txt | 1 +\n",
            " 3 files changed, 11 insertions(+)\n",
            " create mode 100644 hotfix.txt\n",
            " create mode 100644 test.txt\n",
            " create mode 100644 update.txt\n"
          ]
        }
      ],
      "metadata": {
        "dotnet_interactive": {
          "language": "pwsh"
        }
      }
    },
    {
      "cell_type": "markdown",
      "source": [
        "For the preceding example the two branches made changes which are independent of each other. Let's create a conflict. First let's update a file in the current branch (\"Testing\")"
      ],
      "metadata": {}
    },
    {
      "cell_type": "code",
      "execution_count": 41,
      "source": [
        "type .\\update.txt\r\n",
        "echo \"Added from the testing branch\" >> update.txt\r\n",
        "git commit -a -m 'Made an update in testing' | out-string"
      ],
      "outputs": [
        {
          "output_type": "stream",
          "name": "stdout",
          "text": [
            "new\n",
            "[testing fa59626] Update from testing\n",
            " 1 file changed, 1 insertion(+)\n",
            "\n"
          ]
        }
      ],
      "metadata": {
        "dotnet_interactive": {
          "language": "pwsh"
        }
      }
    },
    {
      "cell_type": "code",
      "execution_count": 42,
      "source": [
        "git checkout master\r\n",
        "type .\\update.txt\r\n",
        "''\r\n",
        "echo \"Added from the master branch\" >> update.txt\r\n",
        "git commit -a -m 'Made an update in master'  \r\n",
        "''\r\n",
        "git log --oneline --decorate --graph --all  "
      ],
      "outputs": [
        {
          "output_type": "stream",
          "name": "stdout",
          "text": [
            "Switched to branch 'master'\n",
            "new\n",
            "\n",
            "[master a9ced6c] Update from master\n",
            " 1 file changed, 1 insertion(+)\n",
            "\n",
            "* a9ced6c (HEAD -> master) Update from master\n",
            "| * fa59626 (testing) Update from testing\n",
            "| *   0a54572 Merge branch 'master' into testing\n",
            "| |\\  \n",
            "| |/  \n",
            "|/|   \n",
            "* | d305ea6 added my hotfix\n",
            "* | c1c1f11 changed master\n",
            "| * 35f08ed changed the testing branch\n",
            "|/  \n",
            "* c8954f2 three\n",
            "* ebabd80 two\n",
            "* 30508a7 Inital version\n"
          ]
        }
      ],
      "metadata": {
        "dotnet_interactive": {
          "language": "pwsh"
        }
      }
    },
    {
      "cell_type": "markdown",
      "source": [
        "As before the two branches have a common ancestor so let's try to merge them "
      ],
      "metadata": {}
    },
    {
      "cell_type": "code",
      "execution_count": 43,
      "source": [
        "git merge testing"
      ],
      "outputs": [
        {
          "output_type": "stream",
          "name": "stdout",
          "text": [
            "Auto-merging update.txt\n",
            "CONFLICT (content): Merge conflict in update.txt\n",
            "Automatic merge failed; fix conflicts and then commit the result.\n"
          ]
        }
      ],
      "metadata": {
        "dotnet_interactive": {
          "language": "pwsh"
        }
      }
    },
    {
      "cell_type": "markdown",
      "source": [
        "Oh dear - we need to manually edit update.txt which looks like this"
      ],
      "metadata": {}
    },
    {
      "cell_type": "code",
      "execution_count": 44,
      "source": [
        "Type update.txt"
      ],
      "outputs": [
        {
          "output_type": "stream",
          "name": "stdout",
          "text": [
            "new\n",
            "<<<<<<< HEAD\n",
            "Added from the master branch\n",
            "=======\n",
            "Added from the testing branch\n",
            ">>>>>>> testing\n"
          ]
        }
      ],
      "metadata": {
        "dotnet_interactive": {
          "language": "pwsh"
        }
      }
    },
    {
      "cell_type": "markdown",
      "source": [
        "We can edit the file and either run `git merge --continue` (which will ask for the commit message to be edited) or use `git commit -a -m \"merge message\"`  and the log shows a new commit which brings together the shared ancestor and the updates."
      ],
      "metadata": {}
    },
    {
      "cell_type": "code",
      "execution_count": 45,
      "source": [
        "echo \"Combined file\" >> update.txt\r\n",
        "git commit -a -m \"Merge branch 'testing'\""
      ],
      "outputs": [
        {
          "output_type": "stream",
          "name": "stdout",
          "text": [
            "[master 1f92530] Merge branch 'testing'\n"
          ]
        }
      ],
      "metadata": {
        "dotnet_interactive": {
          "language": "pwsh"
        }
      }
    },
    {
      "cell_type": "code",
      "execution_count": 47,
      "source": [
        "git log --oneline --decorate --graph --all  "
      ],
      "outputs": [
        {
          "output_type": "stream",
          "name": "stdout",
          "text": [
            "*   1f92530 (HEAD -> master) Merge branch 'testing'\n",
            "|\\  \n",
            "| * fa59626 (testing) Update from testing\n",
            "| *   0a54572 Merge branch 'master' into testing\n",
            "| |\\  \n",
            "| * | 35f08ed changed the testing branch\n",
            "* | | a9ced6c Update from master\n",
            "| |/  \n",
            "|/|   \n",
            "* | d305ea6 added my hotfix\n",
            "* | c1c1f11 changed master\n",
            "|/  \n",
            "* c8954f2 three\n",
            "* ebabd80 two\n",
            "* 30508a7 Inital version\n"
          ]
        }
      ],
      "metadata": {
        "dotnet_interactive": {
          "language": "pwsh"
        }
      }
    },
    {
      "cell_type": "markdown",
      "source": [
        "It is also possible to move a single file from another branch into the current one without doing a full merge \r\n",
        " \r\n",
        " `git checkout somebranch --  filepath`"
      ],
      "metadata": {}
    },
    {
      "cell_type": "code",
      "execution_count": null,
      "source": [],
      "outputs": [],
      "metadata": {
        "dotnet_interactive": {
          "language": "pwsh"
        }
      }
    }
  ],
  "metadata": {
    "kernelspec": {
      "display_name": ".NET (PowerShell)",
      "language": "PowerShell",
      "name": ".net-powershell"
    },
    "language_info": {
      "name": "PowerShell",
      "version": "7.0",
      "mimetype": "text/x-powershell",
      "file_extension": ".ps1",
      "pygments_lexer": "powershell"
    }
  },
  "nbformat": 4,
  "nbformat_minor": 4
}