{
  "cells": [
    {
      "cell_type": "markdown",
      "metadata": {},
      "source": [
        "Here we are going to look at **git as purely local file management**.  The next one looks at working with the server. \n",
        "\n",
        "**Before we start** remove any pre-existing version of the dummy project that we'll create and see what our git configuration looks like.    \n",
        "_Note_ Sometimes running in a notebook git can take up to a minute to return. We also use `Out-string` for nicer formating in a notebook. This isn't necessary at normal prompt"
      ]
    },
    {
      "cell_type": "code",
      "execution_count": null,
      "metadata": {
        "dotnet_interactive": {
          "language": "pwsh"
        }
      },
      "outputs": [
        {
          "data": {
            "text/plain": "http.sslbackend=schannel\ndiff.astextplain.textconv=astextplain\ncore.autocrlf=true\ncore.fscache=true\ncore.symlinks=false\ncore.editor=\"C:\\\\Program Files\\\\Microsoft VS Code\\\\Code.exe\" --wait\ncredential.helper=manager-core\nfilter.lfs.clean=git-lfs clean -- %f\nfilter.lfs.smudge=git-lfs smudge -- %f\nfilter.lfs.process=git-lfs filter-process\nfilter.lfs.required=true\npull.rebase=false\ncredential.https://dev.azure.com.usehttppath=true\ninit.defaultbranch=master\nuser.name=James O'Neill\nuser.email=P10506111@capita.co.uk\ncredential.helper=wincred\n"
          },
          "execution_count": 1,
          "metadata": {},
          "output_type": "execute_result"
        }
      ],
      "source": [
        "cd ~\n",
        "del dummyProj -rec -force -ErrorAction SilentlyContinue\n",
        "git config --list | out-string"
      ]
    },
    {
      "cell_type": "markdown",
      "metadata": {},
      "source": [
        "Lets **Initialize a new local repo**.    \n",
        "_What is a \"repo\"_ - a **Repository** is a collection of files being tracked by Git - the files and folders under a given path; the path might be a directory on a local disk, or a URL to a server. \n",
        "Within the repo git knows about \"blobs\" which are versions of files (current or historic) and knows the blob that represents the _active_ version of each file in the repo. As well as knowing which blobs are present as which files _now_ Git knows what was present (and where) at differnt points in time (giving us the ability to move backwards and forwards in file history) \n",
        "\n",
        "So let's create a one:\n",
        "- make a directory, \n",
        "- move into it, \n",
        "- run `git init`"
      ]
    },
    {
      "cell_type": "code",
      "execution_count": null,
      "metadata": {
        "dotnet_interactive": {
          "language": "pwsh"
        }
      },
      "outputs": [
        {
          "data": {
            "text/plain": "Initialized empty Git repository in C:/Users/P10506111/dummyProj/.git/"
          },
          "execution_count": 1,
          "metadata": {},
          "output_type": "execute_result"
        }
      ],
      "source": [
        "cd ~\n",
        "$null = md dummyProj \n",
        "cd ~\\dummyProj  \n",
        "git init"
      ]
    },
    {
      "cell_type": "markdown",
      "metadata": {},
      "source": [
        "When we add a file to the directory, it is present in the file system, but Git doesn't automatically make the blob for that version. So let's\n",
        "- make a file,\n",
        "- use `git add filename` to tell Git to start tracking it - copy the current version into a blob and note that blob corresponds to the file. \n",
        "- make a **new commit** with `git commit`. We will add a **commit message**  with `-m` and use `-v` to do the commit verbosly\n",
        "\n",
        "_What's a **commit** ?_   \n",
        "When I said before that Git knows which files existed in the repo at differnt points in time and which blobs represented them, a commit is saying \"This is one of those points\". Commiting is recording the layout of files and directories, and which blob maps to which file at that point in time.  "
      ]
    },
    {
      "cell_type": "code",
      "execution_count": null,
      "metadata": {
        "dotnet_interactive": {
          "language": "pwsh"
        }
      },
      "outputs": [
        {
          "data": {
            "text/plain": "[master (root-commit) dee40e5] Inital version\n 1 file changed, 1 insertion(+)\n create mode 100644 license.md\n"
          },
          "execution_count": 1,
          "metadata": {},
          "output_type": "execute_result"
        }
      ],
      "source": [
        "cd ~\\dummyProj \n",
        "echo \"Placeholder\" > license.md \n",
        "git add license.md  \n",
        "git commit -v -m \"Inital version\"  | Out-String "
      ]
    },
    {
      "cell_type": "markdown",
      "metadata": {},
      "source": [
        "Git keeps a log so let's use `git log`edit see what's in the **log** so far. "
      ]
    },
    {
      "cell_type": "code",
      "execution_count": null,
      "metadata": {
        "dotnet_interactive": {
          "language": "pwsh"
        }
      },
      "outputs": [
        {
          "data": {
            "text/plain": "commit dee40e50c555a2ccff7be953f9d2b05a68335dda\nAuthor: James O'Neill <P10506111@capita.co.uk>\nDate:   Fri Jan 8 16:34:59 2021 +0000\n\n    Inital version\n"
          },
          "execution_count": 1,
          "metadata": {},
          "output_type": "execute_result"
        }
      ],
      "source": [
        "cd ~\\dummyProj \n",
        "git log | Out-String"
      ]
    },
    {
      "cell_type": "markdown",
      "metadata": {},
      "source": [
        "We can get a shorter view with `--oneline`"
      ]
    },
    {
      "cell_type": "code",
      "execution_count": null,
      "metadata": {
        "dotnet_interactive": {
          "language": "pwsh"
        }
      },
      "outputs": [
        {
          "data": {
            "text/plain": "dee40e5 Inital version"
          },
          "execution_count": 1,
          "metadata": {},
          "output_type": "execute_result"
        }
      ],
      "source": [
        "cd ~\\dummyProj \n",
        "git log --oneline"
      ]
    },
    {
      "cell_type": "markdown",
      "metadata": {},
      "source": [
        "_Side note from https://git-scm.com/book/en/v2/Git-Basics-Getting-a-Git-Repository_\n",
        "\n",
        "To **clone** the Git linkable library called libgit2, you can do so like this:    \n",
        "`git clone https://github.com/libgit2/libgit2`    \n",
        "That creates a directory named `libgit2`, initializes a `.git` directory inside it, pulls down all the data for that repository, and checks out a working copy of the latest version.   \n",
        "To clone the repository into a directory named something other than libgit2, you can specify the new directory name as an additional argument:    \n",
        "`git clone https://github.com/libgit2/libgit2 mylibgit`    \n",
        "\n",
        "Whether we used **clone** or **init** we now have a git enabled folder - in other words one with a .git directory which is where the blobs and commit information live . \n",
        "\n",
        "We can check the  **status** of the repo with `git status`"
      ]
    },
    {
      "cell_type": "code",
      "execution_count": null,
      "metadata": {
        "dotnet_interactive": {
          "language": "pwsh"
        }
      },
      "outputs": [
        {
          "data": {
            "text/plain": "On branch master\nnothing to commit, working tree clean\n"
          },
          "execution_count": 1,
          "metadata": {},
          "output_type": "execute_result"
        }
      ],
      "source": [
        "cd ~/dummyProj \n",
        "git status  |Out-String"
      ]
    },
    {
      "cell_type": "markdown",
      "metadata": {},
      "source": [
        "We will explain what `On branch <name>` means shortly. The Name appeared in settings under `init.defaultbranch` \n",
        "\n",
        "The status will change if we add, update or delete files, so let's \n",
        "- modify an _existing_ file (by extending it) \n",
        "- add a new file (make a copy of an exesting one),\n",
        "- get the status again."
      ]
    },
    {
      "cell_type": "code",
      "execution_count": null,
      "metadata": {
        "dotnet_interactive": {
          "language": "pwsh"
        }
      },
      "outputs": [
        {
          "data": {
            "text/plain": "On branch master\nChanges not staged for commit:\n  (use \"git add <file>...\" to update what will be committed)\n  (use \"git restore <file>...\" to discard changes in working directory)\n\tmodified:   license.md\n\nUntracked files:\n  (use \"git add <file>...\" to include in what will be committed)\n\treadme\n\nno changes added to commit (use \"git add\" and/or \"git commit -a\")\n"
          },
          "execution_count": 1,
          "metadata": {},
          "output_type": "execute_result"
        }
      ],
      "source": [
        "cd ~/dummyProj \n",
        "echo 'more' >> license.md \n",
        "copy license.md readme\n",
        "git status  | Out-String"
      ]
    },
    {
      "cell_type": "markdown",
      "metadata": {},
      "source": [
        "Git tells us our changes are in the form of \n",
        "- one additional  file, currently **untracked**, and \n",
        "- one **modified** file which has not yet been **staged** for committing.\n",
        "\n",
        "`git add` will update what git considers ready-to-commit, and `git restore` will roll back to the last committed version.\n",
        "`git commit -a` is like doing `git add *` followed by `git commit`\n",
        "\n",
        "We can see the changes to existing files with `diff`"
      ]
    },
    {
      "cell_type": "code",
      "execution_count": null,
      "metadata": {
        "dotnet_interactive": {
          "language": "pwsh"
        }
      },
      "outputs": [
        {
          "data": {
            "text/plain": "diff --git a/license.md b/license.md\nindex 3b94f91..ce2ca9f 100644\n--- a/license.md\n+++ b/license.md\n@@ -1 +1,2 @@\n Placeholder\n+more\n"
          },
          "execution_count": 1,
          "metadata": {},
          "output_type": "execute_result"
        }
      ],
      "source": [
        "git diff | Out-String"
      ]
    },
    {
      "cell_type": "markdown",
      "metadata": {},
      "source": [
        "`git add *` will **stage** all new and changed files, and we can check the status again."
      ]
    },
    {
      "cell_type": "code",
      "execution_count": null,
      "metadata": {
        "dotnet_interactive": {
          "language": "pwsh"
        }
      },
      "outputs": [
        {
          "data": {
            "text/plain": "On branch master\nChanges to be committed:\n  (use \"git restore --staged <file>...\" to unstage)\n\tmodified:   license.md\n\tnew file:   readme\n\n"
          },
          "execution_count": 1,
          "metadata": {},
          "output_type": "execute_result"
        }
      ],
      "source": [
        "git add *  \n",
        "git status | Out-String"
      ]
    },
    {
      "cell_type": "markdown",
      "metadata": {},
      "source": [
        "As before, `restore` can be used to to reverse things, `restore --staged` moves the file back (undoing any changes since `git add` was run) and removes it from the list of files to include in the next commit.\n",
        "\n",
        "The `diff` command can show us what has changed - on it's own it shows what is *tracked*, *unstaged* files, and all our files are *staged* now so that won't show anything `--cached` shows what's staged and waiting to be committed. "
      ]
    },
    {
      "cell_type": "code",
      "execution_count": null,
      "metadata": {
        "dotnet_interactive": {
          "language": "pwsh"
        }
      },
      "outputs": [
        {
          "data": {
            "text/plain": "diff --git a/license.md b/license.md\nindex 3b94f91..ce2ca9f 100644\n--- a/license.md\n+++ b/license.md\n@@ -1 +1,2 @@\n Placeholder\n+more\ndiff --git a/readme b/readme\nnew file mode 100644\nindex 0000000..ce2ca9f\n--- /dev/null\n+++ b/readme\n@@ -0,0 +1,2 @@\n+Placeholder\n+more\n"
          },
          "execution_count": 1,
          "metadata": {},
          "output_type": "execute_result"
        }
      ],
      "source": [
        "git diff --cached | Out-String"
      ]
    },
    {
      "cell_type": "markdown",
      "metadata": {},
      "source": [
        "Let's `commit` the the change  with a new message (`-m`)   \n",
        "Git commit messages are usually kept quite short, and often contain tracking information to link to pieces of work being done. Otherwise good commit messages tend to be ones which complete the sentance \"Incoporate this commit to ___\" "
      ]
    },
    {
      "cell_type": "code",
      "execution_count": null,
      "metadata": {
        "dotnet_interactive": {
          "language": "pwsh"
        }
      },
      "outputs": [
        {
          "data": {
            "text/plain": "[master 9463cdd] two\n 2 files changed, 3 insertions(+)\n create mode 100644 readme\n"
          },
          "execution_count": 1,
          "metadata": {},
          "output_type": "execute_result"
        }
      ],
      "source": [
        "cd ~/dummyProj\n",
        "git commit -m \"two\"  |out-string"
      ]
    },
    {
      "cell_type": "markdown",
      "metadata": {},
      "source": [
        " And we see what is in the log after the commit"
      ]
    },
    {
      "cell_type": "code",
      "execution_count": null,
      "metadata": {
        "dotnet_interactive": {
          "language": "pwsh"
        }
      },
      "outputs": [
        {
          "data": {
            "text/plain": "9463cdd two\ndee40e5 Inital version\n"
          },
          "execution_count": 1,
          "metadata": {},
          "output_type": "execute_result"
        }
      ],
      "source": [
        "git log --oneline | out-string"
      ]
    },
    {
      "cell_type": "markdown",
      "metadata": {},
      "source": [
        "So the `git log`  **shows the history of every commit** which got us to this point. \n",
        "\n",
        "Let's remove a file, and to see the effects of multiple changes we'll also add to an existing file. "
      ]
    },
    {
      "cell_type": "code",
      "execution_count": null,
      "metadata": {
        "dotnet_interactive": {
          "language": "pwsh"
        }
      },
      "outputs": [
        {
          "data": {
            "text/plain": "On branch master\nChanges not staged for commit:\n  (use \"git add/rm <file>...\" to update what will be committed)\n  (use \"git restore <file>...\" to discard changes in working directory)\n\tdeleted:    license.md\n\tmodified:   readme\n\nno changes added to commit (use \"git add\" and/or \"git commit -a\")\n"
          },
          "execution_count": 1,
          "metadata": {},
          "output_type": "execute_result"
        }
      ],
      "source": [
        "del .\\license.md\n",
        "echo 'extra' >> .\\readme\n",
        "git status | Out-String"
      ]
    },
    {
      "cell_type": "markdown",
      "metadata": {},
      "source": [
        "This time, the status shows a deleted file. We might be temped to use the `git rm *` command to remove all deleted files, but beware..."
      ]
    },
    {
      "cell_type": "code",
      "execution_count": null,
      "metadata": {
        "dotnet_interactive": {
          "language": "pwsh"
        }
      },
      "outputs": [
        {
          "data": {
            "text/plain": "error: the following file has local modifications:\n    readme\n(use --cached to keep the file, or -f to force removal)"
          },
          "execution_count": 1,
          "metadata": {},
          "output_type": "execute_result"
        }
      ],
      "source": [
        "git rm *"
      ]
    },
    {
      "cell_type": "markdown",
      "metadata": {},
      "source": [
        "`git rm *` tried to remove _everything_ `git add *` adds all files and re-adding existing ones has no effect. `git rm *` tries to remove all the files in the repo!    \n",
        "Fortunately our modified file saved us. Let's try just remove the file which needs deleting, and add the other changed files.     \n",
        "Then let's try a new option for the `git status` command. "
      ]
    },
    {
      "cell_type": "code",
      "execution_count": null,
      "metadata": {
        "dotnet_interactive": {
          "language": "pwsh"
        }
      },
      "outputs": [
        {
          "data": {
            "text/plain": "rm 'license.md'"
          },
          "execution_count": 1,
          "metadata": {},
          "output_type": "execute_result"
        }
      ],
      "source": [
        "git rm ./license.md\n",
        "git add *"
      ]
    },
    {
      "cell_type": "code",
      "execution_count": null,
      "metadata": {
        "dotnet_interactive": {
          "language": "pwsh"
        }
      },
      "outputs": [
        {
          "data": {
            "text/plain": "D  license.md\nM  readme\n"
          },
          "execution_count": 1,
          "metadata": {},
          "output_type": "execute_result"
        }
      ],
      "source": [
        "git status -s | Out-String"
      ]
    },
    {
      "cell_type": "markdown",
      "metadata": {},
      "source": [
        "to keep the file in your working tree but remove it from your staging area  e.g accidentally staged    \n",
        "`git rm --cached README`   \n",
        "https://git-scm.com/book/en/v2/Git-Basics-Recording-Changes-to-the-Repository \n",
        "\n",
        "Missed a file ? add it & run `git commit --amend`  \n",
        "\n",
        "For now lets use `git commit` to commit the deletion(s) and update(s) with `-m` to specify a commit message. Then we can see what has changed in the log"
      ]
    },
    {
      "cell_type": "code",
      "execution_count": null,
      "metadata": {
        "dotnet_interactive": {
          "language": "pwsh"
        }
      },
      "outputs": [
        {
          "data": {
            "text/plain": "[master 9cc95b3] three\n 2 files changed, 1 insertion(+), 2 deletions(-)\n delete mode 100644 license.md\n"
          },
          "execution_count": 1,
          "metadata": {},
          "output_type": "execute_result"
        }
      ],
      "source": [
        "git commit -m \"three\"  | out-string"
      ]
    },
    {
      "cell_type": "code",
      "execution_count": null,
      "metadata": {
        "dotnet_interactive": {
          "language": "pwsh"
        }
      },
      "outputs": [
        {
          "data": {
            "text/plain": "commit 9cc95b32a558058033af3880ad0aaa20cb283e1e\nAuthor: James O'Neill <P10506111@capita.co.uk>\nDate:   Fri Jan 8 16:38:13 2021 +0000\n\n    three\n\ncommit 9463cdd7cf2f2fa2c7b9120f879a70d4d1d02ec4\nAuthor: James O'Neill <P10506111@capita.co.uk>\nDate:   Fri Jan 8 16:37:13 2021 +0000\n\n    two\n\ncommit dee40e50c555a2ccff7be953f9d2b05a68335dda\nAuthor: James O'Neill <P10506111@capita.co.uk>\nDate:   Fri Jan 8 16:34:59 2021 +0000\n\n    Inital version\n"
          },
          "execution_count": 1,
          "metadata": {},
          "output_type": "execute_result"
        }
      ],
      "source": [
        "git log | Out-String "
      ]
    },
    {
      "cell_type": "markdown",
      "metadata": {},
      "source": [
        "We can move or rename files and follow the operation with    \n",
        "`git rm <oldName>`    \n",
        "`git add <NewName>` \n",
        "but `git mv` does all 3 in one "
      ]
    },
    {
      "cell_type": "code",
      "execution_count": null,
      "metadata": {
        "dotnet_interactive": {
          "language": "pwsh"
        }
      },
      "outputs": [],
      "source": [
        "git mv .\\readme read_me.txt  "
      ]
    },
    {
      "cell_type": "code",
      "execution_count": null,
      "metadata": {
        "dotnet_interactive": {
          "language": "pwsh"
        }
      },
      "outputs": [
        {
          "data": {
            "text/plain": "R  readme -> read_me.txt"
          },
          "execution_count": 1,
          "metadata": {},
          "output_type": "execute_result"
        }
      ],
      "source": [
        "git status -s"
      ]
    },
    {
      "cell_type": "markdown",
      "metadata": {},
      "source": [
        "git log -p -1"
      ]
    },
    {
      "cell_type": "code",
      "execution_count": null,
      "metadata": {
        "dotnet_interactive": {
          "language": "pwsh"
        }
      },
      "outputs": [
        {
          "data": {
            "text/plain": "commit 9cc95b32a558058033af3880ad0aaa20cb283e1e\nAuthor: James O'Neill <P10506111@capita.co.uk>\nDate:   Fri Jan 8 16:38:13 2021 +0000\n\n    three\n\n license.md | 2 --\n readme     | 1 +\n 2 files changed, 1 insertion(+), 2 deletions(-)\n\ncommit 9463cdd7cf2f2fa2c7b9120f879a70d4d1d02ec4\nAuthor: James O'Neill <P10506111@capita.co.uk>\nDate:   Fri Jan 8 16:37:13 2021 +0000\n\n    two\n\n license.md | 1 +\n readme     | 2 ++\n 2 files changed, 3 insertions(+)\n\ncommit dee40e50c555a2ccff7be953f9d2b05a68335dda\nAuthor: James O'Neill <P10506111@capita.co.uk>\nDate:   Fri Jan 8 16:34:59 2021 +0000\n\n    Inital version\n\n license.md | 1 +\n 1 file changed, 1 insertion(+)\n"
          },
          "execution_count": 1,
          "metadata": {},
          "output_type": "execute_result"
        }
      ],
      "source": [
        "git log --stat --since=1.hours  | Out-String"
      ]
    },
    {
      "cell_type": "markdown",
      "metadata": {},
      "source": [
        "# Branches\n",
        "The line of commits forms a _branch_. In the early years of git, the first branch was always named \"master\". Other names are now allowed and people increasingly prefer other names like \"main\" or \"trunk.    \n",
        "![Changing the git default branch name](Git_Windows_default_Branch.png)    \n",
        "We are currently working in the default branch so  the **HEAD** pointer and current state of that branch map to the our most recent commit.  "
      ]
    },
    {
      "cell_type": "code",
      "execution_count": null,
      "metadata": {
        "dotnet_interactive": {
          "language": "pwsh"
        }
      },
      "outputs": [
        {
          "data": {
            "text/plain": "9cc95b3 (HEAD -> master) three\n9463cdd two\ndee40e5 Inital version"
          },
          "execution_count": 1,
          "metadata": {},
          "output_type": "execute_result"
        }
      ],
      "source": [
        "cd ~/dummyProj\n",
        "git log --oneline --decorate "
      ]
    },
    {
      "cell_type": "markdown",
      "metadata": {},
      "source": [
        "In this case**HEAD** points to the **master** branch, which is currently at point to the commit with the hash `9cc95b3 ` which had the commit message **three** , this is descended from commit `9463cdd  ` (\"two\"), which descended from commit `dee40e5  ` (\"Initial version\") \n",
        "\n",
        "If we add a new branch it creates a new name and with no other parameters starts pointing wherever **HEAD** points but **HEAD** does not switch to the new branch. "
      ]
    },
    {
      "cell_type": "code",
      "execution_count": null,
      "metadata": {
        "dotnet_interactive": {
          "language": "pwsh"
        }
      },
      "outputs": [],
      "source": [
        "git branch testing"
      ]
    },
    {
      "cell_type": "code",
      "execution_count": null,
      "metadata": {
        "dotnet_interactive": {
          "language": "pwsh"
        }
      },
      "outputs": [
        {
          "data": {
            "text/plain": "9cc95b3 (HEAD -> master, testing) three\n9463cdd two\ndee40e5 Inital version\n"
          },
          "execution_count": 1,
          "metadata": {},
          "output_type": "execute_result"
        }
      ],
      "source": [
        "git log --oneline --decorate  | out-string"
      ]
    },
    {
      "cell_type": "markdown",
      "metadata": {},
      "source": [
        "Now status shows that HEAD still points to master, and master and the new branch both point to the commit named \"three\" \n",
        "\n",
        "`git checkout <branchname>` selects a branch to work in -     \n",
        "or we can create & select in one command with  `git checkout -b <branchname>`"
      ]
    },
    {
      "cell_type": "code",
      "execution_count": null,
      "metadata": {
        "dotnet_interactive": {
          "language": "pwsh"
        }
      },
      "outputs": [
        {
          "data": {
            "text/plain": "A\tread_me.txt\nSwitched to branch 'testing'\nD\treadme"
          },
          "execution_count": 1,
          "metadata": {},
          "output_type": "execute_result"
        }
      ],
      "source": [
        "git checkout testing   "
      ]
    },
    {
      "cell_type": "markdown",
      "metadata": {},
      "source": [
        "<u>Now</u> the **head** points to the new branch, and it and master still point to the commit named \"three\""
      ]
    },
    {
      "cell_type": "code",
      "execution_count": null,
      "metadata": {
        "dotnet_interactive": {
          "language": "pwsh"
        }
      },
      "outputs": [
        {
          "data": {
            "text/plain": "9cc95b3 (HEAD -> testing, master) three\n9463cdd two\ndee40e5 Inital version\n"
          },
          "execution_count": 1,
          "metadata": {},
          "output_type": "execute_result"
        }
      ],
      "source": [
        "git log --oneline --decorate  | Out-String"
      ]
    },
    {
      "cell_type": "markdown",
      "metadata": {},
      "source": [
        "If we add a file and commit our changes, the HEAD pointer and the current branch (\"testing\") move forward to the new commit. But any other branches (like \"master\") remain at their existing commits."
      ]
    },
    {
      "cell_type": "code",
      "execution_count": null,
      "metadata": {
        "dotnet_interactive": {
          "language": "pwsh"
        }
      },
      "outputs": [
        {
          "data": {
            "text/plain": "[testing d7a2849] changed the testing branch\n 1 file changed, 0 insertions(+), 0 deletions(-)\n rename readme => read_me.txt (100%)\n"
          },
          "execution_count": 1,
          "metadata": {},
          "output_type": "execute_result"
        }
      ],
      "source": [
        "cd ~/dummyProj\n",
        "dir -force > test.txt\n",
        "git commit -a -m \"changed the testing branch\" | Out-String"
      ]
    },
    {
      "cell_type": "code",
      "execution_count": null,
      "metadata": {
        "dotnet_interactive": {
          "language": "pwsh"
        }
      },
      "outputs": [
        {
          "data": {
            "text/plain": "d7a2849 (HEAD -> testing) changed the testing branch\n9cc95b3 (master) three\n9463cdd two\ndee40e5 Inital version\n"
          },
          "execution_count": 1,
          "metadata": {},
          "output_type": "execute_result"
        }
      ],
      "source": [
        "git log --oneline --decorate | Out-String"
      ]
    },
    {
      "cell_type": "markdown",
      "metadata": {},
      "source": [
        "We can switch back to the \"master\" branch, (changing where HEAD points), change its content and commit"
      ]
    },
    {
      "cell_type": "code",
      "execution_count": null,
      "metadata": {
        "dotnet_interactive": {
          "language": "pwsh"
        }
      },
      "outputs": [
        {
          "data": {
            "text/plain": "Switched to branch 'master'"
          },
          "execution_count": 1,
          "metadata": {},
          "output_type": "execute_result"
        }
      ],
      "source": [
        "git checkout master"
      ]
    },
    {
      "cell_type": "code",
      "execution_count": null,
      "metadata": {
        "dotnet_interactive": {
          "language": "pwsh"
        }
      },
      "outputs": [],
      "source": [
        "cd ~/dummyProj\n",
        "echo \"new\" > update.txt\n",
        "git add *"
      ]
    },
    {
      "cell_type": "code",
      "execution_count": null,
      "metadata": {
        "dotnet_interactive": {
          "language": "pwsh"
        }
      },
      "outputs": [
        {
          "data": {
            "text/plain": "[master b8c9ef1] changed master\n 2 files changed, 11 insertions(+)\n create mode 100644 test.txt\n create mode 100644 update.txt\n"
          },
          "execution_count": 1,
          "metadata": {},
          "output_type": "execute_result"
        }
      ],
      "source": [
        "git commit -m \"changed master\" | Out-String"
      ]
    },
    {
      "cell_type": "markdown",
      "metadata": {},
      "source": [
        "Another version of the `git log` command shows us both branches and how the overall stucture:"
      ]
    },
    {
      "cell_type": "code",
      "execution_count": null,
      "metadata": {
        "dotnet_interactive": {
          "language": "pwsh"
        }
      },
      "outputs": [
        {
          "data": {
            "text/plain": "* b8c9ef1 (HEAD -> master) changed master\n| * d7a2849 (testing) changed the testing branch\n|/  \n* 9cc95b3 three\n* 9463cdd two\n* dee40e5 Inital version\n"
          },
          "execution_count": 1,
          "metadata": {},
          "output_type": "execute_result"
        }
      ],
      "source": [
        "git log --oneline --decorate --graph --all | Out-String"
      ]
    },
    {
      "cell_type": "markdown",
      "metadata": {},
      "source": [
        "**HEAD** points to \"master\" and is currently at commit `b8c9ef1  `; we have another branch \"testing\" which is at commit `d7a2849  ` and both `b8c9ef1` and `d7a2849  ` are dervived from `9cc95b3 ` which in turn is derived from `9463cdd` and so on\n",
        "\n",
        "Let's create a branch for a hot fix. "
      ]
    },
    {
      "cell_type": "code",
      "execution_count": null,
      "metadata": {
        "dotnet_interactive": {
          "language": "pwsh"
        }
      },
      "outputs": [
        {
          "data": {
            "text/plain": "Switched to a new branch 'hotfix'"
          },
          "execution_count": 1,
          "metadata": {},
          "output_type": "execute_result"
        }
      ],
      "source": [
        "git checkout -b hotfix   \n",
        "echo \"hotfix\" > hotfix.txt\n",
        "git add *"
      ]
    },
    {
      "cell_type": "code",
      "execution_count": null,
      "metadata": {
        "dotnet_interactive": {
          "language": "pwsh"
        }
      },
      "outputs": [],
      "source": [
        "git commit -m \"added my hotfix\" > ~\\temp.txt"
      ]
    },
    {
      "cell_type": "code",
      "execution_count": null,
      "metadata": {
        "dotnet_interactive": {
          "language": "pwsh"
        }
      },
      "outputs": [
        {
          "data": {
            "text/plain": "[hotfix 9427c6c] added my hotfix\n 1 file changed, 1 insertion(+)\n create mode 100644 hotfix.txt"
          },
          "execution_count": 1,
          "metadata": {},
          "output_type": "execute_result"
        }
      ],
      "source": [
        "type ~\\temp.txt"
      ]
    },
    {
      "cell_type": "code",
      "execution_count": null,
      "metadata": {
        "dotnet_interactive": {
          "language": "pwsh"
        }
      },
      "outputs": [
        {
          "data": {
            "text/plain": "* 9427c6c (HEAD -> hotfix) added my hotfix\n* b8c9ef1 (master) changed master\n| * d7a2849 (testing) changed the testing branch\n|/  \n* 9cc95b3 three\n* 9463cdd two\n* dee40e5 Inital version\n"
          },
          "execution_count": 1,
          "metadata": {},
          "output_type": "execute_result"
        }
      ],
      "source": [
        "git log --oneline --decorate --graph --all | out-string "
      ]
    },
    {
      "cell_type": "markdown",
      "metadata": {},
      "source": [
        "We can build and deploy the hotfix using our new branch as the source of the code.     \n",
        "Eventually we will want to merge those changes into the \"master\" branch.\n",
        "Because the  commit  for \"hotfix\" is a direct descentant of the commit for \"master\", this is just a case of moving the name \"master\" along the line of descent - something git calls \"fast forwarding\""
      ]
    },
    {
      "cell_type": "code",
      "execution_count": null,
      "metadata": {
        "dotnet_interactive": {
          "language": "pwsh"
        }
      },
      "outputs": [
        {
          "data": {
            "text/plain": "Switched to branch 'master'"
          },
          "execution_count": 1,
          "metadata": {},
          "output_type": "execute_result"
        }
      ],
      "source": [
        "git checkout master   "
      ]
    },
    {
      "cell_type": "code",
      "execution_count": null,
      "metadata": {
        "dotnet_interactive": {
          "language": "pwsh"
        }
      },
      "outputs": [
        {
          "data": {
            "text/plain": "Updating b8c9ef1..9427c6c\nFast-forward\n hotfix.txt | 1 +\n 1 file changed, 1 insertion(+)\n create mode 100644 hotfix.txt"
          },
          "execution_count": 1,
          "metadata": {},
          "output_type": "execute_result"
        }
      ],
      "source": [
        "git   merge hotfix  "
      ]
    },
    {
      "cell_type": "markdown",
      "metadata": {},
      "source": [
        "Now **HEAD** is attached to \"master\" which has moved forward from `b8c9ef1` to `9427c6c`; \"hotfix\" is still on `9427c6c` as well but it is a redundant label so we can delete it"
      ]
    },
    {
      "cell_type": "code",
      "execution_count": null,
      "metadata": {
        "dotnet_interactive": {
          "language": "pwsh"
        }
      },
      "outputs": [
        {
          "data": {
            "text/plain": "Deleted branch hotfix (was 9427c6c)."
          },
          "execution_count": 1,
          "metadata": {},
          "output_type": "execute_result"
        }
      ],
      "source": [
        "git branch -d hotfix "
      ]
    },
    {
      "cell_type": "markdown",
      "metadata": {},
      "source": [
        "If we look at \"testing\" and \"master\", we can see they have a common ancestor `9cc95b3 `. Testing has one extra commit which master doesn't have and lacks two commits which have been made to master - it is said to be \"one ahead and two behind\" . We can't do a fast forward merge but we can merge the changes from both to make a single new commit with all the changes. "
      ]
    },
    {
      "cell_type": "code",
      "execution_count": null,
      "metadata": {
        "dotnet_interactive": {
          "language": "pwsh"
        }
      },
      "outputs": [
        {
          "data": {
            "text/plain": "Switched to branch 'testing'\nMerge made by the 'recursive' strategy.\n hotfix.txt |  1 +\n test.txt   | 10 ++++++++++\n update.txt |  1 +\n 3 files changed, 12 insertions(+)\n create mode 100644 hotfix.txt\n create mode 100644 test.txt\n create mode 100644 update.txt"
          },
          "execution_count": 1,
          "metadata": {},
          "output_type": "execute_result"
        }
      ],
      "source": [
        "git checkout testing \n",
        "git merge master  | out-String"
      ]
    },
    {
      "cell_type": "markdown",
      "metadata": {},
      "source": [
        "In this case the two branches have made changes which are independent of each other. Let's create a conflict. First let's update a file in the current branch (\"Testing\")"
      ]
    },
    {
      "cell_type": "code",
      "execution_count": null,
      "metadata": {
        "dotnet_interactive": {
          "language": "pwsh"
        }
      },
      "outputs": [
        {
          "data": {
            "text/plain": "new\n[testing db158c3] Update from testing\n 1 file changed, 1 insertion(+)"
          },
          "execution_count": 1,
          "metadata": {},
          "output_type": "execute_result"
        }
      ],
      "source": [
        "type .\\update.txt\n",
        "echo \"Added from the testing branch\" >> update.txt\n",
        "git commit -a -m 'Update from testing' | out-string"
      ]
    },
    {
      "cell_type": "code",
      "execution_count": null,
      "metadata": {
        "dotnet_interactive": {
          "language": "pwsh"
        }
      },
      "outputs": [
        {
          "data": {
            "text/plain": "Switched to branch 'master'\nnew\n\n[master 5723e06] Update from master\n 1 file changed, 1 insertion(+)\n\n\n* 5723e06 (HEAD -> master) Update from master\n| * db158c3 (testing) Update from testing\n| *   417bb08 Merge branch 'master' into testing\n| |\\  \n| |/  \n|/|   \n* | 9427c6c added my hotfix\n* | b8c9ef1 changed master\n| * d7a2849 changed the testing branch\n|/  \n* 9cc95b3 three\n* 9463cdd two\n* dee40e5 Inital version\n"
          },
          "execution_count": 1,
          "metadata": {},
          "output_type": "execute_result"
        }
      ],
      "source": [
        "git checkout master\n",
        "type .\\update.txt\n",
        "''\n",
        "echo \"Added from the master branch\" >> update.txt\n",
        "git commit -a -m 'Update from master' | out-string\n",
        "''\n",
        "git log --oneline --decorate --graph --all | out-String"
      ]
    },
    {
      "cell_type": "markdown",
      "metadata": {},
      "source": [
        "As before the two branches have a common ancestor so let's try to merge them "
      ]
    },
    {
      "cell_type": "code",
      "execution_count": null,
      "metadata": {
        "dotnet_interactive": {
          "language": "pwsh"
        }
      },
      "outputs": [
        {
          "data": {
            "text/plain": "Auto-merging update.txt\nCONFLICT (content): Merge conflict in update.txt\nAutomatic merge failed; fix conflicts and then commit the result."
          },
          "execution_count": 1,
          "metadata": {},
          "output_type": "execute_result"
        }
      ],
      "source": [
        "git merge testing"
      ]
    },
    {
      "cell_type": "markdown",
      "metadata": {},
      "source": [
        "Oh dear - we need to manually edit update.txt which looks like this"
      ]
    },
    {
      "cell_type": "code",
      "execution_count": null,
      "metadata": {
        "dotnet_interactive": {
          "language": "pwsh"
        }
      },
      "outputs": [
        {
          "data": {
            "text/plain": "new\n<<<<<<< HEAD\nAdded from the master branch\n=======\nAdded from the testing branch\n>>>>>>> testing"
          },
          "execution_count": 1,
          "metadata": {},
          "output_type": "execute_result"
        }
      ],
      "source": [
        "Type update.txt"
      ]
    },
    {
      "cell_type": "markdown",
      "metadata": {},
      "source": [
        "We can edit the file and either run `git merge --continue` (which will ask for the commit message to be edited) or use `git commit -a -m \"merge message\"`  and the log shows a new commit which brings together the shared ancestor and the updates."
      ]
    },
    {
      "cell_type": "code",
      "execution_count": null,
      "metadata": {
        "dotnet_interactive": {
          "language": "pwsh"
        }
      },
      "outputs": [
        {
          "data": {
            "text/plain": "[master 783454f] Merge branch 'testing'"
          },
          "execution_count": 1,
          "metadata": {},
          "output_type": "execute_result"
        }
      ],
      "source": [
        "echo \"Combined file\" >> updated.txt\n",
        "git commit -a -m \"Merge branch 'testing'\""
      ]
    },
    {
      "cell_type": "code",
      "execution_count": null,
      "metadata": {
        "dotnet_interactive": {
          "language": "pwsh"
        }
      },
      "outputs": [
        {
          "data": {
            "text/plain": "*   783454f (HEAD -> master) Merge branch 'testing'\n|\\  \n| * db158c3 (testing) Update from testing\n| *   417bb08 Merge branch 'master' into testing\n| |\\  \n| * | d7a2849 changed the testing branch\n* | | 5723e06 Update from master\n| |/  \n|/|   \n* | 9427c6c added my hotfix\n* | b8c9ef1 changed master\n|/  \n* 9cc95b3 three\n* 9463cdd two\n* dee40e5 Inital version\n"
          },
          "execution_count": 1,
          "metadata": {},
          "output_type": "execute_result"
        }
      ],
      "source": [
        "git log --oneline --decorate --graph --all | out-string"
      ]
    },
    {
      "cell_type": "code",
      "execution_count": null,
      "metadata": {
        "dotnet_interactive": {
          "language": "pwsh"
        }
      },
      "outputs": [],
      "source": []
    }
  ],
  "metadata": {
    "kernelspec": {
      "display_name": ".NET (C#)",
      "language": "C#",
      "name": ".net-csharp"
    },
    "language_info": {
      "file_extension": ".cs",
      "mimetype": "text/x-csharp",
      "name": "C#",
      "pygments_lexer": "csharp",
      "version": "8.0"
    }
  },
  "nbformat": 4,
  "nbformat_minor": 4
}