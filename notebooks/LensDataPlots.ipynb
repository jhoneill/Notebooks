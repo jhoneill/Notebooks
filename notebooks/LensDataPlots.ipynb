{
  "cells": [
    {
      "cell_type": "markdown",
      "metadata": {},
      "source": [
        "# Access live lightroom data \n",
        "* Load the getsql module  \n",
        "* Make a connection to the lightroom DSN; this leaves an alias of LR to run the queries\n",
        "* At some stage I will save the data so the notebook will work without a live connection to Lightroom data. Plotly had issues with the first attempt :-("
      ]
    },
    {
      "cell_type": "markdown",
      "metadata": {},
      "source": [
        "Light room uses the following tables, among others \n",
        "![lightroom Schema](./schema.png)"
      ]
    },
    {
      "cell_type": "code",
      "execution_count": null,
      "metadata": {
        "dotnet_interactive": {
          "language": "pwsh"
        }
      },
      "outputs": [
        {
          "name": "stdout",
          "output_type": "stream",
          "text": [
            "\r\n",
            "Data Source                                        Database State Connection String\u001b[0m\r\n",
            "-----------                                        -------- ----- -----------------\u001b[0m\r\n",
            "C:\\Users\\mcp\\Pictures\\Lightroom\\Catalog-2-v11.lrca          Open  DSN=LR\r\n",
            "\r\n"
          ]
        }
      ],
      "source": [
        "import-module GetSQL\n",
        "Get-sql -Session LR -Connection DSN=LR  | ft -AutoSize"
      ]
    },
    {
      "cell_type": "code",
      "execution_count": null,
      "metadata": {
        "dotnet_interactive": {
          "language": "csharp"
        }
      },
      "outputs": [
        {
          "data": {
            "text/html": [
              "<div><div></div><div></div><div><strong>Installed Packages</strong><ul><li><span>xplot.plotly.interactive, 4.0.6</span></li></ul></div></div>"
            ]
          },
          "metadata": {},
          "output_type": "display_data"
        },
        {
          "data": {
            "text/markdown": [
              "Loading extensions from `XPlot.Plotly.Interactive.dll`"
            ]
          },
          "metadata": {},
          "output_type": "display_data"
        },
        {
          "data": {
            "text/markdown": [
              "Configuring PowerShell Kernel for XPlot.Plotly integration."
            ]
          },
          "metadata": {},
          "output_type": "display_data"
        },
        {
          "data": {
            "text/markdown": [
              "Installed support for XPlot.Plotly."
            ]
          },
          "metadata": {},
          "output_type": "display_data"
        }
      ],
      "source": [
        "#r \"nuget: xplot.plotly.interactive\""
      ]
    },
    {
      "cell_type": "markdown",
      "metadata": {},
      "source": [
        "# Load plotly support"
      ]
    },
    {
      "cell_type": "code",
      "execution_count": null,
      "metadata": {
        "dotnet_interactive": {
          "language": "pwsh"
        }
      },
      "outputs": [],
      "source": [
        "Import-Module .\\plotly.psm1 "
      ]
    },
    {
      "cell_type": "markdown",
      "metadata": {},
      "source": [
        "# Get the 10 most used lenses and all the known apertures.    "
      ]
    },
    {
      "cell_type": "code",
      "execution_count": null,
      "metadata": {
        "dotnet_interactive": {
          "language": "pwsh"
        }
      },
      "outputs": [
        {
          "name": "stdout",
          "output_type": "stream",
          "text": [
            "31 row(s) returned\r\n",
            "19 row(s) returned\r\n"
          ]
        }
      ],
      "source": [
        "$lensSQL      = \"SELECT count(metadata.image) AS images, LensRef.value AS lensModel\n",
        "                 FROM   AgharvestedExifMetadata metadata JOIN AgInternedExifLens LensRef ON LensRef.id_Local = metadata.lensRef\n",
        "                 Group by LensRef.value\n",
        "                 Order by Images Desc\" \n",
        "\n",
        "$apertureSQL  = \"SELECT DISTINCT Aperture FROM AgharvestedExifMetadata where Aperture > 0 ORDER BY Aperture \" \n",
        "\n",
        "$apertureList  = lr $apertureSQL\n",
        "$lensList      = lr $lensSQL | Select-Object -First 10 # TOP isn't supported in SQL Lite"
      ]
    },
    {
      "cell_type": "markdown",
      "metadata": {},
      "source": [
        "# Get a row of data for each lens; \n",
        "By querying the number of images for each aperture for that lens, then    \n",
        "for each known apperture put either 0 or 1 + log(number of images at that apperture) - scale is better as a log scale   \n",
        "So we have a row per lens and each row has a number for every aperture."
      ]
    },
    {
      "cell_type": "code",
      "execution_count": null,
      "metadata": {
        "dotnet_interactive": {
          "language": "pwsh"
        }
      },
      "outputs": [
        {
          "name": "stdout",
          "output_type": "stream",
          "text": [
            "21 row(s) returned\r\n",
            "19 row(s) returned\r\n",
            "16 row(s) returned\r\n",
            "8 row(s) returned\r\n",
            "16 row(s) returned\r\n",
            "17 row(s) returned\r\n",
            "13 row(s) returned\r\n",
            "16 row(s) returned\r\n",
            "15 row(s) returned\r\n",
            "10 row(s) returned\r\n"
          ]
        }
      ],
      "source": [
        "$imagesSQL    = @\"\n",
        "SELECT    COUNT(metadata.image) AS images, \n",
        "          metadata.Aperture,  \n",
        "          LensRef.value         AS lensModel\n",
        "FROM      AgharvestedExifMetadata metadata \n",
        "JOIN      AgInternedExifLens LensRef \n",
        "ON        metadata.lensRef = LensRef.id_Local \n",
        "WHERE     metadata.Aperture > 0 \n",
        "\n",
        "AND       lensModel = '{0}'\n",
        "\n",
        "GROUP BY  metadata.Aperture,  LensRef.value\n",
        "\"@\n",
        "$logImagecount = foreach ($l in $lensList) {\n",
        "    $rowForLens    = @()\n",
        "    $ImagesForLens = lr ($imagesSql -f $l.lensmodel)  \n",
        "    foreach ($a in $apertureList) {\n",
        "        $i = $ImagesForLens.Where({$_.Aperture -eq $a.aperture}).images\n",
        "        if ($i) {$rowForLens += ([math]::log10($i) + 1) }\n",
        "        else    {$rowForLens += 0 }\n",
        "    } \n",
        "    @(,$rowForLens)\n",
        "}"
      ]
    },
    {
      "cell_type": "markdown",
      "metadata": {},
      "source": [
        "# Draw a heat map"
      ]
    },
    {
      "cell_type": "code",
      "execution_count": null,
      "metadata": {
        "dotnet_interactive": {
          "language": "pwsh"
        }
      },
      "outputs": [
        {
          "data": {
            "text/html": [
              "<!DOCTYPE html>\r\n",
              "<div style=\"width: 900px; height: 500px;\" id=\"c62d33bf-9572-48e8-9fb7-f1732de00c38\"></div><script type=\"text/javascript\">\r\n",
              "\n",
              "var renderPlotly = function() {\n",
              "    var xplotRequire = require.config({context:'xplot-3.0.1',paths:{plotly:'https://cdn.plot.ly/plotly-1.49.2.min'}}) || require;\n",
              "    xplotRequire(['plotly'], function(Plotly) { \r\n",
              "\n",
              "            var data = [{\"type\":\"heatmap\",\"z\":[[0,2.204119982655925,1.4771212547196624,2.3010299956639813,0,3.2121876044039577,2.3979400086720375,0,2.4771212547196626,2.3979400086720375,2.079181246047625,2.7993405494535817,2.1760912590556813,2.7323937598229686,2.681241237375587,3.12057393120585,0,2.653212513775344,2.342422680822206,2.8573324964312685,2.690196080028514,3.0253058652647704,3.315970345456918,2.9395192526186182,0,1.4771212547196624,0,0,0,0,0],[0,0,0,2.5314789170422554,0,2.57978359661681,2.0413926851582254,0,3.57978359661681,2.633468455579586,2.3010299956639813,2.278753600952829,2.7558748556724915,2.414973347970818,2.7160033436347994,2.9138138523837167,0,2.6720978579357175,2.380211241711606,3.089905111439398,1.3010299956639813,2.5314789170422554,2.7160033436347994,1.4771212547196624,2.1760912590556813,0,0,0,0,0,0],[0,0,0,0,0,0,0,0,0,0,0,0,3.1958996524092336,3.2041199826559246,2.623249290397901,3.406540180433955,0,2.5185139398778875,2.57978359661681,2.9190780923760737,2.4913616938342726,2.5563025007672873,2.4771212547196626,2.3222192947339195,2.0,1.845098040014257,0,1.4771212547196624,0,1.3010299956639813,1.0],[0,0,0,0,0,0,0,0,0,0,0,2.9084850188786495,3.437750562820388,3.230448921378274,2.5051499783199063,3.0253058652647704,0,1.3010299956639813,1.845098040014257,1.4771212547196624,0,0,0,0,0,0,0,0,0,0,0],[0,0,0,0,0,0,0,0,0,0,0,2.949390006644913,2.8512583487190755,2.9731278535996983,2.361727836017593,3.110589710299249,2.4913616938342726,2.690196080028514,2.4313637641589874,2.623249290397901,1.6989700043360187,2.1760912590556813,2.1760912590556813,1.6989700043360187,1.6020599913279625,2.0,0,0,1.0,0,0],[0,0,0,0,2.0,2.0,2.0413926851582254,0,2.0,2.8260748027008264,1.845098040014257,1.4771212547196624,2.342422680822206,0,1.0,2.204119982655925,0,2.4471580313422194,2.3979400086720375,2.568201724066995,2.1760912590556813,1.6020599913279625,0,0,2.146128035678238,1.3010299956639813,0,0,0,0,0],[0,0,0,0,0,0,0,0,0,0,0,1.0,1.7781512503836436,1.7781512503836436,0,2.5314789170422554,0,2.623249290397901,1.6020599913279625,1.4771212547196624,1.0,1.0,1.3010299956639813,1.3010299956639813,0,1.3010299956639813,1.3010299956639813,0,0,0,0],[0,1.0,0,0,0,0,0,1.4771212547196624,1.4771212547196624,1.7781512503836436,1.6020599913279625,1.4771212547196624,1.845098040014257,1.3010299956639813,1.7781512503836436,1.9542425094393248,0,2.0413926851582254,2.113943352306837,2.146128035678238,1.7781512503836436,1.0,1.3010299956639813,0,0,0,0,0,0,0,0],[0,2.079181246047625,0,1.4771212547196624,0,2.342422680822206,1.3010299956639813,0,1.3010299956639813,0,1.0,1.3010299956639813,1.0,1.0,1.9030899869919435,1.845098040014257,0,0,1.0,1.0,0,1.3010299956639813,1.3010299956639813,0,0,0,0,0,0,0,0],[0,1.6020599913279625,0,1.0,0,1.9030899869919435,0,0,2.146128035678238,1.0,1.6020599913279625,1.6020599913279625,2.204119982655925,2.079181246047625,1.0,0,0,0,0,0,0,0,0,0,0,0,0,0,0,0,0]],\"x\":[\"f/1.2\",\"f/1.4\",\"f/1.6\",\"f/1.8\",\"f/1.9\",\"f/2\",\"f/2.2\",\"f/2.4\",\"f/2.5\",\"f/2.8\",\"f/3.2\",\"f/3.5\",\"f/4\",\"f/4.5\",\"f/5\",\"f/5.6\",\"f/6.2\",\"f/6.3\",\"f/7.1\",\"f/8\",\"f/9\",\"f/10\",\"f/11\",\"f/13\",\"f/14\",\"f/16\",\"f/18\",\"f/22\",\"f/25\",\"f/32\",\"f/36\"],\"y\":[\"D FA* 85mm F1.4\",\"FA 77mm F1.8\",\"Sigma or Tamron Lens\",\"DA 18-55mm F3.5-5.6\",\"DA 18-250mm F3.5-6.3\",\"FA 43mm F1.9\",\"TAMRON 28-300mm F3.5-6.3\",\"A Series Lens\",\"FA 50mm F1.4\",\"50mm\"],\"colorbar\":{\"tickvals\":[0,1,2,2.4,3,3.4],\"ticktext\":[\"0\",\"1\",\"10\",\"25\",\"100\",\"250\"]}}];\n",
              "           var layout = {\"margin\":{\"l\":250.0}};\n",
              "           Plotly.newPlot('c62d33bf-9572-48e8-9fb7-f1732de00c38', data, layout);\n",
              "        \r\n",
              "});\n",
              "};\r\n",
              "// ensure `require` is available globally\r\n",
              "if ((typeof(require) !==  typeof(Function)) || (typeof(require.config) !== typeof(Function))) {\r\n",
              "    let require_script = document.createElement('script');\r\n",
              "    require_script.setAttribute('src', 'https://cdnjs.cloudflare.com/ajax/libs/require.js/2.3.6/require.min.js');\r\n",
              "    require_script.setAttribute('type', 'text/javascript');\r\n",
              "    \r\n",
              "    \r\n",
              "    require_script.onload = function() {\r\n",
              "        renderPlotly();\r\n",
              "    };\r\n",
              "\r\n",
              "    document.getElementsByTagName('head')[0].appendChild(require_script);\r\n",
              "}\r\n",
              "else {\r\n",
              "    renderPlotly();\r\n",
              "}\r\n",
              "\r\n",
              "</script>\r\n"
            ]
          },
          "metadata": {},
          "output_type": "display_data"
        }
      ],
      "source": [
        "#x Axis is f/ stops - convert Lightroom's \"Aperture values\" into f/ number  (f = Square-root of 2^A).  \n",
        "#y Axis is lens names. Reduce names like \"SMC Pentax-DA 18-250mm F3.5-6.3 ED AL [IF]\", to \"DA 18-250mm F3.5-6.3\" \n",
        "#z is the log of numbers of images for that lens at that apperture\n",
        "#Mark the color bar at the logs of  0,1,10,100 etc for that number of images \n",
        " \n",
        "plot -Layout @{margin= @{l = 250}} {\n",
        "    Heatmap -x ($apertureList | ForEach-Object {\"f/\" + [math]::Round([math]::Sqrt([math]::Pow(2,$_.Aperture)),1)}) `\n",
        "            -y ($lensList     | ForEach-Object {$_.lensModel -replace '(mm.*\\d)\\D*$' , '$1' -replace \"^\\s*(HD|SMC)\\s*Pentax-\", \"\" }) `\n",
        "            -z  $logImagecount -ColorBar @{ tickvals = @(0,1,2,2.4,3,3.4); ticktext= @(\"0\",\"1\",\"10\",\"25\",\"100\",\"250\")}\n",
        "}"
      ]
    },
    {
      "cell_type": "markdown",
      "metadata": {},
      "source": [
        "# Do new queries for apertures and focal length(s) of each lens ... "
      ]
    },
    {
      "cell_type": "code",
      "execution_count": null,
      "metadata": {
        "dotnet_interactive": {
          "language": "pwsh"
        }
      },
      "outputs": [],
      "source": [
        "$sql = @\"\n",
        "SELECT   COUNT(metadata.image) As Images, \n",
        "         metadata.Aperture,  \n",
        "         metadata.focalLength, \n",
        "         LensRef.value         AS lensModel\n",
        "FROM     AgharvestedExifMetadata  metadata  \n",
        "JOIN     AgInternedExifLens LensRef \n",
        "ON       metadata.lensRef = LensRef.id_Local\n",
        "WHERE    metadata.Aperture    BETWEEN 1 AND 8.1 \n",
        "AND      metadata.focalLength BETWEEN 9 AND 151\n",
        "\n",
        "AND      LensRef.value = '{0}'\n",
        "\n",
        "GROUP BY metadata.Aperture,  metadata.focalLength  \n",
        "\"@  \n",
        "\n",
        "$threeWaySplit = @{}\n",
        "foreach ($lens in $lensList.lensmodel) {$threeWaySplit.$lens  = lr -q ($sql -f $lens)}"
      ]
    },
    {
      "cell_type": "markdown",
      "metadata": {},
      "source": [
        "# ... and scatter plot the results. \n",
        "Note, you can click on a series name in the legend to hide / show it. "
      ]
    },
    {
      "cell_type": "code",
      "execution_count": null,
      "metadata": {
        "dotnet_interactive": {
          "language": "pwsh"
        }
      },
      "outputs": [
        {
          "data": {
            "text/html": [
              "<!DOCTYPE html>\r\n",
              "<div style=\"width: 1250px; height: 600px;\" id=\"feed34f3-2c37-4f26-a98b-0fcfdaff9340\"></div><script type=\"text/javascript\">\r\n",
              "\n",
              "var renderPlotly = function() {\n",
              "    var xplotRequire = require.config({context:'xplot-3.0.1',paths:{plotly:'https://cdn.plot.ly/plotly-1.49.2.min'}}) || require;\n",
              "    xplotRequire(['plotly'], function(Plotly) { \r\n",
              "\n",
              "            var data = [{\"type\":\"scatter\",\"x\":[85,85,85,85,85,85,85,85,85,85,85,85,85,85,85,85,85,85,85,85],\"y\":[1.6,1.8,2.0,2.2,2.5,2.8,3.2,3.5,4.0,4.5,5.0,5.6,6.3,7.1,8.0,9.0,10.0,11.0,13.0,16.0],\"mode\":\"markers\",\"marker\":{\"size\":[15.49306144334055,24.978661367769952,35.46875100403381,26.094379124341003,27.005986908310778,26.094379124341003,22.42453324894,30.715673631957664,23.540251005511053,29.944920232821374,29.356005054539455,34.41400961293185,29.033312448851596,25.45521226679158,31.383330595080277,29.45910149055313,33.317195470560335,36.66359396632684,32.32954059327292,15.49306144334055]},\"name\":\"D FA* 85mm F1.4\"},{\"type\":\"scatter\",\"x\":[77,77,77,77,77,77,77,77,77,77,77,77,77,77,77,77,77,77,77],\"y\":[1.8,2.0,2.2,2.5,2.8,3.2,3.5,4.0,4.5,5.0,5.6,6.3,7.1,8.0,9.0,10.0,11.0,13.0,14.0],\"mode\":\"markers\",\"marker\":{\"size\":[27.63180262308081,28.18793079863193,21.989476363991855,39.70085626360216,28.806000578467813,24.978661367769952,24.722194895832203,30.21525633917275,26.29048269010741,29.75621859290714,32.033596236321266,29.250738008550293,25.89026915173973,34.06092177686209,13.465735902799727,27.63180262308081,29.75621859290714,15.49306144334055,23.540251005511053]},\"name\":\"FA 77mm F1.8\"},{\"type\":\"scatter\",\"x\":[10,11,10,11,12,13,14,15,16,17,18,10,11,12,13,14,15,10,11,12,13,14,16,17,18,19,20,21,22,23,24,10,12,13,14,19,20,24,10,11,12,13,14,17,18,19,20,24,10,12,13,14,15,16,17,18,19,20,22,24,10,12,14,18,19,21,22,24,10,11,12,13,14,15,16,18,20,24,10,11,12,19,23,24,10,12,18,19,23,24,10,12,20,24,10,13,14,23,24],\"y\":[4.0,4.0,4.5,4.5,4.5,4.5,4.5,4.5,4.5,4.5,4.5,5.0,5.0,5.0,5.0,5.0,5.0,5.6,5.6,5.6,5.6,5.6,5.6,5.6,5.6,5.6,5.6,5.6,5.6,5.6,5.6,6.3,6.3,6.3,6.3,6.3,6.3,6.3,7.1,7.1,7.1,7.1,7.1,7.1,7.1,7.1,7.1,7.1,8.0,8.0,8.0,8.0,8.0,8.0,8.0,8.0,8.0,8.0,8.0,8.0,9.0,9.0,9.0,9.0,9.0,9.0,9.0,9.0,10.0,10.0,10.0,10.0,10.0,10.0,10.0,10.0,10.0,10.0,11.0,11.0,11.0,11.0,11.0,11.0,13.0,13.0,13.0,13.0,13.0,13.0,14.0,14.0,14.0,14.0,16.0,16.0,16.0,16.0,16.0],\"mode\":\"markers\",\"marker\":{\"size\":[34.91803310854168,21.989476363991855,21.989476363991855,10.0,31.58744056768155,19.729550745276565,25.89026915173973,20.9861228866811,23.540251005511053,23.19528664807629,16.931471805599454,24.451858789480823,13.465735902799727,24.451858789480823,13.465735902799727,10.0,10.0,27.005986908310778,18.0471895621705,22.82474678730768,16.931471805599454,18.0471895621705,13.465735902799727,13.465735902799727,23.19528664807629,27.16993602242573,30.302215052732095,20.39720770839918,18.958797346140273,18.0471895621705,31.383330595080277,24.16606672028108,19.729550745276565,10.0,13.465735902799727,13.465735902799727,10.0,15.49306144334055,21.51292546497023,15.49306144334055,21.51292546497023,13.465735902799727,10.0,10.0,16.931471805599454,10.0,10.0,18.0471895621705,24.722194895832203,26.479184330021646,10.0,18.958797346140273,13.465735902799727,10.0,10.0,13.465735902799727,16.931471805599454,19.729550745276565,10.0,22.42453324894,10.0,16.931471805599454,10.0,16.931471805599454,15.49306144334055,13.465735902799727,13.465735902799727,23.19528664807629,15.49306144334055,13.465735902799727,13.465735902799727,19.729550745276565,10.0,13.465735902799727,21.989476363991855,10.0,15.49306144334055,16.931471805599454,24.722194895832203,10.0,15.49306144334055,10.0,15.49306144334055,15.49306144334055,18.0471895621705,19.729550745276565,10.0,10.0,10.0,18.958797346140273,18.0471895621705,15.49306144334055,10.0,10.0,10.0,10.0,10.0,10.0,15.49306144334055]},\"name\":\"Sigma or Tamron Lens\"},{\"type\":\"scatter\",\"x\":[18,18,20,21,23,24,26,28,31,32,18,28,31,35,38,40,42,18,26,38,24,48,50,55,28,24,28,48,26,28],\"y\":[3.5,4.0,4.0,4.0,4.0,4.0,4.0,4.0,4.0,4.0,4.5,4.5,4.5,4.5,4.5,4.5,4.5,5.0,5.0,5.0,5.6,5.6,5.6,5.6,6.3,7.1,7.1,7.1,8.0,8.0],\"mode\":\"markers\",\"marker\":{\"size\":[31.972245773362197,27.63180262308081,28.18793079863193,19.729550745276565,28.44439727056968,28.317808230648232,26.66102255087602,28.806000578467813,16.931471805599454,28.56786033352154,19.729550745276565,13.465735902799727,10.0,23.19528664807629,30.871936349478183,28.56786033352154,28.44439727056968,19.729550745276565,25.89026915173973,10.0,10.0,25.45521226679158,29.143206982445477,28.05458956322112,13.465735902799727,10.0,16.931471805599454,13.465735902799727,13.465735902799727,10.0]},\"name\":\"DA 18-55mm F3.5-5.6\"},{\"type\":\"scatter\",\"x\":[18,21,22,18,21,23,25,27,29,32,35,18,21,22,27,29,32,35,39,42,48,50,55,58,65,18,22,23,27,32,35,39,42,50,18,21,29,35,39,42,70,78,85,92,100,110,120,130,142,27,48,65,85,92,100,110,120,142,18,25,27,32,35,70,92,110,25,35,39,42,85,18,50,85,142,18,35,39,48,50,58,70,142,18,29,42,55,58,70,85,142,29,35,85,55,58,18],\"y\":[3.5,3.5,3.5,4.0,4.0,4.0,4.0,4.0,4.0,4.0,4.0,4.5,4.5,4.5,4.5,4.5,4.5,4.5,4.5,4.5,4.5,4.5,4.5,4.5,4.5,5.0,5.0,5.0,5.0,5.0,5.0,5.0,5.0,5.0,5.6,5.6,5.6,5.6,5.6,5.6,5.6,5.6,5.6,5.6,5.6,5.6,5.6,5.6,5.6,6.3,6.3,6.3,6.3,6.3,6.3,6.3,6.3,6.3,7.1,7.1,7.1,7.1,7.1,7.1,7.1,7.1,8.0,8.0,8.0,8.0,8.0,9.0,9.0,9.0,9.0,10.0,10.0,10.0,10.0,10.0,10.0,10.0,10.0,11.0,11.0,11.0,11.0,11.0,11.0,11.0,11.0,13.0,13.0,13.0,14.0,14.0,16.0],\"mode\":\"markers\",\"marker\":{\"size\":[31.84723926233511,19.729550745276565,15.49306144334055,23.540251005511053,10.0,16.931471805599454,24.978661367769952,18.958797346140273,19.729550745276565,16.931471805599454,23.19528664807629,15.49306144334055,13.465735902799727,10.0,13.465735902799727,16.931471805599454,10.0,15.49306144334055,23.862943611198908,16.931471805599454,23.862943611198908,18.0471895621705,24.978661367769952,20.39720770839918,20.9861228866811,19.729550745276565,10.0,10.0,13.465735902799727,15.49306144334055,18.958797346140273,10.0,10.0,10.0,19.729550745276565,10.0,10.0,10.0,13.465735902799727,10.0,24.978661367769952,20.9861228866811,21.51292546497023,22.82474678730768,21.51292546497023,16.931471805599454,22.42453324894,23.19528664807629,18.958797346140273,10.0,10.0,10.0,13.465735902799727,10.0,10.0,10.0,10.0,10.0,13.465735902799727,10.0,18.0471895621705,10.0,10.0,13.465735902799727,13.465735902799727,18.958797346140273,10.0,10.0,10.0,15.49306144334055,26.66102255087602,10.0,10.0,10.0,10.0,20.39720770839918,10.0,10.0,10.0,10.0,10.0,10.0,10.0,10.0,10.0,10.0,10.0,18.0471895621705,13.465735902799727,13.465735902799727,10.0,10.0,10.0,10.0,13.465735902799727,10.0,10.0]},\"name\":\"DA 18-250mm F3.5-6.3\"},{\"type\":\"scatter\",\"x\":[43,43,43,43,43,43,43,43,43,43,43,43,43,43,43,43,43],\"y\":[1.9,2.0,2.2,2.5,2.8,3.2,3.5,4.0,5.0,5.6,6.3,7.1,8.0,9.0,10.0,14.0,16.0],\"mode\":\"markers\",\"marker\":{\"size\":[21.51292546497023,21.51292546497023,21.989476363991855,21.51292546497023,31.023463096954828,19.729550745276565,15.49306144334055,25.45521226679158,10.0,23.862943611198908,26.66102255087602,26.094379124341003,28.05458956322112,23.540251005511053,16.931471805599454,23.19528664807629,13.465735902799727]},\"name\":\"FA 43mm F1.9\"},{\"type\":\"scatter\",\"x\":[28,34,39,53,73,73,85,100,115,135,28,28,34,100,39,39,85,39,100],\"y\":[3.5,4.0,4.0,4.5,4.5,5.6,5.6,5.6,5.6,5.6,6.3,7.1,7.1,7.1,8.0,9.0,10.0,11.0,13.0],\"mode\":\"markers\",\"marker\":{\"size\":[10.0,13.465735902799727,16.931471805599454,16.931471805599454,13.465735902799727,10.0,18.0471895621705,19.729550745276565,15.49306144334055,10.0,16.931471805599454,13.465735902799727,10.0,10.0,10.0,10.0,10.0,13.465735902799727,10.0]},\"name\":\"TAMRON 28-300mm F3.5-6.3\"},{\"type\":\"scatter\",\"x\":[85,85,15,85,50,85,85,85,85,85,85,85,85,85,85,85],\"y\":[2.5,2.8,3.2,3.2,3.5,3.5,4.0,4.5,5.0,5.6,6.3,7.1,8.0,9.0,10.0,11.0],\"mode\":\"markers\",\"marker\":{\"size\":[10.0,18.0471895621705,13.465735902799727,13.465735902799727,10.0,13.465735902799727,18.0471895621705,10.0,18.0471895621705,20.39720770839918,20.9861228866811,22.82474678730768,23.19528664807629,18.958797346140273,10.0,13.465735902799727]},\"name\":\"A Series Lens\"},{\"type\":\"scatter\",\"x\":[50,50,50,50,50,50,50,50,50,50,50,50,50,50],\"y\":[1.8,2.0,2.2,2.5,3.2,3.5,4.0,4.5,5.0,5.6,7.1,8.0,10.0,11.0],\"mode\":\"markers\",\"marker\":{\"size\":[15.49306144334055,25.45521226679158,13.465735902799727,13.465735902799727,10.0,13.465735902799727,10.0,10.0,20.39720770839918,19.729550745276565,10.0,10.0,13.465735902799727,13.465735902799727]},\"name\":\"FA 50mm F1.4\"},{\"type\":\"scatter\",\"x\":[50,50,50,50,50,50,50,50,50],\"y\":[1.8,2.0,2.5,2.8,3.2,3.5,4.0,4.5,5.0],\"mode\":\"markers\",\"marker\":{\"size\":[10.0,20.39720770839918,23.19528664807629,10.0,16.931471805599454,16.931471805599454,23.862943611198908,22.42453324894,10.0]},\"name\":\"50mm\"}];\n",
              "           var layout = \"\";\n",
              "           Plotly.newPlot('feed34f3-2c37-4f26-a98b-0fcfdaff9340', data, layout);\n",
              "        \r\n",
              "});\n",
              "};\r\n",
              "// ensure `require` is available globally\r\n",
              "if ((typeof(require) !==  typeof(Function)) || (typeof(require.config) !== typeof(Function))) {\r\n",
              "    let require_script = document.createElement('script');\r\n",
              "    require_script.setAttribute('src', 'https://cdnjs.cloudflare.com/ajax/libs/require.js/2.3.6/require.min.js');\r\n",
              "    require_script.setAttribute('type', 'text/javascript');\r\n",
              "    \r\n",
              "    \r\n",
              "    require_script.onload = function() {\r\n",
              "        renderPlotly();\r\n",
              "    };\r\n",
              "\r\n",
              "    document.getElementsByTagName('head')[0].appendChild(require_script);\r\n",
              "}\r\n",
              "else {\r\n",
              "    renderPlotly();\r\n",
              "}\r\n",
              "\r\n",
              "</script>\r\n"
            ]
          },
          "metadata": {},
          "output_type": "display_data"
        }
      ],
      "source": [
        "\n",
        "PLOT -Width 1250 -height 600 {\n",
        "    foreach ($lens in $lensList.lensmodel) {\n",
        "        $lensData = $threeWaySplit.$lens\n",
        "        Scatter -name ($lens -replace '(mm.*\\d)\\D*$' , '$1' -replace \"^\\s*(HD|SMC)\\s*Pentax-\", \"\" )`\n",
        "                -Mode \"markers\" -Marker @{'Size'= foreach ($l in $lensData) {10 + 5*[math]::Log($l.images)}}`\n",
        "                -x $(foreach ($l in $lensData) {[int](0 + $l.focalLength )})`\n",
        "                -y $(foreach ($l in $lensData) {0 + [math]::Round([math]::Sqrt([math]::Pow(2,$l.aperture)),1) })\n",
        "    }\n",
        "}"
      ]
    },
    {
      "cell_type": "markdown",
      "metadata": {},
      "source": [
        "# Close the database connection \n",
        "(otherwise Lightroom will be locked out)"
      ]
    },
    {
      "cell_type": "code",
      "execution_count": null,
      "metadata": {
        "dotnet_interactive": {
          "language": "pwsh"
        }
      },
      "outputs": [],
      "source": [
        "lr -Close"
      ]
    }
  ],
  "metadata": {
    "kernelspec": {
      "display_name": ".NET (C#)",
      "language": "C#",
      "name": ".net-csharp"
    },
    "language_info": {
      "file_extension": ".cs",
      "mimetype": "text/x-csharp",
      "name": "C#",
      "pygments_lexer": "csharp",
      "version": "8.0"
    }
  },
  "nbformat": 4,
  "nbformat_minor": 4
}
