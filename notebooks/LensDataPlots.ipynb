{
 "cells": [
  {
   "cell_type": "markdown",
   "metadata": {},
   "source": [
    "# Load plotly support and the getsql module \r\n",
    "Make a connection to the lightroom DSN; this leaves an alias of LR to run the queries"
   ]
  },
  {
   "cell_type": "markdown",
   "metadata": {},
   "source": [
    "Light room uses the following tables, among others \r\n",
    "![lightroom Schema](./schema.png)"
   ]
  },
  {
   "cell_type": "code",
   "execution_count": 1,
   "metadata": {},
   "source": [
    "#!pwsh\r\n",
    "Import-Module ~\\documents\\powershell\\plotly.psm1 \r\n",
    "import-module GetSQL\r\n",
    "Get-sql -Session LR -Connection DSN=LR  "
   ],
   "outputs": [
    {
     "output_type": "execute_result",
     "data": {
      "text/plain": "\r\n"
     },
     "execution_count": 1,
     "metadata": {}
    },
    {
     "output_type": "execute_result",
     "data": {
      "text/plain": "Data Source                    Database                       state\r\n"
     },
     "execution_count": 1,
     "metadata": {}
    },
    {
     "output_type": "execute_result",
     "data": {
      "text/plain": "-----------                    --------                       -----\r\n"
     },
     "execution_count": 1,
     "metadata": {}
    },
    {
     "output_type": "execute_result",
     "data": {
      "text/plain": "C:\\Users\\mcp\\Pictures\\Lightro├ö├ç┬¬                                Open\r\n"
     },
     "execution_count": 1,
     "metadata": {}
    },
    {
     "output_type": "execute_result",
     "data": {
      "text/plain": "\r\n"
     },
     "execution_count": 1,
     "metadata": {}
    }
   ]
  },
  {
   "cell_type": "code",
   "execution_count": 1,
   "metadata": {},
   "source": [
    ""
   ],
   "outputs": []
  },
  {
   "cell_type": "markdown",
   "metadata": {},
   "source": [
    "# Get the 10 most used lenses and all the known apertures.    "
   ]
  },
  {
   "cell_type": "code",
   "execution_count": 1,
   "metadata": {},
   "source": [
    "#!pwsh\r\n",
    "$lensSQL      = \"SELECT count(metadata.image) AS images, LensRef.value AS lensModel\r\n",
    "                 FROM   AgharvestedExifMetadata metadata JOIN AgInternedExifLens LensRef ON LensRef.id_Local = metadata.lensRef\r\n",
    "                 Group by LensRef.value\r\n",
    "                 Order by Images Desc\" \r\n",
    "\r\n",
    "$apertureSQL  = \"SELECT DISTINCT Aperture FROM AgharvestedExifMetadata where Aperture > 0 ORDER BY Aperture \" \r\n",
    "\r\n",
    "$apertureList  = lr $apertureSQL\r\n",
    "$lensList      = lr $lensSQL | Select-Object -First 10 # TOP isn't supported in SQL Lite\r\n",
    ""
   ],
   "outputs": [
    {
     "output_type": "execute_result",
     "data": {
      "text/plain": "31 row(s) returned\r\n"
     },
     "execution_count": 1,
     "metadata": {}
    },
    {
     "output_type": "execute_result",
     "data": {
      "text/plain": "19 row(s) returned\r\n"
     },
     "execution_count": 1,
     "metadata": {}
    }
   ]
  },
  {
   "cell_type": "markdown",
   "metadata": {},
   "source": [
    "# Get a row of data for each lens; \r\n",
    "By querying the number of images for each aperture for that lens, then    \r\n",
    "for each known apperture put either 0 or 1 + log(number of images at that apperture) - scale is better as a log scale   \r\n",
    "So we have a row per lens and each row has a number for every aperture."
   ]
  },
  {
   "cell_type": "code",
   "execution_count": 1,
   "metadata": {},
   "source": [
    "#!pwsh\r\n",
    "$imagesSQL    = @\"\r\n",
    "SELECT    COUNT(metadata.image) AS images, \r\n",
    "          metadata.Aperture,  \r\n",
    "          LensRef.value         AS lensModel\r\n",
    "FROM      AgharvestedExifMetadata metadata \r\n",
    "JOIN      AgInternedExifLens LensRef \r\n",
    "ON        metadata.lensRef = LensRef.id_Local \r\n",
    "WHERE     metadata.Aperture > 0 \r\n",
    "\r\n",
    "AND       lensModel = '{0}'\r\n",
    "\r\n",
    "GROUP BY  metadata.Aperture,  LensRef.value\r\n",
    "\"@\r\n",
    "$logImagecount = foreach ($l in $lensList) {\r\n",
    "    $rowForLens    = @()\r\n",
    "    $ImagesForLens = lr ($imagesSql -f $l.lensmodel)  \r\n",
    "    foreach ($a in $apertureList) {\r\n",
    "        $i = $ImagesForLens.Where({$_.Aperture -eq $a.aperture}).images\r\n",
    "        if ($i) {$rowForLens += ([math]::log10($i) + 1) }\r\n",
    "        else    {$rowForLens += 0 }\r\n",
    "    } \r\n",
    "    @(,$rowForLens)\r\n",
    "}"
   ],
   "outputs": [
    {
     "output_type": "execute_result",
     "data": {
      "text/plain": "22 row(s) returned\r\n"
     },
     "execution_count": 1,
     "metadata": {}
    },
    {
     "output_type": "execute_result",
     "data": {
      "text/plain": "16 row(s) returned\r\n"
     },
     "execution_count": 1,
     "metadata": {}
    },
    {
     "output_type": "execute_result",
     "data": {
      "text/plain": "8 row(s) returned\r\n"
     },
     "execution_count": 1,
     "metadata": {}
    },
    {
     "output_type": "execute_result",
     "data": {
      "text/plain": "16 row(s) returned\r\n"
     },
     "execution_count": 1,
     "metadata": {}
    },
    {
     "output_type": "execute_result",
     "data": {
      "text/plain": "17 row(s) returned\r\n"
     },
     "execution_count": 1,
     "metadata": {}
    },
    {
     "output_type": "execute_result",
     "data": {
      "text/plain": "19 row(s) returned\r\n"
     },
     "execution_count": 1,
     "metadata": {}
    },
    {
     "output_type": "execute_result",
     "data": {
      "text/plain": "16 row(s) returned\r\n"
     },
     "execution_count": 1,
     "metadata": {}
    },
    {
     "output_type": "execute_result",
     "data": {
      "text/plain": "10 row(s) returned\r\n"
     },
     "execution_count": 1,
     "metadata": {}
    },
    {
     "output_type": "execute_result",
     "data": {
      "text/plain": "13 row(s) returned\r\n"
     },
     "execution_count": 1,
     "metadata": {}
    },
    {
     "output_type": "execute_result",
     "data": {
      "text/plain": "13 row(s) returned\r\n"
     },
     "execution_count": 1,
     "metadata": {}
    }
   ]
  },
  {
   "cell_type": "markdown",
   "metadata": {},
   "source": [
    "# Draw a heat map"
   ]
  },
  {
   "cell_type": "code",
   "execution_count": 1,
   "metadata": {},
   "source": [
    "#!pwsh\r\n",
    "#x Axis is f/ stops - convert Lightroom's \"Aperture values\" into f/ number  (f = Square-root of 2^A).  \r\n",
    "#y Axis is lens names. Reduce names like \"SMC Pentax-DA 18-250mm F3.5-6.3 ED AL [IF]\", to \"DA 18-250mm F3.5-6.3\" \r\n",
    "#z is the log of numbers of images for that lens at that apperture\r\n",
    "#Mark the color bar at the logs of  0,1,10,100 etc for that number of images \r\n",
    " \r\n",
    "plot -Layout @{margin= @{l = 250}} {\r\n",
    "    Heatmap -x ($apertureList | ForEach-Object {\"f/\" + [math]::Round([math]::Sqrt([math]::Pow(2,$_.Aperture)),1)}) `\r\n",
    "            -y ($lensList     | ForEach-Object {$_.lensModel -replace '(mm.*\\d)\\D*$' , '$1' -replace \"^\\s*(HD|SMC)\\s*Pentax-\", \"\" }) `\r\n",
    "            -z  $logImagecount -ColorBar @{ tickvals = @(0,1,2,2.4,3,3.4); ticktext= @(\"0\",\"1\",\"10\",\"25\",\"100\",\"250\")}\r\n",
    "}"
   ],
   "outputs": [
    {
     "output_type": "execute_result",
     "data": {
      "text/html": "<div id=\"0d53ac9c-32b2-4fae-a766-48818a6540ba\" style=\"width: 900px; height: 500px;\"></div>\r\n<script type=\"text/javascript\">\r\n\r\nvar renderPlotly = function() {\r\n    var xplotRequire = require.config({context:'xplot-3.0.1',paths:{plotly:'https://cdn.plot.ly/plotly-1.49.2.min'}}) || require;\r\n    xplotRequire(['plotly'], function(Plotly) {\r\n\n            var data = [{\"type\":\"heatmap\",\"z\":[[0,0,0,2.8260748027008264,0,2.568201724066995,2.342422680822206,3.615950051656401,2.8195439355418688,2.3010299956639813,1.845098040014257,2.8920946026904804,2.342422680822206,2.724275869600789,3.0681858617461617,0,2.7323937598229686,2.204119982655925,3.214843848047698,1.3010299956639813,2.9731278535996983,2.4313637641589874,1.0,2.3222192947339195,1.0,1.0,1.6020599913279625,0,0,0,0],[0,0,0,0,0,0,0,0,0,0,0,3.1958996524092336,3.1702617153949575,2.623249290397901,3.413299764081252,0,2.6020599913279625,2.57978359661681,2.9190780923760737,2.6127838567197355,2.568201724066995,2.4771212547196626,2.3222192947339195,2.0,1.845098040014257,0,0,1.4771212547196624,0,1.3010299956639813,1.0],[0,0,0,0,0,0,0,0,0,0,2.9444826721501687,3.48572142648158,3.2810333672477277,2.5051499783199063,3.0755469613925306,0,1.3010299956639813,1.845098040014257,1.4771212547196624,0,0,0,0,0,0,0,0,0,0,0,0],[0,0,0,0,0,0,0,0,0,0,2.949390006644913,2.9395192526186182,3.03342375548695,2.361727836017593,3.1271047983648077,2.4913616938342726,2.690196080028514,2.5563025007672873,2.623249290397901,1.6989700043360187,2.1760912590556813,2.1760912590556813,1.6989700043360187,1.6020599913279625,2.0,0,0,0,1.0,0,0],[0,2.113943352306837,1.7781512503836436,2.230448921378274,0,3.093421685162235,1.7781512503836436,2.3979400086720375,2.623249290397901,1.845098040014257,3.100370545117563,1.3010299956639813,2.7160033436347994,2.8260748027008264,2.4471580313422194,0,0,1.4771212547196624,1.6989700043360187,0,1.0,0,0,0,1.3010299956639813,0,0,0,0,0,0],[0,0,0,0,2.204119982655925,2.230448921378274,1.4771212547196624,1.7781512503836436,3.0211892990699383,2.0,1.9542425094393248,2.6434526764861874,1.4771212547196624,2.6989700043360187,2.3010299956639813,0,1.4771212547196624,2.113943352306837,2.079181246047625,1.4771212547196624,1.3010299956639813,1.6989700043360187,0,0,1.3010299956639813,0,0,1.0,0,0,0],[0,2.380211241711606,1.0,1.6020599913279625,0,2.653212513775344,1.3010299956639813,1.3010299956639813,0,1.0,1.6020599913279625,1.0,1.0,1.845098040014257,2.4471580313422194,0,0,1.9542425094393248,1.0,0,1.3010299956639813,1.3010299956639813,0,0,0,0,0,0,0,0,0],[0,2.113943352306837,0,1.4771212547196624,0,2.342422680822206,0,2.278753600952829,1.6020599913279625,1.6020599913279625,1.9542425094393248,2.3979400086720375,2.079181246047625,1.845098040014257,0,0,0,0,0,0,0,0,0,0,0,0,0,0,0,0,0],[0,0,0,0,0,0,0,0,0,0,1.0,1.6989700043360187,1.7781512503836436,0,2.5314789170422554,0,2.623249290397901,1.6020599913279625,1.6020599913279625,1.0,1.0,1.3010299956639813,1.3010299956639813,0,1.3010299956639813,1.3010299956639813,0,0,0,0,0],[0,0,0,0,0,0,0,0,1.7781512503836436,1.7781512503836436,1.4771212547196624,1.6989700043360187,1.3010299956639813,1.6020599913279625,1.9542425094393248,0,2.0413926851582254,2.0413926851582254,2.146128035678238,1.9030899869919435,1.0,1.3010299956639813,0,0,0,0,0,0,0,0,0]],\"x\":[\"f/1.2\",\"f/1.4\",\"f/1.6\",\"f/1.8\",\"f/1.9\",\"f/2\",\"f/2.2\",\"f/2.5\",\"f/2.8\",\"f/3.2\",\"f/3.5\",\"f/4\",\"f/4.5\",\"f/5\",\"f/5.6\",\"f/6.2\",\"f/6.3\",\"f/7.1\",\"f/8\",\"f/9\",\"f/10\",\"f/11\",\"f/13\",\"f/14\",\"f/16\",\"f/18\",\"f/20\",\"f/22\",\"f/25\",\"f/32\",\"f/36\"],\"y\":[\"FA 77mm F1.8\",\"Sigma or Tamron Lens\",\"DA 18-55mm F3.5-5.6\",\"DA 18-250mm F3.5-6.3\",\"D FA* 85mm F1.4\",\"FA 43mm F1.9\",\"FA 50mm F1.4\",\"50mm\",\"TAMRON 28-300mm F3.5-6.3\",\"A Series Lens\"],\"colorbar\":{\"tickvals\":[0,1,2,2.4,3,3.4],\"ticktext\":[\"0\",\"1\",\"10\",\"25\",\"100\",\"250\"]}}];\n            var layout = {\"margin\":{\"l\":250.0}};\n            Plotly.newPlot('0d53ac9c-32b2-4fae-a766-48818a6540ba', data, layout);\n        \r\n});\r\n};\r\nif ((typeof(require) !==  typeof(Function)) || (typeof(require.config) !== typeof(Function))) {\r\n    var script = document.createElement(\"script\"); \r\n    script.setAttribute(\"src\", \"https://cdnjs.cloudflare.com/ajax/libs/require.js/2.3.6/require.min.js\");\r\n    script.onload = function(){\r\n        renderPlotly();\r\n    };\r\n    document.getElementsByTagName(\"head\")[0].appendChild(script); \r\n}\r\nelse {\r\n    renderPlotly();\r\n}\r\n</script>\r\n"
     },
     "execution_count": 1,
     "metadata": {}
    }
   ]
  },
  {
   "cell_type": "markdown",
   "metadata": {},
   "source": [
    "# Do a new query for aperture and focal length & scatter plot it"
   ]
  },
  {
   "cell_type": "code",
   "execution_count": 1,
   "metadata": {},
   "source": [
    "#!pwsh\r\n",
    "$sql = @\"\r\n",
    "SELECT   COUNT(metadata.image) As Images, \r\n",
    "         metadata.Aperture,  \r\n",
    "         metadata.focalLength, \r\n",
    "         LensRef.value         AS lensModel\r\n",
    "FROM     AgharvestedExifMetadata  metadata  \r\n",
    "JOIN     AgInternedExifLens LensRef \r\n",
    "ON       metadata.lensRef = LensRef.id_Local\r\n",
    "WHERE    metadata.Aperture    BETWEEN 1 AND 8.1 \r\n",
    "AND      metadata.focalLength BETWEEN 9 AND 151\r\n",
    "\r\n",
    "AND      LensRef.value = '{0}'\r\n",
    "\r\n",
    "GROUP BY metadata.Aperture,  metadata.focalLength  \r\n",
    "\"@  \r\n",
    "\r\n",
    "PLOT -Width 1250 -height 600 {\r\n",
    "    foreach ($l in $lensList) {\r\n",
    "        $lensData = lr -q ($sql -f $l.lensModel)  \r\n",
    "        Scatter -name ($l.lensModel  -replace '(mm.*\\d)\\D*$' , '$1' -replace \"^\\s*(HD|SMC)\\s*Pentax-\", \"\" )`\r\n",
    "                -Mode \"markers\" -Marker @{'Size'= foreach ($l in $lensData) {10 + 5*[math]::Log($l.images)}}`\r\n",
    "                -x $(foreach ($l in $lensData) {[int](0 + $l.focalLength )})`\r\n",
    "                -y $(foreach ($l in $lensData) {0 + [math]::Round([math]::Sqrt([math]::Pow(2,$l.aperture)),1) })\r\n",
    "    }\r\n",
    "}\r\n",
    ""
   ],
   "outputs": [
    {
     "output_type": "execute_result",
     "data": {
      "text/html": "<div id=\"27049228-7f4e-460e-ab1f-8ce7d2042a86\" style=\"width: 1250px; height: 600px;\"></div>\r\n<script type=\"text/javascript\">\r\n\r\nvar renderPlotly = function() {\r\n    var xplotRequire = require.config({context:'xplot-3.0.1',paths:{plotly:'https://cdn.plot.ly/plotly-1.49.2.min'}}) || require;\r\n    xplotRequire(['plotly'], function(Plotly) {\r\n\n            var data = [{\"type\":\"scatter\",\"x\":[77,77,77,77,77,77,77,77,77,77,77,77,77,77,77,77,77,77,77,77],\"y\":[1.8,2.0,2.2,2.5,2.8,3.2,3.5,4.0,4.5,5.0,5.6,6.3,7.1,8.0,9.0,10.0,11.0,13.0,14.0,16.0],\"mode\":\"markers\",\"marker\":{\"size\":[31.023463096954828,28.05458956322112,25.45521226679158,40.11723796480517,30.948273710132128,24.978661367769952,19.729550745276565,31.783544133447958,25.45521226679158,29.85145956776061,33.81086967398878,29.944920232821374,23.862943611198908,35.499332139120995,13.465735902799727,32.71647391135002,26.479184330021646,10.0,25.222612188617113,10.0]},\"name\":\"FA 77mm F1.8\"},{\"type\":\"scatter\",\"x\":[10,11,10,11,12,13,14,15,16,17,18,10,11,12,13,14,15,10,11,12,13,14,16,17,18,19,20,21,22,23,24,10,12,13,14,19,20,21,24,10,11,12,13,14,17,18,19,20,24,10,12,13,14,15,16,17,18,19,20,22,24,10,12,14,18,19,22,24,10,11,12,13,14,15,16,18,20,24,10,11,12,19,23,24,10,12,18,19,23,24,10,12,20,24,10,13,14,23,24],\"y\":[4.0,4.0,4.5,4.5,4.5,4.5,4.5,4.5,4.5,4.5,4.5,5.0,5.0,5.0,5.0,5.0,5.0,5.6,5.6,5.6,5.6,5.6,5.6,5.6,5.6,5.6,5.6,5.6,5.6,5.6,5.6,6.3,6.3,6.3,6.3,6.3,6.3,6.3,6.3,7.1,7.1,7.1,7.1,7.1,7.1,7.1,7.1,7.1,7.1,8.0,8.0,8.0,8.0,8.0,8.0,8.0,8.0,8.0,8.0,8.0,8.0,9.0,9.0,9.0,9.0,9.0,9.0,9.0,10.0,10.0,10.0,10.0,10.0,10.0,10.0,10.0,10.0,10.0,11.0,11.0,11.0,11.0,11.0,11.0,13.0,13.0,13.0,13.0,13.0,13.0,14.0,14.0,14.0,14.0,16.0,16.0,16.0,16.0,16.0],\"mode\":\"markers\",\"marker\":{\"size\":[34.91803310854168,21.989476363991855,21.989476363991855,10.0,31.242476210246796,19.729550745276565,25.89026915173973,20.9861228866811,21.989476363991855,21.989476363991855,16.931471805599454,24.451858789480823,13.465735902799727,24.451858789480823,13.465735902799727,10.0,10.0,27.005986908310778,18.0471895621705,22.82474678730768,16.931471805599454,18.0471895621705,13.465735902799727,13.465735902799727,23.862943611198908,27.63180262308081,30.302215052732095,21.989476363991855,18.958797346140273,10.0,31.383330595080277,24.16606672028108,19.729550745276565,10.0,13.465735902799727,13.465735902799727,10.0,20.39720770839918,13.465735902799727,21.51292546497023,15.49306144334055,21.51292546497023,13.465735902799727,10.0,10.0,18.0471895621705,10.0,10.0,16.931471805599454,24.722194895832203,26.479184330021646,10.0,18.958797346140273,13.465735902799727,10.0,10.0,13.465735902799727,16.931471805599454,19.729550745276565,10.0,22.42453324894,10.0,16.931471805599454,10.0,18.958797346140273,15.49306144334055,13.465735902799727,25.89026915173973,15.49306144334055,13.465735902799727,13.465735902799727,19.729550745276565,10.0,13.465735902799727,21.989476363991855,13.465735902799727,15.49306144334055,16.931471805599454,24.722194895832203,10.0,15.49306144334055,10.0,15.49306144334055,15.49306144334055,18.0471895621705,19.729550745276565,10.0,10.0,10.0,18.958797346140273,18.0471895621705,15.49306144334055,10.0,10.0,10.0,10.0,10.0,10.0,15.49306144334055]},\"name\":\"Sigma or Tamron Lens\"},{\"type\":\"scatter\",\"x\":[18,18,20,21,23,24,26,28,31,32,18,28,31,35,38,40,42,18,26,38,24,48,50,55,28,24,28,48,26,28],\"y\":[3.5,4.0,4.0,4.0,4.0,4.0,4.0,4.0,4.0,4.0,4.5,4.5,4.5,4.5,4.5,4.5,4.5,5.0,5.0,5.0,5.6,5.6,5.6,5.6,6.3,7.1,7.1,7.1,8.0,8.0],\"mode\":\"markers\",\"marker\":{\"size\":[32.386684072391034,27.91759469228055,28.18793079863193,20.39720770839918,29.250738008550293,28.806000578467813,27.482537807332402,29.356005054539455,16.931471805599454,29.45910149055313,19.729550745276565,13.465735902799727,10.0,23.19528664807629,31.097538525880534,29.143206982445477,29.85145956776061,19.729550745276565,25.89026915173973,10.0,10.0,25.45521226679158,30.12675845367575,28.44439727056968,13.465735902799727,10.0,16.931471805599454,13.465735902799727,13.465735902799727,10.0]},\"name\":\"DA 18-55mm F3.5-5.6\"},{\"type\":\"scatter\",\"x\":[18,21,22,18,21,23,25,27,29,32,35,18,21,22,27,29,32,35,39,42,48,50,55,58,65,18,22,23,27,32,35,39,42,50,18,21,29,35,39,42,48,70,78,85,92,100,110,120,130,142,27,48,65,85,92,100,110,120,142,18,25,27,32,35,39,48,50,55,58,65,70,92,110,25,35,39,42,85,18,50,85,142,18,35,39,48,50,58,70,142,18,29,42,55,58,70,85,142,29,35,85,55,58,18],\"y\":[3.5,3.5,3.5,4.0,4.0,4.0,4.0,4.0,4.0,4.0,4.0,4.5,4.5,4.5,4.5,4.5,4.5,4.5,4.5,4.5,4.5,4.5,4.5,4.5,4.5,5.0,5.0,5.0,5.0,5.0,5.0,5.0,5.0,5.0,5.6,5.6,5.6,5.6,5.6,5.6,5.6,5.6,5.6,5.6,5.6,5.6,5.6,5.6,5.6,5.6,6.3,6.3,6.3,6.3,6.3,6.3,6.3,6.3,6.3,7.1,7.1,7.1,7.1,7.1,7.1,7.1,7.1,7.1,7.1,7.1,7.1,7.1,7.1,8.0,8.0,8.0,8.0,8.0,9.0,9.0,9.0,9.0,10.0,10.0,10.0,10.0,10.0,10.0,10.0,10.0,11.0,11.0,11.0,11.0,11.0,11.0,11.0,11.0,13.0,13.0,13.0,14.0,14.0,16.0],\"mode\":\"markers\",\"marker\":{\"size\":[31.84723926233511,19.729550745276565,15.49306144334055,23.540251005511053,10.0,16.931471805599454,25.222612188617113,20.9861228866811,19.729550745276565,18.0471895621705,26.094379124341003,15.49306144334055,13.465735902799727,10.0,13.465735902799727,16.931471805599454,10.0,15.49306144334055,24.978661367769952,21.51292546497023,24.16606672028108,19.729550745276565,24.978661367769952,20.39720770839918,21.51292546497023,19.729550745276565,10.0,10.0,13.465735902799727,15.49306144334055,18.958797346140273,10.0,10.0,10.0,19.729550745276565,10.0,10.0,10.0,13.465735902799727,10.0,13.465735902799727,25.45521226679158,20.9861228866811,21.989476363991855,22.82474678730768,21.51292546497023,16.931471805599454,22.42453324894,23.19528664807629,18.958797346140273,10.0,10.0,10.0,13.465735902799727,10.0,10.0,10.0,10.0,10.0,13.465735902799727,10.0,18.0471895621705,10.0,10.0,10.0,10.0,10.0,16.931471805599454,10.0,10.0,13.465735902799727,13.465735902799727,18.958797346140273,10.0,10.0,10.0,15.49306144334055,26.66102255087602,10.0,10.0,10.0,10.0,20.39720770839918,10.0,10.0,10.0,10.0,10.0,10.0,10.0,10.0,10.0,10.0,10.0,18.0471895621705,13.465735902799727,13.465735902799727,10.0,10.0,10.0,10.0,13.465735902799727,10.0,10.0]},\"name\":\"DA 18-250mm F3.5-6.3\"},{\"type\":\"scatter\",\"x\":[85,85,85,85,85,85,85,85,85,85,85,85,85,85,85,85],\"y\":[1.6,1.8,2.0,2.2,2.5,2.8,3.2,3.5,4.0,4.5,5.0,5.6,7.1,8.0,10.0,16.0],\"mode\":\"markers\",\"marker\":{\"size\":[18.958797346140273,24.16606672028108,34.10140782802519,18.958797346140273,26.094379124341003,28.68834809141684,19.729550745276565,34.18140953475739,13.465735902799727,29.75621859290714,31.023463096954828,26.66102255087602,15.49306144334055,18.0471895621705,10.0,13.465735902799727]},\"name\":\"D FA* 85mm F1.4\"},{\"type\":\"scatter\",\"x\":[43,43,43,43,43,43,43,43,43,43,43,43,43,43,43,43,43,43],\"y\":[1.9,2.0,2.2,2.5,2.8,3.2,3.5,4.0,4.5,5.0,5.6,6.3,7.1,8.0,9.0,10.0,11.0,16.0],\"mode\":\"markers\",\"marker\":{\"size\":[23.862943611198908,24.16606672028108,15.49306144334055,18.958797346140273,33.269801750787614,21.51292546497023,20.9861228866811,28.920948169591306,15.49306144334055,29.56011502714073,24.978661367769952,15.49306144334055,22.82474678730768,22.42453324894,15.49306144334055,13.465735902799727,18.0471895621705,13.465735902799727]},\"name\":\"FA 43mm F1.9\"},{\"type\":\"scatter\",\"x\":[50,50,50,50,50,50,50,50,50,50,50,50,50,50,50],\"y\":[1.6,1.8,2.0,2.2,2.5,3.2,3.5,4.0,4.5,5.0,5.6,7.1,8.0,10.0,11.0],\"mode\":\"markers\",\"marker\":{\"size\":[10.0,16.931471805599454,29.033312448851596,13.465735902799727,13.465735902799727,10.0,16.931471805599454,10.0,10.0,19.729550745276565,26.66102255087602,20.9861228866811,10.0,13.465735902799727,13.465735902799727]},\"name\":\"FA 50mm F1.4\"},{\"type\":\"scatter\",\"x\":[50,50,50,50,50,50,50,50,50],\"y\":[1.8,2.0,2.5,2.8,3.2,3.5,4.0,4.5,5.0],\"mode\":\"markers\",\"marker\":{\"size\":[15.49306144334055,25.45521226679158,24.722194895832203,16.931471805599454,16.931471805599454,20.9861228866811,26.094379124341003,22.42453324894,19.729550745276565]},\"name\":\"50mm\"},{\"type\":\"scatter\",\"x\":[28,34,39,53,73,73,85,100,115,135,28,115,28,34,100,39,39,85,39,100],\"y\":[3.5,4.0,4.0,4.5,4.5,5.6,5.6,5.6,5.6,5.6,6.3,6.3,7.1,7.1,7.1,8.0,9.0,10.0,11.0,13.0],\"mode\":\"markers\",\"marker\":{\"size\":[10.0,13.465735902799727,15.49306144334055,16.931471805599454,13.465735902799727,10.0,18.0471895621705,19.729550745276565,15.49306144334055,10.0,15.49306144334055,10.0,13.465735902799727,10.0,10.0,10.0,10.0,10.0,13.465735902799727,10.0]},\"name\":\"TAMRON 28-300mm F3.5-6.3\"},{\"type\":\"scatter\",\"x\":[15,85,15,85,50,85,85,85,85,85,85,85,85,85,85,85],\"y\":[2.8,2.8,3.2,3.2,3.5,3.5,4.0,4.5,5.0,5.6,6.3,7.1,8.0,9.0,10.0,11.0],\"mode\":\"markers\",\"marker\":{\"size\":[13.465735902799727,16.931471805599454,16.931471805599454,13.465735902799727,10.0,13.465735902799727,18.0471895621705,13.465735902799727,15.49306144334055,20.39720770839918,20.9861228866811,21.989476363991855,23.19528664807629,20.39720770839918,10.0,13.465735902799727]},\"name\":\"A Series Lens\"}];\n            var layout = \"\";\n            Plotly.newPlot('27049228-7f4e-460e-ab1f-8ce7d2042a86', data, layout);\n        \r\n});\r\n};\r\nif ((typeof(require) !==  typeof(Function)) || (typeof(require.config) !== typeof(Function))) {\r\n    var script = document.createElement(\"script\"); \r\n    script.setAttribute(\"src\", \"https://cdnjs.cloudflare.com/ajax/libs/require.js/2.3.6/require.min.js\");\r\n    script.onload = function(){\r\n        renderPlotly();\r\n    };\r\n    document.getElementsByTagName(\"head\")[0].appendChild(script); \r\n}\r\nelse {\r\n    renderPlotly();\r\n}\r\n</script>\r\n"
     },
     "execution_count": 1,
     "metadata": {}
    }
   ]
  },
  {
   "cell_type": "markdown",
   "metadata": {},
   "source": [
    "# Close the database connection \r\n",
    "(otherwise Lightroom will be locked out)"
   ]
  },
  {
   "cell_type": "code",
   "execution_count": 1,
   "metadata": {},
   "source": [
    "#!pwsh\r\n",
    "lr -Close"
   ],
   "outputs": []
  },
  {
   "cell_type": "code",
   "execution_count": 1,
   "metadata": {},
   "source": [
    "#!pwsh\r\n",
    ""
   ],
   "outputs": []
  }
 ],
 "metadata": {
  "kernelspec": {
   "display_name": ".NET (C#)",
   "language": "C#",
   "name": ".net-csharp"
  },
  "language_info": {
   "file_extension": ".cs",
   "mimetype": "text/x-csharp",
   "name": "C#",
   "pygments_lexer": "csharp",
   "version": "8.0"
  }
 },
 "nbformat": 4,
 "nbformat_minor": 4
}