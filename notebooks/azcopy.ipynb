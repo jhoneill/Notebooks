{
 "cells": [
  {
   "cell_type": "markdown",
   "metadata": {},
   "source": [
    "## Logon and get creds from keyvault"
   ]
  },
  {
   "cell_type": "code",
   "execution_count": null,
   "metadata": {},
   "outputs": [
    {
     "data": {
      "text/plain": "\r\nAccount                                         SubscriptionName                  TenantId                             Environment\r\n-------                                         ----------------                  --------                             -----------\r\nsubscriptionowner@emsmonitoring.onmicrosoft.com EMS Monitoring Azure Subscription c348c0de-094b-4ffe-bbf1-b533a981f2c4 AzureCloud\r\n\r\n\r\n"
     },
     "output_type": "unknown"
    }
   ],
   "source": [
    "Import-Module az.accounts\n",
    "Connect-AzAccount |Out-String -width 150 #Login via browser. Add params for other methods as needed "
   ]
  },
  {
   "cell_type": "markdown",
   "metadata": {},
   "source": [
    "The exchange to do a browser logon. \n",
    "```\n",
    "https://login.microsoftonline.com/organizations/oauth2/v2.0/authorize?\n",
    "scope=https://management.core.windows.net//.default+\n",
    "           openid\n",
    "           profile\n",
    "           offline_access\n",
    "response_type=code\n",
    "client_id=1950a258-227b-4e31-a9cf-717495945fc2              <== Well known client ID for Azure PowerShell \n",
    "redirect_uri=http://localhost:8400/\n",
    "claims={\"access_token\": {\"xms_cc\":{\"values\": [\"CP1\"]  }}}\n",
    "client-request-id=eb110687-9c3c-4b7e-8d15-607f1f585927\n",
    "x-client-SKU=MSAL.NetCore                            <= MsalAccessTokenAcquirer ?? \n",
    "x-client-Ver=4.23.0.0\n",
    "x-client-OS=Microsoft+Windows+10.0.18363\n",
    "prompt=select_account\n",
    "code_challenge=xxx \n",
    "code_challenge_method=S256\n",
    "state=541f234a-8ac7-4a5e-bff1-fe428eafce23dba10bb3-a3f6-4ddc-8a08-646e19b052ee <== GUID + GUID !? \n",
    "sso_nonce=xxx\n",
    "mscrid=eb110687-9c3c-4b7e-8d15-607f1f585927  <= Same as client -request-id above. \n",
    "\n",
    "http://localhost:8400/?                                                         <= Passed as redirect URI \n",
    "code=0.Axxx                                                                     <== Code to go fetch\n",
    "state=541f234a-8ac7-4a5e-bff1-fe428eafce23dba10bb3-a3f6-4ddc-8a08-646e19b052ee  <= Links to request\n",
    "session_state=2502c53b-bcc3-4a81-83a9-cae9e61b0be4\n",
    "````"
   ]
  },
  {
   "cell_type": "code",
   "execution_count": null,
   "metadata": {},
   "outputs": [
    {
     "data": {
      "text/plain": "\r\nVaultName  Name           Created\r\n---------  ----           -------\r\namkeysprod ADOAdminName   10/03/2021 11:54:36\r\namkeysprod ADOAdminPwd    12/01/2021 13:25:00\r\namkeysprod AppID          15/01/2021 13:15:26\r\namkeysprod saName         12/01/2021 13:25:03\r\namkeysprod saPwd          12/01/2021 13:25:05\r\namkeysprod SPPwd          15/01/2021 13:17:35\r\namkeysprod SubscriptionID 15/01/2021 13:16:18\r\namkeysprod TenantId       15/01/2021 12:53:59\r\n\r\n\r\n"
     },
     "output_type": "unknown"
    }
   ],
   "source": [
    "Import-Module Az.KeyVault \n",
    "$kvName = \"amkeysprod\" # OR whatever\n",
    "$v = Get-Azkeyvault -VaultName $kvName \n",
    "$v | Get-AzKeyVaultSecret | Format-Table vaultName,Name, Created  |Out-String # just so we can see that we can in the next step. "
   ]
  },
  {
   "cell_type": "code",
   "execution_count": null,
   "metadata": {},
   "outputs": [
    {
     "data": {
      "text/plain": "60c64680-93ea-4675-8d01-878a426abfad\r\n"
     },
     "output_type": "unknown"
    }
   ],
   "source": [
    "$Tenantid =  $v | Get-AzKeyVaultSecret -Name Tenantid -AsPlainText\n",
    "$AppID    =  $v | Get-AzKeyVaultSecret -Name AppID    -AsPlainText\n",
    "$SPPwd    =  $v | Get-AzKeyVaultSecret -Name SPPwd   -AsPlainText     \n",
    "#No we're not going to print them in the notebook \n",
    "$appid"
   ]
  },
  {
   "cell_type": "markdown",
   "metadata": {},
   "source": [
    "## AzCopy - try logging on with creds from the vault and accessing blob containers\n",
    "\n",
    "[Link to the the docs](https://docs.microsoft.com/en-us/azure/storage/common/storage-use-azcopy-v10)  \n",
    "\n",
    "It is preinstalled in Machines running Azure pipelines.  [Download link for local use ](https://aka.ms/downloadazcopy-v10-windows)  When it goes out of date you get a message like this:\n",
    "\n",
    "`INFO: azcopy.exe: A newer version 10.10.0 is available to download`\n",
    "\n",
    "[Another useful link I have bookmarked](https://adamtheautomator.com/azure-sas-token/)\n"
   ]
  },
  {
   "cell_type": "code",
   "execution_count": null,
   "metadata": {},
   "outputs": [
    {
     "data": {
      "text/plain": "INFO: If you set an environment variable by using the command line, that variable will be readable in your command line history. Consider clearing variables that contain credentials from your command line history.  To keep variables from appearing in your history, you can use a script to prompt the user for their credentials, and to set the environment variable.\r\n"
     },
     "output_type": "unknown"
    },
    {
     "data": {
      "text/plain": "INFO: SPN Auth via secret succeeded.\r\n"
     },
     "output_type": "unknown"
    }
   ],
   "source": [
    "del Env:\\AZCOPY_CRED_TYPE -ErrorAction SilentlyContinue\n",
    "if (Test-Path 'C:\\Program Files\\AzCopy\\azcopy.exe') {\n",
    "    Push-Location 'C:\\Program Files\\AzCopy'\n",
    "    $env:AZCOPY_SPA_CLIENT_SECRET = $sppwd \n",
    "    .\\azcopy.exe login  --service-principal --application-id $appID --tenant-id $tenantID\n",
    "}"
   ]
  },
  {
   "cell_type": "markdown",
   "metadata": {},
   "source": [
    "**Our container will fail with this style of login** \n",
    "\n",
    "The Service account could logon (and can enumerate containers - if the container is omitted from the URI below we get an error per container)     \n",
    "*but we can't use that logon to see the contents of a containers*. \n",
    "\n",
    "Azcopy has this message *To be authorized to your Azure Storage account, you must assign the **Storage Blob Data Contributor** role to your user account in the context of either the Storage account, parent resource group or parent subscription.* but even granting that role  or doing Azcopy login to interactively login as the subscription owner doesn't give access this way."
   ]
  },
  {
   "cell_type": "code",
   "execution_count": null,
   "metadata": {},
   "outputs": [
    {
     "data": {
      "text/plain": "INFO: Authenticating to destination using Azure AD\r\n\r\nfailed to traverse container: cannot list files due to reason -> github.com/Azure/azure-storage-blob-go/azblob.newStorageError, /home/vsts/go/pkg/mod/github.com/!azure/azure-storage-blob-go@v0.10.1-0.20210407023846-16cf969ec1c3/azblob/zc_storage_error.go:42\r\n===== RESPONSE ERROR (ServiceCode=AuthorizationPermissionMismatch) =====\r\nDescription=This request is not authorized to perform this operation using this permission.\r\nRequestId:74e5835b-a01e-005d-6ad2-316f7f000000\r\nTime:2021-04-15T08:34:23.8478277Z, Details: \r\n   Code: AuthorizationPermissionMismatch\r\n   GET https://saamdocuments.blob.core.windows.net/amdev-moj?comp=list&delimiter=%2F&include=metadata&restype=container&timeout=901\r\n   Authorization: REDACTED\r\n   User-Agent: [AzCopy/10.10.0 Azure-Storage/0.13 (go1.15; Windows_NT)]\r\n   X-Ms-Client-Request-Id: [b3c2c63a-b711-4dc5-7c47-f3937b17b95b]\r\n   X-Ms-Version: [2019-12-12]\r\n   --------------------------------------------------------------------------------\r\n   RESPONSE Status: 403 This request is not authorized to perform this operation using this permission.\r\n   Content-Length: [279]\r\n   Content-Type: [application/xml]\r\n   Date: [Thu, 15 Apr 2021 08:34:23 GMT]\r\n   Server: [Windows-Azure-Blob/1.0 Microsoft-HTTPAPI/2.0]\r\n   X-Ms-Client-Request-Id: [b3c2c63a-b711-4dc5-7c47-f3937b17b95b]\r\n   X-Ms-Error-Code: [AuthorizationPermissionMismatch]\r\n   X-Ms-Request-Id: [74e5835b-a01e-005d-6ad2-316f7f000000]\r\n   X-Ms-Version: [2019-12-12]\r\n\r\n\r\n\r\n\r\n"
     },
     "output_type": "unknown"
    },
    {
     "data": {
      "text/plain": "INFO: Logout succeeded.\r\n"
     },
     "output_type": "unknown"
    }
   ],
   "source": [
    ".\\azcopy.exe  list \"https://saamdocuments.blob.core.windows.net/amdev-moj\"  | out-string\n",
    ".\\azcopy.exe  logout\n",
    "Pop-location\n",
    "del Env:\\AZCOPY_SPA_CLIENT_SECRET\n"
   ]
  },
  {
   "cell_type": "markdown",
   "metadata": {},
   "source": [
    "## PowerShell access to blob containers and contents. "
   ]
  },
  {
   "cell_type": "code",
   "execution_count": null,
   "metadata": {},
   "outputs": [
    {
     "data": {
      "text/plain": "\r\nStorageAccountName  ResourceGroupName              PrimaryLocation SkuName      Kind      AccessTier CreationTime        ProvisioningState EnableHttps\r\n                                                                                                                                           TrafficOnly\r\n------------------  -----------------              --------------- -------      ----      ---------- ------------        ----------------- -----------\r\ncsb1003200108f87531 cloud-shell-storage-westeurope westeurope      Standard_LRS StorageV2 Hot        26/01/2021 13:59:17 Succeeded         True       \r\ncsb1003200108f8758e cloud-shell-storage-westeurope westeurope      Standard_LRS StorageV2 Hot        12/01/2021 11:51:15 Succeeded         True       \r\ncsb100320010992082d cloud-shell-storage-westeurope westeurope      Standard_LRS StorageV2 Hot        06/01/2021 15:44:09 Succeeded         True       \r\nsaamdiaglogging     rg-amProd-moj                  uksouth         Standard_LRS StorageV2 Hot        09/03/2021 12:16:22 Succeeded         True       \r\nsaamdocuments       rg-amProd-moj                  uksouth         Standard_ZRS StorageV2 Hot        08/03/2021 17:14:55 Succeeded         True       \r\nsaamproddocuments   rg-amProd-moj                  uksouth         Standard_GRS StorageV2 Hot        23/03/2021 11:22:23 Succeeded         True       \r\nsqlvad7rybi7nqpjkq  rg-amProd-moj                  uksouth         Standard_LRS StorageV2 Hot        13/01/2021 16:44:43 Succeeded         True       \r\nsqlva32uyitidm6olq  rg-amprod-moj                  ukwest          Standard_LRS StorageV2 Hot        11/02/2021 12:25:56 Succeeded         True       \r\n\r\n\r\n"
     },
     "output_type": "unknown"
    }
   ],
   "source": [
    "ipmo az.storage\n",
    "Get-AzStorageAccount |Out-String -Width 150"
   ]
  },
  {
   "cell_type": "markdown",
   "metadata": {},
   "source": [
    "The next cell sets up a context. \n",
    "\n",
    "We need to be logged on to get the storage account key (and I don't want to save it here!)      \n",
    "but **with a context we don't need to be logged into to Azure**.  \n",
    "\n",
    "So the `Get-AzStorageBlob -context` isn't dependent on the logon. and for a pipeline we'd have     \n",
    "storage-account-key => keyvault => variable group => environment variable  "
   ]
  },
  {
   "cell_type": "code",
   "execution_count": null,
   "metadata": {},
   "outputs": [
    {
     "data": {
      "text/plain": ""
     },
     "output_type": "unknown"
    },
    {
     "data": {
      "text/plain": "\r\nName                                                                    Length ContentType                                                             LastModified\r\n----                                                                    ------ -----------                                                             ------------\r\nAAMR0205/ORD0093/Enforcement Documents/ENF (1) (1) (1) (2) (1) (1).docx  11820 application/vnd.openxmlformats-officedocument.wordprocessingml.document 26/03/2021 08:39:14 +00:00\r\n\r\n\r\n"
     },
     "output_type": "unknown"
    }
   ],
   "source": [
    "$sa      = Get-AzStorageAccount | where StorageAccountName -eq \"saamdocuments\"\n",
    "$context = New-AzStorageContext -StorageAccountName $sa.StorageAccountName -StorageAccountKey  ($sa | Get-AzStorageAccountKey | where keyName -eq \"key1\").value \n",
    "Get-AzStorageBlob -Container \"amdev-moj\" -Context $Context | ft name, length, contenttype,LastModified -a | out-string -Width 200"
   ]
  },
  {
   "cell_type": "markdown",
   "metadata": {},
   "source": [
    "`Get-AzStorageBlobContent` Copies a blob to the local machine - again with context we don't need to be logged on. Local folder creation is automatic.  "
   ]
  },
  {
   "cell_type": "code",
   "execution_count": null,
   "metadata": {},
   "outputs": [
    {
     "data": {
      "text/plain": ""
     },
     "output_type": "unknown"
    },
    {
     "data": {
      "text/plain": "\r\n"
     },
     "output_type": "unknown"
    },
    {
     "data": {
      "text/plain": "   AccountName: saamdocuments, ContainerName: amdev-moj\r\n"
     },
     "output_type": "unknown"
    },
    {
     "data": {
      "text/plain": "\r\n"
     },
     "output_type": "unknown"
    },
    {
     "data": {
      "text/plain": "Name                 BlobType  Length          ContentType                    LastModified\r\n"
     },
     "output_type": "unknown"
    },
    {
     "data": {
      "text/plain": "----                 --------  ------          -----------                    ------------        \r\n"
     },
     "output_type": "unknown"
    },
    {
     "data": {
      "text/plain": "AAMR0205/ORD0093/En… BlockBlob 11820           application/vnd.openxmlformat… 2021-03-26 08:39:14Z\r\n"
     },
     "output_type": "unknown"
    },
    {
     "data": {
      "text/plain": "\r\n"
     },
     "output_type": "unknown"
    }
   ],
   "source": [
    "Get-AzStorageBlob -Container \"amdev-moj\" -Context $Context | Get-AzStorageBlobContent -Destination \\temp"
   ]
  },
  {
   "cell_type": "code",
   "execution_count": null,
   "metadata": {},
   "outputs": [
    {
     "data": {
      "text/plain": "\r\n    Directory: C:\\temp\\AAMR0205\\ORD0093\\Enforcement Documents\r\n\r\nMode                 LastWriteTime         Length Name\r\n----                 -------------         ------ ----\r\n-a---          14/04/2021    16:00          11820 ENF (1) (1) (1) (2) (1) (1).docx\r\n\r\n\r\n"
     },
     "output_type": "unknown"
    }
   ],
   "source": [
    "dir 'C:\\temp\\AAMR0205\\ORD0093\\Enforcement Documents' | Out-String"
   ]
  },
  {
   "cell_type": "markdown",
   "metadata": {},
   "source": [
    "## Creating a Sas token for blob containers and using it with AzCopy\n",
    "**We have already created a storage context** (so we don't need to logon). \n",
    "\n",
    "Create a SAS-Token which is valid for one container, from the local ip, for 10 Minutes over HTTPS."
   ]
  },
  {
   "cell_type": "code",
   "execution_count": null,
   "metadata": {},
   "outputs": [],
   "source": [
    "$myIp = (Invoke-WebRequest http://api.ipify.org/).content\n",
    "$myip"
   ]
  },
  {
   "cell_type": "code",
   "execution_count": null,
   "metadata": {},
   "outputs": [
    {
     "data": {
      "text/plain": "https://saamdocuments.blob.core.windows.net/amdev-moj\nsv=2019-07-07\nsr=c\nsig=Eq2yJozFj%2F9WvCUKKwciAqD3J5oMincGKxWBxH6x850%3D\nspr=https\nsip=81.109.118.32\nse=2021-04-15T09%3A11%3A47Z\nsp=rwdl\r\n"
     },
     "output_type": "unknown"
    }
   ],
   "source": [
    "(New-AzStorageContainerSASToken -Context $context -name 'amdev-moj' -ExpiryTime ([datetime]::now.AddMinutes(10)) `\n",
    "   -FullUri -IPAddressOrRange $myip -Permission 'rwdl' -Protocol  httpsOnly -OutVariable sastoken) -replace '\\?|&',\"`n\""
   ]
  },
  {
   "cell_type": "markdown",
   "metadata": {},
   "source": [
    "Token breaks down like this:\n",
    "\n",
    "```\n",
    "https://<<Storage Account Name>>.blob.core.windows.net/<<Storage Account Name>>\n",
    "sv=2019-07-07                <<Sevice version>>\n",
    "sr=c                         <<Storage resource  c=container , b=blob, s=share etc. >>\n",
    "spr=https                    <<Protocol  only one option for this \"httpsonly\"  >>\n",
    "sip=81.109.118.32            <<IP>>\n",
    "se=2021-04-15T09%3A11%3A47Z  <<Expiry time   st= would be start time we didn't request one>>\n",
    "sp=rwdl                      <<Permissions read , write, delete, list >>\n",
    "sig=Eq2yJoz...               <<Signature ties the above to a key>>\n",
    "```"
   ]
  },
  {
   "cell_type": "code",
   "execution_count": null,
   "metadata": {},
   "outputs": [
    {
     "data": {
      "text/plain": "INFO: Scanning...\r\n"
     },
     "output_type": "unknown"
    },
    {
     "data": {
      "text/plain": "INFO: Any empty folders will not be processed, because source and/or destination doesn't have full folder support\r\n"
     },
     "output_type": "unknown"
    },
    {
     "data": {
      "text/plain": "\r\n"
     },
     "output_type": "unknown"
    },
    {
     "data": {
      "text/plain": "Job 45b432ee-16a7-7b4c-5d58-3f0d9c6a2a50 has started\r\n"
     },
     "output_type": "unknown"
    },
    {
     "data": {
      "text/plain": "Log file is located at: C:\\Users\\P10506111\\.azcopy\\45b432ee-16a7-7b4c-5d58-3f0d9c6a2a50.log\r\n"
     },
     "output_type": "unknown"
    },
    {
     "data": {
      "text/plain": "\r\n"
     },
     "output_type": "unknown"
    },
    {
     "data": {
      "text/plain": "\r\n"
     },
     "output_type": "unknown"
    },
    {
     "data": {
      "text/plain": "0.0 %, 0 Done, 0 Failed, 1 Pending, 0 Skipped, 1 Total, \r\n"
     },
     "output_type": "unknown"
    },
    {
     "data": {
      "text/plain": "\r\n"
     },
     "output_type": "unknown"
    },
    {
     "data": {
      "text/plain": "\r\n"
     },
     "output_type": "unknown"
    },
    {
     "data": {
      "text/plain": "Job 45b432ee-16a7-7b4c-5d58-3f0d9c6a2a50 summary\r\n"
     },
     "output_type": "unknown"
    },
    {
     "data": {
      "text/plain": "Elapsed Time (Minutes): 0.0334\r\n"
     },
     "output_type": "unknown"
    },
    {
     "data": {
      "text/plain": "Number of File Transfers: 1\r\n"
     },
     "output_type": "unknown"
    },
    {
     "data": {
      "text/plain": "Number of Folder Property Transfers: 0\r\n"
     },
     "output_type": "unknown"
    },
    {
     "data": {
      "text/plain": "Total Number of Transfers: 1\r\n"
     },
     "output_type": "unknown"
    },
    {
     "data": {
      "text/plain": "Number of Transfers Completed: 1\r\n"
     },
     "output_type": "unknown"
    },
    {
     "data": {
      "text/plain": "Number of Transfers Failed: 0\r\n"
     },
     "output_type": "unknown"
    },
    {
     "data": {
      "text/plain": "Number of Transfers Skipped: 0\r\n"
     },
     "output_type": "unknown"
    },
    {
     "data": {
      "text/plain": "TotalBytesTransferred: 11820\r\n"
     },
     "output_type": "unknown"
    },
    {
     "data": {
      "text/plain": "Final Job Status: Completed\r\n"
     },
     "output_type": "unknown"
    },
    {
     "data": {
      "text/plain": "\r\n"
     },
     "output_type": "unknown"
    }
   ],
   "source": [
    "del Env:\\AZCOPY_SPA_CLIENT_SECRET -ErrorAction SilentlyContinue\n",
    "if (Test-Path 'C:\\Program Files\\AzCopy\\azcopy.exe') {\n",
    "    Push-Location 'C:\\Program Files\\AzCopy'\n",
    "    $env:AZCOPY_CRED_TYPE = \"Anonymous\";\n",
    "    .\\azcopy.exe  copy $sasToken C:\\temp\\azcopy\\ --recursive --overwrite true\n",
    "}"
   ]
  },
  {
   "cell_type": "code",
   "execution_count": null,
   "metadata": {},
   "outputs": [
    {
     "data": {
      "text/plain": "2021/04/14 15:30:42 AzcopyVersion  10.9.0\n2021/04/14 15:30:42 OS-Environment  windows\n2021/04/14 15:30:42 OS-Architecture  amd64\n2021/04/14 15:30:42 Log times are in UTC. Local time is 14 Apr 2021 16:30:42\n2021/04/14 15:30:42 Job-Command copy https://saamdocuments.blob.core.windows.net/amdev-moj?se=2021-04-14t15%3A36%3A35z&sig=-REDACTED-&sip=81.109.118.32&sp=rwdl&spr=https&sr=c&sv=2019-07-07 C:\\temp\\azcopy\\ --recursive --overwrite true \n2021/04/14 15:30:42 Number of CPUs: 8\n2021/04/14 15:30:43 Max file buffer RAM 4.000 GB\n2021/04/14 15:30:43 Max concurrent network operations: 128 (Based on number of CPUs. Set AZCOPY_CONCURRENCY_VALUE environment variable to override)\n2021/04/14 15:30:43 Check CPU usage when dynamically tuning concurrency: true (Based on hard-coded default. Set AZCOPY_TUNE_TO_CPU environment variable to true or false override)\n2021/04/14 15:30:43 Max concurrent transfer initiation routines: 64 (Based on hard-coded default. Set AZCOPY_CONCURRENT_FILES environment variable to override)\n2021/04/14 15:30:43 Max enumeration routines: 16 (Based on hard-coded default. Set AZCOPY_CONCURRENT_SCAN environment variable to override)\n2021/04/14 15:30:43 Parallelize getting file properties (file.Stat): false (Based on AZCOPY_PARALLEL_STAT_FILES environment variable)\n2021/04/14 15:30:43 Max open files when downloading: 2147483119 (auto-computed)\n2021/04/14 15:30:43 ISO 8601 START TIME: to copy files that changed before or after this job started, use the parameter --include-before=2021-04-14T15:30:37Z or --include-after=2021-04-14T15:30:37Z\n2021/04/14 15:30:43 Any empty folders will not be processed, because source and/or destination doesn't have full folder support\n2021/04/14 15:30:43 Final job part has been created\n2021/04/14 15:30:43 JobID=45b432ee-16a7-7b4c-5d58-3f0d9c6a2a50, credential type: Anonymous\n2021/04/14 15:30:43 scheduling JobID=45b432ee-16a7-7b4c-5d58-3f0d9c6a2a50, Part#=0, Transfer#=0, priority=0\n2021/04/14 15:30:43 Final job part has been scheduled\n2021/04/14 15:30:43 PERF: primary performance constraint is Unknown. States: C:  0, R:  0, W:  0, F:  0, H:  0, B:  0, S:  0, P:  0, Q:  0, D:  0, E:  0, T:  0, GRs:  0\n2021/04/14 15:30:43 0.0 %, 0 Done, 0 Failed, 1 Pending, 0 Skipped, 1 Total, \n2021/04/14 15:30:43 INFO: [P#0-T#0] has worker 21 which is processing TRANSFER\n2021/04/14 15:30:43 ==> REQUEST/RESPONSE (Try=1/46.8386ms, OpTime=134.5835ms) -- RESPONSE SUCCESSFULLY RECEIVED\r\n   GET https://saamdocuments.blob.core.windows.net/amdev-moj/AAMR0205/ORD0093/Enforcement%20Documents/ENF%20%281%29%20%281%29%20%281%29%20%282%29%20%281%29%20%281%29.docx?se=2021-04-14t15%3A36%3A35z&sig=-REDACTED-&sip=81.109.118.32&sp=rwdl&spr=https&sr=c&sv=2019-07-07&timeout=901\r\n   X-Ms-Request-Id: [4dc652b6-501e-004a-6443-310e53000000]\r\n\n2021/04/14 15:30:43 INFO: [P#0-T#0] DOWNLOADSUCCESSFUL: \\\\?\\C:\\temp\\azcopy\\amdev-moj\\AAMR0205\\ORD0093\\Enforcement Documents\\ENF (1) (1) (1) (2) (1) (1).docx\n2021/04/14 15:30:43 JobID=45b432ee-16a7-7b4c-5d58-3f0d9c6a2a50, Part#=0, TransfersDone=1 of 1\n2021/04/14 15:30:43 all parts of entire Job 45b432ee-16a7-7b4c-5d58-3f0d9c6a2a50 successfully completed, cancelled or paused\n2021/04/14 15:30:45 PERF: primary performance constraint is Unknown. States: C:  0, R:  0, W:  0, F:  0, H:  0, B:  0, S:  0, P:  0, Q:  0, D:  0, E:  0, T:  0, GRs: 128\n2021/04/14 15:30:45 \r\n\r\nDiagnostic stats:\r\nIOPS: 0\r\nEnd-to-end ms per request: 134\r\nNetwork Errors: 0.00%\r\nServer Busy: 0.00%\r\n\r\n\r\nJob 45b432ee-16a7-7b4c-5d58-3f0d9c6a2a50 summary\r\nElapsed Time (Minutes): 0.0334\r\nNumber of File Transfers: 1\r\nNumber of Folder Property Transfers: 0\r\nTotal Number of Transfers: 1\r\nNumber of Transfers Completed: 1\r\nNumber of Transfers Failed: 0\r\nNumber of Transfers Skipped: 0\r\nTotalBytesTransferred: 11820\r\nFinal Job Status: Completed\r\n\n\r\n"
     },
     "output_type": "unknown"
    }
   ],
   "source": [
    "type -raw C:\\Users\\P10506111\\.azcopy\\45b432ee-16a7-7b4c-5d58-3f0d9c6a2a50.log "
   ]
  },
  {
   "cell_type": "markdown",
   "metadata": {},
   "source": [
    "Copy in the other direction"
   ]
  },
  {
   "cell_type": "code",
   "execution_count": null,
   "metadata": {},
   "outputs": [
    {
     "data": {
      "text/plain": "INFO: Scanning...\r\n"
     },
     "output_type": "unknown"
    },
    {
     "data": {
      "text/plain": "INFO: Any empty folders will not be processed, because source and/or destination doesn't have full folder support\r\n"
     },
     "output_type": "unknown"
    },
    {
     "data": {
      "text/plain": "\r\n"
     },
     "output_type": "unknown"
    },
    {
     "data": {
      "text/plain": "Job b922d5a3-d10d-ee4a-717a-e7449046db47 has started\r\n"
     },
     "output_type": "unknown"
    },
    {
     "data": {
      "text/plain": "Log file is located at: C:\\Users\\P10506111\\.azcopy\\b922d5a3-d10d-ee4a-717a-e7449046db47.log\r\n"
     },
     "output_type": "unknown"
    },
    {
     "data": {
      "text/plain": "\r\n"
     },
     "output_type": "unknown"
    },
    {
     "data": {
      "text/plain": "\r\n"
     },
     "output_type": "unknown"
    },
    {
     "data": {
      "text/plain": "0.0 %, 0 Done, 0 Failed, 13 Pending, 0 Skipped, 13 Total, \r\n"
     },
     "output_type": "unknown"
    },
    {
     "data": {
      "text/plain": "\r\n"
     },
     "output_type": "unknown"
    },
    {
     "data": {
      "text/plain": "\r\n"
     },
     "output_type": "unknown"
    },
    {
     "data": {
      "text/plain": "Job b922d5a3-d10d-ee4a-717a-e7449046db47 summary\r\n"
     },
     "output_type": "unknown"
    },
    {
     "data": {
      "text/plain": "Elapsed Time (Minutes): 0.0334\r\n"
     },
     "output_type": "unknown"
    },
    {
     "data": {
      "text/plain": "Number of File Transfers: 13\r\n"
     },
     "output_type": "unknown"
    },
    {
     "data": {
      "text/plain": "Number of Folder Property Transfers: 0\r\n"
     },
     "output_type": "unknown"
    },
    {
     "data": {
      "text/plain": "Total Number of Transfers: 13\r\n"
     },
     "output_type": "unknown"
    },
    {
     "data": {
      "text/plain": "Number of Transfers Completed: 13\r\n"
     },
     "output_type": "unknown"
    },
    {
     "data": {
      "text/plain": "Number of Transfers Failed: 0\r\n"
     },
     "output_type": "unknown"
    },
    {
     "data": {
      "text/plain": "Number of Transfers Skipped: 0\r\n"
     },
     "output_type": "unknown"
    },
    {
     "data": {
      "text/plain": "TotalBytesTransferred: 54726\r\n"
     },
     "output_type": "unknown"
    },
    {
     "data": {
      "text/plain": "Final Job Status: Completed\r\n"
     },
     "output_type": "unknown"
    },
    {
     "data": {
      "text/plain": "\r\n"
     },
     "output_type": "unknown"
    }
   ],
   "source": [
    ".\\azcopy.exe  copy C:\\temp\\source $sasToken  --recursive --overwrite true"
   ]
  },
  {
   "cell_type": "markdown",
   "metadata": {},
   "source": [
    "**Time passes ....**\n",
    "\n",
    "The token expires"
   ]
  },
  {
   "cell_type": "code",
   "execution_count": null,
   "metadata": {},
   "outputs": [
    {
     "data": {
      "text/plain": "\r\n"
     },
     "output_type": "unknown"
    },
    {
     "data": {
      "text/plain": "failed to traverse container: cannot list files due to reason -> github.com/Azure/azure-storage-blob-go/azblob.newStorageError, /home/vsts/go/pkg/mod/github.com/!azure/azure-storage-blob-go@v0.10.1-0.20210205091829-70af83555b62/azblob/zc_storage_error.go:42\r\n"
     },
     "output_type": "unknown"
    },
    {
     "data": {
      "text/plain": "===== RESPONSE ERROR (ServiceCode=AuthenticationFailed) =====\r\n"
     },
     "output_type": "unknown"
    },
    {
     "data": {
      "text/plain": "Description=Server failed to authenticate the request. Make sure the value of Authorization header is formed correctly including the signature.\r\n"
     },
     "output_type": "unknown"
    },
    {
     "data": {
      "text/plain": "RequestId:c7e4b32a-a01e-0019-6744-311066000000\r\n"
     },
     "output_type": "unknown"
    },
    {
     "data": {
      "text/plain": "Time:2021-04-14T15:39:46.9069514Z, Details: \r\n"
     },
     "output_type": "unknown"
    },
    {
     "data": {
      "text/plain": "   AuthenticationErrorDetail: Signed expiry time [Wed, 14 Apr 2021 15:36:35 GMT] must be after signed start time [Wed, 14 Apr 2021 15:39:46 GMT]\r\n"
     },
     "output_type": "unknown"
    },
    {
     "data": {
      "text/plain": "   Code: AuthenticationFailed\r\n"
     },
     "output_type": "unknown"
    },
    {
     "data": {
      "text/plain": "   GET https://saamdocuments.blob.core.windows.net/amdev-moj?comp=list&delimiter=%2F&include=metadata&restype=container&se=2021-04-14t15%3A36%3A35z&sig=-REDACTED-&sip=81.109.118.32&sp=rwdl&spr=https&sr=c&sv=2019-07-07&timeout=901\r\n"
     },
     "output_type": "unknown"
    },
    {
     "data": {
      "text/plain": "   User-Agent: [AzCopy/10.9.0 Azure-Storage/0.13 (go1.15; Windows_NT)]\r\n"
     },
     "output_type": "unknown"
    },
    {
     "data": {
      "text/plain": "   X-Ms-Client-Request-Id: [20a73ede-038f-494a-57bb-00629e58f4c9]\r\n"
     },
     "output_type": "unknown"
    },
    {
     "data": {
      "text/plain": "   X-Ms-Version: [2019-12-12]\r\n"
     },
     "output_type": "unknown"
    },
    {
     "data": {
      "text/plain": "   --------------------------------------------------------------------------------\r\n"
     },
     "output_type": "unknown"
    },
    {
     "data": {
      "text/plain": "   RESPONSE Status: 403 Server failed to authenticate the request. Make sure the value of Authorization header is formed correctly including the signature.\r\n"
     },
     "output_type": "unknown"
    },
    {
     "data": {
      "text/plain": "   Content-Length: [489]\r\n"
     },
     "output_type": "unknown"
    },
    {
     "data": {
      "text/plain": "   Content-Type: [application/xml]\r\n"
     },
     "output_type": "unknown"
    },
    {
     "data": {
      "text/plain": "   Date: [Wed, 14 Apr 2021 15:39:45 GMT]\r\n"
     },
     "output_type": "unknown"
    },
    {
     "data": {
      "text/plain": "   Server: [Microsoft-HTTPAPI/2.0]\r\n"
     },
     "output_type": "unknown"
    },
    {
     "data": {
      "text/plain": "   X-Ms-Error-Code: [AuthenticationFailed]\r\n"
     },
     "output_type": "unknown"
    },
    {
     "data": {
      "text/plain": "   X-Ms-Request-Id: [c7e4b32a-a01e-0019-6744-311066000000]\r\n"
     },
     "output_type": "unknown"
    },
    {
     "data": {
      "text/plain": "\r\n"
     },
     "output_type": "unknown"
    },
    {
     "data": {
      "text/plain": "\r\n"
     },
     "output_type": "unknown"
    },
    {
     "data": {
      "text/plain": "\r\n"
     },
     "output_type": "unknown"
    }
   ],
   "source": [
    ".\\azcopy.exe  list $sasToken"
   ]
  },
  {
   "cell_type": "code",
   "execution_count": null,
   "metadata": {},
   "outputs": [],
   "source": [
    "del  Env:\\AZCOPY_CRED_TYPE -ErrorAction SilentlyContinue\n",
    "Pop-Location"
   ]
  },
  {
   "cell_type": "markdown",
   "metadata": {},
   "source": [
    "## File share instead of blob containers. \n",
    "\n",
    "Change of storage account. **Create new context**\n",
    "\n"
   ]
  },
  {
   "cell_type": "code",
   "execution_count": null,
   "metadata": {},
   "outputs": [
    {
     "data": {
      "text/plain": ""
     },
     "output_type": "unknown"
    },
    {
     "data": {
      "text/plain": "\r\n   Directory: https://csb1003200108f87531.file.core.windows.net/cs-subscriptionowner-emsmonitoring-onmicrosoft-1003200108f87531/.cloudconsole\r\n\r\nType                Length Name\r\n----                ------ ----\r\nFile            5368709120 acc_subscription.img\r\n\r\n\r\n"
     },
     "output_type": "unknown"
    }
   ],
   "source": [
    "$sa2 = Get-AzStorageAccount | where StorageAccountName -eq CSB1003200108f87531 \n",
    "$sa2 | Get-AzStorageshare | Get-AzStoragefile | where {$_.CloudFileDirectory } | Get-AzStoragefile | Out-String"
   ]
  },
  {
   "cell_type": "code",
   "execution_count": null,
   "metadata": {},
   "outputs": [
    {
     "data": {
      "text/plain": ""
     },
     "output_type": "unknown"
    },
    {
     "data": {
      "text/plain": "\r\n   Directory: https://csb1003200108f87531.file.core.windows.net/cs-subscriptionowner-emsmonitoring-onmicrosoft-1003200108f87531\r\n\r\nType                Length Name\r\n----                ------ ----\r\nFile                152149 auditrecords.json\r\nFile                  4487 dbusers.csv\r\nFile                   951 foo.csv\r\nFile                   330 groups.csv\r\nFile                  2816 Import-Groups.ps1\r\nFile                   683 VSTeam.psm1\r\n\r\n\r\n"
     },
     "output_type": "unknown"
    }
   ],
   "source": [
    "$sa2 | Get-AzStorageshare | Get-AzStoragefile | where {-not $_.CloudFileDirectory } | Get-AzStorageFileContent -Destination c:\\temp -PassThru -Force | out-string"
   ]
  },
  {
   "cell_type": "code",
   "execution_count": null,
   "metadata": {},
   "outputs": [
    {
     "data": {
      "text/plain": ""
     },
     "output_type": "unknown"
    },
    {
     "data": {
      "text/plain": "Each item where the path doesn't gives an error - last one was \r\n"
     },
     "output_type": "unknown"
    },
    {
     "data": {
      "text/plain": "\r\n\u001b[91mSet-AzStorageFileContent: \r\n\u001b[96mLine |\r\n\u001b[96m   7 | \u001b[0m         \u001b[96mSet-AzStorageFileContent -ShareName 'cs-subscriptionowner-ems\u001b[0m …\r\n\u001b[96m     | \u001b[91m         ~~~~~~~~~~~~~~~~~~~~~~~~~~~~~~~~~~~~~~~~~~~~~~~~~~~~~~~~~~~~~\r\n\u001b[91m\u001b[96m     | \u001b[91mThe specified parent path does not exist. HTTP Status Code: 404 - HTTP Error Message: The specified parent path does not exist.\r\nErrorCode: ParentNotFound\r\nErrorMessage: The specified parent path does not exist.\r\nRequestId:e0ab76a4-a01a-0004-57cf-31cc50000000\r\nTime:2021-04-15T08:17:49.9258484Z\u001b[0m\r\n\r\n"
     },
     "output_type": "unknown"
    }
   ],
   "source": [
    "$context2 = New-AzStorageContext -StorageAccountName $sa2.StorageAccountName -StorageAccountKey  ($sa2 | Get-AzStorageAccountKey | where keyName -eq \"key1\").value \n",
    "$destshare = Get-AzStorageShare  -Context $context2 -name 'cs-subscriptionowner-emsmonitoring-onmicrosoft-1003200108f87531'\n",
    "cd C:\\temp\\source\n",
    "$CurrentFolder = (Get-Item .).FullName\n",
    "Get-ChildItem -Recurse | Where-Object { $_.GetType().Name -eq \"FileInfo\"} | ForEach-Object {\n",
    "        $path=$_.FullName.Substring($Currentfolder.Length+1).Replace(\"\\\",\"/\")\n",
    "        Set-AzStorageFileContent -ShareName 'cs-subscriptionowner-emsmonitoring-onmicrosoft-1003200108f87531' -Source $_.FullName -Path $path -Force -Context $Context2 2> $env:temp\\err.txt\n",
    "    }\n",
    "write-host \"Each item where the path doesn't gives an error - last one was \" \n",
    "Get-content $env:temp\\err.txt -raw\n",
    "Remove-Item $env:temp\\err.txt -ErrorAction SilentlyContinue "
   ]
  },
  {
   "cell_type": "code",
   "execution_count": null,
   "metadata": {},
   "outputs": [
    {
     "data": {
      "text/plain": ""
     },
     "output_type": "unknown"
    },
    {
     "data": {
      "text/plain": "INFO: /;  Content Length: 0.00 B\r\nINFO: auditrecords.json;  Content Length: 148.58 KiB\r\nINFO: VSTeam.psm1;  Content Length: 683.00 B\r\nINFO: Import-Groups.ps1;  Content Length: 2.75 KiB\r\nINFO: foo.csv;  Content Length: 951.00 B\r\nINFO: groups.csv;  Content Length: 330.00 B\r\nINFO: dbusers.csv;  Content Length: 4.38 KiB\r\nINFO: .cloudconsole/;  Content Length: 0.00 B\r\nINFO: .cloudconsole/acc_subscription.img;  Content Length: 5.00 GiB\r\n\r\n"
     },
     "output_type": "unknown"
    }
   ],
   "source": [
    "$sa2 = Get-AzStorageAccount | where StorageAccountName -eq CSB1003200108f87531 \n",
    "$context2 = New-AzStorageContext -StorageAccountName $sa2.StorageAccountName -StorageAccountKey  ($sa2 | Get-AzStorageAccountKey | where keyName -eq \"key1\").value \n",
    "\n",
    "$sasToken2 = New-AzStorageShareSASToken -Context $context2 -ExpiryTime ([datetime]::now.AddMinutes(5)) `\n",
    "                -fulluri -IPAddressOrRange $myIp -Permission \"rwdl\" -protocol \"httpsOnly\" `\n",
    "                -ShareName 'cs-subscriptionowner-emsmonitoring-onmicrosoft-1003200108f87531' \n",
    "\n",
    "del Env:\\AZCOPY_SPA_CLIENT_SECRET -ErrorAction SilentlyContinue\n",
    "if (Test-Path 'C:\\Program Files\\AzCopy\\azcopy.exe') {\n",
    "    Push-Location 'C:\\Program Files\\AzCopy'    \n",
    "    $env:AZCOPY_CRED_TYPE = \"Anonymous\";\n",
    "    .\\azcopy.exe list $sasToken2  | Out-String\n",
    "}\n"
   ]
  },
  {
   "cell_type": "code",
   "execution_count": null,
   "metadata": {},
   "outputs": [
    {
     "data": {
      "text/plain": "INFO: Scanning...\r\n"
     },
     "output_type": "unknown"
    },
    {
     "data": {
      "text/plain": "INFO: Any empty folders will not be processed, because --recursive was not specified\r\n"
     },
     "output_type": "unknown"
    },
    {
     "data": {
      "text/plain": "\r\n"
     },
     "output_type": "unknown"
    },
    {
     "data": {
      "text/plain": "Job 7fb036d4-79ad-764d-447f-38f0d2a21ae4 has started\r\n"
     },
     "output_type": "unknown"
    },
    {
     "data": {
      "text/plain": "Log file is located at: C:\\Users\\P10506111\\.azcopy\\7fb036d4-79ad-764d-447f-38f0d2a21ae4.log\r\n"
     },
     "output_type": "unknown"
    },
    {
     "data": {
      "text/plain": "\r\n"
     },
     "output_type": "unknown"
    },
    {
     "data": {
      "text/plain": "\r\n"
     },
     "output_type": "unknown"
    },
    {
     "data": {
      "text/plain": "0.0 %, 0 Done, 0 Failed, 6 Pending, 0 Skipped, 6 Total, \r\n"
     },
     "output_type": "unknown"
    },
    {
     "data": {
      "text/plain": "\r\n"
     },
     "output_type": "unknown"
    },
    {
     "data": {
      "text/plain": "\r\n"
     },
     "output_type": "unknown"
    },
    {
     "data": {
      "text/plain": "Job 7fb036d4-79ad-764d-447f-38f0d2a21ae4 summary\r\n"
     },
     "output_type": "unknown"
    },
    {
     "data": {
      "text/plain": "Elapsed Time (Minutes): 0.0334\r\n"
     },
     "output_type": "unknown"
    },
    {
     "data": {
      "text/plain": "Number of File Transfers: 6\r\n"
     },
     "output_type": "unknown"
    },
    {
     "data": {
      "text/plain": "Number of Folder Property Transfers: 0\r\n"
     },
     "output_type": "unknown"
    },
    {
     "data": {
      "text/plain": "Total Number of Transfers: 6\r\n"
     },
     "output_type": "unknown"
    },
    {
     "data": {
      "text/plain": "Number of Transfers Completed: 6\r\n"
     },
     "output_type": "unknown"
    },
    {
     "data": {
      "text/plain": "Number of Transfers Failed: 0\r\n"
     },
     "output_type": "unknown"
    },
    {
     "data": {
      "text/plain": "Number of Transfers Skipped: 0\r\n"
     },
     "output_type": "unknown"
    },
    {
     "data": {
      "text/plain": "TotalBytesTransferred: 161416\r\n"
     },
     "output_type": "unknown"
    },
    {
     "data": {
      "text/plain": "Final Job Status: Completed\r\n"
     },
     "output_type": "unknown"
    },
    {
     "data": {
      "text/plain": "\r\n"
     },
     "output_type": "unknown"
    }
   ],
   "source": [
    ".\\azcopy.exe copy $($sasToken2 -replace \"\\?\", \"/*?\") $env:temp"
   ]
  },
  {
   "cell_type": "markdown",
   "metadata": {},
   "source": [
    "Copy in the other direction"
   ]
  },
  {
   "cell_type": "code",
   "execution_count": null,
   "metadata": {},
   "outputs": [
    {
     "data": {
      "text/plain": "INFO: Scanning...\r\n"
     },
     "output_type": "unknown"
    },
    {
     "data": {
      "text/plain": "INFO: Any empty folders will be processed, because source and destination both support folders\r\n"
     },
     "output_type": "unknown"
    },
    {
     "data": {
      "text/plain": "\r\n"
     },
     "output_type": "unknown"
    },
    {
     "data": {
      "text/plain": "Job b9e93de1-bd7b-bf48-7e34-1484a97e5034 has started\r\n"
     },
     "output_type": "unknown"
    },
    {
     "data": {
      "text/plain": "Log file is located at: C:\\Users\\P10506111\\.azcopy\\b9e93de1-bd7b-bf48-7e34-1484a97e5034.log\r\n"
     },
     "output_type": "unknown"
    },
    {
     "data": {
      "text/plain": "\r\n"
     },
     "output_type": "unknown"
    },
    {
     "data": {
      "text/plain": "\r\n"
     },
     "output_type": "unknown"
    },
    {
     "data": {
      "text/plain": "0.0 %, 0 Done, 0 Failed, 19 Pending, 0 Skipped, 19 Total, \r\n"
     },
     "output_type": "unknown"
    },
    {
     "data": {
      "text/plain": "\r\n"
     },
     "output_type": "unknown"
    },
    {
     "data": {
      "text/plain": "\r\n"
     },
     "output_type": "unknown"
    },
    {
     "data": {
      "text/plain": "Job b9e93de1-bd7b-bf48-7e34-1484a97e5034 summary\r\n"
     },
     "output_type": "unknown"
    },
    {
     "data": {
      "text/plain": "Elapsed Time (Minutes): 0.0333\r\n"
     },
     "output_type": "unknown"
    },
    {
     "data": {
      "text/plain": "Number of File Transfers: 13\r\n"
     },
     "output_type": "unknown"
    },
    {
     "data": {
      "text/plain": "Number of Folder Property Transfers: 6\r\n"
     },
     "output_type": "unknown"
    },
    {
     "data": {
      "text/plain": "Total Number of Transfers: 19\r\n"
     },
     "output_type": "unknown"
    },
    {
     "data": {
      "text/plain": "Number of Transfers Completed: 19\r\n"
     },
     "output_type": "unknown"
    },
    {
     "data": {
      "text/plain": "Number of Transfers Failed: 0\r\n"
     },
     "output_type": "unknown"
    },
    {
     "data": {
      "text/plain": "Number of Transfers Skipped: 0\r\n"
     },
     "output_type": "unknown"
    },
    {
     "data": {
      "text/plain": "TotalBytesTransferred: 54726\r\n"
     },
     "output_type": "unknown"
    },
    {
     "data": {
      "text/plain": "Final Job Status: Completed\r\n"
     },
     "output_type": "unknown"
    },
    {
     "data": {
      "text/plain": "\r\n"
     },
     "output_type": "unknown"
    }
   ],
   "source": [
    ".\\azcopy.exe  copy C:\\temp\\source $sasToken2  --recursive --overwrite true"
   ]
  },
  {
   "cell_type": "markdown",
   "metadata": {},
   "source": [
    "## Back to back without local copy\n",
    "\n",
    "This won't run from local IP. Keep the token windows short, don't get write access on the read side etc. "
   ]
  },
  {
   "cell_type": "code",
   "execution_count": null,
   "metadata": {},
   "outputs": [
    {
     "data": {
      "text/plain": ""
     },
     "output_type": "unknown"
    },
    {
     "data": {
      "text/plain": "INFO: Scanning...\r\n"
     },
     "output_type": "unknown"
    },
    {
     "data": {
      "text/plain": "INFO: Failed to create one or more destination container(s). Your transfers may still succeed if the container already exists.\r\n"
     },
     "output_type": "unknown"
    },
    {
     "data": {
      "text/plain": "INFO: Any empty folders will not be processed, because source and/or destination doesn't have full folder support\r\n"
     },
     "output_type": "unknown"
    },
    {
     "data": {
      "text/plain": "\r\n"
     },
     "output_type": "unknown"
    },
    {
     "data": {
      "text/plain": "Job 967a2c85-99b2-be4e-60fe-13e01ccbdee0 has started\r\n"
     },
     "output_type": "unknown"
    },
    {
     "data": {
      "text/plain": "Log file is located at: C:\\Users\\P10506111\\.azcopy\\967a2c85-99b2-be4e-60fe-13e01ccbdee0.log\r\n"
     },
     "output_type": "unknown"
    },
    {
     "data": {
      "text/plain": "\r\n"
     },
     "output_type": "unknown"
    },
    {
     "data": {
      "text/plain": "\r\n"
     },
     "output_type": "unknown"
    },
    {
     "data": {
      "text/plain": "0.0 %, 0 Done, 0 Failed, 1 Pending, 0 Skipped, 1 Total, \r\n"
     },
     "output_type": "unknown"
    },
    {
     "data": {
      "text/plain": "\r\n"
     },
     "output_type": "unknown"
    },
    {
     "data": {
      "text/plain": "\r\n"
     },
     "output_type": "unknown"
    },
    {
     "data": {
      "text/plain": "Job 967a2c85-99b2-be4e-60fe-13e01ccbdee0 summary\r\n"
     },
     "output_type": "unknown"
    },
    {
     "data": {
      "text/plain": "Elapsed Time (Minutes): 0.0334\r\n"
     },
     "output_type": "unknown"
    },
    {
     "data": {
      "text/plain": "Number of File Transfers: 1\r\n"
     },
     "output_type": "unknown"
    },
    {
     "data": {
      "text/plain": "Number of Folder Property Transfers: 0\r\n"
     },
     "output_type": "unknown"
    },
    {
     "data": {
      "text/plain": "Total Number of Transfers: 1\r\n"
     },
     "output_type": "unknown"
    },
    {
     "data": {
      "text/plain": "Number of Transfers Completed: 1\r\n"
     },
     "output_type": "unknown"
    },
    {
     "data": {
      "text/plain": "Number of Transfers Failed: 0\r\n"
     },
     "output_type": "unknown"
    },
    {
     "data": {
      "text/plain": "Number of Transfers Skipped: 0\r\n"
     },
     "output_type": "unknown"
    },
    {
     "data": {
      "text/plain": "TotalBytesTransferred: 11820\r\n"
     },
     "output_type": "unknown"
    },
    {
     "data": {
      "text/plain": "Final Job Status: Completed\r\n"
     },
     "output_type": "unknown"
    },
    {
     "data": {
      "text/plain": "\r\n"
     },
     "output_type": "unknown"
    }
   ],
   "source": [
    "$sastoken = New-AzStorageContainerSASToken -FullUri  -Context $context  -name     'dev'           'amdev-moj' `\n",
    "                                           -ExpiryTime ([datetime]::now.AddMinutes(2))    -Permission 'rl' -Protocol  httpsOnly \n",
    "\n",
    "$sasToken2 = New-AzStorageShareSASToken    -FullUri  -Context $context2 -ShareName        'cs-subscriptionowner-emsmonitoring-onmicrosoft-1003200108f87531' `\n",
    "                                           -ExpiryTime ([datetime]::now.AddMinutes(2))    -Permission 'rwdl' -Protocol httpsOnly \n",
    "\n",
    ".\\azcopy.exe  copy $sastoken  $sasToken2  --recursive "
   ]
  }
 ],
 "metadata": {
  "kernelspec": {
   "display_name": ".NET (C#)",
   "language": "C#",
   "name": ".net-csharp"
  },
    "language_info": {
      "file_extension": ".ps1",
      "mimetype": "text/x-powershell",
      "name": "pwsh",
      "pygments_lexer": "powerShell",
      "version": "7.0"
    }
 },
 "nbformat": 4,
 "nbformat_minor": 4
}
