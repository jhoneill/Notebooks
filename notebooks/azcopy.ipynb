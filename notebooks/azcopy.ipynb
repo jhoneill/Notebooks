{
  "cells": [
    {
      "cell_type": "markdown",
      "metadata": {},
      "source": [
        "## Logon and get creds from keyvault"
      ]
    },
    {
      "cell_type": "code",
      "execution_count": 1,
      "metadata": {
        "dotnet_interactive": {
          "language": "pwsh"
        }
      },
      "source": [
        "Import-Module az.accounts\n",
        "Connect-AzAccount |Out-String -width 150 #Login via browser. Add params for other methods as needed "
      ],
      "outputs": [
        {
          "output_type": "execute_result",
          "data": {
            "text/plain": "\r\nAccount                                         SubscriptionName                  TenantId                             Environment\r\n-------                                         ----------------                  --------                             -----------\r\nsubscriptionowner@emsmonitoring.onmicrosoft.com EMS Monitoring Azure Subscription c348c0de-094b-4ffe-bbf1-b533a981f2c4 AzureCloud\r\n\r\n\r\n"
          },
          "execution_count": 1,
          "metadata": {}
        }
      ]
    },
    {
      "cell_type": "markdown",
      "metadata": {},
      "source": [
        "The exchange to do a browser logon. \n",
        "```\n",
        "https://login.microsoftonline.com/organizations/oauth2/v2.0/authorize?\n",
        "scope=https://management.core.windows.net//.default+\n",
        "           openid\n",
        "           profile\n",
        "           offline_access\n",
        "response_type=code\n",
        "client_id=1950a258-227b-4e31-a9cf-717495945fc2              <== Well known client ID for Azure PowerShell \n",
        "redirect_uri=http://localhost:8400/\n",
        "claims={\"access_token\": {\"xms_cc\":{\"values\": [\"CP1\"]  }}}\n",
        "client-request-id=eb110687-9c3c-4b7e-8d15-607f1f585927\n",
        "x-client-SKU=MSAL.NetCore                            <= MsalAccessTokenAcquirer ?? \n",
        "x-client-Ver=4.23.0.0\n",
        "x-client-OS=Microsoft+Windows+10.0.18363\n",
        "prompt=select_account\n",
        "code_challenge=xxx \n",
        "code_challenge_method=S256\n",
        "state=541f234a-8ac7-4a5e-bff1-fe428eafce23dba10bb3-a3f6-4ddc-8a08-646e19b052ee <== GUID + GUID !? \n",
        "sso_nonce=xxx\n",
        "mscrid=eb110687-9c3c-4b7e-8d15-607f1f585927  <= Same as client -request-id above. \n",
        "\n",
        "http://localhost:8400/?                                                         <= Passed as redirect URI \n",
        "code=0.Axxx                                                                     <== Code to go fetch\n",
        "state=541f234a-8ac7-4a5e-bff1-fe428eafce23dba10bb3-a3f6-4ddc-8a08-646e19b052ee  <= Links to request\n",
        "session_state=2502c53b-bcc3-4a81-83a9-cae9e61b0be4\n",
        "````"
      ]
    },
    {
      "cell_type": "code",
      "execution_count": 1,
      "metadata": {
        "dotnet_interactive": {
          "language": "pwsh"
        }
      },
      "source": [
        "Import-Module Az.KeyVault \n",
        "$kvName = \"amkeysprod\" # OR whatever\n",
        "$v = Get-Azkeyvault -VaultName $kvName \n",
        "$v | Get-AzKeyVaultSecret | Format-Table vaultName,Name, Created  |Out-String # just so we can see that we can in the next step. "
      ],
      "outputs": [
        {
          "output_type": "execute_result",
          "data": {
            "text/plain": "\r\nVaultName  Name           Created\r\n---------  ----           -------\r\namkeysprod ADOAdminName   10/03/2021 11:54:36\r\namkeysprod ADOAdminPwd    12/01/2021 13:25:00\r\namkeysprod AppID          15/01/2021 13:15:26\r\namkeysprod saName         12/01/2021 13:25:03\r\namkeysprod saPwd          12/01/2021 13:25:05\r\namkeysprod SPPwd          15/01/2021 13:17:35\r\namkeysprod SubscriptionID 15/01/2021 13:16:18\r\namkeysprod TenantId       15/01/2021 12:53:59\r\n\r\n\r\n"
          },
          "execution_count": 1,
          "metadata": {}
        }
      ]
    },
    {
      "cell_type": "code",
      "execution_count": 1,
      "metadata": {
        "dotnet_interactive": {
          "language": "pwsh"
        }
      },
      "source": [
        "$Tenantid =  $v | Get-AzKeyVaultSecret -Name Tenantid -AsPlainText\n",
        "$AppID    =  $v | Get-AzKeyVaultSecret -Name AppID    -AsPlainText\n",
        "$SPPwd    =  $v | Get-AzKeyVaultSecret -Name SPPwd   -AsPlainText     \n",
        "#No we're not going to print them in the notebook \n",
        "$appid"
      ],
      "outputs": [
        {
          "output_type": "execute_result",
          "data": {
            "text/plain": "60c64680-93ea-4675-8d01-878a426abfad\r\n"
          },
          "execution_count": 1,
          "metadata": {}
        }
      ]
    },
    {
      "cell_type": "markdown",
      "metadata": {},
      "source": [
        "## AzCopy - try logging on with creds from the vault and accessing blob containers\n",
        "\n",
        "[Link to the the docs](https://docs.microsoft.com/en-us/azure/storage/common/storage-use-azcopy-v10)  \n",
        "\n",
        "It is preinstalled in Machines running Azure pipelines.  [Download link for local use ](https://aka.ms/downloadazcopy-v10-windows)  When it goes out of date you get a message like this:\n",
        "\n",
        "`INFO: azcopy.exe: A newer version 10.10.0 is available to download`\n",
        "\n",
        "[Another useful link I have bookmarked](https://adamtheautomator.com/azure-sas-token/)"
      ]
    },
    {
      "cell_type": "code",
      "execution_count": 1,
      "metadata": {
        "dotnet_interactive": {
          "language": "pwsh"
        }
      },
      "source": [
        "del Env:\\AZCOPY_CRED_TYPE -ErrorAction SilentlyContinue\n",
        "if (Test-Path 'C:\\Program Files\\AzCopy\\azcopy.exe') {\n",
        "    Push-Location 'C:\\Program Files\\AzCopy'\n",
        "    $env:AZCOPY_SPA_CLIENT_SECRET = $sppwd \n",
        "    .\\azcopy.exe login  --service-principal --application-id $appID --tenant-id $tenantID\n",
        "}"
      ],
      "outputs": [
        {
          "output_type": "execute_result",
          "data": {
            "text/plain": "INFO: If you set an environment variable by using the command line, that variable will be readable in your command line history. Consider clearing variables that contain credentials from your command line history.  To keep variables from appearing in your history, you can use a script to prompt the user for their credentials, and to set the environment variable.\r\n"
          },
          "execution_count": 1,
          "metadata": {}
        },
        {
          "output_type": "execute_result",
          "data": {
            "text/plain": "INFO: SPN Auth via secret succeeded.\r\n"
          },
          "execution_count": 1,
          "metadata": {}
        }
      ]
    },
    {
      "cell_type": "markdown",
      "metadata": {},
      "source": [
        "**Our container will fail with this style of login** \n",
        "\n",
        "The Service account could logon (and can enumerate containers - if the container is omitted from the URI below we get an error per container)     \n",
        "*but we can't use that logon to see the contents of a containers*. \n",
        "\n",
        "Azcopy has this message *To be authorized to your Azure Storage account, you must assign the **Storage Blob Data Contributor** role to your user account in the context of either the Storage account, parent resource group or parent subscription.* but even granting that role  or doing Azcopy login to interactively login as the subscription owner doesn't give access this way."
      ]
    },
    {
      "cell_type": "code",
      "execution_count": 1,
      "metadata": {
        "dotnet_interactive": {
          "language": "pwsh"
        }
      },
      "source": [
        ".\\azcopy.exe  list \"https://saamdocuments.blob.core.windows.net/amdev-moj\"  | out-string\n",
        ".\\azcopy.exe  logout\n",
        "Pop-location\n",
        "del Env:\\AZCOPY_SPA_CLIENT_SECRET"
      ],
      "outputs": [
        {
          "output_type": "execute_result",
          "data": {
            "text/plain": "INFO: Authenticating to destination using Azure AD\r\n\r\nfailed to traverse container: cannot list files due to reason -> github.com/Azure/azure-storage-blob-go/azblob.newStorageError, /home/vsts/go/pkg/mod/github.com/!azure/azure-storage-blob-go@v0.10.1-0.20210407023846-16cf969ec1c3/azblob/zc_storage_error.go:42\r\n===== RESPONSE ERROR (ServiceCode=AuthorizationPermissionMismatch) =====\r\nDescription=This request is not authorized to perform this operation using this permission.\r\nRequestId:e22dca66-a01e-005d-6651-386f7f000000\r\nTime:2021-04-23T15:03:14.0297728Z, Details: \r\n   Code: AuthorizationPermissionMismatch\r\n   GET https://saamdocuments.blob.core.windows.net/amdev-moj?comp=list&delimiter=%2F&include=metadata&restype=container&timeout=901\r\n   Authorization: REDACTED\r\n   User-Agent: [AzCopy/10.10.0 Azure-Storage/0.13 (go1.15; Windows_NT)]\r\n   X-Ms-Client-Request-Id: [4b83eb04-5f4a-46fa-5f77-7512b6925177]\r\n   X-Ms-Version: [2019-12-12]\r\n   --------------------------------------------------------------------------------\r\n   RESPONSE Status: 403 This request is not authorized to perform this operation using this permission.\r\n   Content-Length: [279]\r\n   Content-Type: [application/xml]\r\n   Date: [Fri, 23 Apr 2021 15:03:13 GMT]\r\n   Server: [Windows-Azure-Blob/1.0 Microsoft-HTTPAPI/2.0]\r\n   X-Ms-Client-Request-Id: [4b83eb04-5f4a-46fa-5f77-7512b6925177]\r\n   X-Ms-Error-Code: [AuthorizationPermissionMismatch]\r\n   X-Ms-Request-Id: [e22dca66-a01e-005d-6651-386f7f000000]\r\n   X-Ms-Version: [2019-12-12]\r\n\r\n\r\n\r\n\r\n"
          },
          "execution_count": 1,
          "metadata": {}
        },
        {
          "output_type": "execute_result",
          "data": {
            "text/plain": "INFO: Logout succeeded.\r\n"
          },
          "execution_count": 1,
          "metadata": {}
        }
      ]
    },
    {
      "cell_type": "markdown",
      "metadata": {},
      "source": [
        "## PowerShell access to blob containers and contents. "
      ]
    },
    {
      "cell_type": "code",
      "execution_count": 1,
      "metadata": {
        "dotnet_interactive": {
          "language": "pwsh"
        }
      },
      "source": [
        "ipmo az.storage\n",
        "Get-AzStorageAccount |Out-String -Width 150"
      ],
      "outputs": [
        {
          "output_type": "execute_result",
          "data": {
            "text/plain": "\r\nStorageAccountName  ResourceGroupName              PrimaryLocation SkuName      Kind      AccessTier CreationTime        ProvisioningState EnableHttps\r\n                                                                                                                                           TrafficOnly\r\n------------------  -----------------              --------------- -------      ----      ---------- ------------        ----------------- -----------\r\ncsb1003200108f87531 cloud-shell-storage-westeurope westeurope      Standard_LRS StorageV2 Hot        26/01/2021 13:59:17 Succeeded         True       \r\ncsb1003200108f8758e cloud-shell-storage-westeurope westeurope      Standard_LRS StorageV2 Hot        12/01/2021 11:51:15 Succeeded         True       \r\ncsb100320010992082d cloud-shell-storage-westeurope westeurope      Standard_LRS StorageV2 Hot        06/01/2021 15:44:09 Succeeded         True       \r\nsaamdiaglogging     rg-amProd-moj                  uksouth         Standard_LRS StorageV2 Hot        09/03/2021 12:16:22 Succeeded         True       \r\nsaamdocuments       rg-amProd-moj                  uksouth         Standard_ZRS StorageV2 Hot        08/03/2021 17:14:55 Succeeded         True       \r\nsaamproddocuments   rg-amProd-moj                  uksouth         Standard_GRS StorageV2 Hot        23/03/2021 11:22:23 Succeeded         True       \r\nsqlvad7rybi7nqpjkq  rg-amProd-moj                  uksouth         Standard_LRS StorageV2 Hot        13/01/2021 16:44:43 Succeeded         True       \r\nsqlva32uyitidm6olq  rg-amprod-moj                  ukwest          Standard_LRS StorageV2 Hot        11/02/2021 12:25:56 Succeeded         True       \r\n\r\n\r\n"
          },
          "execution_count": 1,
          "metadata": {}
        }
      ]
    },
    {
      "cell_type": "markdown",
      "metadata": {},
      "source": [
        "The next cell sets up a context. \n",
        "\n",
        "We need to be logged on to get the storage account key (and I don't want to save it here!)      \n",
        "but **with a context we don't need to be logged into to Azure**.  \n",
        "\n",
        "So the `Get-AzStorageBlob -context` isn't dependent on the logon. and for a pipeline we'd have     \n",
        "storage-account-key => keyvault => variable group => environment variable  "
      ]
    },
    {
      "cell_type": "code",
      "execution_count": 1,
      "metadata": {
        "dotnet_interactive": {
          "language": "pwsh"
        }
      },
      "source": [
        "$sa      = Get-AzStorageAccount | where StorageAccountName -eq \"saamdocuments\"\n",
        "$context = New-AzStorageContext -StorageAccountName $sa.StorageAccountName -StorageAccountKey  ($sa | Get-AzStorageAccountKey | where keyName -eq \"key1\").value \n",
        "Get-AzStorageBlob -Container \"amdev-moj\" -Context $Context | ft name, length, contenttype,LastModified -a | out-string -Width 200"
      ],
      "outputs": [
        {
          "output_type": "execute_result",
          "data": {
            "text/plain": ""
          },
          "execution_count": 1,
          "metadata": {}
        },
        {
          "output_type": "execute_result",
          "data": {
            "text/plain": "\r\nName                                                                    Length ContentType                                                             LastModified\r\n----                                                                    ------ -----------                                                             ------------\r\nAAMR0205/ORD0093/Enforcement Documents/Doc1.rtf                          42029 application/msword                                                      16/04/2021 16:35:25 +00:00\r\nAAMR0205/ORD0093/Enforcement Documents/ENF (1) (1) (1) (2) (1) (1).docx  11820 application/vnd.openxmlformats-officedocument.wordprocessingml.document 26/03/2021 08:39:14 +00:00\r\n\r\n\r\n"
          },
          "execution_count": 1,
          "metadata": {}
        }
      ]
    },
    {
      "cell_type": "markdown",
      "metadata": {},
      "source": [
        "`Get-AzStorageBlobContent` Copies a blob to the local machine - again with context we don't need to be logged on. Local folder creation is automatic.  "
      ]
    },
    {
      "cell_type": "code",
      "execution_count": 1,
      "metadata": {
        "dotnet_interactive": {
          "language": "pwsh"
        }
      },
      "source": [
        "Get-AzStorageBlob -Container \"amdev-moj\" -Context $Context | Get-AzStorageBlobContent -Destination \\temp -force"
      ],
      "outputs": [
        {
          "output_type": "execute_result",
          "data": {
            "text/plain": ""
          },
          "execution_count": 1,
          "metadata": {}
        },
        {
          "output_type": "execute_result",
          "data": {
            "text/plain": "\r\n"
          },
          "execution_count": 1,
          "metadata": {}
        },
        {
          "output_type": "execute_result",
          "data": {
            "text/plain": "   AccountName: saamdocuments, ContainerName: amdev-moj\r\n"
          },
          "execution_count": 1,
          "metadata": {}
        },
        {
          "output_type": "execute_result",
          "data": {
            "text/plain": "\r\n"
          },
          "execution_count": 1,
          "metadata": {}
        },
        {
          "output_type": "execute_result",
          "data": {
            "text/plain": "Name                 BlobType  Length          ContentType                    LastModified\r\n"
          },
          "execution_count": 1,
          "metadata": {}
        },
        {
          "output_type": "execute_result",
          "data": {
            "text/plain": "----                 --------  ------          -----------                    ------------        \r\n"
          },
          "execution_count": 1,
          "metadata": {}
        },
        {
          "output_type": "execute_result",
          "data": {
            "text/plain": "AAMR0205/ORD0093/En… BlockBlob 42029           application/msword             2021-04-16 16:35:25Z\r\n"
          },
          "execution_count": 1,
          "metadata": {}
        },
        {
          "output_type": "execute_result",
          "data": {
            "text/plain": "AAMR0205/ORD0093/En… BlockBlob 11820           application/vnd.openxmlformat… 2021-03-26 08:39:14Z\r\n"
          },
          "execution_count": 1,
          "metadata": {}
        },
        {
          "output_type": "execute_result",
          "data": {
            "text/plain": "\r\n"
          },
          "execution_count": 1,
          "metadata": {}
        }
      ]
    },
    {
      "cell_type": "code",
      "execution_count": 1,
      "metadata": {
        "dotnet_interactive": {
          "language": "pwsh"
        }
      },
      "source": [
        "dir 'C:\\temp\\AAMR0205\\ORD0093\\Enforcement Documents' | Out-String"
      ],
      "outputs": [
        {
          "output_type": "execute_result",
          "data": {
            "text/plain": "\r\n    Directory: C:\\temp\\AAMR0205\\ORD0093\\Enforcement Documents\r\n\r\nMode                 LastWriteTime         Length Name\r\n----                 -------------         ------ ----\r\n-a---          23/04/2021    16:05          42029 Doc1.rtf\r\n-a---          23/04/2021    16:05          11820 ENF (1) (1) (1) (2) (1) (1).docx\r\n\r\n\r\n"
          },
          "execution_count": 1,
          "metadata": {}
        }
      ]
    },
    {
      "cell_type": "markdown",
      "metadata": {},
      "source": [
        "## Creating a Sas token for blob containers and using it with AzCopy\n",
        "**We have already created a storage context** (so we don't need to logon). \n",
        "\n",
        "Create a SAS-Token which is valid for one container, from the local ip, for 10 Minutes over HTTPS."
      ]
    },
    {
      "cell_type": "code",
      "execution_count": 1,
      "metadata": {
        "dotnet_interactive": {
          "language": "pwsh"
        }
      },
      "source": [
        "$myIp = (Invoke-WebRequest http://api.ipify.org/).content\n",
        "$myip"
      ],
      "outputs": [
        {
          "output_type": "execute_result",
          "data": {
            "text/plain": ""
          },
          "execution_count": 1,
          "metadata": {}
        },
        {
          "output_type": "execute_result",
          "data": {
            "text/plain": "81.109.118.32\r\n"
          },
          "execution_count": 1,
          "metadata": {}
        }
      ]
    },
    {
      "cell_type": "code",
      "execution_count": 1,
      "metadata": {
        "dotnet_interactive": {
          "language": "pwsh"
        }
      },
      "source": [
        "(New-AzStorageContainerSASToken -Context $context -name 'amdev-moj' -ExpiryTime ([datetime]::now.AddMinutes(10)) `\n",
        "   -FullUri -IPAddressOrRange $myip -Permission 'rwdl' -Protocol  httpsOnly -OutVariable sastoken) -replace '\\?|&',\"`n\""
      ],
      "outputs": [
        {
          "output_type": "execute_result",
          "data": {
            "text/plain": "https://saamdocuments.blob.core.windows.net/amdev-moj\nsv=2019-07-07\nsr=c\nsig=BWJURetr1hjocmPFCpHjJlKbrAcjfLvIlH4yr6aZOWw%3D\nspr=https\nsip=81.109.118.32\nse=2021-04-23T15%3A15%3A47Z\nsp=rwdl\r\n"
          },
          "execution_count": 1,
          "metadata": {}
        }
      ]
    },
    {
      "cell_type": "markdown",
      "metadata": {},
      "source": [
        "Token breaks down like this:\n",
        "\n",
        "```\n",
        "https://<<Storage Account Name>>.blob.core.windows.net/<<Storage Account Name>>\n",
        "sv=2019-07-07                <<Sevice version>>\n",
        "sr=c                         <<Storage resource  c=container , b=blob, s=share etc. >>\n",
        "spr=https                    <<Protocol  only one option for this \"httpsonly\"  >>\n",
        "sip=81.109.118.32            <<IP>>\n",
        "se=2021-04-15T09%3A11%3A47Z  <<Expiry time   st= would be start time we didn't request one>>\n",
        "sp=rwdl                      <<Permissions read , write, delete, list >>\n",
        "sig=Eq2yJoz...               <<Signature ties the above to a key>>\n",
        "```"
      ]
    },
    {
      "cell_type": "code",
      "execution_count": 1,
      "metadata": {
        "dotnet_interactive": {
          "language": "pwsh"
        }
      },
      "source": [
        "del Env:\\AZCOPY_SPA_CLIENT_SECRET -ErrorAction SilentlyContinue\n",
        "if (Test-Path 'C:\\Program Files\\AzCopy\\azcopy.exe') {\n",
        "    Push-Location 'C:\\Program Files\\AzCopy'\n",
        "    $env:AZCOPY_CRED_TYPE = \"Anonymous\";\n",
        "    .\\azcopy.exe  copy $sasToken C:\\temp\\azcopy\\ --recursive --overwrite true\n",
        "}"
      ],
      "outputs": [
        {
          "output_type": "execute_result",
          "data": {
            "text/plain": "INFO: Scanning...\r\n"
          },
          "execution_count": 1,
          "metadata": {}
        },
        {
          "output_type": "execute_result",
          "data": {
            "text/plain": "INFO: Any empty folders will not be processed, because source and/or destination doesn't have full folder support\r\n"
          },
          "execution_count": 1,
          "metadata": {}
        },
        {
          "output_type": "execute_result",
          "data": {
            "text/plain": "\r\n"
          },
          "execution_count": 1,
          "metadata": {}
        },
        {
          "output_type": "execute_result",
          "data": {
            "text/plain": "Job f4ec3c44-9549-7b48-61b9-be9a25bedb76 has started\r\n"
          },
          "execution_count": 1,
          "metadata": {}
        },
        {
          "output_type": "execute_result",
          "data": {
            "text/plain": "Log file is located at: C:\\Users\\P10506111\\.azcopy\\f4ec3c44-9549-7b48-61b9-be9a25bedb76.log\r\n"
          },
          "execution_count": 1,
          "metadata": {}
        },
        {
          "output_type": "execute_result",
          "data": {
            "text/plain": "\r\n"
          },
          "execution_count": 1,
          "metadata": {}
        },
        {
          "output_type": "execute_result",
          "data": {
            "text/plain": "\r\n"
          },
          "execution_count": 1,
          "metadata": {}
        },
        {
          "output_type": "execute_result",
          "data": {
            "text/plain": "0.0 %, 0 Done, 0 Failed, 2 Pending, 0 Skipped, 2 Total, \r\n"
          },
          "execution_count": 1,
          "metadata": {}
        },
        {
          "output_type": "execute_result",
          "data": {
            "text/plain": "\r\n"
          },
          "execution_count": 1,
          "metadata": {}
        },
        {
          "output_type": "execute_result",
          "data": {
            "text/plain": "\r\n"
          },
          "execution_count": 1,
          "metadata": {}
        },
        {
          "output_type": "execute_result",
          "data": {
            "text/plain": "Job f4ec3c44-9549-7b48-61b9-be9a25bedb76 summary\r\n"
          },
          "execution_count": 1,
          "metadata": {}
        },
        {
          "output_type": "execute_result",
          "data": {
            "text/plain": "Elapsed Time (Minutes): 0.0334\r\n"
          },
          "execution_count": 1,
          "metadata": {}
        },
        {
          "output_type": "execute_result",
          "data": {
            "text/plain": "Number of File Transfers: 2\r\n"
          },
          "execution_count": 1,
          "metadata": {}
        },
        {
          "output_type": "execute_result",
          "data": {
            "text/plain": "Number of Folder Property Transfers: 0\r\n"
          },
          "execution_count": 1,
          "metadata": {}
        },
        {
          "output_type": "execute_result",
          "data": {
            "text/plain": "Total Number of Transfers: 2\r\n"
          },
          "execution_count": 1,
          "metadata": {}
        },
        {
          "output_type": "execute_result",
          "data": {
            "text/plain": "Number of Transfers Completed: 2\r\n"
          },
          "execution_count": 1,
          "metadata": {}
        },
        {
          "output_type": "execute_result",
          "data": {
            "text/plain": "Number of Transfers Failed: 0\r\n"
          },
          "execution_count": 1,
          "metadata": {}
        },
        {
          "output_type": "execute_result",
          "data": {
            "text/plain": "Number of Transfers Skipped: 0\r\n"
          },
          "execution_count": 1,
          "metadata": {}
        },
        {
          "output_type": "execute_result",
          "data": {
            "text/plain": "TotalBytesTransferred: 53849\r\n"
          },
          "execution_count": 1,
          "metadata": {}
        },
        {
          "output_type": "execute_result",
          "data": {
            "text/plain": "Final Job Status: Completed\r\n"
          },
          "execution_count": 1,
          "metadata": {}
        },
        {
          "output_type": "execute_result",
          "data": {
            "text/plain": "\r\n"
          },
          "execution_count": 1,
          "metadata": {}
        }
      ]
    },
    {
      "cell_type": "code",
      "execution_count": 1,
      "metadata": {
        "dotnet_interactive": {
          "language": "pwsh"
        }
      },
      "source": [
        "type -raw C:\\Users\\P10506111\\.azcopy\\f4ec3c44-9549-7b48-61b9-be9a25bedb76.log"
      ],
      "outputs": [
        {
          "output_type": "execute_result",
          "data": {
            "text/plain": "2021/04/23 15:06:45 AzcopyVersion  10.10.0\n2021/04/23 15:06:45 OS-Environment  windows\n2021/04/23 15:06:45 OS-Architecture  amd64\n2021/04/23 15:06:45 Log times are in UTC. Local time is 23 Apr 2021 16:06:45\n2021/04/23 15:06:45 Job-Command copy https://saamdocuments.blob.core.windows.net/amdev-moj?se=2021-04-23t15%3A15%3A47z&sig=-REDACTED-&sip=81.109.118.32&sp=rwdl&spr=https&sr=c&sv=2019-07-07 C:\\temp\\azcopy\\ --recursive --overwrite true \n2021/04/23 15:06:45 Number of CPUs: 8\n2021/04/23 15:06:45 Max file buffer RAM 4.000 GB\n2021/04/23 15:06:45 Max concurrent network operations: 128 (Based on number of CPUs. Set AZCOPY_CONCURRENCY_VALUE environment variable to override)\n2021/04/23 15:06:45 Check CPU usage when dynamically tuning concurrency: true (Based on hard-coded default. Set AZCOPY_TUNE_TO_CPU environment variable to true or false override)\n2021/04/23 15:06:45 Max concurrent transfer initiation routines: 64 (Based on hard-coded default. Set AZCOPY_CONCURRENT_FILES environment variable to override)\n2021/04/23 15:06:45 Max enumeration routines: 16 (Based on hard-coded default. Set AZCOPY_CONCURRENT_SCAN environment variable to override)\n2021/04/23 15:06:45 Parallelize getting file properties (file.Stat): false (Based on AZCOPY_PARALLEL_STAT_FILES environment variable)\n2021/04/23 15:06:45 Max open files when downloading: 2147483119 (auto-computed)\n2021/04/23 15:06:45 ISO 8601 START TIME: to copy files that changed before or after this job started, use the parameter --include-before=2021-04-23T15:06:40Z or --include-after=2021-04-23T15:06:40Z\n2021/04/23 15:06:45 Any empty folders will not be processed, because source and/or destination doesn't have full folder support\n2021/04/23 15:06:45 Final job part has been created\n2021/04/23 15:06:45 JobID=f4ec3c44-9549-7b48-61b9-be9a25bedb76, credential type: Anonymous\n2021/04/23 15:06:45 PERF: primary performance constraint is Unknown. States: C:  0, R:  0, W:  0, F:  0, H:  0, B:  0, S:  0, P:  0, Q:  0, D:  0, E:  0, T:  0, GRs: 28\n2021/04/23 15:06:45 scheduling JobID=f4ec3c44-9549-7b48-61b9-be9a25bedb76, Part#=0, Transfer#=0, priority=0\n2021/04/23 15:06:45 scheduling JobID=f4ec3c44-9549-7b48-61b9-be9a25bedb76, Part#=0, Transfer#=1, priority=0\n2021/04/23 15:06:45 Final job part has been scheduled\n2021/04/23 15:06:45 0.0 %, 0 Done, 0 Failed, 2 Pending, 0 Skipped, 2 Total, \n2021/04/23 15:06:45 INFO: [P#0-T#1] has worker 36 which is processing TRANSFER\n2021/04/23 15:06:45 INFO: [P#0-T#0] has worker 51 which is processing TRANSFER\n2021/04/23 15:06:46 ==> REQUEST/RESPONSE (Try=1/30.6048ms, OpTime=114.3795ms) -- RESPONSE SUCCESSFULLY RECEIVED\r\n   GET https://saamdocuments.blob.core.windows.net/amdev-moj/AAMR0205/ORD0093/Enforcement%20Documents/ENF%20%281%29%20%281%29%20%281%29%20%282%29%20%281%29%20%281%29.docx?se=2021-04-23t15%3A15%3A47z&sig=-REDACTED-&sip=81.109.118.32&sp=rwdl&spr=https&sr=c&sv=2019-07-07&timeout=901\r\n   X-Ms-Request-Id: [70af164a-001e-003f-3452-387b59000000]\r\n\n2021/04/23 15:06:46 ==> REQUEST/RESPONSE (Try=1/37.5608ms, OpTime=121.3355ms) -- RESPONSE SUCCESSFULLY RECEIVED\r\n   GET https://saamdocuments.blob.core.windows.net/amdev-moj/AAMR0205/ORD0093/Enforcement%20Documents/Doc1.rtf?se=2021-04-23t15%3A15%3A47z&sig=-REDACTED-&sip=81.109.118.32&sp=rwdl&spr=https&sr=c&sv=2019-07-07&timeout=901\r\n   X-Ms-Request-Id: [a3423cec-801e-0027-2352-38936a000000]\r\n\n2021/04/23 15:06:46 INFO: [P#0-T#0] DOWNLOADSUCCESSFUL: \\\\?\\C:\\temp\\azcopy\\amdev-moj\\AAMR0205\\ORD0093\\Enforcement Documents\\ENF (1) (1) (1) (2) (1) (1).docx\n2021/04/23 15:06:46 JobID=f4ec3c44-9549-7b48-61b9-be9a25bedb76, Part#=0, TransfersDone=1 of 2\n2021/04/23 15:06:46 INFO: [P#0-T#1] DOWNLOADSUCCESSFUL: \\\\?\\C:\\temp\\azcopy\\amdev-moj\\AAMR0205\\ORD0093\\Enforcement Documents\\Doc1.rtf\n2021/04/23 15:06:46 JobID=f4ec3c44-9549-7b48-61b9-be9a25bedb76, Part#=0, TransfersDone=2 of 2\n2021/04/23 15:06:46 all parts of entire Job f4ec3c44-9549-7b48-61b9-be9a25bedb76 successfully completed, cancelled or paused\n2021/04/23 15:06:47 PERF: primary performance constraint is Unknown. States: C:  0, R:  0, W:  0, F:  0, H:  0, B:  0, S:  0, P:  0, Q:  0, D:  0, E:  0, T:  0, GRs: 128\n2021/04/23 15:06:47 \r\n\r\nDiagnostic stats:\r\nIOPS: 0\r\nEnd-to-end ms per request: 117\r\nNetwork Errors: 0.00%\r\nServer Busy: 0.00%\r\n\r\n\r\nJob f4ec3c44-9549-7b48-61b9-be9a25bedb76 summary\r\nElapsed Time (Minutes): 0.0334\r\nNumber of File Transfers: 2\r\nNumber of Folder Property Transfers: 0\r\nTotal Number of Transfers: 2\r\nNumber of Transfers Completed: 2\r\nNumber of Transfers Failed: 0\r\nNumber of Transfers Skipped: 0\r\nTotalBytesTransferred: 53849\r\nFinal Job Status: Completed\r\n\n\r\n"
          },
          "execution_count": 1,
          "metadata": {}
        }
      ]
    },
    {
      "cell_type": "markdown",
      "metadata": {},
      "source": [
        "Copy in the other direction"
      ]
    },
    {
      "cell_type": "code",
      "execution_count": 1,
      "metadata": {
        "dotnet_interactive": {
          "language": "pwsh"
        }
      },
      "source": [
        ".\\azcopy.exe  copy C:\\temp\\source $sasToken  --recursive --overwrite true"
      ],
      "outputs": [
        {
          "output_type": "execute_result",
          "data": {
            "text/plain": "INFO: Scanning...\r\n"
          },
          "execution_count": 1,
          "metadata": {}
        },
        {
          "output_type": "execute_result",
          "data": {
            "text/plain": "INFO: Any empty folders will not be processed, because source and/or destination doesn't have full folder support\r\n"
          },
          "execution_count": 1,
          "metadata": {}
        },
        {
          "output_type": "execute_result",
          "data": {
            "text/plain": "\r\n"
          },
          "execution_count": 1,
          "metadata": {}
        },
        {
          "output_type": "execute_result",
          "data": {
            "text/plain": "Job b637387e-21e2-744f-4b0c-a8717d2f27fa has started\r\n"
          },
          "execution_count": 1,
          "metadata": {}
        },
        {
          "output_type": "execute_result",
          "data": {
            "text/plain": "Log file is located at: C:\\Users\\P10506111\\.azcopy\\b637387e-21e2-744f-4b0c-a8717d2f27fa.log\r\n"
          },
          "execution_count": 1,
          "metadata": {}
        },
        {
          "output_type": "execute_result",
          "data": {
            "text/plain": "\r\n"
          },
          "execution_count": 1,
          "metadata": {}
        },
        {
          "output_type": "execute_result",
          "data": {
            "text/plain": "\r\n"
          },
          "execution_count": 1,
          "metadata": {}
        },
        {
          "output_type": "execute_result",
          "data": {
            "text/plain": "0.0 %, 0 Done, 0 Failed, 13 Pending, 0 Skipped, 13 Total, \r\n"
          },
          "execution_count": 1,
          "metadata": {}
        },
        {
          "output_type": "execute_result",
          "data": {
            "text/plain": "\r\n"
          },
          "execution_count": 1,
          "metadata": {}
        },
        {
          "output_type": "execute_result",
          "data": {
            "text/plain": "\r\n"
          },
          "execution_count": 1,
          "metadata": {}
        },
        {
          "output_type": "execute_result",
          "data": {
            "text/plain": "Job b637387e-21e2-744f-4b0c-a8717d2f27fa summary\r\n"
          },
          "execution_count": 1,
          "metadata": {}
        },
        {
          "output_type": "execute_result",
          "data": {
            "text/plain": "Elapsed Time (Minutes): 0.0334\r\n"
          },
          "execution_count": 1,
          "metadata": {}
        },
        {
          "output_type": "execute_result",
          "data": {
            "text/plain": "Number of File Transfers: 13\r\n"
          },
          "execution_count": 1,
          "metadata": {}
        },
        {
          "output_type": "execute_result",
          "data": {
            "text/plain": "Number of Folder Property Transfers: 0\r\n"
          },
          "execution_count": 1,
          "metadata": {}
        },
        {
          "output_type": "execute_result",
          "data": {
            "text/plain": "Total Number of Transfers: 13\r\n"
          },
          "execution_count": 1,
          "metadata": {}
        },
        {
          "output_type": "execute_result",
          "data": {
            "text/plain": "Number of Transfers Completed: 13\r\n"
          },
          "execution_count": 1,
          "metadata": {}
        },
        {
          "output_type": "execute_result",
          "data": {
            "text/plain": "Number of Transfers Failed: 0\r\n"
          },
          "execution_count": 1,
          "metadata": {}
        },
        {
          "output_type": "execute_result",
          "data": {
            "text/plain": "Number of Transfers Skipped: 0\r\n"
          },
          "execution_count": 1,
          "metadata": {}
        },
        {
          "output_type": "execute_result",
          "data": {
            "text/plain": "TotalBytesTransferred: 54726\r\n"
          },
          "execution_count": 1,
          "metadata": {}
        },
        {
          "output_type": "execute_result",
          "data": {
            "text/plain": "Final Job Status: Completed\r\n"
          },
          "execution_count": 1,
          "metadata": {}
        },
        {
          "output_type": "execute_result",
          "data": {
            "text/plain": "\r\n"
          },
          "execution_count": 1,
          "metadata": {}
        }
      ]
    },
    {
      "cell_type": "markdown",
      "metadata": {},
      "source": [
        "**Time passes ....**\n",
        "\n",
        "The token expires"
      ]
    },
    {
      "cell_type": "code",
      "execution_count": 1,
      "metadata": {
        "dotnet_interactive": {
          "language": "pwsh"
        }
      },
      "source": [
        "if (Test-Path 'C:\\Program Files\\AzCopy\\azcopy.exe') {\n",
        "    Push-Location 'C:\\Program Files\\AzCopy'\n",
        "    $env:AZCOPY_CRED_TYPE = \"Anonymous\";.\\azcopy.exe  list $sasToken\n",
        "}    "
      ],
      "outputs": [
        {
          "output_type": "execute_result",
          "data": {
            "text/plain": "\r\n"
          },
          "execution_count": 1,
          "metadata": {}
        },
        {
          "output_type": "execute_result",
          "data": {
            "text/plain": "failed to traverse container: cannot list files due to reason -> github.com/Azure/azure-storage-blob-go/azblob.newStorageError, /home/vsts/go/pkg/mod/github.com/!azure/azure-storage-blob-go@v0.10.1-0.20210407023846-16cf969ec1c3/azblob/zc_storage_error.go:42\r\n"
          },
          "execution_count": 1,
          "metadata": {}
        },
        {
          "output_type": "execute_result",
          "data": {
            "text/plain": "===== RESPONSE ERROR (ServiceCode=AuthenticationFailed) =====\r\n"
          },
          "execution_count": 1,
          "metadata": {}
        },
        {
          "output_type": "execute_result",
          "data": {
            "text/plain": "Description=Server failed to authenticate the request. Make sure the value of Authorization header is formed correctly including the signature.\r\n"
          },
          "execution_count": 1,
          "metadata": {}
        },
        {
          "output_type": "execute_result",
          "data": {
            "text/plain": "RequestId:3b51bff8-301e-005c-6853-38447d000000\r\n"
          },
          "execution_count": 1,
          "metadata": {}
        },
        {
          "output_type": "execute_result",
          "data": {
            "text/plain": "Time:2021-04-23T15:17:20.9145739Z, Details: \r\n"
          },
          "execution_count": 1,
          "metadata": {}
        },
        {
          "output_type": "execute_result",
          "data": {
            "text/plain": "   AuthenticationErrorDetail: Signed expiry time [Fri, 23 Apr 2021 15:15:47 GMT] must be after signed start time [Fri, 23 Apr 2021 15:17:20 GMT]\r\n"
          },
          "execution_count": 1,
          "metadata": {}
        },
        {
          "output_type": "execute_result",
          "data": {
            "text/plain": "   Code: AuthenticationFailed\r\n"
          },
          "execution_count": 1,
          "metadata": {}
        },
        {
          "output_type": "execute_result",
          "data": {
            "text/plain": "   GET https://saamdocuments.blob.core.windows.net/amdev-moj?comp=list&delimiter=%2F&include=metadata&restype=container&se=2021-04-23t15%3A15%3A47z&sig=-REDACTED-&sip=81.109.118.32&sp=rwdl&spr=https&sr=c&sv=2019-07-07&timeout=901\r\n"
          },
          "execution_count": 1,
          "metadata": {}
        },
        {
          "output_type": "execute_result",
          "data": {
            "text/plain": "   User-Agent: [AzCopy/10.10.0 Azure-Storage/0.13 (go1.15; Windows_NT)]\r\n"
          },
          "execution_count": 1,
          "metadata": {}
        },
        {
          "output_type": "execute_result",
          "data": {
            "text/plain": "   X-Ms-Client-Request-Id: [a355479c-b2f5-4718-64c8-050a40ce4dff]\r\n"
          },
          "execution_count": 1,
          "metadata": {}
        },
        {
          "output_type": "execute_result",
          "data": {
            "text/plain": "   X-Ms-Version: [2019-12-12]\r\n"
          },
          "execution_count": 1,
          "metadata": {}
        },
        {
          "output_type": "execute_result",
          "data": {
            "text/plain": "   --------------------------------------------------------------------------------\r\n"
          },
          "execution_count": 1,
          "metadata": {}
        },
        {
          "output_type": "execute_result",
          "data": {
            "text/plain": "   RESPONSE Status: 403 Server failed to authenticate the request. Make sure the value of Authorization header is formed correctly including the signature.\r\n"
          },
          "execution_count": 1,
          "metadata": {}
        },
        {
          "output_type": "execute_result",
          "data": {
            "text/plain": "   Content-Length: [489]\r\n"
          },
          "execution_count": 1,
          "metadata": {}
        },
        {
          "output_type": "execute_result",
          "data": {
            "text/plain": "   Content-Type: [application/xml]\r\n"
          },
          "execution_count": 1,
          "metadata": {}
        },
        {
          "output_type": "execute_result",
          "data": {
            "text/plain": "   Date: [Fri, 23 Apr 2021 15:17:20 GMT]\r\n"
          },
          "execution_count": 1,
          "metadata": {}
        },
        {
          "output_type": "execute_result",
          "data": {
            "text/plain": "   Server: [Microsoft-HTTPAPI/2.0]\r\n"
          },
          "execution_count": 1,
          "metadata": {}
        },
        {
          "output_type": "execute_result",
          "data": {
            "text/plain": "   X-Ms-Error-Code: [AuthenticationFailed]\r\n"
          },
          "execution_count": 1,
          "metadata": {}
        },
        {
          "output_type": "execute_result",
          "data": {
            "text/plain": "   X-Ms-Request-Id: [3b51bff8-301e-005c-6853-38447d000000]\r\n"
          },
          "execution_count": 1,
          "metadata": {}
        },
        {
          "output_type": "execute_result",
          "data": {
            "text/plain": "\r\n"
          },
          "execution_count": 1,
          "metadata": {}
        },
        {
          "output_type": "execute_result",
          "data": {
            "text/plain": "\r\n"
          },
          "execution_count": 1,
          "metadata": {}
        },
        {
          "output_type": "execute_result",
          "data": {
            "text/plain": "\r\n"
          },
          "execution_count": 1,
          "metadata": {}
        }
      ]
    },
    {
      "cell_type": "code",
      "execution_count": 1,
      "metadata": {
        "dotnet_interactive": {
          "language": "pwsh"
        }
      },
      "source": [
        "del  Env:\\AZCOPY_CRED_TYPE -ErrorAction SilentlyContinue\n",
        "Pop-Location"
      ],
      "outputs": []
    },
    {
      "cell_type": "markdown",
      "metadata": {},
      "source": [
        "## File share instead of blob containers. \n",
        "\n",
        "Change of storage account. **Create new context**\n",
        ""
      ]
    },
    {
      "cell_type": "code",
      "execution_count": 1,
      "metadata": {
        "dotnet_interactive": {
          "language": "pwsh"
        }
      },
      "source": [
        "$sa2 = Get-AzStorageAccount | where StorageAccountName -eq CSB1003200108f87531 \n",
        "$sa2 | Get-AzStorageshare | Get-AzStoragefile | where {$_.CloudFileDirectory } | Get-AzStoragefile | Out-String"
      ],
      "outputs": [
        {
          "output_type": "execute_result",
          "data": {
            "text/plain": ""
          },
          "execution_count": 1,
          "metadata": {}
        },
        {
          "output_type": "execute_result",
          "data": {
            "text/plain": "\r\n   Directory: https://csb1003200108f87531.file.core.windows.net/cs-subscriptionowner-emsmonitoring-onmicrosoft-1003200108f87531/.cloudconsole\r\n\r\nType                Length Name\r\n----                ------ ----\r\nFile            5368709120 acc_subscription.img\r\n\r\n   Directory: https://csb1003200108f87531.file.core.windows.net/cs-subscriptionowner-emsmonitoring-onmicrosoft-1003200108f87531/AAMR0205\r\n\r\nType                Length Name\r\n----                ------ ----\r\nDirectory                1 ORD0093\r\n\r\n   Directory: https://csb1003200108f87531.file.core.windows.net/cs-subscriptionowner-emsmonitoring-onmicrosoft-1003200108f87531/source\r\n\r\nType                Length Name\r\n----                ------ ----\r\nDirectory                1 .docs\r\nDirectory                1 classes\r\nDirectory                1 private\r\nDirectory                1 public\r\nFile                   683 VSTeam.psm1\r\n\r\n\r\n"
          },
          "execution_count": 1,
          "metadata": {}
        }
      ]
    },
    {
      "cell_type": "code",
      "execution_count": 1,
      "metadata": {
        "dotnet_interactive": {
          "language": "pwsh"
        }
      },
      "source": [
        "$sa2 | Get-AzStorageshare | Get-AzStoragefile | where {-not $_.CloudFileDirectory } | Get-AzStorageFileContent -Destination c:\\temp -PassThru -Force | out-string"
      ],
      "outputs": [
        {
          "output_type": "execute_result",
          "data": {
            "text/plain": ""
          },
          "execution_count": 1,
          "metadata": {}
        },
        {
          "output_type": "execute_result",
          "data": {
            "text/plain": "\r\n   Directory: https://csb1003200108f87531.file.core.windows.net/cs-subscriptionowner-emsmonitoring-onmicrosoft-1003200108f87531\r\n\r\nType                Length Name\r\n----                ------ ----\r\nFile                152149 auditrecords.json\r\nFile                  4487 dbusers.csv\r\nFile                   951 foo.csv\r\nFile                   330 groups.csv\r\nFile                  2816 Import-Groups.ps1\r\nFile                   683 VSTeam.psm1\r\n\r\n\r\n"
          },
          "execution_count": 1,
          "metadata": {}
        }
      ]
    },
    {
      "cell_type": "code",
      "execution_count": 1,
      "metadata": {
        "dotnet_interactive": {
          "language": "pwsh"
        }
      },
      "source": [
        "$context2 = New-AzStorageContext -StorageAccountName $sa2.StorageAccountName -StorageAccountKey  ($sa2 | Get-AzStorageAccountKey | where keyName -eq \"key1\").value \n",
        "$destshare = Get-AzStorageShare  -Context $context2 -name 'cs-subscriptionowner-emsmonitoring-onmicrosoft-1003200108f87531'\n",
        "cd C:\\temp\\source\n",
        "$CurrentFolder = (Get-Item .).FullName\n",
        "Get-ChildItem -Recurse | Where-Object { $_.GetType().Name -eq \"FileInfo\"} | ForEach-Object {\n",
        "        $path=$_.FullName.Substring($Currentfolder.Length+1).Replace(\"\\\",\"/\")\n",
        "        Set-AzStorageFileContent -ShareName 'cs-subscriptionowner-emsmonitoring-onmicrosoft-1003200108f87531' -Source $_.FullName -Path $path -Force -Context $Context2 2> $env:temp\\err.txt\n",
        "    }\n",
        "write-host \"Any item where the path doesn't exist will give an error that's all of these the - last one was \" \n",
        "Get-Content $env:temp\\err.txt -raw\n",
        "Remove-Item $env:temp\\err.txt -ErrorAction SilentlyContinue "
      ],
      "outputs": [
        {
          "output_type": "execute_result",
          "data": {
            "text/plain": ""
          },
          "execution_count": 1,
          "metadata": {}
        },
        {
          "output_type": "execute_result",
          "data": {
            "text/plain": "Any item where the path doesn't exist will give an error that's all of these the - last one was \r\n"
          },
          "execution_count": 1,
          "metadata": {}
        },
        {
          "output_type": "execute_result",
          "data": {
            "text/plain": "\r\n\u001B[91mSet-AzStorageFileContent: \r\n\u001B[96mLine |\r\n\u001B[96m   7 | \u001B[0m         \u001B[96mSet-AzStorageFileContent -ShareName 'cs-subscriptionowner-ems\u001B[0m …\r\n\u001B[96m     | \u001B[91m         ~~~~~~~~~~~~~~~~~~~~~~~~~~~~~~~~~~~~~~~~~~~~~~~~~~~~~~~~~~~~~\r\n\u001B[91m\u001B[96m     | \u001B[91mThe specified parent path does not exist. HTTP Status Code: 404 - HTTP Error Message: The specified parent path does not exist.\r\nErrorCode: ParentNotFound\r\nErrorMessage: The specified parent path does not exist.\r\nRequestId:30752c89-201a-0057-4553-38ef64000000\r\nTime:2021-04-23T15:16:11.6415964Z\u001B[0m\r\n\r\n"
          },
          "execution_count": 1,
          "metadata": {}
        }
      ]
    },
    {
      "cell_type": "code",
      "execution_count": 1,
      "metadata": {
        "dotnet_interactive": {
          "language": "pwsh"
        }
      },
      "source": [
        "$sa2 = Get-AzStorageAccount | where StorageAccountName -eq CSB1003200108f87531 \n",
        "$context2 = New-AzStorageContext -StorageAccountName $sa2.StorageAccountName -StorageAccountKey  ($sa2 | Get-AzStorageAccountKey | where keyName -eq \"key1\").value \n",
        "\n",
        "$sasToken2 = New-AzStorageShareSASToken -Context $context2 -ExpiryTime ([datetime]::now.AddMinutes(5)) `\n",
        "                -fulluri -IPAddressOrRange $myIp -Permission \"rwdl\" -protocol \"httpsOnly\" `\n",
        "                -ShareName 'cs-subscriptionowner-emsmonitoring-onmicrosoft-1003200108f87531' \n",
        "\n",
        "del Env:\\AZCOPY_SPA_CLIENT_SECRET -ErrorAction SilentlyContinue\n",
        "if (Test-Path 'C:\\Program Files\\AzCopy\\azcopy.exe') {\n",
        "    Push-Location 'C:\\Program Files\\AzCopy'    \n",
        "    $env:AZCOPY_CRED_TYPE = \"Anonymous\";\n",
        "    .\\azcopy.exe list $sasToken2  | Out-String\n",
        "}"
      ],
      "outputs": [
        {
          "output_type": "execute_result",
          "data": {
            "text/plain": ""
          },
          "execution_count": 1,
          "metadata": {}
        },
        {
          "output_type": "execute_result",
          "data": {
            "text/plain": "INFO: /;  Content Length: 0.00 B\r\nINFO: dbusers.csv;  Content Length: 4.38 KiB\r\nINFO: groups.csv;  Content Length: 330.00 B\r\nINFO: VSTeam.psm1;  Content Length: 683.00 B\r\nINFO: source/;  Content Length: 0.00 B\r\nINFO: AAMR0205/;  Content Length: 0.00 B\r\nINFO: Import-Groups.ps1;  Content Length: 2.75 KiB\r\nINFO: .cloudconsole/;  Content Length: 0.00 B\r\nINFO: auditrecords.json;  Content Length: 148.58 KiB\r\nINFO: foo.csv;  Content Length: 951.00 B\r\nINFO: .cloudconsole/acc_subscription.img;  Content Length: 5.00 GiB\r\nINFO: source/private/;  Content Length: 0.00 B\r\nINFO: source/.docs/;  Content Length: 0.00 B\r\nINFO: source/public/;  Content Length: 0.00 B\r\nINFO: source/VSTeam.psm1;  Content Length: 683.00 B\r\nINFO: source/classes/;  Content Length: 0.00 B\r\nINFO: AAMR0205/ORD0093/;  Content Length: 0.00 B\r\nINFO: source/.docs/Get-VSTeamProcess.md;  Content Length: 1.83 KiB\r\nINFO: source/.docs/Get-VSTeamWorkItemType.md;  Content Length: 2.59 KiB\r\nINFO: source/.docs/synopsis/;  Content Length: 0.00 B\r\nINFO: source/private/common.ps1;  Content Length: 27.22 KiB\r\nINFO: source/classes/ProjectValidateAttribute.ps1;  Content Length: 677.00 B\r\nINFO: source/classes/TeamQueueCompleter.ps1;  Content Length: 1.38 KiB\r\nINFO: source/classes/VSTeamProjectCache.ps1;  Content Length: 1.37 KiB\r\nINFO: source/classes/VSTeamWorkItemTypeCache.ps1;  Content Length: 3.56 KiB\r\nINFO: source/classes/_classes.json;  Content Length: 2.40 KiB\r\nINFO: source/public/Add-VSTeamBuild.ps1;  Content Length: 2.39 KiB\r\nINFO: source/public/Get-VSTeamWorkItemType.ps1;  Content Length: 3.88 KiB\r\nINFO: source/public/Get-VSTeamWiql.ps1;  Content Length: 2.36 KiB\r\nINFO: source/public/Set-VSTeamDefaultProject.ps1;  Content Length: 3.12 KiB\r\nINFO: AAMR0205/ORD0093/Enforcement Documents/;  Content Length: 0.00 B\r\nINFO: AAMR0205/ORD0093/Enforcement Documents/ENF (1) (1) (1) (2) (1) (1).docx;  Content Length: 11.54 KiB\r\n\r\n"
          },
          "execution_count": 1,
          "metadata": {}
        }
      ]
    },
    {
      "cell_type": "code",
      "execution_count": 1,
      "metadata": {
        "dotnet_interactive": {
          "language": "pwsh"
        }
      },
      "source": [
        ".\\azcopy.exe copy $($sasToken2 -replace \"\\?\", \"/*?\") $env:temp"
      ],
      "outputs": [
        {
          "output_type": "execute_result",
          "data": {
            "text/plain": "INFO: Scanning...\r\n"
          },
          "execution_count": 1,
          "metadata": {}
        },
        {
          "output_type": "execute_result",
          "data": {
            "text/plain": "INFO: Any empty folders will not be processed, because --recursive was not specified\r\n"
          },
          "execution_count": 1,
          "metadata": {}
        },
        {
          "output_type": "execute_result",
          "data": {
            "text/plain": "\r\n"
          },
          "execution_count": 1,
          "metadata": {}
        },
        {
          "output_type": "execute_result",
          "data": {
            "text/plain": "Job 0b645712-b3f7-9442-7bb3-11241bcc114b has started\r\n"
          },
          "execution_count": 1,
          "metadata": {}
        },
        {
          "output_type": "execute_result",
          "data": {
            "text/plain": "Log file is located at: C:\\Users\\P10506111\\.azcopy\\0b645712-b3f7-9442-7bb3-11241bcc114b.log\r\n"
          },
          "execution_count": 1,
          "metadata": {}
        },
        {
          "output_type": "execute_result",
          "data": {
            "text/plain": "\r\n"
          },
          "execution_count": 1,
          "metadata": {}
        },
        {
          "output_type": "execute_result",
          "data": {
            "text/plain": "\r\n"
          },
          "execution_count": 1,
          "metadata": {}
        },
        {
          "output_type": "execute_result",
          "data": {
            "text/plain": "0.0 %, 0 Done, 0 Failed, 6 Pending, 0 Skipped, 6 Total, \r\n"
          },
          "execution_count": 1,
          "metadata": {}
        },
        {
          "output_type": "execute_result",
          "data": {
            "text/plain": "\r\n"
          },
          "execution_count": 1,
          "metadata": {}
        },
        {
          "output_type": "execute_result",
          "data": {
            "text/plain": "\r\n"
          },
          "execution_count": 1,
          "metadata": {}
        },
        {
          "output_type": "execute_result",
          "data": {
            "text/plain": "Job 0b645712-b3f7-9442-7bb3-11241bcc114b summary\r\n"
          },
          "execution_count": 1,
          "metadata": {}
        },
        {
          "output_type": "execute_result",
          "data": {
            "text/plain": "Elapsed Time (Minutes): 0.0333\r\n"
          },
          "execution_count": 1,
          "metadata": {}
        },
        {
          "output_type": "execute_result",
          "data": {
            "text/plain": "Number of File Transfers: 6\r\n"
          },
          "execution_count": 1,
          "metadata": {}
        },
        {
          "output_type": "execute_result",
          "data": {
            "text/plain": "Number of Folder Property Transfers: 0\r\n"
          },
          "execution_count": 1,
          "metadata": {}
        },
        {
          "output_type": "execute_result",
          "data": {
            "text/plain": "Total Number of Transfers: 6\r\n"
          },
          "execution_count": 1,
          "metadata": {}
        },
        {
          "output_type": "execute_result",
          "data": {
            "text/plain": "Number of Transfers Completed: 6\r\n"
          },
          "execution_count": 1,
          "metadata": {}
        },
        {
          "output_type": "execute_result",
          "data": {
            "text/plain": "Number of Transfers Failed: 0\r\n"
          },
          "execution_count": 1,
          "metadata": {}
        },
        {
          "output_type": "execute_result",
          "data": {
            "text/plain": "Number of Transfers Skipped: 0\r\n"
          },
          "execution_count": 1,
          "metadata": {}
        },
        {
          "output_type": "execute_result",
          "data": {
            "text/plain": "TotalBytesTransferred: 161416\r\n"
          },
          "execution_count": 1,
          "metadata": {}
        },
        {
          "output_type": "execute_result",
          "data": {
            "text/plain": "Final Job Status: Completed\r\n"
          },
          "execution_count": 1,
          "metadata": {}
        },
        {
          "output_type": "execute_result",
          "data": {
            "text/plain": "\r\n"
          },
          "execution_count": 1,
          "metadata": {}
        }
      ]
    },
    {
      "cell_type": "markdown",
      "metadata": {},
      "source": [
        "Copy in the other direction"
      ]
    },
    {
      "cell_type": "code",
      "execution_count": 1,
      "metadata": {
        "dotnet_interactive": {
          "language": "pwsh"
        }
      },
      "source": [
        ".\\azcopy.exe  copy C:\\temp\\source $sasToken2  --recursive --overwrite true"
      ],
      "outputs": [
        {
          "output_type": "execute_result",
          "data": {
            "text/plain": "INFO: Scanning...\r\n"
          },
          "execution_count": 1,
          "metadata": {}
        },
        {
          "output_type": "execute_result",
          "data": {
            "text/plain": "INFO: Any empty folders will be processed, because source and destination both support folders\r\n"
          },
          "execution_count": 1,
          "metadata": {}
        },
        {
          "output_type": "execute_result",
          "data": {
            "text/plain": "\r\n"
          },
          "execution_count": 1,
          "metadata": {}
        },
        {
          "output_type": "execute_result",
          "data": {
            "text/plain": "Job a3e84daf-d580-a644-7aef-5e4652380635 has started\r\n"
          },
          "execution_count": 1,
          "metadata": {}
        },
        {
          "output_type": "execute_result",
          "data": {
            "text/plain": "Log file is located at: C:\\Users\\P10506111\\.azcopy\\a3e84daf-d580-a644-7aef-5e4652380635.log\r\n"
          },
          "execution_count": 1,
          "metadata": {}
        },
        {
          "output_type": "execute_result",
          "data": {
            "text/plain": "\r\n"
          },
          "execution_count": 1,
          "metadata": {}
        },
        {
          "output_type": "execute_result",
          "data": {
            "text/plain": "\r\n"
          },
          "execution_count": 1,
          "metadata": {}
        },
        {
          "output_type": "execute_result",
          "data": {
            "text/plain": "0.0 %, 0 Done, 0 Failed, 19 Pending, 0 Skipped, 19 Total, \r\n"
          },
          "execution_count": 1,
          "metadata": {}
        },
        {
          "output_type": "execute_result",
          "data": {
            "text/plain": "\r\n"
          },
          "execution_count": 1,
          "metadata": {}
        },
        {
          "output_type": "execute_result",
          "data": {
            "text/plain": "\r\n"
          },
          "execution_count": 1,
          "metadata": {}
        },
        {
          "output_type": "execute_result",
          "data": {
            "text/plain": "Job a3e84daf-d580-a644-7aef-5e4652380635 summary\r\n"
          },
          "execution_count": 1,
          "metadata": {}
        },
        {
          "output_type": "execute_result",
          "data": {
            "text/plain": "Elapsed Time (Minutes): 0.0333\r\n"
          },
          "execution_count": 1,
          "metadata": {}
        },
        {
          "output_type": "execute_result",
          "data": {
            "text/plain": "Number of File Transfers: 13\r\n"
          },
          "execution_count": 1,
          "metadata": {}
        },
        {
          "output_type": "execute_result",
          "data": {
            "text/plain": "Number of Folder Property Transfers: 6\r\n"
          },
          "execution_count": 1,
          "metadata": {}
        },
        {
          "output_type": "execute_result",
          "data": {
            "text/plain": "Total Number of Transfers: 19\r\n"
          },
          "execution_count": 1,
          "metadata": {}
        },
        {
          "output_type": "execute_result",
          "data": {
            "text/plain": "Number of Transfers Completed: 19\r\n"
          },
          "execution_count": 1,
          "metadata": {}
        },
        {
          "output_type": "execute_result",
          "data": {
            "text/plain": "Number of Transfers Failed: 0\r\n"
          },
          "execution_count": 1,
          "metadata": {}
        },
        {
          "output_type": "execute_result",
          "data": {
            "text/plain": "Number of Transfers Skipped: 0\r\n"
          },
          "execution_count": 1,
          "metadata": {}
        },
        {
          "output_type": "execute_result",
          "data": {
            "text/plain": "TotalBytesTransferred: 54726\r\n"
          },
          "execution_count": 1,
          "metadata": {}
        },
        {
          "output_type": "execute_result",
          "data": {
            "text/plain": "Final Job Status: Completed\r\n"
          },
          "execution_count": 1,
          "metadata": {}
        },
        {
          "output_type": "execute_result",
          "data": {
            "text/plain": "\r\n"
          },
          "execution_count": 1,
          "metadata": {}
        }
      ]
    },
    {
      "cell_type": "markdown",
      "metadata": {},
      "source": [
        "## Back to back without local copy\n",
        "\n",
        "This won't run from local IP. Keep the token windows short, don't get write access on the read side etc. "
      ]
    },
    {
      "cell_type": "code",
      "execution_count": 1,
      "metadata": {
        "dotnet_interactive": {
          "language": "pwsh"
        }
      },
      "source": [
        "$sastoken = New-AzStorageContainerSASToken -FullUri  -Context $context  -name               'amdev-moj' `\n",
        "                                           -ExpiryTime ([datetime]::now.AddMinutes(2))    -Permission 'rl' -Protocol  httpsOnly \n",
        "\n",
        "$sasToken2 = New-AzStorageShareSASToken    -FullUri  -Context $context2 -ShareName        'cs-subscriptionowner-emsmonitoring-onmicrosoft-1003200108f87531' `\n",
        "                                           -ExpiryTime ([datetime]::now.AddMinutes(2))    -Permission 'rwdl' -Protocol httpsOnly \n",
        "\n",
        ".\\azcopy.exe  copy $sastoken  $sasToken2  --recursive "
      ],
      "outputs": [
        {
          "output_type": "execute_result",
          "data": {
            "text/plain": ""
          },
          "execution_count": 1,
          "metadata": {}
        },
        {
          "output_type": "execute_result",
          "data": {
            "text/plain": "INFO: Scanning...\r\n"
          },
          "execution_count": 1,
          "metadata": {}
        },
        {
          "output_type": "execute_result",
          "data": {
            "text/plain": "INFO: Failed to create one or more destination container(s). Your transfers may still succeed if the container already exists.\r\n"
          },
          "execution_count": 1,
          "metadata": {}
        },
        {
          "output_type": "execute_result",
          "data": {
            "text/plain": "INFO: Any empty folders will not be processed, because source and/or destination doesn't have full folder support\r\n"
          },
          "execution_count": 1,
          "metadata": {}
        },
        {
          "output_type": "execute_result",
          "data": {
            "text/plain": "\r\n"
          },
          "execution_count": 1,
          "metadata": {}
        },
        {
          "output_type": "execute_result",
          "data": {
            "text/plain": "Job 8e501daf-a85b-0c47-66d1-870f2f689d51 has started\r\n"
          },
          "execution_count": 1,
          "metadata": {}
        },
        {
          "output_type": "execute_result",
          "data": {
            "text/plain": "Log file is located at: C:\\Users\\P10506111\\.azcopy\\8e501daf-a85b-0c47-66d1-870f2f689d51.log\r\n"
          },
          "execution_count": 1,
          "metadata": {}
        },
        {
          "output_type": "execute_result",
          "data": {
            "text/plain": "\r\n"
          },
          "execution_count": 1,
          "metadata": {}
        },
        {
          "output_type": "execute_result",
          "data": {
            "text/plain": "\r\n"
          },
          "execution_count": 1,
          "metadata": {}
        },
        {
          "output_type": "execute_result",
          "data": {
            "text/plain": "0.0 %, 0 Done, 0 Failed, 15 Pending, 0 Skipped, 15 Total, \r\n"
          },
          "execution_count": 1,
          "metadata": {}
        },
        {
          "output_type": "execute_result",
          "data": {
            "text/plain": "\r\n"
          },
          "execution_count": 1,
          "metadata": {}
        },
        {
          "output_type": "execute_result",
          "data": {
            "text/plain": "\r\n"
          },
          "execution_count": 1,
          "metadata": {}
        },
        {
          "output_type": "execute_result",
          "data": {
            "text/plain": "Job 8e501daf-a85b-0c47-66d1-870f2f689d51 summary\r\n"
          },
          "execution_count": 1,
          "metadata": {}
        },
        {
          "output_type": "execute_result",
          "data": {
            "text/plain": "Elapsed Time (Minutes): 0.0333\r\n"
          },
          "execution_count": 1,
          "metadata": {}
        },
        {
          "output_type": "execute_result",
          "data": {
            "text/plain": "Number of File Transfers: 15\r\n"
          },
          "execution_count": 1,
          "metadata": {}
        },
        {
          "output_type": "execute_result",
          "data": {
            "text/plain": "Number of Folder Property Transfers: 0\r\n"
          },
          "execution_count": 1,
          "metadata": {}
        },
        {
          "output_type": "execute_result",
          "data": {
            "text/plain": "Total Number of Transfers: 15\r\n"
          },
          "execution_count": 1,
          "metadata": {}
        },
        {
          "output_type": "execute_result",
          "data": {
            "text/plain": "Number of Transfers Completed: 15\r\n"
          },
          "execution_count": 1,
          "metadata": {}
        },
        {
          "output_type": "execute_result",
          "data": {
            "text/plain": "Number of Transfers Failed: 0\r\n"
          },
          "execution_count": 1,
          "metadata": {}
        },
        {
          "output_type": "execute_result",
          "data": {
            "text/plain": "Number of Transfers Skipped: 0\r\n"
          },
          "execution_count": 1,
          "metadata": {}
        },
        {
          "output_type": "execute_result",
          "data": {
            "text/plain": "TotalBytesTransferred: 108575\r\n"
          },
          "execution_count": 1,
          "metadata": {}
        },
        {
          "output_type": "execute_result",
          "data": {
            "text/plain": "Final Job Status: Completed\r\n"
          },
          "execution_count": 1,
          "metadata": {}
        },
        {
          "output_type": "execute_result",
          "data": {
            "text/plain": "\r\n"
          },
          "execution_count": 1,
          "metadata": {}
        }
      ]
    }
  ],
  "metadata": {
    "kernelspec": {
      "display_name": ".NET (C#)",
      "language": "C#",
      "name": ".net-csharp"
    },
    "language_info": {
      "file_extension": ".cs",
      "mimetype": "text/x-csharp",
      "name": "C#",
      "pygments_lexer": "csharp",
      "version": "8.0"
    }
  },
  "nbformat": 4,
  "nbformat_minor": 4
}