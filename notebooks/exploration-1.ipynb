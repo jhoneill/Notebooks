{
  "cells": [
    {
      "cell_type": "markdown",
      "metadata": {},
      "source": [
        "## What version are we?"
      ]
    },
    {
      "cell_type": "code",
      "execution_count": 1,
      "metadata": {},
      "source": [
        "#!about"
      ],
      "outputs": [
        {
          "output_type": "execute_result",
          "data": {
            "text/html": [
              "<table><tbody><tr><td><img src=\"data:image/png;base64, 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\" width=\"125em\"></img></td><td style=\"line-height:.8em\"><p style=\"font-size:1.5em\"><b>.NET Interactive</b></p><p>&#169; 2020 Microsoft Corporation</p><p><b>Version: </b>1.0.142601+586ab2f29818edea7c19c383874977fe5d0391fc</p><p><b>Build date: </b>2020-09-17T15:38:08.7508410Z</p><p><a href=\"https://github.com/dotnet/interactive\">https://github.com/dotnet/interactive</a></p></td></tr></tbody></table>"
            ]
          },
          "execution_count": 1,
          "metadata": {}
        }
      ]
    },
    {
      "cell_type": "code",
      "execution_count": 1,
      "metadata": {},
      "source": [
        "$psversionTable"
      ],
      "outputs": [
        {
          "output_type": "stream",
          "name": "stdout",
          "text": "\nName                           Value\n----                           -----\nPSVersion                      7.0.2\nPSEdition                      Core\nGitCommitId                    7.0.2\nOS                             Microsoft Windows 10.0.18363\nPlatform                       Win32NT\nPSCompatibleVersions           {1.0, 2.0, 3.0, 4.0ÔÇª}\nPSRemotingProtocolVersion      2.3\nSerializationVersion           1.1.0.1\nWSManStackVersion              3.0\n"
        }
      ]
    },
    {
      "cell_type": "code",
      "execution_count": 1,
      "metadata": {},
      "source": [
        "$host.Name\r\n",
        "$host.UI.RawUI"
      ],
      "outputs": [
        {
          "output_type": "stream",
          "name": "stdout",
          "text": ".NET Interactive Host\n\nForegroundColor       : -1\nBackgroundColor       : -1\nCursorPosition        : \nWindowPosition        : \nCursorSize            : \nBufferSize            : 100,50\nWindowSize            : 100,50\nMaxWindowSize         : 100,50\nMaxPhysicalWindowSize : 100,50\nKeyAvailable          : \nWindowTitle           : \n\n"
        }
      ]
    },
    {
      "cell_type": "markdown",
      "metadata": {},
      "source": [
        "## Markdown contains formatted text and images \r\n",
        "\r\n",
        "* *emphasis*\r\n",
        "* **Strong Emphasis**\r\n",
        "* `code`\r\n",
        "* etc. \r\n",
        "\r\n",
        "```PowerShell\r\n",
        "write-host \"This is a script block formatted as PowerShell\" -fore red\r\n",
        "# How good the format is varies ! \r\n",
        "```\r\n",
        "\r\n",
        "Folding markdown cells hides the code cells between them and the next markdown with the same title level. **THIS ONE** breaks folding because the is no code beneath. \r\n",
        "\r\n",
        "Local images work better if the path is relative to the .ipynb file or they can be fetched over http    \r\n",
        "![Untitled2.png](./Untitled2.png)    \r\n",
        "![James Avatar](https://jhoneill.github.io/assets/james.jpg)"
      ]
    },
    {
      "cell_type": "code",
      "execution_count": 1,
      "metadata": {},
      "source": [
        "#!html\r\n",
        "<strong>.NET interactive allows Cells to have a <em>language</em> of HTML</strong><br/>  \r\n",
        "Language is selected with <em>Magic commands</em> <code>#!html</code>, <code>#!pwsh</code>, \r\n",
        "<code>#!javascript</code>, <code>#!fsharp</code> and <code>#!csharp</code>. <br/>\r\n",
        "There is a full list of magic commands further down."
      ],
      "outputs": [
        {
          "output_type": "execute_result",
          "data": {
            "text/html": [
              "\n",
              "<strong>.NET interactive allows Cells to have a <em>language</em> of HTML</strong><br/>  \n",
              "Language is selected with <em>Magic commands</em> <code>#!html</code>, <code>#!pwsh</code>, \n",
              "<code>#!javascript</code>, <code>#!fsharp</code> and <code>#!csharp</code>. <br/>\n",
              "There is a full list of magic commands further down."
            ]
          },
          "execution_count": 1,
          "metadata": {}
        }
      ]
    },
    {
      "cell_type": "markdown",
      "metadata": {},
      "source": [
        "## Normal shell things ... "
      ]
    },
    {
      "cell_type": "code",
      "execution_count": 1,
      "metadata": {},
      "source": [
        "git status"
      ],
      "outputs": [
        {
          "output_type": "execute_result",
          "data": {
            "text/plain": "On branch master\r\n"
          },
          "execution_count": 1,
          "metadata": {}
        },
        {
          "output_type": "execute_result",
          "data": {
            "text/plain": "Your branch is up to date with 'origin/master'.\r\n"
          },
          "execution_count": 1,
          "metadata": {}
        },
        {
          "output_type": "execute_result",
          "data": {
            "text/plain": "\r\n"
          },
          "execution_count": 1,
          "metadata": {}
        },
        {
          "output_type": "execute_result",
          "data": {
            "text/plain": "Changes to be committed:\r\n"
          },
          "execution_count": 1,
          "metadata": {}
        },
        {
          "output_type": "execute_result",
          "data": {
            "text/plain": "  (use \"git restore --staged <file>...\" to unstage)\r\n"
          },
          "execution_count": 1,
          "metadata": {}
        },
        {
          "output_type": "execute_result",
          "data": {
            "text/plain": "\trenamed:    notebooks/LensDataPlots.ipynb -> LensDataPlots.ipynb\r\n"
          },
          "execution_count": 1,
          "metadata": {}
        },
        {
          "output_type": "execute_result",
          "data": {
            "text/plain": "\trenamed:    notebooks/Plotly.ipynb -> Plotly.ipynb\r\n"
          },
          "execution_count": 1,
          "metadata": {}
        },
        {
          "output_type": "execute_result",
          "data": {
            "text/plain": "\trenamed:    notebooks/Untitled2.png -> Untitled2.png\r\n"
          },
          "execution_count": 1,
          "metadata": {}
        },
        {
          "output_type": "execute_result",
          "data": {
            "text/plain": "\trenamed:    notebooks/exploration-1.ipynb -> exploration-1.ipynb\r\n"
          },
          "execution_count": 1,
          "metadata": {}
        },
        {
          "output_type": "execute_result",
          "data": {
            "text/plain": "\trenamed:    notebooks/schema.png -> schema.png\r\n"
          },
          "execution_count": 1,
          "metadata": {}
        },
        {
          "output_type": "execute_result",
          "data": {
            "text/plain": "\trenamed:    notebooks/this.ipynb -> this.ipynb\r\n"
          },
          "execution_count": 1,
          "metadata": {}
        },
        {
          "output_type": "execute_result",
          "data": {
            "text/plain": "\r\n"
          },
          "execution_count": 1,
          "metadata": {}
        },
        {
          "output_type": "execute_result",
          "data": {
            "text/plain": "Changes not staged for commit:\r\n"
          },
          "execution_count": 1,
          "metadata": {}
        },
        {
          "output_type": "execute_result",
          "data": {
            "text/plain": "  (use \"git add/rm <file>...\" to update what will be committed)\r\n"
          },
          "execution_count": 1,
          "metadata": {}
        },
        {
          "output_type": "execute_result",
          "data": {
            "text/plain": "  (use \"git restore <file>...\" to discard changes in working directory)\r\n"
          },
          "execution_count": 1,
          "metadata": {}
        },
        {
          "output_type": "execute_result",
          "data": {
            "text/plain": "\tmodified:   README.md\r\n"
          },
          "execution_count": 1,
          "metadata": {}
        },
        {
          "output_type": "execute_result",
          "data": {
            "text/plain": "\tdeleted:    notebooks/NotebookOutput.ps1\r\n"
          },
          "execution_count": 1,
          "metadata": {}
        },
        {
          "output_type": "execute_result",
          "data": {
            "text/plain": "\tdeleted:    notebooks/plotly.psm1\r\n"
          },
          "execution_count": 1,
          "metadata": {}
        },
        {
          "output_type": "execute_result",
          "data": {
            "text/plain": "\r\n"
          },
          "execution_count": 1,
          "metadata": {}
        },
        {
          "output_type": "execute_result",
          "data": {
            "text/plain": "Untracked files:\r\n"
          },
          "execution_count": 1,
          "metadata": {}
        },
        {
          "output_type": "execute_result",
          "data": {
            "text/plain": "  (use \"git add <file>...\" to include in what will be committed)\r\n"
          },
          "execution_count": 1,
          "metadata": {}
        },
        {
          "output_type": "execute_result",
          "data": {
            "text/plain": "\tdemo.svg\r\n"
          },
          "execution_count": 1,
          "metadata": {}
        },
        {
          "output_type": "execute_result",
          "data": {
            "text/plain": "\r\n"
          },
          "execution_count": 1,
          "metadata": {}
        }
      ]
    },
    {
      "cell_type": "code",
      "execution_count": 1,
      "metadata": {},
      "source": [
        "write-host -ForegroundColor Green \"boo hoo\""
      ],
      "outputs": [
        {
          "output_type": "execute_result",
          "data": {
            "text/plain": "\u001b[92mboo hoo\u001b[0m\r\n"
          },
          "execution_count": 1,
          "metadata": {}
        }
      ]
    },
    {
      "cell_type": "markdown",
      "metadata": {},
      "source": [
        "## Where were we called from"
      ]
    },
    {
      "cell_type": "code",
      "execution_count": 1,
      "metadata": {},
      "source": [
        "$pshome\r\n",
        "$p = Get-process -id $pid   \r\n",
        "$p, $p.Parent, $p.Parent.Parent,$p.Parent.Parent.parent,$p.Parent.Parent.parent.parent\r\n",
        "Get-CimInstance -ClassName win32_process -Filter \"processID = $($p.id)\" |  select -expand commandline\r\n",
        "Get-CimInstance -ClassName win32_process -Filter \"processID = $($p.Parent.id)\" |  select -expand commandline\r\n",
        "Get-CimInstance -ClassName win32_process -Filter \"processID = $($p.Parent.parent.id)\" |  select -expand commandline\r\n",
        "Get-CimInstance -ClassName win32_process -Filter \"processID = $($p.Parent.parent.parent.id)\" |  select -expand commandline\r\n",
        "Get-CimInstance -ClassName win32_process -Filter \"processID = $($p.Parent.parent.parent.parent.id)\" |  select -expand commandline"
      ],
      "outputs": [
        {
          "output_type": "stream",
          "name": "stdout",
          "text": "C:\\Users\\P10506111\\.dotnet\\tools\\.store\\microsoft.dotnet-interactive\\1.0.142601\\microsoft.dotnet-interactive\\1.0.142601\\tools\\netcoreapp3.1\\any\\runtimes\\win\\lib\\netcoreapp3.1\n\n NPM(K)    PM(M)      WS(M)     CPU(s)      Id  SI ProcessName\n ------    -----      -----     ------      --  -- -----------\n    272   775.73     669.78      18.59   98748   1 dotnet-interactive\n     22    11.38      22.16       0.38   72036   1 dotnet\n     77    56.41      72.95       3.62   98208   1 python\n     15     8.93      16.02       0.25  101524   1 python\n    133   239.44     610.47   2,387.19    7180   1 explorer\n\"C:\\Users\\P10506111\\.dotnet\\tools\\dotnet-interactive.exe\" jupyter --default-kernel csharp C:\\Users\\P10506111\\AppData\\Roaming\\jupyter\\runtime\\kernel-949c3f13-6b7f-46f0-86d9-ac74840d9cbd.json\ndotnet interactive jupyter --default-kernel csharp C:\\Users\\P10506111\\AppData\\Roaming\\jupyter\\runtime\\kernel-949c3f13-6b7f-46f0-86d9-ac74840d9cbd.json\nC:\\ProgramData\\Anaconda3\\python.exe C:\\ProgramData\\Anaconda3\\Scripts\\jupyter-notebook-script.py C:\\Users\\P10506111/\n\"C:\\ProgramData\\Anaconda3\\python.exe\" C:\\ProgramData\\Anaconda3\\cwp.py C:\\ProgramData\\Anaconda3 C:\\ProgramData\\Anaconda3\\python.exe C:\\ProgramData\\Anaconda3\\Scripts\\jupyter-notebook-script.py \"C:\\Users\\P10506111/\"\nC:\\WINDOWS\\Explorer.EXE\n"
        }
      ]
    },
    {
      "cell_type": "markdown",
      "metadata": {},
      "source": [
        "*In a browser you can check who owns the port you connected to*   \r\n",
        "**Note: things which display a progress bar and then try to close it can cause an error, so turn progress display off**"
      ]
    },
    {
      "cell_type": "code",
      "execution_count": 1,
      "metadata": {},
      "source": [
        "$ProgressPreference = 'silentlyContinue'\r\n",
        "Get-NetTCPConnection -LocalPort 9815,8888 -State Listen | ft -a"
      ],
      "outputs": [
        {
          "output_type": "stream",
          "name": "stdout",
          "text": "\nLocalAddress LocalPort RemoteAddress RemotePort State  AppliedSetting OwningProcess\n------------ --------- ------------- ---------- -----  -------------- -------------\n::1          8888      ::            0          Listen                98208\n127.0.0.1    8888      0.0.0.0       0          Listen                98208\n"
        }
      ]
    },
    {
      "cell_type": "markdown",
      "metadata": {},
      "source": [
        "## PowerShell modules loaded in a clean session, and modules available"
      ]
    },
    {
      "cell_type": "code",
      "execution_count": 1,
      "metadata": {},
      "source": [
        "Get-module"
      ],
      "outputs": [
        {
          "output_type": "stream",
          "name": "stdout",
          "text": "\nModuleType Version    PreRelease Name                                ExportedCommands\n---------- -------    ---------- ----                                ----------------\nBinary     7.0.0.0               CimCmdlets                          {Get-CimAssociatedInstance, GÔÇª\nScript     0.0                   Load-Assemblies                     \nManifest   0.1.0                 Microsoft.DotNet.Interactive.PowerÔÇª {Enter-AzShell, New-PlotlyChaÔÇª\nManifest   7.0.0.0               Microsoft.PowerShell.Management     {Add-Content, Clear-Content, ÔÇª\nManifest   7.0.0.0               Microsoft.PowerShell.Utility        {Add-Member, Add-Type, Clear-ÔÇª\nManifest   1.0.0.0               NetTCPIP                            {Find-NetRoute, Get-NetComparÔÇª\nScript     2.4.4                 PowerShellNotebook                  {Add-NotebookCode, Add-NoteboÔÇª\nScript     0.4.0                 powershell-yaml                     {ConvertFrom-Yaml, ConvertTo-ÔÇª\nScript     2.2.0                 PSGraph                             {Cells, Edge, Entity, Export-ÔÇª\n"
        }
      ]
    },
    {
      "cell_type": "code",
      "execution_count": 1,
      "metadata": {},
      "source": [
        "Get-Module -ListAvailable | \r\n",
        "    group -no -Property @{e={\r\n",
        "        Split-Path -Parent $_.Path | \r\n",
        "            %{if ([Version]::TryParse((Split-Path $_ -Leaf), [ref]$null)) {Split-Path -Parent $_} else {$_} } | \r\n",
        "                 Split-Path -Parent\r\n",
        "     }} | ft -AutoSize -wrap"
      ],
      "outputs": [
        {
          "output_type": "stream",
          "name": "stdout",
          "text": "\nCount Name\n----- ----\n    1 C:\\Program Files\\PowerShell\\Modules\n   73 C:\\Program Files\\WindowsPowerShell\\Modules\n    5 C:\\Users\\P10506111\\.dotnet\\tools\\.store\\microsoft.dotnet-interactive\\1.0.142601\\microsoft.dot\n      net-interactive\\1.0.142601\\tools\\netcoreapp3.1\\any\\Modules\n    8 C:\\users\\p10506111\\.dotnet\\tools\\.store\\microsoft.dotnet-interactive\\1.0.142601\\microsoft.dot\n      net-interactive\\1.0.142601\\tools\\netcoreapp3.1\\any\\runtimes\\win\\lib\\netcoreapp3.1\\Modules\n   15 C:\\Users\\P10506111\\Documents\\PowerShell\\Modules\n   50 C:\\WINDOWS\\system32\\WindowsPowerShell\\v1.0\\Modules\n"
        }
      ]
    },
    {
      "cell_type": "code",
      "execution_count": 1,
      "metadata": {},
      "source": [
        "Get-Module -ListAvailable | where path -Match \"netcoreapp\" | ft name ,exportedCommands"
      ],
      "outputs": [
        {
          "output_type": "stream",
          "name": "stdout",
          "text": "\nName                                    ExportedCommands\n----                                    ----------------\nMicrosoft.DotNet.Interactive.PowerShell {[Enter-AzShell, Enter-AzShell], [New-PlotlyChart, New-PloÔÇª\nMicrosoft.PowerShell.Archive            {[Compress-Archive, Compress-Archive], [Expand-Archive, ExÔÇª\nPackageManagement                       {[Find-Package, Find-Package], [Get-Package, Get-Package],ÔÇª\nPowerShellGet                           {[Find-Command, Find-Command], [Find-DSCResource, Find-DSCÔÇª\nThreadJob                               {[Start-ThreadJob, Start-ThreadJob]}\nCimCmdlets                              {[Get-CimAssociatedInstance, Get-CimAssociatedInstance], [ÔÇª\nMicrosoft.PowerShell.Diagnostics        {[Get-WinEvent, Get-WinEvent], [New-WinEvent, New-WinEventÔÇª\nMicrosoft.PowerShell.Host               {[Start-Transcript, Start-Transcript], [Stop-Transcript, SÔÇª\nMicrosoft.PowerShell.Management         {[Add-Content, Add-Content], [Clear-Content, Clear-ContentÔÇª\nMicrosoft.PowerShell.Security           {[Get-Acl, Get-Acl], [Set-Acl, Set-Acl], [Get-PfxCertificaÔÇª\nMicrosoft.PowerShell.Utility            {[Export-Alias, Export-Alias], [Get-Alias, Get-Alias], [ImÔÇª\nMicrosoft.WSMan.Management              {[Disable-WSManCredSSP, Disable-WSManCredSSP], [Enable-WSMÔÇª\nPSDiagnostics                           {[Disable-PSTrace, Disable-PSTrace], [Disable-PSWSManCombiÔÇª\n"
        }
      ]
    },
    {
      "cell_type": "markdown",
      "metadata": {},
      "source": [
        "## What is in the PowerShell module which comes with .Net Interactive ? "
      ]
    },
    {
      "cell_type": "code",
      "execution_count": 1,
      "metadata": {},
      "source": [
        "ipmo Microsoft.DotNet.Interactive.PowerShell\r\n",
        "Get-command -Module Microsoft.DotNet.Interactive.PowerShell"
      ],
      "outputs": [
        {
          "output_type": "stream",
          "name": "stdout",
          "text": "\nCommandType     Name                                               Version    Source\n-----------     ----                                               -------    ------\nCmdlet          Enter-AzShell                                      0.1.0      Microsoft.DotNet.IntÔÇª\nCmdlet          New-PlotlyChart                                    0.1.0      Microsoft.DotNet.IntÔÇª\nCmdlet          Out-Display                                        0.1.0      Microsoft.DotNet.IntÔÇª\n"
        }
      ]
    },
    {
      "cell_type": "markdown",
      "metadata": {},
      "source": [
        "## Out-Display, plotly charts and other & preformed HTML\r\n",
        "First magic command  `#!time` and use of  `[Microsoft.DotNet.Interactive.Kernel]::HTML($html)` \r\n",
        "\r\n",
        "**Note:** Plotly uses Java-script and may not render in all viewers "
      ]
    },
    {
      "cell_type": "code",
      "execution_count": 1,
      "metadata": {},
      "source": [
        "#!time \r\n",
        "$x = \"Counting\" | Out-Display -PassThru\r\n",
        "1..5 | %{sleep 1; $x.Update($_) }"
      ],
      "outputs": [
        {
          "output_type": "execute_result",
          "data": {
            "text/html": [
              "<div class=\"dni-plaintext\">5</div>"
            ]
          },
          "execution_count": 1,
          "metadata": {}
        },
        {
          "output_type": "execute_result",
          "data": {
            "text/plain": [
              "Wall time: 5049.4119ms"
            ]
          },
          "execution_count": 1,
          "metadata": {}
        }
      ]
    },
    {
      "cell_type": "code",
      "execution_count": 1,
      "metadata": {},
      "source": [
        "New-Object -TypeName XPlot.Plotly.Graph+Bar -Property @{\r\n",
        "            x = @('C#', 'JavaScript', 'PHP', 'PowerShell','Python')\r\n",
        "            y = @(23,17,12,35,29)\r\n",
        "} | New-PlotlyChart -Title 'Students' | Out-Display"
      ],
      "outputs": [
        {
          "output_type": "execute_result",
          "data": {
            "text/html": "<div id=\"14daa5b4-fc3c-47a1-b0ee-7768dcd01504\" style=\"width: 900px; height: 500px;\"></div>\r\n<script type=\"text/javascript\">\r\n\r\nvar renderPlotly = function() {\r\n    var xplotRequire = require.config({context:'xplot-3.0.1',paths:{plotly:'https://cdn.plot.ly/plotly-1.49.2.min'}}) || require;\r\n    xplotRequire(['plotly'], function(Plotly) {\r\n\n            var data = [{\"type\":\"bar\",\"x\":[\"C#\",\"JavaScript\",\"PHP\",\"PowerShell\",\"Python\"],\"y\":[23,17,12,35,29]}];\n            var layout = {\"title\":\"Students\"};\n            Plotly.newPlot('14daa5b4-fc3c-47a1-b0ee-7768dcd01504', data, layout);\n        \r\n});\r\n};\r\nif ((typeof(require) !==  typeof(Function)) || (typeof(require.config) !== typeof(Function))) {\r\n    var script = document.createElement(\"script\"); \r\n    script.setAttribute(\"src\", \"https://cdnjs.cloudflare.com/ajax/libs/require.js/2.3.6/require.min.js\");\r\n    script.onload = function(){\r\n        renderPlotly();\r\n    };\r\n    document.getElementsByTagName(\"head\")[0].appendChild(script); \r\n}\r\nelse {\r\n    renderPlotly();\r\n}\r\n</script>\r\n"
          },
          "execution_count": 1,
          "metadata": {}
        }
      ]
    },
    {
      "cell_type": "code",
      "execution_count": 1,
      "metadata": {},
      "source": [
        "$html = Get-Command -Module Microsoft.DotNet.Interactive.PowerShell | \r\n",
        "        ConvertTo-Html -Fragment -Property Name , Version \r\n",
        "\r\n",
        "[Microsoft.DotNet.Interactive.Kernel]::HTML($html) | Out-Display"
      ],
      "outputs": [
        {
          "output_type": "execute_result",
          "data": {
            "text/html": [
              "<table> <colgroup><col/><col/></colgroup> <tr><th>Name</th><th>Version</th></tr> <tr><td>Enter-AzShell</td><td>0.1.0</td></tr> <tr><td>New-PlotlyChart</td><td>0.1.0</td></tr> <tr><td>Out-Display</td><td>0.1.0</td></tr> </table>"
            ]
          },
          "execution_count": 1,
          "metadata": {}
        }
      ]
    },
    {
      "cell_type": "markdown",
      "metadata": {},
      "source": [
        "**If you don't have the files for the next code-cell skip it and load the SVG data from the following one**"
      ]
    },
    {
      "cell_type": "code",
      "execution_count": 1,
      "metadata": {},
      "source": [
        "Import-Module ~\\documents\\azdo\\serverautomationdemo\\utils\\PSGraph\\ -Force # My version!\r\n",
        ". ~\\documents\\azdo\\serverautomationdemo\\utils\\PlotDevopsPipelines.ps1\r\n",
        "\r\n",
        "$svg = plot_pipeline ~\\documents\\azdo\\serverautomationdemo\\CI\\FollowOn.pipeline.yml  -DestinationPath \"\" \r\n",
        "$svg | out-file -Encoding utf8 -path ./demo.svg"
      ],
      "outputs": []
    },
    {
      "cell_type": "markdown",
      "metadata": {},
      "source": [
        "**If you used the previous code-cell you can skip the next one**"
      ]
    },
    {
      "cell_type": "code",
      "execution_count": 1,
      "metadata": {},
      "source": [
        "$svg = Get-Content ./demo.svg"
      ],
      "outputs": []
    },
    {
      "cell_type": "code",
      "execution_count": 1,
      "metadata": {},
      "source": [
        "[Microsoft.DotNet.Interactive.Kernel]::HTML($svg) | Out-Display"
      ],
      "outputs": [
        {
          "output_type": "execute_result",
          "data": {
            "text/html": "<?xml version=\"1.0\" encoding=\"UTF-8\" standalone=\"no\"?> <!DOCTYPE svg PUBLIC \"-//W3C//DTD SVG 1.1//EN\"  \"http://www.w3.org/Graphics/SVG/1.1/DTD/svg11.dtd\"> <!-- Generated by graphviz version 2.38.0 (20140413.2041)  --> <!-- Title: g Pages: 1 --> <svg width=\"248pt\" height=\"279pt\"  viewBox=\"0.00 0.00 248.00 279.00\" xmlns=\"http://www.w3.org/2000/svg\" xmlns:xlink=\"http://www.w3.org/1999/xlink\"> <g id=\"graph0\" class=\"graph\" transform=\"scale(1 1) rotate(0) translate(4 275)\"> <title>g</title> <polygon fill=\"white\" stroke=\"none\" points=\"-4,4 -4,-275 244,-275 244,4 -4,4\"/> <g id=\"clust1\" class=\"cluster\"><title>clustercd1009969553</title> <polygon fill=\"none\" stroke=\"black\" points=\"8,-8 8,-227 232,-227 232,-8 8,-8\"/> <text text-anchor=\"middle\" x=\"120\" y=\"-211.8\" font-family=\"Times New Roman,serif\" font-size=\"14.00\">Stage: FollowOnStage</text> </g> <!-- FollowOn.pipeline --> <g id=\"node1\" class=\"node\"><title>FollowOn.pipeline</title> <polygon fill=\"none\" stroke=\"black\" points=\"179.5,-271 60.5,-271 60.5,-235 179.5,-235 179.5,-271\"/> <text text-anchor=\"middle\" x=\"120\" y=\"-249.3\" font-family=\"Times New Roman,serif\" font-size=\"14.00\">FollowOn.pipeline</text> </g> <!-- Job: ExitStageLeft --> <g id=\"node3\" class=\"node\"><title>Job: ExitStageLeft</title> <polygon fill=\"none\" stroke=\"black\" points=\"179.5,-196 60.5,-196 60.5,-160 179.5,-160 179.5,-196\"/> <text text-anchor=\"middle\" x=\"120\" y=\"-174.3\" font-family=\"Times New Roman,serif\" font-size=\"14.00\">Job: ExitStageLeft</text> </g> <!-- FollowOn.pipeline&#45;&gt;Job: ExitStageLeft --> <g id=\"edge3\" class=\"edge\"><title>FollowOn.pipeline&#45;&gt;Job: ExitStageLeft</title> <path fill=\"none\" stroke=\"black\" d=\"M120,-234.7C120,-226.245 120,-215.869 120,-206.373\"/> <polygon fill=\"black\" stroke=\"black\" points=\"123.5,-206.176 120,-196.176 116.5,-206.176 123.5,-206.176\"/> </g> <!-- cd1009969553 --> <!-- DownloadPipelineArtifact --> <g id=\"node4\" class=\"node\"><title>DownloadPipelineArtifact</title> <ellipse fill=\"none\" stroke=\"black\" cx=\"120\" cy=\"-106\" rx=\"103.982\" ry=\"18\"/> <text text-anchor=\"middle\" x=\"120\" y=\"-102.3\" font-family=\"Times New Roman,serif\" font-size=\"14.00\">DownloadPipelineArtifact</text> </g> <!-- Job: ExitStageLeft&#45;&gt;DownloadPipelineArtifact --> <g id=\"edge1\" class=\"edge\"><title>Job: ExitStageLeft&#45;&gt;DownloadPipelineArtifact</title> <path fill=\"none\" stroke=\"black\" d=\"M120,-159.697C120,-151.983 120,-142.712 120,-134.112\"/> <polygon fill=\"black\" stroke=\"black\" points=\"123.5,-134.104 120,-124.104 116.5,-134.104 123.5,-134.104\"/> </g> <!-- PowerShell --> <g id=\"node5\" class=\"node\"><title>PowerShell</title> <ellipse fill=\"none\" stroke=\"black\" cx=\"120\" cy=\"-34\" rx=\"51.9908\" ry=\"18\"/> <text text-anchor=\"middle\" x=\"120\" y=\"-30.3\" font-family=\"Times New Roman,serif\" font-size=\"14.00\">PowerShell</text> </g> <!-- DownloadPipelineArtifact&#45;&gt;PowerShell --> <g id=\"edge2\" class=\"edge\"><title>DownloadPipelineArtifact&#45;&gt;PowerShell</title> <path fill=\"none\" stroke=\"black\" d=\"M120,-87.6966C120,-79.9827 120,-70.7125 120,-62.1124\"/> <polygon fill=\"black\" stroke=\"black\" points=\"123.5,-62.1043 120,-52.1043 116.5,-62.1044 123.5,-62.1043\"/> </g> </g> </svg>"
          },
          "execution_count": 1,
          "metadata": {}
        }
      ]
    },
    {
      "cell_type": "markdown",
      "metadata": {},
      "source": [
        "## Wrapper for Out-Display"
      ]
    },
    {
      "cell_type": "code",
      "execution_count": 1,
      "metadata": {},
      "source": [
        ". .\\NotebookOutput.ps1\r\n",
        "Out-Html -? | select -ExpandProperty Description"
      ],
      "outputs": [
        {
          "output_type": "execute_result",
          "data": {
            "text/plain": "\r\n"
          },
          "execution_count": 1,
          "metadata": {}
        },
        {
          "output_type": "execute_result",
          "data": {
            "text/plain": "This command has three ways of working. It can \r\n"
          },
          "execution_count": 1,
          "metadata": {}
        },
        {
          "output_type": "execute_result",
          "data": {
            "text/plain": "* Take HTML (via the pipeline or as a parameter) and output it into a cell\r\n"
          },
          "execution_count": 1,
          "metadata": {}
        },
        {
          "output_type": "execute_result",
          "data": {
            "text/plain": "* Make an HTML table or list from objects, selecting properties, first, last etc.\r\n"
          },
          "execution_count": 1,
          "metadata": {}
        },
        {
          "output_type": "execute_result",
          "data": {
            "text/plain": "* Take a script block to generate html or objects to transform to a list/table\r\n"
          },
          "execution_count": 1,
          "metadata": {}
        },
        {
          "output_type": "execute_result",
          "data": {
            "text/plain": "\r\n"
          },
          "execution_count": 1,
          "metadata": {}
        },
        {
          "output_type": "execute_result",
          "data": {
            "text/plain": "\r\n"
          },
          "execution_count": 1,
          "metadata": {}
        }
      ]
    },
    {
      "cell_type": "code",
      "execution_count": 1,
      "metadata": {},
      "source": [
        "# Pipe in , convert to table.\r\n",
        "Get-command -Module  Microsoft.DotNet.Interactive.PowerShell \r\n",
        "    | Out-HTML -AsTable name,version"
      ],
      "outputs": [
        {
          "output_type": "execute_result",
          "data": {
            "text/html": [
              "<table> <colgroup><col/><col/></colgroup> <tr><th>Name</th><th>Version</th></tr> <tr><td>Enter-AzShell</td><td>0.1.0</td></tr> <tr><td>New-PlotlyChart</td><td>0.1.0</td></tr> <tr><td>Out-Display</td><td>0.1.0</td></tr> </table>"
            ]
          },
          "execution_count": 1,
          "metadata": {}
        }
      ]
    },
    {
      "cell_type": "code",
      "execution_count": 1,
      "metadata": {},
      "source": [
        "#Pass script block, format as list\r\n",
        "Cell -AsList name,version {\r\n",
        "    Get-command -Module  Microsoft.DotNet.Interactive.PowerShell \r\n",
        "}"
      ],
      "outputs": [
        {
          "output_type": "execute_result",
          "data": {
            "text/html": [
              "<table> <tr><td>Name:</td><td>Enter-AzShell</td></tr> <tr><td>Version:</td><td>0.1.0</td></tr> <tr><td><hr></td></tr> <tr><td>Name:</td><td>New-PlotlyChart</td></tr> <tr><td>Version:</td><td>0.1.0</td></tr> <tr><td><hr></td></tr> <tr><td>Name:</td><td>Out-Display</td></tr> <tr><td>Version:</td><td>0.1.0</td></tr> </table>"
            ]
          },
          "execution_count": 1,
          "metadata": {}
        }
      ]
    },
    {
      "cell_type": "code",
      "execution_count": 1,
      "metadata": {},
      "source": [
        "#Relies on earlier cell to set $svg - pass raw output in a variable  \r\n",
        "if ($svg) {\r\n",
        "    cell $svg\r\n",
        "}"
      ],
      "outputs": [
        {
          "output_type": "execute_result",
          "data": {
            "text/html": "<?xml version=\"1.0\" encoding=\"UTF-8\" standalone=\"no\"?><!DOCTYPE svg PUBLIC \"-//W3C//DTD SVG 1.1//EN\" \"http://www.w3.org/Graphics/SVG/1.1/DTD/svg11.dtd\"><!-- Generated by graphviz version 2.38.0 (20140413.2041) --><!-- Title: g Pages: 1 --><svg width=\"248pt\" height=\"279pt\" viewBox=\"0.00 0.00 248.00 279.00\" xmlns=\"http://www.w3.org/2000/svg\" xmlns:xlink=\"http://www.w3.org/1999/xlink\"><g id=\"graph0\" class=\"graph\" transform=\"scale(1 1) rotate(0) translate(4 275)\"><title>g</title><polygon fill=\"white\" stroke=\"none\" points=\"-4,4 -4,-275 244,-275 244,4 -4,4\"/><g id=\"clust1\" class=\"cluster\"><title>clustercd1009969553</title><polygon fill=\"none\" stroke=\"black\" points=\"8,-8 8,-227 232,-227 232,-8 8,-8\"/><text text-anchor=\"middle\" x=\"120\" y=\"-211.8\" font-family=\"Times New Roman,serif\" font-size=\"14.00\">Stage: FollowOnStage</text></g><!-- FollowOn.pipeline --><g id=\"node1\" class=\"node\"><title>FollowOn.pipeline</title><polygon fill=\"none\" stroke=\"black\" points=\"179.5,-271 60.5,-271 60.5,-235 179.5,-235 179.5,-271\"/><text text-anchor=\"middle\" x=\"120\" y=\"-249.3\" font-family=\"Times New Roman,serif\" font-size=\"14.00\">FollowOn.pipeline</text></g><!-- Job: ExitStageLeft --><g id=\"node3\" class=\"node\"><title>Job: ExitStageLeft</title><polygon fill=\"none\" stroke=\"black\" points=\"179.5,-196 60.5,-196 60.5,-160 179.5,-160 179.5,-196\"/><text text-anchor=\"middle\" x=\"120\" y=\"-174.3\" font-family=\"Times New Roman,serif\" font-size=\"14.00\">Job: ExitStageLeft</text></g><!-- FollowOn.pipeline&#45;&gt;Job: ExitStageLeft --><g id=\"edge3\" class=\"edge\"><title>FollowOn.pipeline&#45;&gt;Job: ExitStageLeft</title><path fill=\"none\" stroke=\"black\" d=\"M120,-234.7C120,-226.245 120,-215.869 120,-206.373\"/><polygon fill=\"black\" stroke=\"black\" points=\"123.5,-206.176 120,-196.176 116.5,-206.176 123.5,-206.176\"/></g><!-- cd1009969553 --><!-- DownloadPipelineArtifact --><g id=\"node4\" class=\"node\"><title>DownloadPipelineArtifact</title><ellipse fill=\"none\" stroke=\"black\" cx=\"120\" cy=\"-106\" rx=\"103.982\" ry=\"18\"/><text text-anchor=\"middle\" x=\"120\" y=\"-102.3\" font-family=\"Times New Roman,serif\" font-size=\"14.00\">DownloadPipelineArtifact</text></g><!-- Job: ExitStageLeft&#45;&gt;DownloadPipelineArtifact --><g id=\"edge1\" class=\"edge\"><title>Job: ExitStageLeft&#45;&gt;DownloadPipelineArtifact</title><path fill=\"none\" stroke=\"black\" d=\"M120,-159.697C120,-151.983 120,-142.712 120,-134.112\"/><polygon fill=\"black\" stroke=\"black\" points=\"123.5,-134.104 120,-124.104 116.5,-134.104 123.5,-134.104\"/></g><!-- PowerShell --><g id=\"node5\" class=\"node\"><title>PowerShell</title><ellipse fill=\"none\" stroke=\"black\" cx=\"120\" cy=\"-34\" rx=\"51.9908\" ry=\"18\"/><text text-anchor=\"middle\" x=\"120\" y=\"-30.3\" font-family=\"Times New Roman,serif\" font-size=\"14.00\">PowerShell</text></g><!-- DownloadPipelineArtifact&#45;&gt;PowerShell --><g id=\"edge2\" class=\"edge\"><title>DownloadPipelineArtifact&#45;&gt;PowerShell</title><path fill=\"none\" stroke=\"black\" d=\"M120,-87.6966C120,-79.9827 120,-70.7125 120,-62.1124\"/><polygon fill=\"black\" stroke=\"black\" points=\"123.5,-62.1043 120,-52.1043 116.5,-62.1044 123.5,-62.1043\"/></g></g></svg>"
          },
          "execution_count": 1,
          "metadata": {}
        }
      ]
    },
    {
      "cell_type": "code",
      "execution_count": 1,
      "metadata": {},
      "source": [
        "#If we loaded the grpah module earlier, raw output from a script block.\r\n",
        "if (test-path Function:\\plot_pipeline) {\r\n",
        "    cell  {plot_pipeline ~\\documents\\azdo\\serverautomationdemo\\CI\\FollowOn.pipeline.yml  -DestinationPath \"\" }\r\n",
        "}"
      ],
      "outputs": [
        {
          "output_type": "execute_result",
          "data": {
            "text/html": [
              "<?xml version=\"1.0\" encoding=\"UTF-8\" standalone=\"no\"?><!DOCTYPE svg PUBLIC \"-//W3C//DTD SVG 1.1//EN\" \"http://www.w3.org/Graphics/SVG/1.1/DTD/svg11.dtd\"><!-- Generated by graphviz version 2.38.0 (20140413.2041) --><!-- Title: g Pages: 1 --><svg width=\"248pt\" height=\"279pt\" viewBox=\"0.00 0.00 248.00 279.00\" xmlns=\"http://www.w3.org/2000/svg\" xmlns:xlink=\"http://www.w3.org/1999/xlink\"><g id=\"graph0\" class=\"graph\" transform=\"scale(1 1) rotate(0) translate(4 275)\"><title>g</title><polygon fill=\"white\" stroke=\"none\" points=\"-4,4 -4,-275 244,-275 244,4 -4,4\"/><g id=\"clust1\" class=\"cluster\"><title>cluster173f47f19c4c</title><polygon fill=\"none\" stroke=\"black\" points=\"8,-8 8,-227 232,-227 232,-8 8,-8\"/><text text-anchor=\"middle\" x=\"120\" y=\"-211.8\" font-family=\"Times New Roman,serif\" font-size=\"14.00\">Stage: FollowOnStage</text></g><!-- FollowOn.pipeline --><g id=\"node1\" class=\"node\"><title>FollowOn.pipeline</title><polygon fill=\"none\" stroke=\"black\" points=\"179.5,-271 60.5,-271 60.5,-235 179.5,-235 179.5,-271\"/><text text-anchor=\"middle\" x=\"120\" y=\"-249.3\" font-family=\"Times New Roman,serif\" font-size=\"14.00\">FollowOn.pipeline</text></g><!-- Job: ExitStageLeft --><g id=\"node3\" class=\"node\"><title>Job: ExitStageLeft</title><polygon fill=\"none\" stroke=\"black\" points=\"179.5,-196 60.5,-196 60.5,-160 179.5,-160 179.5,-196\"/><text text-anchor=\"middle\" x=\"120\" y=\"-174.3\" font-family=\"Times New Roman,serif\" font-size=\"14.00\">Job: ExitStageLeft</text></g><!-- FollowOn.pipeline&#45;&gt;Job: ExitStageLeft --><g id=\"edge3\" class=\"edge\"><title>FollowOn.pipeline&#45;&gt;Job: ExitStageLeft</title><path fill=\"none\" stroke=\"black\" d=\"M120,-234.7C120,-226.245 120,-215.869 120,-206.373\"/><polygon fill=\"black\" stroke=\"black\" points=\"123.5,-206.176 120,-196.176 116.5,-206.176 123.5,-206.176\"/></g><!-- 173f47f19c4c --><!-- DownloadPipelineArtifact --><g id=\"node4\" class=\"node\"><title>DownloadPipelineArtifact</title><ellipse fill=\"none\" stroke=\"black\" cx=\"120\" cy=\"-106\" rx=\"103.982\" ry=\"18\"/><text text-anchor=\"middle\" x=\"120\" y=\"-102.3\" font-family=\"Times New Roman,serif\" font-size=\"14.00\">DownloadPipelineArtifact</text></g><!-- Job: ExitStageLeft&#45;&gt;DownloadPipelineArtifact --><g id=\"edge1\" class=\"edge\"><title>Job: ExitStageLeft&#45;&gt;DownloadPipelineArtifact</title><path fill=\"none\" stroke=\"black\" d=\"M120,-159.697C120,-151.983 120,-142.712 120,-134.112\"/><polygon fill=\"black\" stroke=\"black\" points=\"123.5,-134.104 120,-124.104 116.5,-134.104 123.5,-134.104\"/></g><!-- PowerShell --><g id=\"node5\" class=\"node\"><title>PowerShell</title><ellipse fill=\"none\" stroke=\"black\" cx=\"120\" cy=\"-34\" rx=\"51.9908\" ry=\"18\"/><text text-anchor=\"middle\" x=\"120\" y=\"-30.3\" font-family=\"Times New Roman,serif\" font-size=\"14.00\">PowerShell</text></g><!-- DownloadPipelineArtifact&#45;&gt;PowerShell --><g id=\"edge2\" class=\"edge\"><title>DownloadPipelineArtifact&#45;&gt;PowerShell</title><path fill=\"none\" stroke=\"black\" d=\"M120,-87.6966C120,-79.9827 120,-70.7125 120,-62.1124\"/><polygon fill=\"black\" stroke=\"black\" points=\"123.5,-62.1043 120,-52.1043 116.5,-62.1044 123.5,-62.1043\"/></g></g></svg>"
            ]
          },
          "execution_count": 1,
          "metadata": {}
        }
      ]
    },
    {
      "cell_type": "markdown",
      "metadata": {},
      "source": [
        "## Doug Finke's Notebook module"
      ]
    },
    {
      "cell_type": "code",
      "execution_count": 1,
      "metadata": {},
      "source": [
        "ipmo PowerShellNotebook\r\n",
        "$ProgressPreference = 'silentlyContinue'\r\n",
        "Get-command -Module PowerShellNotebook | Get-help | ft -a -wrap name,Synopsis"
      ],
      "outputs": [
        {
          "output_type": "stream",
          "name": "stdout",
          "text": "\nName                              Synopsis\n----                              --------\nAdd-NotebookCode                  Add-NotebookCode adds PowerShell code to a code block\nAdd-NotebookMarkdown              Add-NotebookMarkdown adds Markdown to a markdown block\nConvert-MarkdownToNoteBook        Convert a markdown file to an interactive PowerShell Notebook\nConvertFrom-NotebookToMarkdown    Take and exiting PowerShell Notebook and convert it to markdown\nConvertTo-PowerShellNoteBook      \nConvertTo-SQLNoteBook             \nExport-NotebookToPowerShellScript Exports all code blocks from a PowerShell Notebook to a\n                                  PowerShell script\nExport-NotebookToSqlScript        Exports all code blocks from a SQL Notebook to a SQL script\nGet-Notebook                      Get-Notebook reads the metadata of a single (or folder of)\n                                  Jupyter Notebooks\nGet-NotebookContent               Get-NotebookContents reads the contents of a Jupyter Notebooks\nGet-ParsedSql                    \n                                  Get-ParsedSql [[-ScriptPath] <Object>]\n                                 \nGet-ParsedSqlOffsets             \n                                  Get-ParsedSqlOffsets [[-ScriptPath] <Object>] [[-IncludeGaps]\n                                  <Object>] [-ExtractCommentsInsideBatches] [<CommonParameters>]\n                                 \nInvoke-PowerShellNotebook         Invoke-PowerShellNotebook executes all the PowerShell code\n                                  blocks in a PowerShell Notebook.\nloadScriptDomModules             \n                                  loadScriptDomModules\n                                 \nNew-PSNotebook                    Creates a new PowerShell Notebook that can be returned as text\n                                  or saves as a `ipynb` file.\nNew-PSNotebookRunspace            New-PSNotebookRunspace instantiates the PSNotebookRunspace\nNew-SQLNotebook                   Creates a new PowerShell Notebook that can be returned as text\n                                  or saves as a `ipynb` file.\n"
        }
      ]
    },
    {
      "cell_type": "code",
      "execution_count": 1,
      "metadata": {},
      "source": [
        "cd (split-path $profile -Parent)\r\n",
        "Get-Notebook '~\\Git tutorial.ipynb'\r\n",
        " \r\n",
        "Get-NotebookContent '~\\Git tutorial.ipynb' | Select -first 5 | ft "
      ],
      "outputs": [
        {
          "output_type": "stream",
          "name": "stdout",
          "text": "\nNoteBookName     : Git tutorial.ipynb\nKernelName       : .net-powershell\nCodeBlocks       : 39\nMarkdownBlocks   : 32\nNoteBookFullName : C:\\Users\\P10506111\\Git tutorial.ipynb\n\n\n\nNoteBookName       Type     Source\n------------       ----     ------\nGit tutorial.ipynb markdown Here we are going to look at git as purely local file management.  TheÔÇª\nGit tutorial.ipynb code     cd ~ÔÇª\nGit tutorial.ipynb markdown Lets **Initialize a new local repo**. ÔÇª\nGit tutorial.ipynb code     $null = md dummyProj ÔÇª\nGit tutorial.ipynb markdown Make a file, **add** it to the list of files Git tracks, and make a **ÔÇª\n"
        }
      ]
    },
    {
      "cell_type": "markdown",
      "metadata": {},
      "source": [
        "## Mixed languages, even in a single block, & variable sharing via magic commands\r\n",
        "https://github.com/dotnet/interactive/blob/main/docs/variable-sharing.md "
      ]
    },
    {
      "cell_type": "code",
      "execution_count": 1,
      "metadata": {},
      "source": [
        "Write-Output \"Hello from PowerShell!\"\r\n",
        "\r\n",
        "#!fsharp\r\n",
        "let numbers = [0 .. 5]\r\n",
        "numbers"
      ],
      "outputs": [
        {
          "output_type": "stream",
          "name": "stdout",
          "text": "Hello from PowerShell!"
        },
        {
          "output_type": "execute_result",
          "data": {
            "text/html": [
              "<table><thead><tr><th><i>index</i></th><th>value</th></tr></thead><tbody><tr><td>0</td><td><div class=\"dni-plaintext\">0</div></td></tr><tr><td>1</td><td><div class=\"dni-plaintext\">1</div></td></tr><tr><td>2</td><td><div class=\"dni-plaintext\">2</div></td></tr><tr><td>3</td><td><div class=\"dni-plaintext\">3</div></td></tr><tr><td>4</td><td><div class=\"dni-plaintext\">4</div></td></tr><tr><td>5</td><td><div class=\"dni-plaintext\">5</div></td></tr></tbody></table>"
            ]
          },
          "execution_count": 1,
          "metadata": {}
        }
      ]
    },
    {
      "cell_type": "code",
      "execution_count": 1,
      "metadata": {},
      "source": [
        "#!share  --from fsharp numbers\r\n",
        "$numbers"
      ],
      "outputs": [
        {
          "output_type": "stream",
          "name": "stdout",
          "text": "0\n1\n2\n3\n4\n5"
        }
      ]
    },
    {
      "cell_type": "code",
      "execution_count": 1,
      "metadata": {},
      "source": [
        "#!value --name someJson\r\n",
        "{\r\n",
        "    \"what\": \"Some Json\",\r\n",
        "    \"why\": \"To share it!\"\r\n",
        "}"
      ],
      "outputs": []
    },
    {
      "cell_type": "code",
      "execution_count": 1,
      "metadata": {},
      "source": [
        "#!share someJson --from value\r\n",
        "ConvertFrom-Json -InputObject $someJson"
      ],
      "outputs": [
        {
          "output_type": "stream",
          "name": "stdout",
          "text": "\nwhat      why\n----      ---\nSome Json To share it!\n"
        }
      ]
    },
    {
      "cell_type": "markdown",
      "metadata": {},
      "source": [
        "## List of Magic commands"
      ]
    },
    {
      "cell_type": "code",
      "execution_count": 1,
      "metadata": {},
      "source": [
        "#!lsmagic"
      ],
      "outputs": [
        {
          "output_type": "execute_result",
          "data": {
            "text/html": [
              "<div><h3>.NET kernel</h3><div><div style=\"text-indent:1.5em\"><pre><span style=\"text-indent:1.5em; color:#512bd4\">#!csharp</span><span style=\"text-indent:1.5em; color:darkgray\">, </span><span style=\"text-indent:1.5em; color:#512bd4\">#!c#</span><span style=\"text-indent:1.5em; color:darkgray\">, </span><span style=\"text-indent:1.5em; color:#512bd4\">#!C#</span></pre><div style=\"text-indent:3em\">Run the code that follows using the csharp kernel.</div></div><div style=\"text-indent:1.5em\"><pre><span style=\"text-indent:1.5em; color:#512bd4\">#!fsharp</span><span style=\"text-indent:1.5em; color:darkgray\">, </span><span style=\"text-indent:1.5em; color:#512bd4\">#!f#</span><span style=\"text-indent:1.5em; color:darkgray\">, </span><span style=\"text-indent:1.5em; color:#512bd4\">#!F#</span></pre><div style=\"text-indent:3em\">Run the code that follows using the fsharp kernel.</div></div><div style=\"text-indent:1.5em\"><pre><span style=\"text-indent:1.5em; color:#512bd4\">#!pwsh</span><span style=\"text-indent:1.5em; color:darkgray\">, </span><span style=\"text-indent:1.5em; color:#512bd4\">#!powershell</span></pre><div style=\"text-indent:3em\">Run the code that follows using the pwsh kernel.</div></div><div style=\"text-indent:1.5em\"><pre><span style=\"text-indent:1.5em; color:#512bd4\">#!javascript</span><span style=\"text-indent:1.5em; color:darkgray\">, </span><span style=\"text-indent:1.5em; color:#512bd4\">#!js</span></pre><div style=\"text-indent:3em\">Run the code that follows using the javascript kernel.</div></div><div style=\"text-indent:1.5em\"><pre><span style=\"text-indent:1.5em; color:#512bd4\">#!html</span></pre><div style=\"text-indent:3em\">Run the code that follows using the html kernel.</div></div><div style=\"text-indent:1.5em\"><pre><span style=\"text-indent:1.5em; color:#512bd4\">#!value</span></pre><div style=\"text-indent:3em\">Stores a value that can then be shared with other subkernels.</div></div><div style=\"text-indent:1.5em\"><pre><span style=\"text-indent:1.5em; color:#512bd4\">#!lsmagic</span></pre><div style=\"text-indent:3em\">List the available magic commands / directives</div></div><div style=\"text-indent:1.5em\"><pre><span style=\"text-indent:1.5em; color:#512bd4\">#!markdown</span></pre><div style=\"text-indent:3em\">Convert the code that follows from Markdown into HTML</div></div><div style=\"text-indent:1.5em\"><pre><span style=\"text-indent:1.5em; color:#512bd4\">#!time</span></pre><div style=\"text-indent:3em\">Time the execution of the following code in the submission.</div></div><div style=\"text-indent:1.5em\"><pre><span style=\"text-indent:1.5em; color:#512bd4\">#!log</span></pre><div style=\"text-indent:3em\">Enables session logging.</div></div><div style=\"text-indent:1.5em\"><pre><span style=\"text-indent:1.5em; color:#512bd4\">#!about</span></pre><div style=\"text-indent:3em\">Show version and build information</div></div><div style=\"text-indent:1.5em\"><pre><span style=\"text-indent:1.5em; color:#512bd4\">#!connect</span></pre><div style=\"text-indent:3em\">Connects additional subkernels</div><div style=\"text-indent:3em\"><pre><span style=\"text-indent:4.5em; color:#512bd4\">named-pipe</span></pre><div style=\"text-indent:6em\">Connects to a kernel using named pipes</div></div><div style=\"text-indent:3em\"><pre><span style=\"text-indent:4.5em; color:#512bd4\">signalr</span></pre><div style=\"text-indent:6em\">Connects to a kernel using SignalR</div></div></div></div></div>"
            ]
          },
          "execution_count": 1,
          "metadata": {}
        },
        {
          "output_type": "execute_result",
          "data": {
            "text/html": [
              "<div><h3>csharp kernel</h3><div><div style=\"text-indent:1.5em\"><pre><span style=\"text-indent:1.5em; color:#512bd4\">#i</span></pre><div style=\"text-indent:3em\"><div class=\"dni-plaintext\">&lt;null&gt;</div></div></div><div style=\"text-indent:1.5em\"><pre><span style=\"text-indent:1.5em; color:#512bd4\">#r</span></pre><div style=\"text-indent:3em\"><div class=\"dni-plaintext\">&lt;null&gt;</div></div></div><div style=\"text-indent:1.5em\"><pre><span style=\"text-indent:1.5em; color:#512bd4\">#!whos</span><span style=\"text-indent:1.5em; color:darkgray\">, </span><span style=\"text-indent:1.5em; color:#512bd4\">#!who</span></pre><div style=\"text-indent:3em\">Display the names of the current top-level variables and their values.</div></div><div style=\"text-indent:1.5em\"><pre><span style=\"text-indent:1.5em; color:#512bd4\">#!share</span></pre><div style=\"text-indent:3em\">Share a .NET variable between subkernels</div></div><div style=\"text-indent:1.5em\"><pre><span style=\"text-indent:1.5em; color:#512bd4\">#!lsmagic</span></pre><div style=\"text-indent:3em\">List the available magic commands / directives</div></div></div></div>"
            ]
          },
          "execution_count": 1,
          "metadata": {}
        },
        {
          "output_type": "execute_result",
          "data": {
            "text/html": [
              "<div><h3>fsharp kernel</h3><div><div style=\"text-indent:1.5em\"><pre><span style=\"text-indent:1.5em; color:#512bd4\">#i</span></pre><div style=\"text-indent:3em\"><div class=\"dni-plaintext\">&lt;null&gt;</div></div></div><div style=\"text-indent:1.5em\"><pre><span style=\"text-indent:1.5em; color:#512bd4\">#r</span></pre><div style=\"text-indent:3em\"><div class=\"dni-plaintext\">&lt;null&gt;</div></div></div><div style=\"text-indent:1.5em\"><pre><span style=\"text-indent:1.5em; color:#512bd4\">#!whos</span><span style=\"text-indent:1.5em; color:darkgray\">, </span><span style=\"text-indent:1.5em; color:#512bd4\">#!who</span></pre><div style=\"text-indent:3em\">Display the names of the current top-level variables and their values.</div></div><div style=\"text-indent:1.5em\"><pre><span style=\"text-indent:1.5em; color:#512bd4\">#!share</span></pre><div style=\"text-indent:3em\">Share a .NET variable between subkernels</div></div><div style=\"text-indent:1.5em\"><pre><span style=\"text-indent:1.5em; color:#512bd4\">#!lsmagic</span></pre><div style=\"text-indent:3em\">List the available magic commands / directives</div></div></div></div>"
            ]
          },
          "execution_count": 1,
          "metadata": {}
        },
        {
          "output_type": "execute_result",
          "data": {
            "text/html": [
              "<div><h3>pwsh kernel</h3><div><div style=\"text-indent:1.5em\"><pre><span style=\"text-indent:1.5em; color:#512bd4\">#!share</span></pre><div style=\"text-indent:3em\">Share a .NET variable between subkernels</div></div><div style=\"text-indent:1.5em\"><pre><span style=\"text-indent:1.5em; color:#512bd4\">#!lsmagic</span></pre><div style=\"text-indent:3em\">List the available magic commands / directives</div></div></div></div>"
            ]
          },
          "execution_count": 1,
          "metadata": {}
        },
        {
          "output_type": "execute_result",
          "data": {
            "text/html": [
              "<div><h3>javascript kernel</h3><div><div style=\"text-indent:1.5em\"><pre><span style=\"text-indent:1.5em; color:#512bd4\">#!lsmagic</span></pre><div style=\"text-indent:3em\">List the available magic commands / directives</div></div></div></div>"
            ]
          },
          "execution_count": 1,
          "metadata": {}
        },
        {
          "output_type": "execute_result",
          "data": {
            "text/html": [
              "<div><h3>html kernel</h3><div><div style=\"text-indent:1.5em\"><pre><span style=\"text-indent:1.5em; color:#512bd4\">#!lsmagic</span></pre><div style=\"text-indent:3em\">List the available magic commands / directives</div></div></div></div>"
            ]
          },
          "execution_count": 1,
          "metadata": {}
        },
        {
          "output_type": "execute_result",
          "data": {
            "text/html": [
              "<div><h3>value kernel</h3><div><div style=\"text-indent:1.5em\"><pre><span style=\"text-indent:1.5em; color:#512bd4\">#!whos</span><span style=\"text-indent:1.5em; color:darkgray\">, </span><span style=\"text-indent:1.5em; color:#512bd4\">#!who</span></pre><div style=\"text-indent:3em\">Display the names of the current top-level variables and their values.</div></div><div style=\"text-indent:1.5em\"><pre><span style=\"text-indent:1.5em; color:#512bd4\">#!lsmagic</span></pre><div style=\"text-indent:3em\">List the available magic commands / directives</div></div></div></div>"
            ]
          },
          "execution_count": 1,
          "metadata": {}
        }
      ]
    }
  ],
  "metadata": {
    "kernelspec": {
      "display_name": ".NET (PowerShell)",
      "language": "PowerShell",
      "name": ".net-powershell"
    },
    "language_info": {
      "file_extension": ".ps1",
      "mimetype": "text/x-powershell",
      "name": "PowerShell",
      "pygments_lexer": "powerShell",
      "version": "7.0"
    }
  },
  "nbformat": 4,
  "nbformat_minor": 4
}
