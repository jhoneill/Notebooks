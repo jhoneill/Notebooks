{
  "cells": [
    {
      "cell_type": "markdown",
      "metadata": {},
      "source": [
        "[Nuget doc](https://github.com/dotnet/interactive/blob/main/docs/nuget-overview.md) -explains #r \"nuget...\" "
      ]
    },
    {
      "cell_type": "code",
      "execution_count": null,
      "metadata": {
        "dotnet_interactive": {
          "language": "csharp"
        }
      },
      "outputs": [
        {
          "data": {
            "text/html": [
              "<table><tbody><tr><td><img src=\"data:image/png;base64, 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\" width=\"125em\"></img></td><td style=\"line-height:.8em\"><p style=\"font-size:1.5em\"><b>.NET Interactive</b></p><p>&#169; 2020 Microsoft Corporation</p><p><b>Version: </b>1.0.222703+320f05fcad9ac2e5360e649acf2cb49e56e731c8</p><p><b>Build date: </b>2021-04-28T11:39:58.1641221Z</p><p><a href=\"https://github.com/dotnet/interactive\">https://github.com/dotnet/interactive</a></p></td></tr></tbody></table>"
            ]
          },
          "output_type": "unknown"
        }
      ],
      "source": [
        "#!about"
      ]
    },
    {
      "cell_type": "code",
      "execution_count": null,
      "metadata": {
        "dotnet_interactive": {
          "language": "csharp"
        }
      },
      "outputs": [
        {
          "data": {
            "text/html": [
              "<div><div></div><div></div><div><strong>Installed Packages</strong><ul><li><span>Microsoft.DotNet.Interactive.ExtensionLab, 1.0.0-beta.21606.1</span></li></ul></div></div>"
            ]
          },
          "metadata": {},
          "output_type": "display_data"
        },
        {
          "data": {
            "text/markdown": [
              "Loading extensions from `Microsoft.DotNet.Interactive.ExtensionLab.dll`"
            ]
          },
          "metadata": {},
          "output_type": "display_data"
        },
        {
          "data": {
            "text/html": [
              "<details><summary>Create strongly-typed dataframes using<code>#!linqify</code>.</summary>\r\n",
              "    <p>The <code>#!linqify</code> magic command replaces a <a href=\"https://www.nuget.org/packages/Microsoft.Data.Analysis/\"><code>Microsoft.Data.Analysis.DataFrame</code></a> variable with a generated, strongly-typed data frame, allowing the use of LINQ operations over the contained data.</p>\r\n",
              "    </details>"
            ]
          },
          "metadata": {},
          "output_type": "display_data"
        },
        {
          "data": {
            "text/html": [
              "<details><summary>Inspect code compilation details using the <code>#!inspect</code> magic command.</summary>\r\n",
              "    <p>The <code>#!inspect</code> magic command allows you to see the C# decompilation, IL, and JIT Asm for the code in a C# cell.</p>\r\n",
              "    <img src=\"https://user-images.githubusercontent.com/547415/109560515-d5749a00-7a90-11eb-9fa3-51b737345bb4.png\" width=\"75%\" />\r\n",
              "    </details>"
            ]
          },
          "metadata": {},
          "output_type": "display_data"
        },
        {
          "data": {
            "text/html": [
              "<details><summary>Explain things visually using the <a href=\"https://mermaid-js.github.io/mermaid/\">Mermaid language</a>.</summary>\r\n",
              "    <p>This extension adds a new kernel that can render Mermaid markdown. This code will render a sequence diagram:</p>\r\n",
              "<pre>\r\n",
              "    <code>\r\n",
              "#!mermaid\r\n",
              "sequenceDiagram\r\n",
              "    participant Alice\r\n",
              "    participant Bob\r\n",
              "    Alice->>John: Hello John, how are you?\r\n",
              "    loop Healthcheck\r\n",
              "        John->>John: Fight against hypochondria\r\n",
              "    end\r\n",
              "    Note right of John: Rational thoughts prevail!\r\n",
              "    John-->>Alice: Great!\r\n",
              "    John->>Bob: How about you?\r\n",
              "    Bob-->>John: Jolly good!\r\n",
              "    </code>\r\n",
              "</pre>\r\n",
              "<p>This extension also adds gestures to render a class diagram from any type. Use the <code>ExploreWithUmlClassDiagram().Display();</code> extension method on <code>System.Type</code> to render its class diagram.</p>\r\n",
              "\r\n",
              "<pre>\r\n",
              "    <code>\r\n",
              "typeof(List&lt;string&gt;).ExploreWithUmlClassDiagram().Display();\r\n",
              "    </code>\r\n",
              "</pre>\r\n",
              "    <img src=\"https://mermaid-js.github.io/mermaid/img/header.png\" width=\"30%\">\r\n",
              "    </details>"
            ]
          },
          "metadata": {},
          "output_type": "display_data"
        },
        {
          "data": {
            "text/html": [
              "<details><summary>Explore data visually using the <a href=\"https://github.com/nteract/data-explorer\">nteract Data Explorer</a>.</summary>\r\n",
              "    <p>This extension adds the ability to sort, filter, and visualize data using the <a href=\"https://github.com/nteract/data-explorer\">nteract Data Explorer</a>. Use the <code>ExploreWithNteract()</code> extension method with variables of type <code>JsonElement</code>, <code>IEnumerable<T></code> or <code>IDataView</code> to render the data explorer.</p>\r\n",
              "<pre>\r\n",
              "    <code>\r\n",
              "    using Microsoft.Data.Analysis;\r\n",
              "    using System.Collections.Generic;\r\n",
              "    using Microsoft.ML;\r\n",
              "\r\n",
              "    var dataFrame = DataFrame.LoadCsv(\"./Data.csv\");\r\n",
              "\r\n",
              "    dataFrame.ExploreWithNteract().Display();\r\n",
              "    </code>\r\n",
              "</pre>\r\n",
              "\r\n",
              "<p>To set the nteract Data Explorer use the following code</p>\r\n",
              "<pre>\r\n",
              "    <code>\r\n",
              "    DataExplorer.SetDefault<TabularDataResource, NteractDataExplorer>();\r\n",
              "    </code>\r\n",
              "</pre>\r\n",
              "    <img src=\"https://user-images.githubusercontent.com/547415/109559345-621e5880-7a8f-11eb-8b98-d4feeaac116f.png\" width=\"75%\">\r\n",
              "    </details>"
            ]
          },
          "metadata": {},
          "output_type": "display_data"
        },
        {
          "data": {
            "text/html": [
              "<details><summary>Use the <code>#!record</code> magic command to keep a transcript of the code you run.</summary>\r\n",
              "    <p>Once you enable transcripts using <code>#!record</code>, each code submission (including re-running cells) is recorded in the specified file. The JSON format used is the same format recognized by the .NET Interactive <code>stdio</code> and <code>http</code> APIs and can be used to replay an interactive session via automation.</p>\r\n",
              "    <img src=\"https://user-images.githubusercontent.com/547415/109562409-343b1300-7a93-11eb-8ebf-79bb6af028cf.png\" width=\"75%\" />\r\n",
              "    </details>"
            ]
          },
          "metadata": {},
          "output_type": "display_data"
        },
        {
          "data": {
            "text/html": [
              "<details><summary>Explore data visually using the <a href=\"https://github.com/microsoft/SandDance\">SandDance Explorer</a>.</summary>\r\n",
              "    <p>This extension adds the ability to sort, filter, and visualize data using the <a href=\"https://github.com/microsoft/SandDance\">SandDance Explorer</a>. Use the <code>ExploreWithSandDance()</code> extension method with variables of type <code>JsonElement</code>, <code>IEnumerable<T></code> or <code>IDataView</code> to render the data explorer.</p>\r\n",
              "<pre>\r\n",
              "    <code>\r\n",
              "    using Microsoft.Data.Analysis;\r\n",
              "    using System.Collections.Generic;\r\n",
              "    using Microsoft.ML;\r\n",
              "\r\n",
              "    var dataFrame = DataFrame.LoadCsv(\"./Data.csv\");\r\n",
              "\r\n",
              "    dataFrame.ExploreWithSandDance().Display();\r\n",
              "    </code>\r\n",
              "</pre>\r\n",
              "<p>To set the SandDance Explorer use the following code</p>\r\n",
              "<pre>\r\n",
              "    <code>\r\n",
              "    DataExplorer.SetDefault<TabularDataResource, SandDanceDataExplorer>();\r\n",
              "    </code>\r\n",
              "</pre>\r\n",
              "    <img src=\"https://user-images.githubusercontent.com/11507384/54236654-52d42800-44d1-11e9-859e-6c5d297a46d2.gif\" width=\"30%\">\r\n",
              "    </details>"
            ]
          },
          "metadata": {},
          "output_type": "display_data"
        },
        {
          "data": {
            "text/html": [
              "<details><summary>Query SQLite databases.</summary>\r\n",
              "    <p>This extension adds support for connecting to SQLite databases using the <code>#!connect sqlite</code> magic command. For more information, run a cell using the <code>#!sql</code> magic command.</p>\r\n",
              "    </details>"
            ]
          },
          "metadata": {},
          "output_type": "display_data"
        }
      ],
      "source": [
        "#r \"nuget:Microsoft.DotNet.Interactive.ExtensionLab,*-*\""
      ]
    },
    {
      "cell_type": "code",
      "execution_count": null,
      "metadata": {
        "dotnet_interactive": {
          "language": "csharp"
        }
      },
      "outputs": [
        {
          "data": {
            "text/html": [
              "<div style=\"background-color:white;\">\r\n",
              "<div id=\"255257e8f70e46748e3c8c66ad22da80\" style=\"height: 100ch ;margin: 2px;\">\r\n",
              "</div>\r\n",
              "<script type=\"text/javascript\">\r\n",
              "\r\n",
              "let renderNteractDataExplorer_255257e8f70e46748e3c8c66ad22da80 = () => {\r\n",
              "\r\n",
              "    configureRequireFromExtension('nteract','1.0.0')(['nteract/nteractapi'], (nteract) => {\r\n",
              "\r\n",
              "        nteract.createDataExplorer({\r\n",
              "            data: {\r\n",
              "  \"profile\": \"tabular-data-resource\",\r\n",
              "  \"schema\": {\r\n",
              "    \"primaryKey\": [],\r\n",
              "    \"fields\": [\r\n",
              "      {\r\n",
              "        \"name\": \"Type\",\r\n",
              "        \"type\": \"string\"\r\n",
              "      },\r\n",
              "      {\r\n",
              "        \"name\": \"Price\",\r\n",
              "        \"type\": \"number\"\r\n",
              "      }\r\n",
              "    ]\r\n",
              "  },\r\n",
              "  \"data\": [\r\n",
              "    {\r\n",
              "      \"Type\": \"orange\",\r\n",
              "      \"Price\": 1.2\r\n",
              "    },\r\n",
              "    {\r\n",
              "      \"Type\": \"apple\",\r\n",
              "      \"Price\": 1.3\r\n",
              "    },\r\n",
              "    {\r\n",
              "      \"Type\": \"grape\",\r\n",
              "      \"Price\": 1.4\r\n",
              "    }\r\n",
              "  ]\r\n",
              "},\r\n",
              "            container: document.getElementById(\"255257e8f70e46748e3c8c66ad22da80\")\r\n",
              "        });\r\n",
              "    },\r\n",
              "    (error) => {\r\n",
              "        console.log(error);\r\n",
              "    });\r\n",
              "};\r\n",
              "// ensure `require` is available globally\r\n",
              "if ((typeof(require) !==  typeof(Function)) || (typeof(require.config) !== typeof(Function))) {\r\n",
              "    let require_script = document.createElement('script');\r\n",
              "    require_script.setAttribute('src', 'https://cdnjs.cloudflare.com/ajax/libs/require.js/2.3.6/require.min.js');\r\n",
              "    require_script.setAttribute('type', 'text/javascript');\r\n",
              "    \r\n",
              "    \r\n",
              "    require_script.onload = function() {\r\n",
              "        renderNteractDataExplorer_255257e8f70e46748e3c8c66ad22da80();\r\n",
              "    };\r\n",
              "\r\n",
              "    document.getElementsByTagName('head')[0].appendChild(require_script);\r\n",
              "}\r\n",
              "else {\r\n",
              "    renderNteractDataExplorer_255257e8f70e46748e3c8c66ad22da80();\r\n",
              "}\r\n",
              "\r\n",
              " </script>\r\n",
              "</div>\r\n"
            ]
          },
          "output_type": "unknown"
        }
      ],
      "source": [
        " var data = new[]\n",
        "            {\n",
        "                new {Type=\"orange\", Price=1.2},\n",
        "                new {Type=\"apple\" , Price=1.3},\n",
        "                new {Type=\"grape\" , Price=1.4}\n",
        "            };\n",
        "data.ExploreWithNteract().Display()            "
      ]
    },
    {
      "cell_type": "markdown",
      "metadata": {},
      "source": [
        "# .NET Interactive ExtensionLab: SQL Connections\n",
        "\n",
        "This sample demonstrates how to use the `#!connect` extension"
      ]
    },
    {
      "cell_type": "code",
      "execution_count": null,
      "metadata": {
        "dotnet_interactive": {
          "language": "csharp"
        }
      },
      "outputs": [
        {
          "data": {
            "text/plain": [
              "Installed package Microsoft.Data.Sqlite version 3.1.7"
            ]
          },
          "execution_count": 1,
          "metadata": {},
          "output_type": "execute_result"
        }
      ],
      "source": [
        "#r \"nuget:Microsoft.Data.Sqlite,3.1.7\""
      ]
    },
    {
      "cell_type": "code",
      "execution_count": null,
      "metadata": {
        "dotnet_interactive": {
          "language": "csharp"
        }
      },
      "outputs": [
        {
          "data": {
            "text/plain": [
              "sqlite\r\n",
              "  Connects to a SQLite database\r\n",
              "\r\n",
              "Usage:\r\n",
              "  [options] #!connect sqlite <connectionString>\r\n",
              "\r\n",
              "Arguments:\r\n",
              "  <connectionString>  The connection string used to connect to the database\r\n",
              "\r\n",
              "Options:\r\n",
              "  --kernel-name <kernel-name>  The name of the subkernel to be added\r\n",
              "  -?, -h, --help               Show help and usage information\r\n",
              "\r\n"
            ]
          },
          "execution_count": 1,
          "metadata": {},
          "output_type": "execute_result"
        }
      ],
      "source": [
        "#!connect sqlite -h"
      ]
    },
    {
      "cell_type": "markdown",
      "metadata": {},
      "source": [
        "SQLite allows us to create a database in memory using the `Mode=Memory` parameter in our connection string.    \n",
        "This is a quick and convenient approach for the sake of demonstration. For example:"
      ]
    },
    {
      "cell_type": "code",
      "execution_count": null,
      "metadata": {
        "dotnet_interactive": {
          "language": "csharp"
        }
      },
      "outputs": [
        {
          "data": {
            "text/plain": [
              "Kernel added: #!sql-fruits"
            ]
          },
          "execution_count": 1,
          "metadata": {},
          "output_type": "execute_result"
        }
      ],
      "source": [
        "#!connect sqlite --kernel-name fruits \"Data Source=InMemorySample;Mode=Memory;Cache=Shared\" "
      ]
    },
    {
      "cell_type": "code",
      "execution_count": null,
      "metadata": {
        "dotnet_interactive": {
          "language": "csharp"
        }
      },
      "outputs": [
        {
          "data": {
            "text/html": [
              "<div style=\"background-color:white;\">\r\n",
              "<div id=\"c11ff453296441558c2178f562157ee4\" style=\"height: 100ch ;margin: 2px;\">\r\n",
              "</div>\r\n",
              "<script type=\"text/javascript\">\r\n",
              "\r\n",
              "let renderNteractDataExplorer_c11ff453296441558c2178f562157ee4 = () => {\r\n",
              "\r\n",
              "    configureRequireFromExtension('nteract','1.0.0')(['nteract/nteractapi'], (nteract) => {\r\n",
              "\r\n",
              "        nteract.createDataExplorer({\r\n",
              "            data: {\r\n",
              "  \"profile\": \"tabular-data-resource\",\r\n",
              "  \"schema\": {\r\n",
              "    \"primaryKey\": [],\r\n",
              "    \"fields\": []\r\n",
              "  },\r\n",
              "  \"data\": []\r\n",
              "},\r\n",
              "            container: document.getElementById(\"c11ff453296441558c2178f562157ee4\")\r\n",
              "        });\r\n",
              "    },\r\n",
              "    (error) => {\r\n",
              "        console.log(error);\r\n",
              "    });\r\n",
              "};\r\n",
              "// ensure `require` is available globally\r\n",
              "if ((typeof(require) !==  typeof(Function)) || (typeof(require.config) !== typeof(Function))) {\r\n",
              "    let require_script = document.createElement('script');\r\n",
              "    require_script.setAttribute('src', 'https://cdnjs.cloudflare.com/ajax/libs/require.js/2.3.6/require.min.js');\r\n",
              "    require_script.setAttribute('type', 'text/javascript');\r\n",
              "    \r\n",
              "    \r\n",
              "    require_script.onload = function() {\r\n",
              "        renderNteractDataExplorer_c11ff453296441558c2178f562157ee4();\r\n",
              "    };\r\n",
              "\r\n",
              "    document.getElementsByTagName('head')[0].appendChild(require_script);\r\n",
              "}\r\n",
              "else {\r\n",
              "    renderNteractDataExplorer_c11ff453296441558c2178f562157ee4();\r\n",
              "}\r\n",
              "\r\n",
              " </script>\r\n",
              "</div>\r\n"
            ]
          },
          "execution_count": 1,
          "metadata": {},
          "output_type": "execute_result"
        }
      ],
      "source": [
        "#!sql-fruits\n",
        "CREATE TABLE Fruits(\n",
        "  Id    INTEGER PRIMARY KEY, \n",
        "  Name  TEXT NOT NULL,\n",
        "  Color TEXT NOT NULL,\n",
        "  Deliciousness INTEGER NOT NULL\n",
        ")"
      ]
    },
    {
      "cell_type": "code",
      "execution_count": null,
      "metadata": {
        "dotnet_interactive": {
          "language": "csharp"
        }
      },
      "outputs": [
        {
          "data": {
            "text/plain": [
              "Kernel added: #!sql-collections"
            ]
          },
          "execution_count": 1,
          "metadata": {},
          "output_type": "execute_result"
        }
      ],
      "source": [
        "#!connect sqlite --kernel-name collections \"Data Source=C:\\Temp\\collectionsSQLite;\""
      ]
    },
    {
      "cell_type": "code",
      "execution_count": null,
      "metadata": {
        "dotnet_interactive": {
          "language": "csharp"
        }
      },
      "outputs": [
        {
          "data": {
            "text/html": [
              "<div style=\"background-color:white;\">\r\n",
              "<div id=\"7604cd21fe75406d88e83bef6e861c96\" style=\"height: 100ch ;margin: 2px;\">\r\n",
              "</div>\r\n",
              "<script type=\"text/javascript\">\r\n",
              "\r\n",
              "let renderNteractDataExplorer_7604cd21fe75406d88e83bef6e861c96 = () => {\r\n",
              "\r\n",
              "    configureRequireFromExtension('nteract','1.0.0')(['nteract/nteractapi'], (nteract) => {\r\n",
              "\r\n",
              "        nteract.createDataExplorer({\r\n",
              "            data: {\r\n",
              "  \"profile\": \"tabular-data-resource\",\r\n",
              "  \"schema\": {\r\n",
              "    \"primaryKey\": [],\r\n",
              "    \"fields\": [\r\n",
              "      {\r\n",
              "        \"name\": \"name\",\r\n",
              "        \"type\": \"string\"\r\n",
              "      },\r\n",
              "      {\r\n",
              "        \"name\": \"type\",\r\n",
              "        \"type\": \"string\"\r\n",
              "      }\r\n",
              "    ]\r\n",
              "  },\r\n",
              "  \"data\": [\r\n",
              "    {\r\n",
              "      \"name\": \"collections\",\r\n",
              "      \"type\": \"table\"\r\n",
              "    },\r\n",
              "    {\r\n",
              "      \"name\": \"collections_items_relationship\",\r\n",
              "      \"type\": \"table\"\r\n",
              "    },\r\n",
              "    {\r\n",
              "      \"name\": \"collections_sync\",\r\n",
              "      \"type\": \"table\"\r\n",
              "    },\r\n",
              "    {\r\n",
              "      \"name\": \"comments\",\r\n",
              "      \"type\": \"table\"\r\n",
              "    },\r\n",
              "    {\r\n",
              "      \"name\": \"favicons\",\r\n",
              "      \"type\": \"table\"\r\n",
              "    },\r\n",
              "    {\r\n",
              "      \"name\": \"items\",\r\n",
              "      \"type\": \"table\"\r\n",
              "    },\r\n",
              "    {\r\n",
              "      \"name\": \"items_sync\",\r\n",
              "      \"type\": \"table\"\r\n",
              "    },\r\n",
              "    {\r\n",
              "      \"name\": \"meta\",\r\n",
              "      \"type\": \"table\"\r\n",
              "    }\r\n",
              "  ]\r\n",
              "},\r\n",
              "            container: document.getElementById(\"7604cd21fe75406d88e83bef6e861c96\")\r\n",
              "        });\r\n",
              "    },\r\n",
              "    (error) => {\r\n",
              "        console.log(error);\r\n",
              "    });\r\n",
              "};\r\n",
              "// ensure `require` is available globally\r\n",
              "if ((typeof(require) !==  typeof(Function)) || (typeof(require.config) !== typeof(Function))) {\r\n",
              "    let require_script = document.createElement('script');\r\n",
              "    require_script.setAttribute('src', 'https://cdnjs.cloudflare.com/ajax/libs/require.js/2.3.6/require.min.js');\r\n",
              "    require_script.setAttribute('type', 'text/javascript');\r\n",
              "    \r\n",
              "    \r\n",
              "    require_script.onload = function() {\r\n",
              "        renderNteractDataExplorer_7604cd21fe75406d88e83bef6e861c96();\r\n",
              "    };\r\n",
              "\r\n",
              "    document.getElementsByTagName('head')[0].appendChild(require_script);\r\n",
              "}\r\n",
              "else {\r\n",
              "    renderNteractDataExplorer_7604cd21fe75406d88e83bef6e861c96();\r\n",
              "}\r\n",
              "\r\n",
              " </script>\r\n",
              "</div>\r\n"
            ]
          },
          "execution_count": 1,
          "metadata": {},
          "output_type": "execute_result"
        }
      ],
      "source": [
        "#!sql-collections \n",
        "SELECT name, type FROM sqlite_master \n",
        "WHERE type IN ('table','view') \n",
        "AND name NOT LIKE 'sqlite_%'\n",
        "ORDER BY 1;"
      ]
    },
    {
      "cell_type": "code",
      "execution_count": null,
      "metadata": {
        "dotnet_interactive": {
          "language": "csharp"
        }
      },
      "outputs": [
        {
          "data": {
            "text/html": [
              "<div style=\"background-color:white;\">\r\n",
              "<div id=\"2a428b7ebd164bafa144f3ab8545fb22\" style=\"height: 100ch ;margin: 2px;\">\r\n",
              "</div>\r\n",
              "<script type=\"text/javascript\">\r\n",
              "\r\n",
              "let renderNteractDataExplorer_2a428b7ebd164bafa144f3ab8545fb22 = () => {\r\n",
              "\r\n",
              "    configureRequireFromExtension('nteract','1.0.0')(['nteract/nteractapi'], (nteract) => {\r\n",
              "\r\n",
              "        nteract.createDataExplorer({\r\n",
              "            data: {\r\n",
              "  \"profile\": \"tabular-data-resource\",\r\n",
              "  \"schema\": {\r\n",
              "    \"primaryKey\": [],\r\n",
              "    \"fields\": [\r\n",
              "      {\r\n",
              "        \"name\": \"count(parent_id)\",\r\n",
              "        \"type\": \"integer\"\r\n",
              "      },\r\n",
              "      {\r\n",
              "        \"name\": \"CollectionTitle\",\r\n",
              "        \"type\": \"string\"\r\n",
              "      }\r\n",
              "    ]\r\n",
              "  },\r\n",
              "  \"data\": [\r\n",
              "    {\r\n",
              "      \"count(parent_id)\": 30,\r\n",
              "      \"CollectionTitle\": \"Azure notes\"\r\n",
              "    },\r\n",
              "    {\r\n",
              "      \"count(parent_id)\": 11,\r\n",
              "      \"CollectionTitle\": \"Training Pile\"\r\n",
              "    },\r\n",
              "    {\r\n",
              "      \"count(parent_id)\": 1,\r\n",
              "      \"CollectionTitle\": \"AzDo Site\"\r\n",
              "    },\r\n",
              "    {\r\n",
              "      \"count(parent_id)\": 25,\r\n",
              "      \"CollectionTitle\": \"Odds and ends\"\r\n",
              "    },\r\n",
              "    {\r\n",
              "      \"count(parent_id)\": 4,\r\n",
              "      \"CollectionTitle\": \"RDP Notes\"\r\n",
              "    },\r\n",
              "    {\r\n",
              "      \"count(parent_id)\": 32,\r\n",
              "      \"CollectionTitle\": \"Azure training\"\r\n",
              "    },\r\n",
              "    {\r\n",
              "      \"count(parent_id)\": 8,\r\n",
              "      \"CollectionTitle\": \"bacpac and sql\"\r\n",
              "    }\r\n",
              "  ]\r\n",
              "},\r\n",
              "            container: document.getElementById(\"2a428b7ebd164bafa144f3ab8545fb22\")\r\n",
              "        });\r\n",
              "    },\r\n",
              "    (error) => {\r\n",
              "        console.log(error);\r\n",
              "    });\r\n",
              "};\r\n",
              "// ensure `require` is available globally\r\n",
              "if ((typeof(require) !==  typeof(Function)) || (typeof(require.config) !== typeof(Function))) {\r\n",
              "    let require_script = document.createElement('script');\r\n",
              "    require_script.setAttribute('src', 'https://cdnjs.cloudflare.com/ajax/libs/require.js/2.3.6/require.min.js');\r\n",
              "    require_script.setAttribute('type', 'text/javascript');\r\n",
              "    \r\n",
              "    \r\n",
              "    require_script.onload = function() {\r\n",
              "        renderNteractDataExplorer_2a428b7ebd164bafa144f3ab8545fb22();\r\n",
              "    };\r\n",
              "\r\n",
              "    document.getElementsByTagName('head')[0].appendChild(require_script);\r\n",
              "}\r\n",
              "else {\r\n",
              "    renderNteractDataExplorer_2a428b7ebd164bafa144f3ab8545fb22();\r\n",
              "}\r\n",
              "\r\n",
              " </script>\r\n",
              "</div>\r\n"
            ]
          },
          "execution_count": 1,
          "metadata": {},
          "output_type": "execute_result"
        }
      ],
      "source": [
        "#!sql-collections\n",
        " SELECT   count(parent_id), \n",
        "          collections.title as CollectionTitle \n",
        " FROM                    collections_items_relationship \n",
        " JOIN     items       ON collections_items_relationship.item_id = items.id  \n",
        " JOIN     collections ON collections_items_relationship.parent_id = collections.id\n",
        " GROUP BY collections.id"
      ]
    },
    {
      "cell_type": "markdown",
      "metadata": {},
      "source": [
        "# .NET Interactive ExtensionLab: Microsoft.Data.Analysis\n",
        "\n",
        "This section demonstrates some of the experiments in the *ExtensionLab*  relating to the `DataFrame` class from [`Microsoft.Data.Analysis`](https://www.nuget.org/packages/Microsoft.Data.Analysis/).\n",
        "\n",
        "## The `#!linqify` magic command\n",
        "\n",
        "The `#!linqify` magic command builds a strongly-typed wrapper class around a `Microsoft.Data.Analysis.DataFrame` instance, which lets you write LINQ code against your data.  (You can learn more about `DataFrame` [here](https://devblogs.microsoft.com/dotnet/an-introduction-to-dataframe/).)\n",
        "\n",
        "To start, we'll add the `Microsoft.Data.Analysis` NuGet package."
      ]
    },
    {
      "cell_type": "code",
      "execution_count": null,
      "metadata": {
        "dotnet_interactive": {
          "language": "csharp"
        }
      },
      "outputs": [
        {
          "data": {
            "text/html": [
              "<div><div></div><div></div><div><strong>Installed Packages</strong><ul><li><span>Microsoft.Data.Analysis, 0.4.0</span></li></ul></div></div>"
            ]
          },
          "metadata": {},
          "output_type": "display_data"
        }
      ],
      "source": [
        "#r \"nuget:Microsoft.Data.Analysis,0.4.0\""
      ]
    },
    {
      "cell_type": "code",
      "execution_count": null,
      "metadata": {
        "dotnet_interactive": {
          "language": "csharp"
        }
      },
      "outputs": [
        {
          "data": {
            "text/html": [
              "<table><thead><tr><th><i>index</i></th><th><i>type</i></th><th>value</th></tr></thead><tbody><tr><td>0</td><td><span><a href=\"https://docs.microsoft.com/dotnet/api/microsoft.data.analysis.stringdataframecolumn?view=net-5.0\">Microsoft.Data.Analysis.StringDataFrameColumn</a></span></td><td><div class=\"dni-plaintext\">[ Lewis Hamilton, Michael Schumacher, Sebastian Vettel, Alain Prost, Ayrton Senna, Fernando Alonso, Nigel Mansell, Jackie Stewart, Niki Lauda, Jim Clark, Nico Rosberg, Nelson Piquet, Juan Manuel Fangio ]</div></td></tr><tr><td>1</td><td><span><a href=\"https://docs.microsoft.com/dotnet/api/microsoft.data.analysis.singledataframecolumn?view=net-5.0\">Microsoft.Data.Analysis.SingleDataFrameColumn</a></span></td><td><div class=\"dni-plaintext\">[ 103, 91, 53, 51, 41, 32, 31, 27, 25, 25, 23, 23, 23 ]</div></td></tr></tbody></table>"
            ]
          },
          "metadata": {},
          "output_type": "display_data"
        }
      ],
      "source": [
        "using Microsoft.Data.Analysis;\n",
        "\n",
        "var MyDataFrame = DataFrame.LoadCsv(@\"wins.csv\");\n",
        "\n",
        "MyDataFrame.Columns"
      ]
    },
    {
      "cell_type": "markdown",
      "metadata": {},
      "source": [
        "After running the previous cell, you can see that the `DataFrame` has columns with a few different data types. But since these are only known once the data is loaded, accessing them in a strongly-typed way isn't normally possible.\n",
        "\n",
        "The `DataFrameRow` indexer returns `object`. So \n",
        "```c#\n",
        "MyDataFrame.Rows[0][1].GetType()\n",
        "```\n",
        "returns `System.single`\n",
        "But \n",
        "\n",
        "```c#\n",
        "DataFrameRow row = myDataFrame.Rows[0];\n",
        "Single value = row[0];\n",
        "```\n",
        "won't compile because the row indexer returns System.Object\n",
        "\n",
        "This is where the `#!linqify` magic command we've installed from the ExtensionLab becomes useful. Since we know the column types in the `DataFrame` once it's been loaded, we can create a custom class with this understanding. And with .NET Interactive, we can do this at runtime, compile it, and replace the existing `MyDataFrame` variable with an instance of the new, more specific class.\n",
        "\n",
        "`#!linqify --show-code True ` will let you see the code being used"
      ]
    },
    {
      "cell_type": "code",
      "execution_count": null,
      "metadata": {
        "dotnet_interactive": {
          "language": "csharp"
        }
      },
      "outputs": [],
      "source": [
        "#!linqify MyDataFrame"
      ]
    },
    {
      "cell_type": "markdown",
      "metadata": {},
      "source": [
        "Now, you can write code to traverse the `DataFrame` using LINQ: "
      ]
    },
    {
      "cell_type": "code",
      "execution_count": null,
      "metadata": {
        "dotnet_interactive": {
          "language": "csharp"
        }
      },
      "outputs": [
        {
          "data": {
            "text/html": [
              "<table><thead><tr><th><i>index</i></th><th>WinningDriver</th><th>HowMany</th></tr></thead><tbody><tr><td>0</td><td>Juan Manuel Fangio</td><td><div class=\"dni-plaintext\">23</div></td></tr><tr><td>1</td><td>Nelson Piquet</td><td><div class=\"dni-plaintext\">23</div></td></tr><tr><td>2</td><td>Nico Rosberg</td><td><div class=\"dni-plaintext\">23</div></td></tr><tr><td>3</td><td>Jim Clark</td><td><div class=\"dni-plaintext\">25</div></td></tr><tr><td>4</td><td>Niki Lauda</td><td><div class=\"dni-plaintext\">25</div></td></tr><tr><td>5</td><td>Jackie Stewart</td><td><div class=\"dni-plaintext\">27</div></td></tr><tr><td>6</td><td>Nigel Mansell</td><td><div class=\"dni-plaintext\">31</div></td></tr><tr><td>7</td><td>Fernando Alonso</td><td><div class=\"dni-plaintext\">32</div></td></tr><tr><td>8</td><td>Ayrton Senna</td><td><div class=\"dni-plaintext\">41</div></td></tr><tr><td>9</td><td>Alain Prost</td><td><div class=\"dni-plaintext\">51</div></td></tr><tr><td>10</td><td>Sebastian Vettel</td><td><div class=\"dni-plaintext\">53</div></td></tr><tr><td>11</td><td>Michael Schumacher</td><td><div class=\"dni-plaintext\">91</div></td></tr><tr><td>12</td><td>Lewis Hamilton</td><td><div class=\"dni-plaintext\">103</div></td></tr></tbody></table>"
            ]
          },
          "metadata": {},
          "output_type": "display_data"
        }
      ],
      "source": [
        "MyDataFrame\n",
        "   .OrderBy(row => row.HowMany)\n",
        "   .ThenBy(row => row.WinningDriver)"
      ]
    },
    {
      "cell_type": "markdown",
      "metadata": {},
      "source": [
        "## Visualizing the data with the nteract Data Explorer\n",
        "\n",
        "The [nteract Data Explorer](https://blog.nteract.io/designing-the-nteract-data-explorer-f4476d53f897) is a powerful tool for understanding a dataset. Another experimental extension that we loaded when we installed the ExtensionLab package brings support for visualizing data from a number of types, including `IDataView`, which the `DataFrame` implements. The extension method `Explore` will render your data using the nteract Data Explorer:"
      ]
    },
    {
      "cell_type": "code",
      "execution_count": null,
      "metadata": {
        "dotnet_interactive": {
          "language": "csharp"
        }
      },
      "outputs": [
        {
          "data": {
            "text/csv": [
              "WinningDriver,HowMany\r\n",
              "Lewis Hamilton,103\r\n",
              "Michael Schumacher,91\r\n",
              "Sebastian Vettel,53\r\n",
              "Alain Prost,51\r\n",
              "Ayrton Senna,41\r\n",
              "Fernando Alonso,32\r\n",
              "Nigel Mansell,31\r\n",
              "Jackie Stewart,27\r\n",
              "Niki Lauda,25\r\n",
              "Jim Clark,25\r\n",
              "Nico Rosberg,23\r\n",
              "Nelson Piquet,23\r\n",
              "Juan Manuel Fangio,23\r\n"
            ],
            "text/html": [
              "<div style=\"background-color:white;\">\r\n",
              "<div id=\"658e29cc63a84b8b8da74a208f424614\" style=\"height: 100ch ;margin: 2px;\">\r\n",
              "</div>\r\n",
              "<script type=\"text/javascript\">\r\n",
              "\r\n",
              "renderNteractDataExplorer_658e29cc63a84b8b8da74a208f424614 = () => {\r\n",
              "\r\n",
              "    (require.config({ 'paths': { 'context': '1.0.252001', 'nteractUri' : 'https://colombod.github.io/dotnet-interactive-cdn/extensionlab/1.0.252001/nteract/nteractapi', 'urlArgs': 'cacheBuster=ca25944631374f7a8fb0036a1851d3fd' }}) || require)(['nteractUri'], (nteract) => {\r\n",
              "\r\n",
              "        nteract.createDataExplorer({\r\n",
              "            data: {\r\n",
              "  \"profile\": \"tabular-data-resource\",\r\n",
              "  \"schema\": {\r\n",
              "    \"primaryKey\": [],\r\n",
              "    \"fields\": [\r\n",
              "      {\r\n",
              "        \"name\": \"WinningDriver\",\r\n",
              "        \"type\": \"string\"\r\n",
              "      },\r\n",
              "      {\r\n",
              "        \"name\": \"HowMany\",\r\n",
              "        \"type\": \"number\"\r\n",
              "      }\r\n",
              "    ]\r\n",
              "  },\r\n",
              "  \"data\": [\r\n",
              "    {\r\n",
              "      \"WinningDriver\": \"Lewis Hamilton\",\r\n",
              "      \"HowMany\": 103\r\n",
              "    },\r\n",
              "    {\r\n",
              "      \"WinningDriver\": \"Michael Schumacher\",\r\n",
              "      \"HowMany\": 91\r\n",
              "    },\r\n",
              "    {\r\n",
              "      \"WinningDriver\": \"Sebastian Vettel\",\r\n",
              "      \"HowMany\": 53\r\n",
              "    },\r\n",
              "    {\r\n",
              "      \"WinningDriver\": \"Alain Prost\",\r\n",
              "      \"HowMany\": 51\r\n",
              "    },\r\n",
              "    {\r\n",
              "      \"WinningDriver\": \"Ayrton Senna\",\r\n",
              "      \"HowMany\": 41\r\n",
              "    },\r\n",
              "    {\r\n",
              "      \"WinningDriver\": \"Fernando Alonso\",\r\n",
              "      \"HowMany\": 32\r\n",
              "    },\r\n",
              "    {\r\n",
              "      \"WinningDriver\": \"Nigel Mansell\",\r\n",
              "      \"HowMany\": 31\r\n",
              "    },\r\n",
              "    {\r\n",
              "      \"WinningDriver\": \"Jackie Stewart\",\r\n",
              "      \"HowMany\": 27\r\n",
              "    },\r\n",
              "    {\r\n",
              "      \"WinningDriver\": \"Niki Lauda\",\r\n",
              "      \"HowMany\": 25\r\n",
              "    },\r\n",
              "    {\r\n",
              "      \"WinningDriver\": \"Jim Clark\",\r\n",
              "      \"HowMany\": 25\r\n",
              "    },\r\n",
              "    {\r\n",
              "      \"WinningDriver\": \"Nico Rosberg\",\r\n",
              "      \"HowMany\": 23\r\n",
              "    },\r\n",
              "    {\r\n",
              "      \"WinningDriver\": \"Nelson Piquet\",\r\n",
              "      \"HowMany\": 23\r\n",
              "    },\r\n",
              "    {\r\n",
              "      \"WinningDriver\": \"Juan Manuel Fangio\",\r\n",
              "      \"HowMany\": 23\r\n",
              "    }\r\n",
              "  ]\r\n",
              "},\r\n",
              "            container: document.getElementById(\"658e29cc63a84b8b8da74a208f424614\")\r\n",
              "        });\r\n",
              "    },\r\n",
              "    (error) => {\r\n",
              "        console.log(error);\r\n",
              "    });\r\n",
              "};\r\n",
              "// ensure `require` is available globally\r\n",
              "if ((typeof(require) !==  typeof(Function)) || (typeof(require.config) !== typeof(Function))) {\r\n",
              "    let require_script = document.createElement('script');\r\n",
              "    require_script.setAttribute('src', 'https://cdnjs.cloudflare.com/ajax/libs/require.js/2.3.6/require.min.js');\r\n",
              "    require_script.setAttribute('type', 'text/javascript');\r\n",
              "    \r\n",
              "    \r\n",
              "    require_script.onload = function() {\r\n",
              "        renderNteractDataExplorer_658e29cc63a84b8b8da74a208f424614();\r\n",
              "    };\r\n",
              "\r\n",
              "    document.getElementsByTagName('head')[0].appendChild(require_script);\r\n",
              "}\r\n",
              "else {\r\n",
              "    renderNteractDataExplorer_658e29cc63a84b8b8da74a208f424614();\r\n",
              "}\r\n",
              "\r\n",
              " </script>\r\n",
              "</div>\r\n"
            ]
          },
          "metadata": {},
          "output_type": "display_data"
        }
      ],
      "source": [
        "using Microsoft.ML;\n",
        "\n",
        "MyDataFrame.ExploreWithNteract().Display();"
      ]
    },
    {
      "cell_type": "markdown",
      "metadata": {},
      "source": [
        "# .NET Interactive ExtensionLab: Microsoft.Data.Analysis Example 2 \n",
        "\n",
        "Download some interesting data. **WARNING** It's quite large and makes for a notebook which can be slow to load so clear the cell outputs afterwards"
      ]
    },
    {
      "cell_type": "code",
      "execution_count": null,
      "metadata": {
        "dotnet_interactive": {
          "language": "csharp"
        }
      },
      "outputs": [],
      "source": [
        "using System.IO;\n",
        "using System.Net.Http;\n",
        "\n",
        "string housingPath = \"housing.csv\";\n",
        "\n",
        "if (!File.Exists(housingPath))\n",
        "{\n",
        "    var contents = await new HttpClient()\n",
        "        .GetStringAsync(\"https://raw.githubusercontent.com/ageron/handson-ml2/master/datasets/housing/housing.csv\");\n",
        "        \n",
        "    // The default working directory of the notebook is the same directory where the notebook file is located, \n",
        "    // so we'll write the file without fully-qualifying the path.\n",
        "    File.WriteAllText(\"housing.csv\", contents);\n",
        "}"
      ]
    },
    {
      "cell_type": "code",
      "execution_count": null,
      "metadata": {
        "dotnet_interactive": {
          "language": "csharp"
        }
      },
      "outputs": [],
      "source": [
        "using Microsoft.Data.Analysis;\n",
        "\n",
        "var housingDataFrame = DataFrame.LoadCsv(@\"housing.csv\");\n",
        "\n",
        "housingDataFrame.Columns"
      ]
    },
    {
      "cell_type": "markdown",
      "metadata": {},
      "source": [
        "After running the previous cell, you can see that the `DataFrame` has columns with a few different data types. But since these are only known once the data is loaded, accessing them in a strongly-typed way isn't normally possible.\n",
        "\n",
        "The commented line in the next cell won't compile because the `DataFrameRow` indexer returns `object`."
      ]
    },
    {
      "cell_type": "code",
      "execution_count": null,
      "metadata": {
        "dotnet_interactive": {
          "language": "csharp"
        }
      },
      "outputs": [],
      "source": [
        "DataFrameRow row = housingDataFrame.Rows[0];\n",
        "\n",
        "// This next line won't compile because the row indexer returns System.Object\n",
        "//Single value = row[0];"
      ]
    },
    {
      "cell_type": "markdown",
      "metadata": {},
      "source": [
        "But as you can see next, the runtime type is more specific. "
      ]
    },
    {
      "cell_type": "code",
      "execution_count": null,
      "metadata": {
        "dotnet_interactive": {
          "language": "csharp"
        }
      },
      "outputs": [
        {
          "data": {
            "text/html": [
              "<span><a href=\"https://docs.microsoft.com/dotnet/api/system.single?view=netcore-3.0\">System.Single</a></span>"
            ]
          },
          "execution_count": 1,
          "metadata": {},
          "output_type": "execute_result"
        }
      ],
      "source": [
        "housingDataFrame.Rows[0][0].GetType()"
      ]
    },
    {
      "cell_type": "markdown",
      "metadata": {},
      "source": [
        "This is where the `#!linqify` magic command we've installed from the ExtensionLab becomes useful. Since we know the column types in the `DataFrame` once it's been loaded, we can create a custom class with this understanding. And with .NET Interactive, we can do this at runtime, compile it, and replace the existing `housingDataFrame` variable with an instance of the new, more specific class."
      ]
    },
    {
      "cell_type": "code",
      "execution_count": null,
      "metadata": {
        "dotnet_interactive": {
          "language": "csharp"
        }
      },
      "outputs": [
        {
          "data": {
            "text/plain": [
              "#!linqify\r\n",
              "  Replaces the specified Microsoft.Data.Analysis.DataFrame with a derived type for LINQ access to the contained data\r\n",
              "\r\n",
              "Usage:\r\n",
              "  [options] #!linqify <variable-name>\r\n",
              "\r\n",
              "Arguments:\r\n",
              "  <housingDataFrame|MyDataFrame>  The name of the variable to replace\r\n",
              "\r\n",
              "Options:\r\n",
              "  --show-code     Display the C# code for the generated DataFrame types\r\n",
              "  -?, -h, --help  Show help and usage information\r\n",
              "\r\n"
            ]
          },
          "execution_count": 1,
          "metadata": {},
          "output_type": "execute_result"
        }
      ],
      "source": [
        "#!linqify -h"
      ]
    },
    {
      "cell_type": "code",
      "execution_count": null,
      "metadata": {
        "dotnet_interactive": {
          "language": "csharp"
        }
      },
      "outputs": [
        {
          "data": {
            "text/plain": [
              "\r\n",
              "public class DataFrame_From_housingDataFrame : Microsoft.Data.Analysis.DataFrame, IEnumerable<DataFrameRow_From_housingDataFrame>\r\n",
              "{\r\n",
              "    public DataFrame_From_housingDataFrame()\r\n",
              "    {\r\n",
              "    }\r\n",
              "\r\n",
              "    public IEnumerator<DataFrameRow_From_housingDataFrame> GetEnumerator() =>\r\n",
              "        Rows.Select(row => new DataFrameRow_From_housingDataFrame(row)).GetEnumerator();\r\n",
              "\r\n",
              "    IEnumerator IEnumerable.GetEnumerator() =>\r\n",
              "        GetEnumerator();\r\n",
              "}\r\n",
              "\r\n",
              "public class DataFrameRow_From_housingDataFrame\r\n",
              "{\r\n",
              "    private readonly Microsoft.Data.Analysis.DataFrameRow _sourceRow;\r\n",
              "    \r\n",
              "    public DataFrameRow_From_housingDataFrame(Microsoft.Data.Analysis.DataFrameRow sourceRow)\r\n",
              "    {\r\n",
              "        _sourceRow = sourceRow;\r\n",
              "    }\r\n",
              "\r\n",
              "    public System.Single longitude => (System.Single) _sourceRow[0];\r\n",
              "    public System.Single latitude => (System.Single) _sourceRow[1];\r\n",
              "    public System.Single housing_median_age => (System.Single) _sourceRow[2];\r\n",
              "    public System.Single total_rooms => (System.Single) _sourceRow[3];\r\n",
              "    public System.Single total_bedrooms => (System.Single) _sourceRow[4];\r\n",
              "    public System.Single population => (System.Single) _sourceRow[5];\r\n",
              "    public System.Single households => (System.Single) _sourceRow[6];\r\n",
              "    public System.Single median_income => (System.Single) _sourceRow[7];\r\n",
              "    public System.Single median_house_value => (System.Single) _sourceRow[8];\r\n",
              "    public System.String ocean_proximity => (System.String) _sourceRow[9];\r\n",
              "\r\n",
              "}\r\n",
              "\r\n",
              "var housingDataFrame = new DataFrame_From_housingDataFrame();\r\n"
            ]
          },
          "execution_count": 1,
          "metadata": {},
          "output_type": "execute_result"
        }
      ],
      "source": [
        "#!linqify --show-code True housingDataFrame"
      ]
    },
    {
      "cell_type": "markdown",
      "metadata": {},
      "source": [
        "Now, you can write code to traverse the `DataFrame` using LINQ: "
      ]
    },
    {
      "cell_type": "code",
      "execution_count": null,
      "metadata": {
        "dotnet_interactive": {
          "language": "csharp"
        }
      },
      "outputs": [],
      "source": [
        "housingDataFrame\n",
        "    .OrderBy(row => row.ocean_proximity)\n",
        "    .ThenBy(row => row.median_house_value)"
      ]
    },
    {
      "cell_type": "markdown",
      "metadata": {},
      "source": [
        "## Visualizing the data with the nteract Data Explorer\n",
        "\n",
        "The [nteract Data Explorer](https://blog.nteract.io/designing-the-nteract-data-explorer-f4476d53f897) is a powerful tool for understanding a dataset. Another experimental extension that we loaded when we installed the ExtensionLab package brings support for visualizing data from a number of types, including `IDataView`, which the `DataFrame` implements. The extension method `Explore` will render your data using the nteract Data Explorer:"
      ]
    },
    {
      "cell_type": "code",
      "execution_count": null,
      "metadata": {
        "dotnet_interactive": {
          "language": "csharp"
        }
      },
      "outputs": [],
      "source": [
        "using Microsoft.ML;\n",
        "\n",
        "housingDataFrame.ExploreWithNteract().Display()"
      ]
    },
    {
      "cell_type": "code",
      "execution_count": null,
      "metadata": {
        "dotnet_interactive": {
          "language": "csharp"
        }
      },
      "outputs": [],
      "source": [
        "housingDataFrame.ExploreWithSandDance().Display();"
      ]
    }
  ],
  "metadata": {
    "kernelspec": {
      "display_name": ".NET (C#)",
      "language": "C#",
      "name": ".net-csharp"
    },
    "language_info": {
      "file_extension": ".cs",
      "mimetype": "text/x-csharp",
      "name": "C#",
      "pygments_lexer": "csharp",
      "version": "8.0"
    }
  },
  "nbformat": 4,
  "nbformat_minor": 4
}
