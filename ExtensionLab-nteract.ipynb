{
 "cells": [
  {
   "cell_type": "code",
   "execution_count": 1,
   "metadata": {},
   "source": [
    "#r \"nuget:Microsoft.DotNet.Interactive.ExtensionLab,*-*\""
   ],
   "outputs": [
    {
     "output_type": "execute_result",
     "data": {
      "text/plain": "Installed package Microsoft.DotNet.Interactive.ExtensionLab version 1.0.0-beta.20630.2"
     },
     "execution_count": 1,
     "metadata": {}
    },
    {
     "output_type": "execute_result",
     "data": {
      "text/plain": "Loaded Microsoft.DotNet.Interactive.ExtensionLab.DataFrameKernelExtension"
     },
     "execution_count": 1,
     "metadata": {}
    },
    {
     "output_type": "execute_result",
     "data": {
      "text/markdown": "Added the `#!linqify` magic command."
     },
     "execution_count": 1,
     "metadata": {}
    },
    {
     "output_type": "execute_result",
     "data": {
      "text/plain": "Loaded Microsoft.DotNet.Interactive.ExtensionLab.InspectExtension"
     },
     "execution_count": 1,
     "metadata": {}
    },
    {
     "output_type": "execute_result",
     "data": {
      "text/plain": "Loaded Microsoft.DotNet.Interactive.ExtensionLab.NteractKernelExtension"
     },
     "execution_count": 1,
     "metadata": {}
    },
    {
     "output_type": "execute_result",
     "data": {
      "text/markdown": "Added the `Explore` extension method, which you can use with `IEnumerable<T>` and `IDataView` to view data using the [nteract Data Explorer](https://github.com/nteract/data-explorer)."
     },
     "execution_count": 1,
     "metadata": {}
    },
    {
     "output_type": "execute_result",
     "data": {
      "text/plain": "Loaded Microsoft.DotNet.Interactive.ExtensionLab.RecordTranscriptExtension"
     },
     "execution_count": 1,
     "metadata": {}
    },
    {
     "output_type": "execute_result",
     "data": {
      "text/plain": "Loaded Microsoft.DotNet.Interactive.ExtensionLab.SqlKernelsExtension"
     },
     "execution_count": 1,
     "metadata": {}
    },
    {
     "output_type": "execute_result",
     "data": {
      "text/markdown": "\r\nAdded `mssql` and `sqlite` to the connection types available using the [`#!connect`](https://github.com/dotnet/interactive/blob/main/docs/connect.md) magic command."
     },
     "execution_count": 1,
     "metadata": {}
    }
   ]
  },
  {
   "cell_type": "code",
   "execution_count": 1,
   "metadata": {},
   "source": [
    "#r \"nuget:Microsoft.Data.Sqlite,3.1.7\""
   ],
   "outputs": [
    {
     "output_type": "execute_result",
     "data": {
      "text/plain": "Installed package Microsoft.Data.Sqlite version 3.1.7"
     },
     "execution_count": 1,
     "metadata": {}
    }
   ]
  },
  {
   "cell_type": "code",
   "execution_count": 1,
   "metadata": {},
   "source": [
    "using Microsoft.DotNet.Interactive.ExtensionLab;\n",
    "DataExplorerExtensions.Settings.UseUri(@\"https://colombod.github.io/dotnet-interactive-cdn/extensionlab/1.0.0/nteract/index.js\");"
   ],
   "outputs": []
  },
  {
   "cell_type": "code",
   "execution_count": 1,
   "metadata": {},
   "source": [
    " var data = new[]\n",
    "            {\n",
    "                new {Type=\"orange\", Price=1.2},\n",
    "                new {Type=\"apple\" , Price=1.3},\n",
    "                new {Type=\"grape\" , Price=1.4}\n",
    "            };"
   ],
   "outputs": []
  },
  {
   "cell_type": "code",
   "execution_count": 1,
   "metadata": {},
   "source": [
    "data.Explore()"
   ],
   "outputs": [
    {
     "output_type": "execute_result",
     "data": {
      "text/html": "<div>\r\n<div id=\"7dbe538f39e54693a98f774caa4b526d\" style=\"height: 100ch ;margin: 2px;\">\r\n</div>\r\n<script type=\"text/javascript\">\r\n\r\nlet renderDataExplorer_7dbe538f39e54693a98f774caa4b526d = () => {\r\n\r\n    (require.config({ 'paths': { 'context': '1.0.0', 'nteractUri' : 'https://colombod.github.io/dotnet-interactive-cdn/extensionlab/1.0.0/nteract/index', 'urlArgs': 'cacheBuster=-107876585' }}) || require)(['nteractUri'], (nteract) => {\r\n\r\n        nteract.createDataExplorer({\r\n            data: {\r\n  \"schema\": {\r\n    \"primaryKey\": [],\r\n    \"fields\": [\r\n      {\r\n        \"name\": \"Type\",\r\n        \"type\": \"string\"\r\n      },\r\n      {\r\n        \"name\": \"Price\",\r\n        \"type\": \"number\"\r\n      }\r\n    ]\r\n  },\r\n  \"data\": [\r\n    {\r\n      \"Type\": \"orange\",\r\n      \"Price\": 1.2\r\n    },\r\n    {\r\n      \"Type\": \"apple\",\r\n      \"Price\": 1.3\r\n    },\r\n    {\r\n      \"Type\": \"grape\",\r\n      \"Price\": 1.4\r\n    }\r\n  ]\r\n},\r\n            container: document.getElementById(\"7dbe538f39e54693a98f774caa4b526d\")\r\n        });\r\n    },\r\n    (error) => {\r\n        console.log(error);\r\n    });\r\n};\r\n// ensure `require` is available globally\r\nif ((typeof(require) !==  typeof(Function)) || (typeof(require.config) !== typeof(Function))) {\r\n    let require_script = document.createElement('script');\r\n    require_script.setAttribute('src', 'https://cdnjs.cloudflare.com/ajax/libs/require.js/2.3.6/require.min.js');\r\n    require_script.setAttribute('type', 'text/javascript');\r\n    \r\n    \r\n    require_script.onload = function() {\r\n        renderDataExplorer_7dbe538f39e54693a98f774caa4b526d();\r\n    };\r\n\r\n    document.getElementsByTagName('head')[0].appendChild(require_script);\r\n}\r\nelse {\r\n    renderDataExplorer_7dbe538f39e54693a98f774caa4b526d();\r\n}\r\n\r\n </script>\r\n</div>\r\n"
     },
     "execution_count": 1,
     "metadata": {}
    }
   ]
  },
  {
   "cell_type": "markdown",
   "metadata": {},
   "source": [
    "# .NET Interactive ExtensionLab: SQL Connections\n",
    "\n",
    "This sample demonstrates how to use the `#!connect` extension"
   ]
  },
  {
   "cell_type": "code",
   "execution_count": 1,
   "metadata": {},
   "source": [
    "#!connect sqlite -h"
   ],
   "outputs": [
    {
     "output_type": "execute_result",
     "data": {
      "text/plain": "sqlite:\r\n  Connects to a SQLite database\r\n\r\nUsage:\r\n  #!connect sqlite [options] <connectionString>\r\n\r\nArguments:\r\n  <connectionString>    The connection string used to connect to the database\r\n\r\nOptions:\r\n  --kernel-name <kernel-name>    The name of the subkernel to be added\r\n  -?, -h, --help                 Show help and usage information\r\n\r\n"
     },
     "execution_count": 1,
     "metadata": {}
    }
   ]
  },
  {
   "cell_type": "code",
   "execution_count": 1,
   "metadata": {},
   "source": [
    "#!connect sqlite --kernel-name collections \"Data Source=C:\\Temp\\collectionsSQLite;\""
   ],
   "outputs": [
    {
     "output_type": "execute_result",
     "data": {
      "text/plain": "Kernel added: #!collections"
     },
     "execution_count": 1,
     "metadata": {}
    }
   ]
  },
  {
   "cell_type": "code",
   "execution_count": 1,
   "metadata": {},
   "source": [
    "#!collections  -h\n",
    ""
   ],
   "outputs": [
    {
     "output_type": "execute_result",
     "data": {
      "text/plain": "#!collections:\r\n  Run the code that follows using the collections kernel. (Connected kernel)\r\n\r\nUsage:\r\n  #!collections [options]\r\n\r\nOptions:\r\n  -?, -h, --help    Show help and usage information\r\n\r\n"
     },
     "execution_count": 1,
     "metadata": {}
    },
    {
     "output_type": "execute_result",
     "data": {
      "text/html": "<div>\r\n<div id=\"7bc1d82f62a54aa7a0b0da68535770c0\" style=\"height: 100ch ;margin: 2px;\">\r\n</div>\r\n<script type=\"text/javascript\">\r\n\r\nlet renderDataExplorer_7bc1d82f62a54aa7a0b0da68535770c0 = () => {\r\n\r\n    (require.config({ 'paths': { 'context': '1.0.0', 'nteractUri' : 'https://colombod.github.io/dotnet-interactive-cdn/extensionlab/1.0.0/nteract/index', 'urlArgs': 'cacheBuster=-1732544530' }}) || require)(['nteractUri'], (nteract) => {\r\n\r\n        nteract.createDataExplorer({\r\n            data: {\r\n  \"schema\": {\r\n    \"primaryKey\": [],\r\n    \"fields\": []\r\n  },\r\n  \"data\": []\r\n},\r\n            container: document.getElementById(\"7bc1d82f62a54aa7a0b0da68535770c0\")\r\n        });\r\n    },\r\n    (error) => {\r\n        console.log(error);\r\n    });\r\n};\r\n// ensure `require` is available globally\r\nif ((typeof(require) !==  typeof(Function)) || (typeof(require.config) !== typeof(Function))) {\r\n    let require_script = document.createElement('script');\r\n    require_script.setAttribute('src', 'https://cdnjs.cloudflare.com/ajax/libs/require.js/2.3.6/require.min.js');\r\n    require_script.setAttribute('type', 'text/javascript');\r\n    \r\n    \r\n    require_script.onload = function() {\r\n        renderDataExplorer_7bc1d82f62a54aa7a0b0da68535770c0();\r\n    };\r\n\r\n    document.getElementsByTagName('head')[0].appendChild(require_script);\r\n}\r\nelse {\r\n    renderDataExplorer_7bc1d82f62a54aa7a0b0da68535770c0();\r\n}\r\n\r\n </script>\r\n</div>\r\n"
     },
     "execution_count": 1,
     "metadata": {}
    }
   ]
  },
  {
   "cell_type": "code",
   "execution_count": 1,
   "metadata": {},
   "source": [
    "#!collections \n",
    "SELECT name, type FROM sqlite_master \n",
    "WHERE type IN ('table','view') \n",
    "AND name NOT LIKE 'sqlite_%'\n",
    "ORDER BY 1;"
   ],
   "outputs": [
    {
     "output_type": "execute_result",
     "data": {
      "text/html": "<div>\r\n<div id=\"5e69c0aaae5849a993708617b8ddb521\" style=\"height: 100ch ;margin: 2px;\">\r\n</div>\r\n<script type=\"text/javascript\">\r\n\r\nlet renderDataExplorer_5e69c0aaae5849a993708617b8ddb521 = () => {\r\n\r\n    (require.config({ 'paths': { 'context': '1.0.0', 'nteractUri' : 'https://colombod.github.io/dotnet-interactive-cdn/extensionlab/1.0.0/nteract/index', 'urlArgs': 'cacheBuster=-107876585' }}) || require)(['nteractUri'], (nteract) => {\r\n\r\n        nteract.createDataExplorer({\r\n            data: {\r\n  \"schema\": {\r\n    \"primaryKey\": [],\r\n    \"fields\": [\r\n      {\r\n        \"name\": \"name\",\r\n        \"type\": \"string\"\r\n      },\r\n      {\r\n        \"name\": \"type\",\r\n        \"type\": \"string\"\r\n      }\r\n    ]\r\n  },\r\n  \"data\": [\r\n    {\r\n      \"name\": \"collections\",\r\n      \"type\": \"table\"\r\n    },\r\n    {\r\n      \"name\": \"collections_items_relationship\",\r\n      \"type\": \"table\"\r\n    },\r\n    {\r\n      \"name\": \"collections_sync\",\r\n      \"type\": \"table\"\r\n    },\r\n    {\r\n      \"name\": \"comments\",\r\n      \"type\": \"table\"\r\n    },\r\n    {\r\n      \"name\": \"favicons\",\r\n      \"type\": \"table\"\r\n    },\r\n    {\r\n      \"name\": \"items\",\r\n      \"type\": \"table\"\r\n    },\r\n    {\r\n      \"name\": \"items_sync\",\r\n      \"type\": \"table\"\r\n    },\r\n    {\r\n      \"name\": \"meta\",\r\n      \"type\": \"table\"\r\n    }\r\n  ]\r\n},\r\n            container: document.getElementById(\"5e69c0aaae5849a993708617b8ddb521\")\r\n        });\r\n    },\r\n    (error) => {\r\n        console.log(error);\r\n    });\r\n};\r\n// ensure `require` is available globally\r\nif ((typeof(require) !==  typeof(Function)) || (typeof(require.config) !== typeof(Function))) {\r\n    let require_script = document.createElement('script');\r\n    require_script.setAttribute('src', 'https://cdnjs.cloudflare.com/ajax/libs/require.js/2.3.6/require.min.js');\r\n    require_script.setAttribute('type', 'text/javascript');\r\n    \r\n    \r\n    require_script.onload = function() {\r\n        renderDataExplorer_5e69c0aaae5849a993708617b8ddb521();\r\n    };\r\n\r\n    document.getElementsByTagName('head')[0].appendChild(require_script);\r\n}\r\nelse {\r\n    renderDataExplorer_5e69c0aaae5849a993708617b8ddb521();\r\n}\r\n\r\n </script>\r\n</div>\r\n"
     },
     "execution_count": 1,
     "metadata": {}
    }
   ]
  },
  {
   "cell_type": "code",
   "execution_count": 1,
   "metadata": {},
   "source": [
    "#!collections\n",
    " SELECT   count(parent_id), \n",
    "          collections.title as CollectionTitle \n",
    " FROM                    collections_items_relationship \n",
    " JOIN     items       ON collections_items_relationship.item_id = items.id  \n",
    " JOIN     collections ON collections_items_relationship.parent_id = collections.id\n",
    " GROUP BY collections.id"
   ],
   "outputs": [
    {
     "output_type": "execute_result",
     "data": {
      "text/html": "<div>\r\n<div id=\"f768474a389147499fa412652d0d9931\" style=\"height: 100ch ;margin: 2px;\">\r\n</div>\r\n<script type=\"text/javascript\">\r\n\r\nlet renderDataExplorer_f768474a389147499fa412652d0d9931 = () => {\r\n\r\n    (require.config({ 'paths': { 'context': '1.0.0', 'nteractUri' : 'https://colombod.github.io/dotnet-interactive-cdn/extensionlab/1.0.0/nteract/index', 'urlArgs': 'cacheBuster=-107876585' }}) || require)(['nteractUri'], (nteract) => {\r\n\r\n        nteract.createDataExplorer({\r\n            data: {\r\n  \"schema\": {\r\n    \"primaryKey\": [],\r\n    \"fields\": [\r\n      {\r\n        \"name\": \"count(parent_id)\",\r\n        \"type\": \"integer\"\r\n      },\r\n      {\r\n        \"name\": \"CollectionTitle\",\r\n        \"type\": \"string\"\r\n      }\r\n    ]\r\n  },\r\n  \"data\": [\r\n    {\r\n      \"count(parent_id)\": 30,\r\n      \"CollectionTitle\": \"Azure notes\"\r\n    },\r\n    {\r\n      \"count(parent_id)\": 11,\r\n      \"CollectionTitle\": \"Training Pile\"\r\n    },\r\n    {\r\n      \"count(parent_id)\": 1,\r\n      \"CollectionTitle\": \"AzDo Site\"\r\n    },\r\n    {\r\n      \"count(parent_id)\": 25,\r\n      \"CollectionTitle\": \"Odds and ends\"\r\n    },\r\n    {\r\n      \"count(parent_id)\": 4,\r\n      \"CollectionTitle\": \"RDP Notes\"\r\n    },\r\n    {\r\n      \"count(parent_id)\": 32,\r\n      \"CollectionTitle\": \"Azure training\"\r\n    },\r\n    {\r\n      \"count(parent_id)\": 8,\r\n      \"CollectionTitle\": \"bacpac and sql\"\r\n    }\r\n  ]\r\n},\r\n            container: document.getElementById(\"f768474a389147499fa412652d0d9931\")\r\n        });\r\n    },\r\n    (error) => {\r\n        console.log(error);\r\n    });\r\n};\r\n// ensure `require` is available globally\r\nif ((typeof(require) !==  typeof(Function)) || (typeof(require.config) !== typeof(Function))) {\r\n    let require_script = document.createElement('script');\r\n    require_script.setAttribute('src', 'https://cdnjs.cloudflare.com/ajax/libs/require.js/2.3.6/require.min.js');\r\n    require_script.setAttribute('type', 'text/javascript');\r\n    \r\n    \r\n    require_script.onload = function() {\r\n        renderDataExplorer_f768474a389147499fa412652d0d9931();\r\n    };\r\n\r\n    document.getElementsByTagName('head')[0].appendChild(require_script);\r\n}\r\nelse {\r\n    renderDataExplorer_f768474a389147499fa412652d0d9931();\r\n}\r\n\r\n </script>\r\n</div>\r\n"
     },
     "execution_count": 1,
     "metadata": {}
    }
   ]
  },
  {
   "cell_type": "markdown",
   "metadata": {},
   "source": [
    "# .NET Interactive ExtensionLab: Microsoft.Data.Analysis\n",
    "\n",
    "This section demonstrates some of the experiments in the *ExtensionLab*  relating to the `DataFrame` class from [`Microsoft.Data.Analysis`](https://www.nuget.org/packages/Microsoft.Data.Analysis/).\n",
    "\n",
    "## The `#!linqify` magic command\n",
    "\n",
    "The `#!linqify` magic command builds a strongly-typed wrapper class around a `Microsoft.Data.Analysis.DataFrame` instance, which lets you write LINQ code against your data.  (You can learn more about `DataFrame` [here](https://devblogs.microsoft.com/dotnet/an-introduction-to-dataframe/).)\n",
    "\n",
    "To start, we'll add the `Microsoft.Data.Analysis` NuGet package."
   ]
  },
  {
   "cell_type": "code",
   "execution_count": 1,
   "metadata": {},
   "source": [
    "#r \"nuget:Microsoft.Data.Analysis,0.4.0\""
   ],
   "outputs": []
  },
  {
   "cell_type": "code",
   "execution_count": 1,
   "metadata": {},
   "source": [
    "using Microsoft.Data.Analysis;\n",
    "\n",
    "var MyDataFrame = DataFrame.LoadCsv(@\"wins.csv\");\n",
    "\n",
    "MyDataFrame.Columns"
   ],
   "outputs": [
    {
     "output_type": "execute_result",
     "data": {
      "text/html": "<table><thead><tr><th><i>index</i></th><th><i>type</i></th><th>value</th></tr></thead><tbody><tr><td>0</td><td><span><a href=\"https://docs.microsoft.com/dotnet/api/microsoft.data.analysis.stringdataframecolumn?view=netcore-3.0\">Microsoft.Data.Analysis.StringDataFrameColumn</a></span></td><td><div class=\"dni-plaintext\">[ Lewis Hamilton, Michael Schumacher, Sebastian Vettel, Alain Prost, Ayrton Senna, Fernando Alonso, Nigel Mansell, Jackie Stewart, Niki Lauda, Jim Clark, Nico Rosberg, Nelson Piquet, Juan Manuel Fangio ]</div></td></tr><tr><td>1</td><td><span><a href=\"https://docs.microsoft.com/dotnet/api/microsoft.data.analysis.singledataframecolumn?view=netcore-3.0\">Microsoft.Data.Analysis.SingleDataFrameColumn</a></span></td><td><div class=\"dni-plaintext\">[ 94, 92, 53, 51, 41, 32, 31, 27, 25, 25, 23, 23, 23 ]</div></td></tr></tbody></table>"
     },
     "execution_count": 1,
     "metadata": {}
    }
   ]
  },
  {
   "cell_type": "markdown",
   "metadata": {},
   "source": [
    "After running the previous cell, you can see that the `DataFrame` has columns with a few different data types. But since these are only known once the data is loaded, accessing them in a strongly-typed way isn't normally possible.\n",
    "\n",
    "The `DataFrameRow` indexer returns `object`. So \n",
    "```c#\n",
    "MyDataFrame.Rows[0][1].GetType()\n",
    "```\n",
    "returns `System.single`\n",
    "But \n",
    "\n",
    "```c#\n",
    "DataFrameRow row = myDataFrame.Rows[0];\n",
    "Single value = row[0];\n",
    "```\n",
    "won't compile because the row indexer returns System.Object\n",
    "\n",
    "This is where the `#!linqify` magic command we've installed from the ExtensionLab becomes useful. Since we know the column types in the `DataFrame` once it's been loaded, we can create a custom class with this understanding. And with .NET Interactive, we can do this at runtime, compile it, and replace the existing `MyDataFrame` variable with an instance of the new, more specific class.\n",
    "\n",
    "`#!linqify --show-code True ` will let you see the code being used\n",
    ""
   ]
  },
  {
   "cell_type": "code",
   "execution_count": 1,
   "metadata": {},
   "source": [
    "#!linqify MyDataFrame"
   ],
   "outputs": []
  },
  {
   "cell_type": "markdown",
   "metadata": {},
   "source": [
    "Now, you can write code to traverse the `DataFrame` using LINQ: "
   ]
  },
  {
   "cell_type": "code",
   "execution_count": 1,
   "metadata": {},
   "source": [
    "MyDataFrame\n",
    "   .OrderBy(row => row.HowMany)\n",
    "   .ThenBy(row => row.WinningDriver)"
   ],
   "outputs": [
    {
     "output_type": "execute_result",
     "data": {
      "text/html": "<table><thead><tr><th><i>index</i></th><th>WinningDriver</th><th>HowMany</th></tr></thead><tbody><tr><td>0</td><td><div class=\"dni-plaintext\">Juan Manuel Fangio</div></td><td><div class=\"dni-plaintext\">23</div></td></tr><tr><td>1</td><td><div class=\"dni-plaintext\">Nelson Piquet</div></td><td><div class=\"dni-plaintext\">23</div></td></tr><tr><td>2</td><td><div class=\"dni-plaintext\">Nico Rosberg</div></td><td><div class=\"dni-plaintext\">23</div></td></tr><tr><td>3</td><td><div class=\"dni-plaintext\">Jim Clark</div></td><td><div class=\"dni-plaintext\">25</div></td></tr><tr><td>4</td><td><div class=\"dni-plaintext\">Niki Lauda</div></td><td><div class=\"dni-plaintext\">25</div></td></tr><tr><td>5</td><td><div class=\"dni-plaintext\">Jackie Stewart</div></td><td><div class=\"dni-plaintext\">27</div></td></tr><tr><td>6</td><td><div class=\"dni-plaintext\">Nigel Mansell</div></td><td><div class=\"dni-plaintext\">31</div></td></tr><tr><td>7</td><td><div class=\"dni-plaintext\">Fernando Alonso</div></td><td><div class=\"dni-plaintext\">32</div></td></tr><tr><td>8</td><td><div class=\"dni-plaintext\">Ayrton Senna</div></td><td><div class=\"dni-plaintext\">41</div></td></tr><tr><td>9</td><td><div class=\"dni-plaintext\">Alain Prost</div></td><td><div class=\"dni-plaintext\">51</div></td></tr><tr><td>10</td><td><div class=\"dni-plaintext\">Sebastian Vettel</div></td><td><div class=\"dni-plaintext\">53</div></td></tr><tr><td>11</td><td><div class=\"dni-plaintext\">Michael Schumacher</div></td><td><div class=\"dni-plaintext\">92</div></td></tr><tr><td>12</td><td><div class=\"dni-plaintext\">Lewis Hamilton</div></td><td><div class=\"dni-plaintext\">94</div></td></tr></tbody></table>"
     },
     "execution_count": 1,
     "metadata": {}
    }
   ]
  },
  {
   "cell_type": "markdown",
   "metadata": {},
   "source": [
    "## Visualizing the data with the nteract Data Explorer\n",
    "\n",
    "The [nteract Data Explorer](https://blog.nteract.io/designing-the-nteract-data-explorer-f4476d53f897) is a powerful tool for understanding a dataset. Another experimental extension that we loaded when we installed the ExtensionLab package brings support for visualizing data from a number of types, including `IDataView`, which the `DataFrame` implements. The extension method `Explore` will render your data using the nteract Data Explorer:"
   ]
  },
  {
   "cell_type": "code",
   "execution_count": 1,
   "metadata": {},
   "source": [
    "using Microsoft.ML;\n",
    "\n",
    "MyDataFrame.Explore();"
   ],
   "outputs": [
    {
     "output_type": "execute_result",
     "data": {
      "text/html": "<div>\r\n<div id=\"e2737dc444864e68aa8dbd1c2cfef431\" style=\"height: 100ch ;margin: 2px;\">\r\n</div>\r\n<script type=\"text/javascript\">\r\n\r\nlet renderDataExplorer_e2737dc444864e68aa8dbd1c2cfef431 = () => {\r\n\r\n    (require.config({ 'paths': { 'context': '1.0.0', 'nteractUri' : 'https://colombod.github.io/dotnet-interactive-cdn/extensionlab/1.0.0/nteract/index', 'urlArgs': 'cacheBuster=-1912478230' }}) || require)(['nteractUri'], (nteract) => {\r\n\r\n        nteract.createDataExplorer({\r\n            data: {\r\n  \"schema\": {\r\n    \"primaryKey\": [],\r\n    \"fields\": [\r\n      {\r\n        \"name\": \"WinningDriver\",\r\n        \"type\": \"string\"\r\n      },\r\n      {\r\n        \"name\": \"HowMany\",\r\n        \"type\": \"number\"\r\n      }\r\n    ]\r\n  },\r\n  \"data\": [\r\n    {\r\n      \"WinningDriver\": \"Lewis Hamilton\",\r\n      \"HowMany\": 94.0\r\n    },\r\n    {\r\n      \"WinningDriver\": \"Michael Schumacher\",\r\n      \"HowMany\": 92.0\r\n    },\r\n    {\r\n      \"WinningDriver\": \"Sebastian Vettel\",\r\n      \"HowMany\": 53.0\r\n    },\r\n    {\r\n      \"WinningDriver\": \"Alain Prost\",\r\n      \"HowMany\": 51.0\r\n    },\r\n    {\r\n      \"WinningDriver\": \"Ayrton Senna\",\r\n      \"HowMany\": 41.0\r\n    },\r\n    {\r\n      \"WinningDriver\": \"Fernando Alonso\",\r\n      \"HowMany\": 32.0\r\n    },\r\n    {\r\n      \"WinningDriver\": \"Nigel Mansell\",\r\n      \"HowMany\": 31.0\r\n    },\r\n    {\r\n      \"WinningDriver\": \"Jackie Stewart\",\r\n      \"HowMany\": 27.0\r\n    },\r\n    {\r\n      \"WinningDriver\": \"Niki Lauda\",\r\n      \"HowMany\": 25.0\r\n    },\r\n    {\r\n      \"WinningDriver\": \"Jim Clark\",\r\n      \"HowMany\": 25.0\r\n    },\r\n    {\r\n      \"WinningDriver\": \"Nico Rosberg\",\r\n      \"HowMany\": 23.0\r\n    },\r\n    {\r\n      \"WinningDriver\": \"Nelson Piquet\",\r\n      \"HowMany\": 23.0\r\n    },\r\n    {\r\n      \"WinningDriver\": \"Juan Manuel Fangio\",\r\n      \"HowMany\": 23.0\r\n    }\r\n  ]\r\n},\r\n            container: document.getElementById(\"e2737dc444864e68aa8dbd1c2cfef431\")\r\n        });\r\n    },\r\n    (error) => {\r\n        console.log(error);\r\n    });\r\n};\r\n// ensure `require` is available globally\r\nif ((typeof(require) !==  typeof(Function)) || (typeof(require.config) !== typeof(Function))) {\r\n    let require_script = document.createElement('script');\r\n    require_script.setAttribute('src', 'https://cdnjs.cloudflare.com/ajax/libs/require.js/2.3.6/require.min.js');\r\n    require_script.setAttribute('type', 'text/javascript');\r\n    \r\n    \r\n    require_script.onload = function() {\r\n        renderDataExplorer_e2737dc444864e68aa8dbd1c2cfef431();\r\n    };\r\n\r\n    document.getElementsByTagName('head')[0].appendChild(require_script);\r\n}\r\nelse {\r\n    renderDataExplorer_e2737dc444864e68aa8dbd1c2cfef431();\r\n}\r\n\r\n </script>\r\n</div>\r\n"
     },
     "execution_count": 1,
     "metadata": {}
    }
   ]
  }
 ],
 "metadata": {
  "kernelspec": {
   "display_name": ".NET (C#)",
   "language": "C#",
   "name": ".net-csharp"
  },
  "language_info": {
   "file_extension": ".cs",
   "mimetype": "text/x-csharp",
   "name": "C#",
   "pygments_lexer": "csharp",
   "version": "8.0"
  }
 },
 "nbformat": 4,
 "nbformat_minor": 4
}