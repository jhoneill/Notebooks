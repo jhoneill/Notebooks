{
 "cells": [
  {
   "cell_type": "code",
   "execution_count": 1,
   "metadata": {},
   "source": [
    ""
   ],
   "outputs": []
  },
  {
   "cell_type": "code",
   "execution_count": 1,
   "metadata": {},
   "source": [
    "#r \"nuget:Microsoft.DotNet.Interactive.ExtensionLab,*-*\""
   ],
   "outputs": [
    {
     "output_type": "execute_result",
     "data": {
      "text/plain": "Installed package Microsoft.DotNet.Interactive.ExtensionLab version 1.0.0-beta.20568.1"
     },
     "execution_count": 1,
     "metadata": {}
    },
    {
     "output_type": "execute_result",
     "data": {
      "text/plain": "Loaded Microsoft.DotNet.Interactive.ExtensionLab.DataFrameKernelExtension"
     },
     "execution_count": 1,
     "metadata": {}
    },
    {
     "output_type": "execute_result",
     "data": {
      "text/markdown": "Added the `#!linqify` magic command."
     },
     "execution_count": 1,
     "metadata": {}
    },
    {
     "output_type": "execute_result",
     "data": {
      "text/plain": "Loaded Microsoft.DotNet.Interactive.ExtensionLab.InspectExtension"
     },
     "execution_count": 1,
     "metadata": {}
    },
    {
     "output_type": "execute_result",
     "data": {
      "text/plain": "Loaded Microsoft.DotNet.Interactive.ExtensionLab.NteractKernelExtension"
     },
     "execution_count": 1,
     "metadata": {}
    },
    {
     "output_type": "execute_result",
     "data": {
      "text/markdown": "Added the `Explore` extension method, which you can use with `IEnumerable<T>` and `IDataView` to view data using the [nteract Data Explorer](https://github.com/nteract/data-explorer)."
     },
     "execution_count": 1,
     "metadata": {}
    },
    {
     "output_type": "execute_result",
     "data": {
      "text/plain": "Loaded Microsoft.DotNet.Interactive.ExtensionLab.RecordTranscriptExtension"
     },
     "execution_count": 1,
     "metadata": {}
    },
    {
     "output_type": "execute_result",
     "data": {
      "text/plain": "Loaded Microsoft.DotNet.Interactive.ExtensionLab.SqlKernelsExtension"
     },
     "execution_count": 1,
     "metadata": {}
    },
    {
     "output_type": "execute_result",
     "data": {
      "text/markdown": "\r\nAdded `mssql` and `sqlite` to the connection types available using the [`#!connect`](https://github.com/dotnet/interactive/blob/main/docs/connect.md) magic command."
     },
     "execution_count": 1,
     "metadata": {}
    }
   ]
  },
  {
   "cell_type": "code",
   "execution_count": 1,
   "metadata": {},
   "source": [
    " var data = new[]\n",
    "            {\n",
    "                new {Type=\"orange\", Price=1.2},\n",
    "                new {Type=\"apple\" , Price=1.3},\n",
    "                new {Type=\"grape\" , Price=1.4}\n",
    "            };"
   ],
   "outputs": []
  },
  {
   "cell_type": "code",
   "execution_count": 1,
   "metadata": {},
   "source": [
    "using Microsoft.DotNet.Interactive.ExtensionLab;\n",
    "DataExplorerExtensions.Settings.UseUri(@\"https://colombod.github.io/dotnet-interactive-cdn/extensionlab/1.0.0/nteract/index.js\");"
   ],
   "outputs": []
  },
  {
   "cell_type": "code",
   "execution_count": 1,
   "metadata": {},
   "source": [
    "data.Explore()"
   ],
   "outputs": [
    {
     "output_type": "execute_result",
     "data": {
      "text/html": "<div>\r\n<div id=\"985f610f079b4cb99bf0078ef96a78e4\" style=\"height: 100ch ;margin: 2px;\">\r\n</div>\r\n<script type=\"text/javascript\">\r\n\r\nlet renderDataExplorer_985f610f079b4cb99bf0078ef96a78e4 = () => {\r\n\r\n    configureRequireFromExtension('nteract','1.0.0')(['nteract/index'], (nteract) => {\r\n\r\n        nteract.createDataExplorer({\r\n            data: {\r\n  \"schema\": {\r\n    \"primaryKey\": [],\r\n    \"fields\": [\r\n      {\r\n        \"name\": \"Type\",\r\n        \"type\": \"string\"\r\n      },\r\n      {\r\n        \"name\": \"Price\",\r\n        \"type\": \"number\"\r\n      }\r\n    ]\r\n  },\r\n  \"data\": [\r\n    {\r\n      \"Type\": \"orange\",\r\n      \"Price\": 1.2\r\n    },\r\n    {\r\n      \"Type\": \"apple\",\r\n      \"Price\": 1.3\r\n    },\r\n    {\r\n      \"Type\": \"grape\",\r\n      \"Price\": 1.4\r\n    }\r\n  ]\r\n},\r\n            container: document.getElementById(\"985f610f079b4cb99bf0078ef96a78e4\")\r\n        });\r\n    },\r\n    (error) => {\r\n        console.log(error);\r\n    });\r\n};\r\n// ensure `require` is available globally\r\nif ((typeof(require) !==  typeof(Function)) || (typeof(require.config) !== typeof(Function))) {\r\n    let require_script = document.createElement('script');\r\n    require_script.setAttribute('src', 'https://cdnjs.cloudflare.com/ajax/libs/require.js/2.3.6/require.min.js');\r\n    require_script.setAttribute('type', 'text/javascript');\r\n    \r\n    \r\n    require_script.onload = function() {\r\n        renderDataExplorer_985f610f079b4cb99bf0078ef96a78e4();\r\n    };\r\n\r\n    document.getElementsByTagName('head')[0].appendChild(require_script);\r\n}\r\nelse {\r\n    renderDataExplorer_985f610f079b4cb99bf0078ef96a78e4();\r\n}\r\n\r\n </script>\r\n</div>\r\n"
     },
     "execution_count": 1,
     "metadata": {}
    }
   ]
  },
  {
   "cell_type": "code",
   "execution_count": 1,
   "metadata": {},
   "source": [
    "#!pwsh\n",
    "Get-SQL -Excel -Connection ~\\OneDrive\\public\\f1\\f1Results.xlsx -ShowTables | Out-String"
   ],
   "outputs": [
    {
     "output_type": "execute_result",
     "data": {
      "text/plain": "[Analysis$]\r\n['Engine Aliases$']\r\n[f1drivers$]\r\n[f1drivers$_xlnm#_FilterDatabase]\r\n[f1races$]\r\n[f1races$_xlnm#_FilterDatabase]\r\n[Help$]\r\n[Records$]\r\n[Results$]\r\n[Results$_xlnm#_FilterDatabase]\r\n[Scoring$]\r\n[Sheet1$]\r\nDrivers\r\nraces\r\nResults\r\n\r\n"
     },
     "execution_count": 1,
     "metadata": {}
    }
   ]
  },
  {
   "cell_type": "code",
   "execution_count": 1,
   "metadata": {},
   "source": [
    "#!pwsh\n",
    "$wins = sql \"SELECT WinningDriver, HowMany \n",
    "     FROM  (\n",
    "         SELECT   WinningDriver,  Count(RaceDate) As Howmany \n",
    "         FROM     Races \n",
    "         GROUP BY WinningDriver \n",
    "      )\n",
    "      WHERE HowMany >= 23\n",
    "      ORDER BY Howmany DESC \"  | select WinningDriver, Howmany\n",
    "\n",
    "$wins | Out-String      "
   ],
   "outputs": [
    {
     "output_type": "execute_result",
     "data": {
      "text/plain": "13 row(s) returned\r\n"
     },
     "execution_count": 1,
     "metadata": {}
    },
    {
     "output_type": "execute_result",
     "data": {
      "text/plain": "\r\nWinningDriver      HowMany\r\n-------------      -------\r\nLewis Hamilton          94\r\nMichael Schumacher      92\r\nSebastian Vettel        53\r\nAlain Prost             51\r\nAyrton Senna            41\r\nFernando Alonso         32\r\nNigel Mansell           31\r\nJackie Stewart          27\r\nNiki Lauda              25\r\nJim Clark               25\r\nNico Rosberg            23\r\nNelson Piquet           23\r\nJuan Manuel Fangio      23\r\n\r\n\r\n"
     },
     "execution_count": 1,
     "metadata": {}
    }
   ]
  },
  {
   "cell_type": "code",
   "execution_count": 1,
   "metadata": {},
   "source": [
    "#!share  --from powershell wins\n",
    "wins.Explore()"
   ],
   "outputs": [
    {
     "output_type": "execute_result",
     "data": {
      "text/html": "<div>\r\n<div id=\"85b225fa46ac49e99efca3241fa18403\" style=\"height: 100ch ;margin: 2px;\">\r\n</div>\r\n<script type=\"text/javascript\">\r\n\r\nlet renderDataExplorer_85b225fa46ac49e99efca3241fa18403 = () => {\r\n\r\n    configureRequireFromExtension('nteract','1.0.0')(['nteract/index'], (nteract) => {\r\n\r\n        nteract.createDataExplorer({\r\n            data: {\r\n  \"schema\": {\r\n    \"primaryKey\": [],\r\n    \"fields\": [\r\n      {\r\n        \"name\": \"BaseObject\",\r\n        \"type\": \"any\"\r\n      },\r\n      {\r\n        \"name\": \"Members\",\r\n        \"type\": \"any\"\r\n      },\r\n      {\r\n        \"name\": \"Properties\",\r\n        \"type\": \"any\"\r\n      },\r\n      {\r\n        \"name\": \"Methods\",\r\n        \"type\": \"any\"\r\n      },\r\n      {\r\n        \"name\": \"ImmediateBaseObject\",\r\n        \"type\": \"any\"\r\n      },\r\n      {\r\n        \"name\": \"TypeNames\",\r\n        \"type\": \"any\"\r\n      }\r\n    ]\r\n  },\r\n  \"data\": [\r\n    {\r\n      \"CliXml\": \"<Objs Version=\\\"1.1.0.1\\\" xmlns=\\\"http://schemas.microsoft.com/powershell/2004/04\\\">\\r\\n  <Obj RefId=\\\"0\\\">\\r\\n    <TN RefId=\\\"0\\\">\\r\\n      <T>Selected.System.Data.DataRow</T>\\r\\n      <T>System.Management.Automation.PSCustomObject</T>\\r\\n      <T>System.Object</T>\\r\\n    </TN>\\r\\n    <ToString>@{WinningDriver=Lewis Hamilton; HowMany=94}</ToString>\\r\\n    <Obj RefId=\\\"1\\\">\\r\\n      <TNRef RefId=\\\"0\\\" />\\r\\n      <MS>\\r\\n        <S N=\\\"WinningDriver\\\">Lewis Hamilton</S>\\r\\n        <I32 N=\\\"HowMany\\\">94</I32>\\r\\n      </MS>\\r\\n    </Obj>\\r\\n    <MS>\\r\\n      <S N=\\\"WinningDriver\\\">Lewis Hamilton</S>\\r\\n      <I32 N=\\\"HowMany\\\">94</I32>\\r\\n    </MS>\\r\\n  </Obj>\\r\\n</Objs>\"\r\n    },\r\n    {\r\n      \"CliXml\": \"<Objs Version=\\\"1.1.0.1\\\" xmlns=\\\"http://schemas.microsoft.com/powershell/2004/04\\\">\\r\\n  <Obj RefId=\\\"0\\\">\\r\\n    <TN RefId=\\\"0\\\">\\r\\n      <T>Selected.System.Data.DataRow</T>\\r\\n      <T>System.Management.Automation.PSCustomObject</T>\\r\\n      <T>System.Object</T>\\r\\n    </TN>\\r\\n    <ToString>@{WinningDriver=Michael Schumacher; HowMany=92}</ToString>\\r\\n    <Obj RefId=\\\"1\\\">\\r\\n      <TNRef RefId=\\\"0\\\" />\\r\\n      <MS>\\r\\n        <S N=\\\"WinningDriver\\\">Michael Schumacher</S>\\r\\n        <I32 N=\\\"HowMany\\\">92</I32>\\r\\n      </MS>\\r\\n    </Obj>\\r\\n    <MS>\\r\\n      <S N=\\\"WinningDriver\\\">Michael Schumacher</S>\\r\\n      <I32 N=\\\"HowMany\\\">92</I32>\\r\\n    </MS>\\r\\n  </Obj>\\r\\n</Objs>\"\r\n    },\r\n    {\r\n      \"CliXml\": \"<Objs Version=\\\"1.1.0.1\\\" xmlns=\\\"http://schemas.microsoft.com/powershell/2004/04\\\">\\r\\n  <Obj RefId=\\\"0\\\">\\r\\n    <TN RefId=\\\"0\\\">\\r\\n      <T>Selected.System.Data.DataRow</T>\\r\\n      <T>System.Management.Automation.PSCustomObject</T>\\r\\n      <T>System.Object</T>\\r\\n    </TN>\\r\\n    <ToString>@{WinningDriver=Sebastian Vettel; HowMany=53}</ToString>\\r\\n    <Obj RefId=\\\"1\\\">\\r\\n      <TNRef RefId=\\\"0\\\" />\\r\\n      <MS>\\r\\n        <S N=\\\"WinningDriver\\\">Sebastian Vettel</S>\\r\\n        <I32 N=\\\"HowMany\\\">53</I32>\\r\\n      </MS>\\r\\n    </Obj>\\r\\n    <MS>\\r\\n      <S N=\\\"WinningDriver\\\">Sebastian Vettel</S>\\r\\n      <I32 N=\\\"HowMany\\\">53</I32>\\r\\n    </MS>\\r\\n  </Obj>\\r\\n</Objs>\"\r\n    },\r\n    {\r\n      \"CliXml\": \"<Objs Version=\\\"1.1.0.1\\\" xmlns=\\\"http://schemas.microsoft.com/powershell/2004/04\\\">\\r\\n  <Obj RefId=\\\"0\\\">\\r\\n    <TN RefId=\\\"0\\\">\\r\\n      <T>Selected.System.Data.DataRow</T>\\r\\n      <T>System.Management.Automation.PSCustomObject</T>\\r\\n      <T>System.Object</T>\\r\\n    </TN>\\r\\n    <ToString>@{WinningDriver=Alain Prost; HowMany=51}</ToString>\\r\\n    <Obj RefId=\\\"1\\\">\\r\\n      <TNRef RefId=\\\"0\\\" />\\r\\n      <MS>\\r\\n        <S N=\\\"WinningDriver\\\">Alain Prost</S>\\r\\n        <I32 N=\\\"HowMany\\\">51</I32>\\r\\n      </MS>\\r\\n    </Obj>\\r\\n    <MS>\\r\\n      <S N=\\\"WinningDriver\\\">Alain Prost</S>\\r\\n      <I32 N=\\\"HowMany\\\">51</I32>\\r\\n    </MS>\\r\\n  </Obj>\\r\\n</Objs>\"\r\n    },\r\n    {\r\n      \"CliXml\": \"<Objs Version=\\\"1.1.0.1\\\" xmlns=\\\"http://schemas.microsoft.com/powershell/2004/04\\\">\\r\\n  <Obj RefId=\\\"0\\\">\\r\\n    <TN RefId=\\\"0\\\">\\r\\n      <T>Selected.System.Data.DataRow</T>\\r\\n      <T>System.Management.Automation.PSCustomObject</T>\\r\\n      <T>System.Object</T>\\r\\n    </TN>\\r\\n    <ToString>@{WinningDriver=Ayrton Senna; HowMany=41}</ToString>\\r\\n    <Obj RefId=\\\"1\\\">\\r\\n      <TNRef RefId=\\\"0\\\" />\\r\\n      <MS>\\r\\n        <S N=\\\"WinningDriver\\\">Ayrton Senna</S>\\r\\n        <I32 N=\\\"HowMany\\\">41</I32>\\r\\n      </MS>\\r\\n    </Obj>\\r\\n    <MS>\\r\\n      <S N=\\\"WinningDriver\\\">Ayrton Senna</S>\\r\\n      <I32 N=\\\"HowMany\\\">41</I32>\\r\\n    </MS>\\r\\n  </Obj>\\r\\n</Objs>\"\r\n    },\r\n    {\r\n      \"CliXml\": \"<Objs Version=\\\"1.1.0.1\\\" xmlns=\\\"http://schemas.microsoft.com/powershell/2004/04\\\">\\r\\n  <Obj RefId=\\\"0\\\">\\r\\n    <TN RefId=\\\"0\\\">\\r\\n      <T>Selected.System.Data.DataRow</T>\\r\\n      <T>System.Management.Automation.PSCustomObject</T>\\r\\n      <T>System.Object</T>\\r\\n    </TN>\\r\\n    <ToString>@{WinningDriver=Fernando Alonso; HowMany=32}</ToString>\\r\\n    <Obj RefId=\\\"1\\\">\\r\\n      <TNRef RefId=\\\"0\\\" />\\r\\n      <MS>\\r\\n        <S N=\\\"WinningDriver\\\">Fernando Alonso</S>\\r\\n        <I32 N=\\\"HowMany\\\">32</I32>\\r\\n      </MS>\\r\\n    </Obj>\\r\\n    <MS>\\r\\n      <S N=\\\"WinningDriver\\\">Fernando Alonso</S>\\r\\n      <I32 N=\\\"HowMany\\\">32</I32>\\r\\n    </MS>\\r\\n  </Obj>\\r\\n</Objs>\"\r\n    },\r\n    {\r\n      \"CliXml\": \"<Objs Version=\\\"1.1.0.1\\\" xmlns=\\\"http://schemas.microsoft.com/powershell/2004/04\\\">\\r\\n  <Obj RefId=\\\"0\\\">\\r\\n    <TN RefId=\\\"0\\\">\\r\\n      <T>Selected.System.Data.DataRow</T>\\r\\n      <T>System.Management.Automation.PSCustomObject</T>\\r\\n      <T>System.Object</T>\\r\\n    </TN>\\r\\n    <ToString>@{WinningDriver=Nigel Mansell; HowMany=31}</ToString>\\r\\n    <Obj RefId=\\\"1\\\">\\r\\n      <TNRef RefId=\\\"0\\\" />\\r\\n      <MS>\\r\\n        <S N=\\\"WinningDriver\\\">Nigel Mansell</S>\\r\\n        <I32 N=\\\"HowMany\\\">31</I32>\\r\\n      </MS>\\r\\n    </Obj>\\r\\n    <MS>\\r\\n      <S N=\\\"WinningDriver\\\">Nigel Mansell</S>\\r\\n      <I32 N=\\\"HowMany\\\">31</I32>\\r\\n    </MS>\\r\\n  </Obj>\\r\\n</Objs>\"\r\n    },\r\n    {\r\n      \"CliXml\": \"<Objs Version=\\\"1.1.0.1\\\" xmlns=\\\"http://schemas.microsoft.com/powershell/2004/04\\\">\\r\\n  <Obj RefId=\\\"0\\\">\\r\\n    <TN RefId=\\\"0\\\">\\r\\n      <T>Selected.System.Data.DataRow</T>\\r\\n      <T>System.Management.Automation.PSCustomObject</T>\\r\\n      <T>System.Object</T>\\r\\n    </TN>\\r\\n    <ToString>@{WinningDriver=Jackie Stewart; HowMany=27}</ToString>\\r\\n    <Obj RefId=\\\"1\\\">\\r\\n      <TNRef RefId=\\\"0\\\" />\\r\\n      <MS>\\r\\n        <S N=\\\"WinningDriver\\\">Jackie Stewart</S>\\r\\n        <I32 N=\\\"HowMany\\\">27</I32>\\r\\n      </MS>\\r\\n    </Obj>\\r\\n    <MS>\\r\\n      <S N=\\\"WinningDriver\\\">Jackie Stewart</S>\\r\\n      <I32 N=\\\"HowMany\\\">27</I32>\\r\\n    </MS>\\r\\n  </Obj>\\r\\n</Objs>\"\r\n    },\r\n    {\r\n      \"CliXml\": \"<Objs Version=\\\"1.1.0.1\\\" xmlns=\\\"http://schemas.microsoft.com/powershell/2004/04\\\">\\r\\n  <Obj RefId=\\\"0\\\">\\r\\n    <TN RefId=\\\"0\\\">\\r\\n      <T>Selected.System.Data.DataRow</T>\\r\\n      <T>System.Management.Automation.PSCustomObject</T>\\r\\n      <T>System.Object</T>\\r\\n    </TN>\\r\\n    <ToString>@{WinningDriver=Niki Lauda; HowMany=25}</ToString>\\r\\n    <Obj RefId=\\\"1\\\">\\r\\n      <TNRef RefId=\\\"0\\\" />\\r\\n      <MS>\\r\\n        <S N=\\\"WinningDriver\\\">Niki Lauda</S>\\r\\n        <I32 N=\\\"HowMany\\\">25</I32>\\r\\n      </MS>\\r\\n    </Obj>\\r\\n    <MS>\\r\\n      <S N=\\\"WinningDriver\\\">Niki Lauda</S>\\r\\n      <I32 N=\\\"HowMany\\\">25</I32>\\r\\n    </MS>\\r\\n  </Obj>\\r\\n</Objs>\"\r\n    },\r\n    {\r\n      \"CliXml\": \"<Objs Version=\\\"1.1.0.1\\\" xmlns=\\\"http://schemas.microsoft.com/powershell/2004/04\\\">\\r\\n  <Obj RefId=\\\"0\\\">\\r\\n    <TN RefId=\\\"0\\\">\\r\\n      <T>Selected.System.Data.DataRow</T>\\r\\n      <T>System.Management.Automation.PSCustomObject</T>\\r\\n      <T>System.Object</T>\\r\\n    </TN>\\r\\n    <ToString>@{WinningDriver=Jim Clark; HowMany=25}</ToString>\\r\\n    <Obj RefId=\\\"1\\\">\\r\\n      <TNRef RefId=\\\"0\\\" />\\r\\n      <MS>\\r\\n        <S N=\\\"WinningDriver\\\">Jim Clark</S>\\r\\n        <I32 N=\\\"HowMany\\\">25</I32>\\r\\n      </MS>\\r\\n    </Obj>\\r\\n    <MS>\\r\\n      <S N=\\\"WinningDriver\\\">Jim Clark</S>\\r\\n      <I32 N=\\\"HowMany\\\">25</I32>\\r\\n    </MS>\\r\\n  </Obj>\\r\\n</Objs>\"\r\n    },\r\n    {\r\n      \"CliXml\": \"<Objs Version=\\\"1.1.0.1\\\" xmlns=\\\"http://schemas.microsoft.com/powershell/2004/04\\\">\\r\\n  <Obj RefId=\\\"0\\\">\\r\\n    <TN RefId=\\\"0\\\">\\r\\n      <T>Selected.System.Data.DataRow</T>\\r\\n      <T>System.Management.Automation.PSCustomObject</T>\\r\\n      <T>System.Object</T>\\r\\n    </TN>\\r\\n    <ToString>@{WinningDriver=Nico Rosberg; HowMany=23}</ToString>\\r\\n    <Obj RefId=\\\"1\\\">\\r\\n      <TNRef RefId=\\\"0\\\" />\\r\\n      <MS>\\r\\n        <S N=\\\"WinningDriver\\\">Nico Rosberg</S>\\r\\n        <I32 N=\\\"HowMany\\\">23</I32>\\r\\n      </MS>\\r\\n    </Obj>\\r\\n    <MS>\\r\\n      <S N=\\\"WinningDriver\\\">Nico Rosberg</S>\\r\\n      <I32 N=\\\"HowMany\\\">23</I32>\\r\\n    </MS>\\r\\n  </Obj>\\r\\n</Objs>\"\r\n    },\r\n    {\r\n      \"CliXml\": \"<Objs Version=\\\"1.1.0.1\\\" xmlns=\\\"http://schemas.microsoft.com/powershell/2004/04\\\">\\r\\n  <Obj RefId=\\\"0\\\">\\r\\n    <TN RefId=\\\"0\\\">\\r\\n      <T>Selected.System.Data.DataRow</T>\\r\\n      <T>System.Management.Automation.PSCustomObject</T>\\r\\n      <T>System.Object</T>\\r\\n    </TN>\\r\\n    <ToString>@{WinningDriver=Nelson Piquet; HowMany=23}</ToString>\\r\\n    <Obj RefId=\\\"1\\\">\\r\\n      <TNRef RefId=\\\"0\\\" />\\r\\n      <MS>\\r\\n        <S N=\\\"WinningDriver\\\">Nelson Piquet</S>\\r\\n        <I32 N=\\\"HowMany\\\">23</I32>\\r\\n      </MS>\\r\\n    </Obj>\\r\\n    <MS>\\r\\n      <S N=\\\"WinningDriver\\\">Nelson Piquet</S>\\r\\n      <I32 N=\\\"HowMany\\\">23</I32>\\r\\n    </MS>\\r\\n  </Obj>\\r\\n</Objs>\"\r\n    },\r\n    {\r\n      \"CliXml\": \"<Objs Version=\\\"1.1.0.1\\\" xmlns=\\\"http://schemas.microsoft.com/powershell/2004/04\\\">\\r\\n  <Obj RefId=\\\"0\\\">\\r\\n    <TN RefId=\\\"0\\\">\\r\\n      <T>Selected.System.Data.DataRow</T>\\r\\n      <T>System.Management.Automation.PSCustomObject</T>\\r\\n      <T>System.Object</T>\\r\\n    </TN>\\r\\n    <ToString>@{WinningDriver=Juan Manuel Fangio; HowMany=23}</ToString>\\r\\n    <Obj RefId=\\\"1\\\">\\r\\n      <TNRef RefId=\\\"0\\\" />\\r\\n      <MS>\\r\\n        <S N=\\\"WinningDriver\\\">Juan Manuel Fangio</S>\\r\\n        <I32 N=\\\"HowMany\\\">23</I32>\\r\\n      </MS>\\r\\n    </Obj>\\r\\n    <MS>\\r\\n      <S N=\\\"WinningDriver\\\">Juan Manuel Fangio</S>\\r\\n      <I32 N=\\\"HowMany\\\">23</I32>\\r\\n    </MS>\\r\\n  </Obj>\\r\\n</Objs>\"\r\n    }\r\n  ]\r\n},\r\n            container: document.getElementById(\"85b225fa46ac49e99efca3241fa18403\")\r\n        });\r\n    },\r\n    (error) => {\r\n        console.log(error);\r\n    });\r\n};\r\n// ensure `require` is available globally\r\nif ((typeof(require) !==  typeof(Function)) || (typeof(require.config) !== typeof(Function))) {\r\n    let require_script = document.createElement('script');\r\n    require_script.setAttribute('src', 'https://cdnjs.cloudflare.com/ajax/libs/require.js/2.3.6/require.min.js');\r\n    require_script.setAttribute('type', 'text/javascript');\r\n    \r\n    \r\n    require_script.onload = function() {\r\n        renderDataExplorer_85b225fa46ac49e99efca3241fa18403();\r\n    };\r\n\r\n    document.getElementsByTagName('head')[0].appendChild(require_script);\r\n}\r\nelse {\r\n    renderDataExplorer_85b225fa46ac49e99efca3241fa18403();\r\n}\r\n\r\n </script>\r\n</div>\r\n"
     },
     "execution_count": 1,
     "metadata": {}
    }
   ]
  }
 ],
 "metadata": {
  "kernelspec": {
   "display_name": ".NET (C#)",
   "language": "C#",
   "name": ".net-csharp"
  },
  "language_info": {
   "file_extension": ".cs",
   "mimetype": "text/x-csharp",
   "name": "C#",
   "pygments_lexer": "csharp",
   "version": "8.0"
  }
 },
 "nbformat": 4,
 "nbformat_minor": 4
}