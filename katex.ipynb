{
 "cells": [
  {
   "cell_type": "markdown",
   "source": [
    "[More details about this markup](https://katex.org/docs/supported.html)"
   ],
   "metadata": {
    "dotnet_interactive": {
     "language": "pwsh"
    }
   }
  },
  {
   "cell_type": "markdown",
   "source": [
    "# Markdown $x^x$\r\n",
    "\r\n",
    "$$\r\n",
    "\\displaystyle {1 + \\frac{q^2}{(1-q)}+\\frac{q^6}{(1-q)(1-q^2)}+\\cdots} = \\prod_\r\n",
    "{j=0}^{\\infty}\\frac{1}{(1-q^{5j+2})}, \\quad\\quad \\text{for }\\lvert\r\n",
    "q\\rvert<1\r\n",
    "$$"
   ],
   "metadata": {}
  }
 ],
 "metadata": {
  "kernelspec": {
   "display_name": ".NET (C#)",
   "language": "C#",
   "name": ".net-csharp"
  },
  "language_info": {
   "name": "C#",
   "version": ""
  },
  "orig_nbformat": 2
 },
 "nbformat": 4,
 "nbformat_minor": 2
}