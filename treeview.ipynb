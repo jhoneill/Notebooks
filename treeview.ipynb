{
 "cells": [
  {
   "cell_type": "markdown",
   "metadata": {},
   "source": [
    "C# can show JSON as a tree view.\n",
    "Of course it is only outputting HTML so you could make your own treeview HTML and output it. "
   ]
  },
  {
   "cell_type": "code",
   "execution_count": null,
   "metadata": {
    "dotnet_interactive": {
     "language": "csharp"
    }
   },
   "outputs": [
    {
     "data": {
      "application/json": {
       "SomeNumbers": [
        1,
        2,
        3,
        4,
        5
       ],
       "hello": "world"
      }
     },
     "metadata": {},
     "output_type": "display_data"
    }
   ],
   "source": [
    "#!value --name json --mime-type application/json\n",
    "{ \"hello\": \"world\", \"SomeNumbers\": [1,2,3,4,5]}"
   ]
  },
  {
   "cell_type": "code",
   "execution_count": null,
   "metadata": {
    "dotnet_interactive": {
     "language": "csharp"
    }
   },
   "outputs": [
    {
     "data": {
      "text/html": [
       "<details class=\"dni-treeview\"><summary><span class=\"dni-code-hint\"><code>{ &quot;hello&quot;: &quot;world&quot;, &quot;SomeNumbers&quot;: [1,2,3,4,5]}</code></span></summary><div><table><thead><tr></tr></thead><tbody><tr><td>hello</td><td><span>&quot;world&quot;</span></td></tr><tr><td>SomeNumbers</td><td><details class=\"dni-treeview\"><summary><span class=\"dni-code-hint\"><code>[1,2,3,4,5]</code></span></summary><div><table><thead><tr></tr></thead><tbody><tr><td><span><div class=\"dni-plaintext\">1</div></span></td></tr><tr><td><span><div class=\"dni-plaintext\">2</div></span></td></tr><tr><td><span><div class=\"dni-plaintext\">3</div></span></td></tr><tr><td><span><div class=\"dni-plaintext\">4</div></span></td></tr><tr><td><span><div class=\"dni-plaintext\">5</div></span></td></tr></tbody></table></div></details></td></tr></tbody></table></div></details><style id=\"dni-styles-JsonElement\">    \r\n",
       ".dni-code-hint {\r\n",
       "    font-style: italic;\r\n",
       "    overflow: hidden;\r\n",
       "    white-space: nowrap;\r\n",
       "}\r\n",
       "\r\n",
       ".dni-treeview {\r\n",
       "    white-space: nowrap;\r\n",
       "}\r\n",
       "\r\n",
       ".dni-treeview td {\r\n",
       "    vertical-align: top;\r\n",
       "}\r\n",
       "\r\n",
       "details.dni-treeview {\r\n",
       "    padding-left: 1em;\r\n",
       "}</style>"
      ]
     },
     "metadata": {},
     "output_type": "display_data"
    }
   ],
   "source": [
    "#!share json --from value\n",
    "System.Text.Json.JsonDocument.Parse(json)"
   ]
  },
  {
   "cell_type": "code",
   "execution_count": null,
   "metadata": {
    "dotnet_interactive": {
     "language": "html"
    }
   },
   "outputs": [
    {
     "data": {
      "text/html": [
       "<details class=\"dni-treeview\">\r\n",
       "    <summary><span class=\"dni-code-hint\"><code>{ &quot;hello&quot;: &quot;world&quot;, &quot;SomeNumbers&quot;: [1,2,3,4,5]}</code></span></summary>\r\n",
       "    <div><table><thead><tr></tr></thead><tbody>\r\n",
       "        <tr><td>hello</td>      <td><span>&quot;world&quot;</span></td></tr>\r\n",
       "        <tr><td>SomeNumbers</td><td>\r\n",
       "            <details class=\"dni-treeview\">\r\n",
       "                <summary><span class=\"dni-code-hint\"><code>[1,2,3,4,5]</code></span></summary>\r\n",
       "                <div><table><thead><tr><td>wwww</td><td>xxx</td></tr></thead><tbody>\r\n",
       "                    <tr><td><span><div class=\"dni-plaintext\">1</div></span></td><td><span><div class=\"dni-plaintext\">A</div></span></td></tr>\r\n",
       "                    <tr><td><span><div class=\"dni-plaintext\">2</div></span></td><td><span><div class=\"dni-plaintext\">b</div></span></td></tr>\r\n",
       "                    <tr><td><span><div class=\"dni-plaintext\">3</div></span></td><td><span><div class=\"dni-plaintext\">c</div></span></td></tr>\r\n",
       "                    <tr><td><span><div class=\"dni-plaintext\">4</div></span></td><td><span><div class=\"dni-plaintext\">Delta</div></span></td></tr>\r\n",
       "                    <tr><td><span><div class=\"dni-plaintext\">5</div></span></td><td><span><div class=\"dni-plaintext\">Elephant</div></span></td></tr>\r\n",
       "                </tbody></table></div>\r\n",
       "            </details>\r\n",
       "        </td> </tr>\r\n",
       "    </tbody></table></div>\r\n",
       "</details>\r\n",
       "<style id=\"dni-styles-JsonElement\">\r\n",
       "    .dni-code-hint { font-style: italic; overflow: hidden;  white-space: nowrap;}\r\n",
       "    .dni-treeview  { white-space: nowrap; }\r\n",
       "    .dni-treeview td { vertical-align: top;}\r\n",
       "    details.dni-treeview {padding-left: 1em;}\r\n",
       "</style>"
      ]
     },
     "metadata": {},
     "output_type": "display_data"
    }
   ],
   "source": [
    "<details class=\"dni-treeview\">\n",
    "    <summary><span class=\"dni-code-hint\"><code>{ &quot;hello&quot;: &quot;world&quot;, &quot;SomeNumbers&quot;: [1,2,3,4,5]}</code></span></summary>\n",
    "    <div><table><thead><tr></tr></thead><tbody>\n",
    "        <tr><td>hello</td>      <td><span>&quot;world&quot;</span></td></tr>\n",
    "        <tr><td>SomeNumbers</td><td>\n",
    "            <details class=\"dni-treeview\">\n",
    "                <summary><span class=\"dni-code-hint\"><code>[1,2,3,4,5]</code></span></summary>\n",
    "                <div><table><thead><tr><td>wwww</td><td>xxx</td></tr></thead><tbody>\n",
    "                    <tr><td><span><div class=\"dni-plaintext\">1</div></span></td><td><span><div class=\"dni-plaintext\">A</div></span></td></tr>\n",
    "                    <tr><td><span><div class=\"dni-plaintext\">2</div></span></td><td><span><div class=\"dni-plaintext\">b</div></span></td></tr>\n",
    "                    <tr><td><span><div class=\"dni-plaintext\">3</div></span></td><td><span><div class=\"dni-plaintext\">c</div></span></td></tr>\n",
    "                    <tr><td><span><div class=\"dni-plaintext\">4</div></span></td><td><span><div class=\"dni-plaintext\">Delta</div></span></td></tr>\n",
    "                    <tr><td><span><div class=\"dni-plaintext\">5</div></span></td><td><span><div class=\"dni-plaintext\">Elephant</div></span></td></tr>\n",
    "                </tbody></table></div>\n",
    "            </details>\n",
    "        </td> </tr>\n",
    "    </tbody></table></div>\n",
    "</details>\n",
    "<style id=\"dni-styles-JsonElement\">\n",
    "    .dni-code-hint { font-style: italic; overflow: hidden;  white-space: nowrap;}\n",
    "    .dni-treeview  { white-space: nowrap; }\n",
    "    .dni-treeview td { vertical-align: top;}\n",
    "    details.dni-treeview {padding-left: 1em;}\n",
    "</style>"
   ]
  },
  {
   "cell_type": "code",
   "execution_count": null,
   "metadata": {
    "dotnet_interactive": {
     "language": "pwsh"
    }
   },
   "outputs": [
    {
     "data": {
      "text/html": [
       "<details class=\"dni-treeview\"><summary><span class=\"dni-code-hint\">Top Winners</span></summary><div><table>\r\n",
       "  <thead>\r\n",
       "    <tr><td>WinningDriver</td><td>HowMany</td></tr>\r\n",
       "  </thead>\r\n",
       "  <tbody>\r\n",
       "    <tr><td><span><div class=\"dni-plaintext\">Lewis Hamilton</div></span></td><td><span><div class=\"dni-plaintext\">103</div></span></td></tr>\r\n",
       "    <tr><td><span><div class=\"dni-plaintext\">Michael Schumacher</div></span></td><td><span><div class=\"dni-plaintext\">91</div></span></td></tr>\r\n",
       "    <tr><td><span><div class=\"dni-plaintext\">Sebastian Vettel</div></span></td><td><span><div class=\"dni-plaintext\">53</div></span></td></tr>\r\n",
       "    <tr><td><span><div class=\"dni-plaintext\">Alain Prost</div></span></td><td><span><div class=\"dni-plaintext\">51</div></span></td></tr>\r\n",
       "    <tr><td><span><div class=\"dni-plaintext\">Ayrton Senna</div></span></td><td><span><div class=\"dni-plaintext\">41</div></span></td></tr>\r\n",
       "    <tr><td><span><div class=\"dni-plaintext\">Fernando Alonso</div></span></td><td><span><div class=\"dni-plaintext\">32</div></span></td></tr>\r\n",
       "    <tr><td><span><div class=\"dni-plaintext\">Nigel Mansell</div></span></td><td><span><div class=\"dni-plaintext\">31</div></span></td></tr>\r\n",
       "    <tr><td><span><div class=\"dni-plaintext\">Jackie Stewart</div></span></td><td><span><div class=\"dni-plaintext\">27</div></span></td></tr>\r\n",
       "    <tr><td><span><div class=\"dni-plaintext\">Niki Lauda</div></span></td><td><span><div class=\"dni-plaintext\">25</div></span></td></tr>\r\n",
       "    <tr><td><span><div class=\"dni-plaintext\">Jim Clark</div></span></td><td><span><div class=\"dni-plaintext\">25</div></span></td></tr>\r\n",
       "    <tr><td><span><div class=\"dni-plaintext\">Nico Rosberg</div></span></td><td><span><div class=\"dni-plaintext\">23</div></span></td></tr>\r\n",
       "    <tr><td><span><div class=\"dni-plaintext\">Nelson Piquet</div></span></td><td><span><div class=\"dni-plaintext\">23</div></span></td></tr>\r\n",
       "    <tr><td><span><div class=\"dni-plaintext\">Juan Manuel Fangio</div></span></td><td><span><div class=\"dni-plaintext\">23</div></span></td></tr>\r\n",
       "  </tbody>\r\n",
       "</table></div></details>\r\n",
       "<style id=\"dni-styles-JsonElement\">\n",
       "    .dni-code-hint { font-style: italic; overflow: hidden;  white-space: nowrap;}\n",
       "    .dni-treeview  { white-space: nowrap; }\n",
       "    .dni-treeview td { vertical-align: top;}\n",
       "    details.dni-treeview {padding-left: 1em;}\n",
       "</style>"
      ]
     },
     "metadata": {},
     "output_type": "display_data"
    }
   ],
   "source": [
    ". .\\notebooks\\NotebookOutput.ps1 \n",
    "\n",
    "import-csv .\\notebooks\\wins.csv | Out-TreeView  -TitleHtml  'Top Winners'  -Display #or | out-display / out-cell\n",
    "\n",
    "\n"
   ]
  },
  {
   "cell_type": "code",
   "execution_count": null,
   "metadata": {
    "dotnet_interactive": {
     "language": "pwsh"
    }
   },
   "outputs": [
    {
     "data": {
      "text/html": [
       "<details class=\"dni-treeview\"><summary><span class=\"dni-code-hint\">Races</span></summary><div><table>\r\n",
       "  <thead>\r\n",
       "    <tr><td>date</td><td>race</td></tr>\r\n",
       "  </thead>\r\n",
       "  <tbody>\r\n",
       "    <tr><td><span><div class=\"dni-plaintext\">07/11/2021</div></span></td><td><span><div class=\"dni-plaintext\"><details class=\"dni-treeview\"><summary><span class=\"dni-code-hint\">Mexican</span></summary><div><table>\r\n",
       "  <thead>\r\n",
       "    <tr><td>RacePosition</td><td>DriverName</td><td>TeamName</td><td>GridPosition</td><td>FastestLap</td></tr>\r\n",
       "  </thead>\r\n",
       "  <tbody>\r\n",
       "    <tr><td><span><div class=\"dni-plaintext\">1</div></span></td><td><span><div class=\"dni-plaintext\">Max Verstappen</div></span></td><td><span><div class=\"dni-plaintext\">Red Bull Racing-Honda</div></span></td><td><span><div class=\"dni-plaintext\">3</div></span></td><td><span><div class=\"dni-plaintext\"></div></span></td></tr>\r\n",
       "    <tr><td><span><div class=\"dni-plaintext\">2</div></span></td><td><span><div class=\"dni-plaintext\">Lewis Hamilton</div></span></td><td><span><div class=\"dni-plaintext\">Mercedes</div></span></td><td><span><div class=\"dni-plaintext\">2</div></span></td><td><span><div class=\"dni-plaintext\"></div></span></td></tr>\r\n",
       "    <tr><td><span><div class=\"dni-plaintext\">3</div></span></td><td><span><div class=\"dni-plaintext\">Sergio Pérez</div></span></td><td><span><div class=\"dni-plaintext\">Red Bull Racing-Honda</div></span></td><td><span><div class=\"dni-plaintext\">4</div></span></td><td><span><div class=\"dni-plaintext\"></div></span></td></tr>\r\n",
       "    <tr><td><span><div class=\"dni-plaintext\">4</div></span></td><td><span><div class=\"dni-plaintext\">Pierre Gasly</div></span></td><td><span><div class=\"dni-plaintext\">AlphaTauri-Honda</div></span></td><td><span><div class=\"dni-plaintext\">5</div></span></td><td><span><div class=\"dni-plaintext\"></div></span></td></tr>\r\n",
       "    <tr><td><span><div class=\"dni-plaintext\">5</div></span></td><td><span><div class=\"dni-plaintext\">Charles Leclerc</div></span></td><td><span><div class=\"dni-plaintext\">Ferrari</div></span></td><td><span><div class=\"dni-plaintext\">8</div></span></td><td><span><div class=\"dni-plaintext\"></div></span></td></tr>\r\n",
       "    <tr><td><span><div class=\"dni-plaintext\">6</div></span></td><td><span><div class=\"dni-plaintext\">Carlos Sainz</div></span></td><td><span><div class=\"dni-plaintext\">Ferrari</div></span></td><td><span><div class=\"dni-plaintext\">6</div></span></td><td><span><div class=\"dni-plaintext\"></div></span></td></tr>\r\n",
       "    <tr><td><span><div class=\"dni-plaintext\">7</div></span></td><td><span><div class=\"dni-plaintext\">Sebastian Vettel</div></span></td><td><span><div class=\"dni-plaintext\">Aston Martin-Mercedes</div></span></td><td><span><div class=\"dni-plaintext\">9</div></span></td><td><span><div class=\"dni-plaintext\"></div></span></td></tr>\r\n",
       "    <tr><td><span><div class=\"dni-plaintext\">8</div></span></td><td><span><div class=\"dni-plaintext\">Kimi Räikkönen</div></span></td><td><span><div class=\"dni-plaintext\">Alfa Romeo-Ferrari</div></span></td><td><span><div class=\"dni-plaintext\">10</div></span></td><td><span><div class=\"dni-plaintext\"></div></span></td></tr>\r\n",
       "    <tr><td><span><div class=\"dni-plaintext\">9</div></span></td><td><span><div class=\"dni-plaintext\">Fernando Alonso</div></span></td><td><span><div class=\"dni-plaintext\">Alpine-Renault</div></span></td><td><span><div class=\"dni-plaintext\">12</div></span></td><td><span><div class=\"dni-plaintext\"></div></span></td></tr>\r\n",
       "    <tr><td><span><div class=\"dni-plaintext\">10</div></span></td><td><span><div class=\"dni-plaintext\">Lando Norris</div></span></td><td><span><div class=\"dni-plaintext\">McLaren-Mercedes</div></span></td><td><span><div class=\"dni-plaintext\">18</div></span></td><td><span><div class=\"dni-plaintext\"></div></span></td></tr>\r\n",
       "  </tbody>\r\n",
       "</table></div></details>\r\n",
       "</div></span></td></tr>\r\n",
       "    <tr><td><span><div class=\"dni-plaintext\">14/11/2021</div></span></td><td><span><div class=\"dni-plaintext\"><details class=\"dni-treeview\"><summary><span class=\"dni-code-hint\">Brazilian</span></summary><div><table>\r\n",
       "  <thead>\r\n",
       "    <tr><td>RacePosition</td><td>DriverName</td><td>TeamName</td><td>GridPosition</td><td>FastestLap</td></tr>\r\n",
       "  </thead>\r\n",
       "  <tbody>\r\n",
       "    <tr><td><span><div class=\"dni-plaintext\">1</div></span></td><td><span><div class=\"dni-plaintext\">Lewis Hamilton</div></span></td><td><span><div class=\"dni-plaintext\">Mercedes</div></span></td><td><span><div class=\"dni-plaintext\">10</div></span></td><td><span><div class=\"dni-plaintext\"></div></span></td></tr>\r\n",
       "    <tr><td><span><div class=\"dni-plaintext\">2</div></span></td><td><span><div class=\"dni-plaintext\">Max Verstappen</div></span></td><td><span><div class=\"dni-plaintext\">Red Bull Racing-Honda</div></span></td><td><span><div class=\"dni-plaintext\">2</div></span></td><td><span><div class=\"dni-plaintext\"></div></span></td></tr>\r\n",
       "    <tr><td><span><div class=\"dni-plaintext\">3</div></span></td><td><span><div class=\"dni-plaintext\">Valtteri Bottas</div></span></td><td><span><div class=\"dni-plaintext\">Mercedes</div></span></td><td><span><div class=\"dni-plaintext\">1</div></span></td><td><span><div class=\"dni-plaintext\"></div></span></td></tr>\r\n",
       "    <tr><td><span><div class=\"dni-plaintext\">4</div></span></td><td><span><div class=\"dni-plaintext\">Sergio Pérez</div></span></td><td><span><div class=\"dni-plaintext\">Red Bull Racing-Honda</div></span></td><td><span><div class=\"dni-plaintext\">4</div></span></td><td><span><div class=\"dni-plaintext\">*</div></span></td></tr>\r\n",
       "    <tr><td><span><div class=\"dni-plaintext\">5</div></span></td><td><span><div class=\"dni-plaintext\">Charles Leclerc</div></span></td><td><span><div class=\"dni-plaintext\">Ferrari</div></span></td><td><span><div class=\"dni-plaintext\">6</div></span></td><td><span><div class=\"dni-plaintext\"></div></span></td></tr>\r\n",
       "    <tr><td><span><div class=\"dni-plaintext\">6</div></span></td><td><span><div class=\"dni-plaintext\">Carlos Sainz</div></span></td><td><span><div class=\"dni-plaintext\">Ferrari</div></span></td><td><span><div class=\"dni-plaintext\">3</div></span></td><td><span><div class=\"dni-plaintext\"></div></span></td></tr>\r\n",
       "    <tr><td><span><div class=\"dni-plaintext\">7</div></span></td><td><span><div class=\"dni-plaintext\">Pierre Gasly</div></span></td><td><span><div class=\"dni-plaintext\">AlphaTauri-Honda</div></span></td><td><span><div class=\"dni-plaintext\">7</div></span></td><td><span><div class=\"dni-plaintext\"></div></span></td></tr>\r\n",
       "    <tr><td><span><div class=\"dni-plaintext\">8</div></span></td><td><span><div class=\"dni-plaintext\">Esteban Ocon</div></span></td><td><span><div class=\"dni-plaintext\">Alpine-Renault</div></span></td><td><span><div class=\"dni-plaintext\">8</div></span></td><td><span><div class=\"dni-plaintext\"></div></span></td></tr>\r\n",
       "    <tr><td><span><div class=\"dni-plaintext\">9</div></span></td><td><span><div class=\"dni-plaintext\">Fernando Alonso</div></span></td><td><span><div class=\"dni-plaintext\">Alpine-Renault</div></span></td><td><span><div class=\"dni-plaintext\">12</div></span></td><td><span><div class=\"dni-plaintext\"></div></span></td></tr>\r\n",
       "    <tr><td><span><div class=\"dni-plaintext\">10</div></span></td><td><span><div class=\"dni-plaintext\">Lando Norris</div></span></td><td><span><div class=\"dni-plaintext\">McLaren-Mercedes</div></span></td><td><span><div class=\"dni-plaintext\">5</div></span></td><td><span><div class=\"dni-plaintext\"></div></span></td></tr>\r\n",
       "  </tbody>\r\n",
       "</table></div></details>\r\n",
       "</div></span></td></tr>\r\n",
       "    <tr><td><span><div class=\"dni-plaintext\">21/11/2021</div></span></td><td><span><div class=\"dni-plaintext\"><details class=\"dni-treeview\"><summary><span class=\"dni-code-hint\">Qatar</span></summary><div><table>\r\n",
       "  <thead>\r\n",
       "    <tr><td>RacePosition</td><td>DriverName</td><td>TeamName</td><td>GridPosition</td><td>FastestLap</td></tr>\r\n",
       "  </thead>\r\n",
       "  <tbody>\r\n",
       "    <tr><td><span><div class=\"dni-plaintext\">1</div></span></td><td><span><div class=\"dni-plaintext\">Lewis Hamilton</div></span></td><td><span><div class=\"dni-plaintext\">Mercedes</div></span></td><td><span><div class=\"dni-plaintext\">1</div></span></td><td><span><div class=\"dni-plaintext\"></div></span></td></tr>\r\n",
       "    <tr><td><span><div class=\"dni-plaintext\">2</div></span></td><td><span><div class=\"dni-plaintext\">Max Verstappen</div></span></td><td><span><div class=\"dni-plaintext\">Red Bull Racing-Honda</div></span></td><td><span><div class=\"dni-plaintext\">7</div></span></td><td><span><div class=\"dni-plaintext\">*</div></span></td></tr>\r\n",
       "    <tr><td><span><div class=\"dni-plaintext\">3</div></span></td><td><span><div class=\"dni-plaintext\">Fernando Alonso</div></span></td><td><span><div class=\"dni-plaintext\">Alpine-Renault</div></span></td><td><span><div class=\"dni-plaintext\">3</div></span></td><td><span><div class=\"dni-plaintext\"></div></span></td></tr>\r\n",
       "    <tr><td><span><div class=\"dni-plaintext\">4</div></span></td><td><span><div class=\"dni-plaintext\">Sergio Pérez</div></span></td><td><span><div class=\"dni-plaintext\">Red Bull Racing-Honda</div></span></td><td><span><div class=\"dni-plaintext\">11</div></span></td><td><span><div class=\"dni-plaintext\"></div></span></td></tr>\r\n",
       "    <tr><td><span><div class=\"dni-plaintext\">5</div></span></td><td><span><div class=\"dni-plaintext\">Esteban Ocon</div></span></td><td><span><div class=\"dni-plaintext\">Alpine-Renault</div></span></td><td><span><div class=\"dni-plaintext\">9</div></span></td><td><span><div class=\"dni-plaintext\"></div></span></td></tr>\r\n",
       "    <tr><td><span><div class=\"dni-plaintext\">6</div></span></td><td><span><div class=\"dni-plaintext\">Lance Stroll</div></span></td><td><span><div class=\"dni-plaintext\">Aston Martin-Mercedes</div></span></td><td><span><div class=\"dni-plaintext\">12</div></span></td><td><span><div class=\"dni-plaintext\"></div></span></td></tr>\r\n",
       "    <tr><td><span><div class=\"dni-plaintext\">7</div></span></td><td><span><div class=\"dni-plaintext\">Carlos Sainz</div></span></td><td><span><div class=\"dni-plaintext\">Ferrari</div></span></td><td><span><div class=\"dni-plaintext\">5</div></span></td><td><span><div class=\"dni-plaintext\"></div></span></td></tr>\r\n",
       "    <tr><td><span><div class=\"dni-plaintext\">8</div></span></td><td><span><div class=\"dni-plaintext\">Charles Leclerc</div></span></td><td><span><div class=\"dni-plaintext\">Ferrari</div></span></td><td><span><div class=\"dni-plaintext\">13</div></span></td><td><span><div class=\"dni-plaintext\"></div></span></td></tr>\r\n",
       "    <tr><td><span><div class=\"dni-plaintext\">9</div></span></td><td><span><div class=\"dni-plaintext\">Lando Norris</div></span></td><td><span><div class=\"dni-plaintext\">McLaren-Mercedes</div></span></td><td><span><div class=\"dni-plaintext\">4</div></span></td><td><span><div class=\"dni-plaintext\"></div></span></td></tr>\r\n",
       "    <tr><td><span><div class=\"dni-plaintext\">10</div></span></td><td><span><div class=\"dni-plaintext\">Sebastian Vettel</div></span></td><td><span><div class=\"dni-plaintext\">Aston Martin-Mercedes</div></span></td><td><span><div class=\"dni-plaintext\">10</div></span></td><td><span><div class=\"dni-plaintext\"></div></span></td></tr>\r\n",
       "  </tbody>\r\n",
       "</table></div></details>\r\n",
       "</div></span></td></tr>\r\n",
       "    <tr><td><span><div class=\"dni-plaintext\">05/12/2021</div></span></td><td><span><div class=\"dni-plaintext\"><details class=\"dni-treeview\"><summary><span class=\"dni-code-hint\">Saudi Arabia</span></summary><div><table>\r\n",
       "  <thead>\r\n",
       "    <tr><td>RacePosition</td><td>DriverName</td><td>TeamName</td><td>GridPosition</td><td>FastestLap</td></tr>\r\n",
       "  </thead>\r\n",
       "  <tbody>\r\n",
       "    <tr><td><span><div class=\"dni-plaintext\">1</div></span></td><td><span><div class=\"dni-plaintext\">Lewis Hamilton</div></span></td><td><span><div class=\"dni-plaintext\">Mercedes</div></span></td><td><span><div class=\"dni-plaintext\">1</div></span></td><td><span><div class=\"dni-plaintext\">*</div></span></td></tr>\r\n",
       "    <tr><td><span><div class=\"dni-plaintext\">2</div></span></td><td><span><div class=\"dni-plaintext\">Max Verstappen</div></span></td><td><span><div class=\"dni-plaintext\">Red Bull Racing-Honda</div></span></td><td><span><div class=\"dni-plaintext\">3</div></span></td><td><span><div class=\"dni-plaintext\"></div></span></td></tr>\r\n",
       "    <tr><td><span><div class=\"dni-plaintext\">3</div></span></td><td><span><div class=\"dni-plaintext\">Valtteri Bottas</div></span></td><td><span><div class=\"dni-plaintext\">Mercedes</div></span></td><td><span><div class=\"dni-plaintext\">2</div></span></td><td><span><div class=\"dni-plaintext\"></div></span></td></tr>\r\n",
       "    <tr><td><span><div class=\"dni-plaintext\">4</div></span></td><td><span><div class=\"dni-plaintext\">Esteban Ocon</div></span></td><td><span><div class=\"dni-plaintext\">Alpine-Renault</div></span></td><td><span><div class=\"dni-plaintext\">9</div></span></td><td><span><div class=\"dni-plaintext\"></div></span></td></tr>\r\n",
       "    <tr><td><span><div class=\"dni-plaintext\">5</div></span></td><td><span><div class=\"dni-plaintext\">Daniel Ricciardo</div></span></td><td><span><div class=\"dni-plaintext\">McLaren-Mercedes</div></span></td><td><span><div class=\"dni-plaintext\">11</div></span></td><td><span><div class=\"dni-plaintext\"></div></span></td></tr>\r\n",
       "    <tr><td><span><div class=\"dni-plaintext\">6</div></span></td><td><span><div class=\"dni-plaintext\">Pierre Gasly</div></span></td><td><span><div class=\"dni-plaintext\">AlphaTauri-Honda</div></span></td><td><span><div class=\"dni-plaintext\">6</div></span></td><td><span><div class=\"dni-plaintext\"></div></span></td></tr>\r\n",
       "    <tr><td><span><div class=\"dni-plaintext\">7</div></span></td><td><span><div class=\"dni-plaintext\">Charles Leclerc</div></span></td><td><span><div class=\"dni-plaintext\">Ferrari</div></span></td><td><span><div class=\"dni-plaintext\">4</div></span></td><td><span><div class=\"dni-plaintext\"></div></span></td></tr>\r\n",
       "    <tr><td><span><div class=\"dni-plaintext\">8</div></span></td><td><span><div class=\"dni-plaintext\">Carlos Sainz</div></span></td><td><span><div class=\"dni-plaintext\">Ferrari</div></span></td><td><span><div class=\"dni-plaintext\">15</div></span></td><td><span><div class=\"dni-plaintext\"></div></span></td></tr>\r\n",
       "    <tr><td><span><div class=\"dni-plaintext\">9</div></span></td><td><span><div class=\"dni-plaintext\">Antonio Giovinazzi</div></span></td><td><span><div class=\"dni-plaintext\">Alfa Romeo-Ferrari</div></span></td><td><span><div class=\"dni-plaintext\">10</div></span></td><td><span><div class=\"dni-plaintext\"></div></span></td></tr>\r\n",
       "    <tr><td><span><div class=\"dni-plaintext\">10</div></span></td><td><span><div class=\"dni-plaintext\">Lando Norris</div></span></td><td><span><div class=\"dni-plaintext\">McLaren-Mercedes</div></span></td><td><span><div class=\"dni-plaintext\">7</div></span></td><td><span><div class=\"dni-plaintext\"></div></span></td></tr>\r\n",
       "  </tbody>\r\n",
       "</table></div></details>\r\n",
       "</div></span></td></tr>\r\n",
       "    <tr><td><span><div class=\"dni-plaintext\">12/12/2021</div></span></td><td><span><div class=\"dni-plaintext\"><details class=\"dni-treeview\"><summary><span class=\"dni-code-hint\">Abu Dhabi</span></summary><div><table>\r\n",
       "  <thead>\r\n",
       "    <tr><td>RacePosition</td><td>DriverName</td><td>TeamName</td><td>GridPosition</td><td>FastestLap</td></tr>\r\n",
       "  </thead>\r\n",
       "  <tbody>\r\n",
       "    <tr><td><span><div class=\"dni-plaintext\">1</div></span></td><td><span><div class=\"dni-plaintext\">Max Verstappen</div></span></td><td><span><div class=\"dni-plaintext\">Red Bull Racing-Honda</div></span></td><td><span><div class=\"dni-plaintext\">1</div></span></td><td><span><div class=\"dni-plaintext\">*</div></span></td></tr>\r\n",
       "    <tr><td><span><div class=\"dni-plaintext\">2</div></span></td><td><span><div class=\"dni-plaintext\">Lewis Hamilton</div></span></td><td><span><div class=\"dni-plaintext\">Mercedes</div></span></td><td><span><div class=\"dni-plaintext\">2</div></span></td><td><span><div class=\"dni-plaintext\"></div></span></td></tr>\r\n",
       "    <tr><td><span><div class=\"dni-plaintext\">3</div></span></td><td><span><div class=\"dni-plaintext\">Carlos Sainz</div></span></td><td><span><div class=\"dni-plaintext\">Ferrari</div></span></td><td><span><div class=\"dni-plaintext\">5</div></span></td><td><span><div class=\"dni-plaintext\"></div></span></td></tr>\r\n",
       "    <tr><td><span><div class=\"dni-plaintext\">4</div></span></td><td><span><div class=\"dni-plaintext\">Yuki Tsunoda</div></span></td><td><span><div class=\"dni-plaintext\">AlphaTauri-Honda</div></span></td><td><span><div class=\"dni-plaintext\">8</div></span></td><td><span><div class=\"dni-plaintext\"></div></span></td></tr>\r\n",
       "    <tr><td><span><div class=\"dni-plaintext\">5</div></span></td><td><span><div class=\"dni-plaintext\">Pierre Gasly</div></span></td><td><span><div class=\"dni-plaintext\">AlphaTauri-Honda</div></span></td><td><span><div class=\"dni-plaintext\">12</div></span></td><td><span><div class=\"dni-plaintext\"></div></span></td></tr>\r\n",
       "    <tr><td><span><div class=\"dni-plaintext\">6</div></span></td><td><span><div class=\"dni-plaintext\">Valtteri Bottas</div></span></td><td><span><div class=\"dni-plaintext\">Mercedes</div></span></td><td><span><div class=\"dni-plaintext\">6</div></span></td><td><span><div class=\"dni-plaintext\"></div></span></td></tr>\r\n",
       "    <tr><td><span><div class=\"dni-plaintext\">7</div></span></td><td><span><div class=\"dni-plaintext\">Lando Norris</div></span></td><td><span><div class=\"dni-plaintext\">McLaren-Mercedes</div></span></td><td><span><div class=\"dni-plaintext\">3</div></span></td><td><span><div class=\"dni-plaintext\"></div></span></td></tr>\r\n",
       "    <tr><td><span><div class=\"dni-plaintext\">8</div></span></td><td><span><div class=\"dni-plaintext\">Fernando Alonso</div></span></td><td><span><div class=\"dni-plaintext\">Alpine-Renault</div></span></td><td><span><div class=\"dni-plaintext\">11</div></span></td><td><span><div class=\"dni-plaintext\"></div></span></td></tr>\r\n",
       "    <tr><td><span><div class=\"dni-plaintext\">9</div></span></td><td><span><div class=\"dni-plaintext\">Esteban Ocon</div></span></td><td><span><div class=\"dni-plaintext\">Alpine-Renault</div></span></td><td><span><div class=\"dni-plaintext\">9</div></span></td><td><span><div class=\"dni-plaintext\"></div></span></td></tr>\r\n",
       "    <tr><td><span><div class=\"dni-plaintext\">10</div></span></td><td><span><div class=\"dni-plaintext\">Charles Leclerc</div></span></td><td><span><div class=\"dni-plaintext\">Ferrari</div></span></td><td><span><div class=\"dni-plaintext\">7</div></span></td><td><span><div class=\"dni-plaintext\"></div></span></td></tr>\r\n",
       "  </tbody>\r\n",
       "</table></div></details>\r\n",
       "</div></span></td></tr>\r\n",
       "  </tbody>\r\n",
       "</table></div></details>\r\n",
       "<style id=\"dni-styles-JsonElement\">\n",
       "    .dni-code-hint { font-style: italic; overflow: hidden;  white-space: nowrap;}\n",
       "    .dni-treeview  { white-space: nowrap; }\n",
       "    .dni-treeview td { vertical-align: top;}\n",
       "    details.dni-treeview {padding-left: 1em;}\n",
       "</style>"
      ]
     },
     "metadata": {},
     "output_type": "display_data"
    }
   ],
   "source": [
    "$propertiesToShow = @('RacePosition', 'Drivername', 'TeamName', 'GridPosition', 'FastestLap')\n",
    "Import-Csv .\\notebooks\\RaceResults.csv | \n",
    "    Group-object -property @{e={[convert]::ToDateTime($_.RaceDate).ToString('yyyyMMdd')}} | \n",
    "        Foreach-Object {\n",
    "            $g = $_.Group\n",
    "            [pscustomobject]@{date = $g[0].RaceDate; race =  (Out-TreeView $g -Property $propertiesToShow -TitleHtml $g[0].RaceName)}     \n",
    "        } | Out-TreeView -Title Races -Display"
   ]
  }
 ],
 "metadata": {
  "kernelspec": {
   "display_name": ".NET (C#)",
   "language": "C#",
   "name": ".net-csharp"
  },
  "language_info": {
   "name": "C#",
   "version": ""
  },
  "orig_nbformat": 2
 },
 "nbformat": 4,
 "nbformat_minor": 2
}
