{
 "cells": [
  {
   "cell_type": "markdown",
   "source": [
    "C# can show JSON as a tree view.\r\n",
    "Of course it is only outputting HTML so you could make your own treeview HTML and output it. "
   ],
   "metadata": {}
  },
  {
   "cell_type": "code",
   "execution_count": null,
   "source": [
    "#!value --name json --mime-type application/json\r\n",
    "{ \"hello\": \"world\", \"SomeNumbers\": [1,2,3,4,5]}"
   ],
   "outputs": [
    {
     "output_type": "display_data",
     "data": {
      "application/json": {
       "hello": "world",
       "SomeNumbers": [
        1,
        2,
        3,
        4,
        5
       ]
      }
     },
     "metadata": {}
    }
   ],
   "metadata": {
    "dotnet_interactive": {
     "language": "csharp"
    }
   }
  },
  {
   "cell_type": "code",
   "execution_count": null,
   "source": [
    "#!share json --from value\r\n",
    "System.Text.Json.JsonDocument.Parse(json)"
   ],
   "outputs": [
    {
     "output_type": "display_data",
     "data": {
      "text/html": [
       "<details class=\"dni-treeview\"><summary><span class=\"dni-code-hint\"><code>{ &quot;hello&quot;: &quot;world&quot;, &quot;SomeNumbers&quot;: [1,2,3,4,5]}</code></span></summary><div><table><thead><tr></tr></thead><tbody><tr><td>hello</td><td><span>&quot;world&quot;</span></td></tr><tr><td>SomeNumbers</td><td><details class=\"dni-treeview\"><summary><span class=\"dni-code-hint\"><code>[1,2,3,4,5]</code></span></summary><div><table><thead><tr></tr></thead><tbody><tr><td><span><div class=\"dni-plaintext\">1</div></span></td></tr><tr><td><span><div class=\"dni-plaintext\">2</div></span></td></tr><tr><td><span><div class=\"dni-plaintext\">3</div></span></td></tr><tr><td><span><div class=\"dni-plaintext\">4</div></span></td></tr><tr><td><span><div class=\"dni-plaintext\">5</div></span></td></tr></tbody></table></div></details></td></tr></tbody></table></div></details><style id=\"dni-styles-JsonElement\">    \r\n",
       ".dni-code-hint {\r\n",
       "    font-style: italic;\r\n",
       "    overflow: hidden;\r\n",
       "    white-space: nowrap;\r\n",
       "}\r\n",
       "\r\n",
       ".dni-treeview {\r\n",
       "    white-space: nowrap;\r\n",
       "}\r\n",
       "\r\n",
       ".dni-treeview td {\r\n",
       "    vertical-align: top;\r\n",
       "}\r\n",
       "\r\n",
       "details.dni-treeview {\r\n",
       "    padding-left: 1em;\r\n",
       "}</style>"
      ]
     },
     "metadata": {}
    }
   ],
   "metadata": {
    "dotnet_interactive": {
     "language": "csharp"
    }
   }
  },
  {
   "cell_type": "code",
   "execution_count": null,
   "source": [
    "<details class=\"dni-treeview\">\r\n",
    "    <summary><span class=\"dni-code-hint\"> <code>{ &quot;hello&quot;: &quot;world&quot;, &quot;SomeNumbers&quot;: [1,2,3,4,5]}</code></span></summary>\r\n",
    "    <div><table>\r\n",
    "        <thead><tr></tr></thead>\r\n",
    "        <tbody>\r\n",
    "            <tr><td>hello</td>      <td><span>&quot;world&quot;</span></td></tr>\r\n",
    "            <tr><td>SomeNumbers</td><td><details class=\"dni-treeview\">\r\n",
    "                <summary><span class=\"dni-code-hint\"><code>[1,2,3,4,5]</code></span></summary>\r\n",
    "                    <div><table><thead><tr></tr></thead>\r\n",
    "                        <tbody>\r\n",
    "                            <tr><td><span><div class=\"dni-plaintext\">1</div></span></td></tr>\r\n",
    "                            <tr><td><span><div class=\"dni-plaintext\">2</div></span></td></tr>\r\n",
    "                            <tr><td><span><div class=\"dni-plaintext\">3</div></span></td></tr>\r\n",
    "                            <tr><td><span><div class=\"dni-plaintext\">4</div></span></td></tr>\r\n",
    "                            <tr><td><span><div class=\"dni-plaintext\">5</div></span></td></tr>\r\n",
    "                        </tbody>\r\n",
    "                    </table></div>\r\n",
    "            </details></td> </tr>\r\n",
    "        </tbody>\r\n",
    "    </table></div>\r\n",
    "</details>\r\n",
    "<style id=\"dni-styles-JsonElement\">\r\n",
    "    .dni-code-hint {\r\n",
    "        font-style: italic;\r\n",
    "        overflow: hidden;\r\n",
    "        white-space: nowrap;\r\n",
    "    }\r\n",
    "    \r\n",
    "    .dni-treeview {\r\n",
    "        white-space: nowrap;\r\n",
    "    }\r\n",
    "    .dni-treeview td {\r\n",
    "        vertical-align: top;\r\n",
    "    }\r\n",
    "    \r\n",
    "    details.dni-treeview {\r\n",
    "        padding-left: 1em;\r\n",
    "    }\r\n",
    "</style>\r\n"
   ],
   "outputs": [
    {
     "data": {
      "text/html": [
       "<details class=\"dni-treeview\">\r\n",
       "    <summary><span class=\"dni-code-hint\"> <code>{ &quot;hello&quot;: &quot;world&quot;, &quot;SomeNumbers&quot;: [1,2,3,4,5]}</code></span></summary>\r\n",
       "    <div><table>\r\n",
       "        <thead><tr></tr></thead>\r\n",
       "        <tbody>\r\n",
       "            <tr><td>hello</td>      <td><span>&quot;world&quot;</span></td></tr>\r\n",
       "            <tr><td>SomeNumbers</td><td><details class=\"dni-treeview\">\r\n",
       "                <summary><span class=\"dni-code-hint\"><code>[1,2,3,4,5]</code></span></summary>\r\n",
       "                    <div><table><thead><tr></tr></thead>\r\n",
       "                        <tbody>\r\n",
       "                            <tr><td><span><div class=\"dni-plaintext\">1</div></span></td></tr>\r\n",
       "                            <tr><td><span><div class=\"dni-plaintext\">2</div></span></td></tr>\r\n",
       "                            <tr><td><span><div class=\"dni-plaintext\">3</div></span></td></tr>\r\n",
       "                            <tr><td><span><div class=\"dni-plaintext\">4</div></span></td></tr>\r\n",
       "                            <tr><td><span><div class=\"dni-plaintext\">5</div></span></td></tr>\r\n",
       "                        </tbody>\r\n",
       "                    </table></div>\r\n",
       "            </details></td> </tr>\r\n",
       "        </tbody>\r\n",
       "    </table></div>\r\n",
       "</details>\r\n",
       "<style id=\"dni-styles-JsonElement\">\r\n",
       "    .dni-code-hint {\r\n",
       "        font-style: italic;\r\n",
       "        overflow: hidden;\r\n",
       "        white-space: nowrap;\r\n",
       "    }\r\n",
       "    \r\n",
       "    .dni-treeview {\r\n",
       "        white-space: nowrap;\r\n",
       "    }\r\n",
       "    .dni-treeview td {\r\n",
       "        vertical-align: top;\r\n",
       "    }\r\n",
       "    \r\n",
       "    details.dni-treeview {\r\n",
       "        padding-left: 1em;\r\n",
       "    }\r\n",
       "</style>\r\n"
      ]
     },
     "metadata": {},
     "output_type": "display_data"
    }
   ],
   "metadata": {
    "dotnet_interactive": {
     "language": "html"
    }
   }
  }
 ],
 "metadata": {
  "kernelspec": {
   "display_name": ".NET (C#)",
   "language": "C#",
   "name": ".net-csharp"
  },
  "language_info": {
   "name": "C#",
   "version": ""
  },
  "orig_nbformat": 2
 },
 "nbformat": 4,
 "nbformat_minor": 2
}